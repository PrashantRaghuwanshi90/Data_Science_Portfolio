{
 "cells": [
  {
   "cell_type": "markdown",
   "metadata": {},
   "source": [
    "<img src=\"https://centrofnv.cl/wp-content/uploads/2015/07/banner.jpg\" align=\"left\" style=\"height:320px\">"
   ]
  },
  {
   "cell_type": "markdown",
   "metadata": {},
   "source": [
    "# <div style=\"color:white;display:fill;border-radius:5px;background-color:#84A3C3;overflow:hidden\"><p style=\"padding:20px;color:white;overflow:hidden;font-size:100%;margin:0\"><b>1 |</b> Business Objective</p></div>\n",
    "In this notebook, I will analyze a health insurance company's data to predict future insurance claim amounts and identify factors that lead to higher healthcare costs. The [insurance dataset](https://www.kaggle.com/mirichoi0218/insurance) consists of 1,338 policyholders with 7 attributes that describe their health and demographic information, including their age, gender, BMI, and smoking status. The variable we would like to predict is the total claim amount, `charges`, that were billed to the insurance company. To provide a more targeted cost prediction, I will build a model for each of the four regions where the company's policyholders reside in: the Southwest, Southeast, Northwest, and Northeast regions."
   ]
  },
  {
   "cell_type": "markdown",
   "metadata": {},
   "source": [
    "# <div style=\"color:white;display:fill;border-radius:5px;background-color:#84A3C3;overflow:hidden\"><p style=\"padding:20px;color:white;overflow:hidden;font-size:100%;margin:0\"><b>2 |</b> Data Overview</p></div>"
   ]
  },
  {
   "cell_type": "code",
   "execution_count": 2,
   "metadata": {
    "_kg_hide-input": true,
    "execution": {
     "iopub.execute_input": "2022-03-18T02:38:18.464042Z",
     "iopub.status.busy": "2022-03-18T02:38:18.462977Z",
     "iopub.status.idle": "2022-03-18T02:38:18.495169Z",
     "shell.execute_reply": "2022-03-18T02:38:18.494265Z",
     "shell.execute_reply.started": "2022-03-18T02:38:18.463995Z"
    }
   },
   "outputs": [
    {
     "name": "stdout",
     "output_type": "stream",
     "text": [
      "There are 1,338 observations and 7 columns in the data set.\n",
      "There are 0 missing values in the data.\n"
     ]
    }
   ],
   "source": [
    "import numpy as np\n",
    "import pandas as pd\n",
    "import seaborn as sns\n",
    "import matplotlib.pyplot as plt\n",
    "import plotly.express as px\n",
    "import plotly.graph_objects as go\n",
    "from plotly.offline import plot, iplot, init_notebook_mode\n",
    "from sklearn.preprocessing import StandardScaler, PolynomialFeatures\n",
    "from sklearn.decomposition import PCA\n",
    "from sklearn.linear_model import LinearRegression\n",
    "from sklearn.neighbors import KNeighborsRegressor\n",
    "from sklearn.svm import SVR\n",
    "from sklearn.ensemble import GradientBoostingRegressor\n",
    "from sklearn.model_selection import train_test_split, RandomizedSearchCV\n",
    "from sklearn.metrics import r2_score, mean_squared_error\n",
    "import warnings\n",
    "warnings.filterwarnings(\"ignore\")\n",
    "\n",
    "# Load data\n",
    "ins = pd.read_csv(\"insurance.csv\")\n",
    "print(\"There are {:,} observations and {} columns in the data set.\".format(ins.shape[0], ins.shape[1]))\n",
    "print(\"There are {} missing values in the data.\".format(ins.isna().sum().sum()))\n",
    "ins['sex'] = ins['sex'].str.capitalize()\n",
    "ins['smoker'] = ins['smoker'].apply(lambda x: 'Smoker' if x=='yes' else 'Non-Smoker')\n",
    "ins['region'] = ins['region'].str.capitalize()"
   ]
  },
  {
   "cell_type": "code",
   "execution_count": 3,
   "metadata": {},
   "outputs": [
    {
     "data": {
      "text/html": [
       "<div>\n",
       "<style scoped>\n",
       "    .dataframe tbody tr th:only-of-type {\n",
       "        vertical-align: middle;\n",
       "    }\n",
       "\n",
       "    .dataframe tbody tr th {\n",
       "        vertical-align: top;\n",
       "    }\n",
       "\n",
       "    .dataframe thead th {\n",
       "        text-align: right;\n",
       "    }\n",
       "</style>\n",
       "<table border=\"1\" class=\"dataframe\">\n",
       "  <thead>\n",
       "    <tr style=\"text-align: right;\">\n",
       "      <th></th>\n",
       "      <th>age</th>\n",
       "      <th>sex</th>\n",
       "      <th>bmi</th>\n",
       "      <th>children</th>\n",
       "      <th>smoker</th>\n",
       "      <th>region</th>\n",
       "      <th>charges</th>\n",
       "    </tr>\n",
       "  </thead>\n",
       "  <tbody>\n",
       "    <tr>\n",
       "      <th>0</th>\n",
       "      <td>19</td>\n",
       "      <td>Female</td>\n",
       "      <td>27.900</td>\n",
       "      <td>0</td>\n",
       "      <td>Smoker</td>\n",
       "      <td>Southwest</td>\n",
       "      <td>16884.92400</td>\n",
       "    </tr>\n",
       "    <tr>\n",
       "      <th>1</th>\n",
       "      <td>18</td>\n",
       "      <td>Male</td>\n",
       "      <td>33.770</td>\n",
       "      <td>1</td>\n",
       "      <td>Non-Smoker</td>\n",
       "      <td>Southeast</td>\n",
       "      <td>1725.55230</td>\n",
       "    </tr>\n",
       "    <tr>\n",
       "      <th>2</th>\n",
       "      <td>28</td>\n",
       "      <td>Male</td>\n",
       "      <td>33.000</td>\n",
       "      <td>3</td>\n",
       "      <td>Non-Smoker</td>\n",
       "      <td>Southeast</td>\n",
       "      <td>4449.46200</td>\n",
       "    </tr>\n",
       "    <tr>\n",
       "      <th>3</th>\n",
       "      <td>33</td>\n",
       "      <td>Male</td>\n",
       "      <td>22.705</td>\n",
       "      <td>0</td>\n",
       "      <td>Non-Smoker</td>\n",
       "      <td>Northwest</td>\n",
       "      <td>21984.47061</td>\n",
       "    </tr>\n",
       "    <tr>\n",
       "      <th>4</th>\n",
       "      <td>32</td>\n",
       "      <td>Male</td>\n",
       "      <td>28.880</td>\n",
       "      <td>0</td>\n",
       "      <td>Non-Smoker</td>\n",
       "      <td>Northwest</td>\n",
       "      <td>3866.85520</td>\n",
       "    </tr>\n",
       "  </tbody>\n",
       "</table>\n",
       "</div>"
      ],
      "text/plain": [
       "   age     sex     bmi  children      smoker     region      charges\n",
       "0   19  Female  27.900         0      Smoker  Southwest  16884.92400\n",
       "1   18    Male  33.770         1  Non-Smoker  Southeast   1725.55230\n",
       "2   28    Male  33.000         3  Non-Smoker  Southeast   4449.46200\n",
       "3   33    Male  22.705         0  Non-Smoker  Northwest  21984.47061\n",
       "4   32    Male  28.880         0  Non-Smoker  Northwest   3866.85520"
      ]
     },
     "execution_count": 3,
     "metadata": {},
     "output_type": "execute_result"
    }
   ],
   "source": [
    "ins.head()"
   ]
  },
  {
   "cell_type": "markdown",
   "metadata": {},
   "source": [
    "## <b><span style='color:#5477A5'>2.1</span> | Summary Statistics of Numeric Columns</b>"
   ]
  },
  {
   "cell_type": "code",
   "execution_count": 2,
   "metadata": {
    "_kg_hide-input": true,
    "execution": {
     "iopub.execute_input": "2022-01-25T00:40:28.350275Z",
     "iopub.status.busy": "2022-01-25T00:40:28.349974Z",
     "iopub.status.idle": "2022-01-25T00:40:28.378732Z",
     "shell.execute_reply": "2022-01-25T00:40:28.378051Z",
     "shell.execute_reply.started": "2022-01-25T00:40:28.350245Z"
    }
   },
   "outputs": [
    {
     "data": {
      "text/html": [
       "<div>\n",
       "<style scoped>\n",
       "    .dataframe tbody tr th:only-of-type {\n",
       "        vertical-align: middle;\n",
       "    }\n",
       "\n",
       "    .dataframe tbody tr th {\n",
       "        vertical-align: top;\n",
       "    }\n",
       "\n",
       "    .dataframe thead th {\n",
       "        text-align: right;\n",
       "    }\n",
       "</style>\n",
       "<table border=\"1\" class=\"dataframe\">\n",
       "  <thead>\n",
       "    <tr style=\"text-align: right;\">\n",
       "      <th></th>\n",
       "      <th>count</th>\n",
       "      <th>mean</th>\n",
       "      <th>std</th>\n",
       "      <th>min</th>\n",
       "      <th>25%</th>\n",
       "      <th>50%</th>\n",
       "      <th>75%</th>\n",
       "      <th>max</th>\n",
       "    </tr>\n",
       "  </thead>\n",
       "  <tbody>\n",
       "    <tr>\n",
       "      <th>age</th>\n",
       "      <td>1338.0</td>\n",
       "      <td>39.207025</td>\n",
       "      <td>14.049960</td>\n",
       "      <td>18.0000</td>\n",
       "      <td>27.00000</td>\n",
       "      <td>39.000</td>\n",
       "      <td>51.000000</td>\n",
       "      <td>64.00000</td>\n",
       "    </tr>\n",
       "    <tr>\n",
       "      <th>bmi</th>\n",
       "      <td>1338.0</td>\n",
       "      <td>30.663397</td>\n",
       "      <td>6.098187</td>\n",
       "      <td>15.9600</td>\n",
       "      <td>26.29625</td>\n",
       "      <td>30.400</td>\n",
       "      <td>34.693750</td>\n",
       "      <td>53.13000</td>\n",
       "    </tr>\n",
       "    <tr>\n",
       "      <th>children</th>\n",
       "      <td>1338.0</td>\n",
       "      <td>1.094918</td>\n",
       "      <td>1.205493</td>\n",
       "      <td>0.0000</td>\n",
       "      <td>0.00000</td>\n",
       "      <td>1.000</td>\n",
       "      <td>2.000000</td>\n",
       "      <td>5.00000</td>\n",
       "    </tr>\n",
       "    <tr>\n",
       "      <th>charges</th>\n",
       "      <td>1338.0</td>\n",
       "      <td>13270.422265</td>\n",
       "      <td>12110.011237</td>\n",
       "      <td>1121.8739</td>\n",
       "      <td>4740.28715</td>\n",
       "      <td>9382.033</td>\n",
       "      <td>16639.912515</td>\n",
       "      <td>63770.42801</td>\n",
       "    </tr>\n",
       "  </tbody>\n",
       "</table>\n",
       "</div>"
      ],
      "text/plain": [
       "           count          mean           std        min         25%       50%  \\\n",
       "age       1338.0     39.207025     14.049960    18.0000    27.00000    39.000   \n",
       "bmi       1338.0     30.663397      6.098187    15.9600    26.29625    30.400   \n",
       "children  1338.0      1.094918      1.205493     0.0000     0.00000     1.000   \n",
       "charges   1338.0  13270.422265  12110.011237  1121.8739  4740.28715  9382.033   \n",
       "\n",
       "                   75%          max  \n",
       "age          51.000000     64.00000  \n",
       "bmi          34.693750     53.13000  \n",
       "children      2.000000      5.00000  \n",
       "charges   16639.912515  63770.42801  "
      ]
     },
     "execution_count": 2,
     "metadata": {},
     "output_type": "execute_result"
    }
   ],
   "source": [
    "ins.describe().T"
   ]
  },
  {
   "cell_type": "markdown",
   "metadata": {},
   "source": [
    "## <b><span style='color:#5775A4'>2.2</span> | Summary Statistics of Categorical Columns</b>"
   ]
  },
  {
   "cell_type": "code",
   "execution_count": 3,
   "metadata": {
    "_kg_hide-input": true,
    "execution": {
     "iopub.execute_input": "2022-01-25T00:40:33.14695Z",
     "iopub.status.busy": "2022-01-25T00:40:33.146297Z",
     "iopub.status.idle": "2022-01-25T00:40:33.173058Z",
     "shell.execute_reply": "2022-01-25T00:40:33.171709Z",
     "shell.execute_reply.started": "2022-01-25T00:40:33.146896Z"
    }
   },
   "outputs": [
    {
     "data": {
      "text/html": [
       "<div>\n",
       "<style scoped>\n",
       "    .dataframe tbody tr th:only-of-type {\n",
       "        vertical-align: middle;\n",
       "    }\n",
       "\n",
       "    .dataframe tbody tr th {\n",
       "        vertical-align: top;\n",
       "    }\n",
       "\n",
       "    .dataframe thead th {\n",
       "        text-align: right;\n",
       "    }\n",
       "</style>\n",
       "<table border=\"1\" class=\"dataframe\">\n",
       "  <thead>\n",
       "    <tr style=\"text-align: right;\">\n",
       "      <th></th>\n",
       "      <th>sex</th>\n",
       "      <th>smoker</th>\n",
       "      <th>region</th>\n",
       "    </tr>\n",
       "  </thead>\n",
       "  <tbody>\n",
       "    <tr>\n",
       "      <th>count</th>\n",
       "      <td>1338</td>\n",
       "      <td>1338</td>\n",
       "      <td>1338</td>\n",
       "    </tr>\n",
       "    <tr>\n",
       "      <th>unique</th>\n",
       "      <td>2</td>\n",
       "      <td>2</td>\n",
       "      <td>4</td>\n",
       "    </tr>\n",
       "    <tr>\n",
       "      <th>top</th>\n",
       "      <td>Male</td>\n",
       "      <td>Non-Smoker</td>\n",
       "      <td>Southeast</td>\n",
       "    </tr>\n",
       "    <tr>\n",
       "      <th>freq</th>\n",
       "      <td>676</td>\n",
       "      <td>1064</td>\n",
       "      <td>364</td>\n",
       "    </tr>\n",
       "  </tbody>\n",
       "</table>\n",
       "</div>"
      ],
      "text/plain": [
       "         sex      smoker     region\n",
       "count   1338        1338       1338\n",
       "unique     2           2          4\n",
       "top     Male  Non-Smoker  Southeast\n",
       "freq     676        1064        364"
      ]
     },
     "execution_count": 3,
     "metadata": {},
     "output_type": "execute_result"
    }
   ],
   "source": [
    "ins.select_dtypes(include=['object']).describe()"
   ]
  },
  {
   "cell_type": "code",
   "execution_count": 4,
   "metadata": {
    "_kg_hide-input": true,
    "execution": {
     "iopub.execute_input": "2022-01-25T00:38:25.263116Z",
     "iopub.status.busy": "2022-01-25T00:38:25.262166Z",
     "iopub.status.idle": "2022-01-25T00:38:25.297065Z",
     "shell.execute_reply": "2022-01-25T00:38:25.296256Z",
     "shell.execute_reply.started": "2022-01-25T00:38:25.26306Z"
    }
   },
   "outputs": [
    {
     "data": {
      "text/html": [
       "<style  type=\"text/css\" >\n",
       "</style><table id=\"T_7782a_\" ><caption>Variable: sex</caption><thead>    <tr>        <th class=\"blank level0\" ></th>        <th class=\"col_heading level0 col0\" >Number of Policyholders</th>        <th class=\"col_heading level0 col1\" >Average Claim Amount</th>    </tr></thead><tbody>\n",
       "                <tr>\n",
       "                        <th id=\"T_7782a_level0_row0\" class=\"row_heading level0 row0\" >Male</th>\n",
       "                        <td id=\"T_7782a_row0_col0\" class=\"data row0 col0\" >676</td>\n",
       "                        <td id=\"T_7782a_row0_col1\" class=\"data row0 col1\" >$13,956.75</td>\n",
       "            </tr>\n",
       "            <tr>\n",
       "                        <th id=\"T_7782a_level0_row1\" class=\"row_heading level0 row1\" >Female</th>\n",
       "                        <td id=\"T_7782a_row1_col0\" class=\"data row1 col0\" >662</td>\n",
       "                        <td id=\"T_7782a_row1_col1\" class=\"data row1 col1\" >$12,569.58</td>\n",
       "            </tr>\n",
       "    </tbody></table>"
      ],
      "text/plain": [
       "<pandas.io.formats.style.Styler at 0x18152583790>"
      ]
     },
     "metadata": {},
     "output_type": "display_data"
    },
    {
     "data": {
      "text/html": [
       "<style  type=\"text/css\" >\n",
       "</style><table id=\"T_c0649_\" ><caption>Variable: smoker</caption><thead>    <tr>        <th class=\"blank level0\" ></th>        <th class=\"col_heading level0 col0\" >Number of Policyholders</th>        <th class=\"col_heading level0 col1\" >Average Claim Amount</th>    </tr></thead><tbody>\n",
       "                <tr>\n",
       "                        <th id=\"T_c0649_level0_row0\" class=\"row_heading level0 row0\" >Non-Smoker</th>\n",
       "                        <td id=\"T_c0649_row0_col0\" class=\"data row0 col0\" >1064</td>\n",
       "                        <td id=\"T_c0649_row0_col1\" class=\"data row0 col1\" >$8,434.27</td>\n",
       "            </tr>\n",
       "            <tr>\n",
       "                        <th id=\"T_c0649_level0_row1\" class=\"row_heading level0 row1\" >Smoker</th>\n",
       "                        <td id=\"T_c0649_row1_col0\" class=\"data row1 col0\" >274</td>\n",
       "                        <td id=\"T_c0649_row1_col1\" class=\"data row1 col1\" >$32,050.23</td>\n",
       "            </tr>\n",
       "    </tbody></table>"
      ],
      "text/plain": [
       "<pandas.io.formats.style.Styler at 0x18157f498e0>"
      ]
     },
     "metadata": {},
     "output_type": "display_data"
    },
    {
     "data": {
      "text/html": [
       "<style  type=\"text/css\" >\n",
       "</style><table id=\"T_43a1e_\" ><caption>Variable: region</caption><thead>    <tr>        <th class=\"blank level0\" ></th>        <th class=\"col_heading level0 col0\" >Number of Policyholders</th>        <th class=\"col_heading level0 col1\" >Average Claim Amount</th>    </tr></thead><tbody>\n",
       "                <tr>\n",
       "                        <th id=\"T_43a1e_level0_row0\" class=\"row_heading level0 row0\" >Southeast</th>\n",
       "                        <td id=\"T_43a1e_row0_col0\" class=\"data row0 col0\" >364</td>\n",
       "                        <td id=\"T_43a1e_row0_col1\" class=\"data row0 col1\" >$14,735.41</td>\n",
       "            </tr>\n",
       "            <tr>\n",
       "                        <th id=\"T_43a1e_level0_row1\" class=\"row_heading level0 row1\" >Northwest</th>\n",
       "                        <td id=\"T_43a1e_row1_col0\" class=\"data row1 col0\" >325</td>\n",
       "                        <td id=\"T_43a1e_row1_col1\" class=\"data row1 col1\" >$12,417.58</td>\n",
       "            </tr>\n",
       "            <tr>\n",
       "                        <th id=\"T_43a1e_level0_row2\" class=\"row_heading level0 row2\" >Southwest</th>\n",
       "                        <td id=\"T_43a1e_row2_col0\" class=\"data row2 col0\" >325</td>\n",
       "                        <td id=\"T_43a1e_row2_col1\" class=\"data row2 col1\" >$12,346.94</td>\n",
       "            </tr>\n",
       "            <tr>\n",
       "                        <th id=\"T_43a1e_level0_row3\" class=\"row_heading level0 row3\" >Northeast</th>\n",
       "                        <td id=\"T_43a1e_row3_col0\" class=\"data row3 col0\" >324</td>\n",
       "                        <td id=\"T_43a1e_row3_col1\" class=\"data row3 col1\" >$13,406.38</td>\n",
       "            </tr>\n",
       "    </tbody></table>"
      ],
      "text/plain": [
       "<pandas.io.formats.style.Styler at 0x18157f49a00>"
      ]
     },
     "metadata": {},
     "output_type": "display_data"
    }
   ],
   "source": [
    "cat=ins.select_dtypes(include=['object']).columns.tolist()\n",
    "for i in cat:\n",
    "    obs=ins[i].value_counts()\n",
    "    avg_claim=ins.groupby(i)[\"charges\"].mean()\n",
    "    display(pd.DataFrame({\"Number of Policyholders\":obs, \"Average Claim Amount\":avg_claim.map('${:,.2f}'.format)})\\\n",
    "            .sort_values('Number of Policyholders', ascending=False)\\\n",
    "            .style.set_caption(\"Variable: {}\".format(i)))"
   ]
  },
  {
   "cell_type": "markdown",
   "metadata": {},
   "source": [
    "# <div style=\"color:white;display:fill;border-radius:5px;background-color:#84A3C3;overflow:hidden\"><p style=\"padding:20px;color:white;overflow:hidden;font-size:100%;margin:0\"><b>3 |</b> Exploratory Data Analysis</p></div>"
   ]
  },
  {
   "cell_type": "code",
   "execution_count": 5,
   "metadata": {
    "_kg_hide-input": true,
    "execution": {
     "iopub.execute_input": "2022-03-18T02:38:44.942836Z",
     "iopub.status.busy": "2022-03-18T02:38:44.941973Z",
     "iopub.status.idle": "2022-03-18T02:38:46.075793Z",
     "shell.execute_reply": "2022-03-18T02:38:46.075026Z",
     "shell.execute_reply.started": "2022-03-18T02:38:44.942797Z"
    }
   },
   "outputs": [
    {
     "data": {
      "text/html": [
       "        <script type=\"text/javascript\">\n",
       "        window.PlotlyConfig = {MathJaxConfig: 'local'};\n",
       "        if (window.MathJax && window.MathJax.Hub && window.MathJax.Hub.Config) {window.MathJax.Hub.Config({SVG: {font: \"STIX-Web\"}});}\n",
       "        if (typeof require !== 'undefined') {\n",
       "        require.undef(\"plotly\");\n",
       "        requirejs.config({\n",
       "            paths: {\n",
       "                'plotly': ['https://cdn.plot.ly/plotly-2.12.1.min']\n",
       "            }\n",
       "        });\n",
       "        require(['plotly'], function(Plotly) {\n",
       "            window._Plotly = Plotly;\n",
       "        });\n",
       "        }\n",
       "        </script>\n",
       "        "
      ]
     },
     "metadata": {},
     "output_type": "display_data"
    },
    {
     "data": {
      "application/vnd.plotly.v1+json": {
       "config": {
        "plotlyServerURL": "https://plot.ly"
       },
       "data": [
        {
         "alignmentgroup": "True",
         "boxpoints": "outliers",
         "hovertemplate": "region=%{x}<br>charges=%{y}<extra></extra>",
         "legendgroup": "Southwest",
         "marker": {
          "color": "#B14B51",
          "line": {
           "color": "#F7F7F7",
           "width": 1
          },
          "opacity": 0.5,
          "size": 9
         },
         "name": "Southwest",
         "notched": true,
         "offsetgroup": "Southwest",
         "orientation": "v",
         "showlegend": false,
         "type": "box",
         "x": [
          "Southwest",
          "Southwest",
          "Southwest",
          "Southwest",
          "Southwest",
          "Southwest",
          "Southwest",
          "Southwest",
          "Southwest",
          "Southwest",
          "Southwest",
          "Southwest",
          "Southwest",
          "Southwest",
          "Southwest",
          "Southwest",
          "Southwest",
          "Southwest",
          "Southwest",
          "Southwest",
          "Southwest",
          "Southwest",
          "Southwest",
          "Southwest",
          "Southwest",
          "Southwest",
          "Southwest",
          "Southwest",
          "Southwest",
          "Southwest",
          "Southwest",
          "Southwest",
          "Southwest",
          "Southwest",
          "Southwest",
          "Southwest",
          "Southwest",
          "Southwest",
          "Southwest",
          "Southwest",
          "Southwest",
          "Southwest",
          "Southwest",
          "Southwest",
          "Southwest",
          "Southwest",
          "Southwest",
          "Southwest",
          "Southwest",
          "Southwest",
          "Southwest",
          "Southwest",
          "Southwest",
          "Southwest",
          "Southwest",
          "Southwest",
          "Southwest",
          "Southwest",
          "Southwest",
          "Southwest",
          "Southwest",
          "Southwest",
          "Southwest",
          "Southwest",
          "Southwest",
          "Southwest",
          "Southwest",
          "Southwest",
          "Southwest",
          "Southwest",
          "Southwest",
          "Southwest",
          "Southwest",
          "Southwest",
          "Southwest",
          "Southwest",
          "Southwest",
          "Southwest",
          "Southwest",
          "Southwest",
          "Southwest",
          "Southwest",
          "Southwest",
          "Southwest",
          "Southwest",
          "Southwest",
          "Southwest",
          "Southwest",
          "Southwest",
          "Southwest",
          "Southwest",
          "Southwest",
          "Southwest",
          "Southwest",
          "Southwest",
          "Southwest",
          "Southwest",
          "Southwest",
          "Southwest",
          "Southwest",
          "Southwest",
          "Southwest",
          "Southwest",
          "Southwest",
          "Southwest",
          "Southwest",
          "Southwest",
          "Southwest",
          "Southwest",
          "Southwest",
          "Southwest",
          "Southwest",
          "Southwest",
          "Southwest",
          "Southwest",
          "Southwest",
          "Southwest",
          "Southwest",
          "Southwest",
          "Southwest",
          "Southwest",
          "Southwest",
          "Southwest",
          "Southwest",
          "Southwest",
          "Southwest",
          "Southwest",
          "Southwest",
          "Southwest",
          "Southwest",
          "Southwest",
          "Southwest",
          "Southwest",
          "Southwest",
          "Southwest",
          "Southwest",
          "Southwest",
          "Southwest",
          "Southwest",
          "Southwest",
          "Southwest",
          "Southwest",
          "Southwest",
          "Southwest",
          "Southwest",
          "Southwest",
          "Southwest",
          "Southwest",
          "Southwest",
          "Southwest",
          "Southwest",
          "Southwest",
          "Southwest",
          "Southwest",
          "Southwest",
          "Southwest",
          "Southwest",
          "Southwest",
          "Southwest",
          "Southwest",
          "Southwest",
          "Southwest",
          "Southwest",
          "Southwest",
          "Southwest",
          "Southwest",
          "Southwest",
          "Southwest",
          "Southwest",
          "Southwest",
          "Southwest",
          "Southwest",
          "Southwest",
          "Southwest",
          "Southwest",
          "Southwest",
          "Southwest",
          "Southwest",
          "Southwest",
          "Southwest",
          "Southwest",
          "Southwest",
          "Southwest",
          "Southwest",
          "Southwest",
          "Southwest",
          "Southwest",
          "Southwest",
          "Southwest",
          "Southwest",
          "Southwest",
          "Southwest",
          "Southwest",
          "Southwest",
          "Southwest",
          "Southwest",
          "Southwest",
          "Southwest",
          "Southwest",
          "Southwest",
          "Southwest",
          "Southwest",
          "Southwest",
          "Southwest",
          "Southwest",
          "Southwest",
          "Southwest",
          "Southwest",
          "Southwest",
          "Southwest",
          "Southwest",
          "Southwest",
          "Southwest",
          "Southwest",
          "Southwest",
          "Southwest",
          "Southwest",
          "Southwest",
          "Southwest",
          "Southwest",
          "Southwest",
          "Southwest",
          "Southwest",
          "Southwest",
          "Southwest",
          "Southwest",
          "Southwest",
          "Southwest",
          "Southwest",
          "Southwest",
          "Southwest",
          "Southwest",
          "Southwest",
          "Southwest",
          "Southwest",
          "Southwest",
          "Southwest",
          "Southwest",
          "Southwest",
          "Southwest",
          "Southwest",
          "Southwest",
          "Southwest",
          "Southwest",
          "Southwest",
          "Southwest",
          "Southwest",
          "Southwest",
          "Southwest",
          "Southwest",
          "Southwest",
          "Southwest",
          "Southwest",
          "Southwest",
          "Southwest",
          "Southwest",
          "Southwest",
          "Southwest",
          "Southwest",
          "Southwest",
          "Southwest",
          "Southwest",
          "Southwest",
          "Southwest",
          "Southwest",
          "Southwest",
          "Southwest",
          "Southwest",
          "Southwest",
          "Southwest",
          "Southwest",
          "Southwest",
          "Southwest",
          "Southwest",
          "Southwest",
          "Southwest",
          "Southwest",
          "Southwest",
          "Southwest",
          "Southwest",
          "Southwest",
          "Southwest",
          "Southwest",
          "Southwest",
          "Southwest",
          "Southwest",
          "Southwest",
          "Southwest",
          "Southwest",
          "Southwest",
          "Southwest",
          "Southwest",
          "Southwest",
          "Southwest",
          "Southwest",
          "Southwest",
          "Southwest",
          "Southwest",
          "Southwest",
          "Southwest",
          "Southwest",
          "Southwest",
          "Southwest",
          "Southwest",
          "Southwest",
          "Southwest",
          "Southwest",
          "Southwest",
          "Southwest",
          "Southwest",
          "Southwest",
          "Southwest",
          "Southwest",
          "Southwest",
          "Southwest",
          "Southwest",
          "Southwest",
          "Southwest",
          "Southwest",
          "Southwest",
          "Southwest",
          "Southwest",
          "Southwest",
          "Southwest",
          "Southwest"
         ],
         "x0": " ",
         "xaxis": "x",
         "y": [
          16884.924,
          1826.843,
          1837.237,
          10602.385,
          36837.467,
          4149.736,
          38711,
          35585.576,
          4687.797,
          51194.55914,
          2302.3,
          48173.361,
          20630.28351,
          23568.272,
          1743.214,
          14235.072,
          11741.726,
          7726.854,
          39836.519,
          11073.176,
          47291.055,
          12105.32,
          15820.699,
          6186.127,
          5003.853,
          2331.519,
          11881.358,
          4646.759,
          7740.337,
          17081.08,
          9634.538,
          6082.405,
          11163.568,
          1261.442,
          2166.732,
          1842.519,
          10450.552,
          5152.134,
          4830.63,
          8116.68,
          5246.047,
          48824.45,
          10436.096,
          8823.279,
          5325.651,
          6775.961,
          4883.866,
          5649.715,
          7147.105,
          13880.949,
          1980.07,
          8520.026,
          7371.772,
          5012.471,
          5253.524,
          34779.615,
          1727.785,
          12333.828,
          35160.13457,
          7196.867,
          1832.094,
          47305.305,
          4260.744,
          11837.16,
          7441.053,
          42856.838,
          2150.469,
          9625.92,
          3172.018,
          3906.127,
          16297.846,
          12646.207,
          20177.67113,
          8444.474,
          1737.376,
          34838.873,
          35491.64,
          2866.091,
          47928.03,
          9144.565,
          13822.803,
          18955.22017,
          8932.084,
          3554.203,
          24603.04837,
          4751.07,
          13844.506,
          2597.779,
          36085.219,
          1261.859,
          8522.003,
          14988.432,
          9264.797,
          3260.199,
          8539.671,
          5080.096,
          18608.262,
          8968.33,
          23082.95533,
          5969.723,
          12638.195,
          5926.846,
          37079.372,
          7345.084,
          5910.944,
          4762.329,
          7512.267,
          1969.614,
          21797.0004,
          10601.412,
          22144.032,
          13224.693,
          1744.465,
          25382.297,
          9880.068,
          9563.029,
          1253.936,
          1748.774,
          12574.049,
          17942.106,
          4931.647,
          8027.968,
          13470.86,
          36197.699,
          11455.28,
          1256.299,
          21082.16,
          11362.755,
          5240.765,
          9861.025,
          5972.378,
          8825.086,
          6196.448,
          11538.421,
          13390.559,
          12957.118,
          3847.674,
          2494.022,
          11552.904,
          3761.292,
          9724.53,
          1242.816,
          11842.442,
          7441.501,
          11070.535,
          39241.442,
          6571.544,
          23306.547,
          10713.644,
          3659.346,
          40182.246,
          9182.17,
          11365.952,
          10085.846,
          1977.815,
          9391.346,
          6666.243,
          3410.324,
          8703.456,
          12363.547,
          2585.269,
          1242.26,
          40103.89,
          4766.022,
          26236.57997,
          8068.185,
          3577.999,
          5375.038,
          2457.502,
          12146.971,
          11264.541,
          12979.358,
          1263.249,
          10065.413,
          4234.927,
          14007.222,
          3484.331,
          44585.45587,
          11737.84884,
          8556.907,
          2416.955,
          19040.876,
          8062.764,
          7050.642,
          14319.031,
          27941.28758,
          11150.78,
          18259.216,
          24520.264,
          6414.178,
          1252.407,
          11848.141,
          2103.08,
          9414.92,
          3597.596,
          7445.918,
          13393.756,
          4402.233,
          1526.312,
          9872.701,
          2974.126,
          1875.344,
          10965.446,
          46113.511,
          7151.092,
          8782.469,
          6600.361,
          11576.13,
          4391.652,
          8457.818,
          6849.026,
          26140.3603,
          6282.235,
          6311.952,
          3443.064,
          1682.597,
          13063.883,
          12644.589,
          15170.069,
          17496.306,
          7626.993,
          13041.921,
          13451.122,
          13462.52,
          5488.262,
          6250.435,
          2913.569,
          12032.326,
          6238.298,
          10096.97,
          7348.142,
          12233.828,
          11674.13,
          7160.094,
          19933.458,
          38998.546,
          3353.284,
          4746.344,
          1759.338,
          19199.944,
          7624.63,
          3378.91,
          10118.424,
          7418.522,
          34472.841,
          1972.95,
          21232.18226,
          8269.044,
          5383.536,
          3987.926,
          8798.593,
          2020.177,
          9850.432,
          12094.478,
          3161.454,
          39727.614,
          25309.489,
          8277.523,
          5708.867,
          7045.499,
          8551.347,
          4076.497,
          19023.26,
          10577.087,
          3591.48,
          11299.343,
          11253.421,
          20420.60465,
          2904.088,
          34166.273,
          10214.636,
          14358.36437,
          1728.897,
          3693.428,
          7623.518,
          7954.517,
          9630.397,
          52590.82939,
          10791.96,
          5979.731,
          3989.841,
          4529.477,
          4670.64,
          22478.6,
          2154.361,
          6496.886,
          2632.992,
          13126.67745,
          4934.705,
          36910.60803,
          38415.474,
          12347.172,
          10806.839,
          41661.602,
          20167.33603,
          11345.519,
          5615.369,
          9101.798,
          6059.173,
          1241.565,
          16232.847,
          15828.82173,
          6474.013,
          3277.161,
          7337.748,
          10704.47,
          1880.487,
          8615.3,
          10959.33,
          47403.88,
          5472.449,
          38344.566,
          34828.654,
          1964.78,
          3208.787,
          37829.7242,
          33900.653,
          6875.961,
          4536.259,
          36397.576,
          1731.677,
          10325.206,
          10795.93733,
          11411.685,
          2007.945
         ],
         "y0": " ",
         "yaxis": "y"
        },
        {
         "alignmentgroup": "True",
         "boxpoints": "outliers",
         "hovertemplate": "region=%{x}<br>charges=%{y}<extra></extra>",
         "legendgroup": "Southeast",
         "marker": {
          "color": "#D0A99C",
          "line": {
           "color": "#F7F7F7",
           "width": 1
          },
          "opacity": 0.5,
          "size": 9
         },
         "name": "Southeast",
         "notched": true,
         "offsetgroup": "Southeast",
         "orientation": "v",
         "showlegend": false,
         "type": "box",
         "x": [
          "Southeast",
          "Southeast",
          "Southeast",
          "Southeast",
          "Southeast",
          "Southeast",
          "Southeast",
          "Southeast",
          "Southeast",
          "Southeast",
          "Southeast",
          "Southeast",
          "Southeast",
          "Southeast",
          "Southeast",
          "Southeast",
          "Southeast",
          "Southeast",
          "Southeast",
          "Southeast",
          "Southeast",
          "Southeast",
          "Southeast",
          "Southeast",
          "Southeast",
          "Southeast",
          "Southeast",
          "Southeast",
          "Southeast",
          "Southeast",
          "Southeast",
          "Southeast",
          "Southeast",
          "Southeast",
          "Southeast",
          "Southeast",
          "Southeast",
          "Southeast",
          "Southeast",
          "Southeast",
          "Southeast",
          "Southeast",
          "Southeast",
          "Southeast",
          "Southeast",
          "Southeast",
          "Southeast",
          "Southeast",
          "Southeast",
          "Southeast",
          "Southeast",
          "Southeast",
          "Southeast",
          "Southeast",
          "Southeast",
          "Southeast",
          "Southeast",
          "Southeast",
          "Southeast",
          "Southeast",
          "Southeast",
          "Southeast",
          "Southeast",
          "Southeast",
          "Southeast",
          "Southeast",
          "Southeast",
          "Southeast",
          "Southeast",
          "Southeast",
          "Southeast",
          "Southeast",
          "Southeast",
          "Southeast",
          "Southeast",
          "Southeast",
          "Southeast",
          "Southeast",
          "Southeast",
          "Southeast",
          "Southeast",
          "Southeast",
          "Southeast",
          "Southeast",
          "Southeast",
          "Southeast",
          "Southeast",
          "Southeast",
          "Southeast",
          "Southeast",
          "Southeast",
          "Southeast",
          "Southeast",
          "Southeast",
          "Southeast",
          "Southeast",
          "Southeast",
          "Southeast",
          "Southeast",
          "Southeast",
          "Southeast",
          "Southeast",
          "Southeast",
          "Southeast",
          "Southeast",
          "Southeast",
          "Southeast",
          "Southeast",
          "Southeast",
          "Southeast",
          "Southeast",
          "Southeast",
          "Southeast",
          "Southeast",
          "Southeast",
          "Southeast",
          "Southeast",
          "Southeast",
          "Southeast",
          "Southeast",
          "Southeast",
          "Southeast",
          "Southeast",
          "Southeast",
          "Southeast",
          "Southeast",
          "Southeast",
          "Southeast",
          "Southeast",
          "Southeast",
          "Southeast",
          "Southeast",
          "Southeast",
          "Southeast",
          "Southeast",
          "Southeast",
          "Southeast",
          "Southeast",
          "Southeast",
          "Southeast",
          "Southeast",
          "Southeast",
          "Southeast",
          "Southeast",
          "Southeast",
          "Southeast",
          "Southeast",
          "Southeast",
          "Southeast",
          "Southeast",
          "Southeast",
          "Southeast",
          "Southeast",
          "Southeast",
          "Southeast",
          "Southeast",
          "Southeast",
          "Southeast",
          "Southeast",
          "Southeast",
          "Southeast",
          "Southeast",
          "Southeast",
          "Southeast",
          "Southeast",
          "Southeast",
          "Southeast",
          "Southeast",
          "Southeast",
          "Southeast",
          "Southeast",
          "Southeast",
          "Southeast",
          "Southeast",
          "Southeast",
          "Southeast",
          "Southeast",
          "Southeast",
          "Southeast",
          "Southeast",
          "Southeast",
          "Southeast",
          "Southeast",
          "Southeast",
          "Southeast",
          "Southeast",
          "Southeast",
          "Southeast",
          "Southeast",
          "Southeast",
          "Southeast",
          "Southeast",
          "Southeast",
          "Southeast",
          "Southeast",
          "Southeast",
          "Southeast",
          "Southeast",
          "Southeast",
          "Southeast",
          "Southeast",
          "Southeast",
          "Southeast",
          "Southeast",
          "Southeast",
          "Southeast",
          "Southeast",
          "Southeast",
          "Southeast",
          "Southeast",
          "Southeast",
          "Southeast",
          "Southeast",
          "Southeast",
          "Southeast",
          "Southeast",
          "Southeast",
          "Southeast",
          "Southeast",
          "Southeast",
          "Southeast",
          "Southeast",
          "Southeast",
          "Southeast",
          "Southeast",
          "Southeast",
          "Southeast",
          "Southeast",
          "Southeast",
          "Southeast",
          "Southeast",
          "Southeast",
          "Southeast",
          "Southeast",
          "Southeast",
          "Southeast",
          "Southeast",
          "Southeast",
          "Southeast",
          "Southeast",
          "Southeast",
          "Southeast",
          "Southeast",
          "Southeast",
          "Southeast",
          "Southeast",
          "Southeast",
          "Southeast",
          "Southeast",
          "Southeast",
          "Southeast",
          "Southeast",
          "Southeast",
          "Southeast",
          "Southeast",
          "Southeast",
          "Southeast",
          "Southeast",
          "Southeast",
          "Southeast",
          "Southeast",
          "Southeast",
          "Southeast",
          "Southeast",
          "Southeast",
          "Southeast",
          "Southeast",
          "Southeast",
          "Southeast",
          "Southeast",
          "Southeast",
          "Southeast",
          "Southeast",
          "Southeast",
          "Southeast",
          "Southeast",
          "Southeast",
          "Southeast",
          "Southeast",
          "Southeast",
          "Southeast",
          "Southeast",
          "Southeast",
          "Southeast",
          "Southeast",
          "Southeast",
          "Southeast",
          "Southeast",
          "Southeast",
          "Southeast",
          "Southeast",
          "Southeast",
          "Southeast",
          "Southeast",
          "Southeast",
          "Southeast",
          "Southeast",
          "Southeast",
          "Southeast",
          "Southeast",
          "Southeast",
          "Southeast",
          "Southeast",
          "Southeast",
          "Southeast",
          "Southeast",
          "Southeast",
          "Southeast",
          "Southeast",
          "Southeast",
          "Southeast",
          "Southeast",
          "Southeast",
          "Southeast",
          "Southeast",
          "Southeast",
          "Southeast",
          "Southeast",
          "Southeast",
          "Southeast",
          "Southeast",
          "Southeast",
          "Southeast",
          "Southeast",
          "Southeast",
          "Southeast",
          "Southeast",
          "Southeast",
          "Southeast",
          "Southeast",
          "Southeast",
          "Southeast",
          "Southeast",
          "Southeast",
          "Southeast",
          "Southeast",
          "Southeast",
          "Southeast",
          "Southeast",
          "Southeast",
          "Southeast",
          "Southeast",
          "Southeast",
          "Southeast",
          "Southeast",
          "Southeast",
          "Southeast",
          "Southeast",
          "Southeast",
          "Southeast",
          "Southeast",
          "Southeast",
          "Southeast",
          "Southeast",
          "Southeast",
          "Southeast",
          "Southeast",
          "Southeast",
          "Southeast",
          "Southeast",
          "Southeast",
          "Southeast",
          "Southeast",
          "Southeast"
         ],
         "x0": " ",
         "xaxis": "x",
         "y": [
          1725.5523,
          4449.462,
          3756.6216,
          8240.5896,
          27808.7251,
          11090.7178,
          39611.7577,
          1137.011,
          14001.1338,
          4949.7587,
          6272.4772,
          6313.759,
          12629.8967,
          38709.176,
          37742.5757,
          34303.1672,
          23244.7902,
          4504.6624,
          5920.1041,
          17663.1442,
          16577.7795,
          11946.6259,
          3947.4131,
          1532.4697,
          37165.1638,
          2026.9741,
          3766.8838,
          10226.2842,
          30942.1918,
          2867.1196,
          47055.5321,
          11381.3254,
          19107.7796,
          8601.3293,
          2155.6815,
          27322.73386,
          18972.495,
          5138.2567,
          9877.6077,
          7789.635,
          21223.6758,
          36950.2567,
          19749.38338,
          36149.4835,
          13405.3903,
          1631.8212,
          7731.4271,
          3981.9768,
          12557.6053,
          2137.6536,
          1137.4697,
          8516.829,
          8871.1517,
          37133.8982,
          11743.299,
          5002.7827,
          2483.736,
          3392.9768,
          25081.76784,
          19515.5416,
          11987.1682,
          2689.4954,
          24227.33724,
          14001.2867,
          19444.2658,
          1615.7667,
          4463.2051,
          7152.6714,
          12648.7034,
          1986.9334,
          44260.7499,
          5400.9805,
          17085.2676,
          20462.99766,
          46151.1245,
          17179.522,
          1719.4363,
          12928.7911,
          9855.1314,
          7742.1098,
          25992.82104,
          42112.2356,
          2156.7518,
          21978.6769,
          12265.5069,
          4349.462,
          4151.0287,
          42124.5153,
          8124.4084,
          3561.8889,
          12142.5786,
          8232.6388,
          10977.2063,
          6184.2994,
          4889.9995,
          5478.0368,
          14133.03775,
          8944.1151,
          1837.2819,
          1607.5101,
          3180.5101,
          1391.5287,
          38126.2465,
          27000.98473,
          20781.48892,
          5846.9176,
          11856.4115,
          16586.49771,
          1631.6683,
          8083.9198,
          4185.0979,
          6652.5288,
          4074.4537,
          7345.7266,
          9140.951,
          14418.2804,
          46889.2612,
          46599.1084,
          9788.8659,
          13919.8229,
          12592.5345,
          1149.3959,
          28287.89766,
          4686.3887,
          11881.9696,
          7682.67,
          10381.4787,
          19521.9682,
          2201.0971,
          2497.0383,
          1534.3045,
          1824.2854,
          9304.7019,
          1622.1885,
          48885.13561,
          24513.09126,
          8211.1002,
          22218.1149,
          32548.3405,
          5974.3847,
          2498.4144,
          27724.28875,
          3994.1778,
          5397.6167,
          38245.59327,
          11482.63485,
          48675.5177,
          12925.886,
          19214.70553,
          13831.1152,
          8233.0975,
          27346.04207,
          3056.3881,
          13887.204,
          63770.42801,
          45863.205,
          3972.9247,
          3935.1799,
          9058.7303,
          2801.2588,
          2219.4451,
          4753.6368,
          1664.9996,
          6356.2707,
          17626.23951,
          4779.6023,
          5976.8311,
          2566.4707,
          5709.1644,
          7640.3092,
          1633.0444,
          16085.1275,
          9283.562,
          8547.6913,
          1880.07,
          42969.8527,
          34439.8559,
          11326.71487,
          3366.6697,
          12949.1554,
          18806.14547,
          9800.8882,
          10579.711,
          8280.6227,
          8527.532,
          12244.531,
          24667.419,
          6435.6237,
          22192.43711,
          1136.3994,
          27037.9141,
          42560.4304,
          6500.2359,
          4837.5823,
          4399.731,
          6185.3208,
          46200.9851,
          12485.8009,
          5438.7491,
          34806.4677,
          40273.6455,
          3500.6123,
          2020.5523,
          9504.3103,
          44400.4064,
          1727.54,
          10107.2206,
          40932.4295,
          6781.3542,
          19361.9988,
          40419.0191,
          18246.4955,
          3757.8448,
          19539.243,
          11833.7823,
          23065.4207,
          36307.7983,
          10560.4917,
          5934.3798,
          1146.7966,
          9386.1613,
          4350.5144,
          13457.9608,
          5662.225,
          21195.818,
          4266.1658,
          7046.7222,
          14313.8463,
          38792.6856,
          1815.8759,
          1131.5066,
          11013.7119,
          5584.3057,
          1877.9294,
          1621.8827,
          8219.2039,
          43813.8661,
          7160.3303,
          36021.0112,
          27533.9129,
          45008.9555,
          2438.0552,
          40974.1649,
          18218.16139,
          1141.4451,
          3392.3652,
          5966.8874,
          6653.7886,
          19719.6947,
          7243.8136,
          44202.6536,
          1634.5734,
          48673.5588,
          8125.7845,
          7633.7206,
          2473.3341,
          5245.2269,
          13470.8044,
          6289.7549,
          2927.0647,
          4673.3922,
          2304.0022,
          9487.6442,
          1121.8739,
          9549.5651,
          12982.8747,
          47462.894,
          3875.7341,
          41999.52,
          14474.675,
          8596.8278,
          10702.6424,
          2322.6218,
          7804.1605,
          2902.9065,
          4889.0368,
          5484.4673,
          13887.9685,
          18767.7377,
          36580.28216,
          35595.5898,
          42211.1382,
          1711.0268,
          8569.8618,
          44423.803,
          37484.4493,
          44501.3982,
          17929.30337,
          2480.9791,
          1981.5819,
          11554.2236,
          48970.2476,
          8978.1851,
          10928.849,
          39871.7043,
          4562.8421,
          34672.1472,
          15161.5344,
          11884.04858,
          9748.9106,
          41676.0811,
          1674.6323,
          3227.1211,
          3471.4096,
          11363.2832,
          10338.9316,
          8605.3615,
          41949.2441,
          24180.9335,
          10807.4863,
          36124.5737,
          38282.7495,
          8347.1643,
          5836.5204,
          8582.3023,
          3704.3545,
          9048.0273,
          27117.99378,
          6338.0756,
          40941.2854,
          39722.7462,
          5124.1887,
          18963.17192,
          10982.5013,
          11093.6229,
          19350.3689,
          18328.2381,
          5699.8375,
          18223.4512,
          23563.01618,
          5415.6612,
          4058.1161,
          6593.5083,
          8442.667,
          26125.67477,
          4795.6568,
          7162.0122,
          10594.2257,
          8515.7587,
          3238.4357,
          47269.854,
          49577.6624,
          3171.6149,
          1135.9407,
          1633.9618,
          4415.1588,
          6770.1925,
          26926.5144,
          14478.33015,
          4747.0529,
          17043.3414,
          8283.6807,
          1720.3537,
          7147.4728,
          1515.3449,
          4340.4409,
          62592.87309,
          2464.6188,
          1163.4627,
          12981.3457,
          43896.3763,
          9377.9047,
          12629.1656,
          1629.8335
         ],
         "y0": " ",
         "yaxis": "y"
        },
        {
         "alignmentgroup": "True",
         "boxpoints": "outliers",
         "hovertemplate": "region=%{x}<br>charges=%{y}<extra></extra>",
         "legendgroup": "Northwest",
         "marker": {
          "color": "#5D8370",
          "line": {
           "color": "#F7F7F7",
           "width": 1
          },
          "opacity": 0.5,
          "size": 9
         },
         "name": "Northwest",
         "notched": true,
         "offsetgroup": "Northwest",
         "orientation": "v",
         "showlegend": false,
         "type": "box",
         "x": [
          "Northwest",
          "Northwest",
          "Northwest",
          "Northwest",
          "Northwest",
          "Northwest",
          "Northwest",
          "Northwest",
          "Northwest",
          "Northwest",
          "Northwest",
          "Northwest",
          "Northwest",
          "Northwest",
          "Northwest",
          "Northwest",
          "Northwest",
          "Northwest",
          "Northwest",
          "Northwest",
          "Northwest",
          "Northwest",
          "Northwest",
          "Northwest",
          "Northwest",
          "Northwest",
          "Northwest",
          "Northwest",
          "Northwest",
          "Northwest",
          "Northwest",
          "Northwest",
          "Northwest",
          "Northwest",
          "Northwest",
          "Northwest",
          "Northwest",
          "Northwest",
          "Northwest",
          "Northwest",
          "Northwest",
          "Northwest",
          "Northwest",
          "Northwest",
          "Northwest",
          "Northwest",
          "Northwest",
          "Northwest",
          "Northwest",
          "Northwest",
          "Northwest",
          "Northwest",
          "Northwest",
          "Northwest",
          "Northwest",
          "Northwest",
          "Northwest",
          "Northwest",
          "Northwest",
          "Northwest",
          "Northwest",
          "Northwest",
          "Northwest",
          "Northwest",
          "Northwest",
          "Northwest",
          "Northwest",
          "Northwest",
          "Northwest",
          "Northwest",
          "Northwest",
          "Northwest",
          "Northwest",
          "Northwest",
          "Northwest",
          "Northwest",
          "Northwest",
          "Northwest",
          "Northwest",
          "Northwest",
          "Northwest",
          "Northwest",
          "Northwest",
          "Northwest",
          "Northwest",
          "Northwest",
          "Northwest",
          "Northwest",
          "Northwest",
          "Northwest",
          "Northwest",
          "Northwest",
          "Northwest",
          "Northwest",
          "Northwest",
          "Northwest",
          "Northwest",
          "Northwest",
          "Northwest",
          "Northwest",
          "Northwest",
          "Northwest",
          "Northwest",
          "Northwest",
          "Northwest",
          "Northwest",
          "Northwest",
          "Northwest",
          "Northwest",
          "Northwest",
          "Northwest",
          "Northwest",
          "Northwest",
          "Northwest",
          "Northwest",
          "Northwest",
          "Northwest",
          "Northwest",
          "Northwest",
          "Northwest",
          "Northwest",
          "Northwest",
          "Northwest",
          "Northwest",
          "Northwest",
          "Northwest",
          "Northwest",
          "Northwest",
          "Northwest",
          "Northwest",
          "Northwest",
          "Northwest",
          "Northwest",
          "Northwest",
          "Northwest",
          "Northwest",
          "Northwest",
          "Northwest",
          "Northwest",
          "Northwest",
          "Northwest",
          "Northwest",
          "Northwest",
          "Northwest",
          "Northwest",
          "Northwest",
          "Northwest",
          "Northwest",
          "Northwest",
          "Northwest",
          "Northwest",
          "Northwest",
          "Northwest",
          "Northwest",
          "Northwest",
          "Northwest",
          "Northwest",
          "Northwest",
          "Northwest",
          "Northwest",
          "Northwest",
          "Northwest",
          "Northwest",
          "Northwest",
          "Northwest",
          "Northwest",
          "Northwest",
          "Northwest",
          "Northwest",
          "Northwest",
          "Northwest",
          "Northwest",
          "Northwest",
          "Northwest",
          "Northwest",
          "Northwest",
          "Northwest",
          "Northwest",
          "Northwest",
          "Northwest",
          "Northwest",
          "Northwest",
          "Northwest",
          "Northwest",
          "Northwest",
          "Northwest",
          "Northwest",
          "Northwest",
          "Northwest",
          "Northwest",
          "Northwest",
          "Northwest",
          "Northwest",
          "Northwest",
          "Northwest",
          "Northwest",
          "Northwest",
          "Northwest",
          "Northwest",
          "Northwest",
          "Northwest",
          "Northwest",
          "Northwest",
          "Northwest",
          "Northwest",
          "Northwest",
          "Northwest",
          "Northwest",
          "Northwest",
          "Northwest",
          "Northwest",
          "Northwest",
          "Northwest",
          "Northwest",
          "Northwest",
          "Northwest",
          "Northwest",
          "Northwest",
          "Northwest",
          "Northwest",
          "Northwest",
          "Northwest",
          "Northwest",
          "Northwest",
          "Northwest",
          "Northwest",
          "Northwest",
          "Northwest",
          "Northwest",
          "Northwest",
          "Northwest",
          "Northwest",
          "Northwest",
          "Northwest",
          "Northwest",
          "Northwest",
          "Northwest",
          "Northwest",
          "Northwest",
          "Northwest",
          "Northwest",
          "Northwest",
          "Northwest",
          "Northwest",
          "Northwest",
          "Northwest",
          "Northwest",
          "Northwest",
          "Northwest",
          "Northwest",
          "Northwest",
          "Northwest",
          "Northwest",
          "Northwest",
          "Northwest",
          "Northwest",
          "Northwest",
          "Northwest",
          "Northwest",
          "Northwest",
          "Northwest",
          "Northwest",
          "Northwest",
          "Northwest",
          "Northwest",
          "Northwest",
          "Northwest",
          "Northwest",
          "Northwest",
          "Northwest",
          "Northwest",
          "Northwest",
          "Northwest",
          "Northwest",
          "Northwest",
          "Northwest",
          "Northwest",
          "Northwest",
          "Northwest",
          "Northwest",
          "Northwest",
          "Northwest",
          "Northwest",
          "Northwest",
          "Northwest",
          "Northwest",
          "Northwest",
          "Northwest",
          "Northwest",
          "Northwest",
          "Northwest",
          "Northwest",
          "Northwest",
          "Northwest",
          "Northwest",
          "Northwest",
          "Northwest",
          "Northwest",
          "Northwest",
          "Northwest",
          "Northwest",
          "Northwest",
          "Northwest",
          "Northwest",
          "Northwest",
          "Northwest",
          "Northwest",
          "Northwest",
          "Northwest",
          "Northwest",
          "Northwest",
          "Northwest",
          "Northwest",
          "Northwest",
          "Northwest",
          "Northwest",
          "Northwest",
          "Northwest",
          "Northwest",
          "Northwest",
          "Northwest",
          "Northwest",
          "Northwest",
          "Northwest",
          "Northwest"
         ],
         "x0": " ",
         "xaxis": "x",
         "y": [
          21984.47061,
          3866.8552,
          7281.5056,
          28923.13692,
          6203.90175,
          12268.63225,
          2775.19215,
          13770.0979,
          1625.43375,
          15612.19335,
          3556.9223,
          3579.8287,
          8059.6791,
          47496.49445,
          5989.52365,
          30166.61817,
          4133.64165,
          14711.7438,
          6389.37785,
          11356.6609,
          6571.02435,
          11033.6617,
          21098.55405,
          43578.9394,
          8026.6666,
          11082.5772,
          10942.13205,
          5729.0053,
          17560.37975,
          3877.30425,
          10825.2537,
          2404.7338,
          6686.4313,
          2257.47525,
          10115.00885,
          32734.1863,
          1632.56445,
          2045.68525,
          18157.876,
          20745.9891,
          40720.55105,
          10959.6947,
          5125.2157,
          6948.7008,
          21348.706,
          5028.1466,
          6128.79745,
          2719.27975,
          2855.43755,
          6455.86265,
          11735.87905,
          7419.4779,
          4922.9159,
          12044.342,
          1639.5631,
          9644.2525,
          2130.6759,
          13012.20865,
          8162.71625,
          3537.703,
          10355.641,
          7443.64305,
          6710.1919,
          17352.6803,
          24476.47851,
          43921.1837,
          11520.09985,
          33750.2918,
          36219.40545,
          7265.7025,
          2523.1695,
          2803.69785,
          14256.1928,
          38746.3551,
          9249.4952,
          19442.3535,
          7749.1564,
          8835.26495,
          7421.19455,
          4894.7533,
          42760.5022,
          24393.6224,
          13429.0354,
          13937.6665,
          13352.0998,
          1635.73365,
          11830.6072,
          9620.3307,
          8017.06115,
          8116.26885,
          13415.0381,
          18033.9679,
          16455.70785,
          30284.64294,
          3176.8159,
          4618.0799,
          2138.0707,
          7526.70645,
          14692.66935,
          10269.46,
          1621.3402,
          2134.9015,
          28950.4692,
          18804.7524,
          4906.40965,
          4243.59005,
          4738.2682,
          26109.32905,
          11454.0215,
          4032.2407,
          1769.53165,
          11840.77505,
          1632.03625,
          12643.3778,
          28868.6639,
          2534.39375,
          15555.18875,
          12475.3513,
          10461.9794,
          6796.86325,
          2643.2685,
          3077.0955,
          8413.46305,
          24059.68019,
          10231.4999,
          23807.2406,
          11187.6567,
          39983.42595,
          1646.4297,
          9193.8385,
          2128.43105,
          6373.55735,
          7256.7231,
          45702.02235,
          12222.8983,
          1639.5631,
          43943.8761,
          8428.0693,
          33471.97189,
          9174.13565,
          17468.9839,
          25678.77845,
          12129.61415,
          3736.4647,
          42983.4585,
          2709.1119,
          32787.45859,
          4466.6214,
          6123.5688,
          4058.71245,
          40003.33225,
          7222.78625,
          46130.5265,
          10156.7832,
          9863.4718,
          2362.22905,
          2352.96845,
          3201.24515,
          10976.24575,
          5385.3379,
          8930.93455,
          10264.4421,
          8310.83915,
          9566.9909,
          13112.6048,
          10848.1343,
          12231.6136,
          6664.68595,
          9583.8933,
          8827.2099,
          9910.35985,
          1627.28245,
          3062.50825,
          1906.35825,
          14210.53595,
          11842.62375,
          6933.24225,
          17748.5062,
          7261.741,
          6986.697,
          9869.8102,
          1917.3184,
          7209.4918,
          18310.742,
          7731.85785,
          28476.73499,
          2136.88225,
          6360.9936,
          2842.76075,
          55135.40209,
          2680.9493,
          12523.6048,
          6117.4945,
          5266.3656,
          4719.73655,
          11743.9341,
          5377.4578,
          12622.1795,
          10601.63225,
          14119.62,
          15817.9857,
          12269.68865,
          2690.1138,
          2789.0574,
          4877.98105,
          5272.1758,
          11945.1327,
          29330.98315,
          2221.56445,
          2117.33885,
          2639.0429,
          14382.70905,
          5257.50795,
          21774.32215,
          4320.41085,
          8965.79575,
          1628.4709,
          6358.77645,
          4527.18295,
          20009.63365,
          12609.88702,
          28468.91901,
          2730.10785,
          26467.09737,
          23967.38305,
          7518.02535,
          2527.81865,
          8410.04685,
          28340.18885,
          16420.49455,
          5267.81815,
          17361.7661,
          4433.3877,
          24915.22085,
          8765.249,
          12124.9924,
          2709.24395,
          12495.29085,
          26018.95052,
          16450.8947,
          21595.38229,
          21677.28345,
          12950.0712,
          39725.51805,
          22493.65964,
          20234.85475,
          21880.82,
          3594.17085,
          8023.13545,
          3353.4703,
          10594.50155,
          4462.7218,
          6548.19505,
          14349.8544,
          1909.52745,
          4454.40265,
          5855.9025,
          15019.76005,
          11353.2276,
          33907.548,
          8988.15875,
          10493.9458,
          5312.16985,
          5693.4305,
          46661.4424,
          14254.6082,
          9991.03765,
          19673.33573,
          11085.5868,
          3176.2877,
          36898.73308,
          11289.10925,
          2261.5688,
          12235.8392,
          5630.45785,
          11015.1747,
          14426.07385,
          7727.2532,
          7153.5539,
          6112.35295,
          6457.8434,
          4433.9159,
          23887.6627,
          2850.68375,
          37465.34375,
          13844.7972,
          5327.40025,
          8671.19125,
          4134.08245,
          18838.70366,
          33307.5508,
          6393.60345,
          6198.7518,
          8733.22925,
          2055.3249,
          5116.5004,
          5373.36425,
          3956.07145,
          7537.1639,
          60021.39897,
          12479.70895,
          2699.56835,
          12224.35085,
          4296.2712,
          11436.73815,
          11305.93455,
          30063.58055,
          3292.52985,
          3021.80915,
          4357.04365,
          4189.1131,
          24535.69855,
          9301.89355,
          5261.46945,
          2710.82855,
          46718.16325,
          21472.4788,
          6940.90985,
          4571.41305,
          18765.87545,
          7201.70085,
          5425.02335,
          4239.89265,
          10600.5483,
          29141.3603
         ],
         "y0": " ",
         "yaxis": "y"
        },
        {
         "alignmentgroup": "True",
         "boxpoints": "outliers",
         "hovertemplate": "region=%{x}<br>charges=%{y}<extra></extra>",
         "legendgroup": "Northeast",
         "marker": {
          "color": "#6C839B",
          "line": {
           "color": "#F7F7F7",
           "width": 1
          },
          "opacity": 0.5,
          "size": 9
         },
         "name": "Northeast",
         "notched": true,
         "offsetgroup": "Northeast",
         "orientation": "v",
         "showlegend": false,
         "type": "box",
         "x": [
          "Northeast",
          "Northeast",
          "Northeast",
          "Northeast",
          "Northeast",
          "Northeast",
          "Northeast",
          "Northeast",
          "Northeast",
          "Northeast",
          "Northeast",
          "Northeast",
          "Northeast",
          "Northeast",
          "Northeast",
          "Northeast",
          "Northeast",
          "Northeast",
          "Northeast",
          "Northeast",
          "Northeast",
          "Northeast",
          "Northeast",
          "Northeast",
          "Northeast",
          "Northeast",
          "Northeast",
          "Northeast",
          "Northeast",
          "Northeast",
          "Northeast",
          "Northeast",
          "Northeast",
          "Northeast",
          "Northeast",
          "Northeast",
          "Northeast",
          "Northeast",
          "Northeast",
          "Northeast",
          "Northeast",
          "Northeast",
          "Northeast",
          "Northeast",
          "Northeast",
          "Northeast",
          "Northeast",
          "Northeast",
          "Northeast",
          "Northeast",
          "Northeast",
          "Northeast",
          "Northeast",
          "Northeast",
          "Northeast",
          "Northeast",
          "Northeast",
          "Northeast",
          "Northeast",
          "Northeast",
          "Northeast",
          "Northeast",
          "Northeast",
          "Northeast",
          "Northeast",
          "Northeast",
          "Northeast",
          "Northeast",
          "Northeast",
          "Northeast",
          "Northeast",
          "Northeast",
          "Northeast",
          "Northeast",
          "Northeast",
          "Northeast",
          "Northeast",
          "Northeast",
          "Northeast",
          "Northeast",
          "Northeast",
          "Northeast",
          "Northeast",
          "Northeast",
          "Northeast",
          "Northeast",
          "Northeast",
          "Northeast",
          "Northeast",
          "Northeast",
          "Northeast",
          "Northeast",
          "Northeast",
          "Northeast",
          "Northeast",
          "Northeast",
          "Northeast",
          "Northeast",
          "Northeast",
          "Northeast",
          "Northeast",
          "Northeast",
          "Northeast",
          "Northeast",
          "Northeast",
          "Northeast",
          "Northeast",
          "Northeast",
          "Northeast",
          "Northeast",
          "Northeast",
          "Northeast",
          "Northeast",
          "Northeast",
          "Northeast",
          "Northeast",
          "Northeast",
          "Northeast",
          "Northeast",
          "Northeast",
          "Northeast",
          "Northeast",
          "Northeast",
          "Northeast",
          "Northeast",
          "Northeast",
          "Northeast",
          "Northeast",
          "Northeast",
          "Northeast",
          "Northeast",
          "Northeast",
          "Northeast",
          "Northeast",
          "Northeast",
          "Northeast",
          "Northeast",
          "Northeast",
          "Northeast",
          "Northeast",
          "Northeast",
          "Northeast",
          "Northeast",
          "Northeast",
          "Northeast",
          "Northeast",
          "Northeast",
          "Northeast",
          "Northeast",
          "Northeast",
          "Northeast",
          "Northeast",
          "Northeast",
          "Northeast",
          "Northeast",
          "Northeast",
          "Northeast",
          "Northeast",
          "Northeast",
          "Northeast",
          "Northeast",
          "Northeast",
          "Northeast",
          "Northeast",
          "Northeast",
          "Northeast",
          "Northeast",
          "Northeast",
          "Northeast",
          "Northeast",
          "Northeast",
          "Northeast",
          "Northeast",
          "Northeast",
          "Northeast",
          "Northeast",
          "Northeast",
          "Northeast",
          "Northeast",
          "Northeast",
          "Northeast",
          "Northeast",
          "Northeast",
          "Northeast",
          "Northeast",
          "Northeast",
          "Northeast",
          "Northeast",
          "Northeast",
          "Northeast",
          "Northeast",
          "Northeast",
          "Northeast",
          "Northeast",
          "Northeast",
          "Northeast",
          "Northeast",
          "Northeast",
          "Northeast",
          "Northeast",
          "Northeast",
          "Northeast",
          "Northeast",
          "Northeast",
          "Northeast",
          "Northeast",
          "Northeast",
          "Northeast",
          "Northeast",
          "Northeast",
          "Northeast",
          "Northeast",
          "Northeast",
          "Northeast",
          "Northeast",
          "Northeast",
          "Northeast",
          "Northeast",
          "Northeast",
          "Northeast",
          "Northeast",
          "Northeast",
          "Northeast",
          "Northeast",
          "Northeast",
          "Northeast",
          "Northeast",
          "Northeast",
          "Northeast",
          "Northeast",
          "Northeast",
          "Northeast",
          "Northeast",
          "Northeast",
          "Northeast",
          "Northeast",
          "Northeast",
          "Northeast",
          "Northeast",
          "Northeast",
          "Northeast",
          "Northeast",
          "Northeast",
          "Northeast",
          "Northeast",
          "Northeast",
          "Northeast",
          "Northeast",
          "Northeast",
          "Northeast",
          "Northeast",
          "Northeast",
          "Northeast",
          "Northeast",
          "Northeast",
          "Northeast",
          "Northeast",
          "Northeast",
          "Northeast",
          "Northeast",
          "Northeast",
          "Northeast",
          "Northeast",
          "Northeast",
          "Northeast",
          "Northeast",
          "Northeast",
          "Northeast",
          "Northeast",
          "Northeast",
          "Northeast",
          "Northeast",
          "Northeast",
          "Northeast",
          "Northeast",
          "Northeast",
          "Northeast",
          "Northeast",
          "Northeast",
          "Northeast",
          "Northeast",
          "Northeast",
          "Northeast",
          "Northeast",
          "Northeast",
          "Northeast",
          "Northeast",
          "Northeast",
          "Northeast",
          "Northeast",
          "Northeast",
          "Northeast",
          "Northeast",
          "Northeast",
          "Northeast",
          "Northeast",
          "Northeast",
          "Northeast",
          "Northeast",
          "Northeast",
          "Northeast",
          "Northeast",
          "Northeast",
          "Northeast",
          "Northeast",
          "Northeast",
          "Northeast",
          "Northeast",
          "Northeast",
          "Northeast",
          "Northeast",
          "Northeast",
          "Northeast",
          "Northeast",
          "Northeast",
          "Northeast",
          "Northeast",
          "Northeast",
          "Northeast",
          "Northeast",
          "Northeast",
          "Northeast",
          "Northeast",
          "Northeast"
         ],
         "x0": " ",
         "xaxis": "x",
         "y": [
          6406.4107,
          2721.3208,
          10797.3362,
          2395.17155,
          13228.84695,
          37701.8768,
          14451.83515,
          2198.18985,
          39774.2763,
          3046.062,
          6079.6715,
          3393.35635,
          2211.13075,
          13607.36875,
          8606.2174,
          6799.458,
          2755.02095,
          4441.21315,
          7935.29115,
          30184.9367,
          22412.6485,
          3645.0894,
          21344.8467,
          11488.31695,
          30259.99556,
          1705.6245,
          39556.4945,
          3385.39915,
          12815.44495,
          13616.3586,
          2457.21115,
          27375.90478,
          3490.5491,
          6334.34355,
          19964.7463,
          7077.1894,
          15518.18025,
          10407.08585,
          4827.90495,
          1694.7964,
          8538.28845,
          4005.4225,
          43753.33705,
          14901.5167,
          4337.7352,
          20984.0936,
          6610.1097,
          10564.8845,
          7358.17565,
          9225.2564,
          38511.6283,
          5354.07465,
          29523.1656,
          4040.55825,
          12829.4551,
          41097.16175,
          13047.33235,
          24869.8368,
          14590.63205,
          9282.4806,
          9617.66245,
          9715.841,
          22331.5668,
          48549.17835,
          4237.12655,
          11879.10405,
          9432.9253,
          47896.79135,
          20277.80751,
          1704.5681,
          6746.7425,
          24873.3849,
          11944.59435,
          9722.7695,
          10435.06525,
          4667.60765,
          24671.66334,
          11566.30055,
          6600.20595,
          48517.56315,
          11658.37915,
          19144.57652,
          41919.097,
          13217.0945,
          13981.85035,
          8334.45755,
          12404.8791,
          10043.249,
          9778.3472,
          13430.265,
          3481.868,
          12029.2867,
          7639.41745,
          21659.9301,
          15006.57945,
          42303.69215,
          8302.53565,
          10736.87075,
          8964.06055,
          9290.1395,
          9411.005,
          11396.9002,
          19594.80965,
          14455.64405,
          39125.33225,
          2727.3951,
          6555.07035,
          7323.734819,
          3167.45585,
          2254.7967,
          2897.3235,
          12730.9996,
          15230.32405,
          11165.41765,
          23288.9284,
          2203.47185,
          20878.78443,
          35147.52848,
          4347.02335,
          2196.4732,
          1967.0227,
          6837.3687,
          3044.2133,
          11763.0009,
          9361.3268,
          3857.75925,
          25656.57526,
          9866.30485,
          8342.90875,
          1708.0014,
          14043.4767,
          6067.12675,
          3268.84665,
          3213.62205,
          17878.90068,
          8334.5896,
          10923.9332,
          31620.00106,
          13224.05705,
          58571.07448,
          3206.49135,
          12913.9924,
          3861.20965,
          13635.6379,
          15359.1045,
          8823.98575,
          5594.8455,
          3558.62025,
          4435.0942,
          2207.69745,
          6753.038,
          11658.11505,
          34617.84065,
          6748.5912,
          7173.35995,
          14410.9321,
          24915.04626,
          20149.3229,
          13143.86485,
          10141.1362,
          8252.2843,
          1712.227,
          12430.95335,
          26392.26029,
          14394.39815,
          5148.5526,
          45710.20785,
          3943.5954,
          11244.3769,
          7729.64575,
          2104.1134,
          29186.48236,
          9541.69555,
          6113.23105,
          5469.0066,
          1984.4533,
          9875.6804,
          10106.13425,
          16657.71745,
          2217.6012,
          9447.25035,
          36189.1017,
          8604.48365,
          43254.41795,
          17128.42608,
          5031.26955,
          7985.815,
          5428.7277,
          3925.7582,
          3070.8087,
          9095.06825,
          12797.20962,
          7448.40395,
          12741.16745,
          5209.57885,
          2731.9122,
          4719.52405,
          17904.52705,
          3309.7926,
          4428.88785,
          23401.30575,
          16069.08475,
          20773.62775,
          39597.4072,
          11657.7189,
          6402.29135,
          12323.936,
          10072.05505,
          37270.1512,
          42111.6647,
          11729.6795,
          24106.91255,
          5458.04645,
          13129.60345,
          8891.1395,
          2585.85065,
          46255.1125,
          27218.43725,
          10422.91665,
          13555.0049,
          19798.05455,
          8688.85885,
          4661.28635,
          4564.19145,
          4846.92015,
          33732.6867,
          35069.37452,
          25333.33284,
          32108.66282,
          2217.46915,
          39047.285,
          11534.87265,
          41034.2214,
          9500.57305,
          3279.86855,
          4992.3764,
          16138.76205,
          9704.66805,
          25517.11363,
          4500.33925,
          16796.41194,
          4915.05985,
          4518.82625,
          14571.8908,
          7144.86265,
          7986.47525,
          6551.7501,
          8627.5411,
          4438.2634,
          23241.47453,
          9957.7216,
          6877.9801,
          4137.5227,
          13747.87235,
          2250.8352,
          1704.70015,
          33475.81715,
          11394.06555,
          7325.0482,
          14394.5579,
          9288.0267,
          5757.41345,
          13974.45555,
          12096.6512,
          13204.28565,
          2102.2647,
          10796.35025,
          11286.5387,
          4561.1885,
          44641.1974,
          23045.56616,
          16776.30405,
          11512.405,
          2396.0959,
          9222.4026,
          18903.49141,
          40904.1995,
          20709.02034,
          2203.73595,
          7228.21565,
          2459.7201,
          2200.83085,
          5227.98875,
          17178.6824,
          2899.48935,
          7650.77375,
          9447.3824,
          8603.8234,
          21771.3423,
          13725.47184,
          13019.16105,
          9964.06,
          20296.86345,
          1702.4553,
          12890.05765,
          4718.20355,
          6858.4796,
          6640.54485,
          11938.25595,
          14449.8544,
          6985.50695,
          37607.5277,
          18648.4217,
          10197.7722,
          4544.2348,
          10370.91255,
          34254.05335,
          2741.948,
          22462.04375,
          14283.4594,
          8534.6718,
          3732.6251,
          7133.9025,
          11931.12525,
          1708.92575,
          21259.37795,
          16115.3045,
          11272.33139,
          19496.71917,
          28101.33305,
          13143.33665,
          7050.0213,
          22395.74424,
          2205.9808
         ],
         "y0": " ",
         "yaxis": "y"
        }
       ],
       "layout": {
        "boxmode": "overlay",
        "font": {
         "color": "#303030"
        },
        "height": 600,
        "legend": {
         "title": {
          "text": "region"
         },
         "tracegroupgap": 0
        },
        "template": {
         "data": {
          "bar": [
           {
            "error_x": {
             "color": "#2a3f5f"
            },
            "error_y": {
             "color": "#2a3f5f"
            },
            "marker": {
             "line": {
              "color": "white",
              "width": 0.5
             },
             "pattern": {
              "fillmode": "overlay",
              "size": 10,
              "solidity": 0.2
             }
            },
            "type": "bar"
           }
          ],
          "barpolar": [
           {
            "marker": {
             "line": {
              "color": "white",
              "width": 0.5
             },
             "pattern": {
              "fillmode": "overlay",
              "size": 10,
              "solidity": 0.2
             }
            },
            "type": "barpolar"
           }
          ],
          "carpet": [
           {
            "aaxis": {
             "endlinecolor": "#2a3f5f",
             "gridcolor": "#C8D4E3",
             "linecolor": "#C8D4E3",
             "minorgridcolor": "#C8D4E3",
             "startlinecolor": "#2a3f5f"
            },
            "baxis": {
             "endlinecolor": "#2a3f5f",
             "gridcolor": "#C8D4E3",
             "linecolor": "#C8D4E3",
             "minorgridcolor": "#C8D4E3",
             "startlinecolor": "#2a3f5f"
            },
            "type": "carpet"
           }
          ],
          "choropleth": [
           {
            "colorbar": {
             "outlinewidth": 0,
             "ticks": ""
            },
            "type": "choropleth"
           }
          ],
          "contour": [
           {
            "colorbar": {
             "outlinewidth": 0,
             "ticks": ""
            },
            "colorscale": [
             [
              0,
              "#0d0887"
             ],
             [
              0.1111111111111111,
              "#46039f"
             ],
             [
              0.2222222222222222,
              "#7201a8"
             ],
             [
              0.3333333333333333,
              "#9c179e"
             ],
             [
              0.4444444444444444,
              "#bd3786"
             ],
             [
              0.5555555555555556,
              "#d8576b"
             ],
             [
              0.6666666666666666,
              "#ed7953"
             ],
             [
              0.7777777777777778,
              "#fb9f3a"
             ],
             [
              0.8888888888888888,
              "#fdca26"
             ],
             [
              1,
              "#f0f921"
             ]
            ],
            "type": "contour"
           }
          ],
          "contourcarpet": [
           {
            "colorbar": {
             "outlinewidth": 0,
             "ticks": ""
            },
            "type": "contourcarpet"
           }
          ],
          "heatmap": [
           {
            "colorbar": {
             "outlinewidth": 0,
             "ticks": ""
            },
            "colorscale": [
             [
              0,
              "#0d0887"
             ],
             [
              0.1111111111111111,
              "#46039f"
             ],
             [
              0.2222222222222222,
              "#7201a8"
             ],
             [
              0.3333333333333333,
              "#9c179e"
             ],
             [
              0.4444444444444444,
              "#bd3786"
             ],
             [
              0.5555555555555556,
              "#d8576b"
             ],
             [
              0.6666666666666666,
              "#ed7953"
             ],
             [
              0.7777777777777778,
              "#fb9f3a"
             ],
             [
              0.8888888888888888,
              "#fdca26"
             ],
             [
              1,
              "#f0f921"
             ]
            ],
            "type": "heatmap"
           }
          ],
          "heatmapgl": [
           {
            "colorbar": {
             "outlinewidth": 0,
             "ticks": ""
            },
            "colorscale": [
             [
              0,
              "#0d0887"
             ],
             [
              0.1111111111111111,
              "#46039f"
             ],
             [
              0.2222222222222222,
              "#7201a8"
             ],
             [
              0.3333333333333333,
              "#9c179e"
             ],
             [
              0.4444444444444444,
              "#bd3786"
             ],
             [
              0.5555555555555556,
              "#d8576b"
             ],
             [
              0.6666666666666666,
              "#ed7953"
             ],
             [
              0.7777777777777778,
              "#fb9f3a"
             ],
             [
              0.8888888888888888,
              "#fdca26"
             ],
             [
              1,
              "#f0f921"
             ]
            ],
            "type": "heatmapgl"
           }
          ],
          "histogram": [
           {
            "marker": {
             "pattern": {
              "fillmode": "overlay",
              "size": 10,
              "solidity": 0.2
             }
            },
            "type": "histogram"
           }
          ],
          "histogram2d": [
           {
            "colorbar": {
             "outlinewidth": 0,
             "ticks": ""
            },
            "colorscale": [
             [
              0,
              "#0d0887"
             ],
             [
              0.1111111111111111,
              "#46039f"
             ],
             [
              0.2222222222222222,
              "#7201a8"
             ],
             [
              0.3333333333333333,
              "#9c179e"
             ],
             [
              0.4444444444444444,
              "#bd3786"
             ],
             [
              0.5555555555555556,
              "#d8576b"
             ],
             [
              0.6666666666666666,
              "#ed7953"
             ],
             [
              0.7777777777777778,
              "#fb9f3a"
             ],
             [
              0.8888888888888888,
              "#fdca26"
             ],
             [
              1,
              "#f0f921"
             ]
            ],
            "type": "histogram2d"
           }
          ],
          "histogram2dcontour": [
           {
            "colorbar": {
             "outlinewidth": 0,
             "ticks": ""
            },
            "colorscale": [
             [
              0,
              "#0d0887"
             ],
             [
              0.1111111111111111,
              "#46039f"
             ],
             [
              0.2222222222222222,
              "#7201a8"
             ],
             [
              0.3333333333333333,
              "#9c179e"
             ],
             [
              0.4444444444444444,
              "#bd3786"
             ],
             [
              0.5555555555555556,
              "#d8576b"
             ],
             [
              0.6666666666666666,
              "#ed7953"
             ],
             [
              0.7777777777777778,
              "#fb9f3a"
             ],
             [
              0.8888888888888888,
              "#fdca26"
             ],
             [
              1,
              "#f0f921"
             ]
            ],
            "type": "histogram2dcontour"
           }
          ],
          "mesh3d": [
           {
            "colorbar": {
             "outlinewidth": 0,
             "ticks": ""
            },
            "type": "mesh3d"
           }
          ],
          "parcoords": [
           {
            "line": {
             "colorbar": {
              "outlinewidth": 0,
              "ticks": ""
             }
            },
            "type": "parcoords"
           }
          ],
          "pie": [
           {
            "automargin": true,
            "type": "pie"
           }
          ],
          "scatter": [
           {
            "fillpattern": {
             "fillmode": "overlay",
             "size": 10,
             "solidity": 0.2
            },
            "type": "scatter"
           }
          ],
          "scatter3d": [
           {
            "line": {
             "colorbar": {
              "outlinewidth": 0,
              "ticks": ""
             }
            },
            "marker": {
             "colorbar": {
              "outlinewidth": 0,
              "ticks": ""
             }
            },
            "type": "scatter3d"
           }
          ],
          "scattercarpet": [
           {
            "marker": {
             "colorbar": {
              "outlinewidth": 0,
              "ticks": ""
             }
            },
            "type": "scattercarpet"
           }
          ],
          "scattergeo": [
           {
            "marker": {
             "colorbar": {
              "outlinewidth": 0,
              "ticks": ""
             }
            },
            "type": "scattergeo"
           }
          ],
          "scattergl": [
           {
            "marker": {
             "colorbar": {
              "outlinewidth": 0,
              "ticks": ""
             }
            },
            "type": "scattergl"
           }
          ],
          "scattermapbox": [
           {
            "marker": {
             "colorbar": {
              "outlinewidth": 0,
              "ticks": ""
             }
            },
            "type": "scattermapbox"
           }
          ],
          "scatterpolar": [
           {
            "marker": {
             "colorbar": {
              "outlinewidth": 0,
              "ticks": ""
             }
            },
            "type": "scatterpolar"
           }
          ],
          "scatterpolargl": [
           {
            "marker": {
             "colorbar": {
              "outlinewidth": 0,
              "ticks": ""
             }
            },
            "type": "scatterpolargl"
           }
          ],
          "scatterternary": [
           {
            "marker": {
             "colorbar": {
              "outlinewidth": 0,
              "ticks": ""
             }
            },
            "type": "scatterternary"
           }
          ],
          "surface": [
           {
            "colorbar": {
             "outlinewidth": 0,
             "ticks": ""
            },
            "colorscale": [
             [
              0,
              "#0d0887"
             ],
             [
              0.1111111111111111,
              "#46039f"
             ],
             [
              0.2222222222222222,
              "#7201a8"
             ],
             [
              0.3333333333333333,
              "#9c179e"
             ],
             [
              0.4444444444444444,
              "#bd3786"
             ],
             [
              0.5555555555555556,
              "#d8576b"
             ],
             [
              0.6666666666666666,
              "#ed7953"
             ],
             [
              0.7777777777777778,
              "#fb9f3a"
             ],
             [
              0.8888888888888888,
              "#fdca26"
             ],
             [
              1,
              "#f0f921"
             ]
            ],
            "type": "surface"
           }
          ],
          "table": [
           {
            "cells": {
             "fill": {
              "color": "#EBF0F8"
             },
             "line": {
              "color": "white"
             }
            },
            "header": {
             "fill": {
              "color": "#C8D4E3"
             },
             "line": {
              "color": "white"
             }
            },
            "type": "table"
           }
          ]
         },
         "layout": {
          "annotationdefaults": {
           "arrowcolor": "#2a3f5f",
           "arrowhead": 0,
           "arrowwidth": 1
          },
          "autotypenumbers": "strict",
          "coloraxis": {
           "colorbar": {
            "outlinewidth": 0,
            "ticks": ""
           }
          },
          "colorscale": {
           "diverging": [
            [
             0,
             "#8e0152"
            ],
            [
             0.1,
             "#c51b7d"
            ],
            [
             0.2,
             "#de77ae"
            ],
            [
             0.3,
             "#f1b6da"
            ],
            [
             0.4,
             "#fde0ef"
            ],
            [
             0.5,
             "#f7f7f7"
            ],
            [
             0.6,
             "#e6f5d0"
            ],
            [
             0.7,
             "#b8e186"
            ],
            [
             0.8,
             "#7fbc41"
            ],
            [
             0.9,
             "#4d9221"
            ],
            [
             1,
             "#276419"
            ]
           ],
           "sequential": [
            [
             0,
             "#0d0887"
            ],
            [
             0.1111111111111111,
             "#46039f"
            ],
            [
             0.2222222222222222,
             "#7201a8"
            ],
            [
             0.3333333333333333,
             "#9c179e"
            ],
            [
             0.4444444444444444,
             "#bd3786"
            ],
            [
             0.5555555555555556,
             "#d8576b"
            ],
            [
             0.6666666666666666,
             "#ed7953"
            ],
            [
             0.7777777777777778,
             "#fb9f3a"
            ],
            [
             0.8888888888888888,
             "#fdca26"
            ],
            [
             1,
             "#f0f921"
            ]
           ],
           "sequentialminus": [
            [
             0,
             "#0d0887"
            ],
            [
             0.1111111111111111,
             "#46039f"
            ],
            [
             0.2222222222222222,
             "#7201a8"
            ],
            [
             0.3333333333333333,
             "#9c179e"
            ],
            [
             0.4444444444444444,
             "#bd3786"
            ],
            [
             0.5555555555555556,
             "#d8576b"
            ],
            [
             0.6666666666666666,
             "#ed7953"
            ],
            [
             0.7777777777777778,
             "#fb9f3a"
            ],
            [
             0.8888888888888888,
             "#fdca26"
            ],
            [
             1,
             "#f0f921"
            ]
           ]
          },
          "colorway": [
           "#636efa",
           "#EF553B",
           "#00cc96",
           "#ab63fa",
           "#FFA15A",
           "#19d3f3",
           "#FF6692",
           "#B6E880",
           "#FF97FF",
           "#FECB52"
          ],
          "font": {
           "color": "#2a3f5f"
          },
          "geo": {
           "bgcolor": "white",
           "lakecolor": "white",
           "landcolor": "white",
           "showlakes": true,
           "showland": true,
           "subunitcolor": "#C8D4E3"
          },
          "hoverlabel": {
           "align": "left"
          },
          "hovermode": "closest",
          "mapbox": {
           "style": "light"
          },
          "paper_bgcolor": "white",
          "plot_bgcolor": "white",
          "polar": {
           "angularaxis": {
            "gridcolor": "#EBF0F8",
            "linecolor": "#EBF0F8",
            "ticks": ""
           },
           "bgcolor": "white",
           "radialaxis": {
            "gridcolor": "#EBF0F8",
            "linecolor": "#EBF0F8",
            "ticks": ""
           }
          },
          "scene": {
           "xaxis": {
            "backgroundcolor": "white",
            "gridcolor": "#DFE8F3",
            "gridwidth": 2,
            "linecolor": "#EBF0F8",
            "showbackground": true,
            "ticks": "",
            "zerolinecolor": "#EBF0F8"
           },
           "yaxis": {
            "backgroundcolor": "white",
            "gridcolor": "#DFE8F3",
            "gridwidth": 2,
            "linecolor": "#EBF0F8",
            "showbackground": true,
            "ticks": "",
            "zerolinecolor": "#EBF0F8"
           },
           "zaxis": {
            "backgroundcolor": "white",
            "gridcolor": "#DFE8F3",
            "gridwidth": 2,
            "linecolor": "#EBF0F8",
            "showbackground": true,
            "ticks": "",
            "zerolinecolor": "#EBF0F8"
           }
          },
          "shapedefaults": {
           "line": {
            "color": "#2a3f5f"
           }
          },
          "ternary": {
           "aaxis": {
            "gridcolor": "#DFE8F3",
            "linecolor": "#A2B1C6",
            "ticks": ""
           },
           "baxis": {
            "gridcolor": "#DFE8F3",
            "linecolor": "#A2B1C6",
            "ticks": ""
           },
           "bgcolor": "white",
           "caxis": {
            "gridcolor": "#DFE8F3",
            "linecolor": "#A2B1C6",
            "ticks": ""
           }
          },
          "title": {
           "x": 0.05
          },
          "xaxis": {
           "automargin": true,
           "gridcolor": "#EBF0F8",
           "linecolor": "#EBF0F8",
           "ticks": "",
           "title": {
            "standoff": 15
           },
           "zerolinecolor": "#EBF0F8",
           "zerolinewidth": 2
          },
          "yaxis": {
           "automargin": true,
           "gridcolor": "#EBF0F8",
           "linecolor": "#EBF0F8",
           "ticks": "",
           "title": {
            "standoff": 15
           },
           "zerolinecolor": "#EBF0F8",
           "zerolinewidth": 2
          }
         }
        },
        "title": {
         "text": "Distribution of Insurance Costs by Region"
        },
        "xaxis": {
         "anchor": "y",
         "categoryarray": [
          "Southwest",
          "Southeast",
          "Northwest",
          "Northeast"
         ],
         "categoryorder": "array",
         "domain": [
          0,
          1
         ],
         "title": {
          "text": "Region"
         }
        },
        "yaxis": {
         "anchor": "x",
         "domain": [
          0,
          1
         ],
         "gridcolor": "#EAEAEA",
         "gridwidth": 1,
         "showgrid": true,
         "title": {
          "text": "Claim Amount, $"
         },
         "zerolinecolor": "#EAEAEA"
        }
       }
      },
      "text/html": [
       "<div>                            <div id=\"b784b31f-1c69-4bd1-ae38-8610dcc02c29\" class=\"plotly-graph-div\" style=\"height:600px; width:100%;\"></div>            <script type=\"text/javascript\">                require([\"plotly\"], function(Plotly) {                    window.PLOTLYENV=window.PLOTLYENV || {};                                    if (document.getElementById(\"b784b31f-1c69-4bd1-ae38-8610dcc02c29\")) {                    Plotly.newPlot(                        \"b784b31f-1c69-4bd1-ae38-8610dcc02c29\",                        [{\"alignmentgroup\":\"True\",\"boxpoints\":\"outliers\",\"hovertemplate\":\"region=%{x}<br>charges=%{y}<extra></extra>\",\"legendgroup\":\"Southwest\",\"marker\":{\"color\":\"#B14B51\",\"line\":{\"color\":\"#F7F7F7\",\"width\":1},\"opacity\":0.5,\"size\":9},\"name\":\"Southwest\",\"notched\":true,\"offsetgroup\":\"Southwest\",\"orientation\":\"v\",\"showlegend\":false,\"x\":[\"Southwest\",\"Southwest\",\"Southwest\",\"Southwest\",\"Southwest\",\"Southwest\",\"Southwest\",\"Southwest\",\"Southwest\",\"Southwest\",\"Southwest\",\"Southwest\",\"Southwest\",\"Southwest\",\"Southwest\",\"Southwest\",\"Southwest\",\"Southwest\",\"Southwest\",\"Southwest\",\"Southwest\",\"Southwest\",\"Southwest\",\"Southwest\",\"Southwest\",\"Southwest\",\"Southwest\",\"Southwest\",\"Southwest\",\"Southwest\",\"Southwest\",\"Southwest\",\"Southwest\",\"Southwest\",\"Southwest\",\"Southwest\",\"Southwest\",\"Southwest\",\"Southwest\",\"Southwest\",\"Southwest\",\"Southwest\",\"Southwest\",\"Southwest\",\"Southwest\",\"Southwest\",\"Southwest\",\"Southwest\",\"Southwest\",\"Southwest\",\"Southwest\",\"Southwest\",\"Southwest\",\"Southwest\",\"Southwest\",\"Southwest\",\"Southwest\",\"Southwest\",\"Southwest\",\"Southwest\",\"Southwest\",\"Southwest\",\"Southwest\",\"Southwest\",\"Southwest\",\"Southwest\",\"Southwest\",\"Southwest\",\"Southwest\",\"Southwest\",\"Southwest\",\"Southwest\",\"Southwest\",\"Southwest\",\"Southwest\",\"Southwest\",\"Southwest\",\"Southwest\",\"Southwest\",\"Southwest\",\"Southwest\",\"Southwest\",\"Southwest\",\"Southwest\",\"Southwest\",\"Southwest\",\"Southwest\",\"Southwest\",\"Southwest\",\"Southwest\",\"Southwest\",\"Southwest\",\"Southwest\",\"Southwest\",\"Southwest\",\"Southwest\",\"Southwest\",\"Southwest\",\"Southwest\",\"Southwest\",\"Southwest\",\"Southwest\",\"Southwest\",\"Southwest\",\"Southwest\",\"Southwest\",\"Southwest\",\"Southwest\",\"Southwest\",\"Southwest\",\"Southwest\",\"Southwest\",\"Southwest\",\"Southwest\",\"Southwest\",\"Southwest\",\"Southwest\",\"Southwest\",\"Southwest\",\"Southwest\",\"Southwest\",\"Southwest\",\"Southwest\",\"Southwest\",\"Southwest\",\"Southwest\",\"Southwest\",\"Southwest\",\"Southwest\",\"Southwest\",\"Southwest\",\"Southwest\",\"Southwest\",\"Southwest\",\"Southwest\",\"Southwest\",\"Southwest\",\"Southwest\",\"Southwest\",\"Southwest\",\"Southwest\",\"Southwest\",\"Southwest\",\"Southwest\",\"Southwest\",\"Southwest\",\"Southwest\",\"Southwest\",\"Southwest\",\"Southwest\",\"Southwest\",\"Southwest\",\"Southwest\",\"Southwest\",\"Southwest\",\"Southwest\",\"Southwest\",\"Southwest\",\"Southwest\",\"Southwest\",\"Southwest\",\"Southwest\",\"Southwest\",\"Southwest\",\"Southwest\",\"Southwest\",\"Southwest\",\"Southwest\",\"Southwest\",\"Southwest\",\"Southwest\",\"Southwest\",\"Southwest\",\"Southwest\",\"Southwest\",\"Southwest\",\"Southwest\",\"Southwest\",\"Southwest\",\"Southwest\",\"Southwest\",\"Southwest\",\"Southwest\",\"Southwest\",\"Southwest\",\"Southwest\",\"Southwest\",\"Southwest\",\"Southwest\",\"Southwest\",\"Southwest\",\"Southwest\",\"Southwest\",\"Southwest\",\"Southwest\",\"Southwest\",\"Southwest\",\"Southwest\",\"Southwest\",\"Southwest\",\"Southwest\",\"Southwest\",\"Southwest\",\"Southwest\",\"Southwest\",\"Southwest\",\"Southwest\",\"Southwest\",\"Southwest\",\"Southwest\",\"Southwest\",\"Southwest\",\"Southwest\",\"Southwest\",\"Southwest\",\"Southwest\",\"Southwest\",\"Southwest\",\"Southwest\",\"Southwest\",\"Southwest\",\"Southwest\",\"Southwest\",\"Southwest\",\"Southwest\",\"Southwest\",\"Southwest\",\"Southwest\",\"Southwest\",\"Southwest\",\"Southwest\",\"Southwest\",\"Southwest\",\"Southwest\",\"Southwest\",\"Southwest\",\"Southwest\",\"Southwest\",\"Southwest\",\"Southwest\",\"Southwest\",\"Southwest\",\"Southwest\",\"Southwest\",\"Southwest\",\"Southwest\",\"Southwest\",\"Southwest\",\"Southwest\",\"Southwest\",\"Southwest\",\"Southwest\",\"Southwest\",\"Southwest\",\"Southwest\",\"Southwest\",\"Southwest\",\"Southwest\",\"Southwest\",\"Southwest\",\"Southwest\",\"Southwest\",\"Southwest\",\"Southwest\",\"Southwest\",\"Southwest\",\"Southwest\",\"Southwest\",\"Southwest\",\"Southwest\",\"Southwest\",\"Southwest\",\"Southwest\",\"Southwest\",\"Southwest\",\"Southwest\",\"Southwest\",\"Southwest\",\"Southwest\",\"Southwest\",\"Southwest\",\"Southwest\",\"Southwest\",\"Southwest\",\"Southwest\",\"Southwest\",\"Southwest\",\"Southwest\",\"Southwest\",\"Southwest\",\"Southwest\",\"Southwest\",\"Southwest\",\"Southwest\",\"Southwest\",\"Southwest\",\"Southwest\",\"Southwest\",\"Southwest\",\"Southwest\",\"Southwest\",\"Southwest\",\"Southwest\",\"Southwest\",\"Southwest\",\"Southwest\",\"Southwest\",\"Southwest\",\"Southwest\",\"Southwest\",\"Southwest\",\"Southwest\",\"Southwest\",\"Southwest\",\"Southwest\",\"Southwest\",\"Southwest\",\"Southwest\",\"Southwest\",\"Southwest\",\"Southwest\",\"Southwest\",\"Southwest\",\"Southwest\",\"Southwest\"],\"x0\":\" \",\"xaxis\":\"x\",\"y\":[16884.924,1826.843,1837.237,10602.385,36837.467,4149.736,38711.0,35585.576,4687.797,51194.55914,2302.3,48173.361,20630.28351,23568.272,1743.214,14235.072,11741.726,7726.854,39836.519,11073.176,47291.055,12105.32,15820.699,6186.127,5003.853,2331.519,11881.358,4646.759,7740.337,17081.08,9634.538,6082.405,11163.568,1261.442,2166.732,1842.519,10450.552,5152.134,4830.63,8116.68,5246.047,48824.45,10436.096,8823.279,5325.651,6775.961,4883.866,5649.715,7147.105,13880.949,1980.07,8520.026,7371.772,5012.471,5253.524,34779.615,1727.785,12333.828,35160.13457,7196.867,1832.094,47305.305,4260.744,11837.16,7441.053,42856.838,2150.469,9625.92,3172.018,3906.127,16297.846,12646.207,20177.67113,8444.474,1737.376,34838.873,35491.64,2866.091,47928.03,9144.565,13822.803,18955.22017,8932.084,3554.203,24603.04837,4751.07,13844.506,2597.779,36085.219,1261.859,8522.003,14988.432,9264.797,3260.199,8539.671,5080.096,18608.262,8968.33,23082.95533,5969.723,12638.195,5926.846,37079.372,7345.084,5910.944,4762.329,7512.267,1969.614,21797.0004,10601.412,22144.032,13224.693,1744.465,25382.297,9880.068,9563.029,1253.936,1748.774,12574.049,17942.106,4931.647,8027.968,13470.86,36197.699,11455.28,1256.299,21082.16,11362.755,5240.765,9861.025,5972.378,8825.086,6196.448,11538.421,13390.559,12957.118,3847.674,2494.022,11552.904,3761.292,9724.53,1242.816,11842.442,7441.501,11070.535,39241.442,6571.544,23306.547,10713.644,3659.346,40182.246,9182.17,11365.952,10085.846,1977.815,9391.346,6666.243,3410.324,8703.456,12363.547,2585.269,1242.26,40103.89,4766.022,26236.57997,8068.185,3577.999,5375.038,2457.502,12146.971,11264.541,12979.358,1263.249,10065.413,4234.927,14007.222,3484.331,44585.45587,11737.84884,8556.907,2416.955,19040.876,8062.764,7050.642,14319.031,27941.28758,11150.78,18259.216,24520.264,6414.178,1252.407,11848.141,2103.08,9414.92,3597.596,7445.918,13393.756,4402.233,1526.312,9872.701,2974.126,1875.344,10965.446,46113.511,7151.092,8782.469,6600.361,11576.13,4391.652,8457.818,6849.026,26140.3603,6282.235,6311.952,3443.064,1682.597,13063.883,12644.589,15170.069,17496.306,7626.993,13041.921,13451.122,13462.52,5488.262,6250.435,2913.569,12032.326,6238.298,10096.97,7348.142,12233.828,11674.13,7160.094,19933.458,38998.546,3353.284,4746.344,1759.338,19199.944,7624.63,3378.91,10118.424,7418.522,34472.841,1972.95,21232.18226,8269.044,5383.536,3987.926,8798.593,2020.177,9850.432,12094.478,3161.454,39727.614,25309.489,8277.523,5708.867,7045.499,8551.347,4076.497,19023.26,10577.087,3591.48,11299.343,11253.421,20420.60465,2904.088,34166.273,10214.636,14358.36437,1728.897,3693.428,7623.518,7954.517,9630.397,52590.82939,10791.96,5979.731,3989.841,4529.477,4670.64,22478.6,2154.361,6496.886,2632.992,13126.67745,4934.705,36910.60803,38415.474,12347.172,10806.839,41661.602,20167.33603,11345.519,5615.369,9101.798,6059.173,1241.565,16232.847,15828.82173,6474.013,3277.161,7337.748,10704.47,1880.487,8615.3,10959.33,47403.88,5472.449,38344.566,34828.654,1964.78,3208.787,37829.7242,33900.653,6875.961,4536.259,36397.576,1731.677,10325.206,10795.93733,11411.685,2007.945],\"y0\":\" \",\"yaxis\":\"y\",\"type\":\"box\"},{\"alignmentgroup\":\"True\",\"boxpoints\":\"outliers\",\"hovertemplate\":\"region=%{x}<br>charges=%{y}<extra></extra>\",\"legendgroup\":\"Southeast\",\"marker\":{\"color\":\"#D0A99C\",\"line\":{\"color\":\"#F7F7F7\",\"width\":1},\"opacity\":0.5,\"size\":9},\"name\":\"Southeast\",\"notched\":true,\"offsetgroup\":\"Southeast\",\"orientation\":\"v\",\"showlegend\":false,\"x\":[\"Southeast\",\"Southeast\",\"Southeast\",\"Southeast\",\"Southeast\",\"Southeast\",\"Southeast\",\"Southeast\",\"Southeast\",\"Southeast\",\"Southeast\",\"Southeast\",\"Southeast\",\"Southeast\",\"Southeast\",\"Southeast\",\"Southeast\",\"Southeast\",\"Southeast\",\"Southeast\",\"Southeast\",\"Southeast\",\"Southeast\",\"Southeast\",\"Southeast\",\"Southeast\",\"Southeast\",\"Southeast\",\"Southeast\",\"Southeast\",\"Southeast\",\"Southeast\",\"Southeast\",\"Southeast\",\"Southeast\",\"Southeast\",\"Southeast\",\"Southeast\",\"Southeast\",\"Southeast\",\"Southeast\",\"Southeast\",\"Southeast\",\"Southeast\",\"Southeast\",\"Southeast\",\"Southeast\",\"Southeast\",\"Southeast\",\"Southeast\",\"Southeast\",\"Southeast\",\"Southeast\",\"Southeast\",\"Southeast\",\"Southeast\",\"Southeast\",\"Southeast\",\"Southeast\",\"Southeast\",\"Southeast\",\"Southeast\",\"Southeast\",\"Southeast\",\"Southeast\",\"Southeast\",\"Southeast\",\"Southeast\",\"Southeast\",\"Southeast\",\"Southeast\",\"Southeast\",\"Southeast\",\"Southeast\",\"Southeast\",\"Southeast\",\"Southeast\",\"Southeast\",\"Southeast\",\"Southeast\",\"Southeast\",\"Southeast\",\"Southeast\",\"Southeast\",\"Southeast\",\"Southeast\",\"Southeast\",\"Southeast\",\"Southeast\",\"Southeast\",\"Southeast\",\"Southeast\",\"Southeast\",\"Southeast\",\"Southeast\",\"Southeast\",\"Southeast\",\"Southeast\",\"Southeast\",\"Southeast\",\"Southeast\",\"Southeast\",\"Southeast\",\"Southeast\",\"Southeast\",\"Southeast\",\"Southeast\",\"Southeast\",\"Southeast\",\"Southeast\",\"Southeast\",\"Southeast\",\"Southeast\",\"Southeast\",\"Southeast\",\"Southeast\",\"Southeast\",\"Southeast\",\"Southeast\",\"Southeast\",\"Southeast\",\"Southeast\",\"Southeast\",\"Southeast\",\"Southeast\",\"Southeast\",\"Southeast\",\"Southeast\",\"Southeast\",\"Southeast\",\"Southeast\",\"Southeast\",\"Southeast\",\"Southeast\",\"Southeast\",\"Southeast\",\"Southeast\",\"Southeast\",\"Southeast\",\"Southeast\",\"Southeast\",\"Southeast\",\"Southeast\",\"Southeast\",\"Southeast\",\"Southeast\",\"Southeast\",\"Southeast\",\"Southeast\",\"Southeast\",\"Southeast\",\"Southeast\",\"Southeast\",\"Southeast\",\"Southeast\",\"Southeast\",\"Southeast\",\"Southeast\",\"Southeast\",\"Southeast\",\"Southeast\",\"Southeast\",\"Southeast\",\"Southeast\",\"Southeast\",\"Southeast\",\"Southeast\",\"Southeast\",\"Southeast\",\"Southeast\",\"Southeast\",\"Southeast\",\"Southeast\",\"Southeast\",\"Southeast\",\"Southeast\",\"Southeast\",\"Southeast\",\"Southeast\",\"Southeast\",\"Southeast\",\"Southeast\",\"Southeast\",\"Southeast\",\"Southeast\",\"Southeast\",\"Southeast\",\"Southeast\",\"Southeast\",\"Southeast\",\"Southeast\",\"Southeast\",\"Southeast\",\"Southeast\",\"Southeast\",\"Southeast\",\"Southeast\",\"Southeast\",\"Southeast\",\"Southeast\",\"Southeast\",\"Southeast\",\"Southeast\",\"Southeast\",\"Southeast\",\"Southeast\",\"Southeast\",\"Southeast\",\"Southeast\",\"Southeast\",\"Southeast\",\"Southeast\",\"Southeast\",\"Southeast\",\"Southeast\",\"Southeast\",\"Southeast\",\"Southeast\",\"Southeast\",\"Southeast\",\"Southeast\",\"Southeast\",\"Southeast\",\"Southeast\",\"Southeast\",\"Southeast\",\"Southeast\",\"Southeast\",\"Southeast\",\"Southeast\",\"Southeast\",\"Southeast\",\"Southeast\",\"Southeast\",\"Southeast\",\"Southeast\",\"Southeast\",\"Southeast\",\"Southeast\",\"Southeast\",\"Southeast\",\"Southeast\",\"Southeast\",\"Southeast\",\"Southeast\",\"Southeast\",\"Southeast\",\"Southeast\",\"Southeast\",\"Southeast\",\"Southeast\",\"Southeast\",\"Southeast\",\"Southeast\",\"Southeast\",\"Southeast\",\"Southeast\",\"Southeast\",\"Southeast\",\"Southeast\",\"Southeast\",\"Southeast\",\"Southeast\",\"Southeast\",\"Southeast\",\"Southeast\",\"Southeast\",\"Southeast\",\"Southeast\",\"Southeast\",\"Southeast\",\"Southeast\",\"Southeast\",\"Southeast\",\"Southeast\",\"Southeast\",\"Southeast\",\"Southeast\",\"Southeast\",\"Southeast\",\"Southeast\",\"Southeast\",\"Southeast\",\"Southeast\",\"Southeast\",\"Southeast\",\"Southeast\",\"Southeast\",\"Southeast\",\"Southeast\",\"Southeast\",\"Southeast\",\"Southeast\",\"Southeast\",\"Southeast\",\"Southeast\",\"Southeast\",\"Southeast\",\"Southeast\",\"Southeast\",\"Southeast\",\"Southeast\",\"Southeast\",\"Southeast\",\"Southeast\",\"Southeast\",\"Southeast\",\"Southeast\",\"Southeast\",\"Southeast\",\"Southeast\",\"Southeast\",\"Southeast\",\"Southeast\",\"Southeast\",\"Southeast\",\"Southeast\",\"Southeast\",\"Southeast\",\"Southeast\",\"Southeast\",\"Southeast\",\"Southeast\",\"Southeast\",\"Southeast\",\"Southeast\",\"Southeast\",\"Southeast\",\"Southeast\",\"Southeast\",\"Southeast\",\"Southeast\",\"Southeast\",\"Southeast\",\"Southeast\",\"Southeast\",\"Southeast\",\"Southeast\",\"Southeast\",\"Southeast\",\"Southeast\",\"Southeast\",\"Southeast\",\"Southeast\",\"Southeast\",\"Southeast\",\"Southeast\",\"Southeast\",\"Southeast\",\"Southeast\",\"Southeast\",\"Southeast\",\"Southeast\",\"Southeast\",\"Southeast\",\"Southeast\",\"Southeast\",\"Southeast\",\"Southeast\",\"Southeast\",\"Southeast\",\"Southeast\",\"Southeast\",\"Southeast\"],\"x0\":\" \",\"xaxis\":\"x\",\"y\":[1725.5523,4449.462,3756.6216,8240.5896,27808.7251,11090.7178,39611.7577,1137.011,14001.1338,4949.7587,6272.4772,6313.759,12629.8967,38709.176,37742.5757,34303.1672,23244.7902,4504.6624,5920.1041,17663.1442,16577.7795,11946.6259,3947.4131,1532.4697,37165.1638,2026.9741,3766.8838,10226.2842,30942.1918,2867.1196,47055.5321,11381.3254,19107.7796,8601.3293,2155.6815,27322.73386,18972.495,5138.2567,9877.6077,7789.635,21223.6758,36950.2567,19749.38338,36149.4835,13405.3903,1631.8212,7731.4271,3981.9768,12557.6053,2137.6536,1137.4697,8516.829,8871.1517,37133.8982,11743.299,5002.7827,2483.736,3392.9768,25081.76784,19515.5416,11987.1682,2689.4954,24227.33724,14001.2867,19444.2658,1615.7667,4463.2051,7152.6714,12648.7034,1986.9334,44260.7499,5400.9805,17085.2676,20462.99766,46151.1245,17179.522,1719.4363,12928.7911,9855.1314,7742.1098,25992.82104,42112.2356,2156.7518,21978.6769,12265.5069,4349.462,4151.0287,42124.5153,8124.4084,3561.8889,12142.5786,8232.6388,10977.2063,6184.2994,4889.9995,5478.0368,14133.03775,8944.1151,1837.2819,1607.5101,3180.5101,1391.5287,38126.2465,27000.98473,20781.48892,5846.9176,11856.4115,16586.49771,1631.6683,8083.9198,4185.0979,6652.5288,4074.4537,7345.7266,9140.951,14418.2804,46889.2612,46599.1084,9788.8659,13919.8229,12592.5345,1149.3959,28287.89766,4686.3887,11881.9696,7682.67,10381.4787,19521.9682,2201.0971,2497.0383,1534.3045,1824.2854,9304.7019,1622.1885,48885.13561,24513.09126,8211.1002,22218.1149,32548.3405,5974.3847,2498.4144,27724.28875,3994.1778,5397.6167,38245.59327,11482.63485,48675.5177,12925.886,19214.70553,13831.1152,8233.0975,27346.04207,3056.3881,13887.204,63770.42801,45863.205,3972.9247,3935.1799,9058.7303,2801.2588,2219.4451,4753.6368,1664.9996,6356.2707,17626.23951,4779.6023,5976.8311,2566.4707,5709.1644,7640.3092,1633.0444,16085.1275,9283.562,8547.6913,1880.07,42969.8527,34439.8559,11326.71487,3366.6697,12949.1554,18806.14547,9800.8882,10579.711,8280.6227,8527.532,12244.531,24667.419,6435.6237,22192.43711,1136.3994,27037.9141,42560.4304,6500.2359,4837.5823,4399.731,6185.3208,46200.9851,12485.8009,5438.7491,34806.4677,40273.6455,3500.6123,2020.5523,9504.3103,44400.4064,1727.54,10107.2206,40932.4295,6781.3542,19361.9988,40419.0191,18246.4955,3757.8448,19539.243,11833.7823,23065.4207,36307.7983,10560.4917,5934.3798,1146.7966,9386.1613,4350.5144,13457.9608,5662.225,21195.818,4266.1658,7046.7222,14313.8463,38792.6856,1815.8759,1131.5066,11013.7119,5584.3057,1877.9294,1621.8827,8219.2039,43813.8661,7160.3303,36021.0112,27533.9129,45008.9555,2438.0552,40974.1649,18218.16139,1141.4451,3392.3652,5966.8874,6653.7886,19719.6947,7243.8136,44202.6536,1634.5734,48673.5588,8125.7845,7633.7206,2473.3341,5245.2269,13470.8044,6289.7549,2927.0647,4673.3922,2304.0022,9487.6442,1121.8739,9549.5651,12982.8747,47462.894,3875.7341,41999.52,14474.675,8596.8278,10702.6424,2322.6218,7804.1605,2902.9065,4889.0368,5484.4673,13887.9685,18767.7377,36580.28216,35595.5898,42211.1382,1711.0268,8569.8618,44423.803,37484.4493,44501.3982,17929.30337,2480.9791,1981.5819,11554.2236,48970.2476,8978.1851,10928.849,39871.7043,4562.8421,34672.1472,15161.5344,11884.04858,9748.9106,41676.0811,1674.6323,3227.1211,3471.4096,11363.2832,10338.9316,8605.3615,41949.2441,24180.9335,10807.4863,36124.5737,38282.7495,8347.1643,5836.5204,8582.3023,3704.3545,9048.0273,27117.99378,6338.0756,40941.2854,39722.7462,5124.1887,18963.17192,10982.5013,11093.6229,19350.3689,18328.2381,5699.8375,18223.4512,23563.01618,5415.6612,4058.1161,6593.5083,8442.667,26125.67477,4795.6568,7162.0122,10594.2257,8515.7587,3238.4357,47269.854,49577.6624,3171.6149,1135.9407,1633.9618,4415.1588,6770.1925,26926.5144,14478.33015,4747.0529,17043.3414,8283.6807,1720.3537,7147.4728,1515.3449,4340.4409,62592.87309,2464.6188,1163.4627,12981.3457,43896.3763,9377.9047,12629.1656,1629.8335],\"y0\":\" \",\"yaxis\":\"y\",\"type\":\"box\"},{\"alignmentgroup\":\"True\",\"boxpoints\":\"outliers\",\"hovertemplate\":\"region=%{x}<br>charges=%{y}<extra></extra>\",\"legendgroup\":\"Northwest\",\"marker\":{\"color\":\"#5D8370\",\"line\":{\"color\":\"#F7F7F7\",\"width\":1},\"opacity\":0.5,\"size\":9},\"name\":\"Northwest\",\"notched\":true,\"offsetgroup\":\"Northwest\",\"orientation\":\"v\",\"showlegend\":false,\"x\":[\"Northwest\",\"Northwest\",\"Northwest\",\"Northwest\",\"Northwest\",\"Northwest\",\"Northwest\",\"Northwest\",\"Northwest\",\"Northwest\",\"Northwest\",\"Northwest\",\"Northwest\",\"Northwest\",\"Northwest\",\"Northwest\",\"Northwest\",\"Northwest\",\"Northwest\",\"Northwest\",\"Northwest\",\"Northwest\",\"Northwest\",\"Northwest\",\"Northwest\",\"Northwest\",\"Northwest\",\"Northwest\",\"Northwest\",\"Northwest\",\"Northwest\",\"Northwest\",\"Northwest\",\"Northwest\",\"Northwest\",\"Northwest\",\"Northwest\",\"Northwest\",\"Northwest\",\"Northwest\",\"Northwest\",\"Northwest\",\"Northwest\",\"Northwest\",\"Northwest\",\"Northwest\",\"Northwest\",\"Northwest\",\"Northwest\",\"Northwest\",\"Northwest\",\"Northwest\",\"Northwest\",\"Northwest\",\"Northwest\",\"Northwest\",\"Northwest\",\"Northwest\",\"Northwest\",\"Northwest\",\"Northwest\",\"Northwest\",\"Northwest\",\"Northwest\",\"Northwest\",\"Northwest\",\"Northwest\",\"Northwest\",\"Northwest\",\"Northwest\",\"Northwest\",\"Northwest\",\"Northwest\",\"Northwest\",\"Northwest\",\"Northwest\",\"Northwest\",\"Northwest\",\"Northwest\",\"Northwest\",\"Northwest\",\"Northwest\",\"Northwest\",\"Northwest\",\"Northwest\",\"Northwest\",\"Northwest\",\"Northwest\",\"Northwest\",\"Northwest\",\"Northwest\",\"Northwest\",\"Northwest\",\"Northwest\",\"Northwest\",\"Northwest\",\"Northwest\",\"Northwest\",\"Northwest\",\"Northwest\",\"Northwest\",\"Northwest\",\"Northwest\",\"Northwest\",\"Northwest\",\"Northwest\",\"Northwest\",\"Northwest\",\"Northwest\",\"Northwest\",\"Northwest\",\"Northwest\",\"Northwest\",\"Northwest\",\"Northwest\",\"Northwest\",\"Northwest\",\"Northwest\",\"Northwest\",\"Northwest\",\"Northwest\",\"Northwest\",\"Northwest\",\"Northwest\",\"Northwest\",\"Northwest\",\"Northwest\",\"Northwest\",\"Northwest\",\"Northwest\",\"Northwest\",\"Northwest\",\"Northwest\",\"Northwest\",\"Northwest\",\"Northwest\",\"Northwest\",\"Northwest\",\"Northwest\",\"Northwest\",\"Northwest\",\"Northwest\",\"Northwest\",\"Northwest\",\"Northwest\",\"Northwest\",\"Northwest\",\"Northwest\",\"Northwest\",\"Northwest\",\"Northwest\",\"Northwest\",\"Northwest\",\"Northwest\",\"Northwest\",\"Northwest\",\"Northwest\",\"Northwest\",\"Northwest\",\"Northwest\",\"Northwest\",\"Northwest\",\"Northwest\",\"Northwest\",\"Northwest\",\"Northwest\",\"Northwest\",\"Northwest\",\"Northwest\",\"Northwest\",\"Northwest\",\"Northwest\",\"Northwest\",\"Northwest\",\"Northwest\",\"Northwest\",\"Northwest\",\"Northwest\",\"Northwest\",\"Northwest\",\"Northwest\",\"Northwest\",\"Northwest\",\"Northwest\",\"Northwest\",\"Northwest\",\"Northwest\",\"Northwest\",\"Northwest\",\"Northwest\",\"Northwest\",\"Northwest\",\"Northwest\",\"Northwest\",\"Northwest\",\"Northwest\",\"Northwest\",\"Northwest\",\"Northwest\",\"Northwest\",\"Northwest\",\"Northwest\",\"Northwest\",\"Northwest\",\"Northwest\",\"Northwest\",\"Northwest\",\"Northwest\",\"Northwest\",\"Northwest\",\"Northwest\",\"Northwest\",\"Northwest\",\"Northwest\",\"Northwest\",\"Northwest\",\"Northwest\",\"Northwest\",\"Northwest\",\"Northwest\",\"Northwest\",\"Northwest\",\"Northwest\",\"Northwest\",\"Northwest\",\"Northwest\",\"Northwest\",\"Northwest\",\"Northwest\",\"Northwest\",\"Northwest\",\"Northwest\",\"Northwest\",\"Northwest\",\"Northwest\",\"Northwest\",\"Northwest\",\"Northwest\",\"Northwest\",\"Northwest\",\"Northwest\",\"Northwest\",\"Northwest\",\"Northwest\",\"Northwest\",\"Northwest\",\"Northwest\",\"Northwest\",\"Northwest\",\"Northwest\",\"Northwest\",\"Northwest\",\"Northwest\",\"Northwest\",\"Northwest\",\"Northwest\",\"Northwest\",\"Northwest\",\"Northwest\",\"Northwest\",\"Northwest\",\"Northwest\",\"Northwest\",\"Northwest\",\"Northwest\",\"Northwest\",\"Northwest\",\"Northwest\",\"Northwest\",\"Northwest\",\"Northwest\",\"Northwest\",\"Northwest\",\"Northwest\",\"Northwest\",\"Northwest\",\"Northwest\",\"Northwest\",\"Northwest\",\"Northwest\",\"Northwest\",\"Northwest\",\"Northwest\",\"Northwest\",\"Northwest\",\"Northwest\",\"Northwest\",\"Northwest\",\"Northwest\",\"Northwest\",\"Northwest\",\"Northwest\",\"Northwest\",\"Northwest\",\"Northwest\",\"Northwest\",\"Northwest\",\"Northwest\",\"Northwest\",\"Northwest\",\"Northwest\",\"Northwest\",\"Northwest\",\"Northwest\",\"Northwest\",\"Northwest\",\"Northwest\",\"Northwest\",\"Northwest\",\"Northwest\",\"Northwest\",\"Northwest\",\"Northwest\",\"Northwest\",\"Northwest\",\"Northwest\",\"Northwest\",\"Northwest\",\"Northwest\",\"Northwest\",\"Northwest\",\"Northwest\",\"Northwest\",\"Northwest\",\"Northwest\"],\"x0\":\" \",\"xaxis\":\"x\",\"y\":[21984.47061,3866.8552,7281.5056,28923.13692,6203.90175,12268.63225,2775.19215,13770.0979,1625.43375,15612.19335,3556.9223,3579.8287,8059.6791,47496.49445,5989.52365,30166.61817,4133.64165,14711.7438,6389.37785,11356.6609,6571.02435,11033.6617,21098.55405,43578.9394,8026.6666,11082.5772,10942.13205,5729.0053,17560.37975,3877.30425,10825.2537,2404.7338,6686.4313,2257.47525,10115.00885,32734.1863,1632.56445,2045.68525,18157.876,20745.9891,40720.55105,10959.6947,5125.2157,6948.7008,21348.706,5028.1466,6128.79745,2719.27975,2855.43755,6455.86265,11735.87905,7419.4779,4922.9159,12044.342,1639.5631,9644.2525,2130.6759,13012.20865,8162.71625,3537.703,10355.641,7443.64305,6710.1919,17352.6803,24476.47851,43921.1837,11520.09985,33750.2918,36219.40545,7265.7025,2523.1695,2803.69785,14256.1928,38746.3551,9249.4952,19442.3535,7749.1564,8835.26495,7421.19455,4894.7533,42760.5022,24393.6224,13429.0354,13937.6665,13352.0998,1635.73365,11830.6072,9620.3307,8017.06115,8116.26885,13415.0381,18033.9679,16455.70785,30284.64294,3176.8159,4618.0799,2138.0707,7526.70645,14692.66935,10269.46,1621.3402,2134.9015,28950.4692,18804.7524,4906.40965,4243.59005,4738.2682,26109.32905,11454.0215,4032.2407,1769.53165,11840.77505,1632.03625,12643.3778,28868.6639,2534.39375,15555.18875,12475.3513,10461.9794,6796.86325,2643.2685,3077.0955,8413.46305,24059.68019,10231.4999,23807.2406,11187.6567,39983.42595,1646.4297,9193.8385,2128.43105,6373.55735,7256.7231,45702.02235,12222.8983,1639.5631,43943.8761,8428.0693,33471.97189,9174.13565,17468.9839,25678.77845,12129.61415,3736.4647,42983.4585,2709.1119,32787.45859,4466.6214,6123.5688,4058.71245,40003.33225,7222.78625,46130.5265,10156.7832,9863.4718,2362.22905,2352.96845,3201.24515,10976.24575,5385.3379,8930.93455,10264.4421,8310.83915,9566.9909,13112.6048,10848.1343,12231.6136,6664.68595,9583.8933,8827.2099,9910.35985,1627.28245,3062.50825,1906.35825,14210.53595,11842.62375,6933.24225,17748.5062,7261.741,6986.697,9869.8102,1917.3184,7209.4918,18310.742,7731.85785,28476.73499,2136.88225,6360.9936,2842.76075,55135.40209,2680.9493,12523.6048,6117.4945,5266.3656,4719.73655,11743.9341,5377.4578,12622.1795,10601.63225,14119.62,15817.9857,12269.68865,2690.1138,2789.0574,4877.98105,5272.1758,11945.1327,29330.98315,2221.56445,2117.33885,2639.0429,14382.70905,5257.50795,21774.32215,4320.41085,8965.79575,1628.4709,6358.77645,4527.18295,20009.63365,12609.88702,28468.91901,2730.10785,26467.09737,23967.38305,7518.02535,2527.81865,8410.04685,28340.18885,16420.49455,5267.81815,17361.7661,4433.3877,24915.22085,8765.249,12124.9924,2709.24395,12495.29085,26018.95052,16450.8947,21595.38229,21677.28345,12950.0712,39725.51805,22493.65964,20234.85475,21880.82,3594.17085,8023.13545,3353.4703,10594.50155,4462.7218,6548.19505,14349.8544,1909.52745,4454.40265,5855.9025,15019.76005,11353.2276,33907.548,8988.15875,10493.9458,5312.16985,5693.4305,46661.4424,14254.6082,9991.03765,19673.33573,11085.5868,3176.2877,36898.73308,11289.10925,2261.5688,12235.8392,5630.45785,11015.1747,14426.07385,7727.2532,7153.5539,6112.35295,6457.8434,4433.9159,23887.6627,2850.68375,37465.34375,13844.7972,5327.40025,8671.19125,4134.08245,18838.70366,33307.5508,6393.60345,6198.7518,8733.22925,2055.3249,5116.5004,5373.36425,3956.07145,7537.1639,60021.39897,12479.70895,2699.56835,12224.35085,4296.2712,11436.73815,11305.93455,30063.58055,3292.52985,3021.80915,4357.04365,4189.1131,24535.69855,9301.89355,5261.46945,2710.82855,46718.16325,21472.4788,6940.90985,4571.41305,18765.87545,7201.70085,5425.02335,4239.89265,10600.5483,29141.3603],\"y0\":\" \",\"yaxis\":\"y\",\"type\":\"box\"},{\"alignmentgroup\":\"True\",\"boxpoints\":\"outliers\",\"hovertemplate\":\"region=%{x}<br>charges=%{y}<extra></extra>\",\"legendgroup\":\"Northeast\",\"marker\":{\"color\":\"#6C839B\",\"line\":{\"color\":\"#F7F7F7\",\"width\":1},\"opacity\":0.5,\"size\":9},\"name\":\"Northeast\",\"notched\":true,\"offsetgroup\":\"Northeast\",\"orientation\":\"v\",\"showlegend\":false,\"x\":[\"Northeast\",\"Northeast\",\"Northeast\",\"Northeast\",\"Northeast\",\"Northeast\",\"Northeast\",\"Northeast\",\"Northeast\",\"Northeast\",\"Northeast\",\"Northeast\",\"Northeast\",\"Northeast\",\"Northeast\",\"Northeast\",\"Northeast\",\"Northeast\",\"Northeast\",\"Northeast\",\"Northeast\",\"Northeast\",\"Northeast\",\"Northeast\",\"Northeast\",\"Northeast\",\"Northeast\",\"Northeast\",\"Northeast\",\"Northeast\",\"Northeast\",\"Northeast\",\"Northeast\",\"Northeast\",\"Northeast\",\"Northeast\",\"Northeast\",\"Northeast\",\"Northeast\",\"Northeast\",\"Northeast\",\"Northeast\",\"Northeast\",\"Northeast\",\"Northeast\",\"Northeast\",\"Northeast\",\"Northeast\",\"Northeast\",\"Northeast\",\"Northeast\",\"Northeast\",\"Northeast\",\"Northeast\",\"Northeast\",\"Northeast\",\"Northeast\",\"Northeast\",\"Northeast\",\"Northeast\",\"Northeast\",\"Northeast\",\"Northeast\",\"Northeast\",\"Northeast\",\"Northeast\",\"Northeast\",\"Northeast\",\"Northeast\",\"Northeast\",\"Northeast\",\"Northeast\",\"Northeast\",\"Northeast\",\"Northeast\",\"Northeast\",\"Northeast\",\"Northeast\",\"Northeast\",\"Northeast\",\"Northeast\",\"Northeast\",\"Northeast\",\"Northeast\",\"Northeast\",\"Northeast\",\"Northeast\",\"Northeast\",\"Northeast\",\"Northeast\",\"Northeast\",\"Northeast\",\"Northeast\",\"Northeast\",\"Northeast\",\"Northeast\",\"Northeast\",\"Northeast\",\"Northeast\",\"Northeast\",\"Northeast\",\"Northeast\",\"Northeast\",\"Northeast\",\"Northeast\",\"Northeast\",\"Northeast\",\"Northeast\",\"Northeast\",\"Northeast\",\"Northeast\",\"Northeast\",\"Northeast\",\"Northeast\",\"Northeast\",\"Northeast\",\"Northeast\",\"Northeast\",\"Northeast\",\"Northeast\",\"Northeast\",\"Northeast\",\"Northeast\",\"Northeast\",\"Northeast\",\"Northeast\",\"Northeast\",\"Northeast\",\"Northeast\",\"Northeast\",\"Northeast\",\"Northeast\",\"Northeast\",\"Northeast\",\"Northeast\",\"Northeast\",\"Northeast\",\"Northeast\",\"Northeast\",\"Northeast\",\"Northeast\",\"Northeast\",\"Northeast\",\"Northeast\",\"Northeast\",\"Northeast\",\"Northeast\",\"Northeast\",\"Northeast\",\"Northeast\",\"Northeast\",\"Northeast\",\"Northeast\",\"Northeast\",\"Northeast\",\"Northeast\",\"Northeast\",\"Northeast\",\"Northeast\",\"Northeast\",\"Northeast\",\"Northeast\",\"Northeast\",\"Northeast\",\"Northeast\",\"Northeast\",\"Northeast\",\"Northeast\",\"Northeast\",\"Northeast\",\"Northeast\",\"Northeast\",\"Northeast\",\"Northeast\",\"Northeast\",\"Northeast\",\"Northeast\",\"Northeast\",\"Northeast\",\"Northeast\",\"Northeast\",\"Northeast\",\"Northeast\",\"Northeast\",\"Northeast\",\"Northeast\",\"Northeast\",\"Northeast\",\"Northeast\",\"Northeast\",\"Northeast\",\"Northeast\",\"Northeast\",\"Northeast\",\"Northeast\",\"Northeast\",\"Northeast\",\"Northeast\",\"Northeast\",\"Northeast\",\"Northeast\",\"Northeast\",\"Northeast\",\"Northeast\",\"Northeast\",\"Northeast\",\"Northeast\",\"Northeast\",\"Northeast\",\"Northeast\",\"Northeast\",\"Northeast\",\"Northeast\",\"Northeast\",\"Northeast\",\"Northeast\",\"Northeast\",\"Northeast\",\"Northeast\",\"Northeast\",\"Northeast\",\"Northeast\",\"Northeast\",\"Northeast\",\"Northeast\",\"Northeast\",\"Northeast\",\"Northeast\",\"Northeast\",\"Northeast\",\"Northeast\",\"Northeast\",\"Northeast\",\"Northeast\",\"Northeast\",\"Northeast\",\"Northeast\",\"Northeast\",\"Northeast\",\"Northeast\",\"Northeast\",\"Northeast\",\"Northeast\",\"Northeast\",\"Northeast\",\"Northeast\",\"Northeast\",\"Northeast\",\"Northeast\",\"Northeast\",\"Northeast\",\"Northeast\",\"Northeast\",\"Northeast\",\"Northeast\",\"Northeast\",\"Northeast\",\"Northeast\",\"Northeast\",\"Northeast\",\"Northeast\",\"Northeast\",\"Northeast\",\"Northeast\",\"Northeast\",\"Northeast\",\"Northeast\",\"Northeast\",\"Northeast\",\"Northeast\",\"Northeast\",\"Northeast\",\"Northeast\",\"Northeast\",\"Northeast\",\"Northeast\",\"Northeast\",\"Northeast\",\"Northeast\",\"Northeast\",\"Northeast\",\"Northeast\",\"Northeast\",\"Northeast\",\"Northeast\",\"Northeast\",\"Northeast\",\"Northeast\",\"Northeast\",\"Northeast\",\"Northeast\",\"Northeast\",\"Northeast\",\"Northeast\",\"Northeast\",\"Northeast\",\"Northeast\",\"Northeast\",\"Northeast\",\"Northeast\",\"Northeast\",\"Northeast\",\"Northeast\",\"Northeast\",\"Northeast\",\"Northeast\",\"Northeast\",\"Northeast\",\"Northeast\",\"Northeast\",\"Northeast\",\"Northeast\",\"Northeast\",\"Northeast\",\"Northeast\",\"Northeast\",\"Northeast\",\"Northeast\",\"Northeast\",\"Northeast\",\"Northeast\",\"Northeast\",\"Northeast\",\"Northeast\"],\"x0\":\" \",\"xaxis\":\"x\",\"y\":[6406.4107,2721.3208,10797.3362,2395.17155,13228.84695,37701.8768,14451.83515,2198.18985,39774.2763,3046.062,6079.6715,3393.35635,2211.13075,13607.36875,8606.2174,6799.458,2755.02095,4441.21315,7935.29115,30184.9367,22412.6485,3645.0894,21344.8467,11488.31695,30259.99556,1705.6245,39556.4945,3385.39915,12815.44495,13616.3586,2457.21115,27375.90478,3490.5491,6334.34355,19964.7463,7077.1894,15518.18025,10407.08585,4827.90495,1694.7964,8538.28845,4005.4225,43753.33705,14901.5167,4337.7352,20984.0936,6610.1097,10564.8845,7358.17565,9225.2564,38511.6283,5354.07465,29523.1656,4040.55825,12829.4551,41097.16175,13047.33235,24869.8368,14590.63205,9282.4806,9617.66245,9715.841,22331.5668,48549.17835,4237.12655,11879.10405,9432.9253,47896.79135,20277.80751,1704.5681,6746.7425,24873.3849,11944.59435,9722.7695,10435.06525,4667.60765,24671.66334,11566.30055,6600.20595,48517.56315,11658.37915,19144.57652,41919.097,13217.0945,13981.85035,8334.45755,12404.8791,10043.249,9778.3472,13430.265,3481.868,12029.2867,7639.41745,21659.9301,15006.57945,42303.69215,8302.53565,10736.87075,8964.06055,9290.1395,9411.005,11396.9002,19594.80965,14455.64405,39125.33225,2727.3951,6555.07035,7323.734819,3167.45585,2254.7967,2897.3235,12730.9996,15230.32405,11165.41765,23288.9284,2203.47185,20878.78443,35147.52848,4347.02335,2196.4732,1967.0227,6837.3687,3044.2133,11763.0009,9361.3268,3857.75925,25656.57526,9866.30485,8342.90875,1708.0014,14043.4767,6067.12675,3268.84665,3213.62205,17878.90068,8334.5896,10923.9332,31620.00106,13224.05705,58571.07448,3206.49135,12913.9924,3861.20965,13635.6379,15359.1045,8823.98575,5594.8455,3558.62025,4435.0942,2207.69745,6753.038,11658.11505,34617.84065,6748.5912,7173.35995,14410.9321,24915.04626,20149.3229,13143.86485,10141.1362,8252.2843,1712.227,12430.95335,26392.26029,14394.39815,5148.5526,45710.20785,3943.5954,11244.3769,7729.64575,2104.1134,29186.48236,9541.69555,6113.23105,5469.0066,1984.4533,9875.6804,10106.13425,16657.71745,2217.6012,9447.25035,36189.1017,8604.48365,43254.41795,17128.42608,5031.26955,7985.815,5428.7277,3925.7582,3070.8087,9095.06825,12797.20962,7448.40395,12741.16745,5209.57885,2731.9122,4719.52405,17904.52705,3309.7926,4428.88785,23401.30575,16069.08475,20773.62775,39597.4072,11657.7189,6402.29135,12323.936,10072.05505,37270.1512,42111.6647,11729.6795,24106.91255,5458.04645,13129.60345,8891.1395,2585.85065,46255.1125,27218.43725,10422.91665,13555.0049,19798.05455,8688.85885,4661.28635,4564.19145,4846.92015,33732.6867,35069.37452,25333.33284,32108.66282,2217.46915,39047.285,11534.87265,41034.2214,9500.57305,3279.86855,4992.3764,16138.76205,9704.66805,25517.11363,4500.33925,16796.41194,4915.05985,4518.82625,14571.8908,7144.86265,7986.47525,6551.7501,8627.5411,4438.2634,23241.47453,9957.7216,6877.9801,4137.5227,13747.87235,2250.8352,1704.70015,33475.81715,11394.06555,7325.0482,14394.5579,9288.0267,5757.41345,13974.45555,12096.6512,13204.28565,2102.2647,10796.35025,11286.5387,4561.1885,44641.1974,23045.56616,16776.30405,11512.405,2396.0959,9222.4026,18903.49141,40904.1995,20709.02034,2203.73595,7228.21565,2459.7201,2200.83085,5227.98875,17178.6824,2899.48935,7650.77375,9447.3824,8603.8234,21771.3423,13725.47184,13019.16105,9964.06,20296.86345,1702.4553,12890.05765,4718.20355,6858.4796,6640.54485,11938.25595,14449.8544,6985.50695,37607.5277,18648.4217,10197.7722,4544.2348,10370.91255,34254.05335,2741.948,22462.04375,14283.4594,8534.6718,3732.6251,7133.9025,11931.12525,1708.92575,21259.37795,16115.3045,11272.33139,19496.71917,28101.33305,13143.33665,7050.0213,22395.74424,2205.9808],\"y0\":\" \",\"yaxis\":\"y\",\"type\":\"box\"}],                        {\"template\":{\"data\":{\"barpolar\":[{\"marker\":{\"line\":{\"color\":\"white\",\"width\":0.5},\"pattern\":{\"fillmode\":\"overlay\",\"size\":10,\"solidity\":0.2}},\"type\":\"barpolar\"}],\"bar\":[{\"error_x\":{\"color\":\"#2a3f5f\"},\"error_y\":{\"color\":\"#2a3f5f\"},\"marker\":{\"line\":{\"color\":\"white\",\"width\":0.5},\"pattern\":{\"fillmode\":\"overlay\",\"size\":10,\"solidity\":0.2}},\"type\":\"bar\"}],\"carpet\":[{\"aaxis\":{\"endlinecolor\":\"#2a3f5f\",\"gridcolor\":\"#C8D4E3\",\"linecolor\":\"#C8D4E3\",\"minorgridcolor\":\"#C8D4E3\",\"startlinecolor\":\"#2a3f5f\"},\"baxis\":{\"endlinecolor\":\"#2a3f5f\",\"gridcolor\":\"#C8D4E3\",\"linecolor\":\"#C8D4E3\",\"minorgridcolor\":\"#C8D4E3\",\"startlinecolor\":\"#2a3f5f\"},\"type\":\"carpet\"}],\"choropleth\":[{\"colorbar\":{\"outlinewidth\":0,\"ticks\":\"\"},\"type\":\"choropleth\"}],\"contourcarpet\":[{\"colorbar\":{\"outlinewidth\":0,\"ticks\":\"\"},\"type\":\"contourcarpet\"}],\"contour\":[{\"colorbar\":{\"outlinewidth\":0,\"ticks\":\"\"},\"colorscale\":[[0.0,\"#0d0887\"],[0.1111111111111111,\"#46039f\"],[0.2222222222222222,\"#7201a8\"],[0.3333333333333333,\"#9c179e\"],[0.4444444444444444,\"#bd3786\"],[0.5555555555555556,\"#d8576b\"],[0.6666666666666666,\"#ed7953\"],[0.7777777777777778,\"#fb9f3a\"],[0.8888888888888888,\"#fdca26\"],[1.0,\"#f0f921\"]],\"type\":\"contour\"}],\"heatmapgl\":[{\"colorbar\":{\"outlinewidth\":0,\"ticks\":\"\"},\"colorscale\":[[0.0,\"#0d0887\"],[0.1111111111111111,\"#46039f\"],[0.2222222222222222,\"#7201a8\"],[0.3333333333333333,\"#9c179e\"],[0.4444444444444444,\"#bd3786\"],[0.5555555555555556,\"#d8576b\"],[0.6666666666666666,\"#ed7953\"],[0.7777777777777778,\"#fb9f3a\"],[0.8888888888888888,\"#fdca26\"],[1.0,\"#f0f921\"]],\"type\":\"heatmapgl\"}],\"heatmap\":[{\"colorbar\":{\"outlinewidth\":0,\"ticks\":\"\"},\"colorscale\":[[0.0,\"#0d0887\"],[0.1111111111111111,\"#46039f\"],[0.2222222222222222,\"#7201a8\"],[0.3333333333333333,\"#9c179e\"],[0.4444444444444444,\"#bd3786\"],[0.5555555555555556,\"#d8576b\"],[0.6666666666666666,\"#ed7953\"],[0.7777777777777778,\"#fb9f3a\"],[0.8888888888888888,\"#fdca26\"],[1.0,\"#f0f921\"]],\"type\":\"heatmap\"}],\"histogram2dcontour\":[{\"colorbar\":{\"outlinewidth\":0,\"ticks\":\"\"},\"colorscale\":[[0.0,\"#0d0887\"],[0.1111111111111111,\"#46039f\"],[0.2222222222222222,\"#7201a8\"],[0.3333333333333333,\"#9c179e\"],[0.4444444444444444,\"#bd3786\"],[0.5555555555555556,\"#d8576b\"],[0.6666666666666666,\"#ed7953\"],[0.7777777777777778,\"#fb9f3a\"],[0.8888888888888888,\"#fdca26\"],[1.0,\"#f0f921\"]],\"type\":\"histogram2dcontour\"}],\"histogram2d\":[{\"colorbar\":{\"outlinewidth\":0,\"ticks\":\"\"},\"colorscale\":[[0.0,\"#0d0887\"],[0.1111111111111111,\"#46039f\"],[0.2222222222222222,\"#7201a8\"],[0.3333333333333333,\"#9c179e\"],[0.4444444444444444,\"#bd3786\"],[0.5555555555555556,\"#d8576b\"],[0.6666666666666666,\"#ed7953\"],[0.7777777777777778,\"#fb9f3a\"],[0.8888888888888888,\"#fdca26\"],[1.0,\"#f0f921\"]],\"type\":\"histogram2d\"}],\"histogram\":[{\"marker\":{\"pattern\":{\"fillmode\":\"overlay\",\"size\":10,\"solidity\":0.2}},\"type\":\"histogram\"}],\"mesh3d\":[{\"colorbar\":{\"outlinewidth\":0,\"ticks\":\"\"},\"type\":\"mesh3d\"}],\"parcoords\":[{\"line\":{\"colorbar\":{\"outlinewidth\":0,\"ticks\":\"\"}},\"type\":\"parcoords\"}],\"pie\":[{\"automargin\":true,\"type\":\"pie\"}],\"scatter3d\":[{\"line\":{\"colorbar\":{\"outlinewidth\":0,\"ticks\":\"\"}},\"marker\":{\"colorbar\":{\"outlinewidth\":0,\"ticks\":\"\"}},\"type\":\"scatter3d\"}],\"scattercarpet\":[{\"marker\":{\"colorbar\":{\"outlinewidth\":0,\"ticks\":\"\"}},\"type\":\"scattercarpet\"}],\"scattergeo\":[{\"marker\":{\"colorbar\":{\"outlinewidth\":0,\"ticks\":\"\"}},\"type\":\"scattergeo\"}],\"scattergl\":[{\"marker\":{\"colorbar\":{\"outlinewidth\":0,\"ticks\":\"\"}},\"type\":\"scattergl\"}],\"scattermapbox\":[{\"marker\":{\"colorbar\":{\"outlinewidth\":0,\"ticks\":\"\"}},\"type\":\"scattermapbox\"}],\"scatterpolargl\":[{\"marker\":{\"colorbar\":{\"outlinewidth\":0,\"ticks\":\"\"}},\"type\":\"scatterpolargl\"}],\"scatterpolar\":[{\"marker\":{\"colorbar\":{\"outlinewidth\":0,\"ticks\":\"\"}},\"type\":\"scatterpolar\"}],\"scatter\":[{\"fillpattern\":{\"fillmode\":\"overlay\",\"size\":10,\"solidity\":0.2},\"type\":\"scatter\"}],\"scatterternary\":[{\"marker\":{\"colorbar\":{\"outlinewidth\":0,\"ticks\":\"\"}},\"type\":\"scatterternary\"}],\"surface\":[{\"colorbar\":{\"outlinewidth\":0,\"ticks\":\"\"},\"colorscale\":[[0.0,\"#0d0887\"],[0.1111111111111111,\"#46039f\"],[0.2222222222222222,\"#7201a8\"],[0.3333333333333333,\"#9c179e\"],[0.4444444444444444,\"#bd3786\"],[0.5555555555555556,\"#d8576b\"],[0.6666666666666666,\"#ed7953\"],[0.7777777777777778,\"#fb9f3a\"],[0.8888888888888888,\"#fdca26\"],[1.0,\"#f0f921\"]],\"type\":\"surface\"}],\"table\":[{\"cells\":{\"fill\":{\"color\":\"#EBF0F8\"},\"line\":{\"color\":\"white\"}},\"header\":{\"fill\":{\"color\":\"#C8D4E3\"},\"line\":{\"color\":\"white\"}},\"type\":\"table\"}]},\"layout\":{\"annotationdefaults\":{\"arrowcolor\":\"#2a3f5f\",\"arrowhead\":0,\"arrowwidth\":1},\"autotypenumbers\":\"strict\",\"coloraxis\":{\"colorbar\":{\"outlinewidth\":0,\"ticks\":\"\"}},\"colorscale\":{\"diverging\":[[0,\"#8e0152\"],[0.1,\"#c51b7d\"],[0.2,\"#de77ae\"],[0.3,\"#f1b6da\"],[0.4,\"#fde0ef\"],[0.5,\"#f7f7f7\"],[0.6,\"#e6f5d0\"],[0.7,\"#b8e186\"],[0.8,\"#7fbc41\"],[0.9,\"#4d9221\"],[1,\"#276419\"]],\"sequential\":[[0.0,\"#0d0887\"],[0.1111111111111111,\"#46039f\"],[0.2222222222222222,\"#7201a8\"],[0.3333333333333333,\"#9c179e\"],[0.4444444444444444,\"#bd3786\"],[0.5555555555555556,\"#d8576b\"],[0.6666666666666666,\"#ed7953\"],[0.7777777777777778,\"#fb9f3a\"],[0.8888888888888888,\"#fdca26\"],[1.0,\"#f0f921\"]],\"sequentialminus\":[[0.0,\"#0d0887\"],[0.1111111111111111,\"#46039f\"],[0.2222222222222222,\"#7201a8\"],[0.3333333333333333,\"#9c179e\"],[0.4444444444444444,\"#bd3786\"],[0.5555555555555556,\"#d8576b\"],[0.6666666666666666,\"#ed7953\"],[0.7777777777777778,\"#fb9f3a\"],[0.8888888888888888,\"#fdca26\"],[1.0,\"#f0f921\"]]},\"colorway\":[\"#636efa\",\"#EF553B\",\"#00cc96\",\"#ab63fa\",\"#FFA15A\",\"#19d3f3\",\"#FF6692\",\"#B6E880\",\"#FF97FF\",\"#FECB52\"],\"font\":{\"color\":\"#2a3f5f\"},\"geo\":{\"bgcolor\":\"white\",\"lakecolor\":\"white\",\"landcolor\":\"white\",\"showlakes\":true,\"showland\":true,\"subunitcolor\":\"#C8D4E3\"},\"hoverlabel\":{\"align\":\"left\"},\"hovermode\":\"closest\",\"mapbox\":{\"style\":\"light\"},\"paper_bgcolor\":\"white\",\"plot_bgcolor\":\"white\",\"polar\":{\"angularaxis\":{\"gridcolor\":\"#EBF0F8\",\"linecolor\":\"#EBF0F8\",\"ticks\":\"\"},\"bgcolor\":\"white\",\"radialaxis\":{\"gridcolor\":\"#EBF0F8\",\"linecolor\":\"#EBF0F8\",\"ticks\":\"\"}},\"scene\":{\"xaxis\":{\"backgroundcolor\":\"white\",\"gridcolor\":\"#DFE8F3\",\"gridwidth\":2,\"linecolor\":\"#EBF0F8\",\"showbackground\":true,\"ticks\":\"\",\"zerolinecolor\":\"#EBF0F8\"},\"yaxis\":{\"backgroundcolor\":\"white\",\"gridcolor\":\"#DFE8F3\",\"gridwidth\":2,\"linecolor\":\"#EBF0F8\",\"showbackground\":true,\"ticks\":\"\",\"zerolinecolor\":\"#EBF0F8\"},\"zaxis\":{\"backgroundcolor\":\"white\",\"gridcolor\":\"#DFE8F3\",\"gridwidth\":2,\"linecolor\":\"#EBF0F8\",\"showbackground\":true,\"ticks\":\"\",\"zerolinecolor\":\"#EBF0F8\"}},\"shapedefaults\":{\"line\":{\"color\":\"#2a3f5f\"}},\"ternary\":{\"aaxis\":{\"gridcolor\":\"#DFE8F3\",\"linecolor\":\"#A2B1C6\",\"ticks\":\"\"},\"baxis\":{\"gridcolor\":\"#DFE8F3\",\"linecolor\":\"#A2B1C6\",\"ticks\":\"\"},\"bgcolor\":\"white\",\"caxis\":{\"gridcolor\":\"#DFE8F3\",\"linecolor\":\"#A2B1C6\",\"ticks\":\"\"}},\"title\":{\"x\":0.05},\"xaxis\":{\"automargin\":true,\"gridcolor\":\"#EBF0F8\",\"linecolor\":\"#EBF0F8\",\"ticks\":\"\",\"title\":{\"standoff\":15},\"zerolinecolor\":\"#EBF0F8\",\"zerolinewidth\":2},\"yaxis\":{\"automargin\":true,\"gridcolor\":\"#EBF0F8\",\"linecolor\":\"#EBF0F8\",\"ticks\":\"\",\"title\":{\"standoff\":15},\"zerolinecolor\":\"#EBF0F8\",\"zerolinewidth\":2}}},\"xaxis\":{\"anchor\":\"y\",\"domain\":[0.0,1.0],\"title\":{\"text\":\"Region\"},\"categoryorder\":\"array\",\"categoryarray\":[\"Southwest\",\"Southeast\",\"Northwest\",\"Northeast\"]},\"yaxis\":{\"anchor\":\"x\",\"domain\":[0.0,1.0],\"title\":{\"text\":\"Claim Amount, $\"},\"showgrid\":true,\"gridwidth\":1,\"gridcolor\":\"#EAEAEA\",\"zerolinecolor\":\"#EAEAEA\"},\"legend\":{\"title\":{\"text\":\"region\"},\"tracegroupgap\":0},\"title\":{\"text\":\"Distribution of Insurance Costs by Region\"},\"boxmode\":\"overlay\",\"height\":600,\"font\":{\"color\":\"#303030\"}},                        {\"responsive\": true}                    ).then(function(){\n",
       "                            \n",
       "var gd = document.getElementById('b784b31f-1c69-4bd1-ae38-8610dcc02c29');\n",
       "var x = new MutationObserver(function (mutations, observer) {{\n",
       "        var display = window.getComputedStyle(gd).display;\n",
       "        if (!display || display === 'none') {{\n",
       "            console.log([gd, 'removed!']);\n",
       "            Plotly.purge(gd);\n",
       "            observer.disconnect();\n",
       "        }}\n",
       "}});\n",
       "\n",
       "// Listen for the removal of the full notebook cells\n",
       "var notebookContainer = gd.closest('#notebook-container');\n",
       "if (notebookContainer) {{\n",
       "    x.observe(notebookContainer, {childList: true});\n",
       "}}\n",
       "\n",
       "// Listen for the clearing of the current output cell\n",
       "var outputEl = gd.closest('.output');\n",
       "if (outputEl) {{\n",
       "    x.observe(outputEl, {childList: true});\n",
       "}}\n",
       "\n",
       "                        })                };                });            </script>        </div>"
      ]
     },
     "metadata": {},
     "output_type": "display_data"
    }
   ],
   "source": [
    "init_notebook_mode(connected=True)\n",
    "px.defaults.template = \"plotly_white\"\n",
    "plot_df=ins.copy()\n",
    "fig = px.box(plot_df, x=\"region\", y=\"charges\", color=\"region\", \n",
    "             notched=True, points=\"outliers\", height=600,\n",
    "             title=\"Distribution of Insurance Costs by Region\",\n",
    "             color_discrete_sequence=['#B14B51', '#D0A99C', '#5D8370', '#6C839B'])\n",
    "fig.update_traces(marker=dict(size=9, opacity=0.5, line=dict(width=1,color=\"#F7F7F7\")), showlegend=False)\n",
    "fig.update_layout(font_color=\"#303030\", xaxis_title='Region', yaxis_title='Claim Amount, $',\n",
    "                  yaxis=dict(showgrid=True, gridwidth=1, gridcolor='#EAEAEA', zerolinecolor='#EAEAEA'))\n",
    "fig.show()"
   ]
  },
  {
   "cell_type": "markdown",
   "metadata": {},
   "source": [
    "For each region, the boxplots show insurance charges are positively skewed with several large outliers. Insurance charges are more variable in the Southeast region, which contains the highest claim in the data set at over \\\\$63,000 as well as the lowest claim at \\$1,121. The Northeast region has the highest median cost overall, although since the notches in the boxplots overlap, the median claim amounts are likely not significantly different."
   ]
  },
  {
   "cell_type": "code",
   "execution_count": 6,
   "metadata": {
    "_kg_hide-input": true,
    "execution": {
     "iopub.execute_input": "2022-01-25T00:26:24.010977Z",
     "iopub.status.busy": "2022-01-25T00:26:24.010724Z",
     "iopub.status.idle": "2022-01-25T00:26:24.16757Z",
     "shell.execute_reply": "2022-01-25T00:26:24.166696Z",
     "shell.execute_reply.started": "2022-01-25T00:26:24.010946Z"
    }
   },
   "outputs": [
    {
     "data": {
      "application/vnd.plotly.v1+json": {
       "config": {
        "plotlyServerURL": "https://plot.ly"
       },
       "data": [
        {
         "alignmentgroup": "True",
         "bingroup": "x",
         "histnorm": "probability density",
         "hovertemplate": "smoker=Smoker<br>charges=%{x}<br>probability density=%{y}<extra></extra>",
         "legendgroup": "Smoker",
         "marker": {
          "color": "#B14B51",
          "opacity": 0.7,
          "pattern": {
           "shape": ""
          }
         },
         "name": "Smoker",
         "offsetgroup": "Smoker",
         "orientation": "v",
         "showlegend": true,
         "type": "histogram",
         "x": [
          16884.924,
          27808.7251,
          39611.7577,
          36837.467,
          37701.8768,
          38711,
          35585.576,
          51194.55914,
          39774.2763,
          48173.361,
          38709.176,
          23568.272,
          37742.5757,
          47496.49445,
          34303.1672,
          23244.7902,
          14711.7438,
          17663.1442,
          16577.7795,
          37165.1638,
          39836.519,
          21098.55405,
          43578.9394,
          30184.9367,
          47291.055,
          22412.6485,
          15820.699,
          30942.1918,
          17560.37975,
          47055.5321,
          19107.7796,
          39556.4945,
          17081.08,
          32734.1863,
          18972.495,
          20745.9891,
          40720.55105,
          19964.7463,
          21223.6758,
          15518.18025,
          36950.2567,
          21348.706,
          36149.4835,
          48824.45,
          43753.33705,
          37133.8982,
          20984.0936,
          34779.615,
          19515.5416,
          19444.2658,
          17352.6803,
          38511.6283,
          29523.1656,
          12829.4551,
          47305.305,
          44260.7499,
          41097.16175,
          43921.1837,
          33750.2918,
          17085.2676,
          24869.8368,
          36219.40545,
          46151.1245,
          17179.522,
          42856.838,
          22331.5668,
          48549.17835,
          47896.79135,
          42112.2356,
          16297.846,
          21978.6769,
          38746.3551,
          24873.3849,
          42124.5153,
          34838.873,
          35491.64,
          42760.5022,
          47928.03,
          48517.56315,
          24393.6224,
          41919.097,
          13844.506,
          36085.219,
          18033.9679,
          21659.9301,
          38126.2465,
          15006.57945,
          42303.69215,
          19594.80965,
          14455.64405,
          18608.262,
          28950.4692,
          46889.2612,
          46599.1084,
          39125.33225,
          37079.372,
          26109.32905,
          22144.032,
          19521.9682,
          25382.297,
          28868.6639,
          35147.52848,
          48885.13561,
          17942.106,
          36197.699,
          22218.1149,
          32548.3405,
          21082.16,
          38245.59327,
          48675.5177,
          63770.42801,
          23807.2406,
          45863.205,
          39983.42595,
          45702.02235,
          58571.07448,
          43943.8761,
          15359.1045,
          17468.9839,
          25678.77845,
          39241.442,
          42969.8527,
          23306.547,
          34439.8559,
          40182.246,
          34617.84065,
          42983.4585,
          20149.3229,
          32787.45859,
          24667.419,
          27037.9141,
          42560.4304,
          40003.33225,
          45710.20785,
          46200.9851,
          46130.5265,
          40103.89,
          34806.4677,
          40273.6455,
          44400.4064,
          40932.4295,
          16657.71745,
          19361.9988,
          40419.0191,
          36189.1017,
          44585.45587,
          18246.4955,
          43254.41795,
          19539.243,
          23065.4207,
          36307.7983,
          19040.876,
          17748.5062,
          18259.216,
          24520.264,
          21195.818,
          18310.742,
          17904.52705,
          38792.6856,
          23401.30575,
          55135.40209,
          43813.8661,
          20773.62775,
          39597.4072,
          36021.0112,
          27533.9129,
          45008.9555,
          37270.1512,
          42111.6647,
          24106.91255,
          40974.1649,
          15817.9857,
          46113.511,
          46255.1125,
          19719.6947,
          27218.43725,
          29330.98315,
          44202.6536,
          19798.05455,
          48673.5588,
          17496.306,
          33732.6867,
          21774.32215,
          35069.37452,
          39047.285,
          19933.458,
          47462.894,
          38998.546,
          20009.63365,
          41999.52,
          41034.2214,
          23967.38305,
          16138.76205,
          19199.944,
          14571.8908,
          16420.49455,
          17361.7661,
          34472.841,
          24915.22085,
          18767.7377,
          35595.5898,
          42211.1382,
          16450.8947,
          21677.28345,
          44423.803,
          13747.87235,
          37484.4493,
          39725.51805,
          20234.85475,
          33475.81715,
          21880.82,
          44501.3982,
          39727.614,
          25309.489,
          48970.2476,
          39871.7043,
          34672.1472,
          19023.26,
          41676.0811,
          33907.548,
          44641.1974,
          16776.30405,
          41949.2441,
          24180.9335,
          36124.5737,
          38282.7495,
          34166.273,
          46661.4424,
          40904.1995,
          36898.73308,
          52590.82939,
          40941.2854,
          39722.7462,
          17178.6824,
          22478.6,
          23887.6627,
          19350.3689,
          18328.2381,
          37465.34375,
          21771.3423,
          33307.5508,
          18223.4512,
          38415.474,
          20296.86345,
          41661.602,
          26125.67477,
          60021.39897,
          20167.33603,
          47269.854,
          49577.6624,
          37607.5277,
          18648.4217,
          16232.847,
          26926.5144,
          34254.05335,
          17043.3414,
          22462.04375,
          24535.69855,
          14283.4594,
          47403.88,
          38344.566,
          34828.654,
          62592.87309,
          46718.16325,
          37829.7242,
          21259.37795,
          16115.3045,
          21472.4788,
          33900.653,
          36397.576,
          18765.87545,
          28101.33305,
          43896.3763,
          29141.3603
         ],
         "xaxis": "x",
         "yaxis": "y"
        },
        {
         "alignmentgroup": "True",
         "hovertemplate": "smoker=Smoker<br>charges=%{x}<extra></extra>",
         "legendgroup": "Smoker",
         "marker": {
          "color": "#B14B51"
         },
         "name": "Smoker",
         "notched": true,
         "offsetgroup": "Smoker",
         "showlegend": false,
         "type": "box",
         "x": [
          16884.924,
          27808.7251,
          39611.7577,
          36837.467,
          37701.8768,
          38711,
          35585.576,
          51194.55914,
          39774.2763,
          48173.361,
          38709.176,
          23568.272,
          37742.5757,
          47496.49445,
          34303.1672,
          23244.7902,
          14711.7438,
          17663.1442,
          16577.7795,
          37165.1638,
          39836.519,
          21098.55405,
          43578.9394,
          30184.9367,
          47291.055,
          22412.6485,
          15820.699,
          30942.1918,
          17560.37975,
          47055.5321,
          19107.7796,
          39556.4945,
          17081.08,
          32734.1863,
          18972.495,
          20745.9891,
          40720.55105,
          19964.7463,
          21223.6758,
          15518.18025,
          36950.2567,
          21348.706,
          36149.4835,
          48824.45,
          43753.33705,
          37133.8982,
          20984.0936,
          34779.615,
          19515.5416,
          19444.2658,
          17352.6803,
          38511.6283,
          29523.1656,
          12829.4551,
          47305.305,
          44260.7499,
          41097.16175,
          43921.1837,
          33750.2918,
          17085.2676,
          24869.8368,
          36219.40545,
          46151.1245,
          17179.522,
          42856.838,
          22331.5668,
          48549.17835,
          47896.79135,
          42112.2356,
          16297.846,
          21978.6769,
          38746.3551,
          24873.3849,
          42124.5153,
          34838.873,
          35491.64,
          42760.5022,
          47928.03,
          48517.56315,
          24393.6224,
          41919.097,
          13844.506,
          36085.219,
          18033.9679,
          21659.9301,
          38126.2465,
          15006.57945,
          42303.69215,
          19594.80965,
          14455.64405,
          18608.262,
          28950.4692,
          46889.2612,
          46599.1084,
          39125.33225,
          37079.372,
          26109.32905,
          22144.032,
          19521.9682,
          25382.297,
          28868.6639,
          35147.52848,
          48885.13561,
          17942.106,
          36197.699,
          22218.1149,
          32548.3405,
          21082.16,
          38245.59327,
          48675.5177,
          63770.42801,
          23807.2406,
          45863.205,
          39983.42595,
          45702.02235,
          58571.07448,
          43943.8761,
          15359.1045,
          17468.9839,
          25678.77845,
          39241.442,
          42969.8527,
          23306.547,
          34439.8559,
          40182.246,
          34617.84065,
          42983.4585,
          20149.3229,
          32787.45859,
          24667.419,
          27037.9141,
          42560.4304,
          40003.33225,
          45710.20785,
          46200.9851,
          46130.5265,
          40103.89,
          34806.4677,
          40273.6455,
          44400.4064,
          40932.4295,
          16657.71745,
          19361.9988,
          40419.0191,
          36189.1017,
          44585.45587,
          18246.4955,
          43254.41795,
          19539.243,
          23065.4207,
          36307.7983,
          19040.876,
          17748.5062,
          18259.216,
          24520.264,
          21195.818,
          18310.742,
          17904.52705,
          38792.6856,
          23401.30575,
          55135.40209,
          43813.8661,
          20773.62775,
          39597.4072,
          36021.0112,
          27533.9129,
          45008.9555,
          37270.1512,
          42111.6647,
          24106.91255,
          40974.1649,
          15817.9857,
          46113.511,
          46255.1125,
          19719.6947,
          27218.43725,
          29330.98315,
          44202.6536,
          19798.05455,
          48673.5588,
          17496.306,
          33732.6867,
          21774.32215,
          35069.37452,
          39047.285,
          19933.458,
          47462.894,
          38998.546,
          20009.63365,
          41999.52,
          41034.2214,
          23967.38305,
          16138.76205,
          19199.944,
          14571.8908,
          16420.49455,
          17361.7661,
          34472.841,
          24915.22085,
          18767.7377,
          35595.5898,
          42211.1382,
          16450.8947,
          21677.28345,
          44423.803,
          13747.87235,
          37484.4493,
          39725.51805,
          20234.85475,
          33475.81715,
          21880.82,
          44501.3982,
          39727.614,
          25309.489,
          48970.2476,
          39871.7043,
          34672.1472,
          19023.26,
          41676.0811,
          33907.548,
          44641.1974,
          16776.30405,
          41949.2441,
          24180.9335,
          36124.5737,
          38282.7495,
          34166.273,
          46661.4424,
          40904.1995,
          36898.73308,
          52590.82939,
          40941.2854,
          39722.7462,
          17178.6824,
          22478.6,
          23887.6627,
          19350.3689,
          18328.2381,
          37465.34375,
          21771.3423,
          33307.5508,
          18223.4512,
          38415.474,
          20296.86345,
          41661.602,
          26125.67477,
          60021.39897,
          20167.33603,
          47269.854,
          49577.6624,
          37607.5277,
          18648.4217,
          16232.847,
          26926.5144,
          34254.05335,
          17043.3414,
          22462.04375,
          24535.69855,
          14283.4594,
          47403.88,
          38344.566,
          34828.654,
          62592.87309,
          46718.16325,
          37829.7242,
          21259.37795,
          16115.3045,
          21472.4788,
          33900.653,
          36397.576,
          18765.87545,
          28101.33305,
          43896.3763,
          29141.3603
         ],
         "xaxis": "x2",
         "yaxis": "y2"
        },
        {
         "alignmentgroup": "True",
         "bingroup": "x",
         "histnorm": "probability density",
         "hovertemplate": "smoker=Non-Smoker<br>charges=%{x}<br>probability density=%{y}<extra></extra>",
         "legendgroup": "Non-Smoker",
         "marker": {
          "color": "#B7A294",
          "opacity": 0.7,
          "pattern": {
           "shape": ""
          }
         },
         "name": "Non-Smoker",
         "offsetgroup": "Non-Smoker",
         "orientation": "v",
         "showlegend": true,
         "type": "histogram",
         "x": [
          1725.5523,
          4449.462,
          21984.47061,
          3866.8552,
          3756.6216,
          8240.5896,
          7281.5056,
          6406.4107,
          28923.13692,
          2721.3208,
          1826.843,
          11090.7178,
          1837.237,
          10797.3362,
          2395.17155,
          10602.385,
          13228.84695,
          4149.736,
          1137.011,
          6203.90175,
          14001.1338,
          14451.83515,
          12268.63225,
          2775.19215,
          2198.18985,
          4687.797,
          13770.0979,
          1625.43375,
          15612.19335,
          2302.3,
          3046.062,
          4949.7587,
          6272.4772,
          6313.759,
          6079.6715,
          20630.28351,
          3393.35635,
          3556.9223,
          12629.8967,
          2211.13075,
          3579.8287,
          8059.6791,
          13607.36875,
          5989.52365,
          8606.2174,
          4504.6624,
          30166.61817,
          4133.64165,
          1743.214,
          14235.072,
          6389.37785,
          5920.1041,
          6799.458,
          11741.726,
          11946.6259,
          7726.854,
          11356.6609,
          3947.4131,
          1532.4697,
          2755.02095,
          6571.02435,
          4441.21315,
          7935.29115,
          11033.6617,
          11073.176,
          8026.6666,
          11082.5772,
          2026.9741,
          10942.13205,
          5729.0053,
          3766.8838,
          12105.32,
          10226.2842,
          6186.127,
          3645.0894,
          21344.8467,
          5003.853,
          2331.519,
          3877.30425,
          2867.1196,
          10825.2537,
          11881.358,
          4646.759,
          2404.7338,
          11488.31695,
          30259.99556,
          11381.3254,
          8601.3293,
          6686.4313,
          7740.337,
          1705.6245,
          2257.47525,
          10115.00885,
          3385.39915,
          9634.538,
          6082.405,
          12815.44495,
          13616.3586,
          11163.568,
          1632.56445,
          2457.21115,
          2155.6815,
          1261.442,
          2045.68525,
          27322.73386,
          2166.732,
          27375.90478,
          3490.5491,
          18157.876,
          5138.2567,
          9877.6077,
          10959.6947,
          1842.519,
          5125.2157,
          7789.635,
          6334.34355,
          7077.1894,
          6948.7008,
          19749.38338,
          10450.552,
          5152.134,
          5028.1466,
          10407.08585,
          4830.63,
          6128.79745,
          2719.27975,
          4827.90495,
          13405.3903,
          8116.68,
          1694.7964,
          5246.047,
          2855.43755,
          6455.86265,
          10436.096,
          8823.279,
          8538.28845,
          11735.87905,
          1631.8212,
          4005.4225,
          7419.4779,
          7731.4271,
          3981.9768,
          5325.651,
          6775.961,
          4922.9159,
          12557.6053,
          4883.866,
          2137.6536,
          12044.342,
          1137.4697,
          1639.5631,
          5649.715,
          8516.829,
          9644.2525,
          14901.5167,
          2130.6759,
          8871.1517,
          13012.20865,
          7147.105,
          4337.7352,
          11743.299,
          13880.949,
          6610.1097,
          1980.07,
          8162.71625,
          3537.703,
          5002.7827,
          8520.026,
          7371.772,
          10355.641,
          2483.736,
          3392.9768,
          25081.76784,
          5012.471,
          10564.8845,
          5253.524,
          11987.1682,
          2689.4954,
          24227.33724,
          7358.17565,
          9225.2564,
          7443.64305,
          14001.2867,
          1727.785,
          12333.828,
          6710.1919,
          1615.7667,
          4463.2051,
          7152.6714,
          5354.07465,
          35160.13457,
          7196.867,
          24476.47851,
          12648.7034,
          1986.9334,
          1832.094,
          4040.55825,
          4260.744,
          13047.33235,
          5400.9805,
          11520.09985,
          11837.16,
          20462.99766,
          14590.63205,
          7441.053,
          9282.4806,
          1719.4363,
          7265.7025,
          9617.66245,
          2523.1695,
          9715.841,
          2803.69785,
          2150.469,
          12928.7911,
          9855.1314,
          4237.12655,
          11879.10405,
          9625.92,
          7742.1098,
          9432.9253,
          14256.1928,
          25992.82104,
          3172.018,
          20277.80751,
          2156.7518,
          3906.127,
          1704.5681,
          9249.4952,
          6746.7425,
          12265.5069,
          4349.462,
          12646.207,
          19442.3535,
          20177.67113,
          4151.0287,
          11944.59435,
          7749.1564,
          8444.474,
          1737.376,
          8124.4084,
          9722.7695,
          8835.26495,
          10435.06525,
          7421.19455,
          4667.60765,
          4894.7533,
          24671.66334,
          11566.30055,
          2866.091,
          6600.20595,
          3561.8889,
          9144.565,
          13429.0354,
          11658.37915,
          19144.57652,
          13822.803,
          12142.5786,
          13937.6665,
          8232.6388,
          18955.22017,
          13352.0998,
          13217.0945,
          13981.85035,
          10977.2063,
          6184.2994,
          4889.9995,
          8334.45755,
          5478.0368,
          1635.73365,
          11830.6072,
          8932.084,
          3554.203,
          12404.8791,
          14133.03775,
          24603.04837,
          8944.1151,
          9620.3307,
          1837.2819,
          1607.5101,
          10043.249,
          4751.07,
          2597.779,
          3180.5101,
          9778.3472,
          13430.265,
          8017.06115,
          8116.26885,
          3481.868,
          13415.0381,
          12029.2867,
          7639.41745,
          1391.5287,
          16455.70785,
          27000.98473,
          20781.48892,
          5846.9176,
          8302.53565,
          1261.859,
          11856.4115,
          30284.64294,
          3176.8159,
          4618.0799,
          10736.87075,
          2138.0707,
          8964.06055,
          9290.1395,
          9411.005,
          7526.70645,
          8522.003,
          16586.49771,
          14988.432,
          1631.6683,
          9264.797,
          8083.9198,
          14692.66935,
          10269.46,
          3260.199,
          11396.9002,
          4185.0979,
          8539.671,
          6652.5288,
          4074.4537,
          1621.3402,
          5080.096,
          2134.9015,
          7345.7266,
          9140.951,
          14418.2804,
          2727.3951,
          8968.33,
          9788.8659,
          6555.07035,
          7323.734819,
          3167.45585,
          18804.7524,
          23082.95533,
          4906.40965,
          5969.723,
          12638.195,
          4243.59005,
          13919.8229,
          2254.7967,
          5926.846,
          12592.5345,
          2897.3235,
          4738.2682,
          1149.3959,
          28287.89766,
          7345.084,
          12730.9996,
          11454.0215,
          5910.944,
          4762.329,
          7512.267,
          4032.2407,
          1969.614,
          1769.53165,
          4686.3887,
          21797.0004,
          11881.9696,
          11840.77505,
          10601.412,
          7682.67,
          10381.4787,
          15230.32405,
          11165.41765,
          1632.03625,
          13224.693,
          12643.3778,
          23288.9284,
          2201.0971,
          2497.0383,
          2203.47185,
          1744.465,
          20878.78443,
          2534.39375,
          1534.3045,
          1824.2854,
          15555.18875,
          9304.7019,
          1622.1885,
          9880.068,
          9563.029,
          4347.02335,
          12475.3513,
          1253.936,
          10461.9794,
          1748.774,
          24513.09126,
          2196.4732,
          12574.049,
          1967.0227,
          4931.647,
          8027.968,
          8211.1002,
          13470.86,
          6837.3687,
          5974.3847,
          6796.86325,
          2643.2685,
          3077.0955,
          3044.2133,
          11455.28,
          11763.0009,
          2498.4144,
          9361.3268,
          1256.299,
          11362.755,
          27724.28875,
          8413.46305,
          5240.765,
          3857.75925,
          25656.57526,
          3994.1778,
          9866.30485,
          5397.6167,
          11482.63485,
          24059.68019,
          9861.025,
          8342.90875,
          1708.0014,
          14043.4767,
          12925.886,
          19214.70553,
          13831.1152,
          6067.12675,
          5972.378,
          8825.086,
          8233.0975,
          27346.04207,
          6196.448,
          3056.3881,
          13887.204,
          10231.4999,
          3268.84665,
          11538.421,
          3213.62205,
          13390.559,
          3972.9247,
          12957.118,
          11187.6567,
          17878.90068,
          3847.674,
          8334.5896,
          3935.1799,
          1646.4297,
          9193.8385,
          10923.9332,
          2494.022,
          9058.7303,
          2801.2588,
          2128.43105,
          6373.55735,
          7256.7231,
          11552.904,
          3761.292,
          2219.4451,
          4753.6368,
          31620.00106,
          13224.05705,
          12222.8983,
          1664.9996,
          9724.53,
          3206.49135,
          12913.9924,
          1639.5631,
          6356.2707,
          17626.23951,
          1242.816,
          4779.6023,
          3861.20965,
          13635.6379,
          5976.8311,
          11842.442,
          8428.0693,
          2566.4707,
          5709.1644,
          8823.98575,
          7640.3092,
          5594.8455,
          7441.501,
          33471.97189,
          1633.0444,
          9174.13565,
          11070.535,
          16085.1275,
          9283.562,
          3558.62025,
          4435.0942,
          8547.6913,
          6571.544,
          2207.69745,
          6753.038,
          1880.07,
          11658.11505,
          10713.644,
          3659.346,
          9182.17,
          12129.61415,
          3736.4647,
          6748.5912,
          11326.71487,
          11365.952,
          10085.846,
          1977.815,
          3366.6697,
          7173.35995,
          9391.346,
          14410.9321,
          2709.1119,
          24915.04626,
          12949.1554,
          6666.243,
          13143.86485,
          4466.6214,
          18806.14547,
          10141.1362,
          6123.5688,
          8252.2843,
          1712.227,
          12430.95335,
          9800.8882,
          10579.711,
          8280.6227,
          8527.532,
          12244.531,
          3410.324,
          4058.71245,
          26392.26029,
          14394.39815,
          6435.6237,
          22192.43711,
          5148.5526,
          1136.3994,
          8703.456,
          6500.2359,
          4837.5823,
          3943.5954,
          4399.731,
          6185.3208,
          7222.78625,
          12485.8009,
          12363.547,
          10156.7832,
          2585.269,
          1242.26,
          9863.4718,
          4766.022,
          11244.3769,
          7729.64575,
          5438.7491,
          26236.57997,
          2104.1134,
          8068.185,
          2362.22905,
          2352.96845,
          3577.999,
          3201.24515,
          29186.48236,
          10976.24575,
          3500.6123,
          2020.5523,
          9541.69555,
          9504.3103,
          5385.3379,
          8930.93455,
          5375.038,
          10264.4421,
          6113.23105,
          5469.0066,
          1727.54,
          10107.2206,
          8310.83915,
          1984.4533,
          2457.502,
          12146.971,
          9566.9909,
          13112.6048,
          10848.1343,
          12231.6136,
          9875.6804,
          11264.541,
          12979.358,
          1263.249,
          10106.13425,
          6664.68595,
          2217.6012,
          6781.3542,
          10065.413,
          4234.927,
          9447.25035,
          14007.222,
          9583.8933,
          3484.331,
          8604.48365,
          3757.8448,
          8827.2099,
          9910.35985,
          11737.84884,
          1627.28245,
          8556.907,
          3062.50825,
          1906.35825,
          14210.53595,
          11833.7823,
          17128.42608,
          5031.26955,
          7985.815,
          5428.7277,
          3925.7582,
          2416.955,
          3070.8087,
          9095.06825,
          11842.62375,
          8062.764,
          7050.642,
          14319.031,
          6933.24225,
          27941.28758,
          11150.78,
          12797.20962,
          7261.741,
          10560.4917,
          6986.697,
          7448.40395,
          5934.3798,
          9869.8102,
          1146.7966,
          9386.1613,
          4350.5144,
          6414.178,
          12741.16745,
          1917.3184,
          5209.57885,
          13457.9608,
          5662.225,
          1252.407,
          2731.9122,
          7209.4918,
          4266.1658,
          4719.52405,
          11848.141,
          7046.7222,
          14313.8463,
          2103.08,
          1815.8759,
          7731.85785,
          28476.73499,
          2136.88225,
          1131.5066,
          3309.7926,
          9414.92,
          6360.9936,
          11013.7119,
          4428.88785,
          5584.3057,
          1877.9294,
          2842.76075,
          3597.596,
          7445.918,
          2680.9493,
          1621.8827,
          8219.2039,
          12523.6048,
          16069.08475,
          6117.4945,
          13393.756,
          5266.3656,
          4719.73655,
          11743.9341,
          5377.4578,
          7160.3303,
          4402.233,
          11657.7189,
          6402.29135,
          12622.1795,
          1526.312,
          12323.936,
          10072.05505,
          9872.701,
          2438.0552,
          2974.126,
          10601.63225,
          14119.62,
          11729.6795,
          1875.344,
          18218.16139,
          10965.446,
          7151.092,
          12269.68865,
          5458.04645,
          8782.469,
          6600.361,
          1141.4451,
          11576.13,
          13129.60345,
          4391.652,
          8457.818,
          3392.3652,
          5966.8874,
          6849.026,
          8891.1395,
          2690.1138,
          26140.3603,
          6653.7886,
          6282.235,
          6311.952,
          3443.064,
          2789.0574,
          2585.85065,
          4877.98105,
          5272.1758,
          1682.597,
          11945.1327,
          7243.8136,
          10422.91665,
          13555.0049,
          13063.883,
          2221.56445,
          1634.5734,
          2117.33885,
          8688.85885,
          4661.28635,
          8125.7845,
          12644.589,
          4564.19145,
          4846.92015,
          7633.7206,
          15170.069,
          2639.0429,
          14382.70905,
          7626.993,
          5257.50795,
          2473.3341,
          13041.921,
          5245.2269,
          13451.122,
          13462.52,
          5488.262,
          4320.41085,
          6250.435,
          25333.33284,
          2913.569,
          12032.326,
          13470.8044,
          6289.7549,
          2927.0647,
          6238.298,
          10096.97,
          7348.142,
          4673.3922,
          12233.828,
          32108.66282,
          8965.79575,
          2304.0022,
          9487.6442,
          1121.8739,
          9549.5651,
          2217.46915,
          1628.4709,
          12982.8747,
          11674.13,
          7160.094,
          6358.77645,
          11534.87265,
          4527.18295,
          3875.7341,
          12609.88702,
          28468.91901,
          2730.10785,
          3353.284,
          14474.675,
          9500.57305,
          26467.09737,
          4746.344,
          7518.02535,
          3279.86855,
          8596.8278,
          10702.6424,
          4992.3764,
          2527.81865,
          1759.338,
          2322.6218,
          7804.1605,
          2902.9065,
          9704.66805,
          4889.0368,
          25517.11363,
          4500.33925,
          16796.41194,
          4915.05985,
          7624.63,
          8410.04685,
          28340.18885,
          4518.82625,
          3378.91,
          7144.86265,
          10118.424,
          5484.4673,
          7986.47525,
          7418.522,
          13887.9685,
          6551.7501,
          5267.81815,
          1972.95,
          21232.18226,
          8627.5411,
          4433.3877,
          4438.2634,
          23241.47453,
          9957.7216,
          8269.044,
          36580.28216,
          8765.249,
          5383.536,
          12124.9924,
          2709.24395,
          3987.926,
          12495.29085,
          26018.95052,
          8798.593,
          1711.0268,
          8569.8618,
          2020.177,
          21595.38229,
          9850.432,
          6877.9801,
          4137.5227,
          12950.0712,
          12094.478,
          2250.8352,
          22493.65964,
          1704.70015,
          3161.454,
          11394.06555,
          7325.0482,
          3594.17085,
          8023.13545,
          14394.5579,
          9288.0267,
          3353.4703,
          10594.50155,
          8277.523,
          17929.30337,
          2480.9791,
          4462.7218,
          1981.5819,
          11554.2236,
          6548.19505,
          5708.867,
          7045.499,
          8978.1851,
          5757.41345,
          14349.8544,
          10928.849,
          13974.45555,
          1909.52745,
          12096.6512,
          13204.28565,
          4562.8421,
          8551.347,
          2102.2647,
          15161.5344,
          11884.04858,
          4454.40265,
          5855.9025,
          4076.497,
          15019.76005,
          10796.35025,
          11353.2276,
          9748.9106,
          10577.087,
          11286.5387,
          3591.48,
          11299.343,
          4561.1885,
          1674.6323,
          23045.56616,
          3227.1211,
          11253.421,
          3471.4096,
          11363.2832,
          20420.60465,
          10338.9316,
          8988.15875,
          10493.9458,
          2904.088,
          8605.3615,
          11512.405,
          5312.16985,
          2396.0959,
          10807.4863,
          9222.4026,
          5693.4305,
          8347.1643,
          18903.49141,
          14254.6082,
          10214.636,
          5836.5204,
          14358.36437,
          1728.897,
          8582.3023,
          3693.428,
          20709.02034,
          9991.03765,
          19673.33573,
          11085.5868,
          7623.518,
          3176.2877,
          3704.3545,
          9048.0273,
          7954.517,
          27117.99378,
          6338.0756,
          9630.397,
          11289.10925,
          2261.5688,
          10791.96,
          5979.731,
          2203.73595,
          12235.8392,
          5630.45785,
          11015.1747,
          7228.21565,
          14426.07385,
          2459.7201,
          3989.841,
          7727.2532,
          5124.1887,
          18963.17192,
          2200.83085,
          7153.5539,
          5227.98875,
          10982.5013,
          4529.477,
          4670.64,
          6112.35295,
          11093.6229,
          6457.8434,
          4433.9159,
          2154.361,
          6496.886,
          2899.48935,
          7650.77375,
          2850.68375,
          2632.992,
          9447.3824,
          8603.8234,
          13844.7972,
          13126.67745,
          5327.40025,
          13725.47184,
          13019.16105,
          8671.19125,
          4134.08245,
          18838.70366,
          5699.8375,
          6393.60345,
          4934.705,
          6198.7518,
          8733.22925,
          2055.3249,
          9964.06,
          5116.5004,
          36910.60803,
          12347.172,
          5373.36425,
          23563.01618,
          1702.4553,
          10806.839,
          3956.07145,
          12890.05765,
          5415.6612,
          4058.1161,
          7537.1639,
          4718.20355,
          6593.5083,
          8442.667,
          6858.4796,
          4795.6568,
          6640.54485,
          7162.0122,
          10594.2257,
          11938.25595,
          12479.70895,
          11345.519,
          8515.7587,
          2699.56835,
          14449.8544,
          12224.35085,
          6985.50695,
          3238.4357,
          4296.2712,
          3171.6149,
          1135.9407,
          5615.369,
          9101.798,
          6059.173,
          1633.9618,
          1241.565,
          15828.82173,
          4415.1588,
          6474.013,
          11436.73815,
          11305.93455,
          30063.58055,
          10197.7722,
          4544.2348,
          3277.161,
          6770.1925,
          7337.748,
          10370.91255,
          10704.47,
          1880.487,
          8615.3,
          3292.52985,
          3021.80915,
          14478.33015,
          4747.0529,
          10959.33,
          2741.948,
          4357.04365,
          4189.1131,
          8283.6807,
          1720.3537,
          8534.6718,
          3732.6251,
          5472.449,
          7147.4728,
          7133.9025,
          1515.3449,
          9301.89355,
          11931.12525,
          1964.78,
          1708.92575,
          4340.4409,
          5261.46945,
          2710.82855,
          3208.787,
          2464.6188,
          6875.961,
          6940.90985,
          4571.41305,
          4536.259,
          11272.33139,
          1731.677,
          1163.4627,
          19496.71917,
          7201.70085,
          5425.02335,
          12981.3457,
          4239.89265,
          13143.33665,
          7050.0213,
          9377.9047,
          22395.74424,
          10325.206,
          12629.1656,
          10795.93733,
          11411.685,
          10600.5483,
          2205.9808,
          1629.8335,
          2007.945
         ],
         "xaxis": "x",
         "yaxis": "y"
        },
        {
         "alignmentgroup": "True",
         "hovertemplate": "smoker=Non-Smoker<br>charges=%{x}<extra></extra>",
         "legendgroup": "Non-Smoker",
         "marker": {
          "color": "#B7A294"
         },
         "name": "Non-Smoker",
         "notched": true,
         "offsetgroup": "Non-Smoker",
         "showlegend": false,
         "type": "box",
         "x": [
          1725.5523,
          4449.462,
          21984.47061,
          3866.8552,
          3756.6216,
          8240.5896,
          7281.5056,
          6406.4107,
          28923.13692,
          2721.3208,
          1826.843,
          11090.7178,
          1837.237,
          10797.3362,
          2395.17155,
          10602.385,
          13228.84695,
          4149.736,
          1137.011,
          6203.90175,
          14001.1338,
          14451.83515,
          12268.63225,
          2775.19215,
          2198.18985,
          4687.797,
          13770.0979,
          1625.43375,
          15612.19335,
          2302.3,
          3046.062,
          4949.7587,
          6272.4772,
          6313.759,
          6079.6715,
          20630.28351,
          3393.35635,
          3556.9223,
          12629.8967,
          2211.13075,
          3579.8287,
          8059.6791,
          13607.36875,
          5989.52365,
          8606.2174,
          4504.6624,
          30166.61817,
          4133.64165,
          1743.214,
          14235.072,
          6389.37785,
          5920.1041,
          6799.458,
          11741.726,
          11946.6259,
          7726.854,
          11356.6609,
          3947.4131,
          1532.4697,
          2755.02095,
          6571.02435,
          4441.21315,
          7935.29115,
          11033.6617,
          11073.176,
          8026.6666,
          11082.5772,
          2026.9741,
          10942.13205,
          5729.0053,
          3766.8838,
          12105.32,
          10226.2842,
          6186.127,
          3645.0894,
          21344.8467,
          5003.853,
          2331.519,
          3877.30425,
          2867.1196,
          10825.2537,
          11881.358,
          4646.759,
          2404.7338,
          11488.31695,
          30259.99556,
          11381.3254,
          8601.3293,
          6686.4313,
          7740.337,
          1705.6245,
          2257.47525,
          10115.00885,
          3385.39915,
          9634.538,
          6082.405,
          12815.44495,
          13616.3586,
          11163.568,
          1632.56445,
          2457.21115,
          2155.6815,
          1261.442,
          2045.68525,
          27322.73386,
          2166.732,
          27375.90478,
          3490.5491,
          18157.876,
          5138.2567,
          9877.6077,
          10959.6947,
          1842.519,
          5125.2157,
          7789.635,
          6334.34355,
          7077.1894,
          6948.7008,
          19749.38338,
          10450.552,
          5152.134,
          5028.1466,
          10407.08585,
          4830.63,
          6128.79745,
          2719.27975,
          4827.90495,
          13405.3903,
          8116.68,
          1694.7964,
          5246.047,
          2855.43755,
          6455.86265,
          10436.096,
          8823.279,
          8538.28845,
          11735.87905,
          1631.8212,
          4005.4225,
          7419.4779,
          7731.4271,
          3981.9768,
          5325.651,
          6775.961,
          4922.9159,
          12557.6053,
          4883.866,
          2137.6536,
          12044.342,
          1137.4697,
          1639.5631,
          5649.715,
          8516.829,
          9644.2525,
          14901.5167,
          2130.6759,
          8871.1517,
          13012.20865,
          7147.105,
          4337.7352,
          11743.299,
          13880.949,
          6610.1097,
          1980.07,
          8162.71625,
          3537.703,
          5002.7827,
          8520.026,
          7371.772,
          10355.641,
          2483.736,
          3392.9768,
          25081.76784,
          5012.471,
          10564.8845,
          5253.524,
          11987.1682,
          2689.4954,
          24227.33724,
          7358.17565,
          9225.2564,
          7443.64305,
          14001.2867,
          1727.785,
          12333.828,
          6710.1919,
          1615.7667,
          4463.2051,
          7152.6714,
          5354.07465,
          35160.13457,
          7196.867,
          24476.47851,
          12648.7034,
          1986.9334,
          1832.094,
          4040.55825,
          4260.744,
          13047.33235,
          5400.9805,
          11520.09985,
          11837.16,
          20462.99766,
          14590.63205,
          7441.053,
          9282.4806,
          1719.4363,
          7265.7025,
          9617.66245,
          2523.1695,
          9715.841,
          2803.69785,
          2150.469,
          12928.7911,
          9855.1314,
          4237.12655,
          11879.10405,
          9625.92,
          7742.1098,
          9432.9253,
          14256.1928,
          25992.82104,
          3172.018,
          20277.80751,
          2156.7518,
          3906.127,
          1704.5681,
          9249.4952,
          6746.7425,
          12265.5069,
          4349.462,
          12646.207,
          19442.3535,
          20177.67113,
          4151.0287,
          11944.59435,
          7749.1564,
          8444.474,
          1737.376,
          8124.4084,
          9722.7695,
          8835.26495,
          10435.06525,
          7421.19455,
          4667.60765,
          4894.7533,
          24671.66334,
          11566.30055,
          2866.091,
          6600.20595,
          3561.8889,
          9144.565,
          13429.0354,
          11658.37915,
          19144.57652,
          13822.803,
          12142.5786,
          13937.6665,
          8232.6388,
          18955.22017,
          13352.0998,
          13217.0945,
          13981.85035,
          10977.2063,
          6184.2994,
          4889.9995,
          8334.45755,
          5478.0368,
          1635.73365,
          11830.6072,
          8932.084,
          3554.203,
          12404.8791,
          14133.03775,
          24603.04837,
          8944.1151,
          9620.3307,
          1837.2819,
          1607.5101,
          10043.249,
          4751.07,
          2597.779,
          3180.5101,
          9778.3472,
          13430.265,
          8017.06115,
          8116.26885,
          3481.868,
          13415.0381,
          12029.2867,
          7639.41745,
          1391.5287,
          16455.70785,
          27000.98473,
          20781.48892,
          5846.9176,
          8302.53565,
          1261.859,
          11856.4115,
          30284.64294,
          3176.8159,
          4618.0799,
          10736.87075,
          2138.0707,
          8964.06055,
          9290.1395,
          9411.005,
          7526.70645,
          8522.003,
          16586.49771,
          14988.432,
          1631.6683,
          9264.797,
          8083.9198,
          14692.66935,
          10269.46,
          3260.199,
          11396.9002,
          4185.0979,
          8539.671,
          6652.5288,
          4074.4537,
          1621.3402,
          5080.096,
          2134.9015,
          7345.7266,
          9140.951,
          14418.2804,
          2727.3951,
          8968.33,
          9788.8659,
          6555.07035,
          7323.734819,
          3167.45585,
          18804.7524,
          23082.95533,
          4906.40965,
          5969.723,
          12638.195,
          4243.59005,
          13919.8229,
          2254.7967,
          5926.846,
          12592.5345,
          2897.3235,
          4738.2682,
          1149.3959,
          28287.89766,
          7345.084,
          12730.9996,
          11454.0215,
          5910.944,
          4762.329,
          7512.267,
          4032.2407,
          1969.614,
          1769.53165,
          4686.3887,
          21797.0004,
          11881.9696,
          11840.77505,
          10601.412,
          7682.67,
          10381.4787,
          15230.32405,
          11165.41765,
          1632.03625,
          13224.693,
          12643.3778,
          23288.9284,
          2201.0971,
          2497.0383,
          2203.47185,
          1744.465,
          20878.78443,
          2534.39375,
          1534.3045,
          1824.2854,
          15555.18875,
          9304.7019,
          1622.1885,
          9880.068,
          9563.029,
          4347.02335,
          12475.3513,
          1253.936,
          10461.9794,
          1748.774,
          24513.09126,
          2196.4732,
          12574.049,
          1967.0227,
          4931.647,
          8027.968,
          8211.1002,
          13470.86,
          6837.3687,
          5974.3847,
          6796.86325,
          2643.2685,
          3077.0955,
          3044.2133,
          11455.28,
          11763.0009,
          2498.4144,
          9361.3268,
          1256.299,
          11362.755,
          27724.28875,
          8413.46305,
          5240.765,
          3857.75925,
          25656.57526,
          3994.1778,
          9866.30485,
          5397.6167,
          11482.63485,
          24059.68019,
          9861.025,
          8342.90875,
          1708.0014,
          14043.4767,
          12925.886,
          19214.70553,
          13831.1152,
          6067.12675,
          5972.378,
          8825.086,
          8233.0975,
          27346.04207,
          6196.448,
          3056.3881,
          13887.204,
          10231.4999,
          3268.84665,
          11538.421,
          3213.62205,
          13390.559,
          3972.9247,
          12957.118,
          11187.6567,
          17878.90068,
          3847.674,
          8334.5896,
          3935.1799,
          1646.4297,
          9193.8385,
          10923.9332,
          2494.022,
          9058.7303,
          2801.2588,
          2128.43105,
          6373.55735,
          7256.7231,
          11552.904,
          3761.292,
          2219.4451,
          4753.6368,
          31620.00106,
          13224.05705,
          12222.8983,
          1664.9996,
          9724.53,
          3206.49135,
          12913.9924,
          1639.5631,
          6356.2707,
          17626.23951,
          1242.816,
          4779.6023,
          3861.20965,
          13635.6379,
          5976.8311,
          11842.442,
          8428.0693,
          2566.4707,
          5709.1644,
          8823.98575,
          7640.3092,
          5594.8455,
          7441.501,
          33471.97189,
          1633.0444,
          9174.13565,
          11070.535,
          16085.1275,
          9283.562,
          3558.62025,
          4435.0942,
          8547.6913,
          6571.544,
          2207.69745,
          6753.038,
          1880.07,
          11658.11505,
          10713.644,
          3659.346,
          9182.17,
          12129.61415,
          3736.4647,
          6748.5912,
          11326.71487,
          11365.952,
          10085.846,
          1977.815,
          3366.6697,
          7173.35995,
          9391.346,
          14410.9321,
          2709.1119,
          24915.04626,
          12949.1554,
          6666.243,
          13143.86485,
          4466.6214,
          18806.14547,
          10141.1362,
          6123.5688,
          8252.2843,
          1712.227,
          12430.95335,
          9800.8882,
          10579.711,
          8280.6227,
          8527.532,
          12244.531,
          3410.324,
          4058.71245,
          26392.26029,
          14394.39815,
          6435.6237,
          22192.43711,
          5148.5526,
          1136.3994,
          8703.456,
          6500.2359,
          4837.5823,
          3943.5954,
          4399.731,
          6185.3208,
          7222.78625,
          12485.8009,
          12363.547,
          10156.7832,
          2585.269,
          1242.26,
          9863.4718,
          4766.022,
          11244.3769,
          7729.64575,
          5438.7491,
          26236.57997,
          2104.1134,
          8068.185,
          2362.22905,
          2352.96845,
          3577.999,
          3201.24515,
          29186.48236,
          10976.24575,
          3500.6123,
          2020.5523,
          9541.69555,
          9504.3103,
          5385.3379,
          8930.93455,
          5375.038,
          10264.4421,
          6113.23105,
          5469.0066,
          1727.54,
          10107.2206,
          8310.83915,
          1984.4533,
          2457.502,
          12146.971,
          9566.9909,
          13112.6048,
          10848.1343,
          12231.6136,
          9875.6804,
          11264.541,
          12979.358,
          1263.249,
          10106.13425,
          6664.68595,
          2217.6012,
          6781.3542,
          10065.413,
          4234.927,
          9447.25035,
          14007.222,
          9583.8933,
          3484.331,
          8604.48365,
          3757.8448,
          8827.2099,
          9910.35985,
          11737.84884,
          1627.28245,
          8556.907,
          3062.50825,
          1906.35825,
          14210.53595,
          11833.7823,
          17128.42608,
          5031.26955,
          7985.815,
          5428.7277,
          3925.7582,
          2416.955,
          3070.8087,
          9095.06825,
          11842.62375,
          8062.764,
          7050.642,
          14319.031,
          6933.24225,
          27941.28758,
          11150.78,
          12797.20962,
          7261.741,
          10560.4917,
          6986.697,
          7448.40395,
          5934.3798,
          9869.8102,
          1146.7966,
          9386.1613,
          4350.5144,
          6414.178,
          12741.16745,
          1917.3184,
          5209.57885,
          13457.9608,
          5662.225,
          1252.407,
          2731.9122,
          7209.4918,
          4266.1658,
          4719.52405,
          11848.141,
          7046.7222,
          14313.8463,
          2103.08,
          1815.8759,
          7731.85785,
          28476.73499,
          2136.88225,
          1131.5066,
          3309.7926,
          9414.92,
          6360.9936,
          11013.7119,
          4428.88785,
          5584.3057,
          1877.9294,
          2842.76075,
          3597.596,
          7445.918,
          2680.9493,
          1621.8827,
          8219.2039,
          12523.6048,
          16069.08475,
          6117.4945,
          13393.756,
          5266.3656,
          4719.73655,
          11743.9341,
          5377.4578,
          7160.3303,
          4402.233,
          11657.7189,
          6402.29135,
          12622.1795,
          1526.312,
          12323.936,
          10072.05505,
          9872.701,
          2438.0552,
          2974.126,
          10601.63225,
          14119.62,
          11729.6795,
          1875.344,
          18218.16139,
          10965.446,
          7151.092,
          12269.68865,
          5458.04645,
          8782.469,
          6600.361,
          1141.4451,
          11576.13,
          13129.60345,
          4391.652,
          8457.818,
          3392.3652,
          5966.8874,
          6849.026,
          8891.1395,
          2690.1138,
          26140.3603,
          6653.7886,
          6282.235,
          6311.952,
          3443.064,
          2789.0574,
          2585.85065,
          4877.98105,
          5272.1758,
          1682.597,
          11945.1327,
          7243.8136,
          10422.91665,
          13555.0049,
          13063.883,
          2221.56445,
          1634.5734,
          2117.33885,
          8688.85885,
          4661.28635,
          8125.7845,
          12644.589,
          4564.19145,
          4846.92015,
          7633.7206,
          15170.069,
          2639.0429,
          14382.70905,
          7626.993,
          5257.50795,
          2473.3341,
          13041.921,
          5245.2269,
          13451.122,
          13462.52,
          5488.262,
          4320.41085,
          6250.435,
          25333.33284,
          2913.569,
          12032.326,
          13470.8044,
          6289.7549,
          2927.0647,
          6238.298,
          10096.97,
          7348.142,
          4673.3922,
          12233.828,
          32108.66282,
          8965.79575,
          2304.0022,
          9487.6442,
          1121.8739,
          9549.5651,
          2217.46915,
          1628.4709,
          12982.8747,
          11674.13,
          7160.094,
          6358.77645,
          11534.87265,
          4527.18295,
          3875.7341,
          12609.88702,
          28468.91901,
          2730.10785,
          3353.284,
          14474.675,
          9500.57305,
          26467.09737,
          4746.344,
          7518.02535,
          3279.86855,
          8596.8278,
          10702.6424,
          4992.3764,
          2527.81865,
          1759.338,
          2322.6218,
          7804.1605,
          2902.9065,
          9704.66805,
          4889.0368,
          25517.11363,
          4500.33925,
          16796.41194,
          4915.05985,
          7624.63,
          8410.04685,
          28340.18885,
          4518.82625,
          3378.91,
          7144.86265,
          10118.424,
          5484.4673,
          7986.47525,
          7418.522,
          13887.9685,
          6551.7501,
          5267.81815,
          1972.95,
          21232.18226,
          8627.5411,
          4433.3877,
          4438.2634,
          23241.47453,
          9957.7216,
          8269.044,
          36580.28216,
          8765.249,
          5383.536,
          12124.9924,
          2709.24395,
          3987.926,
          12495.29085,
          26018.95052,
          8798.593,
          1711.0268,
          8569.8618,
          2020.177,
          21595.38229,
          9850.432,
          6877.9801,
          4137.5227,
          12950.0712,
          12094.478,
          2250.8352,
          22493.65964,
          1704.70015,
          3161.454,
          11394.06555,
          7325.0482,
          3594.17085,
          8023.13545,
          14394.5579,
          9288.0267,
          3353.4703,
          10594.50155,
          8277.523,
          17929.30337,
          2480.9791,
          4462.7218,
          1981.5819,
          11554.2236,
          6548.19505,
          5708.867,
          7045.499,
          8978.1851,
          5757.41345,
          14349.8544,
          10928.849,
          13974.45555,
          1909.52745,
          12096.6512,
          13204.28565,
          4562.8421,
          8551.347,
          2102.2647,
          15161.5344,
          11884.04858,
          4454.40265,
          5855.9025,
          4076.497,
          15019.76005,
          10796.35025,
          11353.2276,
          9748.9106,
          10577.087,
          11286.5387,
          3591.48,
          11299.343,
          4561.1885,
          1674.6323,
          23045.56616,
          3227.1211,
          11253.421,
          3471.4096,
          11363.2832,
          20420.60465,
          10338.9316,
          8988.15875,
          10493.9458,
          2904.088,
          8605.3615,
          11512.405,
          5312.16985,
          2396.0959,
          10807.4863,
          9222.4026,
          5693.4305,
          8347.1643,
          18903.49141,
          14254.6082,
          10214.636,
          5836.5204,
          14358.36437,
          1728.897,
          8582.3023,
          3693.428,
          20709.02034,
          9991.03765,
          19673.33573,
          11085.5868,
          7623.518,
          3176.2877,
          3704.3545,
          9048.0273,
          7954.517,
          27117.99378,
          6338.0756,
          9630.397,
          11289.10925,
          2261.5688,
          10791.96,
          5979.731,
          2203.73595,
          12235.8392,
          5630.45785,
          11015.1747,
          7228.21565,
          14426.07385,
          2459.7201,
          3989.841,
          7727.2532,
          5124.1887,
          18963.17192,
          2200.83085,
          7153.5539,
          5227.98875,
          10982.5013,
          4529.477,
          4670.64,
          6112.35295,
          11093.6229,
          6457.8434,
          4433.9159,
          2154.361,
          6496.886,
          2899.48935,
          7650.77375,
          2850.68375,
          2632.992,
          9447.3824,
          8603.8234,
          13844.7972,
          13126.67745,
          5327.40025,
          13725.47184,
          13019.16105,
          8671.19125,
          4134.08245,
          18838.70366,
          5699.8375,
          6393.60345,
          4934.705,
          6198.7518,
          8733.22925,
          2055.3249,
          9964.06,
          5116.5004,
          36910.60803,
          12347.172,
          5373.36425,
          23563.01618,
          1702.4553,
          10806.839,
          3956.07145,
          12890.05765,
          5415.6612,
          4058.1161,
          7537.1639,
          4718.20355,
          6593.5083,
          8442.667,
          6858.4796,
          4795.6568,
          6640.54485,
          7162.0122,
          10594.2257,
          11938.25595,
          12479.70895,
          11345.519,
          8515.7587,
          2699.56835,
          14449.8544,
          12224.35085,
          6985.50695,
          3238.4357,
          4296.2712,
          3171.6149,
          1135.9407,
          5615.369,
          9101.798,
          6059.173,
          1633.9618,
          1241.565,
          15828.82173,
          4415.1588,
          6474.013,
          11436.73815,
          11305.93455,
          30063.58055,
          10197.7722,
          4544.2348,
          3277.161,
          6770.1925,
          7337.748,
          10370.91255,
          10704.47,
          1880.487,
          8615.3,
          3292.52985,
          3021.80915,
          14478.33015,
          4747.0529,
          10959.33,
          2741.948,
          4357.04365,
          4189.1131,
          8283.6807,
          1720.3537,
          8534.6718,
          3732.6251,
          5472.449,
          7147.4728,
          7133.9025,
          1515.3449,
          9301.89355,
          11931.12525,
          1964.78,
          1708.92575,
          4340.4409,
          5261.46945,
          2710.82855,
          3208.787,
          2464.6188,
          6875.961,
          6940.90985,
          4571.41305,
          4536.259,
          11272.33139,
          1731.677,
          1163.4627,
          19496.71917,
          7201.70085,
          5425.02335,
          12981.3457,
          4239.89265,
          13143.33665,
          7050.0213,
          9377.9047,
          22395.74424,
          10325.206,
          12629.1656,
          10795.93733,
          11411.685,
          10600.5483,
          2205.9808,
          1629.8335,
          2007.945
         ],
         "xaxis": "x2",
         "yaxis": "y2"
        }
       ],
       "layout": {
        "barmode": "overlay",
        "font": {
         "color": "#303030"
        },
        "legend": {
         "orientation": "h",
         "title": {
          "text": ""
         },
         "tracegroupgap": 0,
         "x": 1,
         "xanchor": "right",
         "y": 1.02,
         "yanchor": "bottom"
        },
        "template": {
         "data": {
          "bar": [
           {
            "error_x": {
             "color": "#2a3f5f"
            },
            "error_y": {
             "color": "#2a3f5f"
            },
            "marker": {
             "line": {
              "color": "white",
              "width": 0.5
             },
             "pattern": {
              "fillmode": "overlay",
              "size": 10,
              "solidity": 0.2
             }
            },
            "type": "bar"
           }
          ],
          "barpolar": [
           {
            "marker": {
             "line": {
              "color": "white",
              "width": 0.5
             },
             "pattern": {
              "fillmode": "overlay",
              "size": 10,
              "solidity": 0.2
             }
            },
            "type": "barpolar"
           }
          ],
          "carpet": [
           {
            "aaxis": {
             "endlinecolor": "#2a3f5f",
             "gridcolor": "#C8D4E3",
             "linecolor": "#C8D4E3",
             "minorgridcolor": "#C8D4E3",
             "startlinecolor": "#2a3f5f"
            },
            "baxis": {
             "endlinecolor": "#2a3f5f",
             "gridcolor": "#C8D4E3",
             "linecolor": "#C8D4E3",
             "minorgridcolor": "#C8D4E3",
             "startlinecolor": "#2a3f5f"
            },
            "type": "carpet"
           }
          ],
          "choropleth": [
           {
            "colorbar": {
             "outlinewidth": 0,
             "ticks": ""
            },
            "type": "choropleth"
           }
          ],
          "contour": [
           {
            "colorbar": {
             "outlinewidth": 0,
             "ticks": ""
            },
            "colorscale": [
             [
              0,
              "#0d0887"
             ],
             [
              0.1111111111111111,
              "#46039f"
             ],
             [
              0.2222222222222222,
              "#7201a8"
             ],
             [
              0.3333333333333333,
              "#9c179e"
             ],
             [
              0.4444444444444444,
              "#bd3786"
             ],
             [
              0.5555555555555556,
              "#d8576b"
             ],
             [
              0.6666666666666666,
              "#ed7953"
             ],
             [
              0.7777777777777778,
              "#fb9f3a"
             ],
             [
              0.8888888888888888,
              "#fdca26"
             ],
             [
              1,
              "#f0f921"
             ]
            ],
            "type": "contour"
           }
          ],
          "contourcarpet": [
           {
            "colorbar": {
             "outlinewidth": 0,
             "ticks": ""
            },
            "type": "contourcarpet"
           }
          ],
          "heatmap": [
           {
            "colorbar": {
             "outlinewidth": 0,
             "ticks": ""
            },
            "colorscale": [
             [
              0,
              "#0d0887"
             ],
             [
              0.1111111111111111,
              "#46039f"
             ],
             [
              0.2222222222222222,
              "#7201a8"
             ],
             [
              0.3333333333333333,
              "#9c179e"
             ],
             [
              0.4444444444444444,
              "#bd3786"
             ],
             [
              0.5555555555555556,
              "#d8576b"
             ],
             [
              0.6666666666666666,
              "#ed7953"
             ],
             [
              0.7777777777777778,
              "#fb9f3a"
             ],
             [
              0.8888888888888888,
              "#fdca26"
             ],
             [
              1,
              "#f0f921"
             ]
            ],
            "type": "heatmap"
           }
          ],
          "heatmapgl": [
           {
            "colorbar": {
             "outlinewidth": 0,
             "ticks": ""
            },
            "colorscale": [
             [
              0,
              "#0d0887"
             ],
             [
              0.1111111111111111,
              "#46039f"
             ],
             [
              0.2222222222222222,
              "#7201a8"
             ],
             [
              0.3333333333333333,
              "#9c179e"
             ],
             [
              0.4444444444444444,
              "#bd3786"
             ],
             [
              0.5555555555555556,
              "#d8576b"
             ],
             [
              0.6666666666666666,
              "#ed7953"
             ],
             [
              0.7777777777777778,
              "#fb9f3a"
             ],
             [
              0.8888888888888888,
              "#fdca26"
             ],
             [
              1,
              "#f0f921"
             ]
            ],
            "type": "heatmapgl"
           }
          ],
          "histogram": [
           {
            "marker": {
             "pattern": {
              "fillmode": "overlay",
              "size": 10,
              "solidity": 0.2
             }
            },
            "type": "histogram"
           }
          ],
          "histogram2d": [
           {
            "colorbar": {
             "outlinewidth": 0,
             "ticks": ""
            },
            "colorscale": [
             [
              0,
              "#0d0887"
             ],
             [
              0.1111111111111111,
              "#46039f"
             ],
             [
              0.2222222222222222,
              "#7201a8"
             ],
             [
              0.3333333333333333,
              "#9c179e"
             ],
             [
              0.4444444444444444,
              "#bd3786"
             ],
             [
              0.5555555555555556,
              "#d8576b"
             ],
             [
              0.6666666666666666,
              "#ed7953"
             ],
             [
              0.7777777777777778,
              "#fb9f3a"
             ],
             [
              0.8888888888888888,
              "#fdca26"
             ],
             [
              1,
              "#f0f921"
             ]
            ],
            "type": "histogram2d"
           }
          ],
          "histogram2dcontour": [
           {
            "colorbar": {
             "outlinewidth": 0,
             "ticks": ""
            },
            "colorscale": [
             [
              0,
              "#0d0887"
             ],
             [
              0.1111111111111111,
              "#46039f"
             ],
             [
              0.2222222222222222,
              "#7201a8"
             ],
             [
              0.3333333333333333,
              "#9c179e"
             ],
             [
              0.4444444444444444,
              "#bd3786"
             ],
             [
              0.5555555555555556,
              "#d8576b"
             ],
             [
              0.6666666666666666,
              "#ed7953"
             ],
             [
              0.7777777777777778,
              "#fb9f3a"
             ],
             [
              0.8888888888888888,
              "#fdca26"
             ],
             [
              1,
              "#f0f921"
             ]
            ],
            "type": "histogram2dcontour"
           }
          ],
          "mesh3d": [
           {
            "colorbar": {
             "outlinewidth": 0,
             "ticks": ""
            },
            "type": "mesh3d"
           }
          ],
          "parcoords": [
           {
            "line": {
             "colorbar": {
              "outlinewidth": 0,
              "ticks": ""
             }
            },
            "type": "parcoords"
           }
          ],
          "pie": [
           {
            "automargin": true,
            "type": "pie"
           }
          ],
          "scatter": [
           {
            "fillpattern": {
             "fillmode": "overlay",
             "size": 10,
             "solidity": 0.2
            },
            "type": "scatter"
           }
          ],
          "scatter3d": [
           {
            "line": {
             "colorbar": {
              "outlinewidth": 0,
              "ticks": ""
             }
            },
            "marker": {
             "colorbar": {
              "outlinewidth": 0,
              "ticks": ""
             }
            },
            "type": "scatter3d"
           }
          ],
          "scattercarpet": [
           {
            "marker": {
             "colorbar": {
              "outlinewidth": 0,
              "ticks": ""
             }
            },
            "type": "scattercarpet"
           }
          ],
          "scattergeo": [
           {
            "marker": {
             "colorbar": {
              "outlinewidth": 0,
              "ticks": ""
             }
            },
            "type": "scattergeo"
           }
          ],
          "scattergl": [
           {
            "marker": {
             "colorbar": {
              "outlinewidth": 0,
              "ticks": ""
             }
            },
            "type": "scattergl"
           }
          ],
          "scattermapbox": [
           {
            "marker": {
             "colorbar": {
              "outlinewidth": 0,
              "ticks": ""
             }
            },
            "type": "scattermapbox"
           }
          ],
          "scatterpolar": [
           {
            "marker": {
             "colorbar": {
              "outlinewidth": 0,
              "ticks": ""
             }
            },
            "type": "scatterpolar"
           }
          ],
          "scatterpolargl": [
           {
            "marker": {
             "colorbar": {
              "outlinewidth": 0,
              "ticks": ""
             }
            },
            "type": "scatterpolargl"
           }
          ],
          "scatterternary": [
           {
            "marker": {
             "colorbar": {
              "outlinewidth": 0,
              "ticks": ""
             }
            },
            "type": "scatterternary"
           }
          ],
          "surface": [
           {
            "colorbar": {
             "outlinewidth": 0,
             "ticks": ""
            },
            "colorscale": [
             [
              0,
              "#0d0887"
             ],
             [
              0.1111111111111111,
              "#46039f"
             ],
             [
              0.2222222222222222,
              "#7201a8"
             ],
             [
              0.3333333333333333,
              "#9c179e"
             ],
             [
              0.4444444444444444,
              "#bd3786"
             ],
             [
              0.5555555555555556,
              "#d8576b"
             ],
             [
              0.6666666666666666,
              "#ed7953"
             ],
             [
              0.7777777777777778,
              "#fb9f3a"
             ],
             [
              0.8888888888888888,
              "#fdca26"
             ],
             [
              1,
              "#f0f921"
             ]
            ],
            "type": "surface"
           }
          ],
          "table": [
           {
            "cells": {
             "fill": {
              "color": "#EBF0F8"
             },
             "line": {
              "color": "white"
             }
            },
            "header": {
             "fill": {
              "color": "#C8D4E3"
             },
             "line": {
              "color": "white"
             }
            },
            "type": "table"
           }
          ]
         },
         "layout": {
          "annotationdefaults": {
           "arrowcolor": "#2a3f5f",
           "arrowhead": 0,
           "arrowwidth": 1
          },
          "autotypenumbers": "strict",
          "coloraxis": {
           "colorbar": {
            "outlinewidth": 0,
            "ticks": ""
           }
          },
          "colorscale": {
           "diverging": [
            [
             0,
             "#8e0152"
            ],
            [
             0.1,
             "#c51b7d"
            ],
            [
             0.2,
             "#de77ae"
            ],
            [
             0.3,
             "#f1b6da"
            ],
            [
             0.4,
             "#fde0ef"
            ],
            [
             0.5,
             "#f7f7f7"
            ],
            [
             0.6,
             "#e6f5d0"
            ],
            [
             0.7,
             "#b8e186"
            ],
            [
             0.8,
             "#7fbc41"
            ],
            [
             0.9,
             "#4d9221"
            ],
            [
             1,
             "#276419"
            ]
           ],
           "sequential": [
            [
             0,
             "#0d0887"
            ],
            [
             0.1111111111111111,
             "#46039f"
            ],
            [
             0.2222222222222222,
             "#7201a8"
            ],
            [
             0.3333333333333333,
             "#9c179e"
            ],
            [
             0.4444444444444444,
             "#bd3786"
            ],
            [
             0.5555555555555556,
             "#d8576b"
            ],
            [
             0.6666666666666666,
             "#ed7953"
            ],
            [
             0.7777777777777778,
             "#fb9f3a"
            ],
            [
             0.8888888888888888,
             "#fdca26"
            ],
            [
             1,
             "#f0f921"
            ]
           ],
           "sequentialminus": [
            [
             0,
             "#0d0887"
            ],
            [
             0.1111111111111111,
             "#46039f"
            ],
            [
             0.2222222222222222,
             "#7201a8"
            ],
            [
             0.3333333333333333,
             "#9c179e"
            ],
            [
             0.4444444444444444,
             "#bd3786"
            ],
            [
             0.5555555555555556,
             "#d8576b"
            ],
            [
             0.6666666666666666,
             "#ed7953"
            ],
            [
             0.7777777777777778,
             "#fb9f3a"
            ],
            [
             0.8888888888888888,
             "#fdca26"
            ],
            [
             1,
             "#f0f921"
            ]
           ]
          },
          "colorway": [
           "#636efa",
           "#EF553B",
           "#00cc96",
           "#ab63fa",
           "#FFA15A",
           "#19d3f3",
           "#FF6692",
           "#B6E880",
           "#FF97FF",
           "#FECB52"
          ],
          "font": {
           "color": "#2a3f5f"
          },
          "geo": {
           "bgcolor": "white",
           "lakecolor": "white",
           "landcolor": "white",
           "showlakes": true,
           "showland": true,
           "subunitcolor": "#C8D4E3"
          },
          "hoverlabel": {
           "align": "left"
          },
          "hovermode": "closest",
          "mapbox": {
           "style": "light"
          },
          "paper_bgcolor": "white",
          "plot_bgcolor": "white",
          "polar": {
           "angularaxis": {
            "gridcolor": "#EBF0F8",
            "linecolor": "#EBF0F8",
            "ticks": ""
           },
           "bgcolor": "white",
           "radialaxis": {
            "gridcolor": "#EBF0F8",
            "linecolor": "#EBF0F8",
            "ticks": ""
           }
          },
          "scene": {
           "xaxis": {
            "backgroundcolor": "white",
            "gridcolor": "#DFE8F3",
            "gridwidth": 2,
            "linecolor": "#EBF0F8",
            "showbackground": true,
            "ticks": "",
            "zerolinecolor": "#EBF0F8"
           },
           "yaxis": {
            "backgroundcolor": "white",
            "gridcolor": "#DFE8F3",
            "gridwidth": 2,
            "linecolor": "#EBF0F8",
            "showbackground": true,
            "ticks": "",
            "zerolinecolor": "#EBF0F8"
           },
           "zaxis": {
            "backgroundcolor": "white",
            "gridcolor": "#DFE8F3",
            "gridwidth": 2,
            "linecolor": "#EBF0F8",
            "showbackground": true,
            "ticks": "",
            "zerolinecolor": "#EBF0F8"
           }
          },
          "shapedefaults": {
           "line": {
            "color": "#2a3f5f"
           }
          },
          "ternary": {
           "aaxis": {
            "gridcolor": "#DFE8F3",
            "linecolor": "#A2B1C6",
            "ticks": ""
           },
           "baxis": {
            "gridcolor": "#DFE8F3",
            "linecolor": "#A2B1C6",
            "ticks": ""
           },
           "bgcolor": "white",
           "caxis": {
            "gridcolor": "#DFE8F3",
            "linecolor": "#A2B1C6",
            "ticks": ""
           }
          },
          "title": {
           "x": 0.05
          },
          "xaxis": {
           "automargin": true,
           "gridcolor": "#EBF0F8",
           "linecolor": "#EBF0F8",
           "ticks": "",
           "title": {
            "standoff": 15
           },
           "zerolinecolor": "#EBF0F8",
           "zerolinewidth": 2
          },
          "yaxis": {
           "automargin": true,
           "gridcolor": "#EBF0F8",
           "linecolor": "#EBF0F8",
           "ticks": "",
           "title": {
            "standoff": 15
           },
           "zerolinecolor": "#EBF0F8",
           "zerolinewidth": 2
          }
         }
        },
        "title": {
         "text": "Distribution of Insurance Costs by Smoking Status"
        },
        "xaxis": {
         "anchor": "y",
         "domain": [
          0,
          1
         ],
         "showgrid": false,
         "title": {
          "text": "Claim Amount, $"
         },
         "zerolinecolor": "#EAEAEA"
        },
        "xaxis2": {
         "anchor": "y2",
         "domain": [
          0,
          1
         ],
         "matches": "x",
         "showgrid": false,
         "showticklabels": false,
         "zerolinecolor": "#EAEAEA"
        },
        "yaxis": {
         "anchor": "x",
         "domain": [
          0,
          0.7326
         ],
         "gridcolor": "#EAEAEA",
         "title": {
          "text": "Probability Density"
         },
         "zerolinecolor": "#EAEAEA"
        },
        "yaxis2": {
         "anchor": "x2",
         "domain": [
          0.7426,
          1
         ],
         "matches": "y2",
         "showgrid": false,
         "showline": false,
         "showticklabels": false,
         "ticks": ""
        }
       }
      },
      "text/html": [
       "<div>                            <div id=\"e35bb447-a7e9-403b-9ee4-c843312a2378\" class=\"plotly-graph-div\" style=\"height:525px; width:100%;\"></div>            <script type=\"text/javascript\">                require([\"plotly\"], function(Plotly) {                    window.PLOTLYENV=window.PLOTLYENV || {};                                    if (document.getElementById(\"e35bb447-a7e9-403b-9ee4-c843312a2378\")) {                    Plotly.newPlot(                        \"e35bb447-a7e9-403b-9ee4-c843312a2378\",                        [{\"alignmentgroup\":\"True\",\"bingroup\":\"x\",\"histnorm\":\"probability density\",\"hovertemplate\":\"smoker=Smoker<br>charges=%{x}<br>probability density=%{y}<extra></extra>\",\"legendgroup\":\"Smoker\",\"marker\":{\"color\":\"#B14B51\",\"opacity\":0.7,\"pattern\":{\"shape\":\"\"}},\"name\":\"Smoker\",\"offsetgroup\":\"Smoker\",\"orientation\":\"v\",\"showlegend\":true,\"x\":[16884.924,27808.7251,39611.7577,36837.467,37701.8768,38711.0,35585.576,51194.55914,39774.2763,48173.361,38709.176,23568.272,37742.5757,47496.49445,34303.1672,23244.7902,14711.7438,17663.1442,16577.7795,37165.1638,39836.519,21098.55405,43578.9394,30184.9367,47291.055,22412.6485,15820.699,30942.1918,17560.37975,47055.5321,19107.7796,39556.4945,17081.08,32734.1863,18972.495,20745.9891,40720.55105,19964.7463,21223.6758,15518.18025,36950.2567,21348.706,36149.4835,48824.45,43753.33705,37133.8982,20984.0936,34779.615,19515.5416,19444.2658,17352.6803,38511.6283,29523.1656,12829.4551,47305.305,44260.7499,41097.16175,43921.1837,33750.2918,17085.2676,24869.8368,36219.40545,46151.1245,17179.522,42856.838,22331.5668,48549.17835,47896.79135,42112.2356,16297.846,21978.6769,38746.3551,24873.3849,42124.5153,34838.873,35491.64,42760.5022,47928.03,48517.56315,24393.6224,41919.097,13844.506,36085.219,18033.9679,21659.9301,38126.2465,15006.57945,42303.69215,19594.80965,14455.64405,18608.262,28950.4692,46889.2612,46599.1084,39125.33225,37079.372,26109.32905,22144.032,19521.9682,25382.297,28868.6639,35147.52848,48885.13561,17942.106,36197.699,22218.1149,32548.3405,21082.16,38245.59327,48675.5177,63770.42801,23807.2406,45863.205,39983.42595,45702.02235,58571.07448,43943.8761,15359.1045,17468.9839,25678.77845,39241.442,42969.8527,23306.547,34439.8559,40182.246,34617.84065,42983.4585,20149.3229,32787.45859,24667.419,27037.9141,42560.4304,40003.33225,45710.20785,46200.9851,46130.5265,40103.89,34806.4677,40273.6455,44400.4064,40932.4295,16657.71745,19361.9988,40419.0191,36189.1017,44585.45587,18246.4955,43254.41795,19539.243,23065.4207,36307.7983,19040.876,17748.5062,18259.216,24520.264,21195.818,18310.742,17904.52705,38792.6856,23401.30575,55135.40209,43813.8661,20773.62775,39597.4072,36021.0112,27533.9129,45008.9555,37270.1512,42111.6647,24106.91255,40974.1649,15817.9857,46113.511,46255.1125,19719.6947,27218.43725,29330.98315,44202.6536,19798.05455,48673.5588,17496.306,33732.6867,21774.32215,35069.37452,39047.285,19933.458,47462.894,38998.546,20009.63365,41999.52,41034.2214,23967.38305,16138.76205,19199.944,14571.8908,16420.49455,17361.7661,34472.841,24915.22085,18767.7377,35595.5898,42211.1382,16450.8947,21677.28345,44423.803,13747.87235,37484.4493,39725.51805,20234.85475,33475.81715,21880.82,44501.3982,39727.614,25309.489,48970.2476,39871.7043,34672.1472,19023.26,41676.0811,33907.548,44641.1974,16776.30405,41949.2441,24180.9335,36124.5737,38282.7495,34166.273,46661.4424,40904.1995,36898.73308,52590.82939,40941.2854,39722.7462,17178.6824,22478.6,23887.6627,19350.3689,18328.2381,37465.34375,21771.3423,33307.5508,18223.4512,38415.474,20296.86345,41661.602,26125.67477,60021.39897,20167.33603,47269.854,49577.6624,37607.5277,18648.4217,16232.847,26926.5144,34254.05335,17043.3414,22462.04375,24535.69855,14283.4594,47403.88,38344.566,34828.654,62592.87309,46718.16325,37829.7242,21259.37795,16115.3045,21472.4788,33900.653,36397.576,18765.87545,28101.33305,43896.3763,29141.3603],\"xaxis\":\"x\",\"yaxis\":\"y\",\"type\":\"histogram\"},{\"alignmentgroup\":\"True\",\"hovertemplate\":\"smoker=Smoker<br>charges=%{x}<extra></extra>\",\"legendgroup\":\"Smoker\",\"marker\":{\"color\":\"#B14B51\"},\"name\":\"Smoker\",\"notched\":true,\"offsetgroup\":\"Smoker\",\"showlegend\":false,\"x\":[16884.924,27808.7251,39611.7577,36837.467,37701.8768,38711.0,35585.576,51194.55914,39774.2763,48173.361,38709.176,23568.272,37742.5757,47496.49445,34303.1672,23244.7902,14711.7438,17663.1442,16577.7795,37165.1638,39836.519,21098.55405,43578.9394,30184.9367,47291.055,22412.6485,15820.699,30942.1918,17560.37975,47055.5321,19107.7796,39556.4945,17081.08,32734.1863,18972.495,20745.9891,40720.55105,19964.7463,21223.6758,15518.18025,36950.2567,21348.706,36149.4835,48824.45,43753.33705,37133.8982,20984.0936,34779.615,19515.5416,19444.2658,17352.6803,38511.6283,29523.1656,12829.4551,47305.305,44260.7499,41097.16175,43921.1837,33750.2918,17085.2676,24869.8368,36219.40545,46151.1245,17179.522,42856.838,22331.5668,48549.17835,47896.79135,42112.2356,16297.846,21978.6769,38746.3551,24873.3849,42124.5153,34838.873,35491.64,42760.5022,47928.03,48517.56315,24393.6224,41919.097,13844.506,36085.219,18033.9679,21659.9301,38126.2465,15006.57945,42303.69215,19594.80965,14455.64405,18608.262,28950.4692,46889.2612,46599.1084,39125.33225,37079.372,26109.32905,22144.032,19521.9682,25382.297,28868.6639,35147.52848,48885.13561,17942.106,36197.699,22218.1149,32548.3405,21082.16,38245.59327,48675.5177,63770.42801,23807.2406,45863.205,39983.42595,45702.02235,58571.07448,43943.8761,15359.1045,17468.9839,25678.77845,39241.442,42969.8527,23306.547,34439.8559,40182.246,34617.84065,42983.4585,20149.3229,32787.45859,24667.419,27037.9141,42560.4304,40003.33225,45710.20785,46200.9851,46130.5265,40103.89,34806.4677,40273.6455,44400.4064,40932.4295,16657.71745,19361.9988,40419.0191,36189.1017,44585.45587,18246.4955,43254.41795,19539.243,23065.4207,36307.7983,19040.876,17748.5062,18259.216,24520.264,21195.818,18310.742,17904.52705,38792.6856,23401.30575,55135.40209,43813.8661,20773.62775,39597.4072,36021.0112,27533.9129,45008.9555,37270.1512,42111.6647,24106.91255,40974.1649,15817.9857,46113.511,46255.1125,19719.6947,27218.43725,29330.98315,44202.6536,19798.05455,48673.5588,17496.306,33732.6867,21774.32215,35069.37452,39047.285,19933.458,47462.894,38998.546,20009.63365,41999.52,41034.2214,23967.38305,16138.76205,19199.944,14571.8908,16420.49455,17361.7661,34472.841,24915.22085,18767.7377,35595.5898,42211.1382,16450.8947,21677.28345,44423.803,13747.87235,37484.4493,39725.51805,20234.85475,33475.81715,21880.82,44501.3982,39727.614,25309.489,48970.2476,39871.7043,34672.1472,19023.26,41676.0811,33907.548,44641.1974,16776.30405,41949.2441,24180.9335,36124.5737,38282.7495,34166.273,46661.4424,40904.1995,36898.73308,52590.82939,40941.2854,39722.7462,17178.6824,22478.6,23887.6627,19350.3689,18328.2381,37465.34375,21771.3423,33307.5508,18223.4512,38415.474,20296.86345,41661.602,26125.67477,60021.39897,20167.33603,47269.854,49577.6624,37607.5277,18648.4217,16232.847,26926.5144,34254.05335,17043.3414,22462.04375,24535.69855,14283.4594,47403.88,38344.566,34828.654,62592.87309,46718.16325,37829.7242,21259.37795,16115.3045,21472.4788,33900.653,36397.576,18765.87545,28101.33305,43896.3763,29141.3603],\"xaxis\":\"x2\",\"yaxis\":\"y2\",\"type\":\"box\"},{\"alignmentgroup\":\"True\",\"bingroup\":\"x\",\"histnorm\":\"probability density\",\"hovertemplate\":\"smoker=Non-Smoker<br>charges=%{x}<br>probability density=%{y}<extra></extra>\",\"legendgroup\":\"Non-Smoker\",\"marker\":{\"color\":\"#B7A294\",\"opacity\":0.7,\"pattern\":{\"shape\":\"\"}},\"name\":\"Non-Smoker\",\"offsetgroup\":\"Non-Smoker\",\"orientation\":\"v\",\"showlegend\":true,\"x\":[1725.5523,4449.462,21984.47061,3866.8552,3756.6216,8240.5896,7281.5056,6406.4107,28923.13692,2721.3208,1826.843,11090.7178,1837.237,10797.3362,2395.17155,10602.385,13228.84695,4149.736,1137.011,6203.90175,14001.1338,14451.83515,12268.63225,2775.19215,2198.18985,4687.797,13770.0979,1625.43375,15612.19335,2302.3,3046.062,4949.7587,6272.4772,6313.759,6079.6715,20630.28351,3393.35635,3556.9223,12629.8967,2211.13075,3579.8287,8059.6791,13607.36875,5989.52365,8606.2174,4504.6624,30166.61817,4133.64165,1743.214,14235.072,6389.37785,5920.1041,6799.458,11741.726,11946.6259,7726.854,11356.6609,3947.4131,1532.4697,2755.02095,6571.02435,4441.21315,7935.29115,11033.6617,11073.176,8026.6666,11082.5772,2026.9741,10942.13205,5729.0053,3766.8838,12105.32,10226.2842,6186.127,3645.0894,21344.8467,5003.853,2331.519,3877.30425,2867.1196,10825.2537,11881.358,4646.759,2404.7338,11488.31695,30259.99556,11381.3254,8601.3293,6686.4313,7740.337,1705.6245,2257.47525,10115.00885,3385.39915,9634.538,6082.405,12815.44495,13616.3586,11163.568,1632.56445,2457.21115,2155.6815,1261.442,2045.68525,27322.73386,2166.732,27375.90478,3490.5491,18157.876,5138.2567,9877.6077,10959.6947,1842.519,5125.2157,7789.635,6334.34355,7077.1894,6948.7008,19749.38338,10450.552,5152.134,5028.1466,10407.08585,4830.63,6128.79745,2719.27975,4827.90495,13405.3903,8116.68,1694.7964,5246.047,2855.43755,6455.86265,10436.096,8823.279,8538.28845,11735.87905,1631.8212,4005.4225,7419.4779,7731.4271,3981.9768,5325.651,6775.961,4922.9159,12557.6053,4883.866,2137.6536,12044.342,1137.4697,1639.5631,5649.715,8516.829,9644.2525,14901.5167,2130.6759,8871.1517,13012.20865,7147.105,4337.7352,11743.299,13880.949,6610.1097,1980.07,8162.71625,3537.703,5002.7827,8520.026,7371.772,10355.641,2483.736,3392.9768,25081.76784,5012.471,10564.8845,5253.524,11987.1682,2689.4954,24227.33724,7358.17565,9225.2564,7443.64305,14001.2867,1727.785,12333.828,6710.1919,1615.7667,4463.2051,7152.6714,5354.07465,35160.13457,7196.867,24476.47851,12648.7034,1986.9334,1832.094,4040.55825,4260.744,13047.33235,5400.9805,11520.09985,11837.16,20462.99766,14590.63205,7441.053,9282.4806,1719.4363,7265.7025,9617.66245,2523.1695,9715.841,2803.69785,2150.469,12928.7911,9855.1314,4237.12655,11879.10405,9625.92,7742.1098,9432.9253,14256.1928,25992.82104,3172.018,20277.80751,2156.7518,3906.127,1704.5681,9249.4952,6746.7425,12265.5069,4349.462,12646.207,19442.3535,20177.67113,4151.0287,11944.59435,7749.1564,8444.474,1737.376,8124.4084,9722.7695,8835.26495,10435.06525,7421.19455,4667.60765,4894.7533,24671.66334,11566.30055,2866.091,6600.20595,3561.8889,9144.565,13429.0354,11658.37915,19144.57652,13822.803,12142.5786,13937.6665,8232.6388,18955.22017,13352.0998,13217.0945,13981.85035,10977.2063,6184.2994,4889.9995,8334.45755,5478.0368,1635.73365,11830.6072,8932.084,3554.203,12404.8791,14133.03775,24603.04837,8944.1151,9620.3307,1837.2819,1607.5101,10043.249,4751.07,2597.779,3180.5101,9778.3472,13430.265,8017.06115,8116.26885,3481.868,13415.0381,12029.2867,7639.41745,1391.5287,16455.70785,27000.98473,20781.48892,5846.9176,8302.53565,1261.859,11856.4115,30284.64294,3176.8159,4618.0799,10736.87075,2138.0707,8964.06055,9290.1395,9411.005,7526.70645,8522.003,16586.49771,14988.432,1631.6683,9264.797,8083.9198,14692.66935,10269.46,3260.199,11396.9002,4185.0979,8539.671,6652.5288,4074.4537,1621.3402,5080.096,2134.9015,7345.7266,9140.951,14418.2804,2727.3951,8968.33,9788.8659,6555.07035,7323.734819,3167.45585,18804.7524,23082.95533,4906.40965,5969.723,12638.195,4243.59005,13919.8229,2254.7967,5926.846,12592.5345,2897.3235,4738.2682,1149.3959,28287.89766,7345.084,12730.9996,11454.0215,5910.944,4762.329,7512.267,4032.2407,1969.614,1769.53165,4686.3887,21797.0004,11881.9696,11840.77505,10601.412,7682.67,10381.4787,15230.32405,11165.41765,1632.03625,13224.693,12643.3778,23288.9284,2201.0971,2497.0383,2203.47185,1744.465,20878.78443,2534.39375,1534.3045,1824.2854,15555.18875,9304.7019,1622.1885,9880.068,9563.029,4347.02335,12475.3513,1253.936,10461.9794,1748.774,24513.09126,2196.4732,12574.049,1967.0227,4931.647,8027.968,8211.1002,13470.86,6837.3687,5974.3847,6796.86325,2643.2685,3077.0955,3044.2133,11455.28,11763.0009,2498.4144,9361.3268,1256.299,11362.755,27724.28875,8413.46305,5240.765,3857.75925,25656.57526,3994.1778,9866.30485,5397.6167,11482.63485,24059.68019,9861.025,8342.90875,1708.0014,14043.4767,12925.886,19214.70553,13831.1152,6067.12675,5972.378,8825.086,8233.0975,27346.04207,6196.448,3056.3881,13887.204,10231.4999,3268.84665,11538.421,3213.62205,13390.559,3972.9247,12957.118,11187.6567,17878.90068,3847.674,8334.5896,3935.1799,1646.4297,9193.8385,10923.9332,2494.022,9058.7303,2801.2588,2128.43105,6373.55735,7256.7231,11552.904,3761.292,2219.4451,4753.6368,31620.00106,13224.05705,12222.8983,1664.9996,9724.53,3206.49135,12913.9924,1639.5631,6356.2707,17626.23951,1242.816,4779.6023,3861.20965,13635.6379,5976.8311,11842.442,8428.0693,2566.4707,5709.1644,8823.98575,7640.3092,5594.8455,7441.501,33471.97189,1633.0444,9174.13565,11070.535,16085.1275,9283.562,3558.62025,4435.0942,8547.6913,6571.544,2207.69745,6753.038,1880.07,11658.11505,10713.644,3659.346,9182.17,12129.61415,3736.4647,6748.5912,11326.71487,11365.952,10085.846,1977.815,3366.6697,7173.35995,9391.346,14410.9321,2709.1119,24915.04626,12949.1554,6666.243,13143.86485,4466.6214,18806.14547,10141.1362,6123.5688,8252.2843,1712.227,12430.95335,9800.8882,10579.711,8280.6227,8527.532,12244.531,3410.324,4058.71245,26392.26029,14394.39815,6435.6237,22192.43711,5148.5526,1136.3994,8703.456,6500.2359,4837.5823,3943.5954,4399.731,6185.3208,7222.78625,12485.8009,12363.547,10156.7832,2585.269,1242.26,9863.4718,4766.022,11244.3769,7729.64575,5438.7491,26236.57997,2104.1134,8068.185,2362.22905,2352.96845,3577.999,3201.24515,29186.48236,10976.24575,3500.6123,2020.5523,9541.69555,9504.3103,5385.3379,8930.93455,5375.038,10264.4421,6113.23105,5469.0066,1727.54,10107.2206,8310.83915,1984.4533,2457.502,12146.971,9566.9909,13112.6048,10848.1343,12231.6136,9875.6804,11264.541,12979.358,1263.249,10106.13425,6664.68595,2217.6012,6781.3542,10065.413,4234.927,9447.25035,14007.222,9583.8933,3484.331,8604.48365,3757.8448,8827.2099,9910.35985,11737.84884,1627.28245,8556.907,3062.50825,1906.35825,14210.53595,11833.7823,17128.42608,5031.26955,7985.815,5428.7277,3925.7582,2416.955,3070.8087,9095.06825,11842.62375,8062.764,7050.642,14319.031,6933.24225,27941.28758,11150.78,12797.20962,7261.741,10560.4917,6986.697,7448.40395,5934.3798,9869.8102,1146.7966,9386.1613,4350.5144,6414.178,12741.16745,1917.3184,5209.57885,13457.9608,5662.225,1252.407,2731.9122,7209.4918,4266.1658,4719.52405,11848.141,7046.7222,14313.8463,2103.08,1815.8759,7731.85785,28476.73499,2136.88225,1131.5066,3309.7926,9414.92,6360.9936,11013.7119,4428.88785,5584.3057,1877.9294,2842.76075,3597.596,7445.918,2680.9493,1621.8827,8219.2039,12523.6048,16069.08475,6117.4945,13393.756,5266.3656,4719.73655,11743.9341,5377.4578,7160.3303,4402.233,11657.7189,6402.29135,12622.1795,1526.312,12323.936,10072.05505,9872.701,2438.0552,2974.126,10601.63225,14119.62,11729.6795,1875.344,18218.16139,10965.446,7151.092,12269.68865,5458.04645,8782.469,6600.361,1141.4451,11576.13,13129.60345,4391.652,8457.818,3392.3652,5966.8874,6849.026,8891.1395,2690.1138,26140.3603,6653.7886,6282.235,6311.952,3443.064,2789.0574,2585.85065,4877.98105,5272.1758,1682.597,11945.1327,7243.8136,10422.91665,13555.0049,13063.883,2221.56445,1634.5734,2117.33885,8688.85885,4661.28635,8125.7845,12644.589,4564.19145,4846.92015,7633.7206,15170.069,2639.0429,14382.70905,7626.993,5257.50795,2473.3341,13041.921,5245.2269,13451.122,13462.52,5488.262,4320.41085,6250.435,25333.33284,2913.569,12032.326,13470.8044,6289.7549,2927.0647,6238.298,10096.97,7348.142,4673.3922,12233.828,32108.66282,8965.79575,2304.0022,9487.6442,1121.8739,9549.5651,2217.46915,1628.4709,12982.8747,11674.13,7160.094,6358.77645,11534.87265,4527.18295,3875.7341,12609.88702,28468.91901,2730.10785,3353.284,14474.675,9500.57305,26467.09737,4746.344,7518.02535,3279.86855,8596.8278,10702.6424,4992.3764,2527.81865,1759.338,2322.6218,7804.1605,2902.9065,9704.66805,4889.0368,25517.11363,4500.33925,16796.41194,4915.05985,7624.63,8410.04685,28340.18885,4518.82625,3378.91,7144.86265,10118.424,5484.4673,7986.47525,7418.522,13887.9685,6551.7501,5267.81815,1972.95,21232.18226,8627.5411,4433.3877,4438.2634,23241.47453,9957.7216,8269.044,36580.28216,8765.249,5383.536,12124.9924,2709.24395,3987.926,12495.29085,26018.95052,8798.593,1711.0268,8569.8618,2020.177,21595.38229,9850.432,6877.9801,4137.5227,12950.0712,12094.478,2250.8352,22493.65964,1704.70015,3161.454,11394.06555,7325.0482,3594.17085,8023.13545,14394.5579,9288.0267,3353.4703,10594.50155,8277.523,17929.30337,2480.9791,4462.7218,1981.5819,11554.2236,6548.19505,5708.867,7045.499,8978.1851,5757.41345,14349.8544,10928.849,13974.45555,1909.52745,12096.6512,13204.28565,4562.8421,8551.347,2102.2647,15161.5344,11884.04858,4454.40265,5855.9025,4076.497,15019.76005,10796.35025,11353.2276,9748.9106,10577.087,11286.5387,3591.48,11299.343,4561.1885,1674.6323,23045.56616,3227.1211,11253.421,3471.4096,11363.2832,20420.60465,10338.9316,8988.15875,10493.9458,2904.088,8605.3615,11512.405,5312.16985,2396.0959,10807.4863,9222.4026,5693.4305,8347.1643,18903.49141,14254.6082,10214.636,5836.5204,14358.36437,1728.897,8582.3023,3693.428,20709.02034,9991.03765,19673.33573,11085.5868,7623.518,3176.2877,3704.3545,9048.0273,7954.517,27117.99378,6338.0756,9630.397,11289.10925,2261.5688,10791.96,5979.731,2203.73595,12235.8392,5630.45785,11015.1747,7228.21565,14426.07385,2459.7201,3989.841,7727.2532,5124.1887,18963.17192,2200.83085,7153.5539,5227.98875,10982.5013,4529.477,4670.64,6112.35295,11093.6229,6457.8434,4433.9159,2154.361,6496.886,2899.48935,7650.77375,2850.68375,2632.992,9447.3824,8603.8234,13844.7972,13126.67745,5327.40025,13725.47184,13019.16105,8671.19125,4134.08245,18838.70366,5699.8375,6393.60345,4934.705,6198.7518,8733.22925,2055.3249,9964.06,5116.5004,36910.60803,12347.172,5373.36425,23563.01618,1702.4553,10806.839,3956.07145,12890.05765,5415.6612,4058.1161,7537.1639,4718.20355,6593.5083,8442.667,6858.4796,4795.6568,6640.54485,7162.0122,10594.2257,11938.25595,12479.70895,11345.519,8515.7587,2699.56835,14449.8544,12224.35085,6985.50695,3238.4357,4296.2712,3171.6149,1135.9407,5615.369,9101.798,6059.173,1633.9618,1241.565,15828.82173,4415.1588,6474.013,11436.73815,11305.93455,30063.58055,10197.7722,4544.2348,3277.161,6770.1925,7337.748,10370.91255,10704.47,1880.487,8615.3,3292.52985,3021.80915,14478.33015,4747.0529,10959.33,2741.948,4357.04365,4189.1131,8283.6807,1720.3537,8534.6718,3732.6251,5472.449,7147.4728,7133.9025,1515.3449,9301.89355,11931.12525,1964.78,1708.92575,4340.4409,5261.46945,2710.82855,3208.787,2464.6188,6875.961,6940.90985,4571.41305,4536.259,11272.33139,1731.677,1163.4627,19496.71917,7201.70085,5425.02335,12981.3457,4239.89265,13143.33665,7050.0213,9377.9047,22395.74424,10325.206,12629.1656,10795.93733,11411.685,10600.5483,2205.9808,1629.8335,2007.945],\"xaxis\":\"x\",\"yaxis\":\"y\",\"type\":\"histogram\"},{\"alignmentgroup\":\"True\",\"hovertemplate\":\"smoker=Non-Smoker<br>charges=%{x}<extra></extra>\",\"legendgroup\":\"Non-Smoker\",\"marker\":{\"color\":\"#B7A294\"},\"name\":\"Non-Smoker\",\"notched\":true,\"offsetgroup\":\"Non-Smoker\",\"showlegend\":false,\"x\":[1725.5523,4449.462,21984.47061,3866.8552,3756.6216,8240.5896,7281.5056,6406.4107,28923.13692,2721.3208,1826.843,11090.7178,1837.237,10797.3362,2395.17155,10602.385,13228.84695,4149.736,1137.011,6203.90175,14001.1338,14451.83515,12268.63225,2775.19215,2198.18985,4687.797,13770.0979,1625.43375,15612.19335,2302.3,3046.062,4949.7587,6272.4772,6313.759,6079.6715,20630.28351,3393.35635,3556.9223,12629.8967,2211.13075,3579.8287,8059.6791,13607.36875,5989.52365,8606.2174,4504.6624,30166.61817,4133.64165,1743.214,14235.072,6389.37785,5920.1041,6799.458,11741.726,11946.6259,7726.854,11356.6609,3947.4131,1532.4697,2755.02095,6571.02435,4441.21315,7935.29115,11033.6617,11073.176,8026.6666,11082.5772,2026.9741,10942.13205,5729.0053,3766.8838,12105.32,10226.2842,6186.127,3645.0894,21344.8467,5003.853,2331.519,3877.30425,2867.1196,10825.2537,11881.358,4646.759,2404.7338,11488.31695,30259.99556,11381.3254,8601.3293,6686.4313,7740.337,1705.6245,2257.47525,10115.00885,3385.39915,9634.538,6082.405,12815.44495,13616.3586,11163.568,1632.56445,2457.21115,2155.6815,1261.442,2045.68525,27322.73386,2166.732,27375.90478,3490.5491,18157.876,5138.2567,9877.6077,10959.6947,1842.519,5125.2157,7789.635,6334.34355,7077.1894,6948.7008,19749.38338,10450.552,5152.134,5028.1466,10407.08585,4830.63,6128.79745,2719.27975,4827.90495,13405.3903,8116.68,1694.7964,5246.047,2855.43755,6455.86265,10436.096,8823.279,8538.28845,11735.87905,1631.8212,4005.4225,7419.4779,7731.4271,3981.9768,5325.651,6775.961,4922.9159,12557.6053,4883.866,2137.6536,12044.342,1137.4697,1639.5631,5649.715,8516.829,9644.2525,14901.5167,2130.6759,8871.1517,13012.20865,7147.105,4337.7352,11743.299,13880.949,6610.1097,1980.07,8162.71625,3537.703,5002.7827,8520.026,7371.772,10355.641,2483.736,3392.9768,25081.76784,5012.471,10564.8845,5253.524,11987.1682,2689.4954,24227.33724,7358.17565,9225.2564,7443.64305,14001.2867,1727.785,12333.828,6710.1919,1615.7667,4463.2051,7152.6714,5354.07465,35160.13457,7196.867,24476.47851,12648.7034,1986.9334,1832.094,4040.55825,4260.744,13047.33235,5400.9805,11520.09985,11837.16,20462.99766,14590.63205,7441.053,9282.4806,1719.4363,7265.7025,9617.66245,2523.1695,9715.841,2803.69785,2150.469,12928.7911,9855.1314,4237.12655,11879.10405,9625.92,7742.1098,9432.9253,14256.1928,25992.82104,3172.018,20277.80751,2156.7518,3906.127,1704.5681,9249.4952,6746.7425,12265.5069,4349.462,12646.207,19442.3535,20177.67113,4151.0287,11944.59435,7749.1564,8444.474,1737.376,8124.4084,9722.7695,8835.26495,10435.06525,7421.19455,4667.60765,4894.7533,24671.66334,11566.30055,2866.091,6600.20595,3561.8889,9144.565,13429.0354,11658.37915,19144.57652,13822.803,12142.5786,13937.6665,8232.6388,18955.22017,13352.0998,13217.0945,13981.85035,10977.2063,6184.2994,4889.9995,8334.45755,5478.0368,1635.73365,11830.6072,8932.084,3554.203,12404.8791,14133.03775,24603.04837,8944.1151,9620.3307,1837.2819,1607.5101,10043.249,4751.07,2597.779,3180.5101,9778.3472,13430.265,8017.06115,8116.26885,3481.868,13415.0381,12029.2867,7639.41745,1391.5287,16455.70785,27000.98473,20781.48892,5846.9176,8302.53565,1261.859,11856.4115,30284.64294,3176.8159,4618.0799,10736.87075,2138.0707,8964.06055,9290.1395,9411.005,7526.70645,8522.003,16586.49771,14988.432,1631.6683,9264.797,8083.9198,14692.66935,10269.46,3260.199,11396.9002,4185.0979,8539.671,6652.5288,4074.4537,1621.3402,5080.096,2134.9015,7345.7266,9140.951,14418.2804,2727.3951,8968.33,9788.8659,6555.07035,7323.734819,3167.45585,18804.7524,23082.95533,4906.40965,5969.723,12638.195,4243.59005,13919.8229,2254.7967,5926.846,12592.5345,2897.3235,4738.2682,1149.3959,28287.89766,7345.084,12730.9996,11454.0215,5910.944,4762.329,7512.267,4032.2407,1969.614,1769.53165,4686.3887,21797.0004,11881.9696,11840.77505,10601.412,7682.67,10381.4787,15230.32405,11165.41765,1632.03625,13224.693,12643.3778,23288.9284,2201.0971,2497.0383,2203.47185,1744.465,20878.78443,2534.39375,1534.3045,1824.2854,15555.18875,9304.7019,1622.1885,9880.068,9563.029,4347.02335,12475.3513,1253.936,10461.9794,1748.774,24513.09126,2196.4732,12574.049,1967.0227,4931.647,8027.968,8211.1002,13470.86,6837.3687,5974.3847,6796.86325,2643.2685,3077.0955,3044.2133,11455.28,11763.0009,2498.4144,9361.3268,1256.299,11362.755,27724.28875,8413.46305,5240.765,3857.75925,25656.57526,3994.1778,9866.30485,5397.6167,11482.63485,24059.68019,9861.025,8342.90875,1708.0014,14043.4767,12925.886,19214.70553,13831.1152,6067.12675,5972.378,8825.086,8233.0975,27346.04207,6196.448,3056.3881,13887.204,10231.4999,3268.84665,11538.421,3213.62205,13390.559,3972.9247,12957.118,11187.6567,17878.90068,3847.674,8334.5896,3935.1799,1646.4297,9193.8385,10923.9332,2494.022,9058.7303,2801.2588,2128.43105,6373.55735,7256.7231,11552.904,3761.292,2219.4451,4753.6368,31620.00106,13224.05705,12222.8983,1664.9996,9724.53,3206.49135,12913.9924,1639.5631,6356.2707,17626.23951,1242.816,4779.6023,3861.20965,13635.6379,5976.8311,11842.442,8428.0693,2566.4707,5709.1644,8823.98575,7640.3092,5594.8455,7441.501,33471.97189,1633.0444,9174.13565,11070.535,16085.1275,9283.562,3558.62025,4435.0942,8547.6913,6571.544,2207.69745,6753.038,1880.07,11658.11505,10713.644,3659.346,9182.17,12129.61415,3736.4647,6748.5912,11326.71487,11365.952,10085.846,1977.815,3366.6697,7173.35995,9391.346,14410.9321,2709.1119,24915.04626,12949.1554,6666.243,13143.86485,4466.6214,18806.14547,10141.1362,6123.5688,8252.2843,1712.227,12430.95335,9800.8882,10579.711,8280.6227,8527.532,12244.531,3410.324,4058.71245,26392.26029,14394.39815,6435.6237,22192.43711,5148.5526,1136.3994,8703.456,6500.2359,4837.5823,3943.5954,4399.731,6185.3208,7222.78625,12485.8009,12363.547,10156.7832,2585.269,1242.26,9863.4718,4766.022,11244.3769,7729.64575,5438.7491,26236.57997,2104.1134,8068.185,2362.22905,2352.96845,3577.999,3201.24515,29186.48236,10976.24575,3500.6123,2020.5523,9541.69555,9504.3103,5385.3379,8930.93455,5375.038,10264.4421,6113.23105,5469.0066,1727.54,10107.2206,8310.83915,1984.4533,2457.502,12146.971,9566.9909,13112.6048,10848.1343,12231.6136,9875.6804,11264.541,12979.358,1263.249,10106.13425,6664.68595,2217.6012,6781.3542,10065.413,4234.927,9447.25035,14007.222,9583.8933,3484.331,8604.48365,3757.8448,8827.2099,9910.35985,11737.84884,1627.28245,8556.907,3062.50825,1906.35825,14210.53595,11833.7823,17128.42608,5031.26955,7985.815,5428.7277,3925.7582,2416.955,3070.8087,9095.06825,11842.62375,8062.764,7050.642,14319.031,6933.24225,27941.28758,11150.78,12797.20962,7261.741,10560.4917,6986.697,7448.40395,5934.3798,9869.8102,1146.7966,9386.1613,4350.5144,6414.178,12741.16745,1917.3184,5209.57885,13457.9608,5662.225,1252.407,2731.9122,7209.4918,4266.1658,4719.52405,11848.141,7046.7222,14313.8463,2103.08,1815.8759,7731.85785,28476.73499,2136.88225,1131.5066,3309.7926,9414.92,6360.9936,11013.7119,4428.88785,5584.3057,1877.9294,2842.76075,3597.596,7445.918,2680.9493,1621.8827,8219.2039,12523.6048,16069.08475,6117.4945,13393.756,5266.3656,4719.73655,11743.9341,5377.4578,7160.3303,4402.233,11657.7189,6402.29135,12622.1795,1526.312,12323.936,10072.05505,9872.701,2438.0552,2974.126,10601.63225,14119.62,11729.6795,1875.344,18218.16139,10965.446,7151.092,12269.68865,5458.04645,8782.469,6600.361,1141.4451,11576.13,13129.60345,4391.652,8457.818,3392.3652,5966.8874,6849.026,8891.1395,2690.1138,26140.3603,6653.7886,6282.235,6311.952,3443.064,2789.0574,2585.85065,4877.98105,5272.1758,1682.597,11945.1327,7243.8136,10422.91665,13555.0049,13063.883,2221.56445,1634.5734,2117.33885,8688.85885,4661.28635,8125.7845,12644.589,4564.19145,4846.92015,7633.7206,15170.069,2639.0429,14382.70905,7626.993,5257.50795,2473.3341,13041.921,5245.2269,13451.122,13462.52,5488.262,4320.41085,6250.435,25333.33284,2913.569,12032.326,13470.8044,6289.7549,2927.0647,6238.298,10096.97,7348.142,4673.3922,12233.828,32108.66282,8965.79575,2304.0022,9487.6442,1121.8739,9549.5651,2217.46915,1628.4709,12982.8747,11674.13,7160.094,6358.77645,11534.87265,4527.18295,3875.7341,12609.88702,28468.91901,2730.10785,3353.284,14474.675,9500.57305,26467.09737,4746.344,7518.02535,3279.86855,8596.8278,10702.6424,4992.3764,2527.81865,1759.338,2322.6218,7804.1605,2902.9065,9704.66805,4889.0368,25517.11363,4500.33925,16796.41194,4915.05985,7624.63,8410.04685,28340.18885,4518.82625,3378.91,7144.86265,10118.424,5484.4673,7986.47525,7418.522,13887.9685,6551.7501,5267.81815,1972.95,21232.18226,8627.5411,4433.3877,4438.2634,23241.47453,9957.7216,8269.044,36580.28216,8765.249,5383.536,12124.9924,2709.24395,3987.926,12495.29085,26018.95052,8798.593,1711.0268,8569.8618,2020.177,21595.38229,9850.432,6877.9801,4137.5227,12950.0712,12094.478,2250.8352,22493.65964,1704.70015,3161.454,11394.06555,7325.0482,3594.17085,8023.13545,14394.5579,9288.0267,3353.4703,10594.50155,8277.523,17929.30337,2480.9791,4462.7218,1981.5819,11554.2236,6548.19505,5708.867,7045.499,8978.1851,5757.41345,14349.8544,10928.849,13974.45555,1909.52745,12096.6512,13204.28565,4562.8421,8551.347,2102.2647,15161.5344,11884.04858,4454.40265,5855.9025,4076.497,15019.76005,10796.35025,11353.2276,9748.9106,10577.087,11286.5387,3591.48,11299.343,4561.1885,1674.6323,23045.56616,3227.1211,11253.421,3471.4096,11363.2832,20420.60465,10338.9316,8988.15875,10493.9458,2904.088,8605.3615,11512.405,5312.16985,2396.0959,10807.4863,9222.4026,5693.4305,8347.1643,18903.49141,14254.6082,10214.636,5836.5204,14358.36437,1728.897,8582.3023,3693.428,20709.02034,9991.03765,19673.33573,11085.5868,7623.518,3176.2877,3704.3545,9048.0273,7954.517,27117.99378,6338.0756,9630.397,11289.10925,2261.5688,10791.96,5979.731,2203.73595,12235.8392,5630.45785,11015.1747,7228.21565,14426.07385,2459.7201,3989.841,7727.2532,5124.1887,18963.17192,2200.83085,7153.5539,5227.98875,10982.5013,4529.477,4670.64,6112.35295,11093.6229,6457.8434,4433.9159,2154.361,6496.886,2899.48935,7650.77375,2850.68375,2632.992,9447.3824,8603.8234,13844.7972,13126.67745,5327.40025,13725.47184,13019.16105,8671.19125,4134.08245,18838.70366,5699.8375,6393.60345,4934.705,6198.7518,8733.22925,2055.3249,9964.06,5116.5004,36910.60803,12347.172,5373.36425,23563.01618,1702.4553,10806.839,3956.07145,12890.05765,5415.6612,4058.1161,7537.1639,4718.20355,6593.5083,8442.667,6858.4796,4795.6568,6640.54485,7162.0122,10594.2257,11938.25595,12479.70895,11345.519,8515.7587,2699.56835,14449.8544,12224.35085,6985.50695,3238.4357,4296.2712,3171.6149,1135.9407,5615.369,9101.798,6059.173,1633.9618,1241.565,15828.82173,4415.1588,6474.013,11436.73815,11305.93455,30063.58055,10197.7722,4544.2348,3277.161,6770.1925,7337.748,10370.91255,10704.47,1880.487,8615.3,3292.52985,3021.80915,14478.33015,4747.0529,10959.33,2741.948,4357.04365,4189.1131,8283.6807,1720.3537,8534.6718,3732.6251,5472.449,7147.4728,7133.9025,1515.3449,9301.89355,11931.12525,1964.78,1708.92575,4340.4409,5261.46945,2710.82855,3208.787,2464.6188,6875.961,6940.90985,4571.41305,4536.259,11272.33139,1731.677,1163.4627,19496.71917,7201.70085,5425.02335,12981.3457,4239.89265,13143.33665,7050.0213,9377.9047,22395.74424,10325.206,12629.1656,10795.93733,11411.685,10600.5483,2205.9808,1629.8335,2007.945],\"xaxis\":\"x2\",\"yaxis\":\"y2\",\"type\":\"box\"}],                        {\"template\":{\"data\":{\"barpolar\":[{\"marker\":{\"line\":{\"color\":\"white\",\"width\":0.5},\"pattern\":{\"fillmode\":\"overlay\",\"size\":10,\"solidity\":0.2}},\"type\":\"barpolar\"}],\"bar\":[{\"error_x\":{\"color\":\"#2a3f5f\"},\"error_y\":{\"color\":\"#2a3f5f\"},\"marker\":{\"line\":{\"color\":\"white\",\"width\":0.5},\"pattern\":{\"fillmode\":\"overlay\",\"size\":10,\"solidity\":0.2}},\"type\":\"bar\"}],\"carpet\":[{\"aaxis\":{\"endlinecolor\":\"#2a3f5f\",\"gridcolor\":\"#C8D4E3\",\"linecolor\":\"#C8D4E3\",\"minorgridcolor\":\"#C8D4E3\",\"startlinecolor\":\"#2a3f5f\"},\"baxis\":{\"endlinecolor\":\"#2a3f5f\",\"gridcolor\":\"#C8D4E3\",\"linecolor\":\"#C8D4E3\",\"minorgridcolor\":\"#C8D4E3\",\"startlinecolor\":\"#2a3f5f\"},\"type\":\"carpet\"}],\"choropleth\":[{\"colorbar\":{\"outlinewidth\":0,\"ticks\":\"\"},\"type\":\"choropleth\"}],\"contourcarpet\":[{\"colorbar\":{\"outlinewidth\":0,\"ticks\":\"\"},\"type\":\"contourcarpet\"}],\"contour\":[{\"colorbar\":{\"outlinewidth\":0,\"ticks\":\"\"},\"colorscale\":[[0.0,\"#0d0887\"],[0.1111111111111111,\"#46039f\"],[0.2222222222222222,\"#7201a8\"],[0.3333333333333333,\"#9c179e\"],[0.4444444444444444,\"#bd3786\"],[0.5555555555555556,\"#d8576b\"],[0.6666666666666666,\"#ed7953\"],[0.7777777777777778,\"#fb9f3a\"],[0.8888888888888888,\"#fdca26\"],[1.0,\"#f0f921\"]],\"type\":\"contour\"}],\"heatmapgl\":[{\"colorbar\":{\"outlinewidth\":0,\"ticks\":\"\"},\"colorscale\":[[0.0,\"#0d0887\"],[0.1111111111111111,\"#46039f\"],[0.2222222222222222,\"#7201a8\"],[0.3333333333333333,\"#9c179e\"],[0.4444444444444444,\"#bd3786\"],[0.5555555555555556,\"#d8576b\"],[0.6666666666666666,\"#ed7953\"],[0.7777777777777778,\"#fb9f3a\"],[0.8888888888888888,\"#fdca26\"],[1.0,\"#f0f921\"]],\"type\":\"heatmapgl\"}],\"heatmap\":[{\"colorbar\":{\"outlinewidth\":0,\"ticks\":\"\"},\"colorscale\":[[0.0,\"#0d0887\"],[0.1111111111111111,\"#46039f\"],[0.2222222222222222,\"#7201a8\"],[0.3333333333333333,\"#9c179e\"],[0.4444444444444444,\"#bd3786\"],[0.5555555555555556,\"#d8576b\"],[0.6666666666666666,\"#ed7953\"],[0.7777777777777778,\"#fb9f3a\"],[0.8888888888888888,\"#fdca26\"],[1.0,\"#f0f921\"]],\"type\":\"heatmap\"}],\"histogram2dcontour\":[{\"colorbar\":{\"outlinewidth\":0,\"ticks\":\"\"},\"colorscale\":[[0.0,\"#0d0887\"],[0.1111111111111111,\"#46039f\"],[0.2222222222222222,\"#7201a8\"],[0.3333333333333333,\"#9c179e\"],[0.4444444444444444,\"#bd3786\"],[0.5555555555555556,\"#d8576b\"],[0.6666666666666666,\"#ed7953\"],[0.7777777777777778,\"#fb9f3a\"],[0.8888888888888888,\"#fdca26\"],[1.0,\"#f0f921\"]],\"type\":\"histogram2dcontour\"}],\"histogram2d\":[{\"colorbar\":{\"outlinewidth\":0,\"ticks\":\"\"},\"colorscale\":[[0.0,\"#0d0887\"],[0.1111111111111111,\"#46039f\"],[0.2222222222222222,\"#7201a8\"],[0.3333333333333333,\"#9c179e\"],[0.4444444444444444,\"#bd3786\"],[0.5555555555555556,\"#d8576b\"],[0.6666666666666666,\"#ed7953\"],[0.7777777777777778,\"#fb9f3a\"],[0.8888888888888888,\"#fdca26\"],[1.0,\"#f0f921\"]],\"type\":\"histogram2d\"}],\"histogram\":[{\"marker\":{\"pattern\":{\"fillmode\":\"overlay\",\"size\":10,\"solidity\":0.2}},\"type\":\"histogram\"}],\"mesh3d\":[{\"colorbar\":{\"outlinewidth\":0,\"ticks\":\"\"},\"type\":\"mesh3d\"}],\"parcoords\":[{\"line\":{\"colorbar\":{\"outlinewidth\":0,\"ticks\":\"\"}},\"type\":\"parcoords\"}],\"pie\":[{\"automargin\":true,\"type\":\"pie\"}],\"scatter3d\":[{\"line\":{\"colorbar\":{\"outlinewidth\":0,\"ticks\":\"\"}},\"marker\":{\"colorbar\":{\"outlinewidth\":0,\"ticks\":\"\"}},\"type\":\"scatter3d\"}],\"scattercarpet\":[{\"marker\":{\"colorbar\":{\"outlinewidth\":0,\"ticks\":\"\"}},\"type\":\"scattercarpet\"}],\"scattergeo\":[{\"marker\":{\"colorbar\":{\"outlinewidth\":0,\"ticks\":\"\"}},\"type\":\"scattergeo\"}],\"scattergl\":[{\"marker\":{\"colorbar\":{\"outlinewidth\":0,\"ticks\":\"\"}},\"type\":\"scattergl\"}],\"scattermapbox\":[{\"marker\":{\"colorbar\":{\"outlinewidth\":0,\"ticks\":\"\"}},\"type\":\"scattermapbox\"}],\"scatterpolargl\":[{\"marker\":{\"colorbar\":{\"outlinewidth\":0,\"ticks\":\"\"}},\"type\":\"scatterpolargl\"}],\"scatterpolar\":[{\"marker\":{\"colorbar\":{\"outlinewidth\":0,\"ticks\":\"\"}},\"type\":\"scatterpolar\"}],\"scatter\":[{\"fillpattern\":{\"fillmode\":\"overlay\",\"size\":10,\"solidity\":0.2},\"type\":\"scatter\"}],\"scatterternary\":[{\"marker\":{\"colorbar\":{\"outlinewidth\":0,\"ticks\":\"\"}},\"type\":\"scatterternary\"}],\"surface\":[{\"colorbar\":{\"outlinewidth\":0,\"ticks\":\"\"},\"colorscale\":[[0.0,\"#0d0887\"],[0.1111111111111111,\"#46039f\"],[0.2222222222222222,\"#7201a8\"],[0.3333333333333333,\"#9c179e\"],[0.4444444444444444,\"#bd3786\"],[0.5555555555555556,\"#d8576b\"],[0.6666666666666666,\"#ed7953\"],[0.7777777777777778,\"#fb9f3a\"],[0.8888888888888888,\"#fdca26\"],[1.0,\"#f0f921\"]],\"type\":\"surface\"}],\"table\":[{\"cells\":{\"fill\":{\"color\":\"#EBF0F8\"},\"line\":{\"color\":\"white\"}},\"header\":{\"fill\":{\"color\":\"#C8D4E3\"},\"line\":{\"color\":\"white\"}},\"type\":\"table\"}]},\"layout\":{\"annotationdefaults\":{\"arrowcolor\":\"#2a3f5f\",\"arrowhead\":0,\"arrowwidth\":1},\"autotypenumbers\":\"strict\",\"coloraxis\":{\"colorbar\":{\"outlinewidth\":0,\"ticks\":\"\"}},\"colorscale\":{\"diverging\":[[0,\"#8e0152\"],[0.1,\"#c51b7d\"],[0.2,\"#de77ae\"],[0.3,\"#f1b6da\"],[0.4,\"#fde0ef\"],[0.5,\"#f7f7f7\"],[0.6,\"#e6f5d0\"],[0.7,\"#b8e186\"],[0.8,\"#7fbc41\"],[0.9,\"#4d9221\"],[1,\"#276419\"]],\"sequential\":[[0.0,\"#0d0887\"],[0.1111111111111111,\"#46039f\"],[0.2222222222222222,\"#7201a8\"],[0.3333333333333333,\"#9c179e\"],[0.4444444444444444,\"#bd3786\"],[0.5555555555555556,\"#d8576b\"],[0.6666666666666666,\"#ed7953\"],[0.7777777777777778,\"#fb9f3a\"],[0.8888888888888888,\"#fdca26\"],[1.0,\"#f0f921\"]],\"sequentialminus\":[[0.0,\"#0d0887\"],[0.1111111111111111,\"#46039f\"],[0.2222222222222222,\"#7201a8\"],[0.3333333333333333,\"#9c179e\"],[0.4444444444444444,\"#bd3786\"],[0.5555555555555556,\"#d8576b\"],[0.6666666666666666,\"#ed7953\"],[0.7777777777777778,\"#fb9f3a\"],[0.8888888888888888,\"#fdca26\"],[1.0,\"#f0f921\"]]},\"colorway\":[\"#636efa\",\"#EF553B\",\"#00cc96\",\"#ab63fa\",\"#FFA15A\",\"#19d3f3\",\"#FF6692\",\"#B6E880\",\"#FF97FF\",\"#FECB52\"],\"font\":{\"color\":\"#2a3f5f\"},\"geo\":{\"bgcolor\":\"white\",\"lakecolor\":\"white\",\"landcolor\":\"white\",\"showlakes\":true,\"showland\":true,\"subunitcolor\":\"#C8D4E3\"},\"hoverlabel\":{\"align\":\"left\"},\"hovermode\":\"closest\",\"mapbox\":{\"style\":\"light\"},\"paper_bgcolor\":\"white\",\"plot_bgcolor\":\"white\",\"polar\":{\"angularaxis\":{\"gridcolor\":\"#EBF0F8\",\"linecolor\":\"#EBF0F8\",\"ticks\":\"\"},\"bgcolor\":\"white\",\"radialaxis\":{\"gridcolor\":\"#EBF0F8\",\"linecolor\":\"#EBF0F8\",\"ticks\":\"\"}},\"scene\":{\"xaxis\":{\"backgroundcolor\":\"white\",\"gridcolor\":\"#DFE8F3\",\"gridwidth\":2,\"linecolor\":\"#EBF0F8\",\"showbackground\":true,\"ticks\":\"\",\"zerolinecolor\":\"#EBF0F8\"},\"yaxis\":{\"backgroundcolor\":\"white\",\"gridcolor\":\"#DFE8F3\",\"gridwidth\":2,\"linecolor\":\"#EBF0F8\",\"showbackground\":true,\"ticks\":\"\",\"zerolinecolor\":\"#EBF0F8\"},\"zaxis\":{\"backgroundcolor\":\"white\",\"gridcolor\":\"#DFE8F3\",\"gridwidth\":2,\"linecolor\":\"#EBF0F8\",\"showbackground\":true,\"ticks\":\"\",\"zerolinecolor\":\"#EBF0F8\"}},\"shapedefaults\":{\"line\":{\"color\":\"#2a3f5f\"}},\"ternary\":{\"aaxis\":{\"gridcolor\":\"#DFE8F3\",\"linecolor\":\"#A2B1C6\",\"ticks\":\"\"},\"baxis\":{\"gridcolor\":\"#DFE8F3\",\"linecolor\":\"#A2B1C6\",\"ticks\":\"\"},\"bgcolor\":\"white\",\"caxis\":{\"gridcolor\":\"#DFE8F3\",\"linecolor\":\"#A2B1C6\",\"ticks\":\"\"}},\"title\":{\"x\":0.05},\"xaxis\":{\"automargin\":true,\"gridcolor\":\"#EBF0F8\",\"linecolor\":\"#EBF0F8\",\"ticks\":\"\",\"title\":{\"standoff\":15},\"zerolinecolor\":\"#EBF0F8\",\"zerolinewidth\":2},\"yaxis\":{\"automargin\":true,\"gridcolor\":\"#EBF0F8\",\"linecolor\":\"#EBF0F8\",\"ticks\":\"\",\"title\":{\"standoff\":15},\"zerolinecolor\":\"#EBF0F8\",\"zerolinewidth\":2}}},\"xaxis\":{\"anchor\":\"y\",\"domain\":[0.0,1.0],\"title\":{\"text\":\"Claim Amount, $\"},\"showgrid\":false,\"zerolinecolor\":\"#EAEAEA\"},\"yaxis\":{\"anchor\":\"x\",\"domain\":[0.0,0.7326],\"title\":{\"text\":\"Probability Density\"},\"gridcolor\":\"#EAEAEA\",\"zerolinecolor\":\"#EAEAEA\"},\"xaxis2\":{\"anchor\":\"y2\",\"domain\":[0.0,1.0],\"matches\":\"x\",\"showticklabels\":false,\"showgrid\":false,\"zerolinecolor\":\"#EAEAEA\"},\"yaxis2\":{\"anchor\":\"x2\",\"domain\":[0.7426,1.0],\"matches\":\"y2\",\"showticklabels\":false,\"showline\":false,\"ticks\":\"\",\"showgrid\":false},\"legend\":{\"title\":{\"text\":\"\"},\"tracegroupgap\":0,\"orientation\":\"h\",\"yanchor\":\"bottom\",\"y\":1.02,\"xanchor\":\"right\",\"x\":1},\"title\":{\"text\":\"Distribution of Insurance Costs by Smoking Status\"},\"barmode\":\"overlay\",\"font\":{\"color\":\"#303030\"}},                        {\"responsive\": true}                    ).then(function(){\n",
       "                            \n",
       "var gd = document.getElementById('e35bb447-a7e9-403b-9ee4-c843312a2378');\n",
       "var x = new MutationObserver(function (mutations, observer) {{\n",
       "        var display = window.getComputedStyle(gd).display;\n",
       "        if (!display || display === 'none') {{\n",
       "            console.log([gd, 'removed!']);\n",
       "            Plotly.purge(gd);\n",
       "            observer.disconnect();\n",
       "        }}\n",
       "}});\n",
       "\n",
       "// Listen for the removal of the full notebook cells\n",
       "var notebookContainer = gd.closest('#notebook-container');\n",
       "if (notebookContainer) {{\n",
       "    x.observe(notebookContainer, {childList: true});\n",
       "}}\n",
       "\n",
       "// Listen for the clearing of the current output cell\n",
       "var outputEl = gd.closest('.output');\n",
       "if (outputEl) {{\n",
       "    x.observe(outputEl, {childList: true});\n",
       "}}\n",
       "\n",
       "                        })                };                });            </script>        </div>"
      ]
     },
     "metadata": {},
     "output_type": "display_data"
    }
   ],
   "source": [
    "fig=px.histogram(ins, x='charges', color='smoker', opacity=0.7, barmode='overlay',\n",
    "                 histnorm='probability density', marginal='box', \n",
    "                 title=\"Distribution of Insurance Costs by Smoking Status\",\n",
    "                 color_discrete_sequence=['#B14B51','#B7A294']) \n",
    "fig.update_layout(font_color=\"#303030\", xaxis_title='Claim Amount, $',\n",
    "                  yaxis=dict(title='Probability Density', gridcolor='#EAEAEA', zerolinecolor='#EAEAEA'),\n",
    "                  legend=dict(orientation=\"h\", yanchor=\"bottom\", y=1.02, xanchor=\"right\", x=1, title=\"\"))\n",
    "fig.update_xaxes(showgrid=False, zerolinecolor='#EAEAEA')\n",
    "fig.show()"
   ]
  },
  {
   "cell_type": "markdown",
   "metadata": {},
   "source": [
    "The median claim amount of non-smokers is around \\\\$7,300, which is quite lower than the median claim of smokers at over \\\\$34,000. The distribution of insurance costs between the groups is also notably different. For non-smokers, the distribution is skewed to the right, while claim amounts for smokers have more variability with a wider spread in the boxplot and a bimodal distribution with peaks near \\\\$20,000 and \\$40,000."
   ]
  },
  {
   "cell_type": "code",
   "execution_count": 7,
   "metadata": {
    "_kg_hide-input": true,
    "execution": {
     "iopub.execute_input": "2022-01-25T01:55:45.798814Z",
     "iopub.status.busy": "2022-01-25T01:55:45.79796Z",
     "iopub.status.idle": "2022-01-25T01:55:46.79071Z",
     "shell.execute_reply": "2022-01-25T01:55:46.789867Z",
     "shell.execute_reply.started": "2022-01-25T01:55:45.798787Z"
    }
   },
   "outputs": [
    {
     "data": {
      "application/vnd.plotly.v1+json": {
       "config": {
        "plotlyServerURL": "https://plot.ly"
       },
       "data": [
        {
         "alignmentgroup": "True",
         "hovertemplate": "smoker=Non-Smoker<br>Age_Group=%{x}<br>charges=%{text}<extra></extra>",
         "legendgroup": "Non-Smoker",
         "marker": {
          "color": "#B7A294",
          "line": {
           "color": "#303030",
           "width": 1
          },
          "opacity": 0.75,
          "pattern": {
           "shape": ""
          }
         },
         "name": "Non-Smoker",
         "offsetgroup": "Non-Smoker",
         "orientation": "v",
         "showlegend": true,
         "text": [
          4418.568273924473,
          6945.331654418605,
          11871.666137768107,
          15232.709479770114
         ],
         "textposition": "outside",
         "texttemplate": "$%{text:,.0f}",
         "type": "bar",
         "x": [
          "18 to 29 years",
          "30 to 44 years",
          "45 to 59 years",
          "60 and over"
         ],
         "xaxis": "x",
         "y": [
          4418.568273924473,
          6945.331654418605,
          11871.666137768107,
          15232.709479770114
         ],
         "yaxis": "y"
        },
        {
         "alignmentgroup": "True",
         "hovertemplate": "smoker=Smoker<br>Age_Group=%{x}<br>charges=%{text}<extra></extra>",
         "legendgroup": "Smoker",
         "marker": {
          "color": "#B14B51",
          "line": {
           "color": "#303030",
           "width": 1
          },
          "opacity": 0.75,
          "pattern": {
           "shape": ""
          }
         },
         "name": "Smoker",
         "offsetgroup": "Smoker",
         "orientation": "v",
         "showlegend": true,
         "text": [
          27518.03526186047,
          30833.987732307694,
          35889.86907914285,
          40630.695190370374
         ],
         "textposition": "outside",
         "texttemplate": "$%{text:,.0f}",
         "type": "bar",
         "x": [
          "18 to 29 years",
          "30 to 44 years",
          "45 to 59 years",
          "60 and over"
         ],
         "xaxis": "x",
         "y": [
          27518.03526186047,
          30833.987732307694,
          35889.86907914285,
          40630.695190370374
         ],
         "yaxis": "y"
        }
       ],
       "layout": {
        "bargap": 0.3,
        "bargroupgap": 0.05,
        "barmode": "group",
        "font": {
         "color": "#303030"
        },
        "height": 500,
        "legend": {
         "orientation": "h",
         "title": {
          "text": ""
         },
         "tracegroupgap": 0,
         "x": 1,
         "xanchor": "right",
         "y": 1.02,
         "yanchor": "bottom"
        },
        "template": {
         "data": {
          "bar": [
           {
            "error_x": {
             "color": "#2a3f5f"
            },
            "error_y": {
             "color": "#2a3f5f"
            },
            "marker": {
             "line": {
              "color": "white",
              "width": 0.5
             },
             "pattern": {
              "fillmode": "overlay",
              "size": 10,
              "solidity": 0.2
             }
            },
            "type": "bar"
           }
          ],
          "barpolar": [
           {
            "marker": {
             "line": {
              "color": "white",
              "width": 0.5
             },
             "pattern": {
              "fillmode": "overlay",
              "size": 10,
              "solidity": 0.2
             }
            },
            "type": "barpolar"
           }
          ],
          "carpet": [
           {
            "aaxis": {
             "endlinecolor": "#2a3f5f",
             "gridcolor": "#C8D4E3",
             "linecolor": "#C8D4E3",
             "minorgridcolor": "#C8D4E3",
             "startlinecolor": "#2a3f5f"
            },
            "baxis": {
             "endlinecolor": "#2a3f5f",
             "gridcolor": "#C8D4E3",
             "linecolor": "#C8D4E3",
             "minorgridcolor": "#C8D4E3",
             "startlinecolor": "#2a3f5f"
            },
            "type": "carpet"
           }
          ],
          "choropleth": [
           {
            "colorbar": {
             "outlinewidth": 0,
             "ticks": ""
            },
            "type": "choropleth"
           }
          ],
          "contour": [
           {
            "colorbar": {
             "outlinewidth": 0,
             "ticks": ""
            },
            "colorscale": [
             [
              0,
              "#0d0887"
             ],
             [
              0.1111111111111111,
              "#46039f"
             ],
             [
              0.2222222222222222,
              "#7201a8"
             ],
             [
              0.3333333333333333,
              "#9c179e"
             ],
             [
              0.4444444444444444,
              "#bd3786"
             ],
             [
              0.5555555555555556,
              "#d8576b"
             ],
             [
              0.6666666666666666,
              "#ed7953"
             ],
             [
              0.7777777777777778,
              "#fb9f3a"
             ],
             [
              0.8888888888888888,
              "#fdca26"
             ],
             [
              1,
              "#f0f921"
             ]
            ],
            "type": "contour"
           }
          ],
          "contourcarpet": [
           {
            "colorbar": {
             "outlinewidth": 0,
             "ticks": ""
            },
            "type": "contourcarpet"
           }
          ],
          "heatmap": [
           {
            "colorbar": {
             "outlinewidth": 0,
             "ticks": ""
            },
            "colorscale": [
             [
              0,
              "#0d0887"
             ],
             [
              0.1111111111111111,
              "#46039f"
             ],
             [
              0.2222222222222222,
              "#7201a8"
             ],
             [
              0.3333333333333333,
              "#9c179e"
             ],
             [
              0.4444444444444444,
              "#bd3786"
             ],
             [
              0.5555555555555556,
              "#d8576b"
             ],
             [
              0.6666666666666666,
              "#ed7953"
             ],
             [
              0.7777777777777778,
              "#fb9f3a"
             ],
             [
              0.8888888888888888,
              "#fdca26"
             ],
             [
              1,
              "#f0f921"
             ]
            ],
            "type": "heatmap"
           }
          ],
          "heatmapgl": [
           {
            "colorbar": {
             "outlinewidth": 0,
             "ticks": ""
            },
            "colorscale": [
             [
              0,
              "#0d0887"
             ],
             [
              0.1111111111111111,
              "#46039f"
             ],
             [
              0.2222222222222222,
              "#7201a8"
             ],
             [
              0.3333333333333333,
              "#9c179e"
             ],
             [
              0.4444444444444444,
              "#bd3786"
             ],
             [
              0.5555555555555556,
              "#d8576b"
             ],
             [
              0.6666666666666666,
              "#ed7953"
             ],
             [
              0.7777777777777778,
              "#fb9f3a"
             ],
             [
              0.8888888888888888,
              "#fdca26"
             ],
             [
              1,
              "#f0f921"
             ]
            ],
            "type": "heatmapgl"
           }
          ],
          "histogram": [
           {
            "marker": {
             "pattern": {
              "fillmode": "overlay",
              "size": 10,
              "solidity": 0.2
             }
            },
            "type": "histogram"
           }
          ],
          "histogram2d": [
           {
            "colorbar": {
             "outlinewidth": 0,
             "ticks": ""
            },
            "colorscale": [
             [
              0,
              "#0d0887"
             ],
             [
              0.1111111111111111,
              "#46039f"
             ],
             [
              0.2222222222222222,
              "#7201a8"
             ],
             [
              0.3333333333333333,
              "#9c179e"
             ],
             [
              0.4444444444444444,
              "#bd3786"
             ],
             [
              0.5555555555555556,
              "#d8576b"
             ],
             [
              0.6666666666666666,
              "#ed7953"
             ],
             [
              0.7777777777777778,
              "#fb9f3a"
             ],
             [
              0.8888888888888888,
              "#fdca26"
             ],
             [
              1,
              "#f0f921"
             ]
            ],
            "type": "histogram2d"
           }
          ],
          "histogram2dcontour": [
           {
            "colorbar": {
             "outlinewidth": 0,
             "ticks": ""
            },
            "colorscale": [
             [
              0,
              "#0d0887"
             ],
             [
              0.1111111111111111,
              "#46039f"
             ],
             [
              0.2222222222222222,
              "#7201a8"
             ],
             [
              0.3333333333333333,
              "#9c179e"
             ],
             [
              0.4444444444444444,
              "#bd3786"
             ],
             [
              0.5555555555555556,
              "#d8576b"
             ],
             [
              0.6666666666666666,
              "#ed7953"
             ],
             [
              0.7777777777777778,
              "#fb9f3a"
             ],
             [
              0.8888888888888888,
              "#fdca26"
             ],
             [
              1,
              "#f0f921"
             ]
            ],
            "type": "histogram2dcontour"
           }
          ],
          "mesh3d": [
           {
            "colorbar": {
             "outlinewidth": 0,
             "ticks": ""
            },
            "type": "mesh3d"
           }
          ],
          "parcoords": [
           {
            "line": {
             "colorbar": {
              "outlinewidth": 0,
              "ticks": ""
             }
            },
            "type": "parcoords"
           }
          ],
          "pie": [
           {
            "automargin": true,
            "type": "pie"
           }
          ],
          "scatter": [
           {
            "fillpattern": {
             "fillmode": "overlay",
             "size": 10,
             "solidity": 0.2
            },
            "type": "scatter"
           }
          ],
          "scatter3d": [
           {
            "line": {
             "colorbar": {
              "outlinewidth": 0,
              "ticks": ""
             }
            },
            "marker": {
             "colorbar": {
              "outlinewidth": 0,
              "ticks": ""
             }
            },
            "type": "scatter3d"
           }
          ],
          "scattercarpet": [
           {
            "marker": {
             "colorbar": {
              "outlinewidth": 0,
              "ticks": ""
             }
            },
            "type": "scattercarpet"
           }
          ],
          "scattergeo": [
           {
            "marker": {
             "colorbar": {
              "outlinewidth": 0,
              "ticks": ""
             }
            },
            "type": "scattergeo"
           }
          ],
          "scattergl": [
           {
            "marker": {
             "colorbar": {
              "outlinewidth": 0,
              "ticks": ""
             }
            },
            "type": "scattergl"
           }
          ],
          "scattermapbox": [
           {
            "marker": {
             "colorbar": {
              "outlinewidth": 0,
              "ticks": ""
             }
            },
            "type": "scattermapbox"
           }
          ],
          "scatterpolar": [
           {
            "marker": {
             "colorbar": {
              "outlinewidth": 0,
              "ticks": ""
             }
            },
            "type": "scatterpolar"
           }
          ],
          "scatterpolargl": [
           {
            "marker": {
             "colorbar": {
              "outlinewidth": 0,
              "ticks": ""
             }
            },
            "type": "scatterpolargl"
           }
          ],
          "scatterternary": [
           {
            "marker": {
             "colorbar": {
              "outlinewidth": 0,
              "ticks": ""
             }
            },
            "type": "scatterternary"
           }
          ],
          "surface": [
           {
            "colorbar": {
             "outlinewidth": 0,
             "ticks": ""
            },
            "colorscale": [
             [
              0,
              "#0d0887"
             ],
             [
              0.1111111111111111,
              "#46039f"
             ],
             [
              0.2222222222222222,
              "#7201a8"
             ],
             [
              0.3333333333333333,
              "#9c179e"
             ],
             [
              0.4444444444444444,
              "#bd3786"
             ],
             [
              0.5555555555555556,
              "#d8576b"
             ],
             [
              0.6666666666666666,
              "#ed7953"
             ],
             [
              0.7777777777777778,
              "#fb9f3a"
             ],
             [
              0.8888888888888888,
              "#fdca26"
             ],
             [
              1,
              "#f0f921"
             ]
            ],
            "type": "surface"
           }
          ],
          "table": [
           {
            "cells": {
             "fill": {
              "color": "#EBF0F8"
             },
             "line": {
              "color": "white"
             }
            },
            "header": {
             "fill": {
              "color": "#C8D4E3"
             },
             "line": {
              "color": "white"
             }
            },
            "type": "table"
           }
          ]
         },
         "layout": {
          "annotationdefaults": {
           "arrowcolor": "#2a3f5f",
           "arrowhead": 0,
           "arrowwidth": 1
          },
          "autotypenumbers": "strict",
          "coloraxis": {
           "colorbar": {
            "outlinewidth": 0,
            "ticks": ""
           }
          },
          "colorscale": {
           "diverging": [
            [
             0,
             "#8e0152"
            ],
            [
             0.1,
             "#c51b7d"
            ],
            [
             0.2,
             "#de77ae"
            ],
            [
             0.3,
             "#f1b6da"
            ],
            [
             0.4,
             "#fde0ef"
            ],
            [
             0.5,
             "#f7f7f7"
            ],
            [
             0.6,
             "#e6f5d0"
            ],
            [
             0.7,
             "#b8e186"
            ],
            [
             0.8,
             "#7fbc41"
            ],
            [
             0.9,
             "#4d9221"
            ],
            [
             1,
             "#276419"
            ]
           ],
           "sequential": [
            [
             0,
             "#0d0887"
            ],
            [
             0.1111111111111111,
             "#46039f"
            ],
            [
             0.2222222222222222,
             "#7201a8"
            ],
            [
             0.3333333333333333,
             "#9c179e"
            ],
            [
             0.4444444444444444,
             "#bd3786"
            ],
            [
             0.5555555555555556,
             "#d8576b"
            ],
            [
             0.6666666666666666,
             "#ed7953"
            ],
            [
             0.7777777777777778,
             "#fb9f3a"
            ],
            [
             0.8888888888888888,
             "#fdca26"
            ],
            [
             1,
             "#f0f921"
            ]
           ],
           "sequentialminus": [
            [
             0,
             "#0d0887"
            ],
            [
             0.1111111111111111,
             "#46039f"
            ],
            [
             0.2222222222222222,
             "#7201a8"
            ],
            [
             0.3333333333333333,
             "#9c179e"
            ],
            [
             0.4444444444444444,
             "#bd3786"
            ],
            [
             0.5555555555555556,
             "#d8576b"
            ],
            [
             0.6666666666666666,
             "#ed7953"
            ],
            [
             0.7777777777777778,
             "#fb9f3a"
            ],
            [
             0.8888888888888888,
             "#fdca26"
            ],
            [
             1,
             "#f0f921"
            ]
           ]
          },
          "colorway": [
           "#636efa",
           "#EF553B",
           "#00cc96",
           "#ab63fa",
           "#FFA15A",
           "#19d3f3",
           "#FF6692",
           "#B6E880",
           "#FF97FF",
           "#FECB52"
          ],
          "font": {
           "color": "#2a3f5f"
          },
          "geo": {
           "bgcolor": "white",
           "lakecolor": "white",
           "landcolor": "white",
           "showlakes": true,
           "showland": true,
           "subunitcolor": "#C8D4E3"
          },
          "hoverlabel": {
           "align": "left"
          },
          "hovermode": "closest",
          "mapbox": {
           "style": "light"
          },
          "paper_bgcolor": "white",
          "plot_bgcolor": "white",
          "polar": {
           "angularaxis": {
            "gridcolor": "#EBF0F8",
            "linecolor": "#EBF0F8",
            "ticks": ""
           },
           "bgcolor": "white",
           "radialaxis": {
            "gridcolor": "#EBF0F8",
            "linecolor": "#EBF0F8",
            "ticks": ""
           }
          },
          "scene": {
           "xaxis": {
            "backgroundcolor": "white",
            "gridcolor": "#DFE8F3",
            "gridwidth": 2,
            "linecolor": "#EBF0F8",
            "showbackground": true,
            "ticks": "",
            "zerolinecolor": "#EBF0F8"
           },
           "yaxis": {
            "backgroundcolor": "white",
            "gridcolor": "#DFE8F3",
            "gridwidth": 2,
            "linecolor": "#EBF0F8",
            "showbackground": true,
            "ticks": "",
            "zerolinecolor": "#EBF0F8"
           },
           "zaxis": {
            "backgroundcolor": "white",
            "gridcolor": "#DFE8F3",
            "gridwidth": 2,
            "linecolor": "#EBF0F8",
            "showbackground": true,
            "ticks": "",
            "zerolinecolor": "#EBF0F8"
           }
          },
          "shapedefaults": {
           "line": {
            "color": "#2a3f5f"
           }
          },
          "ternary": {
           "aaxis": {
            "gridcolor": "#DFE8F3",
            "linecolor": "#A2B1C6",
            "ticks": ""
           },
           "baxis": {
            "gridcolor": "#DFE8F3",
            "linecolor": "#A2B1C6",
            "ticks": ""
           },
           "bgcolor": "white",
           "caxis": {
            "gridcolor": "#DFE8F3",
            "linecolor": "#A2B1C6",
            "ticks": ""
           }
          },
          "title": {
           "x": 0.05
          },
          "xaxis": {
           "automargin": true,
           "gridcolor": "#EBF0F8",
           "linecolor": "#EBF0F8",
           "ticks": "",
           "title": {
            "standoff": 15
           },
           "zerolinecolor": "#EBF0F8",
           "zerolinewidth": 2
          },
          "yaxis": {
           "automargin": true,
           "gridcolor": "#EBF0F8",
           "linecolor": "#EBF0F8",
           "ticks": "",
           "title": {
            "standoff": 15
           },
           "zerolinecolor": "#EBF0F8",
           "zerolinewidth": 2
          }
         }
        },
        "title": {
         "text": "Average Insurance Costs by Age and Smoking Status"
        },
        "xaxis": {
         "anchor": "y",
         "domain": [
          0,
          1
         ],
         "showgrid": false,
         "title": {
          "text": "Age"
         }
        },
        "yaxis": {
         "anchor": "x",
         "domain": [
          0,
          1
         ],
         "linecolor": "#DBDBDB",
         "linewidth": 2,
         "showgrid": false,
         "showline": true,
         "title": {
          "text": "Claim Amount, $"
         },
         "zerolinecolor": "#DBDBDB"
        }
       }
      },
      "text/html": [
       "<div>                            <div id=\"b11f52a9-8d22-4ae2-81f9-85a8e8cc69c3\" class=\"plotly-graph-div\" style=\"height:500px; width:100%;\"></div>            <script type=\"text/javascript\">                require([\"plotly\"], function(Plotly) {                    window.PLOTLYENV=window.PLOTLYENV || {};                                    if (document.getElementById(\"b11f52a9-8d22-4ae2-81f9-85a8e8cc69c3\")) {                    Plotly.newPlot(                        \"b11f52a9-8d22-4ae2-81f9-85a8e8cc69c3\",                        [{\"alignmentgroup\":\"True\",\"hovertemplate\":\"smoker=Non-Smoker<br>Age_Group=%{x}<br>charges=%{text}<extra></extra>\",\"legendgroup\":\"Non-Smoker\",\"marker\":{\"color\":\"#B7A294\",\"opacity\":0.75,\"pattern\":{\"shape\":\"\"},\"line\":{\"color\":\"#303030\",\"width\":1}},\"name\":\"Non-Smoker\",\"offsetgroup\":\"Non-Smoker\",\"orientation\":\"v\",\"showlegend\":true,\"text\":[4418.568273924473,6945.331654418605,11871.666137768107,15232.709479770114],\"textposition\":\"outside\",\"x\":[\"18 to 29 years\",\"30 to 44 years\",\"45 to 59 years\",\"60 and over\"],\"xaxis\":\"x\",\"y\":[4418.568273924473,6945.331654418605,11871.666137768107,15232.709479770114],\"yaxis\":\"y\",\"type\":\"bar\",\"texttemplate\":\"$%{text:,.0f}\"},{\"alignmentgroup\":\"True\",\"hovertemplate\":\"smoker=Smoker<br>Age_Group=%{x}<br>charges=%{text}<extra></extra>\",\"legendgroup\":\"Smoker\",\"marker\":{\"color\":\"#B14B51\",\"opacity\":0.75,\"pattern\":{\"shape\":\"\"},\"line\":{\"color\":\"#303030\",\"width\":1}},\"name\":\"Smoker\",\"offsetgroup\":\"Smoker\",\"orientation\":\"v\",\"showlegend\":true,\"text\":[27518.03526186047,30833.987732307694,35889.86907914285,40630.695190370374],\"textposition\":\"outside\",\"x\":[\"18 to 29 years\",\"30 to 44 years\",\"45 to 59 years\",\"60 and over\"],\"xaxis\":\"x\",\"y\":[27518.03526186047,30833.987732307694,35889.86907914285,40630.695190370374],\"yaxis\":\"y\",\"type\":\"bar\",\"texttemplate\":\"$%{text:,.0f}\"}],                        {\"template\":{\"data\":{\"barpolar\":[{\"marker\":{\"line\":{\"color\":\"white\",\"width\":0.5},\"pattern\":{\"fillmode\":\"overlay\",\"size\":10,\"solidity\":0.2}},\"type\":\"barpolar\"}],\"bar\":[{\"error_x\":{\"color\":\"#2a3f5f\"},\"error_y\":{\"color\":\"#2a3f5f\"},\"marker\":{\"line\":{\"color\":\"white\",\"width\":0.5},\"pattern\":{\"fillmode\":\"overlay\",\"size\":10,\"solidity\":0.2}},\"type\":\"bar\"}],\"carpet\":[{\"aaxis\":{\"endlinecolor\":\"#2a3f5f\",\"gridcolor\":\"#C8D4E3\",\"linecolor\":\"#C8D4E3\",\"minorgridcolor\":\"#C8D4E3\",\"startlinecolor\":\"#2a3f5f\"},\"baxis\":{\"endlinecolor\":\"#2a3f5f\",\"gridcolor\":\"#C8D4E3\",\"linecolor\":\"#C8D4E3\",\"minorgridcolor\":\"#C8D4E3\",\"startlinecolor\":\"#2a3f5f\"},\"type\":\"carpet\"}],\"choropleth\":[{\"colorbar\":{\"outlinewidth\":0,\"ticks\":\"\"},\"type\":\"choropleth\"}],\"contourcarpet\":[{\"colorbar\":{\"outlinewidth\":0,\"ticks\":\"\"},\"type\":\"contourcarpet\"}],\"contour\":[{\"colorbar\":{\"outlinewidth\":0,\"ticks\":\"\"},\"colorscale\":[[0.0,\"#0d0887\"],[0.1111111111111111,\"#46039f\"],[0.2222222222222222,\"#7201a8\"],[0.3333333333333333,\"#9c179e\"],[0.4444444444444444,\"#bd3786\"],[0.5555555555555556,\"#d8576b\"],[0.6666666666666666,\"#ed7953\"],[0.7777777777777778,\"#fb9f3a\"],[0.8888888888888888,\"#fdca26\"],[1.0,\"#f0f921\"]],\"type\":\"contour\"}],\"heatmapgl\":[{\"colorbar\":{\"outlinewidth\":0,\"ticks\":\"\"},\"colorscale\":[[0.0,\"#0d0887\"],[0.1111111111111111,\"#46039f\"],[0.2222222222222222,\"#7201a8\"],[0.3333333333333333,\"#9c179e\"],[0.4444444444444444,\"#bd3786\"],[0.5555555555555556,\"#d8576b\"],[0.6666666666666666,\"#ed7953\"],[0.7777777777777778,\"#fb9f3a\"],[0.8888888888888888,\"#fdca26\"],[1.0,\"#f0f921\"]],\"type\":\"heatmapgl\"}],\"heatmap\":[{\"colorbar\":{\"outlinewidth\":0,\"ticks\":\"\"},\"colorscale\":[[0.0,\"#0d0887\"],[0.1111111111111111,\"#46039f\"],[0.2222222222222222,\"#7201a8\"],[0.3333333333333333,\"#9c179e\"],[0.4444444444444444,\"#bd3786\"],[0.5555555555555556,\"#d8576b\"],[0.6666666666666666,\"#ed7953\"],[0.7777777777777778,\"#fb9f3a\"],[0.8888888888888888,\"#fdca26\"],[1.0,\"#f0f921\"]],\"type\":\"heatmap\"}],\"histogram2dcontour\":[{\"colorbar\":{\"outlinewidth\":0,\"ticks\":\"\"},\"colorscale\":[[0.0,\"#0d0887\"],[0.1111111111111111,\"#46039f\"],[0.2222222222222222,\"#7201a8\"],[0.3333333333333333,\"#9c179e\"],[0.4444444444444444,\"#bd3786\"],[0.5555555555555556,\"#d8576b\"],[0.6666666666666666,\"#ed7953\"],[0.7777777777777778,\"#fb9f3a\"],[0.8888888888888888,\"#fdca26\"],[1.0,\"#f0f921\"]],\"type\":\"histogram2dcontour\"}],\"histogram2d\":[{\"colorbar\":{\"outlinewidth\":0,\"ticks\":\"\"},\"colorscale\":[[0.0,\"#0d0887\"],[0.1111111111111111,\"#46039f\"],[0.2222222222222222,\"#7201a8\"],[0.3333333333333333,\"#9c179e\"],[0.4444444444444444,\"#bd3786\"],[0.5555555555555556,\"#d8576b\"],[0.6666666666666666,\"#ed7953\"],[0.7777777777777778,\"#fb9f3a\"],[0.8888888888888888,\"#fdca26\"],[1.0,\"#f0f921\"]],\"type\":\"histogram2d\"}],\"histogram\":[{\"marker\":{\"pattern\":{\"fillmode\":\"overlay\",\"size\":10,\"solidity\":0.2}},\"type\":\"histogram\"}],\"mesh3d\":[{\"colorbar\":{\"outlinewidth\":0,\"ticks\":\"\"},\"type\":\"mesh3d\"}],\"parcoords\":[{\"line\":{\"colorbar\":{\"outlinewidth\":0,\"ticks\":\"\"}},\"type\":\"parcoords\"}],\"pie\":[{\"automargin\":true,\"type\":\"pie\"}],\"scatter3d\":[{\"line\":{\"colorbar\":{\"outlinewidth\":0,\"ticks\":\"\"}},\"marker\":{\"colorbar\":{\"outlinewidth\":0,\"ticks\":\"\"}},\"type\":\"scatter3d\"}],\"scattercarpet\":[{\"marker\":{\"colorbar\":{\"outlinewidth\":0,\"ticks\":\"\"}},\"type\":\"scattercarpet\"}],\"scattergeo\":[{\"marker\":{\"colorbar\":{\"outlinewidth\":0,\"ticks\":\"\"}},\"type\":\"scattergeo\"}],\"scattergl\":[{\"marker\":{\"colorbar\":{\"outlinewidth\":0,\"ticks\":\"\"}},\"type\":\"scattergl\"}],\"scattermapbox\":[{\"marker\":{\"colorbar\":{\"outlinewidth\":0,\"ticks\":\"\"}},\"type\":\"scattermapbox\"}],\"scatterpolargl\":[{\"marker\":{\"colorbar\":{\"outlinewidth\":0,\"ticks\":\"\"}},\"type\":\"scatterpolargl\"}],\"scatterpolar\":[{\"marker\":{\"colorbar\":{\"outlinewidth\":0,\"ticks\":\"\"}},\"type\":\"scatterpolar\"}],\"scatter\":[{\"fillpattern\":{\"fillmode\":\"overlay\",\"size\":10,\"solidity\":0.2},\"type\":\"scatter\"}],\"scatterternary\":[{\"marker\":{\"colorbar\":{\"outlinewidth\":0,\"ticks\":\"\"}},\"type\":\"scatterternary\"}],\"surface\":[{\"colorbar\":{\"outlinewidth\":0,\"ticks\":\"\"},\"colorscale\":[[0.0,\"#0d0887\"],[0.1111111111111111,\"#46039f\"],[0.2222222222222222,\"#7201a8\"],[0.3333333333333333,\"#9c179e\"],[0.4444444444444444,\"#bd3786\"],[0.5555555555555556,\"#d8576b\"],[0.6666666666666666,\"#ed7953\"],[0.7777777777777778,\"#fb9f3a\"],[0.8888888888888888,\"#fdca26\"],[1.0,\"#f0f921\"]],\"type\":\"surface\"}],\"table\":[{\"cells\":{\"fill\":{\"color\":\"#EBF0F8\"},\"line\":{\"color\":\"white\"}},\"header\":{\"fill\":{\"color\":\"#C8D4E3\"},\"line\":{\"color\":\"white\"}},\"type\":\"table\"}]},\"layout\":{\"annotationdefaults\":{\"arrowcolor\":\"#2a3f5f\",\"arrowhead\":0,\"arrowwidth\":1},\"autotypenumbers\":\"strict\",\"coloraxis\":{\"colorbar\":{\"outlinewidth\":0,\"ticks\":\"\"}},\"colorscale\":{\"diverging\":[[0,\"#8e0152\"],[0.1,\"#c51b7d\"],[0.2,\"#de77ae\"],[0.3,\"#f1b6da\"],[0.4,\"#fde0ef\"],[0.5,\"#f7f7f7\"],[0.6,\"#e6f5d0\"],[0.7,\"#b8e186\"],[0.8,\"#7fbc41\"],[0.9,\"#4d9221\"],[1,\"#276419\"]],\"sequential\":[[0.0,\"#0d0887\"],[0.1111111111111111,\"#46039f\"],[0.2222222222222222,\"#7201a8\"],[0.3333333333333333,\"#9c179e\"],[0.4444444444444444,\"#bd3786\"],[0.5555555555555556,\"#d8576b\"],[0.6666666666666666,\"#ed7953\"],[0.7777777777777778,\"#fb9f3a\"],[0.8888888888888888,\"#fdca26\"],[1.0,\"#f0f921\"]],\"sequentialminus\":[[0.0,\"#0d0887\"],[0.1111111111111111,\"#46039f\"],[0.2222222222222222,\"#7201a8\"],[0.3333333333333333,\"#9c179e\"],[0.4444444444444444,\"#bd3786\"],[0.5555555555555556,\"#d8576b\"],[0.6666666666666666,\"#ed7953\"],[0.7777777777777778,\"#fb9f3a\"],[0.8888888888888888,\"#fdca26\"],[1.0,\"#f0f921\"]]},\"colorway\":[\"#636efa\",\"#EF553B\",\"#00cc96\",\"#ab63fa\",\"#FFA15A\",\"#19d3f3\",\"#FF6692\",\"#B6E880\",\"#FF97FF\",\"#FECB52\"],\"font\":{\"color\":\"#2a3f5f\"},\"geo\":{\"bgcolor\":\"white\",\"lakecolor\":\"white\",\"landcolor\":\"white\",\"showlakes\":true,\"showland\":true,\"subunitcolor\":\"#C8D4E3\"},\"hoverlabel\":{\"align\":\"left\"},\"hovermode\":\"closest\",\"mapbox\":{\"style\":\"light\"},\"paper_bgcolor\":\"white\",\"plot_bgcolor\":\"white\",\"polar\":{\"angularaxis\":{\"gridcolor\":\"#EBF0F8\",\"linecolor\":\"#EBF0F8\",\"ticks\":\"\"},\"bgcolor\":\"white\",\"radialaxis\":{\"gridcolor\":\"#EBF0F8\",\"linecolor\":\"#EBF0F8\",\"ticks\":\"\"}},\"scene\":{\"xaxis\":{\"backgroundcolor\":\"white\",\"gridcolor\":\"#DFE8F3\",\"gridwidth\":2,\"linecolor\":\"#EBF0F8\",\"showbackground\":true,\"ticks\":\"\",\"zerolinecolor\":\"#EBF0F8\"},\"yaxis\":{\"backgroundcolor\":\"white\",\"gridcolor\":\"#DFE8F3\",\"gridwidth\":2,\"linecolor\":\"#EBF0F8\",\"showbackground\":true,\"ticks\":\"\",\"zerolinecolor\":\"#EBF0F8\"},\"zaxis\":{\"backgroundcolor\":\"white\",\"gridcolor\":\"#DFE8F3\",\"gridwidth\":2,\"linecolor\":\"#EBF0F8\",\"showbackground\":true,\"ticks\":\"\",\"zerolinecolor\":\"#EBF0F8\"}},\"shapedefaults\":{\"line\":{\"color\":\"#2a3f5f\"}},\"ternary\":{\"aaxis\":{\"gridcolor\":\"#DFE8F3\",\"linecolor\":\"#A2B1C6\",\"ticks\":\"\"},\"baxis\":{\"gridcolor\":\"#DFE8F3\",\"linecolor\":\"#A2B1C6\",\"ticks\":\"\"},\"bgcolor\":\"white\",\"caxis\":{\"gridcolor\":\"#DFE8F3\",\"linecolor\":\"#A2B1C6\",\"ticks\":\"\"}},\"title\":{\"x\":0.05},\"xaxis\":{\"automargin\":true,\"gridcolor\":\"#EBF0F8\",\"linecolor\":\"#EBF0F8\",\"ticks\":\"\",\"title\":{\"standoff\":15},\"zerolinecolor\":\"#EBF0F8\",\"zerolinewidth\":2},\"yaxis\":{\"automargin\":true,\"gridcolor\":\"#EBF0F8\",\"linecolor\":\"#EBF0F8\",\"ticks\":\"\",\"title\":{\"standoff\":15},\"zerolinecolor\":\"#EBF0F8\",\"zerolinewidth\":2}}},\"xaxis\":{\"anchor\":\"y\",\"domain\":[0.0,1.0],\"title\":{\"text\":\"Age\"},\"showgrid\":false},\"yaxis\":{\"anchor\":\"x\",\"domain\":[0.0,1.0],\"title\":{\"text\":\"Claim Amount, $\"},\"showgrid\":false,\"zerolinecolor\":\"#DBDBDB\",\"showline\":true,\"linecolor\":\"#DBDBDB\",\"linewidth\":2},\"legend\":{\"title\":{\"text\":\"\"},\"tracegroupgap\":0,\"orientation\":\"h\",\"yanchor\":\"bottom\",\"y\":1.02,\"xanchor\":\"right\",\"x\":1},\"title\":{\"text\":\"Average Insurance Costs by Age and Smoking Status\"},\"barmode\":\"group\",\"height\":500,\"font\":{\"color\":\"#303030\"},\"bargroupgap\":0.05,\"bargap\":0.3},                        {\"responsive\": true}                    ).then(function(){\n",
       "                            \n",
       "var gd = document.getElementById('b11f52a9-8d22-4ae2-81f9-85a8e8cc69c3');\n",
       "var x = new MutationObserver(function (mutations, observer) {{\n",
       "        var display = window.getComputedStyle(gd).display;\n",
       "        if (!display || display === 'none') {{\n",
       "            console.log([gd, 'removed!']);\n",
       "            Plotly.purge(gd);\n",
       "            observer.disconnect();\n",
       "        }}\n",
       "}});\n",
       "\n",
       "// Listen for the removal of the full notebook cells\n",
       "var notebookContainer = gd.closest('#notebook-container');\n",
       "if (notebookContainer) {{\n",
       "    x.observe(notebookContainer, {childList: true});\n",
       "}}\n",
       "\n",
       "// Listen for the clearing of the current output cell\n",
       "var outputEl = gd.closest('.output');\n",
       "if (outputEl) {{\n",
       "    x.observe(outputEl, {childList: true});\n",
       "}}\n",
       "\n",
       "                        })                };                });            </script>        </div>"
      ]
     },
     "metadata": {},
     "output_type": "display_data"
    }
   ],
   "source": [
    "plot_df = ins.copy()\n",
    "plot_df[\"Age_Group\"]=['18 to 29 years' if i<30 else '30 to 44 years' if (i>=30)&(i<45) else \n",
    "                      '45 to 59 years' if (i>=45)&(i<60) else '60 and over' for i in ins['age']]\n",
    "plot_df = plot_df.groupby(['Age_Group','smoker'])['charges'].mean()\n",
    "plot_df = plot_df.rename('charges').reset_index().sort_values('smoker', ascending=True)\n",
    "fig = px.bar(plot_df, x='Age_Group', y='charges', color='smoker', height=500, text='charges', \n",
    "             opacity=0.75, barmode='group', color_discrete_sequence=['#B7A294','#B14B51'],\n",
    "             title=\"Average Insurance Costs by Age and Smoking Status\")\n",
    "fig.update_traces(texttemplate='$%{text:,.0f}', textposition='outside', \n",
    "                  marker_line=dict(width=1, color='#303030'))\n",
    "fig.update_layout(font_color=\"#303030\",bargroupgap=0.05, bargap=0.3, \n",
    "                  legend=dict(orientation=\"h\", yanchor=\"bottom\", y=1.02, xanchor=\"right\", x=1, title=\"\"),\n",
    "                  xaxis=dict(title='Age',showgrid=False), \n",
    "                  yaxis=dict(title='Claim Amount, $', showgrid=False,zerolinecolor='#DBDBDB',\n",
    "                             showline=True, linecolor='#DBDBDB', linewidth=2))\n",
    "fig.show()"
   ]
  },
  {
   "cell_type": "markdown",
   "metadata": {},
   "source": [
    "Among each age group, insurance charges are significantly higher on average in smokers than non-smokers. We also see higher claim amounts as age increases with the most expensive claims in the 60 and over age group."
   ]
  },
  {
   "cell_type": "code",
   "execution_count": 8,
   "metadata": {
    "_kg_hide-input": true,
    "execution": {
     "iopub.execute_input": "2022-01-25T00:26:24.288833Z",
     "iopub.status.busy": "2022-01-25T00:26:24.288528Z",
     "iopub.status.idle": "2022-01-25T00:26:24.405182Z",
     "shell.execute_reply": "2022-01-25T00:26:24.404251Z",
     "shell.execute_reply.started": "2022-01-25T00:26:24.288794Z"
    }
   },
   "outputs": [
    {
     "data": {
      "application/vnd.plotly.v1+json": {
       "config": {
        "plotlyServerURL": "https://plot.ly"
       },
       "data": [
        {
         "hovertemplate": "smoker=Smoker<br>bmi=%{x}<br>charges=%{marker.size}<extra></extra>",
         "legendgroup": "Smoker",
         "marker": {
          "color": "#B14B51",
          "size": [
           16884.924,
           27808.7251,
           39611.7577,
           36837.467,
           37701.8768,
           38711,
           35585.576,
           51194.55914,
           39774.2763,
           48173.361,
           38709.176,
           23568.272,
           37742.5757,
           47496.49445,
           34303.1672,
           23244.7902,
           14711.7438,
           17663.1442,
           16577.7795,
           37165.1638,
           39836.519,
           21098.55405,
           43578.9394,
           30184.9367,
           47291.055,
           22412.6485,
           15820.699,
           30942.1918,
           17560.37975,
           47055.5321,
           19107.7796,
           39556.4945,
           17081.08,
           32734.1863,
           18972.495,
           20745.9891,
           40720.55105,
           19964.7463,
           21223.6758,
           15518.18025,
           36950.2567,
           21348.706,
           36149.4835,
           48824.45,
           43753.33705,
           37133.8982,
           20984.0936,
           34779.615,
           19515.5416,
           19444.2658,
           17352.6803,
           38511.6283,
           29523.1656,
           12829.4551,
           47305.305,
           44260.7499,
           41097.16175,
           43921.1837,
           33750.2918,
           17085.2676,
           24869.8368,
           36219.40545,
           46151.1245,
           17179.522,
           42856.838,
           22331.5668,
           48549.17835,
           47896.79135,
           42112.2356,
           16297.846,
           21978.6769,
           38746.3551,
           24873.3849,
           42124.5153,
           34838.873,
           35491.64,
           42760.5022,
           47928.03,
           48517.56315,
           24393.6224,
           41919.097,
           13844.506,
           36085.219,
           18033.9679,
           21659.9301,
           38126.2465,
           15006.57945,
           42303.69215,
           19594.80965,
           14455.64405,
           18608.262,
           28950.4692,
           46889.2612,
           46599.1084,
           39125.33225,
           37079.372,
           26109.32905,
           22144.032,
           19521.9682,
           25382.297,
           28868.6639,
           35147.52848,
           48885.13561,
           17942.106,
           36197.699,
           22218.1149,
           32548.3405,
           21082.16,
           38245.59327,
           48675.5177,
           63770.42801,
           23807.2406,
           45863.205,
           39983.42595,
           45702.02235,
           58571.07448,
           43943.8761,
           15359.1045,
           17468.9839,
           25678.77845,
           39241.442,
           42969.8527,
           23306.547,
           34439.8559,
           40182.246,
           34617.84065,
           42983.4585,
           20149.3229,
           32787.45859,
           24667.419,
           27037.9141,
           42560.4304,
           40003.33225,
           45710.20785,
           46200.9851,
           46130.5265,
           40103.89,
           34806.4677,
           40273.6455,
           44400.4064,
           40932.4295,
           16657.71745,
           19361.9988,
           40419.0191,
           36189.1017,
           44585.45587,
           18246.4955,
           43254.41795,
           19539.243,
           23065.4207,
           36307.7983,
           19040.876,
           17748.5062,
           18259.216,
           24520.264,
           21195.818,
           18310.742,
           17904.52705,
           38792.6856,
           23401.30575,
           55135.40209,
           43813.8661,
           20773.62775,
           39597.4072,
           36021.0112,
           27533.9129,
           45008.9555,
           37270.1512,
           42111.6647,
           24106.91255,
           40974.1649,
           15817.9857,
           46113.511,
           46255.1125,
           19719.6947,
           27218.43725,
           29330.98315,
           44202.6536,
           19798.05455,
           48673.5588,
           17496.306,
           33732.6867,
           21774.32215,
           35069.37452,
           39047.285,
           19933.458,
           47462.894,
           38998.546,
           20009.63365,
           41999.52,
           41034.2214,
           23967.38305,
           16138.76205,
           19199.944,
           14571.8908,
           16420.49455,
           17361.7661,
           34472.841,
           24915.22085,
           18767.7377,
           35595.5898,
           42211.1382,
           16450.8947,
           21677.28345,
           44423.803,
           13747.87235,
           37484.4493,
           39725.51805,
           20234.85475,
           33475.81715,
           21880.82,
           44501.3982,
           39727.614,
           25309.489,
           48970.2476,
           39871.7043,
           34672.1472,
           19023.26,
           41676.0811,
           33907.548,
           44641.1974,
           16776.30405,
           41949.2441,
           24180.9335,
           36124.5737,
           38282.7495,
           34166.273,
           46661.4424,
           40904.1995,
           36898.73308,
           52590.82939,
           40941.2854,
           39722.7462,
           17178.6824,
           22478.6,
           23887.6627,
           19350.3689,
           18328.2381,
           37465.34375,
           21771.3423,
           33307.5508,
           18223.4512,
           38415.474,
           20296.86345,
           41661.602,
           26125.67477,
           60021.39897,
           20167.33603,
           47269.854,
           49577.6624,
           37607.5277,
           18648.4217,
           16232.847,
           26926.5144,
           34254.05335,
           17043.3414,
           22462.04375,
           24535.69855,
           14283.4594,
           47403.88,
           38344.566,
           34828.654,
           62592.87309,
           46718.16325,
           37829.7242,
           21259.37795,
           16115.3045,
           21472.4788,
           33900.653,
           36397.576,
           18765.87545,
           28101.33305,
           43896.3763,
           29141.3603
          ],
          "sizemode": "area",
          "sizeref": 159.426070025,
          "symbol": "circle"
         },
         "mode": "markers",
         "name": "Smoker",
         "showlegend": true,
         "type": "scattergl",
         "x": [
          27.9,
          26.29,
          42.13,
          35.3,
          31.92,
          36.3,
          35.6,
          36.4,
          36.67,
          39.9,
          35.2,
          28,
          34.43,
          36.955,
          31.68,
          22.88,
          22.42,
          23.98,
          24.75,
          37.62,
          34.8,
          22.895,
          31.16,
          29.83,
          31.3,
          19.95,
          19.3,
          29.92,
          28.025,
          35.09,
          27.94,
          31.35,
          28.3,
          17.765,
          25.3,
          28.69,
          30.495,
          23.37,
          24.42,
          25.175,
          35.53,
          26.6,
          36.85,
          37.7,
          41.895,
          36.08,
          27.74,
          34.8,
          24.64,
          22.22,
          29.07,
          36.67,
          27.74,
          17.29,
          32.2,
          34.21,
          31.825,
          33.63,
          31.92,
          26.84,
          24.32,
          36.955,
          42.35,
          19.8,
          34.2,
          28.12,
          40.565,
          36.765,
          45.54,
          27.7,
          25.41,
          34.39,
          22.61,
          35.97,
          31.4,
          30.8,
          36.48,
          33.8,
          36.385,
          27.36,
          32.3,
          21.7,
          32.9,
          28.31,
          24.89,
          40.15,
          17.955,
          30.685,
          20.235,
          17.195,
          22.6,
          26.98,
          33.88,
          35.86,
          32.775,
          33.5,
          26.695,
          30,
          28.38,
          25.1,
          28.31,
          28.5,
          38.06,
          25.7,
          34.4,
          23.21,
          30.25,
          28.3,
          26.07,
          42.13,
          47.41,
          25.84,
          46.2,
          34.105,
          40.565,
          38.095,
          30.21,
          21.85,
          28.31,
          23.655,
          37.8,
          36.63,
          25.6,
          33.11,
          34.1,
          33.535,
          38.95,
          26.41,
          28.31,
          25.3,
          22.99,
          38.06,
          32.775,
          32.015,
          43.89,
          31.35,
          35.3,
          31.13,
          35.75,
          38.06,
          39.05,
          21.755,
          24.42,
          38.39,
          31.73,
          35.5,
          29.15,
          34.105,
          26.4,
          27.83,
          38.17,
          27.1,
          28.88,
          24.4,
          27.6,
          20.9,
          28.5,
          24.795,
          42.24,
          26.125,
          35.53,
          31.79,
          28.025,
          30.78,
          32.78,
          29.81,
          32.45,
          30.78,
          35.53,
          23.845,
          33.11,
          24.13,
          47.6,
          37.05,
          28.93,
          28.975,
          26.885,
          38.94,
          20.045,
          40.92,
          24.6,
          31.73,
          26.885,
          22.895,
          34.2,
          29.7,
          42.9,
          30.2,
          27.835,
          30.8,
          34.96,
          24.795,
          22.895,
          25.9,
          20.52,
          20.045,
          22.99,
          32.7,
          28.215,
          20.13,
          31.02,
          36.08,
          26.03,
          23.655,
          35.2,
          21.565,
          37.07,
          30.495,
          28.025,
          30.685,
          24.7,
          52.58,
          30.9,
          29.8,
          41.14,
          37.07,
          31.68,
          18.3,
          36.19,
          30.4,
          34.96,
          19.095,
          38.39,
          25.85,
          33.33,
          35.75,
          31.4,
          36.86,
          42.75,
          32.49,
          32.8,
          32.56,
          44.88,
          27.36,
          26.7,
          24.13,
          29.81,
          28.49,
          35.625,
          25.27,
          30.02,
          27.28,
          33.4,
          25.555,
          34.6,
          24.42,
          34.485,
          21.8,
          41.8,
          36.96,
          33.63,
          29.83,
          27.3,
          23.76,
          31.065,
          27.06,
          29.925,
          27.645,
          21.66,
          36.3,
          39.4,
          34.9,
          30.36,
          30.875,
          27.8,
          24.605,
          21.85,
          28.12,
          30.2,
          34.7,
          23.655,
          26.695,
          40.37,
          29.07
         ],
         "xaxis": "x",
         "y": [
          16884.924,
          27808.7251,
          39611.7577,
          36837.467,
          37701.8768,
          38711,
          35585.576,
          51194.55914,
          39774.2763,
          48173.361,
          38709.176,
          23568.272,
          37742.5757,
          47496.49445,
          34303.1672,
          23244.7902,
          14711.7438,
          17663.1442,
          16577.7795,
          37165.1638,
          39836.519,
          21098.55405,
          43578.9394,
          30184.9367,
          47291.055,
          22412.6485,
          15820.699,
          30942.1918,
          17560.37975,
          47055.5321,
          19107.7796,
          39556.4945,
          17081.08,
          32734.1863,
          18972.495,
          20745.9891,
          40720.55105,
          19964.7463,
          21223.6758,
          15518.18025,
          36950.2567,
          21348.706,
          36149.4835,
          48824.45,
          43753.33705,
          37133.8982,
          20984.0936,
          34779.615,
          19515.5416,
          19444.2658,
          17352.6803,
          38511.6283,
          29523.1656,
          12829.4551,
          47305.305,
          44260.7499,
          41097.16175,
          43921.1837,
          33750.2918,
          17085.2676,
          24869.8368,
          36219.40545,
          46151.1245,
          17179.522,
          42856.838,
          22331.5668,
          48549.17835,
          47896.79135,
          42112.2356,
          16297.846,
          21978.6769,
          38746.3551,
          24873.3849,
          42124.5153,
          34838.873,
          35491.64,
          42760.5022,
          47928.03,
          48517.56315,
          24393.6224,
          41919.097,
          13844.506,
          36085.219,
          18033.9679,
          21659.9301,
          38126.2465,
          15006.57945,
          42303.69215,
          19594.80965,
          14455.64405,
          18608.262,
          28950.4692,
          46889.2612,
          46599.1084,
          39125.33225,
          37079.372,
          26109.32905,
          22144.032,
          19521.9682,
          25382.297,
          28868.6639,
          35147.52848,
          48885.13561,
          17942.106,
          36197.699,
          22218.1149,
          32548.3405,
          21082.16,
          38245.59327,
          48675.5177,
          63770.42801,
          23807.2406,
          45863.205,
          39983.42595,
          45702.02235,
          58571.07448,
          43943.8761,
          15359.1045,
          17468.9839,
          25678.77845,
          39241.442,
          42969.8527,
          23306.547,
          34439.8559,
          40182.246,
          34617.84065,
          42983.4585,
          20149.3229,
          32787.45859,
          24667.419,
          27037.9141,
          42560.4304,
          40003.33225,
          45710.20785,
          46200.9851,
          46130.5265,
          40103.89,
          34806.4677,
          40273.6455,
          44400.4064,
          40932.4295,
          16657.71745,
          19361.9988,
          40419.0191,
          36189.1017,
          44585.45587,
          18246.4955,
          43254.41795,
          19539.243,
          23065.4207,
          36307.7983,
          19040.876,
          17748.5062,
          18259.216,
          24520.264,
          21195.818,
          18310.742,
          17904.52705,
          38792.6856,
          23401.30575,
          55135.40209,
          43813.8661,
          20773.62775,
          39597.4072,
          36021.0112,
          27533.9129,
          45008.9555,
          37270.1512,
          42111.6647,
          24106.91255,
          40974.1649,
          15817.9857,
          46113.511,
          46255.1125,
          19719.6947,
          27218.43725,
          29330.98315,
          44202.6536,
          19798.05455,
          48673.5588,
          17496.306,
          33732.6867,
          21774.32215,
          35069.37452,
          39047.285,
          19933.458,
          47462.894,
          38998.546,
          20009.63365,
          41999.52,
          41034.2214,
          23967.38305,
          16138.76205,
          19199.944,
          14571.8908,
          16420.49455,
          17361.7661,
          34472.841,
          24915.22085,
          18767.7377,
          35595.5898,
          42211.1382,
          16450.8947,
          21677.28345,
          44423.803,
          13747.87235,
          37484.4493,
          39725.51805,
          20234.85475,
          33475.81715,
          21880.82,
          44501.3982,
          39727.614,
          25309.489,
          48970.2476,
          39871.7043,
          34672.1472,
          19023.26,
          41676.0811,
          33907.548,
          44641.1974,
          16776.30405,
          41949.2441,
          24180.9335,
          36124.5737,
          38282.7495,
          34166.273,
          46661.4424,
          40904.1995,
          36898.73308,
          52590.82939,
          40941.2854,
          39722.7462,
          17178.6824,
          22478.6,
          23887.6627,
          19350.3689,
          18328.2381,
          37465.34375,
          21771.3423,
          33307.5508,
          18223.4512,
          38415.474,
          20296.86345,
          41661.602,
          26125.67477,
          60021.39897,
          20167.33603,
          47269.854,
          49577.6624,
          37607.5277,
          18648.4217,
          16232.847,
          26926.5144,
          34254.05335,
          17043.3414,
          22462.04375,
          24535.69855,
          14283.4594,
          47403.88,
          38344.566,
          34828.654,
          62592.87309,
          46718.16325,
          37829.7242,
          21259.37795,
          16115.3045,
          21472.4788,
          33900.653,
          36397.576,
          18765.87545,
          28101.33305,
          43896.3763,
          29141.3603
         ],
         "yaxis": "y"
        },
        {
         "hovertemplate": "smoker=Non-Smoker<br>bmi=%{x}<br>charges=%{marker.size}<extra></extra>",
         "legendgroup": "Non-Smoker",
         "marker": {
          "color": "#B7A294",
          "size": [
           1725.5523,
           4449.462,
           21984.47061,
           3866.8552,
           3756.6216,
           8240.5896,
           7281.5056,
           6406.4107,
           28923.13692,
           2721.3208,
           1826.843,
           11090.7178,
           1837.237,
           10797.3362,
           2395.17155,
           10602.385,
           13228.84695,
           4149.736,
           1137.011,
           6203.90175,
           14001.1338,
           14451.83515,
           12268.63225,
           2775.19215,
           2198.18985,
           4687.797,
           13770.0979,
           1625.43375,
           15612.19335,
           2302.3,
           3046.062,
           4949.7587,
           6272.4772,
           6313.759,
           6079.6715,
           20630.28351,
           3393.35635,
           3556.9223,
           12629.8967,
           2211.13075,
           3579.8287,
           8059.6791,
           13607.36875,
           5989.52365,
           8606.2174,
           4504.6624,
           30166.61817,
           4133.64165,
           1743.214,
           14235.072,
           6389.37785,
           5920.1041,
           6799.458,
           11741.726,
           11946.6259,
           7726.854,
           11356.6609,
           3947.4131,
           1532.4697,
           2755.02095,
           6571.02435,
           4441.21315,
           7935.29115,
           11033.6617,
           11073.176,
           8026.6666,
           11082.5772,
           2026.9741,
           10942.13205,
           5729.0053,
           3766.8838,
           12105.32,
           10226.2842,
           6186.127,
           3645.0894,
           21344.8467,
           5003.853,
           2331.519,
           3877.30425,
           2867.1196,
           10825.2537,
           11881.358,
           4646.759,
           2404.7338,
           11488.31695,
           30259.99556,
           11381.3254,
           8601.3293,
           6686.4313,
           7740.337,
           1705.6245,
           2257.47525,
           10115.00885,
           3385.39915,
           9634.538,
           6082.405,
           12815.44495,
           13616.3586,
           11163.568,
           1632.56445,
           2457.21115,
           2155.6815,
           1261.442,
           2045.68525,
           27322.73386,
           2166.732,
           27375.90478,
           3490.5491,
           18157.876,
           5138.2567,
           9877.6077,
           10959.6947,
           1842.519,
           5125.2157,
           7789.635,
           6334.34355,
           7077.1894,
           6948.7008,
           19749.38338,
           10450.552,
           5152.134,
           5028.1466,
           10407.08585,
           4830.63,
           6128.79745,
           2719.27975,
           4827.90495,
           13405.3903,
           8116.68,
           1694.7964,
           5246.047,
           2855.43755,
           6455.86265,
           10436.096,
           8823.279,
           8538.28845,
           11735.87905,
           1631.8212,
           4005.4225,
           7419.4779,
           7731.4271,
           3981.9768,
           5325.651,
           6775.961,
           4922.9159,
           12557.6053,
           4883.866,
           2137.6536,
           12044.342,
           1137.4697,
           1639.5631,
           5649.715,
           8516.829,
           9644.2525,
           14901.5167,
           2130.6759,
           8871.1517,
           13012.20865,
           7147.105,
           4337.7352,
           11743.299,
           13880.949,
           6610.1097,
           1980.07,
           8162.71625,
           3537.703,
           5002.7827,
           8520.026,
           7371.772,
           10355.641,
           2483.736,
           3392.9768,
           25081.76784,
           5012.471,
           10564.8845,
           5253.524,
           11987.1682,
           2689.4954,
           24227.33724,
           7358.17565,
           9225.2564,
           7443.64305,
           14001.2867,
           1727.785,
           12333.828,
           6710.1919,
           1615.7667,
           4463.2051,
           7152.6714,
           5354.07465,
           35160.13457,
           7196.867,
           24476.47851,
           12648.7034,
           1986.9334,
           1832.094,
           4040.55825,
           4260.744,
           13047.33235,
           5400.9805,
           11520.09985,
           11837.16,
           20462.99766,
           14590.63205,
           7441.053,
           9282.4806,
           1719.4363,
           7265.7025,
           9617.66245,
           2523.1695,
           9715.841,
           2803.69785,
           2150.469,
           12928.7911,
           9855.1314,
           4237.12655,
           11879.10405,
           9625.92,
           7742.1098,
           9432.9253,
           14256.1928,
           25992.82104,
           3172.018,
           20277.80751,
           2156.7518,
           3906.127,
           1704.5681,
           9249.4952,
           6746.7425,
           12265.5069,
           4349.462,
           12646.207,
           19442.3535,
           20177.67113,
           4151.0287,
           11944.59435,
           7749.1564,
           8444.474,
           1737.376,
           8124.4084,
           9722.7695,
           8835.26495,
           10435.06525,
           7421.19455,
           4667.60765,
           4894.7533,
           24671.66334,
           11566.30055,
           2866.091,
           6600.20595,
           3561.8889,
           9144.565,
           13429.0354,
           11658.37915,
           19144.57652,
           13822.803,
           12142.5786,
           13937.6665,
           8232.6388,
           18955.22017,
           13352.0998,
           13217.0945,
           13981.85035,
           10977.2063,
           6184.2994,
           4889.9995,
           8334.45755,
           5478.0368,
           1635.73365,
           11830.6072,
           8932.084,
           3554.203,
           12404.8791,
           14133.03775,
           24603.04837,
           8944.1151,
           9620.3307,
           1837.2819,
           1607.5101,
           10043.249,
           4751.07,
           2597.779,
           3180.5101,
           9778.3472,
           13430.265,
           8017.06115,
           8116.26885,
           3481.868,
           13415.0381,
           12029.2867,
           7639.41745,
           1391.5287,
           16455.70785,
           27000.98473,
           20781.48892,
           5846.9176,
           8302.53565,
           1261.859,
           11856.4115,
           30284.64294,
           3176.8159,
           4618.0799,
           10736.87075,
           2138.0707,
           8964.06055,
           9290.1395,
           9411.005,
           7526.70645,
           8522.003,
           16586.49771,
           14988.432,
           1631.6683,
           9264.797,
           8083.9198,
           14692.66935,
           10269.46,
           3260.199,
           11396.9002,
           4185.0979,
           8539.671,
           6652.5288,
           4074.4537,
           1621.3402,
           5080.096,
           2134.9015,
           7345.7266,
           9140.951,
           14418.2804,
           2727.3951,
           8968.33,
           9788.8659,
           6555.07035,
           7323.734819,
           3167.45585,
           18804.7524,
           23082.95533,
           4906.40965,
           5969.723,
           12638.195,
           4243.59005,
           13919.8229,
           2254.7967,
           5926.846,
           12592.5345,
           2897.3235,
           4738.2682,
           1149.3959,
           28287.89766,
           7345.084,
           12730.9996,
           11454.0215,
           5910.944,
           4762.329,
           7512.267,
           4032.2407,
           1969.614,
           1769.53165,
           4686.3887,
           21797.0004,
           11881.9696,
           11840.77505,
           10601.412,
           7682.67,
           10381.4787,
           15230.32405,
           11165.41765,
           1632.03625,
           13224.693,
           12643.3778,
           23288.9284,
           2201.0971,
           2497.0383,
           2203.47185,
           1744.465,
           20878.78443,
           2534.39375,
           1534.3045,
           1824.2854,
           15555.18875,
           9304.7019,
           1622.1885,
           9880.068,
           9563.029,
           4347.02335,
           12475.3513,
           1253.936,
           10461.9794,
           1748.774,
           24513.09126,
           2196.4732,
           12574.049,
           1967.0227,
           4931.647,
           8027.968,
           8211.1002,
           13470.86,
           6837.3687,
           5974.3847,
           6796.86325,
           2643.2685,
           3077.0955,
           3044.2133,
           11455.28,
           11763.0009,
           2498.4144,
           9361.3268,
           1256.299,
           11362.755,
           27724.28875,
           8413.46305,
           5240.765,
           3857.75925,
           25656.57526,
           3994.1778,
           9866.30485,
           5397.6167,
           11482.63485,
           24059.68019,
           9861.025,
           8342.90875,
           1708.0014,
           14043.4767,
           12925.886,
           19214.70553,
           13831.1152,
           6067.12675,
           5972.378,
           8825.086,
           8233.0975,
           27346.04207,
           6196.448,
           3056.3881,
           13887.204,
           10231.4999,
           3268.84665,
           11538.421,
           3213.62205,
           13390.559,
           3972.9247,
           12957.118,
           11187.6567,
           17878.90068,
           3847.674,
           8334.5896,
           3935.1799,
           1646.4297,
           9193.8385,
           10923.9332,
           2494.022,
           9058.7303,
           2801.2588,
           2128.43105,
           6373.55735,
           7256.7231,
           11552.904,
           3761.292,
           2219.4451,
           4753.6368,
           31620.00106,
           13224.05705,
           12222.8983,
           1664.9996,
           9724.53,
           3206.49135,
           12913.9924,
           1639.5631,
           6356.2707,
           17626.23951,
           1242.816,
           4779.6023,
           3861.20965,
           13635.6379,
           5976.8311,
           11842.442,
           8428.0693,
           2566.4707,
           5709.1644,
           8823.98575,
           7640.3092,
           5594.8455,
           7441.501,
           33471.97189,
           1633.0444,
           9174.13565,
           11070.535,
           16085.1275,
           9283.562,
           3558.62025,
           4435.0942,
           8547.6913,
           6571.544,
           2207.69745,
           6753.038,
           1880.07,
           11658.11505,
           10713.644,
           3659.346,
           9182.17,
           12129.61415,
           3736.4647,
           6748.5912,
           11326.71487,
           11365.952,
           10085.846,
           1977.815,
           3366.6697,
           7173.35995,
           9391.346,
           14410.9321,
           2709.1119,
           24915.04626,
           12949.1554,
           6666.243,
           13143.86485,
           4466.6214,
           18806.14547,
           10141.1362,
           6123.5688,
           8252.2843,
           1712.227,
           12430.95335,
           9800.8882,
           10579.711,
           8280.6227,
           8527.532,
           12244.531,
           3410.324,
           4058.71245,
           26392.26029,
           14394.39815,
           6435.6237,
           22192.43711,
           5148.5526,
           1136.3994,
           8703.456,
           6500.2359,
           4837.5823,
           3943.5954,
           4399.731,
           6185.3208,
           7222.78625,
           12485.8009,
           12363.547,
           10156.7832,
           2585.269,
           1242.26,
           9863.4718,
           4766.022,
           11244.3769,
           7729.64575,
           5438.7491,
           26236.57997,
           2104.1134,
           8068.185,
           2362.22905,
           2352.96845,
           3577.999,
           3201.24515,
           29186.48236,
           10976.24575,
           3500.6123,
           2020.5523,
           9541.69555,
           9504.3103,
           5385.3379,
           8930.93455,
           5375.038,
           10264.4421,
           6113.23105,
           5469.0066,
           1727.54,
           10107.2206,
           8310.83915,
           1984.4533,
           2457.502,
           12146.971,
           9566.9909,
           13112.6048,
           10848.1343,
           12231.6136,
           9875.6804,
           11264.541,
           12979.358,
           1263.249,
           10106.13425,
           6664.68595,
           2217.6012,
           6781.3542,
           10065.413,
           4234.927,
           9447.25035,
           14007.222,
           9583.8933,
           3484.331,
           8604.48365,
           3757.8448,
           8827.2099,
           9910.35985,
           11737.84884,
           1627.28245,
           8556.907,
           3062.50825,
           1906.35825,
           14210.53595,
           11833.7823,
           17128.42608,
           5031.26955,
           7985.815,
           5428.7277,
           3925.7582,
           2416.955,
           3070.8087,
           9095.06825,
           11842.62375,
           8062.764,
           7050.642,
           14319.031,
           6933.24225,
           27941.28758,
           11150.78,
           12797.20962,
           7261.741,
           10560.4917,
           6986.697,
           7448.40395,
           5934.3798,
           9869.8102,
           1146.7966,
           9386.1613,
           4350.5144,
           6414.178,
           12741.16745,
           1917.3184,
           5209.57885,
           13457.9608,
           5662.225,
           1252.407,
           2731.9122,
           7209.4918,
           4266.1658,
           4719.52405,
           11848.141,
           7046.7222,
           14313.8463,
           2103.08,
           1815.8759,
           7731.85785,
           28476.73499,
           2136.88225,
           1131.5066,
           3309.7926,
           9414.92,
           6360.9936,
           11013.7119,
           4428.88785,
           5584.3057,
           1877.9294,
           2842.76075,
           3597.596,
           7445.918,
           2680.9493,
           1621.8827,
           8219.2039,
           12523.6048,
           16069.08475,
           6117.4945,
           13393.756,
           5266.3656,
           4719.73655,
           11743.9341,
           5377.4578,
           7160.3303,
           4402.233,
           11657.7189,
           6402.29135,
           12622.1795,
           1526.312,
           12323.936,
           10072.05505,
           9872.701,
           2438.0552,
           2974.126,
           10601.63225,
           14119.62,
           11729.6795,
           1875.344,
           18218.16139,
           10965.446,
           7151.092,
           12269.68865,
           5458.04645,
           8782.469,
           6600.361,
           1141.4451,
           11576.13,
           13129.60345,
           4391.652,
           8457.818,
           3392.3652,
           5966.8874,
           6849.026,
           8891.1395,
           2690.1138,
           26140.3603,
           6653.7886,
           6282.235,
           6311.952,
           3443.064,
           2789.0574,
           2585.85065,
           4877.98105,
           5272.1758,
           1682.597,
           11945.1327,
           7243.8136,
           10422.91665,
           13555.0049,
           13063.883,
           2221.56445,
           1634.5734,
           2117.33885,
           8688.85885,
           4661.28635,
           8125.7845,
           12644.589,
           4564.19145,
           4846.92015,
           7633.7206,
           15170.069,
           2639.0429,
           14382.70905,
           7626.993,
           5257.50795,
           2473.3341,
           13041.921,
           5245.2269,
           13451.122,
           13462.52,
           5488.262,
           4320.41085,
           6250.435,
           25333.33284,
           2913.569,
           12032.326,
           13470.8044,
           6289.7549,
           2927.0647,
           6238.298,
           10096.97,
           7348.142,
           4673.3922,
           12233.828,
           32108.66282,
           8965.79575,
           2304.0022,
           9487.6442,
           1121.8739,
           9549.5651,
           2217.46915,
           1628.4709,
           12982.8747,
           11674.13,
           7160.094,
           6358.77645,
           11534.87265,
           4527.18295,
           3875.7341,
           12609.88702,
           28468.91901,
           2730.10785,
           3353.284,
           14474.675,
           9500.57305,
           26467.09737,
           4746.344,
           7518.02535,
           3279.86855,
           8596.8278,
           10702.6424,
           4992.3764,
           2527.81865,
           1759.338,
           2322.6218,
           7804.1605,
           2902.9065,
           9704.66805,
           4889.0368,
           25517.11363,
           4500.33925,
           16796.41194,
           4915.05985,
           7624.63,
           8410.04685,
           28340.18885,
           4518.82625,
           3378.91,
           7144.86265,
           10118.424,
           5484.4673,
           7986.47525,
           7418.522,
           13887.9685,
           6551.7501,
           5267.81815,
           1972.95,
           21232.18226,
           8627.5411,
           4433.3877,
           4438.2634,
           23241.47453,
           9957.7216,
           8269.044,
           36580.28216,
           8765.249,
           5383.536,
           12124.9924,
           2709.24395,
           3987.926,
           12495.29085,
           26018.95052,
           8798.593,
           1711.0268,
           8569.8618,
           2020.177,
           21595.38229,
           9850.432,
           6877.9801,
           4137.5227,
           12950.0712,
           12094.478,
           2250.8352,
           22493.65964,
           1704.70015,
           3161.454,
           11394.06555,
           7325.0482,
           3594.17085,
           8023.13545,
           14394.5579,
           9288.0267,
           3353.4703,
           10594.50155,
           8277.523,
           17929.30337,
           2480.9791,
           4462.7218,
           1981.5819,
           11554.2236,
           6548.19505,
           5708.867,
           7045.499,
           8978.1851,
           5757.41345,
           14349.8544,
           10928.849,
           13974.45555,
           1909.52745,
           12096.6512,
           13204.28565,
           4562.8421,
           8551.347,
           2102.2647,
           15161.5344,
           11884.04858,
           4454.40265,
           5855.9025,
           4076.497,
           15019.76005,
           10796.35025,
           11353.2276,
           9748.9106,
           10577.087,
           11286.5387,
           3591.48,
           11299.343,
           4561.1885,
           1674.6323,
           23045.56616,
           3227.1211,
           11253.421,
           3471.4096,
           11363.2832,
           20420.60465,
           10338.9316,
           8988.15875,
           10493.9458,
           2904.088,
           8605.3615,
           11512.405,
           5312.16985,
           2396.0959,
           10807.4863,
           9222.4026,
           5693.4305,
           8347.1643,
           18903.49141,
           14254.6082,
           10214.636,
           5836.5204,
           14358.36437,
           1728.897,
           8582.3023,
           3693.428,
           20709.02034,
           9991.03765,
           19673.33573,
           11085.5868,
           7623.518,
           3176.2877,
           3704.3545,
           9048.0273,
           7954.517,
           27117.99378,
           6338.0756,
           9630.397,
           11289.10925,
           2261.5688,
           10791.96,
           5979.731,
           2203.73595,
           12235.8392,
           5630.45785,
           11015.1747,
           7228.21565,
           14426.07385,
           2459.7201,
           3989.841,
           7727.2532,
           5124.1887,
           18963.17192,
           2200.83085,
           7153.5539,
           5227.98875,
           10982.5013,
           4529.477,
           4670.64,
           6112.35295,
           11093.6229,
           6457.8434,
           4433.9159,
           2154.361,
           6496.886,
           2899.48935,
           7650.77375,
           2850.68375,
           2632.992,
           9447.3824,
           8603.8234,
           13844.7972,
           13126.67745,
           5327.40025,
           13725.47184,
           13019.16105,
           8671.19125,
           4134.08245,
           18838.70366,
           5699.8375,
           6393.60345,
           4934.705,
           6198.7518,
           8733.22925,
           2055.3249,
           9964.06,
           5116.5004,
           36910.60803,
           12347.172,
           5373.36425,
           23563.01618,
           1702.4553,
           10806.839,
           3956.07145,
           12890.05765,
           5415.6612,
           4058.1161,
           7537.1639,
           4718.20355,
           6593.5083,
           8442.667,
           6858.4796,
           4795.6568,
           6640.54485,
           7162.0122,
           10594.2257,
           11938.25595,
           12479.70895,
           11345.519,
           8515.7587,
           2699.56835,
           14449.8544,
           12224.35085,
           6985.50695,
           3238.4357,
           4296.2712,
           3171.6149,
           1135.9407,
           5615.369,
           9101.798,
           6059.173,
           1633.9618,
           1241.565,
           15828.82173,
           4415.1588,
           6474.013,
           11436.73815,
           11305.93455,
           30063.58055,
           10197.7722,
           4544.2348,
           3277.161,
           6770.1925,
           7337.748,
           10370.91255,
           10704.47,
           1880.487,
           8615.3,
           3292.52985,
           3021.80915,
           14478.33015,
           4747.0529,
           10959.33,
           2741.948,
           4357.04365,
           4189.1131,
           8283.6807,
           1720.3537,
           8534.6718,
           3732.6251,
           5472.449,
           7147.4728,
           7133.9025,
           1515.3449,
           9301.89355,
           11931.12525,
           1964.78,
           1708.92575,
           4340.4409,
           5261.46945,
           2710.82855,
           3208.787,
           2464.6188,
           6875.961,
           6940.90985,
           4571.41305,
           4536.259,
           11272.33139,
           1731.677,
           1163.4627,
           19496.71917,
           7201.70085,
           5425.02335,
           12981.3457,
           4239.89265,
           13143.33665,
           7050.0213,
           9377.9047,
           22395.74424,
           10325.206,
           12629.1656,
           10795.93733,
           11411.685,
           10600.5483,
           2205.9808,
           1629.8335,
           2007.945
          ],
          "sizemode": "area",
          "sizeref": 159.426070025,
          "symbol": "circle"
         },
         "mode": "markers",
         "name": "Non-Smoker",
         "showlegend": true,
         "type": "scattergl",
         "x": [
          33.77,
          33,
          22.705,
          28.88,
          25.74,
          33.44,
          27.74,
          29.83,
          25.84,
          26.22,
          34.4,
          39.82,
          24.6,
          30.78,
          23.845,
          40.3,
          36.005,
          32.4,
          34.1,
          28.025,
          27.72,
          23.085,
          32.775,
          17.385,
          26.315,
          28.6,
          28.31,
          20.425,
          32.965,
          20.8,
          26.6,
          36.63,
          21.78,
          30.8,
          37.05,
          37.3,
          38.665,
          34.77,
          24.53,
          35.625,
          33.63,
          28.69,
          31.825,
          37.335,
          27.36,
          33.66,
          24.7,
          25.935,
          28.9,
          39.1,
          26.315,
          36.19,
          28.5,
          28.1,
          32.01,
          27.4,
          34.01,
          29.59,
          35.53,
          39.805,
          32.965,
          26.885,
          38.285,
          41.23,
          27.2,
          27.74,
          26.98,
          39.49,
          24.795,
          34.77,
          37.62,
          30.8,
          38.28,
          31.6,
          25.46,
          30.115,
          27.5,
          28.4,
          30.875,
          27.94,
          33.63,
          29.7,
          30.8,
          35.72,
          32.205,
          28.595,
          49.06,
          27.17,
          23.37,
          37.1,
          23.75,
          28.975,
          33.915,
          28.785,
          37.4,
          34.7,
          26.505,
          22.04,
          35.9,
          25.555,
          28.785,
          28.05,
          34.1,
          25.175,
          31.9,
          36,
          22.42,
          32.49,
          29.735,
          38.83,
          37.73,
          37.43,
          28.4,
          24.13,
          29.7,
          37.145,
          25.46,
          39.52,
          27.83,
          39.6,
          29.8,
          29.64,
          28.215,
          37,
          33.155,
          31.825,
          18.905,
          41.47,
          30.3,
          15.96,
          34.8,
          33.345,
          27.835,
          29.2,
          28.9,
          33.155,
          28.595,
          38.28,
          19.95,
          26.41,
          30.69,
          29.92,
          30.9,
          32.2,
          32.11,
          31.57,
          26.2,
          25.74,
          26.6,
          34.43,
          30.59,
          32.8,
          28.6,
          18.05,
          39.33,
          32.11,
          32.23,
          24.035,
          22.3,
          28.88,
          26.4,
          31.8,
          41.23,
          33,
          30.875,
          28.5,
          26.73,
          30.9,
          37.1,
          26.6,
          23.1,
          29.92,
          23.21,
          33.7,
          33.25,
          30.8,
          33.88,
          38.06,
          41.91,
          31.635,
          25.46,
          36.195,
          27.83,
          17.8,
          27.5,
          24.51,
          26.73,
          38.39,
          38.06,
          22.135,
          26.8,
          35.3,
          30.02,
          38.06,
          35.86,
          20.9,
          28.975,
          30.3,
          25.365,
          40.15,
          24.415,
          25.2,
          38.06,
          32.395,
          30.2,
          25.84,
          29.37,
          37.05,
          27.455,
          27.55,
          26.6,
          20.615,
          24.3,
          31.79,
          21.56,
          27.645,
          32.395,
          31.2,
          26.62,
          48.07,
          26.22,
          26.4,
          33.4,
          29.64,
          28.82,
          26.8,
          22.99,
          28.88,
          27.55,
          37.51,
          33,
          38,
          33.345,
          27.5,
          33.33,
          34.865,
          33.06,
          26.6,
          24.7,
          35.86,
          33.25,
          32.205,
          32.775,
          27.645,
          37.335,
          25.27,
          29.64,
          40.945,
          27.2,
          34.105,
          23.21,
          36.7,
          31.16,
          28.785,
          35.72,
          34.5,
          25.74,
          27.55,
          27.72,
          27.6,
          30.02,
          27.55,
          36.765,
          41.47,
          29.26,
          35.75,
          33.345,
          29.92,
          27.835,
          23.18,
          25.6,
          27.7,
          35.245,
          38.28,
          27.6,
          43.89,
          29.83,
          41.91,
          20.79,
          32.3,
          30.5,
          26.4,
          21.89,
          30.78,
          32.3,
          24.985,
          32.015,
          30.4,
          21.09,
          22.23,
          33.155,
          33.33,
          30.115,
          31.46,
          33,
          43.34,
          22.135,
          34.4,
          39.05,
          25.365,
          22.61,
          30.21,
          35.625,
          37.43,
          31.445,
          31.35,
          32.3,
          19.855,
          34.4,
          31.02,
          25.6,
          38.17,
          20.6,
          47.52,
          32.965,
          32.3,
          20.4,
          38.38,
          24.31,
          23.6,
          21.12,
          30.03,
          17.48,
          23.9,
          35.15,
          35.64,
          34.1,
          39.16,
          30.59,
          30.2,
          24.31,
          27.265,
          29.165,
          16.815,
          30.4,
          33.1,
          20.235,
          26.9,
          30.5,
          28.595,
          33.11,
          31.73,
          28.9,
          46.75,
          29.45,
          32.68,
          43.01,
          36.52,
          33.1,
          29.64,
          25.65,
          29.6,
          38.6,
          29.6,
          24.13,
          23.4,
          29.735,
          46.53,
          37.4,
          30.14,
          30.495,
          39.6,
          33,
          36.63,
          38.095,
          25.935,
          25.175,
          28.7,
          33.82,
          24.32,
          24.09,
          32.67,
          30.115,
          29.8,
          33.345,
          35.625,
          36.85,
          32.56,
          41.325,
          37.51,
          31.35,
          39.5,
          34.3,
          31.065,
          21.47,
          28.7,
          31.16,
          32.9,
          25.08,
          25.08,
          43.4,
          27.93,
          23.6,
          28.7,
          23.98,
          39.2,
          26.03,
          28.93,
          30.875,
          31.35,
          23.75,
          25.27,
          28.7,
          32.11,
          33.66,
          22.42,
          30.4,
          35.7,
          35.31,
          30.495,
          31,
          30.875,
          27.36,
          44.22,
          33.915,
          37.73,
          33.88,
          30.59,
          25.8,
          39.425,
          25.46,
          31.73,
          29.7,
          36.19,
          40.48,
          28.025,
          38.9,
          30.2,
          28.05,
          31.35,
          38,
          31.79,
          36.3,
          30.21,
          35.435,
          46.7,
          28.595,
          30.8,
          28.93,
          21.4,
          31.73,
          41.325,
          23.8,
          33.44,
          34.21,
          35.53,
          19.95,
          32.68,
          30.5,
          44.77,
          32.12,
          30.495,
          40.565,
          30.59,
          31.9,
          29.1,
          37.29,
          43.12,
          36.86,
          34.295,
          27.17,
          26.84,
          30.2,
          23.465,
          25.46,
          30.59,
          45.43,
          23.65,
          20.7,
          28.27,
          20.235,
          35.91,
          30.69,
          29,
          19.57,
          31.13,
          40.26,
          33.725,
          29.48,
          33.25,
          32.6,
          37.525,
          39.16,
          31.635,
          25.3,
          39.05,
          34.1,
          25.175,
          26.98,
          29.37,
          34.8,
          33.155,
          19,
          33,
          28.595,
          37.1,
          31.4,
          21.3,
          28.785,
          26.03,
          28.88,
          42.46,
          38,
          36.1,
          29.3,
          35.53,
          22.705,
          39.7,
          38.19,
          24.51,
          38.095,
          33.66,
          42.4,
          33.915,
          34.96,
          35.31,
          30.78,
          26.22,
          23.37,
          28.5,
          32.965,
          42.68,
          39.6,
          31.13,
          36.3,
          35.2,
          42.4,
          33.155,
          35.91,
          28.785,
          46.53,
          23.98,
          31.54,
          33.66,
          28.7,
          29.81,
          31.57,
          31.16,
          29.7,
          31.02,
          21.375,
          40.81,
          36.1,
          23.18,
          17.4,
          20.3,
          24.32,
          18.5,
          26.41,
          26.125,
          41.69,
          24.1,
          27.36,
          36.2,
          32.395,
          23.655,
          34.8,
          40.185,
          32.3,
          33.725,
          39.27,
          34.87,
          44.745,
          41.47,
          26.41,
          29.545,
          32.9,
          28.69,
          30.495,
          27.74,
          35.2,
          23.54,
          30.685,
          40.47,
          22.6,
          28.9,
          22.61,
          24.32,
          36.67,
          33.44,
          40.66,
          36.6,
          37.4,
          35.4,
          27.075,
          28.405,
          40.28,
          36.08,
          21.4,
          30.1,
          27.265,
          32.1,
          34.77,
          23.7,
          24.035,
          26.62,
          26.41,
          30.115,
          27,
          21.755,
          36,
          30.875,
          28.975,
          37.905,
          22.77,
          33.63,
          27.645,
          22.8,
          37.43,
          34.58,
          35.2,
          26.03,
          25.175,
          31.825,
          32.3,
          29,
          39.7,
          19.475,
          36.1,
          26.7,
          36.48,
          34.2,
          33.33,
          32.3,
          39.805,
          34.32,
          28.88,
          41.14,
          35.97,
          29.26,
          27.7,
          36.955,
          36.86,
          22.515,
          29.92,
          41.8,
          27.6,
          23.18,
          31.92,
          44.22,
          22.895,
          33.1,
          26.18,
          35.97,
          22.3,
          26.51,
          35.815,
          41.42,
          36.575,
          30.14,
          25.84,
          30.8,
          42.94,
          21.01,
          22.515,
          34.43,
          31.46,
          24.225,
          37.1,
          33.7,
          17.67,
          31.13,
          29.81,
          24.32,
          31.825,
          21.85,
          33.1,
          25.84,
          23.845,
          34.39,
          33.82,
          35.97,
          31.5,
          28.31,
          23.465,
          31.35,
          31.1,
          24.7,
          30.495,
          34.2,
          50.38,
          24.1,
          32.775,
          32.3,
          23.75,
          29.6,
          32.23,
          28.1,
          28,
          33.535,
          19.855,
          25.4,
          29.9,
          37.29,
          43.7,
          23.655,
          24.3,
          36.2,
          29.48,
          24.86,
          30.1,
          21.85,
          28.12,
          27.1,
          33.44,
          28.8,
          29.5,
          34.8,
          27.36,
          22.135,
          26.695,
          30.02,
          39.5,
          33.63,
          29.04,
          24.035,
          32.11,
          44,
          25.555,
          40.26,
          22.515,
          22.515,
          27.265,
          36.85,
          35.1,
          29.355,
          32.585,
          32.34,
          39.8,
          28.31,
          26.695,
          27.5,
          24.605,
          33.99,
          28.2,
          34.21,
          25,
          33.2,
          31,
          35.815,
          23.2,
          32.11,
          23.4,
          20.1,
          39.16,
          34.21,
          46.53,
          32.5,
          25.8,
          35.3,
          37.18,
          27.5,
          29.735,
          24.225,
          26.18,
          29.48,
          23.21,
          46.09,
          40.185,
          22.61,
          39.93,
          35.8,
          35.8,
          31.255,
          18.335,
          28.405,
          39.49,
          26.79,
          36.67,
          39.615,
          25.9,
          35.2,
          24.795,
          36.765,
          27.1,
          25.365,
          25.745,
          34.32,
          28.16,
          23.56,
          20.235,
          40.5,
          35.42,
          40.15,
          29.15,
          39.995,
          29.92,
          25.46,
          21.375,
          30.59,
          30.115,
          25.8,
          30.115,
          27.645,
          34.675,
          19.8,
          27.835,
          31.6,
          28.27,
          23.275,
          34.1,
          36.85,
          36.29,
          26.885,
          25.8,
          29.6,
          19.19,
          31.73,
          29.26,
          24.985,
          27.74,
          22.8,
          33.33,
          32.3,
          27.6,
          25.46,
          24.605,
          34.2,
          35.815,
          32.68,
          37,
          23.32,
          45.32,
          34.6,
          18.715,
          31.6,
          17.29,
          27.93,
          38.38,
          23,
          28.88,
          27.265,
          23.085,
          25.8,
          35.245,
          25.08,
          22.515,
          36.955,
          26.41,
          29.83,
          21.47,
          27.645,
          28.9,
          31.79,
          39.49,
          33.82,
          32.01,
          27.94,
          28.595,
          25.6,
          25.3,
          37.29,
          42.655,
          21.66,
          31.9,
          31.445,
          31.255,
          28.88,
          18.335,
          29.59,
          32,
          26.03,
          33.66,
          21.78,
          27.835,
          19.95,
          31.5,
          30.495,
          28.975,
          31.54,
          47.74,
          22.1,
          29.83,
          32.7,
          33.7,
          31.35,
          33.77,
          30.875,
          33.99,
          28.6,
          38.94,
          36.08,
          29.8,
          31.24,
          29.925,
          26.22,
          30,
          20.35,
          32.3,
          26.315,
          24.51,
          32.67,
          29.64,
          19.95,
          38.17,
          32.395,
          25.08,
          29.9,
          35.86,
          32.8,
          18.6,
          23.87,
          45.9,
          40.28,
          18.335,
          33.82,
          28.12,
          25,
          22.23,
          30.25,
          37.07,
          32.6,
          24.86,
          32.34,
          32.3,
          32.775,
          31.92,
          21.5,
          34.1,
          30.305,
          36.48,
          35.815,
          27.93,
          22.135,
          23.18,
          30.59,
          41.1,
          34.58,
          42.13,
          38.83,
          28.215,
          28.31,
          26.125,
          40.37,
          24.6,
          35.2,
          34.105,
          41.91,
          29.26,
          32.11,
          27.1,
          27.4,
          34.865,
          41.325,
          29.925,
          30.3,
          27.36,
          23.56,
          32.68,
          28,
          32.775,
          21.755,
          32.395,
          36.575,
          21.755,
          27.93,
          33.55,
          29.355,
          25.8,
          24.32,
          40.375,
          32.11,
          32.3,
          17.86,
          34.8,
          37.1,
          30.875,
          34.1,
          21.47,
          33.3,
          31.255,
          39.14,
          25.08,
          37.29,
          30.21,
          21.945,
          24.97,
          25.3,
          23.94,
          39.82,
          16.815,
          37.18,
          34.43,
          30.305,
          24.605,
          23.3,
          27.83,
          31.065,
          21.66,
          28.215,
          22.705,
          42.13,
          21.28,
          33.11,
          33.33,
          24.3,
          25.7,
          29.4,
          39.82,
          19.8,
          29.3,
          27.72,
          37.9,
          36.385,
          27.645,
          37.715,
          23.18,
          20.52,
          37.1,
          28.05,
          29.9,
          33.345,
          30.5,
          33.3,
          27.5,
          33.915,
          34.485,
          25.52,
          27.61,
          23.7,
          30.4,
          29.735,
          26.79,
          33.33,
          30.03,
          24.32,
          17.29,
          25.9,
          34.32,
          19.95,
          23.21,
          25.745,
          25.175,
          22,
          26.125,
          26.51,
          27.455,
          25.745,
          20.8,
          27.72,
          32.2,
          26.315,
          26.695,
          42.9,
          28.31,
          20.6,
          53.13,
          39.71,
          26.315,
          31.065,
          38.83,
          25.935,
          33.535,
          32.87,
          30.03,
          24.225,
          38.6,
          25.74,
          33.4,
          44.7,
          30.97,
          31.92,
          36.85,
          25.8
         ],
         "xaxis": "x",
         "y": [
          1725.5523,
          4449.462,
          21984.47061,
          3866.8552,
          3756.6216,
          8240.5896,
          7281.5056,
          6406.4107,
          28923.13692,
          2721.3208,
          1826.843,
          11090.7178,
          1837.237,
          10797.3362,
          2395.17155,
          10602.385,
          13228.84695,
          4149.736,
          1137.011,
          6203.90175,
          14001.1338,
          14451.83515,
          12268.63225,
          2775.19215,
          2198.18985,
          4687.797,
          13770.0979,
          1625.43375,
          15612.19335,
          2302.3,
          3046.062,
          4949.7587,
          6272.4772,
          6313.759,
          6079.6715,
          20630.28351,
          3393.35635,
          3556.9223,
          12629.8967,
          2211.13075,
          3579.8287,
          8059.6791,
          13607.36875,
          5989.52365,
          8606.2174,
          4504.6624,
          30166.61817,
          4133.64165,
          1743.214,
          14235.072,
          6389.37785,
          5920.1041,
          6799.458,
          11741.726,
          11946.6259,
          7726.854,
          11356.6609,
          3947.4131,
          1532.4697,
          2755.02095,
          6571.02435,
          4441.21315,
          7935.29115,
          11033.6617,
          11073.176,
          8026.6666,
          11082.5772,
          2026.9741,
          10942.13205,
          5729.0053,
          3766.8838,
          12105.32,
          10226.2842,
          6186.127,
          3645.0894,
          21344.8467,
          5003.853,
          2331.519,
          3877.30425,
          2867.1196,
          10825.2537,
          11881.358,
          4646.759,
          2404.7338,
          11488.31695,
          30259.99556,
          11381.3254,
          8601.3293,
          6686.4313,
          7740.337,
          1705.6245,
          2257.47525,
          10115.00885,
          3385.39915,
          9634.538,
          6082.405,
          12815.44495,
          13616.3586,
          11163.568,
          1632.56445,
          2457.21115,
          2155.6815,
          1261.442,
          2045.68525,
          27322.73386,
          2166.732,
          27375.90478,
          3490.5491,
          18157.876,
          5138.2567,
          9877.6077,
          10959.6947,
          1842.519,
          5125.2157,
          7789.635,
          6334.34355,
          7077.1894,
          6948.7008,
          19749.38338,
          10450.552,
          5152.134,
          5028.1466,
          10407.08585,
          4830.63,
          6128.79745,
          2719.27975,
          4827.90495,
          13405.3903,
          8116.68,
          1694.7964,
          5246.047,
          2855.43755,
          6455.86265,
          10436.096,
          8823.279,
          8538.28845,
          11735.87905,
          1631.8212,
          4005.4225,
          7419.4779,
          7731.4271,
          3981.9768,
          5325.651,
          6775.961,
          4922.9159,
          12557.6053,
          4883.866,
          2137.6536,
          12044.342,
          1137.4697,
          1639.5631,
          5649.715,
          8516.829,
          9644.2525,
          14901.5167,
          2130.6759,
          8871.1517,
          13012.20865,
          7147.105,
          4337.7352,
          11743.299,
          13880.949,
          6610.1097,
          1980.07,
          8162.71625,
          3537.703,
          5002.7827,
          8520.026,
          7371.772,
          10355.641,
          2483.736,
          3392.9768,
          25081.76784,
          5012.471,
          10564.8845,
          5253.524,
          11987.1682,
          2689.4954,
          24227.33724,
          7358.17565,
          9225.2564,
          7443.64305,
          14001.2867,
          1727.785,
          12333.828,
          6710.1919,
          1615.7667,
          4463.2051,
          7152.6714,
          5354.07465,
          35160.13457,
          7196.867,
          24476.47851,
          12648.7034,
          1986.9334,
          1832.094,
          4040.55825,
          4260.744,
          13047.33235,
          5400.9805,
          11520.09985,
          11837.16,
          20462.99766,
          14590.63205,
          7441.053,
          9282.4806,
          1719.4363,
          7265.7025,
          9617.66245,
          2523.1695,
          9715.841,
          2803.69785,
          2150.469,
          12928.7911,
          9855.1314,
          4237.12655,
          11879.10405,
          9625.92,
          7742.1098,
          9432.9253,
          14256.1928,
          25992.82104,
          3172.018,
          20277.80751,
          2156.7518,
          3906.127,
          1704.5681,
          9249.4952,
          6746.7425,
          12265.5069,
          4349.462,
          12646.207,
          19442.3535,
          20177.67113,
          4151.0287,
          11944.59435,
          7749.1564,
          8444.474,
          1737.376,
          8124.4084,
          9722.7695,
          8835.26495,
          10435.06525,
          7421.19455,
          4667.60765,
          4894.7533,
          24671.66334,
          11566.30055,
          2866.091,
          6600.20595,
          3561.8889,
          9144.565,
          13429.0354,
          11658.37915,
          19144.57652,
          13822.803,
          12142.5786,
          13937.6665,
          8232.6388,
          18955.22017,
          13352.0998,
          13217.0945,
          13981.85035,
          10977.2063,
          6184.2994,
          4889.9995,
          8334.45755,
          5478.0368,
          1635.73365,
          11830.6072,
          8932.084,
          3554.203,
          12404.8791,
          14133.03775,
          24603.04837,
          8944.1151,
          9620.3307,
          1837.2819,
          1607.5101,
          10043.249,
          4751.07,
          2597.779,
          3180.5101,
          9778.3472,
          13430.265,
          8017.06115,
          8116.26885,
          3481.868,
          13415.0381,
          12029.2867,
          7639.41745,
          1391.5287,
          16455.70785,
          27000.98473,
          20781.48892,
          5846.9176,
          8302.53565,
          1261.859,
          11856.4115,
          30284.64294,
          3176.8159,
          4618.0799,
          10736.87075,
          2138.0707,
          8964.06055,
          9290.1395,
          9411.005,
          7526.70645,
          8522.003,
          16586.49771,
          14988.432,
          1631.6683,
          9264.797,
          8083.9198,
          14692.66935,
          10269.46,
          3260.199,
          11396.9002,
          4185.0979,
          8539.671,
          6652.5288,
          4074.4537,
          1621.3402,
          5080.096,
          2134.9015,
          7345.7266,
          9140.951,
          14418.2804,
          2727.3951,
          8968.33,
          9788.8659,
          6555.07035,
          7323.734819,
          3167.45585,
          18804.7524,
          23082.95533,
          4906.40965,
          5969.723,
          12638.195,
          4243.59005,
          13919.8229,
          2254.7967,
          5926.846,
          12592.5345,
          2897.3235,
          4738.2682,
          1149.3959,
          28287.89766,
          7345.084,
          12730.9996,
          11454.0215,
          5910.944,
          4762.329,
          7512.267,
          4032.2407,
          1969.614,
          1769.53165,
          4686.3887,
          21797.0004,
          11881.9696,
          11840.77505,
          10601.412,
          7682.67,
          10381.4787,
          15230.32405,
          11165.41765,
          1632.03625,
          13224.693,
          12643.3778,
          23288.9284,
          2201.0971,
          2497.0383,
          2203.47185,
          1744.465,
          20878.78443,
          2534.39375,
          1534.3045,
          1824.2854,
          15555.18875,
          9304.7019,
          1622.1885,
          9880.068,
          9563.029,
          4347.02335,
          12475.3513,
          1253.936,
          10461.9794,
          1748.774,
          24513.09126,
          2196.4732,
          12574.049,
          1967.0227,
          4931.647,
          8027.968,
          8211.1002,
          13470.86,
          6837.3687,
          5974.3847,
          6796.86325,
          2643.2685,
          3077.0955,
          3044.2133,
          11455.28,
          11763.0009,
          2498.4144,
          9361.3268,
          1256.299,
          11362.755,
          27724.28875,
          8413.46305,
          5240.765,
          3857.75925,
          25656.57526,
          3994.1778,
          9866.30485,
          5397.6167,
          11482.63485,
          24059.68019,
          9861.025,
          8342.90875,
          1708.0014,
          14043.4767,
          12925.886,
          19214.70553,
          13831.1152,
          6067.12675,
          5972.378,
          8825.086,
          8233.0975,
          27346.04207,
          6196.448,
          3056.3881,
          13887.204,
          10231.4999,
          3268.84665,
          11538.421,
          3213.62205,
          13390.559,
          3972.9247,
          12957.118,
          11187.6567,
          17878.90068,
          3847.674,
          8334.5896,
          3935.1799,
          1646.4297,
          9193.8385,
          10923.9332,
          2494.022,
          9058.7303,
          2801.2588,
          2128.43105,
          6373.55735,
          7256.7231,
          11552.904,
          3761.292,
          2219.4451,
          4753.6368,
          31620.00106,
          13224.05705,
          12222.8983,
          1664.9996,
          9724.53,
          3206.49135,
          12913.9924,
          1639.5631,
          6356.2707,
          17626.23951,
          1242.816,
          4779.6023,
          3861.20965,
          13635.6379,
          5976.8311,
          11842.442,
          8428.0693,
          2566.4707,
          5709.1644,
          8823.98575,
          7640.3092,
          5594.8455,
          7441.501,
          33471.97189,
          1633.0444,
          9174.13565,
          11070.535,
          16085.1275,
          9283.562,
          3558.62025,
          4435.0942,
          8547.6913,
          6571.544,
          2207.69745,
          6753.038,
          1880.07,
          11658.11505,
          10713.644,
          3659.346,
          9182.17,
          12129.61415,
          3736.4647,
          6748.5912,
          11326.71487,
          11365.952,
          10085.846,
          1977.815,
          3366.6697,
          7173.35995,
          9391.346,
          14410.9321,
          2709.1119,
          24915.04626,
          12949.1554,
          6666.243,
          13143.86485,
          4466.6214,
          18806.14547,
          10141.1362,
          6123.5688,
          8252.2843,
          1712.227,
          12430.95335,
          9800.8882,
          10579.711,
          8280.6227,
          8527.532,
          12244.531,
          3410.324,
          4058.71245,
          26392.26029,
          14394.39815,
          6435.6237,
          22192.43711,
          5148.5526,
          1136.3994,
          8703.456,
          6500.2359,
          4837.5823,
          3943.5954,
          4399.731,
          6185.3208,
          7222.78625,
          12485.8009,
          12363.547,
          10156.7832,
          2585.269,
          1242.26,
          9863.4718,
          4766.022,
          11244.3769,
          7729.64575,
          5438.7491,
          26236.57997,
          2104.1134,
          8068.185,
          2362.22905,
          2352.96845,
          3577.999,
          3201.24515,
          29186.48236,
          10976.24575,
          3500.6123,
          2020.5523,
          9541.69555,
          9504.3103,
          5385.3379,
          8930.93455,
          5375.038,
          10264.4421,
          6113.23105,
          5469.0066,
          1727.54,
          10107.2206,
          8310.83915,
          1984.4533,
          2457.502,
          12146.971,
          9566.9909,
          13112.6048,
          10848.1343,
          12231.6136,
          9875.6804,
          11264.541,
          12979.358,
          1263.249,
          10106.13425,
          6664.68595,
          2217.6012,
          6781.3542,
          10065.413,
          4234.927,
          9447.25035,
          14007.222,
          9583.8933,
          3484.331,
          8604.48365,
          3757.8448,
          8827.2099,
          9910.35985,
          11737.84884,
          1627.28245,
          8556.907,
          3062.50825,
          1906.35825,
          14210.53595,
          11833.7823,
          17128.42608,
          5031.26955,
          7985.815,
          5428.7277,
          3925.7582,
          2416.955,
          3070.8087,
          9095.06825,
          11842.62375,
          8062.764,
          7050.642,
          14319.031,
          6933.24225,
          27941.28758,
          11150.78,
          12797.20962,
          7261.741,
          10560.4917,
          6986.697,
          7448.40395,
          5934.3798,
          9869.8102,
          1146.7966,
          9386.1613,
          4350.5144,
          6414.178,
          12741.16745,
          1917.3184,
          5209.57885,
          13457.9608,
          5662.225,
          1252.407,
          2731.9122,
          7209.4918,
          4266.1658,
          4719.52405,
          11848.141,
          7046.7222,
          14313.8463,
          2103.08,
          1815.8759,
          7731.85785,
          28476.73499,
          2136.88225,
          1131.5066,
          3309.7926,
          9414.92,
          6360.9936,
          11013.7119,
          4428.88785,
          5584.3057,
          1877.9294,
          2842.76075,
          3597.596,
          7445.918,
          2680.9493,
          1621.8827,
          8219.2039,
          12523.6048,
          16069.08475,
          6117.4945,
          13393.756,
          5266.3656,
          4719.73655,
          11743.9341,
          5377.4578,
          7160.3303,
          4402.233,
          11657.7189,
          6402.29135,
          12622.1795,
          1526.312,
          12323.936,
          10072.05505,
          9872.701,
          2438.0552,
          2974.126,
          10601.63225,
          14119.62,
          11729.6795,
          1875.344,
          18218.16139,
          10965.446,
          7151.092,
          12269.68865,
          5458.04645,
          8782.469,
          6600.361,
          1141.4451,
          11576.13,
          13129.60345,
          4391.652,
          8457.818,
          3392.3652,
          5966.8874,
          6849.026,
          8891.1395,
          2690.1138,
          26140.3603,
          6653.7886,
          6282.235,
          6311.952,
          3443.064,
          2789.0574,
          2585.85065,
          4877.98105,
          5272.1758,
          1682.597,
          11945.1327,
          7243.8136,
          10422.91665,
          13555.0049,
          13063.883,
          2221.56445,
          1634.5734,
          2117.33885,
          8688.85885,
          4661.28635,
          8125.7845,
          12644.589,
          4564.19145,
          4846.92015,
          7633.7206,
          15170.069,
          2639.0429,
          14382.70905,
          7626.993,
          5257.50795,
          2473.3341,
          13041.921,
          5245.2269,
          13451.122,
          13462.52,
          5488.262,
          4320.41085,
          6250.435,
          25333.33284,
          2913.569,
          12032.326,
          13470.8044,
          6289.7549,
          2927.0647,
          6238.298,
          10096.97,
          7348.142,
          4673.3922,
          12233.828,
          32108.66282,
          8965.79575,
          2304.0022,
          9487.6442,
          1121.8739,
          9549.5651,
          2217.46915,
          1628.4709,
          12982.8747,
          11674.13,
          7160.094,
          6358.77645,
          11534.87265,
          4527.18295,
          3875.7341,
          12609.88702,
          28468.91901,
          2730.10785,
          3353.284,
          14474.675,
          9500.57305,
          26467.09737,
          4746.344,
          7518.02535,
          3279.86855,
          8596.8278,
          10702.6424,
          4992.3764,
          2527.81865,
          1759.338,
          2322.6218,
          7804.1605,
          2902.9065,
          9704.66805,
          4889.0368,
          25517.11363,
          4500.33925,
          16796.41194,
          4915.05985,
          7624.63,
          8410.04685,
          28340.18885,
          4518.82625,
          3378.91,
          7144.86265,
          10118.424,
          5484.4673,
          7986.47525,
          7418.522,
          13887.9685,
          6551.7501,
          5267.81815,
          1972.95,
          21232.18226,
          8627.5411,
          4433.3877,
          4438.2634,
          23241.47453,
          9957.7216,
          8269.044,
          36580.28216,
          8765.249,
          5383.536,
          12124.9924,
          2709.24395,
          3987.926,
          12495.29085,
          26018.95052,
          8798.593,
          1711.0268,
          8569.8618,
          2020.177,
          21595.38229,
          9850.432,
          6877.9801,
          4137.5227,
          12950.0712,
          12094.478,
          2250.8352,
          22493.65964,
          1704.70015,
          3161.454,
          11394.06555,
          7325.0482,
          3594.17085,
          8023.13545,
          14394.5579,
          9288.0267,
          3353.4703,
          10594.50155,
          8277.523,
          17929.30337,
          2480.9791,
          4462.7218,
          1981.5819,
          11554.2236,
          6548.19505,
          5708.867,
          7045.499,
          8978.1851,
          5757.41345,
          14349.8544,
          10928.849,
          13974.45555,
          1909.52745,
          12096.6512,
          13204.28565,
          4562.8421,
          8551.347,
          2102.2647,
          15161.5344,
          11884.04858,
          4454.40265,
          5855.9025,
          4076.497,
          15019.76005,
          10796.35025,
          11353.2276,
          9748.9106,
          10577.087,
          11286.5387,
          3591.48,
          11299.343,
          4561.1885,
          1674.6323,
          23045.56616,
          3227.1211,
          11253.421,
          3471.4096,
          11363.2832,
          20420.60465,
          10338.9316,
          8988.15875,
          10493.9458,
          2904.088,
          8605.3615,
          11512.405,
          5312.16985,
          2396.0959,
          10807.4863,
          9222.4026,
          5693.4305,
          8347.1643,
          18903.49141,
          14254.6082,
          10214.636,
          5836.5204,
          14358.36437,
          1728.897,
          8582.3023,
          3693.428,
          20709.02034,
          9991.03765,
          19673.33573,
          11085.5868,
          7623.518,
          3176.2877,
          3704.3545,
          9048.0273,
          7954.517,
          27117.99378,
          6338.0756,
          9630.397,
          11289.10925,
          2261.5688,
          10791.96,
          5979.731,
          2203.73595,
          12235.8392,
          5630.45785,
          11015.1747,
          7228.21565,
          14426.07385,
          2459.7201,
          3989.841,
          7727.2532,
          5124.1887,
          18963.17192,
          2200.83085,
          7153.5539,
          5227.98875,
          10982.5013,
          4529.477,
          4670.64,
          6112.35295,
          11093.6229,
          6457.8434,
          4433.9159,
          2154.361,
          6496.886,
          2899.48935,
          7650.77375,
          2850.68375,
          2632.992,
          9447.3824,
          8603.8234,
          13844.7972,
          13126.67745,
          5327.40025,
          13725.47184,
          13019.16105,
          8671.19125,
          4134.08245,
          18838.70366,
          5699.8375,
          6393.60345,
          4934.705,
          6198.7518,
          8733.22925,
          2055.3249,
          9964.06,
          5116.5004,
          36910.60803,
          12347.172,
          5373.36425,
          23563.01618,
          1702.4553,
          10806.839,
          3956.07145,
          12890.05765,
          5415.6612,
          4058.1161,
          7537.1639,
          4718.20355,
          6593.5083,
          8442.667,
          6858.4796,
          4795.6568,
          6640.54485,
          7162.0122,
          10594.2257,
          11938.25595,
          12479.70895,
          11345.519,
          8515.7587,
          2699.56835,
          14449.8544,
          12224.35085,
          6985.50695,
          3238.4357,
          4296.2712,
          3171.6149,
          1135.9407,
          5615.369,
          9101.798,
          6059.173,
          1633.9618,
          1241.565,
          15828.82173,
          4415.1588,
          6474.013,
          11436.73815,
          11305.93455,
          30063.58055,
          10197.7722,
          4544.2348,
          3277.161,
          6770.1925,
          7337.748,
          10370.91255,
          10704.47,
          1880.487,
          8615.3,
          3292.52985,
          3021.80915,
          14478.33015,
          4747.0529,
          10959.33,
          2741.948,
          4357.04365,
          4189.1131,
          8283.6807,
          1720.3537,
          8534.6718,
          3732.6251,
          5472.449,
          7147.4728,
          7133.9025,
          1515.3449,
          9301.89355,
          11931.12525,
          1964.78,
          1708.92575,
          4340.4409,
          5261.46945,
          2710.82855,
          3208.787,
          2464.6188,
          6875.961,
          6940.90985,
          4571.41305,
          4536.259,
          11272.33139,
          1731.677,
          1163.4627,
          19496.71917,
          7201.70085,
          5425.02335,
          12981.3457,
          4239.89265,
          13143.33665,
          7050.0213,
          9377.9047,
          22395.74424,
          10325.206,
          12629.1656,
          10795.93733,
          11411.685,
          10600.5483,
          2205.9808,
          1629.8335,
          2007.945
         ],
         "yaxis": "y"
        }
       ],
       "layout": {
        "font": {
         "color": "#303030"
        },
        "height": 600,
        "legend": {
         "itemsizing": "constant",
         "orientation": "h",
         "title": {
          "text": ""
         },
         "tracegroupgap": 0,
         "x": 1,
         "xanchor": "right",
         "y": 1.02,
         "yanchor": "bottom"
        },
        "template": {
         "data": {
          "bar": [
           {
            "error_x": {
             "color": "#2a3f5f"
            },
            "error_y": {
             "color": "#2a3f5f"
            },
            "marker": {
             "line": {
              "color": "white",
              "width": 0.5
             },
             "pattern": {
              "fillmode": "overlay",
              "size": 10,
              "solidity": 0.2
             }
            },
            "type": "bar"
           }
          ],
          "barpolar": [
           {
            "marker": {
             "line": {
              "color": "white",
              "width": 0.5
             },
             "pattern": {
              "fillmode": "overlay",
              "size": 10,
              "solidity": 0.2
             }
            },
            "type": "barpolar"
           }
          ],
          "carpet": [
           {
            "aaxis": {
             "endlinecolor": "#2a3f5f",
             "gridcolor": "#C8D4E3",
             "linecolor": "#C8D4E3",
             "minorgridcolor": "#C8D4E3",
             "startlinecolor": "#2a3f5f"
            },
            "baxis": {
             "endlinecolor": "#2a3f5f",
             "gridcolor": "#C8D4E3",
             "linecolor": "#C8D4E3",
             "minorgridcolor": "#C8D4E3",
             "startlinecolor": "#2a3f5f"
            },
            "type": "carpet"
           }
          ],
          "choropleth": [
           {
            "colorbar": {
             "outlinewidth": 0,
             "ticks": ""
            },
            "type": "choropleth"
           }
          ],
          "contour": [
           {
            "colorbar": {
             "outlinewidth": 0,
             "ticks": ""
            },
            "colorscale": [
             [
              0,
              "#0d0887"
             ],
             [
              0.1111111111111111,
              "#46039f"
             ],
             [
              0.2222222222222222,
              "#7201a8"
             ],
             [
              0.3333333333333333,
              "#9c179e"
             ],
             [
              0.4444444444444444,
              "#bd3786"
             ],
             [
              0.5555555555555556,
              "#d8576b"
             ],
             [
              0.6666666666666666,
              "#ed7953"
             ],
             [
              0.7777777777777778,
              "#fb9f3a"
             ],
             [
              0.8888888888888888,
              "#fdca26"
             ],
             [
              1,
              "#f0f921"
             ]
            ],
            "type": "contour"
           }
          ],
          "contourcarpet": [
           {
            "colorbar": {
             "outlinewidth": 0,
             "ticks": ""
            },
            "type": "contourcarpet"
           }
          ],
          "heatmap": [
           {
            "colorbar": {
             "outlinewidth": 0,
             "ticks": ""
            },
            "colorscale": [
             [
              0,
              "#0d0887"
             ],
             [
              0.1111111111111111,
              "#46039f"
             ],
             [
              0.2222222222222222,
              "#7201a8"
             ],
             [
              0.3333333333333333,
              "#9c179e"
             ],
             [
              0.4444444444444444,
              "#bd3786"
             ],
             [
              0.5555555555555556,
              "#d8576b"
             ],
             [
              0.6666666666666666,
              "#ed7953"
             ],
             [
              0.7777777777777778,
              "#fb9f3a"
             ],
             [
              0.8888888888888888,
              "#fdca26"
             ],
             [
              1,
              "#f0f921"
             ]
            ],
            "type": "heatmap"
           }
          ],
          "heatmapgl": [
           {
            "colorbar": {
             "outlinewidth": 0,
             "ticks": ""
            },
            "colorscale": [
             [
              0,
              "#0d0887"
             ],
             [
              0.1111111111111111,
              "#46039f"
             ],
             [
              0.2222222222222222,
              "#7201a8"
             ],
             [
              0.3333333333333333,
              "#9c179e"
             ],
             [
              0.4444444444444444,
              "#bd3786"
             ],
             [
              0.5555555555555556,
              "#d8576b"
             ],
             [
              0.6666666666666666,
              "#ed7953"
             ],
             [
              0.7777777777777778,
              "#fb9f3a"
             ],
             [
              0.8888888888888888,
              "#fdca26"
             ],
             [
              1,
              "#f0f921"
             ]
            ],
            "type": "heatmapgl"
           }
          ],
          "histogram": [
           {
            "marker": {
             "pattern": {
              "fillmode": "overlay",
              "size": 10,
              "solidity": 0.2
             }
            },
            "type": "histogram"
           }
          ],
          "histogram2d": [
           {
            "colorbar": {
             "outlinewidth": 0,
             "ticks": ""
            },
            "colorscale": [
             [
              0,
              "#0d0887"
             ],
             [
              0.1111111111111111,
              "#46039f"
             ],
             [
              0.2222222222222222,
              "#7201a8"
             ],
             [
              0.3333333333333333,
              "#9c179e"
             ],
             [
              0.4444444444444444,
              "#bd3786"
             ],
             [
              0.5555555555555556,
              "#d8576b"
             ],
             [
              0.6666666666666666,
              "#ed7953"
             ],
             [
              0.7777777777777778,
              "#fb9f3a"
             ],
             [
              0.8888888888888888,
              "#fdca26"
             ],
             [
              1,
              "#f0f921"
             ]
            ],
            "type": "histogram2d"
           }
          ],
          "histogram2dcontour": [
           {
            "colorbar": {
             "outlinewidth": 0,
             "ticks": ""
            },
            "colorscale": [
             [
              0,
              "#0d0887"
             ],
             [
              0.1111111111111111,
              "#46039f"
             ],
             [
              0.2222222222222222,
              "#7201a8"
             ],
             [
              0.3333333333333333,
              "#9c179e"
             ],
             [
              0.4444444444444444,
              "#bd3786"
             ],
             [
              0.5555555555555556,
              "#d8576b"
             ],
             [
              0.6666666666666666,
              "#ed7953"
             ],
             [
              0.7777777777777778,
              "#fb9f3a"
             ],
             [
              0.8888888888888888,
              "#fdca26"
             ],
             [
              1,
              "#f0f921"
             ]
            ],
            "type": "histogram2dcontour"
           }
          ],
          "mesh3d": [
           {
            "colorbar": {
             "outlinewidth": 0,
             "ticks": ""
            },
            "type": "mesh3d"
           }
          ],
          "parcoords": [
           {
            "line": {
             "colorbar": {
              "outlinewidth": 0,
              "ticks": ""
             }
            },
            "type": "parcoords"
           }
          ],
          "pie": [
           {
            "automargin": true,
            "type": "pie"
           }
          ],
          "scatter": [
           {
            "fillpattern": {
             "fillmode": "overlay",
             "size": 10,
             "solidity": 0.2
            },
            "type": "scatter"
           }
          ],
          "scatter3d": [
           {
            "line": {
             "colorbar": {
              "outlinewidth": 0,
              "ticks": ""
             }
            },
            "marker": {
             "colorbar": {
              "outlinewidth": 0,
              "ticks": ""
             }
            },
            "type": "scatter3d"
           }
          ],
          "scattercarpet": [
           {
            "marker": {
             "colorbar": {
              "outlinewidth": 0,
              "ticks": ""
             }
            },
            "type": "scattercarpet"
           }
          ],
          "scattergeo": [
           {
            "marker": {
             "colorbar": {
              "outlinewidth": 0,
              "ticks": ""
             }
            },
            "type": "scattergeo"
           }
          ],
          "scattergl": [
           {
            "marker": {
             "colorbar": {
              "outlinewidth": 0,
              "ticks": ""
             }
            },
            "type": "scattergl"
           }
          ],
          "scattermapbox": [
           {
            "marker": {
             "colorbar": {
              "outlinewidth": 0,
              "ticks": ""
             }
            },
            "type": "scattermapbox"
           }
          ],
          "scatterpolar": [
           {
            "marker": {
             "colorbar": {
              "outlinewidth": 0,
              "ticks": ""
             }
            },
            "type": "scatterpolar"
           }
          ],
          "scatterpolargl": [
           {
            "marker": {
             "colorbar": {
              "outlinewidth": 0,
              "ticks": ""
             }
            },
            "type": "scatterpolargl"
           }
          ],
          "scatterternary": [
           {
            "marker": {
             "colorbar": {
              "outlinewidth": 0,
              "ticks": ""
             }
            },
            "type": "scatterternary"
           }
          ],
          "surface": [
           {
            "colorbar": {
             "outlinewidth": 0,
             "ticks": ""
            },
            "colorscale": [
             [
              0,
              "#0d0887"
             ],
             [
              0.1111111111111111,
              "#46039f"
             ],
             [
              0.2222222222222222,
              "#7201a8"
             ],
             [
              0.3333333333333333,
              "#9c179e"
             ],
             [
              0.4444444444444444,
              "#bd3786"
             ],
             [
              0.5555555555555556,
              "#d8576b"
             ],
             [
              0.6666666666666666,
              "#ed7953"
             ],
             [
              0.7777777777777778,
              "#fb9f3a"
             ],
             [
              0.8888888888888888,
              "#fdca26"
             ],
             [
              1,
              "#f0f921"
             ]
            ],
            "type": "surface"
           }
          ],
          "table": [
           {
            "cells": {
             "fill": {
              "color": "#EBF0F8"
             },
             "line": {
              "color": "white"
             }
            },
            "header": {
             "fill": {
              "color": "#C8D4E3"
             },
             "line": {
              "color": "white"
             }
            },
            "type": "table"
           }
          ]
         },
         "layout": {
          "annotationdefaults": {
           "arrowcolor": "#2a3f5f",
           "arrowhead": 0,
           "arrowwidth": 1
          },
          "autotypenumbers": "strict",
          "coloraxis": {
           "colorbar": {
            "outlinewidth": 0,
            "ticks": ""
           }
          },
          "colorscale": {
           "diverging": [
            [
             0,
             "#8e0152"
            ],
            [
             0.1,
             "#c51b7d"
            ],
            [
             0.2,
             "#de77ae"
            ],
            [
             0.3,
             "#f1b6da"
            ],
            [
             0.4,
             "#fde0ef"
            ],
            [
             0.5,
             "#f7f7f7"
            ],
            [
             0.6,
             "#e6f5d0"
            ],
            [
             0.7,
             "#b8e186"
            ],
            [
             0.8,
             "#7fbc41"
            ],
            [
             0.9,
             "#4d9221"
            ],
            [
             1,
             "#276419"
            ]
           ],
           "sequential": [
            [
             0,
             "#0d0887"
            ],
            [
             0.1111111111111111,
             "#46039f"
            ],
            [
             0.2222222222222222,
             "#7201a8"
            ],
            [
             0.3333333333333333,
             "#9c179e"
            ],
            [
             0.4444444444444444,
             "#bd3786"
            ],
            [
             0.5555555555555556,
             "#d8576b"
            ],
            [
             0.6666666666666666,
             "#ed7953"
            ],
            [
             0.7777777777777778,
             "#fb9f3a"
            ],
            [
             0.8888888888888888,
             "#fdca26"
            ],
            [
             1,
             "#f0f921"
            ]
           ],
           "sequentialminus": [
            [
             0,
             "#0d0887"
            ],
            [
             0.1111111111111111,
             "#46039f"
            ],
            [
             0.2222222222222222,
             "#7201a8"
            ],
            [
             0.3333333333333333,
             "#9c179e"
            ],
            [
             0.4444444444444444,
             "#bd3786"
            ],
            [
             0.5555555555555556,
             "#d8576b"
            ],
            [
             0.6666666666666666,
             "#ed7953"
            ],
            [
             0.7777777777777778,
             "#fb9f3a"
            ],
            [
             0.8888888888888888,
             "#fdca26"
            ],
            [
             1,
             "#f0f921"
            ]
           ]
          },
          "colorway": [
           "#636efa",
           "#EF553B",
           "#00cc96",
           "#ab63fa",
           "#FFA15A",
           "#19d3f3",
           "#FF6692",
           "#B6E880",
           "#FF97FF",
           "#FECB52"
          ],
          "font": {
           "color": "#2a3f5f"
          },
          "geo": {
           "bgcolor": "white",
           "lakecolor": "white",
           "landcolor": "white",
           "showlakes": true,
           "showland": true,
           "subunitcolor": "#C8D4E3"
          },
          "hoverlabel": {
           "align": "left"
          },
          "hovermode": "closest",
          "mapbox": {
           "style": "light"
          },
          "paper_bgcolor": "white",
          "plot_bgcolor": "white",
          "polar": {
           "angularaxis": {
            "gridcolor": "#EBF0F8",
            "linecolor": "#EBF0F8",
            "ticks": ""
           },
           "bgcolor": "white",
           "radialaxis": {
            "gridcolor": "#EBF0F8",
            "linecolor": "#EBF0F8",
            "ticks": ""
           }
          },
          "scene": {
           "xaxis": {
            "backgroundcolor": "white",
            "gridcolor": "#DFE8F3",
            "gridwidth": 2,
            "linecolor": "#EBF0F8",
            "showbackground": true,
            "ticks": "",
            "zerolinecolor": "#EBF0F8"
           },
           "yaxis": {
            "backgroundcolor": "white",
            "gridcolor": "#DFE8F3",
            "gridwidth": 2,
            "linecolor": "#EBF0F8",
            "showbackground": true,
            "ticks": "",
            "zerolinecolor": "#EBF0F8"
           },
           "zaxis": {
            "backgroundcolor": "white",
            "gridcolor": "#DFE8F3",
            "gridwidth": 2,
            "linecolor": "#EBF0F8",
            "showbackground": true,
            "ticks": "",
            "zerolinecolor": "#EBF0F8"
           }
          },
          "shapedefaults": {
           "line": {
            "color": "#2a3f5f"
           }
          },
          "ternary": {
           "aaxis": {
            "gridcolor": "#DFE8F3",
            "linecolor": "#A2B1C6",
            "ticks": ""
           },
           "baxis": {
            "gridcolor": "#DFE8F3",
            "linecolor": "#A2B1C6",
            "ticks": ""
           },
           "bgcolor": "white",
           "caxis": {
            "gridcolor": "#DFE8F3",
            "linecolor": "#A2B1C6",
            "ticks": ""
           }
          },
          "title": {
           "x": 0.05
          },
          "xaxis": {
           "automargin": true,
           "gridcolor": "#EBF0F8",
           "linecolor": "#EBF0F8",
           "ticks": "",
           "title": {
            "standoff": 15
           },
           "zerolinecolor": "#EBF0F8",
           "zerolinewidth": 2
          },
          "yaxis": {
           "automargin": true,
           "gridcolor": "#EBF0F8",
           "linecolor": "#EBF0F8",
           "ticks": "",
           "title": {
            "standoff": 15
           },
           "zerolinecolor": "#EBF0F8",
           "zerolinewidth": 2
          }
         }
        },
        "title": {
         "text": "Insurance costs increase with Body Mass Index among Smokers"
        },
        "xaxis": {
         "anchor": "y",
         "domain": [
          0,
          1
         ],
         "showgrid": false,
         "title": {
          "text": "Body Mass Index (BMI)"
         }
        },
        "yaxis": {
         "anchor": "x",
         "domain": [
          0,
          1
         ],
         "linecolor": "#E5E5EA",
         "linewidth": 2,
         "showgrid": false,
         "showline": true,
         "title": {
          "text": "Claim Amount, $"
         },
         "zerolinecolor": "#E5E5EA"
        }
       }
      },
      "text/html": [
       "<div>                            <div id=\"af9b4eff-d2d9-4750-870b-aff5ac6f5fdb\" class=\"plotly-graph-div\" style=\"height:600px; width:100%;\"></div>            <script type=\"text/javascript\">                require([\"plotly\"], function(Plotly) {                    window.PLOTLYENV=window.PLOTLYENV || {};                                    if (document.getElementById(\"af9b4eff-d2d9-4750-870b-aff5ac6f5fdb\")) {                    Plotly.newPlot(                        \"af9b4eff-d2d9-4750-870b-aff5ac6f5fdb\",                        [{\"hovertemplate\":\"smoker=Smoker<br>bmi=%{x}<br>charges=%{marker.size}<extra></extra>\",\"legendgroup\":\"Smoker\",\"marker\":{\"color\":\"#B14B51\",\"size\":[16884.924,27808.7251,39611.7577,36837.467,37701.8768,38711.0,35585.576,51194.55914,39774.2763,48173.361,38709.176,23568.272,37742.5757,47496.49445,34303.1672,23244.7902,14711.7438,17663.1442,16577.7795,37165.1638,39836.519,21098.55405,43578.9394,30184.9367,47291.055,22412.6485,15820.699,30942.1918,17560.37975,47055.5321,19107.7796,39556.4945,17081.08,32734.1863,18972.495,20745.9891,40720.55105,19964.7463,21223.6758,15518.18025,36950.2567,21348.706,36149.4835,48824.45,43753.33705,37133.8982,20984.0936,34779.615,19515.5416,19444.2658,17352.6803,38511.6283,29523.1656,12829.4551,47305.305,44260.7499,41097.16175,43921.1837,33750.2918,17085.2676,24869.8368,36219.40545,46151.1245,17179.522,42856.838,22331.5668,48549.17835,47896.79135,42112.2356,16297.846,21978.6769,38746.3551,24873.3849,42124.5153,34838.873,35491.64,42760.5022,47928.03,48517.56315,24393.6224,41919.097,13844.506,36085.219,18033.9679,21659.9301,38126.2465,15006.57945,42303.69215,19594.80965,14455.64405,18608.262,28950.4692,46889.2612,46599.1084,39125.33225,37079.372,26109.32905,22144.032,19521.9682,25382.297,28868.6639,35147.52848,48885.13561,17942.106,36197.699,22218.1149,32548.3405,21082.16,38245.59327,48675.5177,63770.42801,23807.2406,45863.205,39983.42595,45702.02235,58571.07448,43943.8761,15359.1045,17468.9839,25678.77845,39241.442,42969.8527,23306.547,34439.8559,40182.246,34617.84065,42983.4585,20149.3229,32787.45859,24667.419,27037.9141,42560.4304,40003.33225,45710.20785,46200.9851,46130.5265,40103.89,34806.4677,40273.6455,44400.4064,40932.4295,16657.71745,19361.9988,40419.0191,36189.1017,44585.45587,18246.4955,43254.41795,19539.243,23065.4207,36307.7983,19040.876,17748.5062,18259.216,24520.264,21195.818,18310.742,17904.52705,38792.6856,23401.30575,55135.40209,43813.8661,20773.62775,39597.4072,36021.0112,27533.9129,45008.9555,37270.1512,42111.6647,24106.91255,40974.1649,15817.9857,46113.511,46255.1125,19719.6947,27218.43725,29330.98315,44202.6536,19798.05455,48673.5588,17496.306,33732.6867,21774.32215,35069.37452,39047.285,19933.458,47462.894,38998.546,20009.63365,41999.52,41034.2214,23967.38305,16138.76205,19199.944,14571.8908,16420.49455,17361.7661,34472.841,24915.22085,18767.7377,35595.5898,42211.1382,16450.8947,21677.28345,44423.803,13747.87235,37484.4493,39725.51805,20234.85475,33475.81715,21880.82,44501.3982,39727.614,25309.489,48970.2476,39871.7043,34672.1472,19023.26,41676.0811,33907.548,44641.1974,16776.30405,41949.2441,24180.9335,36124.5737,38282.7495,34166.273,46661.4424,40904.1995,36898.73308,52590.82939,40941.2854,39722.7462,17178.6824,22478.6,23887.6627,19350.3689,18328.2381,37465.34375,21771.3423,33307.5508,18223.4512,38415.474,20296.86345,41661.602,26125.67477,60021.39897,20167.33603,47269.854,49577.6624,37607.5277,18648.4217,16232.847,26926.5144,34254.05335,17043.3414,22462.04375,24535.69855,14283.4594,47403.88,38344.566,34828.654,62592.87309,46718.16325,37829.7242,21259.37795,16115.3045,21472.4788,33900.653,36397.576,18765.87545,28101.33305,43896.3763,29141.3603],\"sizemode\":\"area\",\"sizeref\":159.426070025,\"symbol\":\"circle\"},\"mode\":\"markers\",\"name\":\"Smoker\",\"showlegend\":true,\"x\":[27.9,26.29,42.13,35.3,31.92,36.3,35.6,36.4,36.67,39.9,35.2,28.0,34.43,36.955,31.68,22.88,22.42,23.98,24.75,37.62,34.8,22.895,31.16,29.83,31.3,19.95,19.3,29.92,28.025,35.09,27.94,31.35,28.3,17.765,25.3,28.69,30.495,23.37,24.42,25.175,35.53,26.6,36.85,37.7,41.895,36.08,27.74,34.8,24.64,22.22,29.07,36.67,27.74,17.29,32.2,34.21,31.825,33.63,31.92,26.84,24.32,36.955,42.35,19.8,34.2,28.12,40.565,36.765,45.54,27.7,25.41,34.39,22.61,35.97,31.4,30.8,36.48,33.8,36.385,27.36,32.3,21.7,32.9,28.31,24.89,40.15,17.955,30.685,20.235,17.195,22.6,26.98,33.88,35.86,32.775,33.5,26.695,30.0,28.38,25.1,28.31,28.5,38.06,25.7,34.4,23.21,30.25,28.3,26.07,42.13,47.41,25.84,46.2,34.105,40.565,38.095,30.21,21.85,28.31,23.655,37.8,36.63,25.6,33.11,34.1,33.535,38.95,26.41,28.31,25.3,22.99,38.06,32.775,32.015,43.89,31.35,35.3,31.13,35.75,38.06,39.05,21.755,24.42,38.39,31.73,35.5,29.15,34.105,26.4,27.83,38.17,27.1,28.88,24.4,27.6,20.9,28.5,24.795,42.24,26.125,35.53,31.79,28.025,30.78,32.78,29.81,32.45,30.78,35.53,23.845,33.11,24.13,47.6,37.05,28.93,28.975,26.885,38.94,20.045,40.92,24.6,31.73,26.885,22.895,34.2,29.7,42.9,30.2,27.835,30.8,34.96,24.795,22.895,25.9,20.52,20.045,22.99,32.7,28.215,20.13,31.02,36.08,26.03,23.655,35.2,21.565,37.07,30.495,28.025,30.685,24.7,52.58,30.9,29.8,41.14,37.07,31.68,18.3,36.19,30.4,34.96,19.095,38.39,25.85,33.33,35.75,31.4,36.86,42.75,32.49,32.8,32.56,44.88,27.36,26.7,24.13,29.81,28.49,35.625,25.27,30.02,27.28,33.4,25.555,34.6,24.42,34.485,21.8,41.8,36.96,33.63,29.83,27.3,23.76,31.065,27.06,29.925,27.645,21.66,36.3,39.4,34.9,30.36,30.875,27.8,24.605,21.85,28.12,30.2,34.7,23.655,26.695,40.37,29.07],\"xaxis\":\"x\",\"y\":[16884.924,27808.7251,39611.7577,36837.467,37701.8768,38711.0,35585.576,51194.55914,39774.2763,48173.361,38709.176,23568.272,37742.5757,47496.49445,34303.1672,23244.7902,14711.7438,17663.1442,16577.7795,37165.1638,39836.519,21098.55405,43578.9394,30184.9367,47291.055,22412.6485,15820.699,30942.1918,17560.37975,47055.5321,19107.7796,39556.4945,17081.08,32734.1863,18972.495,20745.9891,40720.55105,19964.7463,21223.6758,15518.18025,36950.2567,21348.706,36149.4835,48824.45,43753.33705,37133.8982,20984.0936,34779.615,19515.5416,19444.2658,17352.6803,38511.6283,29523.1656,12829.4551,47305.305,44260.7499,41097.16175,43921.1837,33750.2918,17085.2676,24869.8368,36219.40545,46151.1245,17179.522,42856.838,22331.5668,48549.17835,47896.79135,42112.2356,16297.846,21978.6769,38746.3551,24873.3849,42124.5153,34838.873,35491.64,42760.5022,47928.03,48517.56315,24393.6224,41919.097,13844.506,36085.219,18033.9679,21659.9301,38126.2465,15006.57945,42303.69215,19594.80965,14455.64405,18608.262,28950.4692,46889.2612,46599.1084,39125.33225,37079.372,26109.32905,22144.032,19521.9682,25382.297,28868.6639,35147.52848,48885.13561,17942.106,36197.699,22218.1149,32548.3405,21082.16,38245.59327,48675.5177,63770.42801,23807.2406,45863.205,39983.42595,45702.02235,58571.07448,43943.8761,15359.1045,17468.9839,25678.77845,39241.442,42969.8527,23306.547,34439.8559,40182.246,34617.84065,42983.4585,20149.3229,32787.45859,24667.419,27037.9141,42560.4304,40003.33225,45710.20785,46200.9851,46130.5265,40103.89,34806.4677,40273.6455,44400.4064,40932.4295,16657.71745,19361.9988,40419.0191,36189.1017,44585.45587,18246.4955,43254.41795,19539.243,23065.4207,36307.7983,19040.876,17748.5062,18259.216,24520.264,21195.818,18310.742,17904.52705,38792.6856,23401.30575,55135.40209,43813.8661,20773.62775,39597.4072,36021.0112,27533.9129,45008.9555,37270.1512,42111.6647,24106.91255,40974.1649,15817.9857,46113.511,46255.1125,19719.6947,27218.43725,29330.98315,44202.6536,19798.05455,48673.5588,17496.306,33732.6867,21774.32215,35069.37452,39047.285,19933.458,47462.894,38998.546,20009.63365,41999.52,41034.2214,23967.38305,16138.76205,19199.944,14571.8908,16420.49455,17361.7661,34472.841,24915.22085,18767.7377,35595.5898,42211.1382,16450.8947,21677.28345,44423.803,13747.87235,37484.4493,39725.51805,20234.85475,33475.81715,21880.82,44501.3982,39727.614,25309.489,48970.2476,39871.7043,34672.1472,19023.26,41676.0811,33907.548,44641.1974,16776.30405,41949.2441,24180.9335,36124.5737,38282.7495,34166.273,46661.4424,40904.1995,36898.73308,52590.82939,40941.2854,39722.7462,17178.6824,22478.6,23887.6627,19350.3689,18328.2381,37465.34375,21771.3423,33307.5508,18223.4512,38415.474,20296.86345,41661.602,26125.67477,60021.39897,20167.33603,47269.854,49577.6624,37607.5277,18648.4217,16232.847,26926.5144,34254.05335,17043.3414,22462.04375,24535.69855,14283.4594,47403.88,38344.566,34828.654,62592.87309,46718.16325,37829.7242,21259.37795,16115.3045,21472.4788,33900.653,36397.576,18765.87545,28101.33305,43896.3763,29141.3603],\"yaxis\":\"y\",\"type\":\"scattergl\"},{\"hovertemplate\":\"smoker=Non-Smoker<br>bmi=%{x}<br>charges=%{marker.size}<extra></extra>\",\"legendgroup\":\"Non-Smoker\",\"marker\":{\"color\":\"#B7A294\",\"size\":[1725.5523,4449.462,21984.47061,3866.8552,3756.6216,8240.5896,7281.5056,6406.4107,28923.13692,2721.3208,1826.843,11090.7178,1837.237,10797.3362,2395.17155,10602.385,13228.84695,4149.736,1137.011,6203.90175,14001.1338,14451.83515,12268.63225,2775.19215,2198.18985,4687.797,13770.0979,1625.43375,15612.19335,2302.3,3046.062,4949.7587,6272.4772,6313.759,6079.6715,20630.28351,3393.35635,3556.9223,12629.8967,2211.13075,3579.8287,8059.6791,13607.36875,5989.52365,8606.2174,4504.6624,30166.61817,4133.64165,1743.214,14235.072,6389.37785,5920.1041,6799.458,11741.726,11946.6259,7726.854,11356.6609,3947.4131,1532.4697,2755.02095,6571.02435,4441.21315,7935.29115,11033.6617,11073.176,8026.6666,11082.5772,2026.9741,10942.13205,5729.0053,3766.8838,12105.32,10226.2842,6186.127,3645.0894,21344.8467,5003.853,2331.519,3877.30425,2867.1196,10825.2537,11881.358,4646.759,2404.7338,11488.31695,30259.99556,11381.3254,8601.3293,6686.4313,7740.337,1705.6245,2257.47525,10115.00885,3385.39915,9634.538,6082.405,12815.44495,13616.3586,11163.568,1632.56445,2457.21115,2155.6815,1261.442,2045.68525,27322.73386,2166.732,27375.90478,3490.5491,18157.876,5138.2567,9877.6077,10959.6947,1842.519,5125.2157,7789.635,6334.34355,7077.1894,6948.7008,19749.38338,10450.552,5152.134,5028.1466,10407.08585,4830.63,6128.79745,2719.27975,4827.90495,13405.3903,8116.68,1694.7964,5246.047,2855.43755,6455.86265,10436.096,8823.279,8538.28845,11735.87905,1631.8212,4005.4225,7419.4779,7731.4271,3981.9768,5325.651,6775.961,4922.9159,12557.6053,4883.866,2137.6536,12044.342,1137.4697,1639.5631,5649.715,8516.829,9644.2525,14901.5167,2130.6759,8871.1517,13012.20865,7147.105,4337.7352,11743.299,13880.949,6610.1097,1980.07,8162.71625,3537.703,5002.7827,8520.026,7371.772,10355.641,2483.736,3392.9768,25081.76784,5012.471,10564.8845,5253.524,11987.1682,2689.4954,24227.33724,7358.17565,9225.2564,7443.64305,14001.2867,1727.785,12333.828,6710.1919,1615.7667,4463.2051,7152.6714,5354.07465,35160.13457,7196.867,24476.47851,12648.7034,1986.9334,1832.094,4040.55825,4260.744,13047.33235,5400.9805,11520.09985,11837.16,20462.99766,14590.63205,7441.053,9282.4806,1719.4363,7265.7025,9617.66245,2523.1695,9715.841,2803.69785,2150.469,12928.7911,9855.1314,4237.12655,11879.10405,9625.92,7742.1098,9432.9253,14256.1928,25992.82104,3172.018,20277.80751,2156.7518,3906.127,1704.5681,9249.4952,6746.7425,12265.5069,4349.462,12646.207,19442.3535,20177.67113,4151.0287,11944.59435,7749.1564,8444.474,1737.376,8124.4084,9722.7695,8835.26495,10435.06525,7421.19455,4667.60765,4894.7533,24671.66334,11566.30055,2866.091,6600.20595,3561.8889,9144.565,13429.0354,11658.37915,19144.57652,13822.803,12142.5786,13937.6665,8232.6388,18955.22017,13352.0998,13217.0945,13981.85035,10977.2063,6184.2994,4889.9995,8334.45755,5478.0368,1635.73365,11830.6072,8932.084,3554.203,12404.8791,14133.03775,24603.04837,8944.1151,9620.3307,1837.2819,1607.5101,10043.249,4751.07,2597.779,3180.5101,9778.3472,13430.265,8017.06115,8116.26885,3481.868,13415.0381,12029.2867,7639.41745,1391.5287,16455.70785,27000.98473,20781.48892,5846.9176,8302.53565,1261.859,11856.4115,30284.64294,3176.8159,4618.0799,10736.87075,2138.0707,8964.06055,9290.1395,9411.005,7526.70645,8522.003,16586.49771,14988.432,1631.6683,9264.797,8083.9198,14692.66935,10269.46,3260.199,11396.9002,4185.0979,8539.671,6652.5288,4074.4537,1621.3402,5080.096,2134.9015,7345.7266,9140.951,14418.2804,2727.3951,8968.33,9788.8659,6555.07035,7323.734819,3167.45585,18804.7524,23082.95533,4906.40965,5969.723,12638.195,4243.59005,13919.8229,2254.7967,5926.846,12592.5345,2897.3235,4738.2682,1149.3959,28287.89766,7345.084,12730.9996,11454.0215,5910.944,4762.329,7512.267,4032.2407,1969.614,1769.53165,4686.3887,21797.0004,11881.9696,11840.77505,10601.412,7682.67,10381.4787,15230.32405,11165.41765,1632.03625,13224.693,12643.3778,23288.9284,2201.0971,2497.0383,2203.47185,1744.465,20878.78443,2534.39375,1534.3045,1824.2854,15555.18875,9304.7019,1622.1885,9880.068,9563.029,4347.02335,12475.3513,1253.936,10461.9794,1748.774,24513.09126,2196.4732,12574.049,1967.0227,4931.647,8027.968,8211.1002,13470.86,6837.3687,5974.3847,6796.86325,2643.2685,3077.0955,3044.2133,11455.28,11763.0009,2498.4144,9361.3268,1256.299,11362.755,27724.28875,8413.46305,5240.765,3857.75925,25656.57526,3994.1778,9866.30485,5397.6167,11482.63485,24059.68019,9861.025,8342.90875,1708.0014,14043.4767,12925.886,19214.70553,13831.1152,6067.12675,5972.378,8825.086,8233.0975,27346.04207,6196.448,3056.3881,13887.204,10231.4999,3268.84665,11538.421,3213.62205,13390.559,3972.9247,12957.118,11187.6567,17878.90068,3847.674,8334.5896,3935.1799,1646.4297,9193.8385,10923.9332,2494.022,9058.7303,2801.2588,2128.43105,6373.55735,7256.7231,11552.904,3761.292,2219.4451,4753.6368,31620.00106,13224.05705,12222.8983,1664.9996,9724.53,3206.49135,12913.9924,1639.5631,6356.2707,17626.23951,1242.816,4779.6023,3861.20965,13635.6379,5976.8311,11842.442,8428.0693,2566.4707,5709.1644,8823.98575,7640.3092,5594.8455,7441.501,33471.97189,1633.0444,9174.13565,11070.535,16085.1275,9283.562,3558.62025,4435.0942,8547.6913,6571.544,2207.69745,6753.038,1880.07,11658.11505,10713.644,3659.346,9182.17,12129.61415,3736.4647,6748.5912,11326.71487,11365.952,10085.846,1977.815,3366.6697,7173.35995,9391.346,14410.9321,2709.1119,24915.04626,12949.1554,6666.243,13143.86485,4466.6214,18806.14547,10141.1362,6123.5688,8252.2843,1712.227,12430.95335,9800.8882,10579.711,8280.6227,8527.532,12244.531,3410.324,4058.71245,26392.26029,14394.39815,6435.6237,22192.43711,5148.5526,1136.3994,8703.456,6500.2359,4837.5823,3943.5954,4399.731,6185.3208,7222.78625,12485.8009,12363.547,10156.7832,2585.269,1242.26,9863.4718,4766.022,11244.3769,7729.64575,5438.7491,26236.57997,2104.1134,8068.185,2362.22905,2352.96845,3577.999,3201.24515,29186.48236,10976.24575,3500.6123,2020.5523,9541.69555,9504.3103,5385.3379,8930.93455,5375.038,10264.4421,6113.23105,5469.0066,1727.54,10107.2206,8310.83915,1984.4533,2457.502,12146.971,9566.9909,13112.6048,10848.1343,12231.6136,9875.6804,11264.541,12979.358,1263.249,10106.13425,6664.68595,2217.6012,6781.3542,10065.413,4234.927,9447.25035,14007.222,9583.8933,3484.331,8604.48365,3757.8448,8827.2099,9910.35985,11737.84884,1627.28245,8556.907,3062.50825,1906.35825,14210.53595,11833.7823,17128.42608,5031.26955,7985.815,5428.7277,3925.7582,2416.955,3070.8087,9095.06825,11842.62375,8062.764,7050.642,14319.031,6933.24225,27941.28758,11150.78,12797.20962,7261.741,10560.4917,6986.697,7448.40395,5934.3798,9869.8102,1146.7966,9386.1613,4350.5144,6414.178,12741.16745,1917.3184,5209.57885,13457.9608,5662.225,1252.407,2731.9122,7209.4918,4266.1658,4719.52405,11848.141,7046.7222,14313.8463,2103.08,1815.8759,7731.85785,28476.73499,2136.88225,1131.5066,3309.7926,9414.92,6360.9936,11013.7119,4428.88785,5584.3057,1877.9294,2842.76075,3597.596,7445.918,2680.9493,1621.8827,8219.2039,12523.6048,16069.08475,6117.4945,13393.756,5266.3656,4719.73655,11743.9341,5377.4578,7160.3303,4402.233,11657.7189,6402.29135,12622.1795,1526.312,12323.936,10072.05505,9872.701,2438.0552,2974.126,10601.63225,14119.62,11729.6795,1875.344,18218.16139,10965.446,7151.092,12269.68865,5458.04645,8782.469,6600.361,1141.4451,11576.13,13129.60345,4391.652,8457.818,3392.3652,5966.8874,6849.026,8891.1395,2690.1138,26140.3603,6653.7886,6282.235,6311.952,3443.064,2789.0574,2585.85065,4877.98105,5272.1758,1682.597,11945.1327,7243.8136,10422.91665,13555.0049,13063.883,2221.56445,1634.5734,2117.33885,8688.85885,4661.28635,8125.7845,12644.589,4564.19145,4846.92015,7633.7206,15170.069,2639.0429,14382.70905,7626.993,5257.50795,2473.3341,13041.921,5245.2269,13451.122,13462.52,5488.262,4320.41085,6250.435,25333.33284,2913.569,12032.326,13470.8044,6289.7549,2927.0647,6238.298,10096.97,7348.142,4673.3922,12233.828,32108.66282,8965.79575,2304.0022,9487.6442,1121.8739,9549.5651,2217.46915,1628.4709,12982.8747,11674.13,7160.094,6358.77645,11534.87265,4527.18295,3875.7341,12609.88702,28468.91901,2730.10785,3353.284,14474.675,9500.57305,26467.09737,4746.344,7518.02535,3279.86855,8596.8278,10702.6424,4992.3764,2527.81865,1759.338,2322.6218,7804.1605,2902.9065,9704.66805,4889.0368,25517.11363,4500.33925,16796.41194,4915.05985,7624.63,8410.04685,28340.18885,4518.82625,3378.91,7144.86265,10118.424,5484.4673,7986.47525,7418.522,13887.9685,6551.7501,5267.81815,1972.95,21232.18226,8627.5411,4433.3877,4438.2634,23241.47453,9957.7216,8269.044,36580.28216,8765.249,5383.536,12124.9924,2709.24395,3987.926,12495.29085,26018.95052,8798.593,1711.0268,8569.8618,2020.177,21595.38229,9850.432,6877.9801,4137.5227,12950.0712,12094.478,2250.8352,22493.65964,1704.70015,3161.454,11394.06555,7325.0482,3594.17085,8023.13545,14394.5579,9288.0267,3353.4703,10594.50155,8277.523,17929.30337,2480.9791,4462.7218,1981.5819,11554.2236,6548.19505,5708.867,7045.499,8978.1851,5757.41345,14349.8544,10928.849,13974.45555,1909.52745,12096.6512,13204.28565,4562.8421,8551.347,2102.2647,15161.5344,11884.04858,4454.40265,5855.9025,4076.497,15019.76005,10796.35025,11353.2276,9748.9106,10577.087,11286.5387,3591.48,11299.343,4561.1885,1674.6323,23045.56616,3227.1211,11253.421,3471.4096,11363.2832,20420.60465,10338.9316,8988.15875,10493.9458,2904.088,8605.3615,11512.405,5312.16985,2396.0959,10807.4863,9222.4026,5693.4305,8347.1643,18903.49141,14254.6082,10214.636,5836.5204,14358.36437,1728.897,8582.3023,3693.428,20709.02034,9991.03765,19673.33573,11085.5868,7623.518,3176.2877,3704.3545,9048.0273,7954.517,27117.99378,6338.0756,9630.397,11289.10925,2261.5688,10791.96,5979.731,2203.73595,12235.8392,5630.45785,11015.1747,7228.21565,14426.07385,2459.7201,3989.841,7727.2532,5124.1887,18963.17192,2200.83085,7153.5539,5227.98875,10982.5013,4529.477,4670.64,6112.35295,11093.6229,6457.8434,4433.9159,2154.361,6496.886,2899.48935,7650.77375,2850.68375,2632.992,9447.3824,8603.8234,13844.7972,13126.67745,5327.40025,13725.47184,13019.16105,8671.19125,4134.08245,18838.70366,5699.8375,6393.60345,4934.705,6198.7518,8733.22925,2055.3249,9964.06,5116.5004,36910.60803,12347.172,5373.36425,23563.01618,1702.4553,10806.839,3956.07145,12890.05765,5415.6612,4058.1161,7537.1639,4718.20355,6593.5083,8442.667,6858.4796,4795.6568,6640.54485,7162.0122,10594.2257,11938.25595,12479.70895,11345.519,8515.7587,2699.56835,14449.8544,12224.35085,6985.50695,3238.4357,4296.2712,3171.6149,1135.9407,5615.369,9101.798,6059.173,1633.9618,1241.565,15828.82173,4415.1588,6474.013,11436.73815,11305.93455,30063.58055,10197.7722,4544.2348,3277.161,6770.1925,7337.748,10370.91255,10704.47,1880.487,8615.3,3292.52985,3021.80915,14478.33015,4747.0529,10959.33,2741.948,4357.04365,4189.1131,8283.6807,1720.3537,8534.6718,3732.6251,5472.449,7147.4728,7133.9025,1515.3449,9301.89355,11931.12525,1964.78,1708.92575,4340.4409,5261.46945,2710.82855,3208.787,2464.6188,6875.961,6940.90985,4571.41305,4536.259,11272.33139,1731.677,1163.4627,19496.71917,7201.70085,5425.02335,12981.3457,4239.89265,13143.33665,7050.0213,9377.9047,22395.74424,10325.206,12629.1656,10795.93733,11411.685,10600.5483,2205.9808,1629.8335,2007.945],\"sizemode\":\"area\",\"sizeref\":159.426070025,\"symbol\":\"circle\"},\"mode\":\"markers\",\"name\":\"Non-Smoker\",\"showlegend\":true,\"x\":[33.77,33.0,22.705,28.88,25.74,33.44,27.74,29.83,25.84,26.22,34.4,39.82,24.6,30.78,23.845,40.3,36.005,32.4,34.1,28.025,27.72,23.085,32.775,17.385,26.315,28.6,28.31,20.425,32.965,20.8,26.6,36.63,21.78,30.8,37.05,37.3,38.665,34.77,24.53,35.625,33.63,28.69,31.825,37.335,27.36,33.66,24.7,25.935,28.9,39.1,26.315,36.19,28.5,28.1,32.01,27.4,34.01,29.59,35.53,39.805,32.965,26.885,38.285,41.23,27.2,27.74,26.98,39.49,24.795,34.77,37.62,30.8,38.28,31.6,25.46,30.115,27.5,28.4,30.875,27.94,33.63,29.7,30.8,35.72,32.205,28.595,49.06,27.17,23.37,37.1,23.75,28.975,33.915,28.785,37.4,34.7,26.505,22.04,35.9,25.555,28.785,28.05,34.1,25.175,31.9,36.0,22.42,32.49,29.735,38.83,37.73,37.43,28.4,24.13,29.7,37.145,25.46,39.52,27.83,39.6,29.8,29.64,28.215,37.0,33.155,31.825,18.905,41.47,30.3,15.96,34.8,33.345,27.835,29.2,28.9,33.155,28.595,38.28,19.95,26.41,30.69,29.92,30.9,32.2,32.11,31.57,26.2,25.74,26.6,34.43,30.59,32.8,28.6,18.05,39.33,32.11,32.23,24.035,22.3,28.88,26.4,31.8,41.23,33.0,30.875,28.5,26.73,30.9,37.1,26.6,23.1,29.92,23.21,33.7,33.25,30.8,33.88,38.06,41.91,31.635,25.46,36.195,27.83,17.8,27.5,24.51,26.73,38.39,38.06,22.135,26.8,35.3,30.02,38.06,35.86,20.9,28.975,30.3,25.365,40.15,24.415,25.2,38.06,32.395,30.2,25.84,29.37,37.05,27.455,27.55,26.6,20.615,24.3,31.79,21.56,27.645,32.395,31.2,26.62,48.07,26.22,26.4,33.4,29.64,28.82,26.8,22.99,28.88,27.55,37.51,33.0,38.0,33.345,27.5,33.33,34.865,33.06,26.6,24.7,35.86,33.25,32.205,32.775,27.645,37.335,25.27,29.64,40.945,27.2,34.105,23.21,36.7,31.16,28.785,35.72,34.5,25.74,27.55,27.72,27.6,30.02,27.55,36.765,41.47,29.26,35.75,33.345,29.92,27.835,23.18,25.6,27.7,35.245,38.28,27.6,43.89,29.83,41.91,20.79,32.3,30.5,26.4,21.89,30.78,32.3,24.985,32.015,30.4,21.09,22.23,33.155,33.33,30.115,31.46,33.0,43.34,22.135,34.4,39.05,25.365,22.61,30.21,35.625,37.43,31.445,31.35,32.3,19.855,34.4,31.02,25.6,38.17,20.6,47.52,32.965,32.3,20.4,38.38,24.31,23.6,21.12,30.03,17.48,23.9,35.15,35.64,34.1,39.16,30.59,30.2,24.31,27.265,29.165,16.815,30.4,33.1,20.235,26.9,30.5,28.595,33.11,31.73,28.9,46.75,29.45,32.68,43.01,36.52,33.1,29.64,25.65,29.6,38.6,29.6,24.13,23.4,29.735,46.53,37.4,30.14,30.495,39.6,33.0,36.63,38.095,25.935,25.175,28.7,33.82,24.32,24.09,32.67,30.115,29.8,33.345,35.625,36.85,32.56,41.325,37.51,31.35,39.5,34.3,31.065,21.47,28.7,31.16,32.9,25.08,25.08,43.4,27.93,23.6,28.7,23.98,39.2,26.03,28.93,30.875,31.35,23.75,25.27,28.7,32.11,33.66,22.42,30.4,35.7,35.31,30.495,31.0,30.875,27.36,44.22,33.915,37.73,33.88,30.59,25.8,39.425,25.46,31.73,29.7,36.19,40.48,28.025,38.9,30.2,28.05,31.35,38.0,31.79,36.3,30.21,35.435,46.7,28.595,30.8,28.93,21.4,31.73,41.325,23.8,33.44,34.21,35.53,19.95,32.68,30.5,44.77,32.12,30.495,40.565,30.59,31.9,29.1,37.29,43.12,36.86,34.295,27.17,26.84,30.2,23.465,25.46,30.59,45.43,23.65,20.7,28.27,20.235,35.91,30.69,29.0,19.57,31.13,40.26,33.725,29.48,33.25,32.6,37.525,39.16,31.635,25.3,39.05,34.1,25.175,26.98,29.37,34.8,33.155,19.0,33.0,28.595,37.1,31.4,21.3,28.785,26.03,28.88,42.46,38.0,36.1,29.3,35.53,22.705,39.7,38.19,24.51,38.095,33.66,42.4,33.915,34.96,35.31,30.78,26.22,23.37,28.5,32.965,42.68,39.6,31.13,36.3,35.2,42.4,33.155,35.91,28.785,46.53,23.98,31.54,33.66,28.7,29.81,31.57,31.16,29.7,31.02,21.375,40.81,36.1,23.18,17.4,20.3,24.32,18.5,26.41,26.125,41.69,24.1,27.36,36.2,32.395,23.655,34.8,40.185,32.3,33.725,39.27,34.87,44.745,41.47,26.41,29.545,32.9,28.69,30.495,27.74,35.2,23.54,30.685,40.47,22.6,28.9,22.61,24.32,36.67,33.44,40.66,36.6,37.4,35.4,27.075,28.405,40.28,36.08,21.4,30.1,27.265,32.1,34.77,23.7,24.035,26.62,26.41,30.115,27.0,21.755,36.0,30.875,28.975,37.905,22.77,33.63,27.645,22.8,37.43,34.58,35.2,26.03,25.175,31.825,32.3,29.0,39.7,19.475,36.1,26.7,36.48,34.2,33.33,32.3,39.805,34.32,28.88,41.14,35.97,29.26,27.7,36.955,36.86,22.515,29.92,41.8,27.6,23.18,31.92,44.22,22.895,33.1,26.18,35.97,22.3,26.51,35.815,41.42,36.575,30.14,25.84,30.8,42.94,21.01,22.515,34.43,31.46,24.225,37.1,33.7,17.67,31.13,29.81,24.32,31.825,21.85,33.1,25.84,23.845,34.39,33.82,35.97,31.5,28.31,23.465,31.35,31.1,24.7,30.495,34.2,50.38,24.1,32.775,32.3,23.75,29.6,32.23,28.1,28.0,33.535,19.855,25.4,29.9,37.29,43.7,23.655,24.3,36.2,29.48,24.86,30.1,21.85,28.12,27.1,33.44,28.8,29.5,34.8,27.36,22.135,26.695,30.02,39.5,33.63,29.04,24.035,32.11,44.0,25.555,40.26,22.515,22.515,27.265,36.85,35.1,29.355,32.585,32.34,39.8,28.31,26.695,27.5,24.605,33.99,28.2,34.21,25.0,33.2,31.0,35.815,23.2,32.11,23.4,20.1,39.16,34.21,46.53,32.5,25.8,35.3,37.18,27.5,29.735,24.225,26.18,29.48,23.21,46.09,40.185,22.61,39.93,35.8,35.8,31.255,18.335,28.405,39.49,26.79,36.67,39.615,25.9,35.2,24.795,36.765,27.1,25.365,25.745,34.32,28.16,23.56,20.235,40.5,35.42,40.15,29.15,39.995,29.92,25.46,21.375,30.59,30.115,25.8,30.115,27.645,34.675,19.8,27.835,31.6,28.27,23.275,34.1,36.85,36.29,26.885,25.8,29.6,19.19,31.73,29.26,24.985,27.74,22.8,33.33,32.3,27.6,25.46,24.605,34.2,35.815,32.68,37.0,23.32,45.32,34.6,18.715,31.6,17.29,27.93,38.38,23.0,28.88,27.265,23.085,25.8,35.245,25.08,22.515,36.955,26.41,29.83,21.47,27.645,28.9,31.79,39.49,33.82,32.01,27.94,28.595,25.6,25.3,37.29,42.655,21.66,31.9,31.445,31.255,28.88,18.335,29.59,32.0,26.03,33.66,21.78,27.835,19.95,31.5,30.495,28.975,31.54,47.74,22.1,29.83,32.7,33.7,31.35,33.77,30.875,33.99,28.6,38.94,36.08,29.8,31.24,29.925,26.22,30.0,20.35,32.3,26.315,24.51,32.67,29.64,19.95,38.17,32.395,25.08,29.9,35.86,32.8,18.6,23.87,45.9,40.28,18.335,33.82,28.12,25.0,22.23,30.25,37.07,32.6,24.86,32.34,32.3,32.775,31.92,21.5,34.1,30.305,36.48,35.815,27.93,22.135,23.18,30.59,41.1,34.58,42.13,38.83,28.215,28.31,26.125,40.37,24.6,35.2,34.105,41.91,29.26,32.11,27.1,27.4,34.865,41.325,29.925,30.3,27.36,23.56,32.68,28.0,32.775,21.755,32.395,36.575,21.755,27.93,33.55,29.355,25.8,24.32,40.375,32.11,32.3,17.86,34.8,37.1,30.875,34.1,21.47,33.3,31.255,39.14,25.08,37.29,30.21,21.945,24.97,25.3,23.94,39.82,16.815,37.18,34.43,30.305,24.605,23.3,27.83,31.065,21.66,28.215,22.705,42.13,21.28,33.11,33.33,24.3,25.7,29.4,39.82,19.8,29.3,27.72,37.9,36.385,27.645,37.715,23.18,20.52,37.1,28.05,29.9,33.345,30.5,33.3,27.5,33.915,34.485,25.52,27.61,23.7,30.4,29.735,26.79,33.33,30.03,24.32,17.29,25.9,34.32,19.95,23.21,25.745,25.175,22.0,26.125,26.51,27.455,25.745,20.8,27.72,32.2,26.315,26.695,42.9,28.31,20.6,53.13,39.71,26.315,31.065,38.83,25.935,33.535,32.87,30.03,24.225,38.6,25.74,33.4,44.7,30.97,31.92,36.85,25.8],\"xaxis\":\"x\",\"y\":[1725.5523,4449.462,21984.47061,3866.8552,3756.6216,8240.5896,7281.5056,6406.4107,28923.13692,2721.3208,1826.843,11090.7178,1837.237,10797.3362,2395.17155,10602.385,13228.84695,4149.736,1137.011,6203.90175,14001.1338,14451.83515,12268.63225,2775.19215,2198.18985,4687.797,13770.0979,1625.43375,15612.19335,2302.3,3046.062,4949.7587,6272.4772,6313.759,6079.6715,20630.28351,3393.35635,3556.9223,12629.8967,2211.13075,3579.8287,8059.6791,13607.36875,5989.52365,8606.2174,4504.6624,30166.61817,4133.64165,1743.214,14235.072,6389.37785,5920.1041,6799.458,11741.726,11946.6259,7726.854,11356.6609,3947.4131,1532.4697,2755.02095,6571.02435,4441.21315,7935.29115,11033.6617,11073.176,8026.6666,11082.5772,2026.9741,10942.13205,5729.0053,3766.8838,12105.32,10226.2842,6186.127,3645.0894,21344.8467,5003.853,2331.519,3877.30425,2867.1196,10825.2537,11881.358,4646.759,2404.7338,11488.31695,30259.99556,11381.3254,8601.3293,6686.4313,7740.337,1705.6245,2257.47525,10115.00885,3385.39915,9634.538,6082.405,12815.44495,13616.3586,11163.568,1632.56445,2457.21115,2155.6815,1261.442,2045.68525,27322.73386,2166.732,27375.90478,3490.5491,18157.876,5138.2567,9877.6077,10959.6947,1842.519,5125.2157,7789.635,6334.34355,7077.1894,6948.7008,19749.38338,10450.552,5152.134,5028.1466,10407.08585,4830.63,6128.79745,2719.27975,4827.90495,13405.3903,8116.68,1694.7964,5246.047,2855.43755,6455.86265,10436.096,8823.279,8538.28845,11735.87905,1631.8212,4005.4225,7419.4779,7731.4271,3981.9768,5325.651,6775.961,4922.9159,12557.6053,4883.866,2137.6536,12044.342,1137.4697,1639.5631,5649.715,8516.829,9644.2525,14901.5167,2130.6759,8871.1517,13012.20865,7147.105,4337.7352,11743.299,13880.949,6610.1097,1980.07,8162.71625,3537.703,5002.7827,8520.026,7371.772,10355.641,2483.736,3392.9768,25081.76784,5012.471,10564.8845,5253.524,11987.1682,2689.4954,24227.33724,7358.17565,9225.2564,7443.64305,14001.2867,1727.785,12333.828,6710.1919,1615.7667,4463.2051,7152.6714,5354.07465,35160.13457,7196.867,24476.47851,12648.7034,1986.9334,1832.094,4040.55825,4260.744,13047.33235,5400.9805,11520.09985,11837.16,20462.99766,14590.63205,7441.053,9282.4806,1719.4363,7265.7025,9617.66245,2523.1695,9715.841,2803.69785,2150.469,12928.7911,9855.1314,4237.12655,11879.10405,9625.92,7742.1098,9432.9253,14256.1928,25992.82104,3172.018,20277.80751,2156.7518,3906.127,1704.5681,9249.4952,6746.7425,12265.5069,4349.462,12646.207,19442.3535,20177.67113,4151.0287,11944.59435,7749.1564,8444.474,1737.376,8124.4084,9722.7695,8835.26495,10435.06525,7421.19455,4667.60765,4894.7533,24671.66334,11566.30055,2866.091,6600.20595,3561.8889,9144.565,13429.0354,11658.37915,19144.57652,13822.803,12142.5786,13937.6665,8232.6388,18955.22017,13352.0998,13217.0945,13981.85035,10977.2063,6184.2994,4889.9995,8334.45755,5478.0368,1635.73365,11830.6072,8932.084,3554.203,12404.8791,14133.03775,24603.04837,8944.1151,9620.3307,1837.2819,1607.5101,10043.249,4751.07,2597.779,3180.5101,9778.3472,13430.265,8017.06115,8116.26885,3481.868,13415.0381,12029.2867,7639.41745,1391.5287,16455.70785,27000.98473,20781.48892,5846.9176,8302.53565,1261.859,11856.4115,30284.64294,3176.8159,4618.0799,10736.87075,2138.0707,8964.06055,9290.1395,9411.005,7526.70645,8522.003,16586.49771,14988.432,1631.6683,9264.797,8083.9198,14692.66935,10269.46,3260.199,11396.9002,4185.0979,8539.671,6652.5288,4074.4537,1621.3402,5080.096,2134.9015,7345.7266,9140.951,14418.2804,2727.3951,8968.33,9788.8659,6555.07035,7323.734819,3167.45585,18804.7524,23082.95533,4906.40965,5969.723,12638.195,4243.59005,13919.8229,2254.7967,5926.846,12592.5345,2897.3235,4738.2682,1149.3959,28287.89766,7345.084,12730.9996,11454.0215,5910.944,4762.329,7512.267,4032.2407,1969.614,1769.53165,4686.3887,21797.0004,11881.9696,11840.77505,10601.412,7682.67,10381.4787,15230.32405,11165.41765,1632.03625,13224.693,12643.3778,23288.9284,2201.0971,2497.0383,2203.47185,1744.465,20878.78443,2534.39375,1534.3045,1824.2854,15555.18875,9304.7019,1622.1885,9880.068,9563.029,4347.02335,12475.3513,1253.936,10461.9794,1748.774,24513.09126,2196.4732,12574.049,1967.0227,4931.647,8027.968,8211.1002,13470.86,6837.3687,5974.3847,6796.86325,2643.2685,3077.0955,3044.2133,11455.28,11763.0009,2498.4144,9361.3268,1256.299,11362.755,27724.28875,8413.46305,5240.765,3857.75925,25656.57526,3994.1778,9866.30485,5397.6167,11482.63485,24059.68019,9861.025,8342.90875,1708.0014,14043.4767,12925.886,19214.70553,13831.1152,6067.12675,5972.378,8825.086,8233.0975,27346.04207,6196.448,3056.3881,13887.204,10231.4999,3268.84665,11538.421,3213.62205,13390.559,3972.9247,12957.118,11187.6567,17878.90068,3847.674,8334.5896,3935.1799,1646.4297,9193.8385,10923.9332,2494.022,9058.7303,2801.2588,2128.43105,6373.55735,7256.7231,11552.904,3761.292,2219.4451,4753.6368,31620.00106,13224.05705,12222.8983,1664.9996,9724.53,3206.49135,12913.9924,1639.5631,6356.2707,17626.23951,1242.816,4779.6023,3861.20965,13635.6379,5976.8311,11842.442,8428.0693,2566.4707,5709.1644,8823.98575,7640.3092,5594.8455,7441.501,33471.97189,1633.0444,9174.13565,11070.535,16085.1275,9283.562,3558.62025,4435.0942,8547.6913,6571.544,2207.69745,6753.038,1880.07,11658.11505,10713.644,3659.346,9182.17,12129.61415,3736.4647,6748.5912,11326.71487,11365.952,10085.846,1977.815,3366.6697,7173.35995,9391.346,14410.9321,2709.1119,24915.04626,12949.1554,6666.243,13143.86485,4466.6214,18806.14547,10141.1362,6123.5688,8252.2843,1712.227,12430.95335,9800.8882,10579.711,8280.6227,8527.532,12244.531,3410.324,4058.71245,26392.26029,14394.39815,6435.6237,22192.43711,5148.5526,1136.3994,8703.456,6500.2359,4837.5823,3943.5954,4399.731,6185.3208,7222.78625,12485.8009,12363.547,10156.7832,2585.269,1242.26,9863.4718,4766.022,11244.3769,7729.64575,5438.7491,26236.57997,2104.1134,8068.185,2362.22905,2352.96845,3577.999,3201.24515,29186.48236,10976.24575,3500.6123,2020.5523,9541.69555,9504.3103,5385.3379,8930.93455,5375.038,10264.4421,6113.23105,5469.0066,1727.54,10107.2206,8310.83915,1984.4533,2457.502,12146.971,9566.9909,13112.6048,10848.1343,12231.6136,9875.6804,11264.541,12979.358,1263.249,10106.13425,6664.68595,2217.6012,6781.3542,10065.413,4234.927,9447.25035,14007.222,9583.8933,3484.331,8604.48365,3757.8448,8827.2099,9910.35985,11737.84884,1627.28245,8556.907,3062.50825,1906.35825,14210.53595,11833.7823,17128.42608,5031.26955,7985.815,5428.7277,3925.7582,2416.955,3070.8087,9095.06825,11842.62375,8062.764,7050.642,14319.031,6933.24225,27941.28758,11150.78,12797.20962,7261.741,10560.4917,6986.697,7448.40395,5934.3798,9869.8102,1146.7966,9386.1613,4350.5144,6414.178,12741.16745,1917.3184,5209.57885,13457.9608,5662.225,1252.407,2731.9122,7209.4918,4266.1658,4719.52405,11848.141,7046.7222,14313.8463,2103.08,1815.8759,7731.85785,28476.73499,2136.88225,1131.5066,3309.7926,9414.92,6360.9936,11013.7119,4428.88785,5584.3057,1877.9294,2842.76075,3597.596,7445.918,2680.9493,1621.8827,8219.2039,12523.6048,16069.08475,6117.4945,13393.756,5266.3656,4719.73655,11743.9341,5377.4578,7160.3303,4402.233,11657.7189,6402.29135,12622.1795,1526.312,12323.936,10072.05505,9872.701,2438.0552,2974.126,10601.63225,14119.62,11729.6795,1875.344,18218.16139,10965.446,7151.092,12269.68865,5458.04645,8782.469,6600.361,1141.4451,11576.13,13129.60345,4391.652,8457.818,3392.3652,5966.8874,6849.026,8891.1395,2690.1138,26140.3603,6653.7886,6282.235,6311.952,3443.064,2789.0574,2585.85065,4877.98105,5272.1758,1682.597,11945.1327,7243.8136,10422.91665,13555.0049,13063.883,2221.56445,1634.5734,2117.33885,8688.85885,4661.28635,8125.7845,12644.589,4564.19145,4846.92015,7633.7206,15170.069,2639.0429,14382.70905,7626.993,5257.50795,2473.3341,13041.921,5245.2269,13451.122,13462.52,5488.262,4320.41085,6250.435,25333.33284,2913.569,12032.326,13470.8044,6289.7549,2927.0647,6238.298,10096.97,7348.142,4673.3922,12233.828,32108.66282,8965.79575,2304.0022,9487.6442,1121.8739,9549.5651,2217.46915,1628.4709,12982.8747,11674.13,7160.094,6358.77645,11534.87265,4527.18295,3875.7341,12609.88702,28468.91901,2730.10785,3353.284,14474.675,9500.57305,26467.09737,4746.344,7518.02535,3279.86855,8596.8278,10702.6424,4992.3764,2527.81865,1759.338,2322.6218,7804.1605,2902.9065,9704.66805,4889.0368,25517.11363,4500.33925,16796.41194,4915.05985,7624.63,8410.04685,28340.18885,4518.82625,3378.91,7144.86265,10118.424,5484.4673,7986.47525,7418.522,13887.9685,6551.7501,5267.81815,1972.95,21232.18226,8627.5411,4433.3877,4438.2634,23241.47453,9957.7216,8269.044,36580.28216,8765.249,5383.536,12124.9924,2709.24395,3987.926,12495.29085,26018.95052,8798.593,1711.0268,8569.8618,2020.177,21595.38229,9850.432,6877.9801,4137.5227,12950.0712,12094.478,2250.8352,22493.65964,1704.70015,3161.454,11394.06555,7325.0482,3594.17085,8023.13545,14394.5579,9288.0267,3353.4703,10594.50155,8277.523,17929.30337,2480.9791,4462.7218,1981.5819,11554.2236,6548.19505,5708.867,7045.499,8978.1851,5757.41345,14349.8544,10928.849,13974.45555,1909.52745,12096.6512,13204.28565,4562.8421,8551.347,2102.2647,15161.5344,11884.04858,4454.40265,5855.9025,4076.497,15019.76005,10796.35025,11353.2276,9748.9106,10577.087,11286.5387,3591.48,11299.343,4561.1885,1674.6323,23045.56616,3227.1211,11253.421,3471.4096,11363.2832,20420.60465,10338.9316,8988.15875,10493.9458,2904.088,8605.3615,11512.405,5312.16985,2396.0959,10807.4863,9222.4026,5693.4305,8347.1643,18903.49141,14254.6082,10214.636,5836.5204,14358.36437,1728.897,8582.3023,3693.428,20709.02034,9991.03765,19673.33573,11085.5868,7623.518,3176.2877,3704.3545,9048.0273,7954.517,27117.99378,6338.0756,9630.397,11289.10925,2261.5688,10791.96,5979.731,2203.73595,12235.8392,5630.45785,11015.1747,7228.21565,14426.07385,2459.7201,3989.841,7727.2532,5124.1887,18963.17192,2200.83085,7153.5539,5227.98875,10982.5013,4529.477,4670.64,6112.35295,11093.6229,6457.8434,4433.9159,2154.361,6496.886,2899.48935,7650.77375,2850.68375,2632.992,9447.3824,8603.8234,13844.7972,13126.67745,5327.40025,13725.47184,13019.16105,8671.19125,4134.08245,18838.70366,5699.8375,6393.60345,4934.705,6198.7518,8733.22925,2055.3249,9964.06,5116.5004,36910.60803,12347.172,5373.36425,23563.01618,1702.4553,10806.839,3956.07145,12890.05765,5415.6612,4058.1161,7537.1639,4718.20355,6593.5083,8442.667,6858.4796,4795.6568,6640.54485,7162.0122,10594.2257,11938.25595,12479.70895,11345.519,8515.7587,2699.56835,14449.8544,12224.35085,6985.50695,3238.4357,4296.2712,3171.6149,1135.9407,5615.369,9101.798,6059.173,1633.9618,1241.565,15828.82173,4415.1588,6474.013,11436.73815,11305.93455,30063.58055,10197.7722,4544.2348,3277.161,6770.1925,7337.748,10370.91255,10704.47,1880.487,8615.3,3292.52985,3021.80915,14478.33015,4747.0529,10959.33,2741.948,4357.04365,4189.1131,8283.6807,1720.3537,8534.6718,3732.6251,5472.449,7147.4728,7133.9025,1515.3449,9301.89355,11931.12525,1964.78,1708.92575,4340.4409,5261.46945,2710.82855,3208.787,2464.6188,6875.961,6940.90985,4571.41305,4536.259,11272.33139,1731.677,1163.4627,19496.71917,7201.70085,5425.02335,12981.3457,4239.89265,13143.33665,7050.0213,9377.9047,22395.74424,10325.206,12629.1656,10795.93733,11411.685,10600.5483,2205.9808,1629.8335,2007.945],\"yaxis\":\"y\",\"type\":\"scattergl\"}],                        {\"template\":{\"data\":{\"barpolar\":[{\"marker\":{\"line\":{\"color\":\"white\",\"width\":0.5},\"pattern\":{\"fillmode\":\"overlay\",\"size\":10,\"solidity\":0.2}},\"type\":\"barpolar\"}],\"bar\":[{\"error_x\":{\"color\":\"#2a3f5f\"},\"error_y\":{\"color\":\"#2a3f5f\"},\"marker\":{\"line\":{\"color\":\"white\",\"width\":0.5},\"pattern\":{\"fillmode\":\"overlay\",\"size\":10,\"solidity\":0.2}},\"type\":\"bar\"}],\"carpet\":[{\"aaxis\":{\"endlinecolor\":\"#2a3f5f\",\"gridcolor\":\"#C8D4E3\",\"linecolor\":\"#C8D4E3\",\"minorgridcolor\":\"#C8D4E3\",\"startlinecolor\":\"#2a3f5f\"},\"baxis\":{\"endlinecolor\":\"#2a3f5f\",\"gridcolor\":\"#C8D4E3\",\"linecolor\":\"#C8D4E3\",\"minorgridcolor\":\"#C8D4E3\",\"startlinecolor\":\"#2a3f5f\"},\"type\":\"carpet\"}],\"choropleth\":[{\"colorbar\":{\"outlinewidth\":0,\"ticks\":\"\"},\"type\":\"choropleth\"}],\"contourcarpet\":[{\"colorbar\":{\"outlinewidth\":0,\"ticks\":\"\"},\"type\":\"contourcarpet\"}],\"contour\":[{\"colorbar\":{\"outlinewidth\":0,\"ticks\":\"\"},\"colorscale\":[[0.0,\"#0d0887\"],[0.1111111111111111,\"#46039f\"],[0.2222222222222222,\"#7201a8\"],[0.3333333333333333,\"#9c179e\"],[0.4444444444444444,\"#bd3786\"],[0.5555555555555556,\"#d8576b\"],[0.6666666666666666,\"#ed7953\"],[0.7777777777777778,\"#fb9f3a\"],[0.8888888888888888,\"#fdca26\"],[1.0,\"#f0f921\"]],\"type\":\"contour\"}],\"heatmapgl\":[{\"colorbar\":{\"outlinewidth\":0,\"ticks\":\"\"},\"colorscale\":[[0.0,\"#0d0887\"],[0.1111111111111111,\"#46039f\"],[0.2222222222222222,\"#7201a8\"],[0.3333333333333333,\"#9c179e\"],[0.4444444444444444,\"#bd3786\"],[0.5555555555555556,\"#d8576b\"],[0.6666666666666666,\"#ed7953\"],[0.7777777777777778,\"#fb9f3a\"],[0.8888888888888888,\"#fdca26\"],[1.0,\"#f0f921\"]],\"type\":\"heatmapgl\"}],\"heatmap\":[{\"colorbar\":{\"outlinewidth\":0,\"ticks\":\"\"},\"colorscale\":[[0.0,\"#0d0887\"],[0.1111111111111111,\"#46039f\"],[0.2222222222222222,\"#7201a8\"],[0.3333333333333333,\"#9c179e\"],[0.4444444444444444,\"#bd3786\"],[0.5555555555555556,\"#d8576b\"],[0.6666666666666666,\"#ed7953\"],[0.7777777777777778,\"#fb9f3a\"],[0.8888888888888888,\"#fdca26\"],[1.0,\"#f0f921\"]],\"type\":\"heatmap\"}],\"histogram2dcontour\":[{\"colorbar\":{\"outlinewidth\":0,\"ticks\":\"\"},\"colorscale\":[[0.0,\"#0d0887\"],[0.1111111111111111,\"#46039f\"],[0.2222222222222222,\"#7201a8\"],[0.3333333333333333,\"#9c179e\"],[0.4444444444444444,\"#bd3786\"],[0.5555555555555556,\"#d8576b\"],[0.6666666666666666,\"#ed7953\"],[0.7777777777777778,\"#fb9f3a\"],[0.8888888888888888,\"#fdca26\"],[1.0,\"#f0f921\"]],\"type\":\"histogram2dcontour\"}],\"histogram2d\":[{\"colorbar\":{\"outlinewidth\":0,\"ticks\":\"\"},\"colorscale\":[[0.0,\"#0d0887\"],[0.1111111111111111,\"#46039f\"],[0.2222222222222222,\"#7201a8\"],[0.3333333333333333,\"#9c179e\"],[0.4444444444444444,\"#bd3786\"],[0.5555555555555556,\"#d8576b\"],[0.6666666666666666,\"#ed7953\"],[0.7777777777777778,\"#fb9f3a\"],[0.8888888888888888,\"#fdca26\"],[1.0,\"#f0f921\"]],\"type\":\"histogram2d\"}],\"histogram\":[{\"marker\":{\"pattern\":{\"fillmode\":\"overlay\",\"size\":10,\"solidity\":0.2}},\"type\":\"histogram\"}],\"mesh3d\":[{\"colorbar\":{\"outlinewidth\":0,\"ticks\":\"\"},\"type\":\"mesh3d\"}],\"parcoords\":[{\"line\":{\"colorbar\":{\"outlinewidth\":0,\"ticks\":\"\"}},\"type\":\"parcoords\"}],\"pie\":[{\"automargin\":true,\"type\":\"pie\"}],\"scatter3d\":[{\"line\":{\"colorbar\":{\"outlinewidth\":0,\"ticks\":\"\"}},\"marker\":{\"colorbar\":{\"outlinewidth\":0,\"ticks\":\"\"}},\"type\":\"scatter3d\"}],\"scattercarpet\":[{\"marker\":{\"colorbar\":{\"outlinewidth\":0,\"ticks\":\"\"}},\"type\":\"scattercarpet\"}],\"scattergeo\":[{\"marker\":{\"colorbar\":{\"outlinewidth\":0,\"ticks\":\"\"}},\"type\":\"scattergeo\"}],\"scattergl\":[{\"marker\":{\"colorbar\":{\"outlinewidth\":0,\"ticks\":\"\"}},\"type\":\"scattergl\"}],\"scattermapbox\":[{\"marker\":{\"colorbar\":{\"outlinewidth\":0,\"ticks\":\"\"}},\"type\":\"scattermapbox\"}],\"scatterpolargl\":[{\"marker\":{\"colorbar\":{\"outlinewidth\":0,\"ticks\":\"\"}},\"type\":\"scatterpolargl\"}],\"scatterpolar\":[{\"marker\":{\"colorbar\":{\"outlinewidth\":0,\"ticks\":\"\"}},\"type\":\"scatterpolar\"}],\"scatter\":[{\"fillpattern\":{\"fillmode\":\"overlay\",\"size\":10,\"solidity\":0.2},\"type\":\"scatter\"}],\"scatterternary\":[{\"marker\":{\"colorbar\":{\"outlinewidth\":0,\"ticks\":\"\"}},\"type\":\"scatterternary\"}],\"surface\":[{\"colorbar\":{\"outlinewidth\":0,\"ticks\":\"\"},\"colorscale\":[[0.0,\"#0d0887\"],[0.1111111111111111,\"#46039f\"],[0.2222222222222222,\"#7201a8\"],[0.3333333333333333,\"#9c179e\"],[0.4444444444444444,\"#bd3786\"],[0.5555555555555556,\"#d8576b\"],[0.6666666666666666,\"#ed7953\"],[0.7777777777777778,\"#fb9f3a\"],[0.8888888888888888,\"#fdca26\"],[1.0,\"#f0f921\"]],\"type\":\"surface\"}],\"table\":[{\"cells\":{\"fill\":{\"color\":\"#EBF0F8\"},\"line\":{\"color\":\"white\"}},\"header\":{\"fill\":{\"color\":\"#C8D4E3\"},\"line\":{\"color\":\"white\"}},\"type\":\"table\"}]},\"layout\":{\"annotationdefaults\":{\"arrowcolor\":\"#2a3f5f\",\"arrowhead\":0,\"arrowwidth\":1},\"autotypenumbers\":\"strict\",\"coloraxis\":{\"colorbar\":{\"outlinewidth\":0,\"ticks\":\"\"}},\"colorscale\":{\"diverging\":[[0,\"#8e0152\"],[0.1,\"#c51b7d\"],[0.2,\"#de77ae\"],[0.3,\"#f1b6da\"],[0.4,\"#fde0ef\"],[0.5,\"#f7f7f7\"],[0.6,\"#e6f5d0\"],[0.7,\"#b8e186\"],[0.8,\"#7fbc41\"],[0.9,\"#4d9221\"],[1,\"#276419\"]],\"sequential\":[[0.0,\"#0d0887\"],[0.1111111111111111,\"#46039f\"],[0.2222222222222222,\"#7201a8\"],[0.3333333333333333,\"#9c179e\"],[0.4444444444444444,\"#bd3786\"],[0.5555555555555556,\"#d8576b\"],[0.6666666666666666,\"#ed7953\"],[0.7777777777777778,\"#fb9f3a\"],[0.8888888888888888,\"#fdca26\"],[1.0,\"#f0f921\"]],\"sequentialminus\":[[0.0,\"#0d0887\"],[0.1111111111111111,\"#46039f\"],[0.2222222222222222,\"#7201a8\"],[0.3333333333333333,\"#9c179e\"],[0.4444444444444444,\"#bd3786\"],[0.5555555555555556,\"#d8576b\"],[0.6666666666666666,\"#ed7953\"],[0.7777777777777778,\"#fb9f3a\"],[0.8888888888888888,\"#fdca26\"],[1.0,\"#f0f921\"]]},\"colorway\":[\"#636efa\",\"#EF553B\",\"#00cc96\",\"#ab63fa\",\"#FFA15A\",\"#19d3f3\",\"#FF6692\",\"#B6E880\",\"#FF97FF\",\"#FECB52\"],\"font\":{\"color\":\"#2a3f5f\"},\"geo\":{\"bgcolor\":\"white\",\"lakecolor\":\"white\",\"landcolor\":\"white\",\"showlakes\":true,\"showland\":true,\"subunitcolor\":\"#C8D4E3\"},\"hoverlabel\":{\"align\":\"left\"},\"hovermode\":\"closest\",\"mapbox\":{\"style\":\"light\"},\"paper_bgcolor\":\"white\",\"plot_bgcolor\":\"white\",\"polar\":{\"angularaxis\":{\"gridcolor\":\"#EBF0F8\",\"linecolor\":\"#EBF0F8\",\"ticks\":\"\"},\"bgcolor\":\"white\",\"radialaxis\":{\"gridcolor\":\"#EBF0F8\",\"linecolor\":\"#EBF0F8\",\"ticks\":\"\"}},\"scene\":{\"xaxis\":{\"backgroundcolor\":\"white\",\"gridcolor\":\"#DFE8F3\",\"gridwidth\":2,\"linecolor\":\"#EBF0F8\",\"showbackground\":true,\"ticks\":\"\",\"zerolinecolor\":\"#EBF0F8\"},\"yaxis\":{\"backgroundcolor\":\"white\",\"gridcolor\":\"#DFE8F3\",\"gridwidth\":2,\"linecolor\":\"#EBF0F8\",\"showbackground\":true,\"ticks\":\"\",\"zerolinecolor\":\"#EBF0F8\"},\"zaxis\":{\"backgroundcolor\":\"white\",\"gridcolor\":\"#DFE8F3\",\"gridwidth\":2,\"linecolor\":\"#EBF0F8\",\"showbackground\":true,\"ticks\":\"\",\"zerolinecolor\":\"#EBF0F8\"}},\"shapedefaults\":{\"line\":{\"color\":\"#2a3f5f\"}},\"ternary\":{\"aaxis\":{\"gridcolor\":\"#DFE8F3\",\"linecolor\":\"#A2B1C6\",\"ticks\":\"\"},\"baxis\":{\"gridcolor\":\"#DFE8F3\",\"linecolor\":\"#A2B1C6\",\"ticks\":\"\"},\"bgcolor\":\"white\",\"caxis\":{\"gridcolor\":\"#DFE8F3\",\"linecolor\":\"#A2B1C6\",\"ticks\":\"\"}},\"title\":{\"x\":0.05},\"xaxis\":{\"automargin\":true,\"gridcolor\":\"#EBF0F8\",\"linecolor\":\"#EBF0F8\",\"ticks\":\"\",\"title\":{\"standoff\":15},\"zerolinecolor\":\"#EBF0F8\",\"zerolinewidth\":2},\"yaxis\":{\"automargin\":true,\"gridcolor\":\"#EBF0F8\",\"linecolor\":\"#EBF0F8\",\"ticks\":\"\",\"title\":{\"standoff\":15},\"zerolinecolor\":\"#EBF0F8\",\"zerolinewidth\":2}}},\"xaxis\":{\"anchor\":\"y\",\"domain\":[0.0,1.0],\"title\":{\"text\":\"Body Mass Index (BMI)\"},\"showgrid\":false},\"yaxis\":{\"anchor\":\"x\",\"domain\":[0.0,1.0],\"title\":{\"text\":\"Claim Amount, $\"},\"showgrid\":false,\"zerolinecolor\":\"#E5E5EA\",\"showline\":true,\"linecolor\":\"#E5E5EA\",\"linewidth\":2},\"legend\":{\"title\":{\"text\":\"\"},\"tracegroupgap\":0,\"itemsizing\":\"constant\",\"orientation\":\"h\",\"yanchor\":\"bottom\",\"y\":1.02,\"xanchor\":\"right\",\"x\":1},\"title\":{\"text\":\"Insurance costs increase with Body Mass Index among Smokers\"},\"height\":600,\"font\":{\"color\":\"#303030\"}},                        {\"responsive\": true}                    ).then(function(){\n",
       "                            \n",
       "var gd = document.getElementById('af9b4eff-d2d9-4750-870b-aff5ac6f5fdb');\n",
       "var x = new MutationObserver(function (mutations, observer) {{\n",
       "        var display = window.getComputedStyle(gd).display;\n",
       "        if (!display || display === 'none') {{\n",
       "            console.log([gd, 'removed!']);\n",
       "            Plotly.purge(gd);\n",
       "            observer.disconnect();\n",
       "        }}\n",
       "}});\n",
       "\n",
       "// Listen for the removal of the full notebook cells\n",
       "var notebookContainer = gd.closest('#notebook-container');\n",
       "if (notebookContainer) {{\n",
       "    x.observe(notebookContainer, {childList: true});\n",
       "}}\n",
       "\n",
       "// Listen for the clearing of the current output cell\n",
       "var outputEl = gd.closest('.output');\n",
       "if (outputEl) {{\n",
       "    x.observe(outputEl, {childList: true});\n",
       "}}\n",
       "\n",
       "                        })                };                });            </script>        </div>"
      ]
     },
     "metadata": {},
     "output_type": "display_data"
    }
   ],
   "source": [
    "fig = px.scatter(ins, x='bmi', y='charges', color='smoker', size='charges',\n",
    "                 title=\"Insurance costs increase with Body Mass Index among Smokers\",\n",
    "                 color_discrete_sequence=['#B14B51','#B7A294'],height=600)\n",
    "fig.update_layout(legend=dict(title='',orientation=\"h\", yanchor=\"bottom\", y=1.02, xanchor=\"right\", x=1),\n",
    "                  font_color=\"#303030\", xaxis=dict(title='Body Mass Index (BMI)',showgrid=False), \n",
    "                  yaxis=dict(title='Claim Amount, $',showgrid=False, zerolinecolor='#E5E5EA',\n",
    "                             showline=True, linecolor='#E5E5EA', linewidth=2))\n",
    "fig.show()"
   ]
  },
  {
   "cell_type": "markdown",
   "metadata": {},
   "source": [
    "In addition to age, claim amounts are positively correlated to body mass index. Among smokers, insurance charges tend to increase with BMI."
   ]
  },
  {
   "cell_type": "code",
   "execution_count": 9,
   "metadata": {
    "_kg_hide-input": true,
    "execution": {
     "iopub.execute_input": "2022-01-25T00:26:24.406687Z",
     "iopub.status.busy": "2022-01-25T00:26:24.406372Z",
     "iopub.status.idle": "2022-01-25T00:26:24.566603Z",
     "shell.execute_reply": "2022-01-25T00:26:24.565714Z",
     "shell.execute_reply.started": "2022-01-25T00:26:24.406658Z"
    }
   },
   "outputs": [
    {
     "data": {
      "application/vnd.plotly.v1+json": {
       "config": {
        "plotlyServerURL": "https://plot.ly"
       },
       "data": [
        {
         "alignmentgroup": "True",
         "hovertemplate": "sex=Female<br>smoker=Non-Smoker<br>region=%{x}<br>charges=%{text}<extra></extra>",
         "legendgroup": "Female",
         "marker": {
          "color": "#BFC5DA",
          "line": {
           "color": "#303030",
           "width": 1
          },
          "opacity": 0.85,
          "pattern": {
           "shape": ""
          }
         },
         "name": "Female",
         "offsetgroup": "Female",
         "orientation": "v",
         "showlegend": true,
         "text": [
          9640.426983553025,
          8786.99867866667,
          8440.205551942441,
          8234.091260141842
         ],
         "textposition": "outside",
         "texttemplate": "$%{text:,.0f}",
         "type": "bar",
         "x": [
          "Northeast",
          "Northwest",
          "Southeast",
          "Southwest"
         ],
         "xaxis": "x2",
         "y": [
          9640.426983553025,
          8786.99867866667,
          8440.205551942441,
          8234.091260141842
         ],
         "yaxis": "y2"
        },
        {
         "alignmentgroup": "True",
         "hovertemplate": "sex=Female<br>smoker=Smoker<br>region=%{x}<br>charges=%{text}<extra></extra>",
         "legendgroup": "Female",
         "marker": {
          "color": "#BFC5DA",
          "line": {
           "color": "#303030",
           "width": 1
          },
          "opacity": 0.85,
          "pattern": {
           "shape": ""
          }
         },
         "name": "Female",
         "offsetgroup": "Female",
         "orientation": "v",
         "showlegend": false,
         "text": [
          28032.04639758621,
          29670.824945517237,
          33034.82071638889,
          31687.988429999998
         ],
         "textposition": "outside",
         "texttemplate": "$%{text:,.0f}",
         "type": "bar",
         "x": [
          "Northeast",
          "Northwest",
          "Southeast",
          "Southwest"
         ],
         "xaxis": "x",
         "y": [
          28032.04639758621,
          29670.824945517237,
          33034.82071638889,
          31687.988429999998
         ],
         "yaxis": "y"
        },
        {
         "alignmentgroup": "True",
         "hovertemplate": "sex=Male<br>smoker=Non-Smoker<br>region=%{x}<br>charges=%{text}<extra></extra>",
         "legendgroup": "Male",
         "marker": {
          "color": "#5D6A92",
          "line": {
           "color": "#303030",
           "width": 1
          },
          "opacity": 0.85,
          "pattern": {
           "shape": ""
          }
         },
         "name": "Male",
         "offsetgroup": "Male",
         "orientation": "v",
         "showlegend": true,
         "text": [
          8664.042222400003,
          8320.689320757572,
          7609.003586716417,
          7778.9055342063475
         ],
         "textposition": "outside",
         "texttemplate": "$%{text:,.0f}",
         "type": "bar",
         "x": [
          "Northeast",
          "Northwest",
          "Southeast",
          "Southwest"
         ],
         "xaxis": "x2",
         "y": [
          8664.042222400003,
          8320.689320757572,
          7609.003586716417,
          7778.9055342063475
         ],
         "yaxis": "y2"
        },
        {
         "alignmentgroup": "True",
         "hovertemplate": "sex=Male<br>smoker=Smoker<br>region=%{x}<br>charges=%{text}<extra></extra>",
         "legendgroup": "Male",
         "marker": {
          "color": "#5D6A92",
          "line": {
           "color": "#303030",
           "width": 1
          },
          "opacity": 0.85,
          "pattern": {
           "shape": ""
          }
         },
         "name": "Male",
         "offsetgroup": "Male",
         "orientation": "v",
         "showlegend": false,
         "text": [
          30926.252582894744,
          30713.181419310342,
          36029.83936654546,
          32598.862854054067
         ],
         "textposition": "outside",
         "texttemplate": "$%{text:,.0f}",
         "type": "bar",
         "x": [
          "Northeast",
          "Northwest",
          "Southeast",
          "Southwest"
         ],
         "xaxis": "x",
         "y": [
          30926.252582894744,
          30713.181419310342,
          36029.83936654546,
          32598.862854054067
         ],
         "yaxis": "y"
        }
       ],
       "layout": {
        "annotations": [
         {
          "font": {},
          "showarrow": false,
          "text": "Smoker",
          "textangle": 90,
          "x": 0.98,
          "xanchor": "left",
          "xref": "paper",
          "y": 0.2425,
          "yanchor": "middle",
          "yref": "paper"
         },
         {
          "font": {},
          "showarrow": false,
          "text": "Non-Smoker",
          "textangle": 90,
          "x": 0.98,
          "xanchor": "left",
          "xref": "paper",
          "y": 0.7575000000000001,
          "yanchor": "middle",
          "yref": "paper"
         }
        ],
        "bargap": 0.2,
        "bargroupgap": 0.05,
        "barmode": "group",
        "font": {
         "color": "#303030"
        },
        "height": 800,
        "legend": {
         "orientation": "h",
         "title": {
          "text": ""
         },
         "tracegroupgap": 0,
         "x": 1,
         "xanchor": "right",
         "y": 1.02,
         "yanchor": "bottom"
        },
        "paper_bgcolor": "white",
        "plot_bgcolor": "white",
        "template": {
         "data": {
          "bar": [
           {
            "error_x": {
             "color": "#2a3f5f"
            },
            "error_y": {
             "color": "#2a3f5f"
            },
            "marker": {
             "line": {
              "color": "white",
              "width": 0.5
             },
             "pattern": {
              "fillmode": "overlay",
              "size": 10,
              "solidity": 0.2
             }
            },
            "type": "bar"
           }
          ],
          "barpolar": [
           {
            "marker": {
             "line": {
              "color": "white",
              "width": 0.5
             },
             "pattern": {
              "fillmode": "overlay",
              "size": 10,
              "solidity": 0.2
             }
            },
            "type": "barpolar"
           }
          ],
          "carpet": [
           {
            "aaxis": {
             "endlinecolor": "#2a3f5f",
             "gridcolor": "#C8D4E3",
             "linecolor": "#C8D4E3",
             "minorgridcolor": "#C8D4E3",
             "startlinecolor": "#2a3f5f"
            },
            "baxis": {
             "endlinecolor": "#2a3f5f",
             "gridcolor": "#C8D4E3",
             "linecolor": "#C8D4E3",
             "minorgridcolor": "#C8D4E3",
             "startlinecolor": "#2a3f5f"
            },
            "type": "carpet"
           }
          ],
          "choropleth": [
           {
            "colorbar": {
             "outlinewidth": 0,
             "ticks": ""
            },
            "type": "choropleth"
           }
          ],
          "contour": [
           {
            "colorbar": {
             "outlinewidth": 0,
             "ticks": ""
            },
            "colorscale": [
             [
              0,
              "#0d0887"
             ],
             [
              0.1111111111111111,
              "#46039f"
             ],
             [
              0.2222222222222222,
              "#7201a8"
             ],
             [
              0.3333333333333333,
              "#9c179e"
             ],
             [
              0.4444444444444444,
              "#bd3786"
             ],
             [
              0.5555555555555556,
              "#d8576b"
             ],
             [
              0.6666666666666666,
              "#ed7953"
             ],
             [
              0.7777777777777778,
              "#fb9f3a"
             ],
             [
              0.8888888888888888,
              "#fdca26"
             ],
             [
              1,
              "#f0f921"
             ]
            ],
            "type": "contour"
           }
          ],
          "contourcarpet": [
           {
            "colorbar": {
             "outlinewidth": 0,
             "ticks": ""
            },
            "type": "contourcarpet"
           }
          ],
          "heatmap": [
           {
            "colorbar": {
             "outlinewidth": 0,
             "ticks": ""
            },
            "colorscale": [
             [
              0,
              "#0d0887"
             ],
             [
              0.1111111111111111,
              "#46039f"
             ],
             [
              0.2222222222222222,
              "#7201a8"
             ],
             [
              0.3333333333333333,
              "#9c179e"
             ],
             [
              0.4444444444444444,
              "#bd3786"
             ],
             [
              0.5555555555555556,
              "#d8576b"
             ],
             [
              0.6666666666666666,
              "#ed7953"
             ],
             [
              0.7777777777777778,
              "#fb9f3a"
             ],
             [
              0.8888888888888888,
              "#fdca26"
             ],
             [
              1,
              "#f0f921"
             ]
            ],
            "type": "heatmap"
           }
          ],
          "heatmapgl": [
           {
            "colorbar": {
             "outlinewidth": 0,
             "ticks": ""
            },
            "colorscale": [
             [
              0,
              "#0d0887"
             ],
             [
              0.1111111111111111,
              "#46039f"
             ],
             [
              0.2222222222222222,
              "#7201a8"
             ],
             [
              0.3333333333333333,
              "#9c179e"
             ],
             [
              0.4444444444444444,
              "#bd3786"
             ],
             [
              0.5555555555555556,
              "#d8576b"
             ],
             [
              0.6666666666666666,
              "#ed7953"
             ],
             [
              0.7777777777777778,
              "#fb9f3a"
             ],
             [
              0.8888888888888888,
              "#fdca26"
             ],
             [
              1,
              "#f0f921"
             ]
            ],
            "type": "heatmapgl"
           }
          ],
          "histogram": [
           {
            "marker": {
             "pattern": {
              "fillmode": "overlay",
              "size": 10,
              "solidity": 0.2
             }
            },
            "type": "histogram"
           }
          ],
          "histogram2d": [
           {
            "colorbar": {
             "outlinewidth": 0,
             "ticks": ""
            },
            "colorscale": [
             [
              0,
              "#0d0887"
             ],
             [
              0.1111111111111111,
              "#46039f"
             ],
             [
              0.2222222222222222,
              "#7201a8"
             ],
             [
              0.3333333333333333,
              "#9c179e"
             ],
             [
              0.4444444444444444,
              "#bd3786"
             ],
             [
              0.5555555555555556,
              "#d8576b"
             ],
             [
              0.6666666666666666,
              "#ed7953"
             ],
             [
              0.7777777777777778,
              "#fb9f3a"
             ],
             [
              0.8888888888888888,
              "#fdca26"
             ],
             [
              1,
              "#f0f921"
             ]
            ],
            "type": "histogram2d"
           }
          ],
          "histogram2dcontour": [
           {
            "colorbar": {
             "outlinewidth": 0,
             "ticks": ""
            },
            "colorscale": [
             [
              0,
              "#0d0887"
             ],
             [
              0.1111111111111111,
              "#46039f"
             ],
             [
              0.2222222222222222,
              "#7201a8"
             ],
             [
              0.3333333333333333,
              "#9c179e"
             ],
             [
              0.4444444444444444,
              "#bd3786"
             ],
             [
              0.5555555555555556,
              "#d8576b"
             ],
             [
              0.6666666666666666,
              "#ed7953"
             ],
             [
              0.7777777777777778,
              "#fb9f3a"
             ],
             [
              0.8888888888888888,
              "#fdca26"
             ],
             [
              1,
              "#f0f921"
             ]
            ],
            "type": "histogram2dcontour"
           }
          ],
          "mesh3d": [
           {
            "colorbar": {
             "outlinewidth": 0,
             "ticks": ""
            },
            "type": "mesh3d"
           }
          ],
          "parcoords": [
           {
            "line": {
             "colorbar": {
              "outlinewidth": 0,
              "ticks": ""
             }
            },
            "type": "parcoords"
           }
          ],
          "pie": [
           {
            "automargin": true,
            "type": "pie"
           }
          ],
          "scatter": [
           {
            "fillpattern": {
             "fillmode": "overlay",
             "size": 10,
             "solidity": 0.2
            },
            "type": "scatter"
           }
          ],
          "scatter3d": [
           {
            "line": {
             "colorbar": {
              "outlinewidth": 0,
              "ticks": ""
             }
            },
            "marker": {
             "colorbar": {
              "outlinewidth": 0,
              "ticks": ""
             }
            },
            "type": "scatter3d"
           }
          ],
          "scattercarpet": [
           {
            "marker": {
             "colorbar": {
              "outlinewidth": 0,
              "ticks": ""
             }
            },
            "type": "scattercarpet"
           }
          ],
          "scattergeo": [
           {
            "marker": {
             "colorbar": {
              "outlinewidth": 0,
              "ticks": ""
             }
            },
            "type": "scattergeo"
           }
          ],
          "scattergl": [
           {
            "marker": {
             "colorbar": {
              "outlinewidth": 0,
              "ticks": ""
             }
            },
            "type": "scattergl"
           }
          ],
          "scattermapbox": [
           {
            "marker": {
             "colorbar": {
              "outlinewidth": 0,
              "ticks": ""
             }
            },
            "type": "scattermapbox"
           }
          ],
          "scatterpolar": [
           {
            "marker": {
             "colorbar": {
              "outlinewidth": 0,
              "ticks": ""
             }
            },
            "type": "scatterpolar"
           }
          ],
          "scatterpolargl": [
           {
            "marker": {
             "colorbar": {
              "outlinewidth": 0,
              "ticks": ""
             }
            },
            "type": "scatterpolargl"
           }
          ],
          "scatterternary": [
           {
            "marker": {
             "colorbar": {
              "outlinewidth": 0,
              "ticks": ""
             }
            },
            "type": "scatterternary"
           }
          ],
          "surface": [
           {
            "colorbar": {
             "outlinewidth": 0,
             "ticks": ""
            },
            "colorscale": [
             [
              0,
              "#0d0887"
             ],
             [
              0.1111111111111111,
              "#46039f"
             ],
             [
              0.2222222222222222,
              "#7201a8"
             ],
             [
              0.3333333333333333,
              "#9c179e"
             ],
             [
              0.4444444444444444,
              "#bd3786"
             ],
             [
              0.5555555555555556,
              "#d8576b"
             ],
             [
              0.6666666666666666,
              "#ed7953"
             ],
             [
              0.7777777777777778,
              "#fb9f3a"
             ],
             [
              0.8888888888888888,
              "#fdca26"
             ],
             [
              1,
              "#f0f921"
             ]
            ],
            "type": "surface"
           }
          ],
          "table": [
           {
            "cells": {
             "fill": {
              "color": "#EBF0F8"
             },
             "line": {
              "color": "white"
             }
            },
            "header": {
             "fill": {
              "color": "#C8D4E3"
             },
             "line": {
              "color": "white"
             }
            },
            "type": "table"
           }
          ]
         },
         "layout": {
          "annotationdefaults": {
           "arrowcolor": "#2a3f5f",
           "arrowhead": 0,
           "arrowwidth": 1
          },
          "autotypenumbers": "strict",
          "coloraxis": {
           "colorbar": {
            "outlinewidth": 0,
            "ticks": ""
           }
          },
          "colorscale": {
           "diverging": [
            [
             0,
             "#8e0152"
            ],
            [
             0.1,
             "#c51b7d"
            ],
            [
             0.2,
             "#de77ae"
            ],
            [
             0.3,
             "#f1b6da"
            ],
            [
             0.4,
             "#fde0ef"
            ],
            [
             0.5,
             "#f7f7f7"
            ],
            [
             0.6,
             "#e6f5d0"
            ],
            [
             0.7,
             "#b8e186"
            ],
            [
             0.8,
             "#7fbc41"
            ],
            [
             0.9,
             "#4d9221"
            ],
            [
             1,
             "#276419"
            ]
           ],
           "sequential": [
            [
             0,
             "#0d0887"
            ],
            [
             0.1111111111111111,
             "#46039f"
            ],
            [
             0.2222222222222222,
             "#7201a8"
            ],
            [
             0.3333333333333333,
             "#9c179e"
            ],
            [
             0.4444444444444444,
             "#bd3786"
            ],
            [
             0.5555555555555556,
             "#d8576b"
            ],
            [
             0.6666666666666666,
             "#ed7953"
            ],
            [
             0.7777777777777778,
             "#fb9f3a"
            ],
            [
             0.8888888888888888,
             "#fdca26"
            ],
            [
             1,
             "#f0f921"
            ]
           ],
           "sequentialminus": [
            [
             0,
             "#0d0887"
            ],
            [
             0.1111111111111111,
             "#46039f"
            ],
            [
             0.2222222222222222,
             "#7201a8"
            ],
            [
             0.3333333333333333,
             "#9c179e"
            ],
            [
             0.4444444444444444,
             "#bd3786"
            ],
            [
             0.5555555555555556,
             "#d8576b"
            ],
            [
             0.6666666666666666,
             "#ed7953"
            ],
            [
             0.7777777777777778,
             "#fb9f3a"
            ],
            [
             0.8888888888888888,
             "#fdca26"
            ],
            [
             1,
             "#f0f921"
            ]
           ]
          },
          "colorway": [
           "#636efa",
           "#EF553B",
           "#00cc96",
           "#ab63fa",
           "#FFA15A",
           "#19d3f3",
           "#FF6692",
           "#B6E880",
           "#FF97FF",
           "#FECB52"
          ],
          "font": {
           "color": "#2a3f5f"
          },
          "geo": {
           "bgcolor": "white",
           "lakecolor": "white",
           "landcolor": "white",
           "showlakes": true,
           "showland": true,
           "subunitcolor": "#C8D4E3"
          },
          "hoverlabel": {
           "align": "left"
          },
          "hovermode": "closest",
          "mapbox": {
           "style": "light"
          },
          "paper_bgcolor": "white",
          "plot_bgcolor": "white",
          "polar": {
           "angularaxis": {
            "gridcolor": "#EBF0F8",
            "linecolor": "#EBF0F8",
            "ticks": ""
           },
           "bgcolor": "white",
           "radialaxis": {
            "gridcolor": "#EBF0F8",
            "linecolor": "#EBF0F8",
            "ticks": ""
           }
          },
          "scene": {
           "xaxis": {
            "backgroundcolor": "white",
            "gridcolor": "#DFE8F3",
            "gridwidth": 2,
            "linecolor": "#EBF0F8",
            "showbackground": true,
            "ticks": "",
            "zerolinecolor": "#EBF0F8"
           },
           "yaxis": {
            "backgroundcolor": "white",
            "gridcolor": "#DFE8F3",
            "gridwidth": 2,
            "linecolor": "#EBF0F8",
            "showbackground": true,
            "ticks": "",
            "zerolinecolor": "#EBF0F8"
           },
           "zaxis": {
            "backgroundcolor": "white",
            "gridcolor": "#DFE8F3",
            "gridwidth": 2,
            "linecolor": "#EBF0F8",
            "showbackground": true,
            "ticks": "",
            "zerolinecolor": "#EBF0F8"
           }
          },
          "shapedefaults": {
           "line": {
            "color": "#2a3f5f"
           }
          },
          "ternary": {
           "aaxis": {
            "gridcolor": "#DFE8F3",
            "linecolor": "#A2B1C6",
            "ticks": ""
           },
           "baxis": {
            "gridcolor": "#DFE8F3",
            "linecolor": "#A2B1C6",
            "ticks": ""
           },
           "bgcolor": "white",
           "caxis": {
            "gridcolor": "#DFE8F3",
            "linecolor": "#A2B1C6",
            "ticks": ""
           }
          },
          "title": {
           "x": 0.05
          },
          "xaxis": {
           "automargin": true,
           "gridcolor": "#EBF0F8",
           "linecolor": "#EBF0F8",
           "ticks": "",
           "title": {
            "standoff": 15
           },
           "zerolinecolor": "#EBF0F8",
           "zerolinewidth": 2
          },
          "yaxis": {
           "automargin": true,
           "gridcolor": "#EBF0F8",
           "linecolor": "#EBF0F8",
           "ticks": "",
           "title": {
            "standoff": 15
           },
           "zerolinecolor": "#EBF0F8",
           "zerolinewidth": 2
          }
         }
        },
        "title": {
         "text": "Average Insurance Costs by Region and Smoking Status"
        },
        "xaxis": {
         "anchor": "y",
         "domain": [
          0,
          0.98
         ],
         "title": {
          "text": "Region"
         }
        },
        "xaxis2": {
         "anchor": "y2",
         "domain": [
          0,
          0.98
         ],
         "matches": "x",
         "showticklabels": false
        },
        "yaxis": {
         "anchor": "x",
         "domain": [
          0,
          0.485
         ],
         "gridcolor": "#E3E3E3",
         "linecolor": "#E5E5EA",
         "linewidth": 2,
         "showgrid": false,
         "showline": true,
         "title": {
          "text": "Claim Amount, $"
         },
         "zeroline": true,
         "zerolinecolor": "#E5E5EA",
         "zerolinewidth": 2
        },
        "yaxis2": {
         "anchor": "x2",
         "domain": [
          0.515,
          1
         ],
         "gridcolor": "#E3E3E3",
         "linecolor": "#E5E5EA",
         "linewidth": 2,
         "showgrid": false,
         "showline": true,
         "title": {
          "text": "Claim Amount, $"
         },
         "zeroline": true,
         "zerolinecolor": "#E5E5EA",
         "zerolinewidth": 2
        }
       }
      },
      "text/html": [
       "<div>                            <div id=\"910c94e1-a6c8-4bfd-985d-8b2637a7d0fd\" class=\"plotly-graph-div\" style=\"height:800px; width:100%;\"></div>            <script type=\"text/javascript\">                require([\"plotly\"], function(Plotly) {                    window.PLOTLYENV=window.PLOTLYENV || {};                                    if (document.getElementById(\"910c94e1-a6c8-4bfd-985d-8b2637a7d0fd\")) {                    Plotly.newPlot(                        \"910c94e1-a6c8-4bfd-985d-8b2637a7d0fd\",                        [{\"alignmentgroup\":\"True\",\"hovertemplate\":\"sex=Female<br>smoker=Non-Smoker<br>region=%{x}<br>charges=%{text}<extra></extra>\",\"legendgroup\":\"Female\",\"marker\":{\"color\":\"#BFC5DA\",\"opacity\":0.85,\"pattern\":{\"shape\":\"\"},\"line\":{\"color\":\"#303030\",\"width\":1}},\"name\":\"Female\",\"offsetgroup\":\"Female\",\"orientation\":\"v\",\"showlegend\":true,\"text\":[9640.426983553025,8786.99867866667,8440.205551942441,8234.091260141842],\"textposition\":\"outside\",\"x\":[\"Northeast\",\"Northwest\",\"Southeast\",\"Southwest\"],\"xaxis\":\"x2\",\"y\":[9640.426983553025,8786.99867866667,8440.205551942441,8234.091260141842],\"yaxis\":\"y2\",\"type\":\"bar\",\"texttemplate\":\"$%{text:,.0f}\"},{\"alignmentgroup\":\"True\",\"hovertemplate\":\"sex=Female<br>smoker=Smoker<br>region=%{x}<br>charges=%{text}<extra></extra>\",\"legendgroup\":\"Female\",\"marker\":{\"color\":\"#BFC5DA\",\"opacity\":0.85,\"pattern\":{\"shape\":\"\"},\"line\":{\"color\":\"#303030\",\"width\":1}},\"name\":\"Female\",\"offsetgroup\":\"Female\",\"orientation\":\"v\",\"showlegend\":false,\"text\":[28032.04639758621,29670.824945517237,33034.82071638889,31687.988429999998],\"textposition\":\"outside\",\"x\":[\"Northeast\",\"Northwest\",\"Southeast\",\"Southwest\"],\"xaxis\":\"x\",\"y\":[28032.04639758621,29670.824945517237,33034.82071638889,31687.988429999998],\"yaxis\":\"y\",\"type\":\"bar\",\"texttemplate\":\"$%{text:,.0f}\"},{\"alignmentgroup\":\"True\",\"hovertemplate\":\"sex=Male<br>smoker=Non-Smoker<br>region=%{x}<br>charges=%{text}<extra></extra>\",\"legendgroup\":\"Male\",\"marker\":{\"color\":\"#5D6A92\",\"opacity\":0.85,\"pattern\":{\"shape\":\"\"},\"line\":{\"color\":\"#303030\",\"width\":1}},\"name\":\"Male\",\"offsetgroup\":\"Male\",\"orientation\":\"v\",\"showlegend\":true,\"text\":[8664.042222400003,8320.689320757572,7609.003586716417,7778.9055342063475],\"textposition\":\"outside\",\"x\":[\"Northeast\",\"Northwest\",\"Southeast\",\"Southwest\"],\"xaxis\":\"x2\",\"y\":[8664.042222400003,8320.689320757572,7609.003586716417,7778.9055342063475],\"yaxis\":\"y2\",\"type\":\"bar\",\"texttemplate\":\"$%{text:,.0f}\"},{\"alignmentgroup\":\"True\",\"hovertemplate\":\"sex=Male<br>smoker=Smoker<br>region=%{x}<br>charges=%{text}<extra></extra>\",\"legendgroup\":\"Male\",\"marker\":{\"color\":\"#5D6A92\",\"opacity\":0.85,\"pattern\":{\"shape\":\"\"},\"line\":{\"color\":\"#303030\",\"width\":1}},\"name\":\"Male\",\"offsetgroup\":\"Male\",\"orientation\":\"v\",\"showlegend\":false,\"text\":[30926.252582894744,30713.181419310342,36029.83936654546,32598.862854054067],\"textposition\":\"outside\",\"x\":[\"Northeast\",\"Northwest\",\"Southeast\",\"Southwest\"],\"xaxis\":\"x\",\"y\":[30926.252582894744,30713.181419310342,36029.83936654546,32598.862854054067],\"yaxis\":\"y\",\"type\":\"bar\",\"texttemplate\":\"$%{text:,.0f}\"}],                        {\"template\":{\"data\":{\"barpolar\":[{\"marker\":{\"line\":{\"color\":\"white\",\"width\":0.5},\"pattern\":{\"fillmode\":\"overlay\",\"size\":10,\"solidity\":0.2}},\"type\":\"barpolar\"}],\"bar\":[{\"error_x\":{\"color\":\"#2a3f5f\"},\"error_y\":{\"color\":\"#2a3f5f\"},\"marker\":{\"line\":{\"color\":\"white\",\"width\":0.5},\"pattern\":{\"fillmode\":\"overlay\",\"size\":10,\"solidity\":0.2}},\"type\":\"bar\"}],\"carpet\":[{\"aaxis\":{\"endlinecolor\":\"#2a3f5f\",\"gridcolor\":\"#C8D4E3\",\"linecolor\":\"#C8D4E3\",\"minorgridcolor\":\"#C8D4E3\",\"startlinecolor\":\"#2a3f5f\"},\"baxis\":{\"endlinecolor\":\"#2a3f5f\",\"gridcolor\":\"#C8D4E3\",\"linecolor\":\"#C8D4E3\",\"minorgridcolor\":\"#C8D4E3\",\"startlinecolor\":\"#2a3f5f\"},\"type\":\"carpet\"}],\"choropleth\":[{\"colorbar\":{\"outlinewidth\":0,\"ticks\":\"\"},\"type\":\"choropleth\"}],\"contourcarpet\":[{\"colorbar\":{\"outlinewidth\":0,\"ticks\":\"\"},\"type\":\"contourcarpet\"}],\"contour\":[{\"colorbar\":{\"outlinewidth\":0,\"ticks\":\"\"},\"colorscale\":[[0.0,\"#0d0887\"],[0.1111111111111111,\"#46039f\"],[0.2222222222222222,\"#7201a8\"],[0.3333333333333333,\"#9c179e\"],[0.4444444444444444,\"#bd3786\"],[0.5555555555555556,\"#d8576b\"],[0.6666666666666666,\"#ed7953\"],[0.7777777777777778,\"#fb9f3a\"],[0.8888888888888888,\"#fdca26\"],[1.0,\"#f0f921\"]],\"type\":\"contour\"}],\"heatmapgl\":[{\"colorbar\":{\"outlinewidth\":0,\"ticks\":\"\"},\"colorscale\":[[0.0,\"#0d0887\"],[0.1111111111111111,\"#46039f\"],[0.2222222222222222,\"#7201a8\"],[0.3333333333333333,\"#9c179e\"],[0.4444444444444444,\"#bd3786\"],[0.5555555555555556,\"#d8576b\"],[0.6666666666666666,\"#ed7953\"],[0.7777777777777778,\"#fb9f3a\"],[0.8888888888888888,\"#fdca26\"],[1.0,\"#f0f921\"]],\"type\":\"heatmapgl\"}],\"heatmap\":[{\"colorbar\":{\"outlinewidth\":0,\"ticks\":\"\"},\"colorscale\":[[0.0,\"#0d0887\"],[0.1111111111111111,\"#46039f\"],[0.2222222222222222,\"#7201a8\"],[0.3333333333333333,\"#9c179e\"],[0.4444444444444444,\"#bd3786\"],[0.5555555555555556,\"#d8576b\"],[0.6666666666666666,\"#ed7953\"],[0.7777777777777778,\"#fb9f3a\"],[0.8888888888888888,\"#fdca26\"],[1.0,\"#f0f921\"]],\"type\":\"heatmap\"}],\"histogram2dcontour\":[{\"colorbar\":{\"outlinewidth\":0,\"ticks\":\"\"},\"colorscale\":[[0.0,\"#0d0887\"],[0.1111111111111111,\"#46039f\"],[0.2222222222222222,\"#7201a8\"],[0.3333333333333333,\"#9c179e\"],[0.4444444444444444,\"#bd3786\"],[0.5555555555555556,\"#d8576b\"],[0.6666666666666666,\"#ed7953\"],[0.7777777777777778,\"#fb9f3a\"],[0.8888888888888888,\"#fdca26\"],[1.0,\"#f0f921\"]],\"type\":\"histogram2dcontour\"}],\"histogram2d\":[{\"colorbar\":{\"outlinewidth\":0,\"ticks\":\"\"},\"colorscale\":[[0.0,\"#0d0887\"],[0.1111111111111111,\"#46039f\"],[0.2222222222222222,\"#7201a8\"],[0.3333333333333333,\"#9c179e\"],[0.4444444444444444,\"#bd3786\"],[0.5555555555555556,\"#d8576b\"],[0.6666666666666666,\"#ed7953\"],[0.7777777777777778,\"#fb9f3a\"],[0.8888888888888888,\"#fdca26\"],[1.0,\"#f0f921\"]],\"type\":\"histogram2d\"}],\"histogram\":[{\"marker\":{\"pattern\":{\"fillmode\":\"overlay\",\"size\":10,\"solidity\":0.2}},\"type\":\"histogram\"}],\"mesh3d\":[{\"colorbar\":{\"outlinewidth\":0,\"ticks\":\"\"},\"type\":\"mesh3d\"}],\"parcoords\":[{\"line\":{\"colorbar\":{\"outlinewidth\":0,\"ticks\":\"\"}},\"type\":\"parcoords\"}],\"pie\":[{\"automargin\":true,\"type\":\"pie\"}],\"scatter3d\":[{\"line\":{\"colorbar\":{\"outlinewidth\":0,\"ticks\":\"\"}},\"marker\":{\"colorbar\":{\"outlinewidth\":0,\"ticks\":\"\"}},\"type\":\"scatter3d\"}],\"scattercarpet\":[{\"marker\":{\"colorbar\":{\"outlinewidth\":0,\"ticks\":\"\"}},\"type\":\"scattercarpet\"}],\"scattergeo\":[{\"marker\":{\"colorbar\":{\"outlinewidth\":0,\"ticks\":\"\"}},\"type\":\"scattergeo\"}],\"scattergl\":[{\"marker\":{\"colorbar\":{\"outlinewidth\":0,\"ticks\":\"\"}},\"type\":\"scattergl\"}],\"scattermapbox\":[{\"marker\":{\"colorbar\":{\"outlinewidth\":0,\"ticks\":\"\"}},\"type\":\"scattermapbox\"}],\"scatterpolargl\":[{\"marker\":{\"colorbar\":{\"outlinewidth\":0,\"ticks\":\"\"}},\"type\":\"scatterpolargl\"}],\"scatterpolar\":[{\"marker\":{\"colorbar\":{\"outlinewidth\":0,\"ticks\":\"\"}},\"type\":\"scatterpolar\"}],\"scatter\":[{\"fillpattern\":{\"fillmode\":\"overlay\",\"size\":10,\"solidity\":0.2},\"type\":\"scatter\"}],\"scatterternary\":[{\"marker\":{\"colorbar\":{\"outlinewidth\":0,\"ticks\":\"\"}},\"type\":\"scatterternary\"}],\"surface\":[{\"colorbar\":{\"outlinewidth\":0,\"ticks\":\"\"},\"colorscale\":[[0.0,\"#0d0887\"],[0.1111111111111111,\"#46039f\"],[0.2222222222222222,\"#7201a8\"],[0.3333333333333333,\"#9c179e\"],[0.4444444444444444,\"#bd3786\"],[0.5555555555555556,\"#d8576b\"],[0.6666666666666666,\"#ed7953\"],[0.7777777777777778,\"#fb9f3a\"],[0.8888888888888888,\"#fdca26\"],[1.0,\"#f0f921\"]],\"type\":\"surface\"}],\"table\":[{\"cells\":{\"fill\":{\"color\":\"#EBF0F8\"},\"line\":{\"color\":\"white\"}},\"header\":{\"fill\":{\"color\":\"#C8D4E3\"},\"line\":{\"color\":\"white\"}},\"type\":\"table\"}]},\"layout\":{\"annotationdefaults\":{\"arrowcolor\":\"#2a3f5f\",\"arrowhead\":0,\"arrowwidth\":1},\"autotypenumbers\":\"strict\",\"coloraxis\":{\"colorbar\":{\"outlinewidth\":0,\"ticks\":\"\"}},\"colorscale\":{\"diverging\":[[0,\"#8e0152\"],[0.1,\"#c51b7d\"],[0.2,\"#de77ae\"],[0.3,\"#f1b6da\"],[0.4,\"#fde0ef\"],[0.5,\"#f7f7f7\"],[0.6,\"#e6f5d0\"],[0.7,\"#b8e186\"],[0.8,\"#7fbc41\"],[0.9,\"#4d9221\"],[1,\"#276419\"]],\"sequential\":[[0.0,\"#0d0887\"],[0.1111111111111111,\"#46039f\"],[0.2222222222222222,\"#7201a8\"],[0.3333333333333333,\"#9c179e\"],[0.4444444444444444,\"#bd3786\"],[0.5555555555555556,\"#d8576b\"],[0.6666666666666666,\"#ed7953\"],[0.7777777777777778,\"#fb9f3a\"],[0.8888888888888888,\"#fdca26\"],[1.0,\"#f0f921\"]],\"sequentialminus\":[[0.0,\"#0d0887\"],[0.1111111111111111,\"#46039f\"],[0.2222222222222222,\"#7201a8\"],[0.3333333333333333,\"#9c179e\"],[0.4444444444444444,\"#bd3786\"],[0.5555555555555556,\"#d8576b\"],[0.6666666666666666,\"#ed7953\"],[0.7777777777777778,\"#fb9f3a\"],[0.8888888888888888,\"#fdca26\"],[1.0,\"#f0f921\"]]},\"colorway\":[\"#636efa\",\"#EF553B\",\"#00cc96\",\"#ab63fa\",\"#FFA15A\",\"#19d3f3\",\"#FF6692\",\"#B6E880\",\"#FF97FF\",\"#FECB52\"],\"font\":{\"color\":\"#2a3f5f\"},\"geo\":{\"bgcolor\":\"white\",\"lakecolor\":\"white\",\"landcolor\":\"white\",\"showlakes\":true,\"showland\":true,\"subunitcolor\":\"#C8D4E3\"},\"hoverlabel\":{\"align\":\"left\"},\"hovermode\":\"closest\",\"mapbox\":{\"style\":\"light\"},\"paper_bgcolor\":\"white\",\"plot_bgcolor\":\"white\",\"polar\":{\"angularaxis\":{\"gridcolor\":\"#EBF0F8\",\"linecolor\":\"#EBF0F8\",\"ticks\":\"\"},\"bgcolor\":\"white\",\"radialaxis\":{\"gridcolor\":\"#EBF0F8\",\"linecolor\":\"#EBF0F8\",\"ticks\":\"\"}},\"scene\":{\"xaxis\":{\"backgroundcolor\":\"white\",\"gridcolor\":\"#DFE8F3\",\"gridwidth\":2,\"linecolor\":\"#EBF0F8\",\"showbackground\":true,\"ticks\":\"\",\"zerolinecolor\":\"#EBF0F8\"},\"yaxis\":{\"backgroundcolor\":\"white\",\"gridcolor\":\"#DFE8F3\",\"gridwidth\":2,\"linecolor\":\"#EBF0F8\",\"showbackground\":true,\"ticks\":\"\",\"zerolinecolor\":\"#EBF0F8\"},\"zaxis\":{\"backgroundcolor\":\"white\",\"gridcolor\":\"#DFE8F3\",\"gridwidth\":2,\"linecolor\":\"#EBF0F8\",\"showbackground\":true,\"ticks\":\"\",\"zerolinecolor\":\"#EBF0F8\"}},\"shapedefaults\":{\"line\":{\"color\":\"#2a3f5f\"}},\"ternary\":{\"aaxis\":{\"gridcolor\":\"#DFE8F3\",\"linecolor\":\"#A2B1C6\",\"ticks\":\"\"},\"baxis\":{\"gridcolor\":\"#DFE8F3\",\"linecolor\":\"#A2B1C6\",\"ticks\":\"\"},\"bgcolor\":\"white\",\"caxis\":{\"gridcolor\":\"#DFE8F3\",\"linecolor\":\"#A2B1C6\",\"ticks\":\"\"}},\"title\":{\"x\":0.05},\"xaxis\":{\"automargin\":true,\"gridcolor\":\"#EBF0F8\",\"linecolor\":\"#EBF0F8\",\"ticks\":\"\",\"title\":{\"standoff\":15},\"zerolinecolor\":\"#EBF0F8\",\"zerolinewidth\":2},\"yaxis\":{\"automargin\":true,\"gridcolor\":\"#EBF0F8\",\"linecolor\":\"#EBF0F8\",\"ticks\":\"\",\"title\":{\"standoff\":15},\"zerolinecolor\":\"#EBF0F8\",\"zerolinewidth\":2}}},\"xaxis\":{\"anchor\":\"y\",\"domain\":[0.0,0.98],\"title\":{\"text\":\"Region\"}},\"yaxis\":{\"anchor\":\"x\",\"domain\":[0.0,0.485],\"title\":{\"text\":\"Claim Amount, $\"},\"gridcolor\":\"#E3E3E3\",\"zeroline\":true,\"zerolinewidth\":2,\"showgrid\":false,\"zerolinecolor\":\"#E5E5EA\",\"showline\":true,\"linecolor\":\"#E5E5EA\",\"linewidth\":2},\"xaxis2\":{\"anchor\":\"y2\",\"domain\":[0.0,0.98],\"matches\":\"x\",\"showticklabels\":false},\"yaxis2\":{\"anchor\":\"x2\",\"domain\":[0.515,1.0],\"title\":{\"text\":\"Claim Amount, $\"},\"gridcolor\":\"#E3E3E3\",\"zeroline\":true,\"zerolinewidth\":2,\"showgrid\":false,\"zerolinecolor\":\"#E5E5EA\",\"showline\":true,\"linecolor\":\"#E5E5EA\",\"linewidth\":2},\"annotations\":[{\"font\":{},\"showarrow\":false,\"text\":\"Smoker\",\"textangle\":90,\"x\":0.98,\"xanchor\":\"left\",\"xref\":\"paper\",\"y\":0.2425,\"yanchor\":\"middle\",\"yref\":\"paper\"},{\"font\":{},\"showarrow\":false,\"text\":\"Non-Smoker\",\"textangle\":90,\"x\":0.98,\"xanchor\":\"left\",\"xref\":\"paper\",\"y\":0.7575000000000001,\"yanchor\":\"middle\",\"yref\":\"paper\"}],\"legend\":{\"title\":{\"text\":\"\"},\"tracegroupgap\":0,\"orientation\":\"h\",\"yanchor\":\"bottom\",\"y\":1.02,\"xanchor\":\"right\",\"x\":1},\"title\":{\"text\":\"Average Insurance Costs by Region and Smoking Status\"},\"barmode\":\"group\",\"height\":800,\"font\":{\"color\":\"#303030\"},\"paper_bgcolor\":\"white\",\"plot_bgcolor\":\"white\",\"bargroupgap\":0.05,\"bargap\":0.2},                        {\"responsive\": true}                    ).then(function(){\n",
       "                            \n",
       "var gd = document.getElementById('910c94e1-a6c8-4bfd-985d-8b2637a7d0fd');\n",
       "var x = new MutationObserver(function (mutations, observer) {{\n",
       "        var display = window.getComputedStyle(gd).display;\n",
       "        if (!display || display === 'none') {{\n",
       "            console.log([gd, 'removed!']);\n",
       "            Plotly.purge(gd);\n",
       "            observer.disconnect();\n",
       "        }}\n",
       "}});\n",
       "\n",
       "// Listen for the removal of the full notebook cells\n",
       "var notebookContainer = gd.closest('#notebook-container');\n",
       "if (notebookContainer) {{\n",
       "    x.observe(notebookContainer, {childList: true});\n",
       "}}\n",
       "\n",
       "// Listen for the clearing of the current output cell\n",
       "var outputEl = gd.closest('.output');\n",
       "if (outputEl) {{\n",
       "    x.observe(outputEl, {childList: true});\n",
       "}}\n",
       "\n",
       "                        })                };                });            </script>        </div>"
      ]
     },
     "metadata": {},
     "output_type": "display_data"
    }
   ],
   "source": [
    "plot_df = ins.groupby(['region','sex','smoker'])['charges'].mean()\n",
    "plot_df = plot_df.rename('charges').reset_index()\n",
    "fig = px.bar(plot_df, x='region', y='charges', color='sex', height=800,\n",
    "             title=\"Average Insurance Costs by Region and Smoking Status\",\n",
    "             color_discrete_map={'Female': '#BFC5DA','Male': '#5D6A92'}, \n",
    "             facet_row='smoker', text='charges', opacity=0.85, barmode='group')\n",
    "fig.update_traces(texttemplate='$%{text:,.0f}', textposition='outside', \n",
    "                  marker_line=dict(width=1, color='#303030'))\n",
    "fig.layout.yaxis2.update(matches=None)\n",
    "fig.for_each_annotation(lambda a: a.update(text=a.text.split(\"=\")[-1]))\n",
    "fig.update_xaxes(title=\"Region\", row=1)\n",
    "fig.update_yaxes(title=\"Claim Amount, $\",  gridcolor='#E3E3E3', zeroline=True, zerolinewidth=2, \n",
    "                 showgrid=False, zerolinecolor='#E5E5EA',\n",
    "                 showline=True, linecolor='#E5E5EA', linewidth=2)\n",
    "fig.update_layout(font_color=\"#303030\", paper_bgcolor=\"white\", plot_bgcolor=\"white\",\n",
    "                  bargroupgap=0.05, bargap=0.2,\n",
    "                  legend=dict(orientation=\"h\", yanchor=\"bottom\", y=1.02, xanchor=\"right\", x=1, title=\"\"))\n",
    "fig.show()"
   ]
  },
  {
   "cell_type": "markdown",
   "metadata": {},
   "source": [
    "Non-smokers tend to have smaller insurance claims on average than smokers at a little under \\\\$10,000 within each region, while smokers' claims range from an average of \\$28,000 to over \\\\$36,000. The graph also shows that women who are non-smokers have slightly higher average costs than men, while among smokers, men have slightly higher charges on average than women."
   ]
  },
  {
   "cell_type": "code",
   "execution_count": 10,
   "metadata": {
    "_kg_hide-input": true,
    "execution": {
     "iopub.execute_input": "2022-01-25T02:03:27.655371Z",
     "iopub.status.busy": "2022-01-25T02:03:27.655094Z",
     "iopub.status.idle": "2022-01-25T02:03:27.965074Z",
     "shell.execute_reply": "2022-01-25T02:03:27.963894Z",
     "shell.execute_reply.started": "2022-01-25T02:03:27.655343Z"
    }
   },
   "outputs": [
    {
     "data": {
      "image/png": "[encoded data removed]",
      "text/plain": [
       "<Figure size 648x432 with 2 Axes>"
      ]
     },
     "metadata": {
      "needs_background": "light"
     },
     "output_type": "display_data"
    }
   ],
   "source": [
    "ins['female'] = ins['sex'].apply(lambda x: 1 if x=='Female' else 0)\n",
    "ins['smoker_yes'] = ins['smoker'].apply(lambda x: 1 if x=='Smoker' else 0)\n",
    "ins.drop(['sex', 'smoker'], axis=1, inplace=True)\n",
    "\n",
    "sns.set_context(\"notebook\")\n",
    "fig, ax = plt.subplots(figsize=(9,6))   \n",
    "corr=ins.corr()\n",
    "mask=np.triu(np.ones_like(corr, dtype=bool))[1:, :-1]\n",
    "corr=corr.iloc[1:,:-1].copy()\n",
    "ax=sns.heatmap(corr, mask=mask, vmin=-.1, vmax=.9, center=0, annot=True, fmt='.2f', \n",
    "               cmap='ocean', linewidths=4, annot_kws={\"fontsize\":12})\n",
    "ax.set_title('\\nCorrelations of Health Insurance Costs\\n', fontsize=18)\n",
    "ax.set_xticklabels(ax.get_xticklabels(), rotation=45, horizontalalignment='right',fontsize=12)\n",
    "ax.set_yticklabels(ax.get_yticklabels(), fontsize=12)\n",
    "fig.show()"
   ]
  },
  {
   "cell_type": "markdown",
   "metadata": {},
   "source": [
    "The correlation matrix shows that smokers have a strong positive relationship with insurance charges at 0.79, but overall, the variables in the dataset are not too highly correlated with each other."
   ]
  },
  {
   "cell_type": "markdown",
   "metadata": {},
   "source": [
    "# <div style=\"color:white;display:fill;border-radius:5px;background-color:#84A3C3;overflow:hidden\"><p style=\"padding:20px;color:white;overflow:hidden;font-size:100%;margin:0\"><b>4 |</b> Methodology</p></div>\n",
    "To account for the relationships that two independent variables may have on healthcare costs, like smoking status and BMI, I will add interaction terms and second-order polynomial features to the models. This will add a squared term for each variable in the model and an interaction term between each pair of features. \n",
    "\n",
    "There is an approximately equal number of beneficiaries in the four regions, between 324 and 364. To provide a more targeted cost prediction of future claims, I will fit separate models for each region. The models will first filter the data by region and then create individual training and test sets. I'll use several regression models to predict future insurance costs, including Linear Regression, K-Nearest Neighbors, Support Vector Machines, and Gradient Boosting. Hyperparameter tuning will be performed using cross-validation and then the models will be evaluated on the held-out test set."
   ]
  },
  {
   "cell_type": "markdown",
   "metadata": {},
   "source": [
    "# <div style=\"color:white;display:fill;border-radius:5px;background-color:#84A3C3;overflow:hidden\"><p style=\"padding:20px;color:white;overflow:hidden;font-size:100%;margin:0\"><b>5 |</b> Linear Regression with PCA Dimensionality Reduction</p></div>\n",
    "With the addition of polynomial features, the number of variables in the dataset increases from 5 to 20. Due to the effects of multicollinearity, I will use Principal Component Analysis (PCA) to reduce the correlation between the features in the linear regression models. Principal Component Analysis is a technique that reduces the dimensionality of a data set by transforming variables that are potentially correlated into linearly uncorrelated principal components."
   ]
  },
  {
   "cell_type": "code",
   "execution_count": 11,
   "metadata": {
    "_kg_hide-input": true,
    "execution": {
     "iopub.execute_input": "2022-01-25T00:26:24.97405Z",
     "iopub.status.busy": "2022-01-25T00:26:24.973813Z",
     "iopub.status.idle": "2022-01-25T00:26:26.031098Z",
     "shell.execute_reply": "2022-01-25T00:26:26.030102Z",
     "shell.execute_reply.started": "2022-01-25T00:26:24.974019Z"
    }
   },
   "outputs": [
    {
     "name": "stdout",
     "output_type": "stream",
     "text": [
      "\n",
      "Region: Southwest\n",
      "\n",
      "Number of Principal Components = 7\n",
      "Train Shape:(260, 7) (260,)  Test Shape:(65, 7) (65,)\n",
      "Test Error (RMSE) = 5,349.04\n",
      "R-Squared = 79.15%, Adjusted R-Squared = 76.59%\n",
      "__________________________\n",
      "\n",
      "Region: Southeast\n",
      "\n",
      "Number of Principal Components = 7\n",
      "Train Shape:(291, 7) (291,)  Test Shape:(73, 7) (73,)\n",
      "Test Error (RMSE) = 4,699.59\n",
      "R-Squared = 90.32%, Adjusted R-Squared = 89.27%\n",
      "__________________________\n",
      "\n",
      "Region: Northwest\n",
      "\n",
      "Number of Principal Components = 6\n",
      "Train Shape:(260, 6) (260,)  Test Shape:(65, 6) (65,)\n",
      "Test Error (RMSE) = 6,305.7\n",
      "R-Squared = 74.43%, Adjusted R-Squared = 71.79%\n",
      "__________________________\n",
      "\n",
      "Region: Northeast\n",
      "\n",
      "Number of Principal Components = 7\n",
      "Train Shape:(259, 7) (259,)  Test Shape:(65, 7) (65,)\n",
      "Test Error (RMSE) = 6,231.75\n",
      "R-Squared = 63.27%, Adjusted R-Squared = 58.76%\n"
     ]
    },
    {
     "data": {
      "application/vnd.plotly.v1+json": {
       "config": {
        "plotlyServerURL": "https://plot.ly"
       },
       "data": [
        {
         "hovertemplate": "Actual Cost: %{x:$,.2f}<br>Predicted Cost: %{y:$,.2f}",
         "legendgroup": "Southwest",
         "marker": {
          "color": "#B14B51",
          "line": {
           "color": "#F7F7F7",
           "width": 1
          },
          "opacity": 0.7,
          "size": 10,
          "symbol": "circle"
         },
         "mode": "markers",
         "name": "Southwest",
         "orientation": "v",
         "showlegend": false,
         "type": "scatter",
         "x": [
          3761.292,
          11674.13,
          6311.952,
          14319.031,
          11552.904,
          5080.096,
          8269.044,
          3693.428,
          36837.467,
          13224.693,
          23306.547,
          35160.13457,
          12347.172,
          10065.413,
          5488.262,
          38711,
          7196.867,
          6571.544,
          5979.731,
          34828.654,
          6600.361,
          39836.519,
          1256.299,
          1242.26,
          4762.329,
          9264.797,
          13470.86,
          1759.338,
          1241.565,
          48173.361,
          16232.847,
          25309.489,
          10791.96,
          4751.07,
          8556.907,
          42856.838,
          8277.523,
          11576.13,
          7623.518,
          12146.971,
          20630.28351,
          4646.759,
          26140.3603,
          2007.945,
          8444.474,
          17081.08,
          13822.803,
          8825.086,
          37079.372,
          10096.97,
          11411.685,
          14988.432,
          11362.755,
          6875.961,
          10795.93733,
          18259.216,
          1261.859,
          17942.106,
          11150.78,
          38415.474,
          8522.003,
          8703.456,
          3987.926,
          1964.78,
          1743.214
         ],
         "xaxis": "x3",
         "y": [
          4748.540040111579,
          13330.567156085213,
          7583.248902467095,
          15916.440968564548,
          12521.209296610297,
          1686.9921291089013,
          7104.924298223733,
          8204.362736365803,
          34080.10762567636,
          12452.529507156069,
          35439.49959812499,
          10626.88149832244,
          13940.70050829646,
          8197.377664220478,
          7163.0303234331905,
          33190.77310737089,
          8343.269394678491,
          9078.65226786511,
          8811.322296978904,
          29722.014011179184,
          7231.734527245747,
          33127.46581569572,
          3290.3300711027878,
          1409.833929343773,
          8344.125477579386,
          7284.847945526528,
          15175.362785731933,
          4675.571535617023,
          1322.8087386388197,
          49106.99745038212,
          26789.21178502369,
          35640.34476940899,
          8683.760921675457,
          6398.767077569202,
          10967.885905072853,
          40099.89129940319,
          8583.544320100631,
          15365.774556422666,
          7492.129732478382,
          11789.913358816317,
          12863.700066226134,
          6899.500077510944,
          9193.41242904219,
          2090.5136457470053,
          8762.155922262571,
          23292.51029576683,
          14451.176397148392,
          9915.234542757706,
          31025.829705859484,
          6624.073931832496,
          16094.308306062083,
          11943.782214997016,
          13192.133306997763,
          8020.191566503317,
          3993.0515844750207,
          26321.24501808459,
          4099.6609093192055,
          22338.98227564618,
          10801.220325933942,
          33838.13905572699,
          10787.150879800663,
          9097.29006407772,
          6162.403807097615,
          1807.5749544053488,
          2303.64485957107
         ],
         "yaxis": "y3"
        },
        {
         "hovertemplate": "<b>OLS trendline</b><br>preds = 0.826689 * actuals + 2433.4<br>R<sup>2</sup>=0.792960<br><br>index=Southwest<br>actuals=%{x}<br>preds=%{y} <b>(trend)</b><extra></extra>",
         "legendgroup": "Southwest",
         "marker": {
          "color": "#B14B51",
          "symbol": "circle"
         },
         "mode": "lines",
         "name": "Southwest",
         "showlegend": false,
         "type": "scatter",
         "x": [
          1241.565,
          1242.26,
          1256.299,
          1261.859,
          1743.214,
          1759.338,
          1964.78,
          2007.945,
          3693.428,
          3761.292,
          3987.926,
          4646.759,
          4751.07,
          4762.329,
          5080.096,
          5488.262,
          5979.731,
          6311.952,
          6571.544,
          6600.361,
          6875.961,
          7196.867,
          7623.518,
          8269.044,
          8277.523,
          8444.474,
          8522.003,
          8556.907,
          8703.456,
          8825.086,
          9264.797,
          10065.413,
          10096.97,
          10791.96,
          10795.93733,
          11150.78,
          11362.755,
          11411.685,
          11552.904,
          11576.13,
          11674.13,
          12146.971,
          12347.172,
          13224.693,
          13470.86,
          13822.803,
          14319.031,
          14988.432,
          16232.847,
          17081.08,
          17942.106,
          18259.216,
          20630.28351,
          23306.547,
          25309.489,
          26140.3603,
          34828.654,
          35160.13457,
          36837.467,
          37079.372,
          38415.474,
          38711,
          39836.519,
          42856.838,
          48173.361
         ],
         "xaxis": "x3",
         "y": [
          3459.7851110570364,
          3460.3596601913555,
          3471.9655527046,
          3476.5619457791527,
          3874.4930228297208,
          3887.8225627459224,
          4057.6592868506327,
          4093.343334883556,
          5486.714268062649,
          5542.816717633049,
          5730.172643542779,
          6274.822902263384,
          6361.055700464757,
          6370.363396440725,
          6633.058007613618,
          6970.484514028681,
          7376.776727690044,
          7651.42030747797,
          7866.022262695451,
          7889.844971189943,
          8117.680570353007,
          8382.970159558457,
          8735.678019567602,
          9269.327522417152,
          9276.337021855845,
          9414.353644192102,
          9478.446046831847,
          9507.30081371569,
          9628.451318874428,
          9729.001550827268,
          10092.505974425201,
          10754.366736615098,
          10780.454574070787,
          11354.995441495816,
          11358.28345805467,
          11651.628132684826,
          11826.865618652133,
          11867.315531086999,
          11984.05978173362,
          12003.2604697821,
          12084.276031168094,
          12475.168674650904,
          12640.672719600268,
          13366.110030243122,
          13569.613680240127,
          13860.56122841228,
          14270.787656937278,
          14824.17436925714,
          15852.919061319924,
          16554.144292759996,
          17265.945361718543,
          17528.09683795439,
          19488.233219655856,
          21700.671883525163,
          23356.482807541368,
          24043.355305592504,
          31225.875627958878,
          31499.907102112953,
          32886.540045453614,
          33086.52034521973,
          34191.061708474335,
          34435.369920659614,
          35365.82454959434,
          37862.69025724524,
          42257.80347629171
         ],
         "yaxis": "y3"
        },
        {
         "hovertemplate": "Actual Cost: %{x:$,.2f}<br>Predicted Cost: %{y:$,.2f}",
         "legendgroup": "Southeast",
         "marker": {
          "color": "#D0A99C",
          "line": {
           "color": "#F7F7F7",
           "width": 1
          },
          "opacity": 0.7,
          "size": 10,
          "symbol": "circle"
         },
         "mode": "markers",
         "name": "Southeast",
         "orientation": "v",
         "showlegend": false,
         "type": "scatter",
         "x": [
          44202.6536,
          6781.3542,
          5478.0368,
          32548.3405,
          1815.8759,
          11093.6229,
          11090.7178,
          13470.8044,
          47269.854,
          10107.2206,
          38282.7495,
          19350.3689,
          1615.7667,
          40974.1649,
          1824.2854,
          7243.8136,
          36950.2567,
          41999.52,
          6184.2994,
          20462.99766,
          7152.6714,
          2219.4451,
          8232.6388,
          4266.1658,
          19521.9682,
          27808.7251,
          16586.49771,
          5966.8874,
          4504.6624,
          3500.6123,
          4340.4409,
          5974.3847,
          3227.1211,
          11363.2832,
          12592.5345,
          6313.759,
          5920.1041,
          12142.5786,
          3561.8889,
          4673.3922,
          46599.1084,
          2566.4707,
          41676.0811,
          8978.1851,
          48970.2476,
          24667.419,
          8596.8278,
          38709.176,
          1136.3994,
          18806.14547,
          1981.5819,
          1131.5066,
          6500.2359,
          1146.7966,
          8547.6913,
          39611.7577,
          11881.9696,
          48675.5177,
          44400.4064,
          18223.4512,
          28287.89766,
          9855.1314,
          10702.6424,
          5245.2269,
          1664.9996,
          2464.6188,
          9377.9047,
          10226.2842,
          36124.5737,
          4779.6023,
          6338.0756,
          42112.2356,
          1633.9618
         ],
         "xaxis": "x4",
         "y": [
          40101.129470959815,
          9501.012860062856,
          6655.040624813028,
          26113.20860618343,
          2082.6779886390086,
          14032.246219671815,
          13348.454616571034,
          14781.282509901484,
          43789.44001942619,
          9337.444297363685,
          33166.07666764008,
          30185.932530085243,
          1396.0838060847818,
          37760.73086815253,
          3427.9563372865396,
          10179.061703168465,
          32462.16245630027,
          39175.01793425801,
          8409.819545152193,
          15835.03925985051,
          9674.477773802824,
          4734.564510453782,
          8339.314907262302,
          8812.754121803999,
          28322.532950660177,
          40240.55166150273,
          2725.1687536127756,
          5203.050982135603,
          6267.166126533461,
          7372.954838071686,
          5204.330922927244,
          6838.336619282371,
          5343.71332648912,
          11933.575628508746,
          21698.335868914022,
          8255.852307061647,
          8219.56496091091,
          9354.083452022338,
          3180.8729577000377,
          7295.400114655735,
          45172.503656780435,
          3363.342478899327,
          39448.785709950665,
          11060.954583080576,
          46788.614173287104,
          35901.095698616184,
          13933.363811840898,
          34071.22716235507,
          2796.2910708373583,
          9269.031726574776,
          3481.1449443871807,
          2023.831525303327,
          7520.949607476166,
          4556.76061165562,
          9033.924622196693,
          34470.53517471184,
          12497.269633880122,
          46438.31333121322,
          41594.94776581732,
          23570.73518456825,
          14289.202467583513,
          7841.109586424011,
          11971.251265302482,
          7573.276316576939,
          1985.399763253854,
          2697.839874735706,
          9007.781138202998,
          11862.094889444683,
          28522.87908705356,
          5586.00979940103,
          7527.162977009404,
          34388.69024152324,
          4421.259400676116
         ],
         "yaxis": "y4"
        },
        {
         "hovertemplate": "<b>OLS trendline</b><br>preds = 0.866193 * actuals + 2334.73<br>R<sup>2</sup>=0.905011<br><br>index=Southeast<br>actuals=%{x}<br>preds=%{y} <b>(trend)</b><extra></extra>",
         "legendgroup": "Southeast",
         "marker": {
          "color": "#D0A99C",
          "symbol": "circle"
         },
         "mode": "lines",
         "name": "Southeast",
         "showlegend": false,
         "type": "scatter",
         "x": [
          1131.5066,
          1136.3994,
          1146.7966,
          1615.7667,
          1633.9618,
          1664.9996,
          1815.8759,
          1824.2854,
          1981.5819,
          2219.4451,
          2464.6188,
          2566.4707,
          3227.1211,
          3500.6123,
          3561.8889,
          4266.1658,
          4340.4409,
          4504.6624,
          4673.3922,
          4779.6023,
          5245.2269,
          5478.0368,
          5920.1041,
          5966.8874,
          5974.3847,
          6184.2994,
          6313.759,
          6338.0756,
          6500.2359,
          6781.3542,
          7152.6714,
          7243.8136,
          8232.6388,
          8547.6913,
          8596.8278,
          8978.1851,
          9377.9047,
          9855.1314,
          10107.2206,
          10226.2842,
          10702.6424,
          11090.7178,
          11093.6229,
          11363.2832,
          11881.9696,
          12142.5786,
          12592.5345,
          13470.8044,
          16586.49771,
          18223.4512,
          18806.14547,
          19350.3689,
          19521.9682,
          20462.99766,
          24667.419,
          27808.7251,
          28287.89766,
          32548.3405,
          36124.5737,
          36950.2567,
          38282.7495,
          38709.176,
          39611.7577,
          40974.1649,
          41676.0811,
          41999.52,
          42112.2356,
          44202.6536,
          44400.4064,
          46599.1084,
          47269.854,
          48675.5177,
          48970.2476
         ],
         "xaxis": "x4",
         "y": [
          3314.8354500621035,
          3319.0735579086386,
          3328.079537082526,
          3734.298033771609,
          3750.058497325911,
          3776.9432144039006,
          3907.6311703567662,
          3914.915418217998,
          4051.164504811055,
          4257.199882165933,
          4469.567561558926,
          4557.790938066142,
          5130.041519339962,
          5366.937611695728,
          5420.014957851098,
          6030.054496770204,
          6094.391049278416,
          6236.638520607668,
          6382.791048674276,
          6474.78946638832,
          6878.110115260083,
          7079.768360833385,
          7462.683847431361,
          7503.207202323611,
          7509.7013091658755,
          7691.527898679663,
          7803.664864541602,
          7824.727726964153,
          7965.189801814235,
          8208.692432830136,
          8530.324696334355,
          8609.271408435907,
          9465.784619474907,
          9738.680808225827,
          9781.242487877818,
          10111.57141312787,
          10457.805629358627,
          10871.17593303874,
          11089.533768336882,
          11192.665794456225,
          11605.283809740176,
          11941.431904448167,
          11943.948280982047,
          12177.526075563677,
          12626.808470456384,
          12852.546094675166,
          13242.294629335229,
          14003.045641959001,
          16701.836572409433,
          18119.753803929627,
          18624.479351227295,
          19095.881736150295,
          19244.519804289175,
          20059.63269225653,
          23701.47193996614,
          26422.448483208973,
          26837.504276697422,
          30527.86894108555,
          33625.57618151215,
          34340.77680304801,
          35494.97239476063,
          35864.3399339244,
          36646.14965124556,
          37826.25687911016,
          38434.25159682396,
          38714.412024383775,
          38812.04545897888,
          40622.75035767455,
          40794.042397683195,
          42698.5421112199,
          43279.53708145962,
          44497.11277565507,
          44752.40567579375
         ],
         "yaxis": "y4"
        },
        {
         "hovertemplate": "Actual Cost: %{x:$,.2f}<br>Predicted Cost: %{y:$,.2f}",
         "legendgroup": "Northwest",
         "marker": {
          "color": "#5D8370",
          "line": {
           "color": "#F7F7F7",
           "width": 1
          },
          "opacity": 0.7,
          "size": 10,
          "symbol": "circle"
         },
         "mode": "markers",
         "name": "Northwest",
         "orientation": "v",
         "showlegend": false,
         "type": "scatter",
         "x": [
          9174.13565,
          4433.3877,
          21774.32215,
          7731.85785,
          33471.97189,
          4618.0799,
          3594.17085,
          12235.8392,
          6203.90175,
          11840.77505,
          4466.6214,
          8162.71625,
          6393.60345,
          1906.35825,
          23967.38305,
          2775.19215,
          3537.703,
          32787.45859,
          6112.35295,
          9301.89355,
          11945.1327,
          6389.37785,
          23807.2406,
          10264.4421,
          4243.59005,
          16455.70785,
          8413.46305,
          26018.95052,
          60021.39897,
          3579.8287,
          12479.70895,
          5855.9025,
          7153.5539,
          1635.73365,
          6986.697,
          43921.1837,
          15019.76005,
          29330.98315,
          5630.45785,
          8827.2099,
          8059.6791,
          5729.0053,
          14382.70905,
          29141.3603,
          38746.3551,
          3877.30425,
          42760.5022,
          6373.55735,
          28950.4692,
          16420.49455,
          10600.5483,
          18033.9679,
          39983.42595,
          6940.90985,
          4239.89265,
          6360.9936,
          8116.26885,
          6796.86325,
          2136.88225,
          33307.5508,
          13415.0381,
          10976.24575,
          3353.4703,
          5261.46945,
          5989.52365
         ],
         "xaxis": "x",
         "y": [
          11662.079848311936,
          7887.23735963806,
          30779.599089273175,
          10694.280222659363,
          14532.951933022516,
          5954.229909662867,
          3359.181512122157,
          14343.314792709589,
          8680.011762205475,
          12151.711041479026,
          6946.68133022186,
          11768.488418035986,
          9061.186735238238,
          4479.501317223438,
          30654.810022336347,
          2757.6528237931198,
          5981.704650793137,
          30834.8950562813,
          8838.10207708308,
          10924.63798245569,
          14637.178133270301,
          8218.201147316595,
          30407.723444400122,
          12588.565427343274,
          6876.765969642708,
          16391.725929078108,
          11311.677821048337,
          5367.008229972478,
          37387.52730166754,
          5601.638987129484,
          11772.99366585942,
          6134.898450106275,
          8184.323083461493,
          3859.9075776998015,
          10617.184862931676,
          32857.88343775527,
          15057.112618721078,
          38211.94622462873,
          8837.982443905405,
          9857.29977520878,
          9343.337965449513,
          10132.428468214943,
          13800.298141447976,
          38093.912426811774,
          29616.274112890474,
          7005.146610150599,
          33778.75217665425,
          10976.163881189232,
          37882.430604839115,
          27685.546723734205,
          13577.907049706768,
          25000.85689453871,
          36013.24428154006,
          8666.46386339654,
          6199.630682918678,
          11755.962580062762,
          11523.57584576277,
          10214.756641963097,
          4980.859736205078,
          24436.414067676447,
          10341.659410877808,
          13597.640230391149,
          3104.3149102549505,
          7627.43457225103,
          9645.182120522692
         ],
         "yaxis": "y"
        },
        {
         "hovertemplate": "<b>OLS trendline</b><br>preds = 0.716568 * actuals + 4799.83<br>R<sup>2</sup>=0.751236<br><br>index=Northwest<br>actuals=%{x}<br>preds=%{y} <b>(trend)</b><extra></extra>",
         "legendgroup": "Northwest",
         "marker": {
          "color": "#5D8370",
          "symbol": "circle"
         },
         "mode": "lines",
         "name": "Northwest",
         "showlegend": false,
         "type": "scatter",
         "x": [
          1635.73365,
          1906.35825,
          2136.88225,
          2775.19215,
          3353.4703,
          3537.703,
          3579.8287,
          3594.17085,
          3877.30425,
          4239.89265,
          4243.59005,
          4433.3877,
          4466.6214,
          4618.0799,
          5261.46945,
          5630.45785,
          5729.0053,
          5855.9025,
          5989.52365,
          6112.35295,
          6203.90175,
          6360.9936,
          6373.55735,
          6389.37785,
          6393.60345,
          6796.86325,
          6940.90985,
          6986.697,
          7153.5539,
          7731.85785,
          8059.6791,
          8116.26885,
          8162.71625,
          8413.46305,
          8827.2099,
          9174.13565,
          9301.89355,
          10264.4421,
          10600.5483,
          10976.24575,
          11840.77505,
          11945.1327,
          12235.8392,
          12479.70895,
          13415.0381,
          14382.70905,
          15019.76005,
          16420.49455,
          16455.70785,
          18033.9679,
          21774.32215,
          23807.2406,
          23967.38305,
          26018.95052,
          28950.4692,
          29141.3603,
          29330.98315,
          32787.45859,
          33307.5508,
          33471.97189,
          38746.3551,
          39983.42595,
          42760.5022,
          43921.1837,
          60021.39897
         ],
         "xaxis": "x",
         "y": [
          5971.94520329432,
          6165.866176270717,
          6331.052335897045,
          6788.444889524715,
          7202.820602224118,
          7334.835889962442,
          7365.021825503083,
          7375.298953608117,
          7578.1833344445795,
          7838.002638816595,
          7840.652077949191,
          7976.655031696314,
          8000.4692431154,
          8108.999582506371,
          8570.032051612456,
          8834.4373922393,
          8905.05335763322,
          8995.983851357665,
          9091.732513593932,
          9179.748079680718,
          9245.349035287938,
          9357.91605395018,
          9366.918837230904,
          9378.255303882393,
          9381.283234319646,
          9670.246369150209,
          9773.46557696037,
          9806.275191008082,
          9925.839533628176,
          10340.23373378623,
          10575.140005286821,
          10615.690418591788,
          10648.973146770319,
          10828.650321080113,
          11125.128142083522,
          11373.724090088865,
          11465.271334032768,
          12155.002982053753,
          12395.845984971447,
          12665.05881724446,
          13284.552991176184,
          13359.332360921326,
          13567.643384126764,
          13742.392683338701,
          14412.619775854262,
          15106.02197264271,
          15562.51243860769,
          16566.23418866887,
          16591.46691842703,
          17722.39782605988,
          20402.616606748714,
          21859.341249688303,
          21974.09423119414,
          23444.182168170766,
          25544.815128825798,
          25681.60161403274,
          25817.479311664654,
          28294.279574441287,
          28666.96109489672,
          28784.780013615273,
          32564.23511094779,
          33450.68069968117,
          35440.645131701196,
          36272.352544093505,
          47809.25425327977
         ],
         "yaxis": "y"
        },
        {
         "hovertemplate": "Actual Cost: %{x:$,.2f}<br>Predicted Cost: %{y:$,.2f}",
         "legendgroup": "Northeast",
         "marker": {
          "color": "#6C839B",
          "line": {
           "color": "#F7F7F7",
           "width": 1
          },
          "opacity": 0.7,
          "size": 10,
          "symbol": "circle"
         },
         "mode": "markers",
         "name": "Northeast",
         "orientation": "v",
         "showlegend": false,
         "type": "scatter",
         "x": [
          58571.07448,
          41034.2214,
          13129.60345,
          17128.42608,
          13224.05705,
          42303.69215,
          8627.5411,
          11512.405,
          13228.84695,
          12730.9996,
          3558.62025,
          14590.63205,
          13019.16105,
          6113.23105,
          4846.92015,
          14451.83515,
          9282.4806,
          5594.8455,
          2203.73595,
          6640.54485,
          12323.936,
          7935.29115,
          3857.75925,
          1712.227,
          2727.3951,
          7639.41745,
          3044.2133,
          25517.11363,
          11938.25595,
          3393.35635,
          14449.8544,
          33475.81715,
          20709.02034,
          8334.45755,
          2217.6012,
          11879.10405,
          11394.06555,
          10072.05505,
          2396.0959,
          7729.64575,
          2211.13075,
          3385.39915,
          24106.91255,
          2205.9808,
          9722.7695,
          13616.3586,
          11658.37915,
          6067.12675,
          19594.80965,
          2217.46915,
          22395.74424,
          12029.2867,
          9866.30485,
          16115.3045,
          7050.0213,
          5428.7277,
          13430.265,
          2196.4732,
          7985.815,
          13725.47184,
          3481.868,
          13143.86485,
          23241.47453,
          7133.9025,
          8606.2174
         ],
         "xaxis": "x2",
         "y": [
          31028.800511882153,
          35621.0531140682,
          10184.204088583772,
          7658.688104486734,
          16793.1108083291,
          36631.275419377205,
          5919.313404919074,
          13912.083507331174,
          15826.168140120228,
          12527.784782259076,
          4328.168705057169,
          17563.275701504695,
          14908.411894377434,
          10384.684552974555,
          7699.378369399245,
          10679.87173709425,
          8881.480564711681,
          9934.872624235102,
          4646.426387884023,
          3638.2599763281814,
          10192.245548067815,
          13319.656740704406,
          7174.45868540525,
          4129.304669787116,
          6015.76386207387,
          11581.86196423326,
          3851.6402556160083,
          9754.880173939555,
          12374.73583971292,
          10144.397588110873,
          10080.510768664943,
          25117.627678202705,
          16781.952572424387,
          11422.655103028366,
          8533.558074859006,
          14191.380192537732,
          14284.679153905367,
          11364.45028204213,
          3533.6809177461673,
          7824.935735694549,
          6657.434118833626,
          5474.222008119208,
          31015.345803238844,
          5241.899347427117,
          12352.304317870075,
          9795.238489415005,
          11552.538480836107,
          7602.0938280803375,
          24591.6823540916,
          8494.183023241514,
          5447.555717645688,
          9003.60050253131,
          12696.714957221626,
          19409.429960777565,
          10244.709117072198,
          10329.487234316575,
          16773.624984401245,
          2809.557853056778,
          8890.809278773595,
          6739.999674670878,
          5232.6047376863535,
          14697.63731088027,
          4325.799276586882,
          6581.42220159302,
          8694.980607919566
         ],
         "yaxis": "y2"
        },
        {
         "hovertemplate": "<b>OLS trendline</b><br>preds = 0.569433 * actuals + 4826.1<br>R<sup>2</sup>=0.641782<br><br>index=Northeast<br>actuals=%{x}<br>preds=%{y} <b>(trend)</b><extra></extra>",
         "legendgroup": "Northeast",
         "marker": {
          "color": "#6C839B",
          "symbol": "circle"
         },
         "mode": "lines",
         "name": "Northeast",
         "showlegend": false,
         "type": "scatter",
         "x": [
          1712.227,
          2196.4732,
          2203.73595,
          2205.9808,
          2211.13075,
          2217.46915,
          2217.6012,
          2396.0959,
          2727.3951,
          3044.2133,
          3385.39915,
          3393.35635,
          3481.868,
          3558.62025,
          3857.75925,
          4846.92015,
          5428.7277,
          5594.8455,
          6067.12675,
          6113.23105,
          6640.54485,
          7050.0213,
          7133.9025,
          7639.41745,
          7729.64575,
          7935.29115,
          7985.815,
          8334.45755,
          8606.2174,
          8627.5411,
          9282.4806,
          9722.7695,
          9866.30485,
          10072.05505,
          11394.06555,
          11512.405,
          11658.37915,
          11879.10405,
          11938.25595,
          12029.2867,
          12323.936,
          12730.9996,
          13019.16105,
          13129.60345,
          13143.86485,
          13224.05705,
          13228.84695,
          13430.265,
          13616.3586,
          13725.47184,
          14449.8544,
          14451.83515,
          14590.63205,
          16115.3045,
          17128.42608,
          19594.80965,
          20709.02034,
          22395.74424,
          23241.47453,
          24106.91255,
          25517.11363,
          33475.81715,
          41034.2214,
          42303.69215,
          58571.07448
         ],
         "xaxis": "x2",
         "y": [
          5801.100205611609,
          6076.846109795119,
          6080.981761382285,
          6082.260053691045,
          6085.192606634671,
          6088.801902565288,
          6088.87709623051,
          6190.517919521357,
          6379.170711137013,
          6559.5775393595,
          6753.860118557581,
          6758.391213089183,
          6808.7926926671835,
          6852.49797847917,
          7022.837681777928,
          7586.098821986101,
          7917.399406142555,
          8011.992410614195,
          8280.925074020059,
          8307.178396999667,
          8607.448426107676,
          8840.617945965765,
          8888.382693191448,
          9176.239731545145,
          9227.61872877102,
          9344.720064339952,
          9373.490026192168,
          9572.018698562948,
          9726.767802549773,
          9738.910227078944,
          10111.85457772743,
          10362.569732193202,
          10444.30353798878,
          10561.464550165929,
          11314.261331354079,
          11381.64775305616,
          11464.77029274603,
          11590.458397528917,
          11624.141458231661,
          11675.9773971967,
          11843.760515877939,
          12075.556078635465,
          12239.644799581716,
          12302.534378164257,
          12310.655294008146,
          12356.319401847224,
          12359.046930336759,
          12473.741072110364,
          12579.70896198697,
          12641.841672625054,
          13054.329213016628,
          13055.457117994945,
          13134.492692643478,
          14002.691933667853,
          14579.597082587816,
          15984.037979745095,
          16618.506632601806,
          17578.983363061307,
          18060.57033991612,
          18553.37955419532,
          19356.394987016807,
          23888.34567295071,
          28192.35263077657,
          28915.231529554236,
          38178.42048030843
         ],
         "yaxis": "y2"
        }
       ],
       "layout": {
        "annotations": [
         {
          "showarrow": false,
          "text": "Northwest",
          "x": 0.245,
          "xanchor": "center",
          "xref": "paper",
          "y": 0.46499999999999997,
          "yanchor": "bottom",
          "yref": "paper"
         },
         {
          "showarrow": false,
          "text": "Northeast",
          "x": 0.755,
          "xanchor": "center",
          "xref": "paper",
          "y": 0.46499999999999997,
          "yanchor": "bottom",
          "yref": "paper"
         },
         {
          "showarrow": false,
          "text": "Southwest",
          "x": 0.245,
          "xanchor": "center",
          "xref": "paper",
          "y": 0.9999999999999999,
          "yanchor": "bottom",
          "yref": "paper"
         },
         {
          "showarrow": false,
          "text": "Southeast",
          "x": 0.755,
          "xanchor": "center",
          "xref": "paper",
          "y": 0.9999999999999999,
          "yanchor": "bottom",
          "yref": "paper"
         },
         {
          "showarrow": false,
          "text": "Adj. R-Squared = 76.6%<br>RMSE = 5,349",
          "x": 51000,
          "xref": "x3",
          "y": 15000,
          "yref": "y3"
         },
         {
          "showarrow": false,
          "text": "Adj. R-Squared = 89.3%<br>RMSE = 4,700",
          "x": 51000,
          "xref": "x4",
          "y": 15000,
          "yref": "y4"
         },
         {
          "showarrow": false,
          "text": "Adj. R-Squared = 71.8%<br>RMSE = 6,306",
          "x": 51000,
          "xref": "x",
          "y": 15000,
          "yref": "y"
         },
         {
          "showarrow": false,
          "text": "Adj. R-Squared = 58.8%<br>RMSE = 6,232",
          "x": 51000,
          "xref": "x2",
          "y": 15000,
          "yref": "y2"
         }
        ],
        "font": {
         "color": "#303030"
        },
        "height": 700,
        "legend": {
         "title": {
          "text": "index"
         },
         "tracegroupgap": 0
        },
        "paper_bgcolor": "white",
        "plot_bgcolor": "white",
        "template": {
         "data": {
          "bar": [
           {
            "error_x": {
             "color": "#2a3f5f"
            },
            "error_y": {
             "color": "#2a3f5f"
            },
            "marker": {
             "line": {
              "color": "white",
              "width": 0.5
             },
             "pattern": {
              "fillmode": "overlay",
              "size": 10,
              "solidity": 0.2
             }
            },
            "type": "bar"
           }
          ],
          "barpolar": [
           {
            "marker": {
             "line": {
              "color": "white",
              "width": 0.5
             },
             "pattern": {
              "fillmode": "overlay",
              "size": 10,
              "solidity": 0.2
             }
            },
            "type": "barpolar"
           }
          ],
          "carpet": [
           {
            "aaxis": {
             "endlinecolor": "#2a3f5f",
             "gridcolor": "#C8D4E3",
             "linecolor": "#C8D4E3",
             "minorgridcolor": "#C8D4E3",
             "startlinecolor": "#2a3f5f"
            },
            "baxis": {
             "endlinecolor": "#2a3f5f",
             "gridcolor": "#C8D4E3",
             "linecolor": "#C8D4E3",
             "minorgridcolor": "#C8D4E3",
             "startlinecolor": "#2a3f5f"
            },
            "type": "carpet"
           }
          ],
          "choropleth": [
           {
            "colorbar": {
             "outlinewidth": 0,
             "ticks": ""
            },
            "type": "choropleth"
           }
          ],
          "contour": [
           {
            "colorbar": {
             "outlinewidth": 0,
             "ticks": ""
            },
            "colorscale": [
             [
              0,
              "#0d0887"
             ],
             [
              0.1111111111111111,
              "#46039f"
             ],
             [
              0.2222222222222222,
              "#7201a8"
             ],
             [
              0.3333333333333333,
              "#9c179e"
             ],
             [
              0.4444444444444444,
              "#bd3786"
             ],
             [
              0.5555555555555556,
              "#d8576b"
             ],
             [
              0.6666666666666666,
              "#ed7953"
             ],
             [
              0.7777777777777778,
              "#fb9f3a"
             ],
             [
              0.8888888888888888,
              "#fdca26"
             ],
             [
              1,
              "#f0f921"
             ]
            ],
            "type": "contour"
           }
          ],
          "contourcarpet": [
           {
            "colorbar": {
             "outlinewidth": 0,
             "ticks": ""
            },
            "type": "contourcarpet"
           }
          ],
          "heatmap": [
           {
            "colorbar": {
             "outlinewidth": 0,
             "ticks": ""
            },
            "colorscale": [
             [
              0,
              "#0d0887"
             ],
             [
              0.1111111111111111,
              "#46039f"
             ],
             [
              0.2222222222222222,
              "#7201a8"
             ],
             [
              0.3333333333333333,
              "#9c179e"
             ],
             [
              0.4444444444444444,
              "#bd3786"
             ],
             [
              0.5555555555555556,
              "#d8576b"
             ],
             [
              0.6666666666666666,
              "#ed7953"
             ],
             [
              0.7777777777777778,
              "#fb9f3a"
             ],
             [
              0.8888888888888888,
              "#fdca26"
             ],
             [
              1,
              "#f0f921"
             ]
            ],
            "type": "heatmap"
           }
          ],
          "heatmapgl": [
           {
            "colorbar": {
             "outlinewidth": 0,
             "ticks": ""
            },
            "colorscale": [
             [
              0,
              "#0d0887"
             ],
             [
              0.1111111111111111,
              "#46039f"
             ],
             [
              0.2222222222222222,
              "#7201a8"
             ],
             [
              0.3333333333333333,
              "#9c179e"
             ],
             [
              0.4444444444444444,
              "#bd3786"
             ],
             [
              0.5555555555555556,
              "#d8576b"
             ],
             [
              0.6666666666666666,
              "#ed7953"
             ],
             [
              0.7777777777777778,
              "#fb9f3a"
             ],
             [
              0.8888888888888888,
              "#fdca26"
             ],
             [
              1,
              "#f0f921"
             ]
            ],
            "type": "heatmapgl"
           }
          ],
          "histogram": [
           {
            "marker": {
             "pattern": {
              "fillmode": "overlay",
              "size": 10,
              "solidity": 0.2
             }
            },
            "type": "histogram"
           }
          ],
          "histogram2d": [
           {
            "colorbar": {
             "outlinewidth": 0,
             "ticks": ""
            },
            "colorscale": [
             [
              0,
              "#0d0887"
             ],
             [
              0.1111111111111111,
              "#46039f"
             ],
             [
              0.2222222222222222,
              "#7201a8"
             ],
             [
              0.3333333333333333,
              "#9c179e"
             ],
             [
              0.4444444444444444,
              "#bd3786"
             ],
             [
              0.5555555555555556,
              "#d8576b"
             ],
             [
              0.6666666666666666,
              "#ed7953"
             ],
             [
              0.7777777777777778,
              "#fb9f3a"
             ],
             [
              0.8888888888888888,
              "#fdca26"
             ],
             [
              1,
              "#f0f921"
             ]
            ],
            "type": "histogram2d"
           }
          ],
          "histogram2dcontour": [
           {
            "colorbar": {
             "outlinewidth": 0,
             "ticks": ""
            },
            "colorscale": [
             [
              0,
              "#0d0887"
             ],
             [
              0.1111111111111111,
              "#46039f"
             ],
             [
              0.2222222222222222,
              "#7201a8"
             ],
             [
              0.3333333333333333,
              "#9c179e"
             ],
             [
              0.4444444444444444,
              "#bd3786"
             ],
             [
              0.5555555555555556,
              "#d8576b"
             ],
             [
              0.6666666666666666,
              "#ed7953"
             ],
             [
              0.7777777777777778,
              "#fb9f3a"
             ],
             [
              0.8888888888888888,
              "#fdca26"
             ],
             [
              1,
              "#f0f921"
             ]
            ],
            "type": "histogram2dcontour"
           }
          ],
          "mesh3d": [
           {
            "colorbar": {
             "outlinewidth": 0,
             "ticks": ""
            },
            "type": "mesh3d"
           }
          ],
          "parcoords": [
           {
            "line": {
             "colorbar": {
              "outlinewidth": 0,
              "ticks": ""
             }
            },
            "type": "parcoords"
           }
          ],
          "pie": [
           {
            "automargin": true,
            "type": "pie"
           }
          ],
          "scatter": [
           {
            "fillpattern": {
             "fillmode": "overlay",
             "size": 10,
             "solidity": 0.2
            },
            "type": "scatter"
           }
          ],
          "scatter3d": [
           {
            "line": {
             "colorbar": {
              "outlinewidth": 0,
              "ticks": ""
             }
            },
            "marker": {
             "colorbar": {
              "outlinewidth": 0,
              "ticks": ""
             }
            },
            "type": "scatter3d"
           }
          ],
          "scattercarpet": [
           {
            "marker": {
             "colorbar": {
              "outlinewidth": 0,
              "ticks": ""
             }
            },
            "type": "scattercarpet"
           }
          ],
          "scattergeo": [
           {
            "marker": {
             "colorbar": {
              "outlinewidth": 0,
              "ticks": ""
             }
            },
            "type": "scattergeo"
           }
          ],
          "scattergl": [
           {
            "marker": {
             "colorbar": {
              "outlinewidth": 0,
              "ticks": ""
             }
            },
            "type": "scattergl"
           }
          ],
          "scattermapbox": [
           {
            "marker": {
             "colorbar": {
              "outlinewidth": 0,
              "ticks": ""
             }
            },
            "type": "scattermapbox"
           }
          ],
          "scatterpolar": [
           {
            "marker": {
             "colorbar": {
              "outlinewidth": 0,
              "ticks": ""
             }
            },
            "type": "scatterpolar"
           }
          ],
          "scatterpolargl": [
           {
            "marker": {
             "colorbar": {
              "outlinewidth": 0,
              "ticks": ""
             }
            },
            "type": "scatterpolargl"
           }
          ],
          "scatterternary": [
           {
            "marker": {
             "colorbar": {
              "outlinewidth": 0,
              "ticks": ""
             }
            },
            "type": "scatterternary"
           }
          ],
          "surface": [
           {
            "colorbar": {
             "outlinewidth": 0,
             "ticks": ""
            },
            "colorscale": [
             [
              0,
              "#0d0887"
             ],
             [
              0.1111111111111111,
              "#46039f"
             ],
             [
              0.2222222222222222,
              "#7201a8"
             ],
             [
              0.3333333333333333,
              "#9c179e"
             ],
             [
              0.4444444444444444,
              "#bd3786"
             ],
             [
              0.5555555555555556,
              "#d8576b"
             ],
             [
              0.6666666666666666,
              "#ed7953"
             ],
             [
              0.7777777777777778,
              "#fb9f3a"
             ],
             [
              0.8888888888888888,
              "#fdca26"
             ],
             [
              1,
              "#f0f921"
             ]
            ],
            "type": "surface"
           }
          ],
          "table": [
           {
            "cells": {
             "fill": {
              "color": "#EBF0F8"
             },
             "line": {
              "color": "white"
             }
            },
            "header": {
             "fill": {
              "color": "#C8D4E3"
             },
             "line": {
              "color": "white"
             }
            },
            "type": "table"
           }
          ]
         },
         "layout": {
          "annotationdefaults": {
           "arrowcolor": "#2a3f5f",
           "arrowhead": 0,
           "arrowwidth": 1
          },
          "autotypenumbers": "strict",
          "coloraxis": {
           "colorbar": {
            "outlinewidth": 0,
            "ticks": ""
           }
          },
          "colorscale": {
           "diverging": [
            [
             0,
             "#8e0152"
            ],
            [
             0.1,
             "#c51b7d"
            ],
            [
             0.2,
             "#de77ae"
            ],
            [
             0.3,
             "#f1b6da"
            ],
            [
             0.4,
             "#fde0ef"
            ],
            [
             0.5,
             "#f7f7f7"
            ],
            [
             0.6,
             "#e6f5d0"
            ],
            [
             0.7,
             "#b8e186"
            ],
            [
             0.8,
             "#7fbc41"
            ],
            [
             0.9,
             "#4d9221"
            ],
            [
             1,
             "#276419"
            ]
           ],
           "sequential": [
            [
             0,
             "#0d0887"
            ],
            [
             0.1111111111111111,
             "#46039f"
            ],
            [
             0.2222222222222222,
             "#7201a8"
            ],
            [
             0.3333333333333333,
             "#9c179e"
            ],
            [
             0.4444444444444444,
             "#bd3786"
            ],
            [
             0.5555555555555556,
             "#d8576b"
            ],
            [
             0.6666666666666666,
             "#ed7953"
            ],
            [
             0.7777777777777778,
             "#fb9f3a"
            ],
            [
             0.8888888888888888,
             "#fdca26"
            ],
            [
             1,
             "#f0f921"
            ]
           ],
           "sequentialminus": [
            [
             0,
             "#0d0887"
            ],
            [
             0.1111111111111111,
             "#46039f"
            ],
            [
             0.2222222222222222,
             "#7201a8"
            ],
            [
             0.3333333333333333,
             "#9c179e"
            ],
            [
             0.4444444444444444,
             "#bd3786"
            ],
            [
             0.5555555555555556,
             "#d8576b"
            ],
            [
             0.6666666666666666,
             "#ed7953"
            ],
            [
             0.7777777777777778,
             "#fb9f3a"
            ],
            [
             0.8888888888888888,
             "#fdca26"
            ],
            [
             1,
             "#f0f921"
            ]
           ]
          },
          "colorway": [
           "#636efa",
           "#EF553B",
           "#00cc96",
           "#ab63fa",
           "#FFA15A",
           "#19d3f3",
           "#FF6692",
           "#B6E880",
           "#FF97FF",
           "#FECB52"
          ],
          "font": {
           "color": "#2a3f5f"
          },
          "geo": {
           "bgcolor": "white",
           "lakecolor": "white",
           "landcolor": "white",
           "showlakes": true,
           "showland": true,
           "subunitcolor": "#C8D4E3"
          },
          "hoverlabel": {
           "align": "left"
          },
          "hovermode": "closest",
          "mapbox": {
           "style": "light"
          },
          "paper_bgcolor": "white",
          "plot_bgcolor": "white",
          "polar": {
           "angularaxis": {
            "gridcolor": "#EBF0F8",
            "linecolor": "#EBF0F8",
            "ticks": ""
           },
           "bgcolor": "white",
           "radialaxis": {
            "gridcolor": "#EBF0F8",
            "linecolor": "#EBF0F8",
            "ticks": ""
           }
          },
          "scene": {
           "xaxis": {
            "backgroundcolor": "white",
            "gridcolor": "#DFE8F3",
            "gridwidth": 2,
            "linecolor": "#EBF0F8",
            "showbackground": true,
            "ticks": "",
            "zerolinecolor": "#EBF0F8"
           },
           "yaxis": {
            "backgroundcolor": "white",
            "gridcolor": "#DFE8F3",
            "gridwidth": 2,
            "linecolor": "#EBF0F8",
            "showbackground": true,
            "ticks": "",
            "zerolinecolor": "#EBF0F8"
           },
           "zaxis": {
            "backgroundcolor": "white",
            "gridcolor": "#DFE8F3",
            "gridwidth": 2,
            "linecolor": "#EBF0F8",
            "showbackground": true,
            "ticks": "",
            "zerolinecolor": "#EBF0F8"
           }
          },
          "shapedefaults": {
           "line": {
            "color": "#2a3f5f"
           }
          },
          "ternary": {
           "aaxis": {
            "gridcolor": "#DFE8F3",
            "linecolor": "#A2B1C6",
            "ticks": ""
           },
           "baxis": {
            "gridcolor": "#DFE8F3",
            "linecolor": "#A2B1C6",
            "ticks": ""
           },
           "bgcolor": "white",
           "caxis": {
            "gridcolor": "#DFE8F3",
            "linecolor": "#A2B1C6",
            "ticks": ""
           }
          },
          "title": {
           "x": 0.05
          },
          "xaxis": {
           "automargin": true,
           "gridcolor": "#EBF0F8",
           "linecolor": "#EBF0F8",
           "ticks": "",
           "title": {
            "standoff": 15
           },
           "zerolinecolor": "#EBF0F8",
           "zerolinewidth": 2
          },
          "yaxis": {
           "automargin": true,
           "gridcolor": "#EBF0F8",
           "linecolor": "#EBF0F8",
           "ticks": "",
           "title": {
            "standoff": 15
           },
           "zerolinecolor": "#EBF0F8",
           "zerolinewidth": 2
          }
         }
        },
        "title": {
         "text": "Actual vs Predicted Insurance Costs by Region,<br>Linear Regression with Principal Component Analysis"
        },
        "xaxis": {
         "anchor": "y",
         "domain": [
          0,
          0.49
         ],
         "gridcolor": "#EAEAEA",
         "gridwidth": 1,
         "showgrid": true,
         "title": {
          "text": "Actual Cost, $"
         },
         "zeroline": true,
         "zerolinecolor": "#5E5E5E",
         "zerolinewidth": 2
        },
        "xaxis2": {
         "anchor": "y2",
         "domain": [
          0.51,
          1
         ],
         "gridcolor": "#EAEAEA",
         "gridwidth": 1,
         "matches": "x",
         "showgrid": true,
         "title": {
          "text": "Actual Cost, $"
         },
         "zeroline": true,
         "zerolinecolor": "#5E5E5E",
         "zerolinewidth": 2
        },
        "xaxis3": {
         "anchor": "y3",
         "domain": [
          0,
          0.49
         ],
         "gridcolor": "#EAEAEA",
         "gridwidth": 1,
         "matches": "x",
         "showgrid": true,
         "showticklabels": false,
         "zeroline": true,
         "zerolinecolor": "#5E5E5E",
         "zerolinewidth": 2
        },
        "xaxis4": {
         "anchor": "y4",
         "domain": [
          0.51,
          1
         ],
         "gridcolor": "#EAEAEA",
         "gridwidth": 1,
         "matches": "x",
         "showgrid": true,
         "showticklabels": false,
         "zeroline": true,
         "zerolinecolor": "#5E5E5E",
         "zerolinewidth": 2
        },
        "yaxis": {
         "anchor": "x",
         "domain": [
          0,
          0.46499999999999997
         ],
         "gridcolor": "#E3E3E3",
         "gridwidth": 1,
         "showgrid": true,
         "title": {
          "text": "Predicted Cost, $"
         },
         "zeroline": true,
         "zerolinecolor": "#5E5E5E",
         "zerolinewidth": 2
        },
        "yaxis2": {
         "anchor": "x2",
         "domain": [
          0,
          0.46499999999999997
         ],
         "gridcolor": "#E3E3E3",
         "gridwidth": 1,
         "matches": "y",
         "showgrid": true,
         "showticklabels": false,
         "zeroline": true,
         "zerolinecolor": "#5E5E5E",
         "zerolinewidth": 2
        },
        "yaxis3": {
         "anchor": "x3",
         "domain": [
          0.5349999999999999,
          0.9999999999999999
         ],
         "gridcolor": "#E3E3E3",
         "gridwidth": 1,
         "matches": "y",
         "showgrid": true,
         "title": {
          "text": "Predicted Cost, $"
         },
         "zeroline": true,
         "zerolinecolor": "#5E5E5E",
         "zerolinewidth": 2
        },
        "yaxis4": {
         "anchor": "x4",
         "domain": [
          0.5349999999999999,
          0.9999999999999999
         ],
         "gridcolor": "#E3E3E3",
         "gridwidth": 1,
         "matches": "y",
         "showgrid": true,
         "showticklabels": false,
         "zeroline": true,
         "zerolinecolor": "#5E5E5E",
         "zerolinewidth": 2
        }
       }
      },
      "text/html": [
       "<div>                            <div id=\"af008d92-8466-4561-8490-2d150c18b185\" class=\"plotly-graph-div\" style=\"height:700px; width:100%;\"></div>            <script type=\"text/javascript\">                require([\"plotly\"], function(Plotly) {                    window.PLOTLYENV=window.PLOTLYENV || {};                                    if (document.getElementById(\"af008d92-8466-4561-8490-2d150c18b185\")) {                    Plotly.newPlot(                        \"af008d92-8466-4561-8490-2d150c18b185\",                        [{\"hovertemplate\":\"Actual Cost: %{x:$,.2f}<br>Predicted Cost: %{y:$,.2f}\",\"legendgroup\":\"Southwest\",\"marker\":{\"color\":\"#B14B51\",\"opacity\":0.7,\"symbol\":\"circle\",\"line\":{\"color\":\"#F7F7F7\",\"width\":1},\"size\":10},\"mode\":\"markers\",\"name\":\"Southwest\",\"orientation\":\"v\",\"showlegend\":false,\"x\":[3761.292,11674.13,6311.952,14319.031,11552.904,5080.096,8269.044,3693.428,36837.467,13224.693,23306.547,35160.13457,12347.172,10065.413,5488.262,38711.0,7196.867,6571.544,5979.731,34828.654,6600.361,39836.519,1256.299,1242.26,4762.329,9264.797,13470.86,1759.338,1241.565,48173.361,16232.847,25309.489,10791.96,4751.07,8556.907,42856.838,8277.523,11576.13,7623.518,12146.971,20630.28351,4646.759,26140.3603,2007.945,8444.474,17081.08,13822.803,8825.086,37079.372,10096.97,11411.685,14988.432,11362.755,6875.961,10795.93733,18259.216,1261.859,17942.106,11150.78,38415.474,8522.003,8703.456,3987.926,1964.78,1743.214],\"xaxis\":\"x3\",\"y\":[4748.540040111579,13330.567156085213,7583.248902467095,15916.440968564548,12521.209296610297,1686.9921291089013,7104.924298223733,8204.362736365803,34080.10762567636,12452.529507156069,35439.49959812499,10626.88149832244,13940.70050829646,8197.377664220478,7163.0303234331905,33190.77310737089,8343.269394678491,9078.65226786511,8811.322296978904,29722.014011179184,7231.734527245747,33127.46581569572,3290.3300711027878,1409.833929343773,8344.125477579386,7284.847945526528,15175.362785731933,4675.571535617023,1322.8087386388197,49106.99745038212,26789.21178502369,35640.34476940899,8683.760921675457,6398.767077569202,10967.885905072853,40099.89129940319,8583.544320100631,15365.774556422666,7492.129732478382,11789.913358816317,12863.700066226134,6899.500077510944,9193.41242904219,2090.5136457470053,8762.155922262571,23292.51029576683,14451.176397148392,9915.234542757706,31025.829705859484,6624.073931832496,16094.308306062083,11943.782214997016,13192.133306997763,8020.191566503317,3993.0515844750207,26321.24501808459,4099.6609093192055,22338.98227564618,10801.220325933942,33838.13905572699,10787.150879800663,9097.29006407772,6162.403807097615,1807.5749544053488,2303.64485957107],\"yaxis\":\"y3\",\"type\":\"scatter\"},{\"hovertemplate\":\"<b>OLS trendline</b><br>preds = 0.826689 * actuals + 2433.4<br>R<sup>2</sup>=0.792960<br><br>index=Southwest<br>actuals=%{x}<br>preds=%{y} <b>(trend)</b><extra></extra>\",\"legendgroup\":\"Southwest\",\"marker\":{\"color\":\"#B14B51\",\"symbol\":\"circle\"},\"mode\":\"lines\",\"name\":\"Southwest\",\"showlegend\":false,\"x\":[1241.565,1242.26,1256.299,1261.859,1743.214,1759.338,1964.78,2007.945,3693.428,3761.292,3987.926,4646.759,4751.07,4762.329,5080.096,5488.262,5979.731,6311.952,6571.544,6600.361,6875.961,7196.867,7623.518,8269.044,8277.523,8444.474,8522.003,8556.907,8703.456,8825.086,9264.797,10065.413,10096.97,10791.96,10795.93733,11150.78,11362.755,11411.685,11552.904,11576.13,11674.13,12146.971,12347.172,13224.693,13470.86,13822.803,14319.031,14988.432,16232.847,17081.08,17942.106,18259.216,20630.28351,23306.547,25309.489,26140.3603,34828.654,35160.13457,36837.467,37079.372,38415.474,38711.0,39836.519,42856.838,48173.361],\"xaxis\":\"x3\",\"y\":[3459.7851110570364,3460.3596601913555,3471.9655527046,3476.5619457791527,3874.4930228297208,3887.8225627459224,4057.6592868506327,4093.343334883556,5486.714268062649,5542.816717633049,5730.172643542779,6274.822902263384,6361.055700464757,6370.363396440725,6633.058007613618,6970.484514028681,7376.776727690044,7651.42030747797,7866.022262695451,7889.844971189943,8117.680570353007,8382.970159558457,8735.678019567602,9269.327522417152,9276.337021855845,9414.353644192102,9478.446046831847,9507.30081371569,9628.451318874428,9729.001550827268,10092.505974425201,10754.366736615098,10780.454574070787,11354.995441495816,11358.28345805467,11651.628132684826,11826.865618652133,11867.315531086999,11984.05978173362,12003.2604697821,12084.276031168094,12475.168674650904,12640.672719600268,13366.110030243122,13569.613680240127,13860.56122841228,14270.787656937278,14824.17436925714,15852.919061319924,16554.144292759996,17265.945361718543,17528.09683795439,19488.233219655856,21700.671883525163,23356.482807541368,24043.355305592504,31225.875627958878,31499.907102112953,32886.540045453614,33086.52034521973,34191.061708474335,34435.369920659614,35365.82454959434,37862.69025724524,42257.80347629171],\"yaxis\":\"y3\",\"type\":\"scatter\"},{\"hovertemplate\":\"Actual Cost: %{x:$,.2f}<br>Predicted Cost: %{y:$,.2f}\",\"legendgroup\":\"Southeast\",\"marker\":{\"color\":\"#D0A99C\",\"opacity\":0.7,\"symbol\":\"circle\",\"line\":{\"color\":\"#F7F7F7\",\"width\":1},\"size\":10},\"mode\":\"markers\",\"name\":\"Southeast\",\"orientation\":\"v\",\"showlegend\":false,\"x\":[44202.6536,6781.3542,5478.0368,32548.3405,1815.8759,11093.6229,11090.7178,13470.8044,47269.854,10107.2206,38282.7495,19350.3689,1615.7667,40974.1649,1824.2854,7243.8136,36950.2567,41999.52,6184.2994,20462.99766,7152.6714,2219.4451,8232.6388,4266.1658,19521.9682,27808.7251,16586.49771,5966.8874,4504.6624,3500.6123,4340.4409,5974.3847,3227.1211,11363.2832,12592.5345,6313.759,5920.1041,12142.5786,3561.8889,4673.3922,46599.1084,2566.4707,41676.0811,8978.1851,48970.2476,24667.419,8596.8278,38709.176,1136.3994,18806.14547,1981.5819,1131.5066,6500.2359,1146.7966,8547.6913,39611.7577,11881.9696,48675.5177,44400.4064,18223.4512,28287.89766,9855.1314,10702.6424,5245.2269,1664.9996,2464.6188,9377.9047,10226.2842,36124.5737,4779.6023,6338.0756,42112.2356,1633.9618],\"xaxis\":\"x4\",\"y\":[40101.129470959815,9501.012860062856,6655.040624813028,26113.20860618343,2082.6779886390086,14032.246219671815,13348.454616571034,14781.282509901484,43789.44001942619,9337.444297363685,33166.07666764008,30185.932530085243,1396.0838060847818,37760.73086815253,3427.9563372865396,10179.061703168465,32462.16245630027,39175.01793425801,8409.819545152193,15835.03925985051,9674.477773802824,4734.564510453782,8339.314907262302,8812.754121803999,28322.532950660177,40240.55166150273,2725.1687536127756,5203.050982135603,6267.166126533461,7372.954838071686,5204.330922927244,6838.336619282371,5343.71332648912,11933.575628508746,21698.335868914022,8255.852307061647,8219.56496091091,9354.083452022338,3180.8729577000377,7295.400114655735,45172.503656780435,3363.342478899327,39448.785709950665,11060.954583080576,46788.614173287104,35901.095698616184,13933.363811840898,34071.22716235507,2796.2910708373583,9269.031726574776,3481.1449443871807,2023.831525303327,7520.949607476166,4556.76061165562,9033.924622196693,34470.53517471184,12497.269633880122,46438.31333121322,41594.94776581732,23570.73518456825,14289.202467583513,7841.109586424011,11971.251265302482,7573.276316576939,1985.399763253854,2697.839874735706,9007.781138202998,11862.094889444683,28522.87908705356,5586.00979940103,7527.162977009404,34388.69024152324,4421.259400676116],\"yaxis\":\"y4\",\"type\":\"scatter\"},{\"hovertemplate\":\"<b>OLS trendline</b><br>preds = 0.866193 * actuals + 2334.73<br>R<sup>2</sup>=0.905011<br><br>index=Southeast<br>actuals=%{x}<br>preds=%{y} <b>(trend)</b><extra></extra>\",\"legendgroup\":\"Southeast\",\"marker\":{\"color\":\"#D0A99C\",\"symbol\":\"circle\"},\"mode\":\"lines\",\"name\":\"Southeast\",\"showlegend\":false,\"x\":[1131.5066,1136.3994,1146.7966,1615.7667,1633.9618,1664.9996,1815.8759,1824.2854,1981.5819,2219.4451,2464.6188,2566.4707,3227.1211,3500.6123,3561.8889,4266.1658,4340.4409,4504.6624,4673.3922,4779.6023,5245.2269,5478.0368,5920.1041,5966.8874,5974.3847,6184.2994,6313.759,6338.0756,6500.2359,6781.3542,7152.6714,7243.8136,8232.6388,8547.6913,8596.8278,8978.1851,9377.9047,9855.1314,10107.2206,10226.2842,10702.6424,11090.7178,11093.6229,11363.2832,11881.9696,12142.5786,12592.5345,13470.8044,16586.49771,18223.4512,18806.14547,19350.3689,19521.9682,20462.99766,24667.419,27808.7251,28287.89766,32548.3405,36124.5737,36950.2567,38282.7495,38709.176,39611.7577,40974.1649,41676.0811,41999.52,42112.2356,44202.6536,44400.4064,46599.1084,47269.854,48675.5177,48970.2476],\"xaxis\":\"x4\",\"y\":[3314.8354500621035,3319.0735579086386,3328.079537082526,3734.298033771609,3750.058497325911,3776.9432144039006,3907.6311703567662,3914.915418217998,4051.164504811055,4257.199882165933,4469.567561558926,4557.790938066142,5130.041519339962,5366.937611695728,5420.014957851098,6030.054496770204,6094.391049278416,6236.638520607668,6382.791048674276,6474.78946638832,6878.110115260083,7079.768360833385,7462.683847431361,7503.207202323611,7509.7013091658755,7691.527898679663,7803.664864541602,7824.727726964153,7965.189801814235,8208.692432830136,8530.324696334355,8609.271408435907,9465.784619474907,9738.680808225827,9781.242487877818,10111.57141312787,10457.805629358627,10871.17593303874,11089.533768336882,11192.665794456225,11605.283809740176,11941.431904448167,11943.948280982047,12177.526075563677,12626.808470456384,12852.546094675166,13242.294629335229,14003.045641959001,16701.836572409433,18119.753803929627,18624.479351227295,19095.881736150295,19244.519804289175,20059.63269225653,23701.47193996614,26422.448483208973,26837.504276697422,30527.86894108555,33625.57618151215,34340.77680304801,35494.97239476063,35864.3399339244,36646.14965124556,37826.25687911016,38434.25159682396,38714.412024383775,38812.04545897888,40622.75035767455,40794.042397683195,42698.5421112199,43279.53708145962,44497.11277565507,44752.40567579375],\"yaxis\":\"y4\",\"type\":\"scatter\"},{\"hovertemplate\":\"Actual Cost: %{x:$,.2f}<br>Predicted Cost: %{y:$,.2f}\",\"legendgroup\":\"Northwest\",\"marker\":{\"color\":\"#5D8370\",\"opacity\":0.7,\"symbol\":\"circle\",\"line\":{\"color\":\"#F7F7F7\",\"width\":1},\"size\":10},\"mode\":\"markers\",\"name\":\"Northwest\",\"orientation\":\"v\",\"showlegend\":false,\"x\":[9174.13565,4433.3877,21774.32215,7731.85785,33471.97189,4618.0799,3594.17085,12235.8392,6203.90175,11840.77505,4466.6214,8162.71625,6393.60345,1906.35825,23967.38305,2775.19215,3537.703,32787.45859,6112.35295,9301.89355,11945.1327,6389.37785,23807.2406,10264.4421,4243.59005,16455.70785,8413.46305,26018.95052,60021.39897,3579.8287,12479.70895,5855.9025,7153.5539,1635.73365,6986.697,43921.1837,15019.76005,29330.98315,5630.45785,8827.2099,8059.6791,5729.0053,14382.70905,29141.3603,38746.3551,3877.30425,42760.5022,6373.55735,28950.4692,16420.49455,10600.5483,18033.9679,39983.42595,6940.90985,4239.89265,6360.9936,8116.26885,6796.86325,2136.88225,33307.5508,13415.0381,10976.24575,3353.4703,5261.46945,5989.52365],\"xaxis\":\"x\",\"y\":[11662.079848311936,7887.23735963806,30779.599089273175,10694.280222659363,14532.951933022516,5954.229909662867,3359.181512122157,14343.314792709589,8680.011762205475,12151.711041479026,6946.68133022186,11768.488418035986,9061.186735238238,4479.501317223438,30654.810022336347,2757.6528237931198,5981.704650793137,30834.8950562813,8838.10207708308,10924.63798245569,14637.178133270301,8218.201147316595,30407.723444400122,12588.565427343274,6876.765969642708,16391.725929078108,11311.677821048337,5367.008229972478,37387.52730166754,5601.638987129484,11772.99366585942,6134.898450106275,8184.323083461493,3859.9075776998015,10617.184862931676,32857.88343775527,15057.112618721078,38211.94622462873,8837.982443905405,9857.29977520878,9343.337965449513,10132.428468214943,13800.298141447976,38093.912426811774,29616.274112890474,7005.146610150599,33778.75217665425,10976.163881189232,37882.430604839115,27685.546723734205,13577.907049706768,25000.85689453871,36013.24428154006,8666.46386339654,6199.630682918678,11755.962580062762,11523.57584576277,10214.756641963097,4980.859736205078,24436.414067676447,10341.659410877808,13597.640230391149,3104.3149102549505,7627.43457225103,9645.182120522692],\"yaxis\":\"y\",\"type\":\"scatter\"},{\"hovertemplate\":\"<b>OLS trendline</b><br>preds = 0.716568 * actuals + 4799.83<br>R<sup>2</sup>=0.751236<br><br>index=Northwest<br>actuals=%{x}<br>preds=%{y} <b>(trend)</b><extra></extra>\",\"legendgroup\":\"Northwest\",\"marker\":{\"color\":\"#5D8370\",\"symbol\":\"circle\"},\"mode\":\"lines\",\"name\":\"Northwest\",\"showlegend\":false,\"x\":[1635.73365,1906.35825,2136.88225,2775.19215,3353.4703,3537.703,3579.8287,3594.17085,3877.30425,4239.89265,4243.59005,4433.3877,4466.6214,4618.0799,5261.46945,5630.45785,5729.0053,5855.9025,5989.52365,6112.35295,6203.90175,6360.9936,6373.55735,6389.37785,6393.60345,6796.86325,6940.90985,6986.697,7153.5539,7731.85785,8059.6791,8116.26885,8162.71625,8413.46305,8827.2099,9174.13565,9301.89355,10264.4421,10600.5483,10976.24575,11840.77505,11945.1327,12235.8392,12479.70895,13415.0381,14382.70905,15019.76005,16420.49455,16455.70785,18033.9679,21774.32215,23807.2406,23967.38305,26018.95052,28950.4692,29141.3603,29330.98315,32787.45859,33307.5508,33471.97189,38746.3551,39983.42595,42760.5022,43921.1837,60021.39897],\"xaxis\":\"x\",\"y\":[5971.94520329432,6165.866176270717,6331.052335897045,6788.444889524715,7202.820602224118,7334.835889962442,7365.021825503083,7375.298953608117,7578.1833344445795,7838.002638816595,7840.652077949191,7976.655031696314,8000.4692431154,8108.999582506371,8570.032051612456,8834.4373922393,8905.05335763322,8995.983851357665,9091.732513593932,9179.748079680718,9245.349035287938,9357.91605395018,9366.918837230904,9378.255303882393,9381.283234319646,9670.246369150209,9773.46557696037,9806.275191008082,9925.839533628176,10340.23373378623,10575.140005286821,10615.690418591788,10648.973146770319,10828.650321080113,11125.128142083522,11373.724090088865,11465.271334032768,12155.002982053753,12395.845984971447,12665.05881724446,13284.552991176184,13359.332360921326,13567.643384126764,13742.392683338701,14412.619775854262,15106.02197264271,15562.51243860769,16566.23418866887,16591.46691842703,17722.39782605988,20402.616606748714,21859.341249688303,21974.09423119414,23444.182168170766,25544.815128825798,25681.60161403274,25817.479311664654,28294.279574441287,28666.96109489672,28784.780013615273,32564.23511094779,33450.68069968117,35440.645131701196,36272.352544093505,47809.25425327977],\"yaxis\":\"y\",\"type\":\"scatter\"},{\"hovertemplate\":\"Actual Cost: %{x:$,.2f}<br>Predicted Cost: %{y:$,.2f}\",\"legendgroup\":\"Northeast\",\"marker\":{\"color\":\"#6C839B\",\"opacity\":0.7,\"symbol\":\"circle\",\"line\":{\"color\":\"#F7F7F7\",\"width\":1},\"size\":10},\"mode\":\"markers\",\"name\":\"Northeast\",\"orientation\":\"v\",\"showlegend\":false,\"x\":[58571.07448,41034.2214,13129.60345,17128.42608,13224.05705,42303.69215,8627.5411,11512.405,13228.84695,12730.9996,3558.62025,14590.63205,13019.16105,6113.23105,4846.92015,14451.83515,9282.4806,5594.8455,2203.73595,6640.54485,12323.936,7935.29115,3857.75925,1712.227,2727.3951,7639.41745,3044.2133,25517.11363,11938.25595,3393.35635,14449.8544,33475.81715,20709.02034,8334.45755,2217.6012,11879.10405,11394.06555,10072.05505,2396.0959,7729.64575,2211.13075,3385.39915,24106.91255,2205.9808,9722.7695,13616.3586,11658.37915,6067.12675,19594.80965,2217.46915,22395.74424,12029.2867,9866.30485,16115.3045,7050.0213,5428.7277,13430.265,2196.4732,7985.815,13725.47184,3481.868,13143.86485,23241.47453,7133.9025,8606.2174],\"xaxis\":\"x2\",\"y\":[31028.800511882153,35621.0531140682,10184.204088583772,7658.688104486734,16793.1108083291,36631.275419377205,5919.313404919074,13912.083507331174,15826.168140120228,12527.784782259076,4328.168705057169,17563.275701504695,14908.411894377434,10384.684552974555,7699.378369399245,10679.87173709425,8881.480564711681,9934.872624235102,4646.426387884023,3638.2599763281814,10192.245548067815,13319.656740704406,7174.45868540525,4129.304669787116,6015.76386207387,11581.86196423326,3851.6402556160083,9754.880173939555,12374.73583971292,10144.397588110873,10080.510768664943,25117.627678202705,16781.952572424387,11422.655103028366,8533.558074859006,14191.380192537732,14284.679153905367,11364.45028204213,3533.6809177461673,7824.935735694549,6657.434118833626,5474.222008119208,31015.345803238844,5241.899347427117,12352.304317870075,9795.238489415005,11552.538480836107,7602.0938280803375,24591.6823540916,8494.183023241514,5447.555717645688,9003.60050253131,12696.714957221626,19409.429960777565,10244.709117072198,10329.487234316575,16773.624984401245,2809.557853056778,8890.809278773595,6739.999674670878,5232.6047376863535,14697.63731088027,4325.799276586882,6581.42220159302,8694.980607919566],\"yaxis\":\"y2\",\"type\":\"scatter\"},{\"hovertemplate\":\"<b>OLS trendline</b><br>preds = 0.569433 * actuals + 4826.1<br>R<sup>2</sup>=0.641782<br><br>index=Northeast<br>actuals=%{x}<br>preds=%{y} <b>(trend)</b><extra></extra>\",\"legendgroup\":\"Northeast\",\"marker\":{\"color\":\"#6C839B\",\"symbol\":\"circle\"},\"mode\":\"lines\",\"name\":\"Northeast\",\"showlegend\":false,\"x\":[1712.227,2196.4732,2203.73595,2205.9808,2211.13075,2217.46915,2217.6012,2396.0959,2727.3951,3044.2133,3385.39915,3393.35635,3481.868,3558.62025,3857.75925,4846.92015,5428.7277,5594.8455,6067.12675,6113.23105,6640.54485,7050.0213,7133.9025,7639.41745,7729.64575,7935.29115,7985.815,8334.45755,8606.2174,8627.5411,9282.4806,9722.7695,9866.30485,10072.05505,11394.06555,11512.405,11658.37915,11879.10405,11938.25595,12029.2867,12323.936,12730.9996,13019.16105,13129.60345,13143.86485,13224.05705,13228.84695,13430.265,13616.3586,13725.47184,14449.8544,14451.83515,14590.63205,16115.3045,17128.42608,19594.80965,20709.02034,22395.74424,23241.47453,24106.91255,25517.11363,33475.81715,41034.2214,42303.69215,58571.07448],\"xaxis\":\"x2\",\"y\":[5801.100205611609,6076.846109795119,6080.981761382285,6082.260053691045,6085.192606634671,6088.801902565288,6088.87709623051,6190.517919521357,6379.170711137013,6559.5775393595,6753.860118557581,6758.391213089183,6808.7926926671835,6852.49797847917,7022.837681777928,7586.098821986101,7917.399406142555,8011.992410614195,8280.925074020059,8307.178396999667,8607.448426107676,8840.617945965765,8888.382693191448,9176.239731545145,9227.61872877102,9344.720064339952,9373.490026192168,9572.018698562948,9726.767802549773,9738.910227078944,10111.85457772743,10362.569732193202,10444.30353798878,10561.464550165929,11314.261331354079,11381.64775305616,11464.77029274603,11590.458397528917,11624.141458231661,11675.9773971967,11843.760515877939,12075.556078635465,12239.644799581716,12302.534378164257,12310.655294008146,12356.319401847224,12359.046930336759,12473.741072110364,12579.70896198697,12641.841672625054,13054.329213016628,13055.457117994945,13134.492692643478,14002.691933667853,14579.597082587816,15984.037979745095,16618.506632601806,17578.983363061307,18060.57033991612,18553.37955419532,19356.394987016807,23888.34567295071,28192.35263077657,28915.231529554236,38178.42048030843],\"yaxis\":\"y2\",\"type\":\"scatter\"}],                        {\"template\":{\"data\":{\"barpolar\":[{\"marker\":{\"line\":{\"color\":\"white\",\"width\":0.5},\"pattern\":{\"fillmode\":\"overlay\",\"size\":10,\"solidity\":0.2}},\"type\":\"barpolar\"}],\"bar\":[{\"error_x\":{\"color\":\"#2a3f5f\"},\"error_y\":{\"color\":\"#2a3f5f\"},\"marker\":{\"line\":{\"color\":\"white\",\"width\":0.5},\"pattern\":{\"fillmode\":\"overlay\",\"size\":10,\"solidity\":0.2}},\"type\":\"bar\"}],\"carpet\":[{\"aaxis\":{\"endlinecolor\":\"#2a3f5f\",\"gridcolor\":\"#C8D4E3\",\"linecolor\":\"#C8D4E3\",\"minorgridcolor\":\"#C8D4E3\",\"startlinecolor\":\"#2a3f5f\"},\"baxis\":{\"endlinecolor\":\"#2a3f5f\",\"gridcolor\":\"#C8D4E3\",\"linecolor\":\"#C8D4E3\",\"minorgridcolor\":\"#C8D4E3\",\"startlinecolor\":\"#2a3f5f\"},\"type\":\"carpet\"}],\"choropleth\":[{\"colorbar\":{\"outlinewidth\":0,\"ticks\":\"\"},\"type\":\"choropleth\"}],\"contourcarpet\":[{\"colorbar\":{\"outlinewidth\":0,\"ticks\":\"\"},\"type\":\"contourcarpet\"}],\"contour\":[{\"colorbar\":{\"outlinewidth\":0,\"ticks\":\"\"},\"colorscale\":[[0.0,\"#0d0887\"],[0.1111111111111111,\"#46039f\"],[0.2222222222222222,\"#7201a8\"],[0.3333333333333333,\"#9c179e\"],[0.4444444444444444,\"#bd3786\"],[0.5555555555555556,\"#d8576b\"],[0.6666666666666666,\"#ed7953\"],[0.7777777777777778,\"#fb9f3a\"],[0.8888888888888888,\"#fdca26\"],[1.0,\"#f0f921\"]],\"type\":\"contour\"}],\"heatmapgl\":[{\"colorbar\":{\"outlinewidth\":0,\"ticks\":\"\"},\"colorscale\":[[0.0,\"#0d0887\"],[0.1111111111111111,\"#46039f\"],[0.2222222222222222,\"#7201a8\"],[0.3333333333333333,\"#9c179e\"],[0.4444444444444444,\"#bd3786\"],[0.5555555555555556,\"#d8576b\"],[0.6666666666666666,\"#ed7953\"],[0.7777777777777778,\"#fb9f3a\"],[0.8888888888888888,\"#fdca26\"],[1.0,\"#f0f921\"]],\"type\":\"heatmapgl\"}],\"heatmap\":[{\"colorbar\":{\"outlinewidth\":0,\"ticks\":\"\"},\"colorscale\":[[0.0,\"#0d0887\"],[0.1111111111111111,\"#46039f\"],[0.2222222222222222,\"#7201a8\"],[0.3333333333333333,\"#9c179e\"],[0.4444444444444444,\"#bd3786\"],[0.5555555555555556,\"#d8576b\"],[0.6666666666666666,\"#ed7953\"],[0.7777777777777778,\"#fb9f3a\"],[0.8888888888888888,\"#fdca26\"],[1.0,\"#f0f921\"]],\"type\":\"heatmap\"}],\"histogram2dcontour\":[{\"colorbar\":{\"outlinewidth\":0,\"ticks\":\"\"},\"colorscale\":[[0.0,\"#0d0887\"],[0.1111111111111111,\"#46039f\"],[0.2222222222222222,\"#7201a8\"],[0.3333333333333333,\"#9c179e\"],[0.4444444444444444,\"#bd3786\"],[0.5555555555555556,\"#d8576b\"],[0.6666666666666666,\"#ed7953\"],[0.7777777777777778,\"#fb9f3a\"],[0.8888888888888888,\"#fdca26\"],[1.0,\"#f0f921\"]],\"type\":\"histogram2dcontour\"}],\"histogram2d\":[{\"colorbar\":{\"outlinewidth\":0,\"ticks\":\"\"},\"colorscale\":[[0.0,\"#0d0887\"],[0.1111111111111111,\"#46039f\"],[0.2222222222222222,\"#7201a8\"],[0.3333333333333333,\"#9c179e\"],[0.4444444444444444,\"#bd3786\"],[0.5555555555555556,\"#d8576b\"],[0.6666666666666666,\"#ed7953\"],[0.7777777777777778,\"#fb9f3a\"],[0.8888888888888888,\"#fdca26\"],[1.0,\"#f0f921\"]],\"type\":\"histogram2d\"}],\"histogram\":[{\"marker\":{\"pattern\":{\"fillmode\":\"overlay\",\"size\":10,\"solidity\":0.2}},\"type\":\"histogram\"}],\"mesh3d\":[{\"colorbar\":{\"outlinewidth\":0,\"ticks\":\"\"},\"type\":\"mesh3d\"}],\"parcoords\":[{\"line\":{\"colorbar\":{\"outlinewidth\":0,\"ticks\":\"\"}},\"type\":\"parcoords\"}],\"pie\":[{\"automargin\":true,\"type\":\"pie\"}],\"scatter3d\":[{\"line\":{\"colorbar\":{\"outlinewidth\":0,\"ticks\":\"\"}},\"marker\":{\"colorbar\":{\"outlinewidth\":0,\"ticks\":\"\"}},\"type\":\"scatter3d\"}],\"scattercarpet\":[{\"marker\":{\"colorbar\":{\"outlinewidth\":0,\"ticks\":\"\"}},\"type\":\"scattercarpet\"}],\"scattergeo\":[{\"marker\":{\"colorbar\":{\"outlinewidth\":0,\"ticks\":\"\"}},\"type\":\"scattergeo\"}],\"scattergl\":[{\"marker\":{\"colorbar\":{\"outlinewidth\":0,\"ticks\":\"\"}},\"type\":\"scattergl\"}],\"scattermapbox\":[{\"marker\":{\"colorbar\":{\"outlinewidth\":0,\"ticks\":\"\"}},\"type\":\"scattermapbox\"}],\"scatterpolargl\":[{\"marker\":{\"colorbar\":{\"outlinewidth\":0,\"ticks\":\"\"}},\"type\":\"scatterpolargl\"}],\"scatterpolar\":[{\"marker\":{\"colorbar\":{\"outlinewidth\":0,\"ticks\":\"\"}},\"type\":\"scatterpolar\"}],\"scatter\":[{\"fillpattern\":{\"fillmode\":\"overlay\",\"size\":10,\"solidity\":0.2},\"type\":\"scatter\"}],\"scatterternary\":[{\"marker\":{\"colorbar\":{\"outlinewidth\":0,\"ticks\":\"\"}},\"type\":\"scatterternary\"}],\"surface\":[{\"colorbar\":{\"outlinewidth\":0,\"ticks\":\"\"},\"colorscale\":[[0.0,\"#0d0887\"],[0.1111111111111111,\"#46039f\"],[0.2222222222222222,\"#7201a8\"],[0.3333333333333333,\"#9c179e\"],[0.4444444444444444,\"#bd3786\"],[0.5555555555555556,\"#d8576b\"],[0.6666666666666666,\"#ed7953\"],[0.7777777777777778,\"#fb9f3a\"],[0.8888888888888888,\"#fdca26\"],[1.0,\"#f0f921\"]],\"type\":\"surface\"}],\"table\":[{\"cells\":{\"fill\":{\"color\":\"#EBF0F8\"},\"line\":{\"color\":\"white\"}},\"header\":{\"fill\":{\"color\":\"#C8D4E3\"},\"line\":{\"color\":\"white\"}},\"type\":\"table\"}]},\"layout\":{\"annotationdefaults\":{\"arrowcolor\":\"#2a3f5f\",\"arrowhead\":0,\"arrowwidth\":1},\"autotypenumbers\":\"strict\",\"coloraxis\":{\"colorbar\":{\"outlinewidth\":0,\"ticks\":\"\"}},\"colorscale\":{\"diverging\":[[0,\"#8e0152\"],[0.1,\"#c51b7d\"],[0.2,\"#de77ae\"],[0.3,\"#f1b6da\"],[0.4,\"#fde0ef\"],[0.5,\"#f7f7f7\"],[0.6,\"#e6f5d0\"],[0.7,\"#b8e186\"],[0.8,\"#7fbc41\"],[0.9,\"#4d9221\"],[1,\"#276419\"]],\"sequential\":[[0.0,\"#0d0887\"],[0.1111111111111111,\"#46039f\"],[0.2222222222222222,\"#7201a8\"],[0.3333333333333333,\"#9c179e\"],[0.4444444444444444,\"#bd3786\"],[0.5555555555555556,\"#d8576b\"],[0.6666666666666666,\"#ed7953\"],[0.7777777777777778,\"#fb9f3a\"],[0.8888888888888888,\"#fdca26\"],[1.0,\"#f0f921\"]],\"sequentialminus\":[[0.0,\"#0d0887\"],[0.1111111111111111,\"#46039f\"],[0.2222222222222222,\"#7201a8\"],[0.3333333333333333,\"#9c179e\"],[0.4444444444444444,\"#bd3786\"],[0.5555555555555556,\"#d8576b\"],[0.6666666666666666,\"#ed7953\"],[0.7777777777777778,\"#fb9f3a\"],[0.8888888888888888,\"#fdca26\"],[1.0,\"#f0f921\"]]},\"colorway\":[\"#636efa\",\"#EF553B\",\"#00cc96\",\"#ab63fa\",\"#FFA15A\",\"#19d3f3\",\"#FF6692\",\"#B6E880\",\"#FF97FF\",\"#FECB52\"],\"font\":{\"color\":\"#2a3f5f\"},\"geo\":{\"bgcolor\":\"white\",\"lakecolor\":\"white\",\"landcolor\":\"white\",\"showlakes\":true,\"showland\":true,\"subunitcolor\":\"#C8D4E3\"},\"hoverlabel\":{\"align\":\"left\"},\"hovermode\":\"closest\",\"mapbox\":{\"style\":\"light\"},\"paper_bgcolor\":\"white\",\"plot_bgcolor\":\"white\",\"polar\":{\"angularaxis\":{\"gridcolor\":\"#EBF0F8\",\"linecolor\":\"#EBF0F8\",\"ticks\":\"\"},\"bgcolor\":\"white\",\"radialaxis\":{\"gridcolor\":\"#EBF0F8\",\"linecolor\":\"#EBF0F8\",\"ticks\":\"\"}},\"scene\":{\"xaxis\":{\"backgroundcolor\":\"white\",\"gridcolor\":\"#DFE8F3\",\"gridwidth\":2,\"linecolor\":\"#EBF0F8\",\"showbackground\":true,\"ticks\":\"\",\"zerolinecolor\":\"#EBF0F8\"},\"yaxis\":{\"backgroundcolor\":\"white\",\"gridcolor\":\"#DFE8F3\",\"gridwidth\":2,\"linecolor\":\"#EBF0F8\",\"showbackground\":true,\"ticks\":\"\",\"zerolinecolor\":\"#EBF0F8\"},\"zaxis\":{\"backgroundcolor\":\"white\",\"gridcolor\":\"#DFE8F3\",\"gridwidth\":2,\"linecolor\":\"#EBF0F8\",\"showbackground\":true,\"ticks\":\"\",\"zerolinecolor\":\"#EBF0F8\"}},\"shapedefaults\":{\"line\":{\"color\":\"#2a3f5f\"}},\"ternary\":{\"aaxis\":{\"gridcolor\":\"#DFE8F3\",\"linecolor\":\"#A2B1C6\",\"ticks\":\"\"},\"baxis\":{\"gridcolor\":\"#DFE8F3\",\"linecolor\":\"#A2B1C6\",\"ticks\":\"\"},\"bgcolor\":\"white\",\"caxis\":{\"gridcolor\":\"#DFE8F3\",\"linecolor\":\"#A2B1C6\",\"ticks\":\"\"}},\"title\":{\"x\":0.05},\"xaxis\":{\"automargin\":true,\"gridcolor\":\"#EBF0F8\",\"linecolor\":\"#EBF0F8\",\"ticks\":\"\",\"title\":{\"standoff\":15},\"zerolinecolor\":\"#EBF0F8\",\"zerolinewidth\":2},\"yaxis\":{\"automargin\":true,\"gridcolor\":\"#EBF0F8\",\"linecolor\":\"#EBF0F8\",\"ticks\":\"\",\"title\":{\"standoff\":15},\"zerolinecolor\":\"#EBF0F8\",\"zerolinewidth\":2}}},\"xaxis\":{\"anchor\":\"y\",\"domain\":[0.0,0.49],\"title\":{\"text\":\"Actual Cost, $\"},\"showgrid\":true,\"gridwidth\":1,\"gridcolor\":\"#EAEAEA\",\"zeroline\":true,\"zerolinewidth\":2,\"zerolinecolor\":\"#5E5E5E\"},\"yaxis\":{\"anchor\":\"x\",\"domain\":[0.0,0.46499999999999997],\"title\":{\"text\":\"Predicted Cost, $\"},\"showgrid\":true,\"gridwidth\":1,\"gridcolor\":\"#E3E3E3\",\"zeroline\":true,\"zerolinewidth\":2,\"zerolinecolor\":\"#5E5E5E\"},\"xaxis2\":{\"anchor\":\"y2\",\"domain\":[0.51,1.0],\"matches\":\"x\",\"title\":{\"text\":\"Actual Cost, $\"},\"showgrid\":true,\"gridwidth\":1,\"gridcolor\":\"#EAEAEA\",\"zeroline\":true,\"zerolinewidth\":2,\"zerolinecolor\":\"#5E5E5E\"},\"yaxis2\":{\"anchor\":\"x2\",\"domain\":[0.0,0.46499999999999997],\"matches\":\"y\",\"showticklabels\":false,\"showgrid\":true,\"gridwidth\":1,\"gridcolor\":\"#E3E3E3\",\"zeroline\":true,\"zerolinewidth\":2,\"zerolinecolor\":\"#5E5E5E\"},\"xaxis3\":{\"anchor\":\"y3\",\"domain\":[0.0,0.49],\"matches\":\"x\",\"showticklabels\":false,\"showgrid\":true,\"gridwidth\":1,\"gridcolor\":\"#EAEAEA\",\"zeroline\":true,\"zerolinewidth\":2,\"zerolinecolor\":\"#5E5E5E\"},\"yaxis3\":{\"anchor\":\"x3\",\"domain\":[0.5349999999999999,0.9999999999999999],\"matches\":\"y\",\"title\":{\"text\":\"Predicted Cost, $\"},\"showgrid\":true,\"gridwidth\":1,\"gridcolor\":\"#E3E3E3\",\"zeroline\":true,\"zerolinewidth\":2,\"zerolinecolor\":\"#5E5E5E\"},\"xaxis4\":{\"anchor\":\"y4\",\"domain\":[0.51,1.0],\"matches\":\"x\",\"showticklabels\":false,\"showgrid\":true,\"gridwidth\":1,\"gridcolor\":\"#EAEAEA\",\"zeroline\":true,\"zerolinewidth\":2,\"zerolinecolor\":\"#5E5E5E\"},\"yaxis4\":{\"anchor\":\"x4\",\"domain\":[0.5349999999999999,0.9999999999999999],\"matches\":\"y\",\"showticklabels\":false,\"showgrid\":true,\"gridwidth\":1,\"gridcolor\":\"#E3E3E3\",\"zeroline\":true,\"zerolinewidth\":2,\"zerolinecolor\":\"#5E5E5E\"},\"annotations\":[{\"showarrow\":false,\"text\":\"Northwest\",\"x\":0.245,\"xanchor\":\"center\",\"xref\":\"paper\",\"y\":0.46499999999999997,\"yanchor\":\"bottom\",\"yref\":\"paper\"},{\"showarrow\":false,\"text\":\"Northeast\",\"x\":0.755,\"xanchor\":\"center\",\"xref\":\"paper\",\"y\":0.46499999999999997,\"yanchor\":\"bottom\",\"yref\":\"paper\"},{\"showarrow\":false,\"text\":\"Southwest\",\"x\":0.245,\"xanchor\":\"center\",\"xref\":\"paper\",\"y\":0.9999999999999999,\"yanchor\":\"bottom\",\"yref\":\"paper\"},{\"showarrow\":false,\"text\":\"Southeast\",\"x\":0.755,\"xanchor\":\"center\",\"xref\":\"paper\",\"y\":0.9999999999999999,\"yanchor\":\"bottom\",\"yref\":\"paper\"},{\"showarrow\":false,\"text\":\"Adj. R-Squared = 76.6%<br>RMSE = 5,349\",\"x\":51000.0,\"xref\":\"x3\",\"y\":15000.0,\"yref\":\"y3\"},{\"showarrow\":false,\"text\":\"Adj. R-Squared = 89.3%<br>RMSE = 4,700\",\"x\":51000.0,\"xref\":\"x4\",\"y\":15000.0,\"yref\":\"y4\"},{\"showarrow\":false,\"text\":\"Adj. R-Squared = 71.8%<br>RMSE = 6,306\",\"x\":51000.0,\"xref\":\"x\",\"y\":15000.0,\"yref\":\"y\"},{\"showarrow\":false,\"text\":\"Adj. R-Squared = 58.8%<br>RMSE = 6,232\",\"x\":51000.0,\"xref\":\"x2\",\"y\":15000.0,\"yref\":\"y2\"}],\"legend\":{\"title\":{\"text\":\"index\"},\"tracegroupgap\":0},\"title\":{\"text\":\"Actual vs Predicted Insurance Costs by Region,<br>Linear Regression with Principal Component Analysis\"},\"height\":700,\"font\":{\"color\":\"#303030\"},\"paper_bgcolor\":\"white\",\"plot_bgcolor\":\"white\"},                        {\"responsive\": true}                    ).then(function(){\n",
       "                            \n",
       "var gd = document.getElementById('af008d92-8466-4561-8490-2d150c18b185');\n",
       "var x = new MutationObserver(function (mutations, observer) {{\n",
       "        var display = window.getComputedStyle(gd).display;\n",
       "        if (!display || display === 'none') {{\n",
       "            console.log([gd, 'removed!']);\n",
       "            Plotly.purge(gd);\n",
       "            observer.disconnect();\n",
       "        }}\n",
       "}});\n",
       "\n",
       "// Listen for the removal of the full notebook cells\n",
       "var notebookContainer = gd.closest('#notebook-container');\n",
       "if (notebookContainer) {{\n",
       "    x.observe(notebookContainer, {childList: true});\n",
       "}}\n",
       "\n",
       "// Listen for the clearing of the current output cell\n",
       "var outputEl = gd.closest('.output');\n",
       "if (outputEl) {{\n",
       "    x.observe(outputEl, {childList: true});\n",
       "}}\n",
       "\n",
       "                        })                };                });            </script>        </div>"
      ]
     },
     "metadata": {},
     "output_type": "display_data"
    }
   ],
   "source": [
    "# Dataframe to save results\n",
    "models=[\"Linear Regression\", \"KNN\", \"SVM\", \"Gradient Boosting\"]\n",
    "mod_res=pd.DataFrame(columns=[\"Average RMSE\", \"Avg. Adjusted R2\"], index=models)\n",
    "regions = ins.region.unique()\n",
    "s = StandardScaler()\n",
    "\n",
    "actuals=[]\n",
    "preds=[]\n",
    "rmses=[]\n",
    "r2_scores=[]\n",
    "adj_r2_scores=[]\n",
    "\n",
    "for i in regions:\n",
    "    \n",
    "    # Filter data by region\n",
    "    print(\"\\nRegion: {}\\n\".format(i))\n",
    "    ins_df = ins[ins.region==i]\n",
    "    X=ins_df.drop(['charges', 'region'], axis=1)\n",
    "    y=ins_df.charges\n",
    "    \n",
    "    # Add polynomial features\n",
    "    pf = PolynomialFeatures(degree=2, include_bias=False)\n",
    "    X_pf = pd.DataFrame(data=pf.fit_transform(X), columns=pf.get_feature_names(X.columns))\n",
    "    \n",
    "    # Create training and test sets\n",
    "    X_train, X_test, y_train, y_test = train_test_split(X_pf, y, test_size=0.2, random_state=1)\n",
    "    \n",
    "    # Scale features\n",
    "    X_train_scaled = s.fit_transform(X_train)\n",
    "    X_test_scaled = s.transform(X_test)\n",
    "    \n",
    "    # PCA\n",
    "    pca = PCA(.95)\n",
    "    X_train_pca=pca.fit_transform(X_train_scaled)\n",
    "    X_test_pca=pca.transform(X_test_scaled)\n",
    "    print(\"Number of Principal Components = {}\".format(pca.n_components_))\n",
    "    print(\"Train Shape:{} {}  Test Shape:{} {}\".format(X_train_pca.shape, y_train.shape, X_test_pca.shape, y_test.shape))\n",
    "    \n",
    "    # Linear Regression\n",
    "    lr = LinearRegression().fit(X_train_pca, y_train)\n",
    "    y_pred=lr.predict(X_test_pca)\n",
    "    rmse=np.sqrt(mean_squared_error(y_test, y_pred)).round(2)\n",
    "    r2=r2_score(y_test, y_pred)\n",
    "    adj_r2 = 1 - (1-r2)*(len(y_test)-1)/(len(y_test)-X_test_pca.shape[1]-1)\n",
    "    \n",
    "    actuals.append(pd.Series(y_test, name='actuals').reset_index())\n",
    "    preds.append(pd.Series(y_pred, name='preds').reset_index(drop=True))\n",
    "    rmses.append(rmse)\n",
    "    r2_scores.append(r2)\n",
    "    adj_r2_scores.append(adj_r2)\n",
    "    \n",
    "    print(\"Test Error (RMSE) = {:,}\".format(rmse))\n",
    "    print(\"R-Squared = {:.2f}%, Adjusted R-Squared = {:.2f}%\".format(r2*100, adj_r2*100))\n",
    "    if i != 'Northeast':\n",
    "        print(\"__________________________\")\n",
    "\n",
    "# Plot results\n",
    "for i in range(0,4):\n",
    "    actuals[i].loc[:,'index']=regions[i]\n",
    "actual = pd.concat([actuals[i] for i in range(4)], axis = 0)\n",
    "pred = pd.concat([preds[i] for i in range(4)], axis = 0)\n",
    "df = pd.concat([actual, pred], axis=1).reset_index(drop=True)\n",
    "col = [\"#B14B51\", '#D0A99C', '#5D8370','#6C839B']\n",
    "fig = px.scatter(df, x=\"actuals\", y=\"preds\", color=\"index\", trendline=\"ols\", height=700,\n",
    "                 title=\"Actual vs Predicted Insurance Costs by Region,<br>Linear Regression with Principal Component Analysis\",\n",
    "                 color_discrete_sequence=col, opacity=0.7, facet_col='index', facet_col_wrap=2)\n",
    "\n",
    "fig.for_each_annotation(lambda a: a.update(text=a.text.split(\"=\")[-1]))\n",
    "fig.add_annotation(text=\"Adj. R-Squared = {:.1f}%<br>RMSE = {:,.0f}\".format(adj_r2_scores[0]*100,rmses[0]),\n",
    "                   x=51e3,y=15e3, row=2,col=1, showarrow=False)\n",
    "fig.add_annotation(text=\"Adj. R-Squared = {:.1f}%<br>RMSE = {:,.0f}\".format(adj_r2_scores[1]*100,rmses[1]),\n",
    "                   x=51e3,y=15e3, row=2,col=2, showarrow=False)\n",
    "fig.add_annotation(text=\"Adj. R-Squared = {:.1f}%<br>RMSE = {:,.0f}\".format(adj_r2_scores[2]*100,rmses[2]),\n",
    "                   x=51e3,y=15e3, row=1,col=1, showarrow=False)\n",
    "fig.add_annotation(text=\"Adj. R-Squared = {:.1f}%<br>RMSE = {:,.0f}\".format(adj_r2_scores[3]*100,rmses[3]),\n",
    "                   x=51e3,y=15e3, row=1,col=2, showarrow=False)\n",
    "\n",
    "fig.update_traces(hovertemplate=\"Actual Cost: %{x:$,.2f}<br>Predicted Cost: %{y:$,.2f}\",\n",
    "                  marker=dict(size=10, line=dict(width=1,color=\"#F7F7F7\")),\n",
    "                  selector=dict(mode=\"markers\"), showlegend=False)\n",
    "fig.update_xaxes(title=\"Actual Cost, $\", row=1)\n",
    "fig.update_xaxes(showgrid=True, gridwidth=1, gridcolor='#EAEAEA',\n",
    "                 zeroline=True, zerolinewidth=2, zerolinecolor='#5E5E5E')\n",
    "fig.update_yaxes(title=\"Predicted Cost, $\", col=1)\n",
    "fig.update_yaxes(showgrid=True, gridwidth=1, gridcolor='#E3E3E3',\n",
    "                 zeroline=True, zerolinewidth=2, zerolinecolor='#5E5E5E')\n",
    "fig.update_layout(font_color=\"#303030\", paper_bgcolor=\"white\", plot_bgcolor=\"white\")\n",
    "fig.show()"
   ]
  },
  {
   "cell_type": "markdown",
   "metadata": {},
   "source": [
    "## <b><span style='color:#5477A5'>5.1</span> | Model Summary</b>"
   ]
  },
  {
   "cell_type": "code",
   "execution_count": 12,
   "metadata": {
    "_kg_hide-input": true,
    "execution": {
     "iopub.execute_input": "2022-01-25T00:26:26.033138Z",
     "iopub.status.busy": "2022-01-25T00:26:26.032854Z",
     "iopub.status.idle": "2022-01-25T00:26:26.0482Z",
     "shell.execute_reply": "2022-01-25T00:26:26.047299Z",
     "shell.execute_reply.started": "2022-01-25T00:26:26.033101Z"
    }
   },
   "outputs": [
    {
     "data": {
      "text/html": [
       "<div>\n",
       "<style scoped>\n",
       "    .dataframe tbody tr th:only-of-type {\n",
       "        vertical-align: middle;\n",
       "    }\n",
       "\n",
       "    .dataframe tbody tr th {\n",
       "        vertical-align: top;\n",
       "    }\n",
       "\n",
       "    .dataframe thead th {\n",
       "        text-align: right;\n",
       "    }\n",
       "</style>\n",
       "<table border=\"1\" class=\"dataframe\">\n",
       "  <thead>\n",
       "    <tr style=\"text-align: right;\">\n",
       "      <th></th>\n",
       "      <th>Average RMSE</th>\n",
       "      <th>Avg. Adjusted R2</th>\n",
       "    </tr>\n",
       "  </thead>\n",
       "  <tbody>\n",
       "    <tr>\n",
       "      <th>Linear Regression</th>\n",
       "      <td>5646.52</td>\n",
       "      <td>0.741028</td>\n",
       "    </tr>\n",
       "  </tbody>\n",
       "</table>\n",
       "</div>"
      ],
      "text/plain": [
       "                  Average RMSE Avg. Adjusted R2\n",
       "Linear Regression      5646.52         0.741028"
      ]
     },
     "metadata": {},
     "output_type": "display_data"
    }
   ],
   "source": [
    "mod_res.iloc[0,0]=pd.Series(rmses).mean()\n",
    "mod_res.iloc[0,1]=pd.Series(adj_r2_scores).mean()\n",
    "display(mod_res.iloc[:1,].sort_values(\"Average RMSE\"))"
   ]
  },
  {
   "cell_type": "markdown",
   "metadata": {},
   "source": [
    "Out of the four models, linear regression performs the best predicting insurance costs in the Southeast region with an adjusted $R^2$ of 89.3% and an RMSE of about 4,700. This indicates that our model can explain about 89% of the variation in insurance costs in the Southeast region and leads to test predictions that are within approximately $4,700 of the true median claim amount.\n",
    "\n",
    "Each model uses 7 principal components, except for the Northwest region. The Northwest model uses just 6 principal components and can explain over 70% of the variance in insurance costs, although it produces the highest test error out of all the regions.\n",
    "\n",
    "Overall, the test error of the linear models range from a low of 4,700 in the Southeast to a high of about 6,300 in the Northwest and produce an average adjusted $R^2$ of 74.1%."
   ]
  },
  {
   "cell_type": "markdown",
   "metadata": {},
   "source": [
    "# <div style=\"color:white;display:fill;border-radius:5px;background-color:#84A3C3;overflow:hidden\"><p style=\"padding:20px;color:white;overflow:hidden;font-size:100%;margin:0\"><b>6 |</b> K-Nearest Neighbors</p></div>"
   ]
  },
  {
   "cell_type": "code",
   "execution_count": 13,
   "metadata": {
    "_kg_hide-input": true,
    "execution": {
     "iopub.execute_input": "2022-01-25T00:26:26.049912Z",
     "iopub.status.busy": "2022-01-25T00:26:26.049691Z",
     "iopub.status.idle": "2022-01-25T00:26:32.984902Z",
     "shell.execute_reply": "2022-01-25T00:26:32.983951Z",
     "shell.execute_reply.started": "2022-01-25T00:26:26.049886Z"
    }
   },
   "outputs": [
    {
     "name": "stdout",
     "output_type": "stream",
     "text": [
      "\n",
      "Region: Southwest\n",
      "\n",
      "Train Shape:(260, 20) (260,)  Test Shape:(65, 20) (65,)\n",
      "Test Error (RMSE) = 5,227.12\n",
      "R-Squared = 80.09%, Adjusted R-Squared = 71.04%\n",
      "__________________________\n",
      "\n",
      "Region: Southeast\n",
      "\n",
      "Train Shape:(291, 20) (291,)  Test Shape:(73, 20) (73,)\n",
      "Test Error (RMSE) = 4,455.86\n",
      "R-Squared = 91.29%, Adjusted R-Squared = 87.95%\n",
      "__________________________\n",
      "\n",
      "Region: Northwest\n",
      "\n",
      "Train Shape:(260, 20) (260,)  Test Shape:(65, 20) (65,)\n",
      "Test Error (RMSE) = 6,179.18\n",
      "R-Squared = 75.45%, Adjusted R-Squared = 64.29%\n",
      "__________________________\n",
      "\n",
      "Region: Northeast\n",
      "\n",
      "Train Shape:(259, 20) (259,)  Test Shape:(65, 20) (65,)\n",
      "Test Error (RMSE) = 5,617.89\n",
      "R-Squared = 70.15%, Adjusted R-Squared = 56.58%\n"
     ]
    },
    {
     "data": {
      "application/vnd.plotly.v1+json": {
       "config": {
        "plotlyServerURL": "https://plot.ly"
       },
       "data": [
        {
         "hovertemplate": "Actual Cost: %{x:$,.2f}<br>Predicted Cost: %{y:$,.2f}",
         "legendgroup": "Southwest",
         "marker": {
          "color": "#B14B51",
          "line": {
           "color": "#F7F7F7",
           "width": 1
          },
          "opacity": 0.7,
          "size": 10,
          "symbol": "circle"
         },
         "mode": "markers",
         "name": "Southwest",
         "orientation": "v",
         "showlegend": false,
         "type": "scatter",
         "x": [
          3761.292,
          11674.13,
          6311.952,
          14319.031,
          11552.904,
          5080.096,
          8269.044,
          3693.428,
          36837.467,
          13224.693,
          23306.547,
          35160.13457,
          12347.172,
          10065.413,
          5488.262,
          38711,
          7196.867,
          6571.544,
          5979.731,
          34828.654,
          6600.361,
          39836.519,
          1256.299,
          1242.26,
          4762.329,
          9264.797,
          13470.86,
          1759.338,
          1241.565,
          48173.361,
          16232.847,
          25309.489,
          10791.96,
          4751.07,
          8556.907,
          42856.838,
          8277.523,
          11576.13,
          7623.518,
          12146.971,
          20630.28351,
          4646.759,
          26140.3603,
          2007.945,
          8444.474,
          17081.08,
          13822.803,
          8825.086,
          37079.372,
          10096.97,
          11411.685,
          14988.432,
          11362.755,
          6875.961,
          10795.93733,
          18259.216,
          1261.859,
          17942.106,
          11150.78,
          38415.474,
          8522.003,
          8703.456,
          3987.926,
          1964.78,
          1743.214
         ],
         "xaxis": "x3",
         "y": [
          5761.911435864062,
          12595.047751540827,
          7359.12975742016,
          11663.280547754777,
          9910.70699930521,
          5489.992537949517,
          10083.884055433093,
          4885.479575414176,
          34645.66299845873,
          11178.094450898574,
          30078.66621893096,
          10605.351452025192,
          11210.779334416373,
          10893.786081241806,
          6788.851580333075,
          38505.024593401555,
          7210.74729255162,
          7115.787925448952,
          10827.88190350161,
          34507.41337947776,
          7866.515657411256,
          35351.74584181099,
          3594.4458584392532,
          1611.0306143503876,
          6160.495111548204,
          11468.726904176865,
          11601.927757509286,
          3121.287980206008,
          1777.2245815751126,
          39026.095807082704,
          21738.102434012275,
          31300.120579554332,
          10227.880266953358,
          6767.8691817803765,
          7683.168050008828,
          36113.259036764146,
          8985.967295824406,
          11492.022425769568,
          9682.21954859697,
          11661.873338071466,
          11699.807394276824,
          10576.291329235926,
          9800.724368037048,
          4783.696011394979,
          12451.532111486094,
          20930.477812463512,
          12702.78391660175,
          8641.72038269529,
          30020.38856958458,
          7938.154597751149,
          12532.396122395856,
          9432.896713611697,
          12582.275581619953,
          7425.7038546494,
          3387.961782810242,
          25964.68951106243,
          3782.5965481686662,
          31153.14738424414,
          11179.997847659606,
          36463.66694404191,
          8150.7117950510155,
          10151.607673492314,
          6362.540097167823,
          2117.055487607105,
          4525.915912972378
         ],
         "yaxis": "y3"
        },
        {
         "hovertemplate": "<b>LOWESS trendline</b><br><br>index=Southwest<br>actuals=%{x}<br>preds=%{y} <b>(trend)</b><extra></extra>",
         "legendgroup": "Southwest",
         "marker": {
          "color": "#B14B51",
          "symbol": "circle"
         },
         "mode": "lines",
         "name": "Southwest",
         "showlegend": false,
         "type": "scatter",
         "x": [
          1241.565,
          1242.26,
          1256.299,
          1261.859,
          1743.214,
          1759.338,
          1964.78,
          2007.945,
          3693.428,
          3761.292,
          3987.926,
          4646.759,
          4751.07,
          4762.329,
          5080.096,
          5488.262,
          5979.731,
          6311.952,
          6571.544,
          6600.361,
          6875.961,
          7196.867,
          7623.518,
          8269.044,
          8277.523,
          8444.474,
          8522.003,
          8556.907,
          8703.456,
          8825.086,
          9264.797,
          10065.413,
          10096.97,
          10791.96,
          10795.93733,
          11150.78,
          11362.755,
          11411.685,
          11552.904,
          11576.13,
          11674.13,
          12146.971,
          12347.172,
          13224.693,
          13470.86,
          13822.803,
          14319.031,
          14988.432,
          16232.847,
          17081.08,
          17942.106,
          18259.216,
          20630.28351,
          23306.547,
          25309.489,
          26140.3603,
          34828.654,
          35160.13457,
          36837.467,
          37079.372,
          38415.474,
          38711,
          39836.519,
          42856.838,
          48173.361
         ],
         "xaxis": "x3",
         "y": [
          3100.1142197389213,
          3100.747610967458,
          3113.5408508147316,
          3118.6068167878366,
          3555.7918732033163,
          3570.389398012295,
          3756.121484365394,
          3795.084097514123,
          5302.632363214478,
          5362.918006893556,
          5564.149458060207,
          6149.1870358731785,
          6241.970540807109,
          6251.990093387177,
          6535.249243756927,
          6901.024806142472,
          7346.358651633336,
          7649.210436264476,
          7878.172819925111,
          7902.5184908910605,
          8117.433403294543,
          8346.98317590959,
          8649.468600664804,
          9099.071840626442,
          9104.679877493614,
          9214.44899685473,
          9264.54851939652,
          9286.949765296153,
          9379.974047576747,
          9455.989491852402,
          9730.65481129647,
          10222.663194606026,
          10242.896751189564,
          10679.038514491423,
          10681.477089864457,
          10919.177047089912,
          11076.05052593627,
          11113.51883641926,
          11223.909321332936,
          11242.355454682836,
          11320.982411852956,
          11713.60212602888,
          11870.231318978444,
          12631.689253422834,
          12844.627810748143,
          13147.169159896985,
          13586.1078720843,
          14187.20127916535,
          15375.469964128633,
          16245.785159512088,
          17174.587931237922,
          17525.64743257249,
          20713.230465639666,
          22685.69908096163,
          23938.27327393052,
          24586.637034659663,
          31487.290073177992,
          31747.085995780875,
          33058.32751016416,
          33246.77769045328,
          34283.58224524625,
          34511.87954394824,
          35377.299052795206,
          37658.98587611864,
          41492.666802617096
         ],
         "yaxis": "y3"
        },
        {
         "hovertemplate": "Actual Cost: %{x:$,.2f}<br>Predicted Cost: %{y:$,.2f}",
         "legendgroup": "Southeast",
         "marker": {
          "color": "#D0A99C",
          "line": {
           "color": "#F7F7F7",
           "width": 1
          },
          "opacity": 0.7,
          "size": 10,
          "symbol": "circle"
         },
         "mode": "markers",
         "name": "Southeast",
         "orientation": "v",
         "showlegend": false,
         "type": "scatter",
         "x": [
          44202.6536,
          6781.3542,
          5478.0368,
          32548.3405,
          1815.8759,
          11093.6229,
          11090.7178,
          13470.8044,
          47269.854,
          10107.2206,
          38282.7495,
          19350.3689,
          1615.7667,
          40974.1649,
          1824.2854,
          7243.8136,
          36950.2567,
          41999.52,
          6184.2994,
          20462.99766,
          7152.6714,
          2219.4451,
          8232.6388,
          4266.1658,
          19521.9682,
          27808.7251,
          16586.49771,
          5966.8874,
          4504.6624,
          3500.6123,
          4340.4409,
          5974.3847,
          3227.1211,
          11363.2832,
          12592.5345,
          6313.759,
          5920.1041,
          12142.5786,
          3561.8889,
          4673.3922,
          46599.1084,
          2566.4707,
          41676.0811,
          8978.1851,
          48970.2476,
          24667.419,
          8596.8278,
          38709.176,
          1136.3994,
          18806.14547,
          1981.5819,
          1131.5066,
          6500.2359,
          1146.7966,
          8547.6913,
          39611.7577,
          11881.9696,
          48675.5177,
          44400.4064,
          18223.4512,
          28287.89766,
          9855.1314,
          10702.6424,
          5245.2269,
          1664.9996,
          2464.6188,
          9377.9047,
          10226.2842,
          36124.5737,
          4779.6023,
          6338.0756,
          42112.2356,
          1633.9618
         ],
         "xaxis": "x4",
         "y": [
          44259.885884334726,
          7495.1085098503945,
          5135.418489575665,
          28083.634846958896,
          2208.810426044216,
          17578.390029829425,
          14549.897800607627,
          14406.20289647148,
          46256.944744865,
          10097.9413987007,
          36698.55649631596,
          27837.432892210512,
          4915.889718750334,
          36249.894049879294,
          1667.3926443794062,
          13039.70198393987,
          34947.13388780076,
          35520.84464670177,
          8190.104426091671,
          13960.328370184026,
          8982.971523205744,
          6846.563471618461,
          7929.127759333607,
          5373.379162025742,
          19696.677994182774,
          30413.87336945028,
          1581.4333048732012,
          5584.7138150041,
          5940.481551386719,
          4558.897929227824,
          3676.0802685626873,
          6016.533001446052,
          7787.627315766839,
          12193.926516632742,
          17437.881882831953,
          6934.497414291626,
          7138.509623735218,
          12773.026035760558,
          7359.389463083577,
          6342.37288527663,
          45625.13430758666,
          5313.284293008384,
          46271.24313179327,
          9332.08877889325,
          46592.00346502223,
          30122.182276206266,
          14894.978149401562,
          37328.85289886115,
          1229.260302870338,
          9314.038975224872,
          1749.8553596456352,
          1522.3320166016913,
          6474.49206495957,
          1593.4106240782971,
          7751.350212452633,
          37883.02497619167,
          9690.624168281494,
          45715.76806141832,
          43238.10203072216,
          32573.232767333506,
          11794.789326278833,
          13517.027919751856,
          18642.118875677275,
          5316.0053814722805,
          1927.9268340942197,
          4204.895832157926,
          9520.785499587428,
          9799.241028655302,
          32750.85994360905,
          4446.008089994324,
          10862.971416143388,
          39718.82202516336,
          2932.729234255227
         ],
         "yaxis": "y4"
        },
        {
         "hovertemplate": "<b>LOWESS trendline</b><br><br>index=Southeast<br>actuals=%{x}<br>preds=%{y} <b>(trend)</b><extra></extra>",
         "legendgroup": "Southeast",
         "marker": {
          "color": "#D0A99C",
          "symbol": "circle"
         },
         "mode": "lines",
         "name": "Southeast",
         "showlegend": false,
         "type": "scatter",
         "x": [
          1131.5066,
          1136.3994,
          1146.7966,
          1615.7667,
          1633.9618,
          1664.9996,
          1815.8759,
          1824.2854,
          1981.5819,
          2219.4451,
          2464.6188,
          2566.4707,
          3227.1211,
          3500.6123,
          3561.8889,
          4266.1658,
          4340.4409,
          4504.6624,
          4673.3922,
          4779.6023,
          5245.2269,
          5478.0368,
          5920.1041,
          5966.8874,
          5974.3847,
          6184.2994,
          6313.759,
          6338.0756,
          6500.2359,
          6781.3542,
          7152.6714,
          7243.8136,
          8232.6388,
          8547.6913,
          8596.8278,
          8978.1851,
          9377.9047,
          9855.1314,
          10107.2206,
          10226.2842,
          10702.6424,
          11090.7178,
          11093.6229,
          11363.2832,
          11881.9696,
          12142.5786,
          12592.5345,
          13470.8044,
          16586.49771,
          18223.4512,
          18806.14547,
          19350.3689,
          19521.9682,
          20462.99766,
          24667.419,
          27808.7251,
          28287.89766,
          32548.3405,
          36124.5737,
          36950.2567,
          38282.7495,
          38709.176,
          39611.7577,
          40974.1649,
          41676.0811,
          41999.52,
          42112.2356,
          44202.6536,
          44400.4064,
          46599.1084,
          47269.854,
          48675.5177,
          48970.2476
         ],
         "xaxis": "x4",
         "y": [
          2300.065121788415,
          2304.9255616682685,
          2315.2537905642275,
          2780.91776599099,
          2798.9809497764245,
          2829.7937926318027,
          2979.5810927223347,
          2987.9302892072587,
          3144.114418183171,
          3380.403177971034,
          3624.200754049004,
          3725.578940025181,
          4384.945351168841,
          4658.95227135447,
          4720.433008246897,
          5429.059770447065,
          5503.956178990787,
          5669.6095070781,
          5839.858375308471,
          5947.026336870233,
          6416.427085802623,
          6650.5247296030575,
          7092.878674082051,
          7139.468485279026,
          7146.929970669963,
          7355.258079624287,
          7483.119874288821,
          7507.07796058557,
          7666.3273249331805,
          7939.968329410676,
          8297.333161751114,
          8385.216440959364,
          9455.440553895825,
          9795.343660780363,
          9848.246904357913,
          10258.188470647885,
          10687.24807950858,
          11199.608060541064,
          11475.134280163373,
          11607.409539822665,
          12124.722324186321,
          12541.313885211766,
          12544.610350716113,
          12827.598955303292,
          13334.960857610335,
          13579.365473661193,
          13994.595442481108,
          14805.120069447017,
          18105.985717893884,
          19903.817642034504,
          20416.489880174537,
          20845.56570914447,
          20970.124997515577,
          21671.74045086233,
          24576.093504406555,
          27320.766604434157,
          27752.62634824772,
          31597.548027515568,
          34804.492125360775,
          35544.97958134,
          36741.0741652555,
          37124.25977792784,
          37936.15105453458,
          39164.20138723504,
          39798.27549720266,
          40090.80802561367,
          40192.80830469334,
          42090.34941946424,
          42270.48869980957,
          44281.43102896145,
          44897.90580875698,
          46194.335876178295,
          46466.90811364764
         ],
         "yaxis": "y4"
        },
        {
         "hovertemplate": "Actual Cost: %{x:$,.2f}<br>Predicted Cost: %{y:$,.2f}",
         "legendgroup": "Northwest",
         "marker": {
          "color": "#5D8370",
          "line": {
           "color": "#F7F7F7",
           "width": 1
          },
          "opacity": 0.7,
          "size": 10,
          "symbol": "circle"
         },
         "mode": "markers",
         "name": "Northwest",
         "orientation": "v",
         "showlegend": false,
         "type": "scatter",
         "x": [
          9174.13565,
          4433.3877,
          21774.32215,
          7731.85785,
          33471.97189,
          4618.0799,
          3594.17085,
          12235.8392,
          6203.90175,
          11840.77505,
          4466.6214,
          8162.71625,
          6393.60345,
          1906.35825,
          23967.38305,
          2775.19215,
          3537.703,
          32787.45859,
          6112.35295,
          9301.89355,
          11945.1327,
          6389.37785,
          23807.2406,
          10264.4421,
          4243.59005,
          16455.70785,
          8413.46305,
          26018.95052,
          60021.39897,
          3579.8287,
          12479.70895,
          5855.9025,
          7153.5539,
          1635.73365,
          6986.697,
          43921.1837,
          15019.76005,
          29330.98315,
          5630.45785,
          8827.2099,
          8059.6791,
          5729.0053,
          14382.70905,
          29141.3603,
          38746.3551,
          3877.30425,
          42760.5022,
          6373.55735,
          28950.4692,
          16420.49455,
          10600.5483,
          18033.9679,
          39983.42595,
          6940.90985,
          4239.89265,
          6360.9936,
          8116.26885,
          6796.86325,
          2136.88225,
          33307.5508,
          13415.0381,
          10976.24575,
          3353.4703,
          5261.46945,
          5989.52365
         ],
         "xaxis": "x",
         "y": [
          12052.66424438077,
          8064.400364963369,
          21469.72137705734,
          8717.378833239387,
          11514.496892117824,
          14929.972495247863,
          3027.9389743319502,
          12423.862307515175,
          6543.417545533283,
          12463.534952111615,
          12506.804935223698,
          8636.499223850498,
          5998.651438089188,
          1852.9645774353894,
          24088.164993455328,
          7757.819878791221,
          14703.180482420796,
          28783.580354496917,
          6897.46310129688,
          12284.034425889104,
          12989.707302655948,
          6278.580222971425,
          22139.01268134658,
          9694.501564048274,
          5789.9177480119,
          13499.459456219989,
          6945.595034172227,
          12106.210586591036,
          40565.36821907142,
          10687.549041449005,
          10989.231404435255,
          6079.870694411677,
          15751.9389687643,
          1899.1139735568747,
          8816.340631504778,
          25187.56981572765,
          12125.074580801685,
          30286.325686811862,
          6992.771389725476,
          10457.49807889379,
          7765.969680840048,
          9830.267488150028,
          12279.424662879344,
          33602.46590277817,
          31203.29475280688,
          11533.646415066478,
          41875.94726744751,
          19119.623617077563,
          30374.318462550495,
          22991.73689258542,
          10055.23969415575,
          24092.35862477516,
          33321.99309426922,
          6580.857781579102,
          4638.083055682382,
          9642.33493428411,
          6991.9134033627015,
          7215.977569176928,
          2313.374184680218,
          25162.47890537514,
          15762.392094018345,
          11265.065752449067,
          3271.2035124184795,
          9037.69794128745,
          6327.234664716832
         ],
         "yaxis": "y"
        },
        {
         "hovertemplate": "<b>LOWESS trendline</b><br><br>index=Northwest<br>actuals=%{x}<br>preds=%{y} <b>(trend)</b><extra></extra>",
         "legendgroup": "Northwest",
         "marker": {
          "color": "#5D8370",
          "symbol": "circle"
         },
         "mode": "lines",
         "name": "Northwest",
         "showlegend": false,
         "type": "scatter",
         "x": [
          1635.73365,
          1906.35825,
          2136.88225,
          2775.19215,
          3353.4703,
          3537.703,
          3579.8287,
          3594.17085,
          3877.30425,
          4239.89265,
          4243.59005,
          4433.3877,
          4466.6214,
          4618.0799,
          5261.46945,
          5630.45785,
          5729.0053,
          5855.9025,
          5989.52365,
          6112.35295,
          6203.90175,
          6360.9936,
          6373.55735,
          6389.37785,
          6393.60345,
          6796.86325,
          6940.90985,
          6986.697,
          7153.5539,
          7731.85785,
          8059.6791,
          8116.26885,
          8162.71625,
          8413.46305,
          8827.2099,
          9174.13565,
          9301.89355,
          10264.4421,
          10600.5483,
          10976.24575,
          11840.77505,
          11945.1327,
          12235.8392,
          12479.70895,
          13415.0381,
          14382.70905,
          15019.76005,
          16420.49455,
          16455.70785,
          18033.9679,
          21774.32215,
          23807.2406,
          23967.38305,
          26018.95052,
          28950.4692,
          29141.3603,
          29330.98315,
          32787.45859,
          33307.5508,
          33471.97189,
          38746.3551,
          39983.42595,
          42760.5022,
          43921.1837,
          60021.39897
         ],
         "xaxis": "x",
         "y": [
          4462.860387728616,
          4678.83520336303,
          4860.155281433536,
          5351.906418927981,
          5789.834207112438,
          5928.838827539891,
          5960.6306214681335,
          5971.456288641354,
          6185.480601835007,
          6460.976979750705,
          6463.79624913237,
          6608.815470851399,
          6634.27147611539,
          6750.522262683126,
          7246.494121304889,
          7527.7750167410495,
          7601.511752676813,
          7695.057424046394,
          7791.3136745400525,
          7877.153779812117,
          7939.094326709978,
          8040.403874903399,
          8048.198616262395,
          8057.943723564869,
          8060.53319584693,
          8279.118727456063,
          8345.351358618975,
          8372.257578695326,
          8458.643819250032,
          8835.149270244563,
          9066.963224033983,
          9109.577571554937,
          9144.835815488073,
          9312.583050948944,
          9620.18053112705,
          9875.452685615586,
          9981.852002636972,
          10710.961835700338,
          10959.67826718099,
          11254.094677897185,
          12061.939195095143,
          12169.288014085512,
          12473.04970358266,
          12730.877873999249,
          13716.20350839057,
          14723.114786261664,
          15328.509604503997,
          16590.527489075677,
          16622.218984545256,
          18125.623369005294,
          21740.081441842787,
          23214.5057758072,
          23315.926171355255,
          24603.94009730694,
          26499.81366719062,
          26627.334009018337,
          26754.33591184156,
          29087.170988157253,
          29435.929383395374,
          29545.464555105802,
          32177.350497653977,
          32717.453102307463,
          33980.7336040769,
          34524.54398592831,
          42112.95057526903
         ],
         "yaxis": "y"
        },
        {
         "hovertemplate": "Actual Cost: %{x:$,.2f}<br>Predicted Cost: %{y:$,.2f}",
         "legendgroup": "Northeast",
         "marker": {
          "color": "#6C839B",
          "line": {
           "color": "#F7F7F7",
           "width": 1
          },
          "opacity": 0.7,
          "size": 10,
          "symbol": "circle"
         },
         "mode": "markers",
         "name": "Northeast",
         "orientation": "v",
         "showlegend": false,
         "type": "scatter",
         "x": [
          58571.07448,
          41034.2214,
          13129.60345,
          17128.42608,
          13224.05705,
          42303.69215,
          8627.5411,
          11512.405,
          13228.84695,
          12730.9996,
          3558.62025,
          14590.63205,
          13019.16105,
          6113.23105,
          4846.92015,
          14451.83515,
          9282.4806,
          5594.8455,
          2203.73595,
          6640.54485,
          12323.936,
          7935.29115,
          3857.75925,
          1712.227,
          2727.3951,
          7639.41745,
          3044.2133,
          25517.11363,
          11938.25595,
          3393.35635,
          14449.8544,
          33475.81715,
          20709.02034,
          8334.45755,
          2217.6012,
          11879.10405,
          11394.06555,
          10072.05505,
          2396.0959,
          7729.64575,
          2211.13075,
          3385.39915,
          24106.91255,
          2205.9808,
          9722.7695,
          13616.3586,
          11658.37915,
          6067.12675,
          19594.80965,
          2217.46915,
          22395.74424,
          12029.2867,
          9866.30485,
          16115.3045,
          7050.0213,
          5428.7277,
          13430.265,
          2196.4732,
          7985.815,
          13725.47184,
          3481.868,
          13143.86485,
          23241.47453,
          7133.9025,
          8606.2174
         ],
         "xaxis": "x2",
         "y": [
          33990.38520322118,
          37251.519410180445,
          13092.491516044043,
          8680.34076546493,
          15307.97962478995,
          35003.53993133241,
          8278.41201392211,
          12874.319749715884,
          14089.424253411556,
          17501.386936042138,
          3362.524140042782,
          14333.83753484584,
          14975.14668534111,
          8401.489820538734,
          7624.351600931029,
          13086.669122386473,
          9539.895441094428,
          8896.866921285618,
          9297.622071765789,
          9624.045939261381,
          12733.237022698931,
          14041.151702597019,
          5302.117312882597,
          2169.6349615759455,
          2580.8013617176225,
          9979.589295512973,
          3152.0456787332046,
          10522.470592257834,
          15446.363355532987,
          10568.875239214178,
          13078.18903549498,
          27878.15878997294,
          11875.720384451064,
          8469.313732347735,
          6370.602886523829,
          13185.007986563463,
          10172.976605570067,
          13454.43861032241,
          2167.454365391589,
          11650.565761887803,
          4508.749121423253,
          3431.07546253949,
          24730.843641626885,
          5221.803479475313,
          12634.696071803917,
          13618.215863784504,
          12465.202301683834,
          7512.285877710081,
          19744.8763124269,
          6327.164159804621,
          8229.855234477878,
          12467.478894804332,
          13796.120370330882,
          19535.37925920294,
          13886.453681491523,
          12341.136136426347,
          13771.116856411383,
          2915.4560307546744,
          8001.988387454704,
          8154.861729424002,
          4831.049563411514,
          13574.847141323622,
          6050.789466535687,
          6816.301030038769,
          10135.220015572624
         ],
         "yaxis": "y2"
        },
        {
         "hovertemplate": "<b>LOWESS trendline</b><br><br>index=Northeast<br>actuals=%{x}<br>preds=%{y} <b>(trend)</b><extra></extra>",
         "legendgroup": "Northeast",
         "marker": {
          "color": "#6C839B",
          "symbol": "circle"
         },
         "mode": "lines",
         "name": "Northeast",
         "showlegend": false,
         "type": "scatter",
         "x": [
          1712.227,
          2196.4732,
          2203.73595,
          2205.9808,
          2211.13075,
          2217.46915,
          2217.6012,
          2396.0959,
          2727.3951,
          3044.2133,
          3385.39915,
          3393.35635,
          3481.868,
          3558.62025,
          3857.75925,
          4846.92015,
          5428.7277,
          5594.8455,
          6067.12675,
          6113.23105,
          6640.54485,
          7050.0213,
          7133.9025,
          7639.41745,
          7729.64575,
          7935.29115,
          7985.815,
          8334.45755,
          8606.2174,
          8627.5411,
          9282.4806,
          9722.7695,
          9866.30485,
          10072.05505,
          11394.06555,
          11512.405,
          11658.37915,
          11879.10405,
          11938.25595,
          12029.2867,
          12323.936,
          12730.9996,
          13019.16105,
          13129.60345,
          13143.86485,
          13224.05705,
          13228.84695,
          13430.265,
          13616.3586,
          13725.47184,
          14449.8544,
          14451.83515,
          14590.63205,
          16115.3045,
          17128.42608,
          19594.80965,
          20709.02034,
          22395.74424,
          23241.47453,
          24106.91255,
          25517.11363,
          33475.81715,
          41034.2214,
          42303.69215,
          58571.07448
         ],
         "xaxis": "x2",
         "y": [
          3814.8599055306504,
          4323.057552828878,
          4330.666570127646,
          4333.018371330544,
          4338.413542635073,
          4345.053489825431,
          4345.191818954108,
          4532.043332110692,
          4877.960055151154,
          5207.352510463958,
          5560.258720660314,
          5568.465310007736,
          5659.6750602650545,
          5738.652018776327,
          6045.425671597418,
          7049.020863015224,
          7633.998621627552,
          7800.874647537146,
          8276.434372641768,
          8323.032325186516,
          8861.264724902569,
          9293.846462202468,
          9385.30805163635,
          9929.363150515594,
          10008.74984269543,
          10171.864865629888,
          10214.991266572091,
          10500.337292849403,
          10728.693180440707,
          10746.417826038629,
          11213.883330053597,
          11491.459508743174,
          11579.965810397774,
          11706.499580708896,
          12498.43576429797,
          12562.927349127873,
          12644.077115814198,
          12760.399083145105,
          12791.359593940215,
          12838.949808911095,
          13001.075000777179,
          13203.067849623783,
          13330.002855171648,
          13375.0320999318,
          13382.239817958482,
          13422.341633820955,
          13424.71280297098,
          13521.579192536603,
          13605.070659876032,
          13640.010550392597,
          13831.048516246852,
          13831.313416282228,
          13847.727796052415,
          13983.915528496449,
          14240.670727122882,
          14882.697318883997,
          15369.161774211192,
          17188.754993503437,
          18034.456113278153,
          18746.02903617763,
          20115.582444260253,
          27807.5156249232,
          32237.714728113355,
          32950.8385987416,
          42753.650054798185
         ],
         "yaxis": "y2"
        }
       ],
       "layout": {
        "annotations": [
         {
          "showarrow": false,
          "text": "Northwest",
          "x": 0.245,
          "xanchor": "center",
          "xref": "paper",
          "y": 0.46499999999999997,
          "yanchor": "bottom",
          "yref": "paper"
         },
         {
          "showarrow": false,
          "text": "Northeast",
          "x": 0.755,
          "xanchor": "center",
          "xref": "paper",
          "y": 0.46499999999999997,
          "yanchor": "bottom",
          "yref": "paper"
         },
         {
          "showarrow": false,
          "text": "Southwest",
          "x": 0.245,
          "xanchor": "center",
          "xref": "paper",
          "y": 0.9999999999999999,
          "yanchor": "bottom",
          "yref": "paper"
         },
         {
          "showarrow": false,
          "text": "Southeast",
          "x": 0.755,
          "xanchor": "center",
          "xref": "paper",
          "y": 0.9999999999999999,
          "yanchor": "bottom",
          "yref": "paper"
         },
         {
          "showarrow": false,
          "text": "Adj. R-Squared = 71.0%<br>RMSE = 5,227",
          "x": 51000,
          "xref": "x3",
          "y": 15000,
          "yref": "y3"
         },
         {
          "showarrow": false,
          "text": "Adj. R-Squared = 87.9%<br>RMSE = 4,456",
          "x": 51000,
          "xref": "x4",
          "y": 15000,
          "yref": "y4"
         },
         {
          "showarrow": false,
          "text": "Adj. R-Squared = 64.3%<br>RMSE = 6,179",
          "x": 51000,
          "xref": "x",
          "y": 15000,
          "yref": "y"
         },
         {
          "showarrow": false,
          "text": "Adj. R-Squared = 56.6%<br>RMSE = 5,618",
          "x": 51000,
          "xref": "x2",
          "y": 15000,
          "yref": "y2"
         }
        ],
        "font": {
         "color": "#303030"
        },
        "height": 700,
        "legend": {
         "title": {
          "text": "index"
         },
         "tracegroupgap": 0
        },
        "paper_bgcolor": "white",
        "plot_bgcolor": "white",
        "template": {
         "data": {
          "bar": [
           {
            "error_x": {
             "color": "#2a3f5f"
            },
            "error_y": {
             "color": "#2a3f5f"
            },
            "marker": {
             "line": {
              "color": "white",
              "width": 0.5
             },
             "pattern": {
              "fillmode": "overlay",
              "size": 10,
              "solidity": 0.2
             }
            },
            "type": "bar"
           }
          ],
          "barpolar": [
           {
            "marker": {
             "line": {
              "color": "white",
              "width": 0.5
             },
             "pattern": {
              "fillmode": "overlay",
              "size": 10,
              "solidity": 0.2
             }
            },
            "type": "barpolar"
           }
          ],
          "carpet": [
           {
            "aaxis": {
             "endlinecolor": "#2a3f5f",
             "gridcolor": "#C8D4E3",
             "linecolor": "#C8D4E3",
             "minorgridcolor": "#C8D4E3",
             "startlinecolor": "#2a3f5f"
            },
            "baxis": {
             "endlinecolor": "#2a3f5f",
             "gridcolor": "#C8D4E3",
             "linecolor": "#C8D4E3",
             "minorgridcolor": "#C8D4E3",
             "startlinecolor": "#2a3f5f"
            },
            "type": "carpet"
           }
          ],
          "choropleth": [
           {
            "colorbar": {
             "outlinewidth": 0,
             "ticks": ""
            },
            "type": "choropleth"
           }
          ],
          "contour": [
           {
            "colorbar": {
             "outlinewidth": 0,
             "ticks": ""
            },
            "colorscale": [
             [
              0,
              "#0d0887"
             ],
             [
              0.1111111111111111,
              "#46039f"
             ],
             [
              0.2222222222222222,
              "#7201a8"
             ],
             [
              0.3333333333333333,
              "#9c179e"
             ],
             [
              0.4444444444444444,
              "#bd3786"
             ],
             [
              0.5555555555555556,
              "#d8576b"
             ],
             [
              0.6666666666666666,
              "#ed7953"
             ],
             [
              0.7777777777777778,
              "#fb9f3a"
             ],
             [
              0.8888888888888888,
              "#fdca26"
             ],
             [
              1,
              "#f0f921"
             ]
            ],
            "type": "contour"
           }
          ],
          "contourcarpet": [
           {
            "colorbar": {
             "outlinewidth": 0,
             "ticks": ""
            },
            "type": "contourcarpet"
           }
          ],
          "heatmap": [
           {
            "colorbar": {
             "outlinewidth": 0,
             "ticks": ""
            },
            "colorscale": [
             [
              0,
              "#0d0887"
             ],
             [
              0.1111111111111111,
              "#46039f"
             ],
             [
              0.2222222222222222,
              "#7201a8"
             ],
             [
              0.3333333333333333,
              "#9c179e"
             ],
             [
              0.4444444444444444,
              "#bd3786"
             ],
             [
              0.5555555555555556,
              "#d8576b"
             ],
             [
              0.6666666666666666,
              "#ed7953"
             ],
             [
              0.7777777777777778,
              "#fb9f3a"
             ],
             [
              0.8888888888888888,
              "#fdca26"
             ],
             [
              1,
              "#f0f921"
             ]
            ],
            "type": "heatmap"
           }
          ],
          "heatmapgl": [
           {
            "colorbar": {
             "outlinewidth": 0,
             "ticks": ""
            },
            "colorscale": [
             [
              0,
              "#0d0887"
             ],
             [
              0.1111111111111111,
              "#46039f"
             ],
             [
              0.2222222222222222,
              "#7201a8"
             ],
             [
              0.3333333333333333,
              "#9c179e"
             ],
             [
              0.4444444444444444,
              "#bd3786"
             ],
             [
              0.5555555555555556,
              "#d8576b"
             ],
             [
              0.6666666666666666,
              "#ed7953"
             ],
             [
              0.7777777777777778,
              "#fb9f3a"
             ],
             [
              0.8888888888888888,
              "#fdca26"
             ],
             [
              1,
              "#f0f921"
             ]
            ],
            "type": "heatmapgl"
           }
          ],
          "histogram": [
           {
            "marker": {
             "pattern": {
              "fillmode": "overlay",
              "size": 10,
              "solidity": 0.2
             }
            },
            "type": "histogram"
           }
          ],
          "histogram2d": [
           {
            "colorbar": {
             "outlinewidth": 0,
             "ticks": ""
            },
            "colorscale": [
             [
              0,
              "#0d0887"
             ],
             [
              0.1111111111111111,
              "#46039f"
             ],
             [
              0.2222222222222222,
              "#7201a8"
             ],
             [
              0.3333333333333333,
              "#9c179e"
             ],
             [
              0.4444444444444444,
              "#bd3786"
             ],
             [
              0.5555555555555556,
              "#d8576b"
             ],
             [
              0.6666666666666666,
              "#ed7953"
             ],
             [
              0.7777777777777778,
              "#fb9f3a"
             ],
             [
              0.8888888888888888,
              "#fdca26"
             ],
             [
              1,
              "#f0f921"
             ]
            ],
            "type": "histogram2d"
           }
          ],
          "histogram2dcontour": [
           {
            "colorbar": {
             "outlinewidth": 0,
             "ticks": ""
            },
            "colorscale": [
             [
              0,
              "#0d0887"
             ],
             [
              0.1111111111111111,
              "#46039f"
             ],
             [
              0.2222222222222222,
              "#7201a8"
             ],
             [
              0.3333333333333333,
              "#9c179e"
             ],
             [
              0.4444444444444444,
              "#bd3786"
             ],
             [
              0.5555555555555556,
              "#d8576b"
             ],
             [
              0.6666666666666666,
              "#ed7953"
             ],
             [
              0.7777777777777778,
              "#fb9f3a"
             ],
             [
              0.8888888888888888,
              "#fdca26"
             ],
             [
              1,
              "#f0f921"
             ]
            ],
            "type": "histogram2dcontour"
           }
          ],
          "mesh3d": [
           {
            "colorbar": {
             "outlinewidth": 0,
             "ticks": ""
            },
            "type": "mesh3d"
           }
          ],
          "parcoords": [
           {
            "line": {
             "colorbar": {
              "outlinewidth": 0,
              "ticks": ""
             }
            },
            "type": "parcoords"
           }
          ],
          "pie": [
           {
            "automargin": true,
            "type": "pie"
           }
          ],
          "scatter": [
           {
            "fillpattern": {
             "fillmode": "overlay",
             "size": 10,
             "solidity": 0.2
            },
            "type": "scatter"
           }
          ],
          "scatter3d": [
           {
            "line": {
             "colorbar": {
              "outlinewidth": 0,
              "ticks": ""
             }
            },
            "marker": {
             "colorbar": {
              "outlinewidth": 0,
              "ticks": ""
             }
            },
            "type": "scatter3d"
           }
          ],
          "scattercarpet": [
           {
            "marker": {
             "colorbar": {
              "outlinewidth": 0,
              "ticks": ""
             }
            },
            "type": "scattercarpet"
           }
          ],
          "scattergeo": [
           {
            "marker": {
             "colorbar": {
              "outlinewidth": 0,
              "ticks": ""
             }
            },
            "type": "scattergeo"
           }
          ],
          "scattergl": [
           {
            "marker": {
             "colorbar": {
              "outlinewidth": 0,
              "ticks": ""
             }
            },
            "type": "scattergl"
           }
          ],
          "scattermapbox": [
           {
            "marker": {
             "colorbar": {
              "outlinewidth": 0,
              "ticks": ""
             }
            },
            "type": "scattermapbox"
           }
          ],
          "scatterpolar": [
           {
            "marker": {
             "colorbar": {
              "outlinewidth": 0,
              "ticks": ""
             }
            },
            "type": "scatterpolar"
           }
          ],
          "scatterpolargl": [
           {
            "marker": {
             "colorbar": {
              "outlinewidth": 0,
              "ticks": ""
             }
            },
            "type": "scatterpolargl"
           }
          ],
          "scatterternary": [
           {
            "marker": {
             "colorbar": {
              "outlinewidth": 0,
              "ticks": ""
             }
            },
            "type": "scatterternary"
           }
          ],
          "surface": [
           {
            "colorbar": {
             "outlinewidth": 0,
             "ticks": ""
            },
            "colorscale": [
             [
              0,
              "#0d0887"
             ],
             [
              0.1111111111111111,
              "#46039f"
             ],
             [
              0.2222222222222222,
              "#7201a8"
             ],
             [
              0.3333333333333333,
              "#9c179e"
             ],
             [
              0.4444444444444444,
              "#bd3786"
             ],
             [
              0.5555555555555556,
              "#d8576b"
             ],
             [
              0.6666666666666666,
              "#ed7953"
             ],
             [
              0.7777777777777778,
              "#fb9f3a"
             ],
             [
              0.8888888888888888,
              "#fdca26"
             ],
             [
              1,
              "#f0f921"
             ]
            ],
            "type": "surface"
           }
          ],
          "table": [
           {
            "cells": {
             "fill": {
              "color": "#EBF0F8"
             },
             "line": {
              "color": "white"
             }
            },
            "header": {
             "fill": {
              "color": "#C8D4E3"
             },
             "line": {
              "color": "white"
             }
            },
            "type": "table"
           }
          ]
         },
         "layout": {
          "annotationdefaults": {
           "arrowcolor": "#2a3f5f",
           "arrowhead": 0,
           "arrowwidth": 1
          },
          "autotypenumbers": "strict",
          "coloraxis": {
           "colorbar": {
            "outlinewidth": 0,
            "ticks": ""
           }
          },
          "colorscale": {
           "diverging": [
            [
             0,
             "#8e0152"
            ],
            [
             0.1,
             "#c51b7d"
            ],
            [
             0.2,
             "#de77ae"
            ],
            [
             0.3,
             "#f1b6da"
            ],
            [
             0.4,
             "#fde0ef"
            ],
            [
             0.5,
             "#f7f7f7"
            ],
            [
             0.6,
             "#e6f5d0"
            ],
            [
             0.7,
             "#b8e186"
            ],
            [
             0.8,
             "#7fbc41"
            ],
            [
             0.9,
             "#4d9221"
            ],
            [
             1,
             "#276419"
            ]
           ],
           "sequential": [
            [
             0,
             "#0d0887"
            ],
            [
             0.1111111111111111,
             "#46039f"
            ],
            [
             0.2222222222222222,
             "#7201a8"
            ],
            [
             0.3333333333333333,
             "#9c179e"
            ],
            [
             0.4444444444444444,
             "#bd3786"
            ],
            [
             0.5555555555555556,
             "#d8576b"
            ],
            [
             0.6666666666666666,
             "#ed7953"
            ],
            [
             0.7777777777777778,
             "#fb9f3a"
            ],
            [
             0.8888888888888888,
             "#fdca26"
            ],
            [
             1,
             "#f0f921"
            ]
           ],
           "sequentialminus": [
            [
             0,
             "#0d0887"
            ],
            [
             0.1111111111111111,
             "#46039f"
            ],
            [
             0.2222222222222222,
             "#7201a8"
            ],
            [
             0.3333333333333333,
             "#9c179e"
            ],
            [
             0.4444444444444444,
             "#bd3786"
            ],
            [
             0.5555555555555556,
             "#d8576b"
            ],
            [
             0.6666666666666666,
             "#ed7953"
            ],
            [
             0.7777777777777778,
             "#fb9f3a"
            ],
            [
             0.8888888888888888,
             "#fdca26"
            ],
            [
             1,
             "#f0f921"
            ]
           ]
          },
          "colorway": [
           "#636efa",
           "#EF553B",
           "#00cc96",
           "#ab63fa",
           "#FFA15A",
           "#19d3f3",
           "#FF6692",
           "#B6E880",
           "#FF97FF",
           "#FECB52"
          ],
          "font": {
           "color": "#2a3f5f"
          },
          "geo": {
           "bgcolor": "white",
           "lakecolor": "white",
           "landcolor": "white",
           "showlakes": true,
           "showland": true,
           "subunitcolor": "#C8D4E3"
          },
          "hoverlabel": {
           "align": "left"
          },
          "hovermode": "closest",
          "mapbox": {
           "style": "light"
          },
          "paper_bgcolor": "white",
          "plot_bgcolor": "white",
          "polar": {
           "angularaxis": {
            "gridcolor": "#EBF0F8",
            "linecolor": "#EBF0F8",
            "ticks": ""
           },
           "bgcolor": "white",
           "radialaxis": {
            "gridcolor": "#EBF0F8",
            "linecolor": "#EBF0F8",
            "ticks": ""
           }
          },
          "scene": {
           "xaxis": {
            "backgroundcolor": "white",
            "gridcolor": "#DFE8F3",
            "gridwidth": 2,
            "linecolor": "#EBF0F8",
            "showbackground": true,
            "ticks": "",
            "zerolinecolor": "#EBF0F8"
           },
           "yaxis": {
            "backgroundcolor": "white",
            "gridcolor": "#DFE8F3",
            "gridwidth": 2,
            "linecolor": "#EBF0F8",
            "showbackground": true,
            "ticks": "",
            "zerolinecolor": "#EBF0F8"
           },
           "zaxis": {
            "backgroundcolor": "white",
            "gridcolor": "#DFE8F3",
            "gridwidth": 2,
            "linecolor": "#EBF0F8",
            "showbackground": true,
            "ticks": "",
            "zerolinecolor": "#EBF0F8"
           }
          },
          "shapedefaults": {
           "line": {
            "color": "#2a3f5f"
           }
          },
          "ternary": {
           "aaxis": {
            "gridcolor": "#DFE8F3",
            "linecolor": "#A2B1C6",
            "ticks": ""
           },
           "baxis": {
            "gridcolor": "#DFE8F3",
            "linecolor": "#A2B1C6",
            "ticks": ""
           },
           "bgcolor": "white",
           "caxis": {
            "gridcolor": "#DFE8F3",
            "linecolor": "#A2B1C6",
            "ticks": ""
           }
          },
          "title": {
           "x": 0.05
          },
          "xaxis": {
           "automargin": true,
           "gridcolor": "#EBF0F8",
           "linecolor": "#EBF0F8",
           "ticks": "",
           "title": {
            "standoff": 15
           },
           "zerolinecolor": "#EBF0F8",
           "zerolinewidth": 2
          },
          "yaxis": {
           "automargin": true,
           "gridcolor": "#EBF0F8",
           "linecolor": "#EBF0F8",
           "ticks": "",
           "title": {
            "standoff": 15
           },
           "zerolinecolor": "#EBF0F8",
           "zerolinewidth": 2
          }
         }
        },
        "title": {
         "text": "Actual vs Predicted Insurance Costs by Region,<br>K-Nearest Neighbors"
        },
        "xaxis": {
         "anchor": "y",
         "domain": [
          0,
          0.49
         ],
         "gridcolor": "#EAEAEA",
         "gridwidth": 1,
         "showgrid": true,
         "title": {
          "text": "Actual Cost, $"
         },
         "zeroline": true,
         "zerolinecolor": "#5E5E5E",
         "zerolinewidth": 2
        },
        "xaxis2": {
         "anchor": "y2",
         "domain": [
          0.51,
          1
         ],
         "gridcolor": "#EAEAEA",
         "gridwidth": 1,
         "matches": "x",
         "showgrid": true,
         "title": {
          "text": "Actual Cost, $"
         },
         "zeroline": true,
         "zerolinecolor": "#5E5E5E",
         "zerolinewidth": 2
        },
        "xaxis3": {
         "anchor": "y3",
         "domain": [
          0,
          0.49
         ],
         "gridcolor": "#EAEAEA",
         "gridwidth": 1,
         "matches": "x",
         "showgrid": true,
         "showticklabels": false,
         "zeroline": true,
         "zerolinecolor": "#5E5E5E",
         "zerolinewidth": 2
        },
        "xaxis4": {
         "anchor": "y4",
         "domain": [
          0.51,
          1
         ],
         "gridcolor": "#EAEAEA",
         "gridwidth": 1,
         "matches": "x",
         "showgrid": true,
         "showticklabels": false,
         "zeroline": true,
         "zerolinecolor": "#5E5E5E",
         "zerolinewidth": 2
        },
        "yaxis": {
         "anchor": "x",
         "domain": [
          0,
          0.46499999999999997
         ],
         "gridcolor": "#E3E3E3",
         "gridwidth": 1,
         "showgrid": true,
         "title": {
          "text": "Predicted Cost, $"
         },
         "zeroline": true,
         "zerolinecolor": "#5E5E5E",
         "zerolinewidth": 2
        },
        "yaxis2": {
         "anchor": "x2",
         "domain": [
          0,
          0.46499999999999997
         ],
         "gridcolor": "#E3E3E3",
         "gridwidth": 1,
         "matches": "y",
         "showgrid": true,
         "showticklabels": false,
         "zeroline": true,
         "zerolinecolor": "#5E5E5E",
         "zerolinewidth": 2
        },
        "yaxis3": {
         "anchor": "x3",
         "domain": [
          0.5349999999999999,
          0.9999999999999999
         ],
         "gridcolor": "#E3E3E3",
         "gridwidth": 1,
         "matches": "y",
         "showgrid": true,
         "title": {
          "text": "Predicted Cost, $"
         },
         "zeroline": true,
         "zerolinecolor": "#5E5E5E",
         "zerolinewidth": 2
        },
        "yaxis4": {
         "anchor": "x4",
         "domain": [
          0.5349999999999999,
          0.9999999999999999
         ],
         "gridcolor": "#E3E3E3",
         "gridwidth": 1,
         "matches": "y",
         "showgrid": true,
         "showticklabels": false,
         "zeroline": true,
         "zerolinecolor": "#5E5E5E",
         "zerolinewidth": 2
        }
       }
      },
      "text/html": [
       "<div>                            <div id=\"b80f2b83-b1bd-40b7-94fc-85d945b6b124\" class=\"plotly-graph-div\" style=\"height:700px; width:100%;\"></div>            <script type=\"text/javascript\">                require([\"plotly\"], function(Plotly) {                    window.PLOTLYENV=window.PLOTLYENV || {};                                    if (document.getElementById(\"b80f2b83-b1bd-40b7-94fc-85d945b6b124\")) {                    Plotly.newPlot(                        \"b80f2b83-b1bd-40b7-94fc-85d945b6b124\",                        [{\"hovertemplate\":\"Actual Cost: %{x:$,.2f}<br>Predicted Cost: %{y:$,.2f}\",\"legendgroup\":\"Southwest\",\"marker\":{\"color\":\"#B14B51\",\"opacity\":0.7,\"symbol\":\"circle\",\"line\":{\"color\":\"#F7F7F7\",\"width\":1},\"size\":10},\"mode\":\"markers\",\"name\":\"Southwest\",\"orientation\":\"v\",\"showlegend\":false,\"x\":[3761.292,11674.13,6311.952,14319.031,11552.904,5080.096,8269.044,3693.428,36837.467,13224.693,23306.547,35160.13457,12347.172,10065.413,5488.262,38711.0,7196.867,6571.544,5979.731,34828.654,6600.361,39836.519,1256.299,1242.26,4762.329,9264.797,13470.86,1759.338,1241.565,48173.361,16232.847,25309.489,10791.96,4751.07,8556.907,42856.838,8277.523,11576.13,7623.518,12146.971,20630.28351,4646.759,26140.3603,2007.945,8444.474,17081.08,13822.803,8825.086,37079.372,10096.97,11411.685,14988.432,11362.755,6875.961,10795.93733,18259.216,1261.859,17942.106,11150.78,38415.474,8522.003,8703.456,3987.926,1964.78,1743.214],\"xaxis\":\"x3\",\"y\":[5761.911435864062,12595.047751540827,7359.12975742016,11663.280547754777,9910.70699930521,5489.992537949517,10083.884055433093,4885.479575414176,34645.66299845873,11178.094450898574,30078.66621893096,10605.351452025192,11210.779334416373,10893.786081241806,6788.851580333075,38505.024593401555,7210.74729255162,7115.787925448952,10827.88190350161,34507.41337947776,7866.515657411256,35351.74584181099,3594.4458584392532,1611.0306143503876,6160.495111548204,11468.726904176865,11601.927757509286,3121.287980206008,1777.2245815751126,39026.095807082704,21738.102434012275,31300.120579554332,10227.880266953358,6767.8691817803765,7683.168050008828,36113.259036764146,8985.967295824406,11492.022425769568,9682.21954859697,11661.873338071466,11699.807394276824,10576.291329235926,9800.724368037048,4783.696011394979,12451.532111486094,20930.477812463512,12702.78391660175,8641.72038269529,30020.38856958458,7938.154597751149,12532.396122395856,9432.896713611697,12582.275581619953,7425.7038546494,3387.961782810242,25964.68951106243,3782.5965481686662,31153.14738424414,11179.997847659606,36463.66694404191,8150.7117950510155,10151.607673492314,6362.540097167823,2117.055487607105,4525.915912972378],\"yaxis\":\"y3\",\"type\":\"scatter\"},{\"hovertemplate\":\"<b>LOWESS trendline</b><br><br>index=Southwest<br>actuals=%{x}<br>preds=%{y} <b>(trend)</b><extra></extra>\",\"legendgroup\":\"Southwest\",\"marker\":{\"color\":\"#B14B51\",\"symbol\":\"circle\"},\"mode\":\"lines\",\"name\":\"Southwest\",\"showlegend\":false,\"x\":[1241.565,1242.26,1256.299,1261.859,1743.214,1759.338,1964.78,2007.945,3693.428,3761.292,3987.926,4646.759,4751.07,4762.329,5080.096,5488.262,5979.731,6311.952,6571.544,6600.361,6875.961,7196.867,7623.518,8269.044,8277.523,8444.474,8522.003,8556.907,8703.456,8825.086,9264.797,10065.413,10096.97,10791.96,10795.93733,11150.78,11362.755,11411.685,11552.904,11576.13,11674.13,12146.971,12347.172,13224.693,13470.86,13822.803,14319.031,14988.432,16232.847,17081.08,17942.106,18259.216,20630.28351,23306.547,25309.489,26140.3603,34828.654,35160.13457,36837.467,37079.372,38415.474,38711.0,39836.519,42856.838,48173.361],\"xaxis\":\"x3\",\"y\":[3100.1142197389213,3100.747610967458,3113.5408508147316,3118.6068167878366,3555.7918732033163,3570.389398012295,3756.121484365394,3795.084097514123,5302.632363214478,5362.918006893556,5564.149458060207,6149.1870358731785,6241.970540807109,6251.990093387177,6535.249243756927,6901.024806142472,7346.358651633336,7649.210436264476,7878.172819925111,7902.5184908910605,8117.433403294543,8346.98317590959,8649.468600664804,9099.071840626442,9104.679877493614,9214.44899685473,9264.54851939652,9286.949765296153,9379.974047576747,9455.989491852402,9730.65481129647,10222.663194606026,10242.896751189564,10679.038514491423,10681.477089864457,10919.177047089912,11076.05052593627,11113.51883641926,11223.909321332936,11242.355454682836,11320.982411852956,11713.60212602888,11870.231318978444,12631.689253422834,12844.627810748143,13147.169159896985,13586.1078720843,14187.20127916535,15375.469964128633,16245.785159512088,17174.587931237922,17525.64743257249,20713.230465639666,22685.69908096163,23938.27327393052,24586.637034659663,31487.290073177992,31747.085995780875,33058.32751016416,33246.77769045328,34283.58224524625,34511.87954394824,35377.299052795206,37658.98587611864,41492.666802617096],\"yaxis\":\"y3\",\"type\":\"scatter\"},{\"hovertemplate\":\"Actual Cost: %{x:$,.2f}<br>Predicted Cost: %{y:$,.2f}\",\"legendgroup\":\"Southeast\",\"marker\":{\"color\":\"#D0A99C\",\"opacity\":0.7,\"symbol\":\"circle\",\"line\":{\"color\":\"#F7F7F7\",\"width\":1},\"size\":10},\"mode\":\"markers\",\"name\":\"Southeast\",\"orientation\":\"v\",\"showlegend\":false,\"x\":[44202.6536,6781.3542,5478.0368,32548.3405,1815.8759,11093.6229,11090.7178,13470.8044,47269.854,10107.2206,38282.7495,19350.3689,1615.7667,40974.1649,1824.2854,7243.8136,36950.2567,41999.52,6184.2994,20462.99766,7152.6714,2219.4451,8232.6388,4266.1658,19521.9682,27808.7251,16586.49771,5966.8874,4504.6624,3500.6123,4340.4409,5974.3847,3227.1211,11363.2832,12592.5345,6313.759,5920.1041,12142.5786,3561.8889,4673.3922,46599.1084,2566.4707,41676.0811,8978.1851,48970.2476,24667.419,8596.8278,38709.176,1136.3994,18806.14547,1981.5819,1131.5066,6500.2359,1146.7966,8547.6913,39611.7577,11881.9696,48675.5177,44400.4064,18223.4512,28287.89766,9855.1314,10702.6424,5245.2269,1664.9996,2464.6188,9377.9047,10226.2842,36124.5737,4779.6023,6338.0756,42112.2356,1633.9618],\"xaxis\":\"x4\",\"y\":[44259.885884334726,7495.1085098503945,5135.418489575665,28083.634846958896,2208.810426044216,17578.390029829425,14549.897800607627,14406.20289647148,46256.944744865,10097.9413987007,36698.55649631596,27837.432892210512,4915.889718750334,36249.894049879294,1667.3926443794062,13039.70198393987,34947.13388780076,35520.84464670177,8190.104426091671,13960.328370184026,8982.971523205744,6846.563471618461,7929.127759333607,5373.379162025742,19696.677994182774,30413.87336945028,1581.4333048732012,5584.7138150041,5940.481551386719,4558.897929227824,3676.0802685626873,6016.533001446052,7787.627315766839,12193.926516632742,17437.881882831953,6934.497414291626,7138.509623735218,12773.026035760558,7359.389463083577,6342.37288527663,45625.13430758666,5313.284293008384,46271.24313179327,9332.08877889325,46592.00346502223,30122.182276206266,14894.978149401562,37328.85289886115,1229.260302870338,9314.038975224872,1749.8553596456352,1522.3320166016913,6474.49206495957,1593.4106240782971,7751.350212452633,37883.02497619167,9690.624168281494,45715.76806141832,43238.10203072216,32573.232767333506,11794.789326278833,13517.027919751856,18642.118875677275,5316.0053814722805,1927.9268340942197,4204.895832157926,9520.785499587428,9799.241028655302,32750.85994360905,4446.008089994324,10862.971416143388,39718.82202516336,2932.729234255227],\"yaxis\":\"y4\",\"type\":\"scatter\"},{\"hovertemplate\":\"<b>LOWESS trendline</b><br><br>index=Southeast<br>actuals=%{x}<br>preds=%{y} <b>(trend)</b><extra></extra>\",\"legendgroup\":\"Southeast\",\"marker\":{\"color\":\"#D0A99C\",\"symbol\":\"circle\"},\"mode\":\"lines\",\"name\":\"Southeast\",\"showlegend\":false,\"x\":[1131.5066,1136.3994,1146.7966,1615.7667,1633.9618,1664.9996,1815.8759,1824.2854,1981.5819,2219.4451,2464.6188,2566.4707,3227.1211,3500.6123,3561.8889,4266.1658,4340.4409,4504.6624,4673.3922,4779.6023,5245.2269,5478.0368,5920.1041,5966.8874,5974.3847,6184.2994,6313.759,6338.0756,6500.2359,6781.3542,7152.6714,7243.8136,8232.6388,8547.6913,8596.8278,8978.1851,9377.9047,9855.1314,10107.2206,10226.2842,10702.6424,11090.7178,11093.6229,11363.2832,11881.9696,12142.5786,12592.5345,13470.8044,16586.49771,18223.4512,18806.14547,19350.3689,19521.9682,20462.99766,24667.419,27808.7251,28287.89766,32548.3405,36124.5737,36950.2567,38282.7495,38709.176,39611.7577,40974.1649,41676.0811,41999.52,42112.2356,44202.6536,44400.4064,46599.1084,47269.854,48675.5177,48970.2476],\"xaxis\":\"x4\",\"y\":[2300.065121788415,2304.9255616682685,2315.2537905642275,2780.91776599099,2798.9809497764245,2829.7937926318027,2979.5810927223347,2987.9302892072587,3144.114418183171,3380.403177971034,3624.200754049004,3725.578940025181,4384.945351168841,4658.95227135447,4720.433008246897,5429.059770447065,5503.956178990787,5669.6095070781,5839.858375308471,5947.026336870233,6416.427085802623,6650.5247296030575,7092.878674082051,7139.468485279026,7146.929970669963,7355.258079624287,7483.119874288821,7507.07796058557,7666.3273249331805,7939.968329410676,8297.333161751114,8385.216440959364,9455.440553895825,9795.343660780363,9848.246904357913,10258.188470647885,10687.24807950858,11199.608060541064,11475.134280163373,11607.409539822665,12124.722324186321,12541.313885211766,12544.610350716113,12827.598955303292,13334.960857610335,13579.365473661193,13994.595442481108,14805.120069447017,18105.985717893884,19903.817642034504,20416.489880174537,20845.56570914447,20970.124997515577,21671.74045086233,24576.093504406555,27320.766604434157,27752.62634824772,31597.548027515568,34804.492125360775,35544.97958134,36741.0741652555,37124.25977792784,37936.15105453458,39164.20138723504,39798.27549720266,40090.80802561367,40192.80830469334,42090.34941946424,42270.48869980957,44281.43102896145,44897.90580875698,46194.335876178295,46466.90811364764],\"yaxis\":\"y4\",\"type\":\"scatter\"},{\"hovertemplate\":\"Actual Cost: %{x:$,.2f}<br>Predicted Cost: %{y:$,.2f}\",\"legendgroup\":\"Northwest\",\"marker\":{\"color\":\"#5D8370\",\"opacity\":0.7,\"symbol\":\"circle\",\"line\":{\"color\":\"#F7F7F7\",\"width\":1},\"size\":10},\"mode\":\"markers\",\"name\":\"Northwest\",\"orientation\":\"v\",\"showlegend\":false,\"x\":[9174.13565,4433.3877,21774.32215,7731.85785,33471.97189,4618.0799,3594.17085,12235.8392,6203.90175,11840.77505,4466.6214,8162.71625,6393.60345,1906.35825,23967.38305,2775.19215,3537.703,32787.45859,6112.35295,9301.89355,11945.1327,6389.37785,23807.2406,10264.4421,4243.59005,16455.70785,8413.46305,26018.95052,60021.39897,3579.8287,12479.70895,5855.9025,7153.5539,1635.73365,6986.697,43921.1837,15019.76005,29330.98315,5630.45785,8827.2099,8059.6791,5729.0053,14382.70905,29141.3603,38746.3551,3877.30425,42760.5022,6373.55735,28950.4692,16420.49455,10600.5483,18033.9679,39983.42595,6940.90985,4239.89265,6360.9936,8116.26885,6796.86325,2136.88225,33307.5508,13415.0381,10976.24575,3353.4703,5261.46945,5989.52365],\"xaxis\":\"x\",\"y\":[12052.66424438077,8064.400364963369,21469.72137705734,8717.378833239387,11514.496892117824,14929.972495247863,3027.9389743319502,12423.862307515175,6543.417545533283,12463.534952111615,12506.804935223698,8636.499223850498,5998.651438089188,1852.9645774353894,24088.164993455328,7757.819878791221,14703.180482420796,28783.580354496917,6897.46310129688,12284.034425889104,12989.707302655948,6278.580222971425,22139.01268134658,9694.501564048274,5789.9177480119,13499.459456219989,6945.595034172227,12106.210586591036,40565.36821907142,10687.549041449005,10989.231404435255,6079.870694411677,15751.9389687643,1899.1139735568747,8816.340631504778,25187.56981572765,12125.074580801685,30286.325686811862,6992.771389725476,10457.49807889379,7765.969680840048,9830.267488150028,12279.424662879344,33602.46590277817,31203.29475280688,11533.646415066478,41875.94726744751,19119.623617077563,30374.318462550495,22991.73689258542,10055.23969415575,24092.35862477516,33321.99309426922,6580.857781579102,4638.083055682382,9642.33493428411,6991.9134033627015,7215.977569176928,2313.374184680218,25162.47890537514,15762.392094018345,11265.065752449067,3271.2035124184795,9037.69794128745,6327.234664716832],\"yaxis\":\"y\",\"type\":\"scatter\"},{\"hovertemplate\":\"<b>LOWESS trendline</b><br><br>index=Northwest<br>actuals=%{x}<br>preds=%{y} <b>(trend)</b><extra></extra>\",\"legendgroup\":\"Northwest\",\"marker\":{\"color\":\"#5D8370\",\"symbol\":\"circle\"},\"mode\":\"lines\",\"name\":\"Northwest\",\"showlegend\":false,\"x\":[1635.73365,1906.35825,2136.88225,2775.19215,3353.4703,3537.703,3579.8287,3594.17085,3877.30425,4239.89265,4243.59005,4433.3877,4466.6214,4618.0799,5261.46945,5630.45785,5729.0053,5855.9025,5989.52365,6112.35295,6203.90175,6360.9936,6373.55735,6389.37785,6393.60345,6796.86325,6940.90985,6986.697,7153.5539,7731.85785,8059.6791,8116.26885,8162.71625,8413.46305,8827.2099,9174.13565,9301.89355,10264.4421,10600.5483,10976.24575,11840.77505,11945.1327,12235.8392,12479.70895,13415.0381,14382.70905,15019.76005,16420.49455,16455.70785,18033.9679,21774.32215,23807.2406,23967.38305,26018.95052,28950.4692,29141.3603,29330.98315,32787.45859,33307.5508,33471.97189,38746.3551,39983.42595,42760.5022,43921.1837,60021.39897],\"xaxis\":\"x\",\"y\":[4462.860387728616,4678.83520336303,4860.155281433536,5351.906418927981,5789.834207112438,5928.838827539891,5960.6306214681335,5971.456288641354,6185.480601835007,6460.976979750705,6463.79624913237,6608.815470851399,6634.27147611539,6750.522262683126,7246.494121304889,7527.7750167410495,7601.511752676813,7695.057424046394,7791.3136745400525,7877.153779812117,7939.094326709978,8040.403874903399,8048.198616262395,8057.943723564869,8060.53319584693,8279.118727456063,8345.351358618975,8372.257578695326,8458.643819250032,8835.149270244563,9066.963224033983,9109.577571554937,9144.835815488073,9312.583050948944,9620.18053112705,9875.452685615586,9981.852002636972,10710.961835700338,10959.67826718099,11254.094677897185,12061.939195095143,12169.288014085512,12473.04970358266,12730.877873999249,13716.20350839057,14723.114786261664,15328.509604503997,16590.527489075677,16622.218984545256,18125.623369005294,21740.081441842787,23214.5057758072,23315.926171355255,24603.94009730694,26499.81366719062,26627.334009018337,26754.33591184156,29087.170988157253,29435.929383395374,29545.464555105802,32177.350497653977,32717.453102307463,33980.7336040769,34524.54398592831,42112.95057526903],\"yaxis\":\"y\",\"type\":\"scatter\"},{\"hovertemplate\":\"Actual Cost: %{x:$,.2f}<br>Predicted Cost: %{y:$,.2f}\",\"legendgroup\":\"Northeast\",\"marker\":{\"color\":\"#6C839B\",\"opacity\":0.7,\"symbol\":\"circle\",\"line\":{\"color\":\"#F7F7F7\",\"width\":1},\"size\":10},\"mode\":\"markers\",\"name\":\"Northeast\",\"orientation\":\"v\",\"showlegend\":false,\"x\":[58571.07448,41034.2214,13129.60345,17128.42608,13224.05705,42303.69215,8627.5411,11512.405,13228.84695,12730.9996,3558.62025,14590.63205,13019.16105,6113.23105,4846.92015,14451.83515,9282.4806,5594.8455,2203.73595,6640.54485,12323.936,7935.29115,3857.75925,1712.227,2727.3951,7639.41745,3044.2133,25517.11363,11938.25595,3393.35635,14449.8544,33475.81715,20709.02034,8334.45755,2217.6012,11879.10405,11394.06555,10072.05505,2396.0959,7729.64575,2211.13075,3385.39915,24106.91255,2205.9808,9722.7695,13616.3586,11658.37915,6067.12675,19594.80965,2217.46915,22395.74424,12029.2867,9866.30485,16115.3045,7050.0213,5428.7277,13430.265,2196.4732,7985.815,13725.47184,3481.868,13143.86485,23241.47453,7133.9025,8606.2174],\"xaxis\":\"x2\",\"y\":[33990.38520322118,37251.519410180445,13092.491516044043,8680.34076546493,15307.97962478995,35003.53993133241,8278.41201392211,12874.319749715884,14089.424253411556,17501.386936042138,3362.524140042782,14333.83753484584,14975.14668534111,8401.489820538734,7624.351600931029,13086.669122386473,9539.895441094428,8896.866921285618,9297.622071765789,9624.045939261381,12733.237022698931,14041.151702597019,5302.117312882597,2169.6349615759455,2580.8013617176225,9979.589295512973,3152.0456787332046,10522.470592257834,15446.363355532987,10568.875239214178,13078.18903549498,27878.15878997294,11875.720384451064,8469.313732347735,6370.602886523829,13185.007986563463,10172.976605570067,13454.43861032241,2167.454365391589,11650.565761887803,4508.749121423253,3431.07546253949,24730.843641626885,5221.803479475313,12634.696071803917,13618.215863784504,12465.202301683834,7512.285877710081,19744.8763124269,6327.164159804621,8229.855234477878,12467.478894804332,13796.120370330882,19535.37925920294,13886.453681491523,12341.136136426347,13771.116856411383,2915.4560307546744,8001.988387454704,8154.861729424002,4831.049563411514,13574.847141323622,6050.789466535687,6816.301030038769,10135.220015572624],\"yaxis\":\"y2\",\"type\":\"scatter\"},{\"hovertemplate\":\"<b>LOWESS trendline</b><br><br>index=Northeast<br>actuals=%{x}<br>preds=%{y} <b>(trend)</b><extra></extra>\",\"legendgroup\":\"Northeast\",\"marker\":{\"color\":\"#6C839B\",\"symbol\":\"circle\"},\"mode\":\"lines\",\"name\":\"Northeast\",\"showlegend\":false,\"x\":[1712.227,2196.4732,2203.73595,2205.9808,2211.13075,2217.46915,2217.6012,2396.0959,2727.3951,3044.2133,3385.39915,3393.35635,3481.868,3558.62025,3857.75925,4846.92015,5428.7277,5594.8455,6067.12675,6113.23105,6640.54485,7050.0213,7133.9025,7639.41745,7729.64575,7935.29115,7985.815,8334.45755,8606.2174,8627.5411,9282.4806,9722.7695,9866.30485,10072.05505,11394.06555,11512.405,11658.37915,11879.10405,11938.25595,12029.2867,12323.936,12730.9996,13019.16105,13129.60345,13143.86485,13224.05705,13228.84695,13430.265,13616.3586,13725.47184,14449.8544,14451.83515,14590.63205,16115.3045,17128.42608,19594.80965,20709.02034,22395.74424,23241.47453,24106.91255,25517.11363,33475.81715,41034.2214,42303.69215,58571.07448],\"xaxis\":\"x2\",\"y\":[3814.8599055306504,4323.057552828878,4330.666570127646,4333.018371330544,4338.413542635073,4345.053489825431,4345.191818954108,4532.043332110692,4877.960055151154,5207.352510463958,5560.258720660314,5568.465310007736,5659.6750602650545,5738.652018776327,6045.425671597418,7049.020863015224,7633.998621627552,7800.874647537146,8276.434372641768,8323.032325186516,8861.264724902569,9293.846462202468,9385.30805163635,9929.363150515594,10008.74984269543,10171.864865629888,10214.991266572091,10500.337292849403,10728.693180440707,10746.417826038629,11213.883330053597,11491.459508743174,11579.965810397774,11706.499580708896,12498.43576429797,12562.927349127873,12644.077115814198,12760.399083145105,12791.359593940215,12838.949808911095,13001.075000777179,13203.067849623783,13330.002855171648,13375.0320999318,13382.239817958482,13422.341633820955,13424.71280297098,13521.579192536603,13605.070659876032,13640.010550392597,13831.048516246852,13831.313416282228,13847.727796052415,13983.915528496449,14240.670727122882,14882.697318883997,15369.161774211192,17188.754993503437,18034.456113278153,18746.02903617763,20115.582444260253,27807.5156249232,32237.714728113355,32950.8385987416,42753.650054798185],\"yaxis\":\"y2\",\"type\":\"scatter\"}],                        {\"template\":{\"data\":{\"barpolar\":[{\"marker\":{\"line\":{\"color\":\"white\",\"width\":0.5},\"pattern\":{\"fillmode\":\"overlay\",\"size\":10,\"solidity\":0.2}},\"type\":\"barpolar\"}],\"bar\":[{\"error_x\":{\"color\":\"#2a3f5f\"},\"error_y\":{\"color\":\"#2a3f5f\"},\"marker\":{\"line\":{\"color\":\"white\",\"width\":0.5},\"pattern\":{\"fillmode\":\"overlay\",\"size\":10,\"solidity\":0.2}},\"type\":\"bar\"}],\"carpet\":[{\"aaxis\":{\"endlinecolor\":\"#2a3f5f\",\"gridcolor\":\"#C8D4E3\",\"linecolor\":\"#C8D4E3\",\"minorgridcolor\":\"#C8D4E3\",\"startlinecolor\":\"#2a3f5f\"},\"baxis\":{\"endlinecolor\":\"#2a3f5f\",\"gridcolor\":\"#C8D4E3\",\"linecolor\":\"#C8D4E3\",\"minorgridcolor\":\"#C8D4E3\",\"startlinecolor\":\"#2a3f5f\"},\"type\":\"carpet\"}],\"choropleth\":[{\"colorbar\":{\"outlinewidth\":0,\"ticks\":\"\"},\"type\":\"choropleth\"}],\"contourcarpet\":[{\"colorbar\":{\"outlinewidth\":0,\"ticks\":\"\"},\"type\":\"contourcarpet\"}],\"contour\":[{\"colorbar\":{\"outlinewidth\":0,\"ticks\":\"\"},\"colorscale\":[[0.0,\"#0d0887\"],[0.1111111111111111,\"#46039f\"],[0.2222222222222222,\"#7201a8\"],[0.3333333333333333,\"#9c179e\"],[0.4444444444444444,\"#bd3786\"],[0.5555555555555556,\"#d8576b\"],[0.6666666666666666,\"#ed7953\"],[0.7777777777777778,\"#fb9f3a\"],[0.8888888888888888,\"#fdca26\"],[1.0,\"#f0f921\"]],\"type\":\"contour\"}],\"heatmapgl\":[{\"colorbar\":{\"outlinewidth\":0,\"ticks\":\"\"},\"colorscale\":[[0.0,\"#0d0887\"],[0.1111111111111111,\"#46039f\"],[0.2222222222222222,\"#7201a8\"],[0.3333333333333333,\"#9c179e\"],[0.4444444444444444,\"#bd3786\"],[0.5555555555555556,\"#d8576b\"],[0.6666666666666666,\"#ed7953\"],[0.7777777777777778,\"#fb9f3a\"],[0.8888888888888888,\"#fdca26\"],[1.0,\"#f0f921\"]],\"type\":\"heatmapgl\"}],\"heatmap\":[{\"colorbar\":{\"outlinewidth\":0,\"ticks\":\"\"},\"colorscale\":[[0.0,\"#0d0887\"],[0.1111111111111111,\"#46039f\"],[0.2222222222222222,\"#7201a8\"],[0.3333333333333333,\"#9c179e\"],[0.4444444444444444,\"#bd3786\"],[0.5555555555555556,\"#d8576b\"],[0.6666666666666666,\"#ed7953\"],[0.7777777777777778,\"#fb9f3a\"],[0.8888888888888888,\"#fdca26\"],[1.0,\"#f0f921\"]],\"type\":\"heatmap\"}],\"histogram2dcontour\":[{\"colorbar\":{\"outlinewidth\":0,\"ticks\":\"\"},\"colorscale\":[[0.0,\"#0d0887\"],[0.1111111111111111,\"#46039f\"],[0.2222222222222222,\"#7201a8\"],[0.3333333333333333,\"#9c179e\"],[0.4444444444444444,\"#bd3786\"],[0.5555555555555556,\"#d8576b\"],[0.6666666666666666,\"#ed7953\"],[0.7777777777777778,\"#fb9f3a\"],[0.8888888888888888,\"#fdca26\"],[1.0,\"#f0f921\"]],\"type\":\"histogram2dcontour\"}],\"histogram2d\":[{\"colorbar\":{\"outlinewidth\":0,\"ticks\":\"\"},\"colorscale\":[[0.0,\"#0d0887\"],[0.1111111111111111,\"#46039f\"],[0.2222222222222222,\"#7201a8\"],[0.3333333333333333,\"#9c179e\"],[0.4444444444444444,\"#bd3786\"],[0.5555555555555556,\"#d8576b\"],[0.6666666666666666,\"#ed7953\"],[0.7777777777777778,\"#fb9f3a\"],[0.8888888888888888,\"#fdca26\"],[1.0,\"#f0f921\"]],\"type\":\"histogram2d\"}],\"histogram\":[{\"marker\":{\"pattern\":{\"fillmode\":\"overlay\",\"size\":10,\"solidity\":0.2}},\"type\":\"histogram\"}],\"mesh3d\":[{\"colorbar\":{\"outlinewidth\":0,\"ticks\":\"\"},\"type\":\"mesh3d\"}],\"parcoords\":[{\"line\":{\"colorbar\":{\"outlinewidth\":0,\"ticks\":\"\"}},\"type\":\"parcoords\"}],\"pie\":[{\"automargin\":true,\"type\":\"pie\"}],\"scatter3d\":[{\"line\":{\"colorbar\":{\"outlinewidth\":0,\"ticks\":\"\"}},\"marker\":{\"colorbar\":{\"outlinewidth\":0,\"ticks\":\"\"}},\"type\":\"scatter3d\"}],\"scattercarpet\":[{\"marker\":{\"colorbar\":{\"outlinewidth\":0,\"ticks\":\"\"}},\"type\":\"scattercarpet\"}],\"scattergeo\":[{\"marker\":{\"colorbar\":{\"outlinewidth\":0,\"ticks\":\"\"}},\"type\":\"scattergeo\"}],\"scattergl\":[{\"marker\":{\"colorbar\":{\"outlinewidth\":0,\"ticks\":\"\"}},\"type\":\"scattergl\"}],\"scattermapbox\":[{\"marker\":{\"colorbar\":{\"outlinewidth\":0,\"ticks\":\"\"}},\"type\":\"scattermapbox\"}],\"scatterpolargl\":[{\"marker\":{\"colorbar\":{\"outlinewidth\":0,\"ticks\":\"\"}},\"type\":\"scatterpolargl\"}],\"scatterpolar\":[{\"marker\":{\"colorbar\":{\"outlinewidth\":0,\"ticks\":\"\"}},\"type\":\"scatterpolar\"}],\"scatter\":[{\"fillpattern\":{\"fillmode\":\"overlay\",\"size\":10,\"solidity\":0.2},\"type\":\"scatter\"}],\"scatterternary\":[{\"marker\":{\"colorbar\":{\"outlinewidth\":0,\"ticks\":\"\"}},\"type\":\"scatterternary\"}],\"surface\":[{\"colorbar\":{\"outlinewidth\":0,\"ticks\":\"\"},\"colorscale\":[[0.0,\"#0d0887\"],[0.1111111111111111,\"#46039f\"],[0.2222222222222222,\"#7201a8\"],[0.3333333333333333,\"#9c179e\"],[0.4444444444444444,\"#bd3786\"],[0.5555555555555556,\"#d8576b\"],[0.6666666666666666,\"#ed7953\"],[0.7777777777777778,\"#fb9f3a\"],[0.8888888888888888,\"#fdca26\"],[1.0,\"#f0f921\"]],\"type\":\"surface\"}],\"table\":[{\"cells\":{\"fill\":{\"color\":\"#EBF0F8\"},\"line\":{\"color\":\"white\"}},\"header\":{\"fill\":{\"color\":\"#C8D4E3\"},\"line\":{\"color\":\"white\"}},\"type\":\"table\"}]},\"layout\":{\"annotationdefaults\":{\"arrowcolor\":\"#2a3f5f\",\"arrowhead\":0,\"arrowwidth\":1},\"autotypenumbers\":\"strict\",\"coloraxis\":{\"colorbar\":{\"outlinewidth\":0,\"ticks\":\"\"}},\"colorscale\":{\"diverging\":[[0,\"#8e0152\"],[0.1,\"#c51b7d\"],[0.2,\"#de77ae\"],[0.3,\"#f1b6da\"],[0.4,\"#fde0ef\"],[0.5,\"#f7f7f7\"],[0.6,\"#e6f5d0\"],[0.7,\"#b8e186\"],[0.8,\"#7fbc41\"],[0.9,\"#4d9221\"],[1,\"#276419\"]],\"sequential\":[[0.0,\"#0d0887\"],[0.1111111111111111,\"#46039f\"],[0.2222222222222222,\"#7201a8\"],[0.3333333333333333,\"#9c179e\"],[0.4444444444444444,\"#bd3786\"],[0.5555555555555556,\"#d8576b\"],[0.6666666666666666,\"#ed7953\"],[0.7777777777777778,\"#fb9f3a\"],[0.8888888888888888,\"#fdca26\"],[1.0,\"#f0f921\"]],\"sequentialminus\":[[0.0,\"#0d0887\"],[0.1111111111111111,\"#46039f\"],[0.2222222222222222,\"#7201a8\"],[0.3333333333333333,\"#9c179e\"],[0.4444444444444444,\"#bd3786\"],[0.5555555555555556,\"#d8576b\"],[0.6666666666666666,\"#ed7953\"],[0.7777777777777778,\"#fb9f3a\"],[0.8888888888888888,\"#fdca26\"],[1.0,\"#f0f921\"]]},\"colorway\":[\"#636efa\",\"#EF553B\",\"#00cc96\",\"#ab63fa\",\"#FFA15A\",\"#19d3f3\",\"#FF6692\",\"#B6E880\",\"#FF97FF\",\"#FECB52\"],\"font\":{\"color\":\"#2a3f5f\"},\"geo\":{\"bgcolor\":\"white\",\"lakecolor\":\"white\",\"landcolor\":\"white\",\"showlakes\":true,\"showland\":true,\"subunitcolor\":\"#C8D4E3\"},\"hoverlabel\":{\"align\":\"left\"},\"hovermode\":\"closest\",\"mapbox\":{\"style\":\"light\"},\"paper_bgcolor\":\"white\",\"plot_bgcolor\":\"white\",\"polar\":{\"angularaxis\":{\"gridcolor\":\"#EBF0F8\",\"linecolor\":\"#EBF0F8\",\"ticks\":\"\"},\"bgcolor\":\"white\",\"radialaxis\":{\"gridcolor\":\"#EBF0F8\",\"linecolor\":\"#EBF0F8\",\"ticks\":\"\"}},\"scene\":{\"xaxis\":{\"backgroundcolor\":\"white\",\"gridcolor\":\"#DFE8F3\",\"gridwidth\":2,\"linecolor\":\"#EBF0F8\",\"showbackground\":true,\"ticks\":\"\",\"zerolinecolor\":\"#EBF0F8\"},\"yaxis\":{\"backgroundcolor\":\"white\",\"gridcolor\":\"#DFE8F3\",\"gridwidth\":2,\"linecolor\":\"#EBF0F8\",\"showbackground\":true,\"ticks\":\"\",\"zerolinecolor\":\"#EBF0F8\"},\"zaxis\":{\"backgroundcolor\":\"white\",\"gridcolor\":\"#DFE8F3\",\"gridwidth\":2,\"linecolor\":\"#EBF0F8\",\"showbackground\":true,\"ticks\":\"\",\"zerolinecolor\":\"#EBF0F8\"}},\"shapedefaults\":{\"line\":{\"color\":\"#2a3f5f\"}},\"ternary\":{\"aaxis\":{\"gridcolor\":\"#DFE8F3\",\"linecolor\":\"#A2B1C6\",\"ticks\":\"\"},\"baxis\":{\"gridcolor\":\"#DFE8F3\",\"linecolor\":\"#A2B1C6\",\"ticks\":\"\"},\"bgcolor\":\"white\",\"caxis\":{\"gridcolor\":\"#DFE8F3\",\"linecolor\":\"#A2B1C6\",\"ticks\":\"\"}},\"title\":{\"x\":0.05},\"xaxis\":{\"automargin\":true,\"gridcolor\":\"#EBF0F8\",\"linecolor\":\"#EBF0F8\",\"ticks\":\"\",\"title\":{\"standoff\":15},\"zerolinecolor\":\"#EBF0F8\",\"zerolinewidth\":2},\"yaxis\":{\"automargin\":true,\"gridcolor\":\"#EBF0F8\",\"linecolor\":\"#EBF0F8\",\"ticks\":\"\",\"title\":{\"standoff\":15},\"zerolinecolor\":\"#EBF0F8\",\"zerolinewidth\":2}}},\"xaxis\":{\"anchor\":\"y\",\"domain\":[0.0,0.49],\"title\":{\"text\":\"Actual Cost, $\"},\"showgrid\":true,\"gridwidth\":1,\"gridcolor\":\"#EAEAEA\",\"zeroline\":true,\"zerolinewidth\":2,\"zerolinecolor\":\"#5E5E5E\"},\"yaxis\":{\"anchor\":\"x\",\"domain\":[0.0,0.46499999999999997],\"title\":{\"text\":\"Predicted Cost, $\"},\"showgrid\":true,\"gridwidth\":1,\"gridcolor\":\"#E3E3E3\",\"zeroline\":true,\"zerolinewidth\":2,\"zerolinecolor\":\"#5E5E5E\"},\"xaxis2\":{\"anchor\":\"y2\",\"domain\":[0.51,1.0],\"matches\":\"x\",\"title\":{\"text\":\"Actual Cost, $\"},\"showgrid\":true,\"gridwidth\":1,\"gridcolor\":\"#EAEAEA\",\"zeroline\":true,\"zerolinewidth\":2,\"zerolinecolor\":\"#5E5E5E\"},\"yaxis2\":{\"anchor\":\"x2\",\"domain\":[0.0,0.46499999999999997],\"matches\":\"y\",\"showticklabels\":false,\"showgrid\":true,\"gridwidth\":1,\"gridcolor\":\"#E3E3E3\",\"zeroline\":true,\"zerolinewidth\":2,\"zerolinecolor\":\"#5E5E5E\"},\"xaxis3\":{\"anchor\":\"y3\",\"domain\":[0.0,0.49],\"matches\":\"x\",\"showticklabels\":false,\"showgrid\":true,\"gridwidth\":1,\"gridcolor\":\"#EAEAEA\",\"zeroline\":true,\"zerolinewidth\":2,\"zerolinecolor\":\"#5E5E5E\"},\"yaxis3\":{\"anchor\":\"x3\",\"domain\":[0.5349999999999999,0.9999999999999999],\"matches\":\"y\",\"title\":{\"text\":\"Predicted Cost, $\"},\"showgrid\":true,\"gridwidth\":1,\"gridcolor\":\"#E3E3E3\",\"zeroline\":true,\"zerolinewidth\":2,\"zerolinecolor\":\"#5E5E5E\"},\"xaxis4\":{\"anchor\":\"y4\",\"domain\":[0.51,1.0],\"matches\":\"x\",\"showticklabels\":false,\"showgrid\":true,\"gridwidth\":1,\"gridcolor\":\"#EAEAEA\",\"zeroline\":true,\"zerolinewidth\":2,\"zerolinecolor\":\"#5E5E5E\"},\"yaxis4\":{\"anchor\":\"x4\",\"domain\":[0.5349999999999999,0.9999999999999999],\"matches\":\"y\",\"showticklabels\":false,\"showgrid\":true,\"gridwidth\":1,\"gridcolor\":\"#E3E3E3\",\"zeroline\":true,\"zerolinewidth\":2,\"zerolinecolor\":\"#5E5E5E\"},\"annotations\":[{\"showarrow\":false,\"text\":\"Northwest\",\"x\":0.245,\"xanchor\":\"center\",\"xref\":\"paper\",\"y\":0.46499999999999997,\"yanchor\":\"bottom\",\"yref\":\"paper\"},{\"showarrow\":false,\"text\":\"Northeast\",\"x\":0.755,\"xanchor\":\"center\",\"xref\":\"paper\",\"y\":0.46499999999999997,\"yanchor\":\"bottom\",\"yref\":\"paper\"},{\"showarrow\":false,\"text\":\"Southwest\",\"x\":0.245,\"xanchor\":\"center\",\"xref\":\"paper\",\"y\":0.9999999999999999,\"yanchor\":\"bottom\",\"yref\":\"paper\"},{\"showarrow\":false,\"text\":\"Southeast\",\"x\":0.755,\"xanchor\":\"center\",\"xref\":\"paper\",\"y\":0.9999999999999999,\"yanchor\":\"bottom\",\"yref\":\"paper\"},{\"showarrow\":false,\"text\":\"Adj. R-Squared = 71.0%<br>RMSE = 5,227\",\"x\":51000.0,\"xref\":\"x3\",\"y\":15000.0,\"yref\":\"y3\"},{\"showarrow\":false,\"text\":\"Adj. R-Squared = 87.9%<br>RMSE = 4,456\",\"x\":51000.0,\"xref\":\"x4\",\"y\":15000.0,\"yref\":\"y4\"},{\"showarrow\":false,\"text\":\"Adj. R-Squared = 64.3%<br>RMSE = 6,179\",\"x\":51000.0,\"xref\":\"x\",\"y\":15000.0,\"yref\":\"y\"},{\"showarrow\":false,\"text\":\"Adj. R-Squared = 56.6%<br>RMSE = 5,618\",\"x\":51000.0,\"xref\":\"x2\",\"y\":15000.0,\"yref\":\"y2\"}],\"legend\":{\"title\":{\"text\":\"index\"},\"tracegroupgap\":0},\"title\":{\"text\":\"Actual vs Predicted Insurance Costs by Region,<br>K-Nearest Neighbors\"},\"height\":700,\"font\":{\"color\":\"#303030\"},\"paper_bgcolor\":\"white\",\"plot_bgcolor\":\"white\"},                        {\"responsive\": true}                    ).then(function(){\n",
       "                            \n",
       "var gd = document.getElementById('b80f2b83-b1bd-40b7-94fc-85d945b6b124');\n",
       "var x = new MutationObserver(function (mutations, observer) {{\n",
       "        var display = window.getComputedStyle(gd).display;\n",
       "        if (!display || display === 'none') {{\n",
       "            console.log([gd, 'removed!']);\n",
       "            Plotly.purge(gd);\n",
       "            observer.disconnect();\n",
       "        }}\n",
       "}});\n",
       "\n",
       "// Listen for the removal of the full notebook cells\n",
       "var notebookContainer = gd.closest('#notebook-container');\n",
       "if (notebookContainer) {{\n",
       "    x.observe(notebookContainer, {childList: true});\n",
       "}}\n",
       "\n",
       "// Listen for the clearing of the current output cell\n",
       "var outputEl = gd.closest('.output');\n",
       "if (outputEl) {{\n",
       "    x.observe(outputEl, {childList: true});\n",
       "}}\n",
       "\n",
       "                        })                };                });            </script>        </div>"
      ]
     },
     "metadata": {},
     "output_type": "display_data"
    }
   ],
   "source": [
    "actuals=[]\n",
    "preds=[]\n",
    "rmses=[]\n",
    "r2_scores=[]\n",
    "adj_r2_scores=[]\n",
    "\n",
    "for i in regions:\n",
    "    \n",
    "    # Filter data by region\n",
    "    ins_df = ins[ins.region==i]\n",
    "    X=ins_df.drop(['charges', 'region'], axis=1)\n",
    "    y=ins_df.charges\n",
    "    \n",
    "    # Add polynomial features\n",
    "    pf = PolynomialFeatures(degree=2, include_bias=False)\n",
    "    X_pf = pd.DataFrame(data=pf.fit_transform(X), columns=pf.get_feature_names(X.columns))\n",
    "    \n",
    "    # Create training and test sets\n",
    "    X_train, X_test, y_train, y_test = train_test_split(X_pf, y, test_size=0.2, random_state=1)\n",
    "    X_train = pd.DataFrame(X_train, columns = X_pf.columns)\n",
    "    X_test = pd.DataFrame(X_test, columns = X_pf.columns)\n",
    "    actuals.append(pd.Series(y_test, name='actuals').reset_index())\n",
    "    print(\"\\nRegion: {}\\n\".format(i))\n",
    "    print(\"Train Shape:{} {}  Test Shape:{} {}\".format(X_train.shape, y_train.shape, X_test.shape, y_test.shape))\n",
    "    \n",
    "    # Scale features\n",
    "    X_train = pd.DataFrame(data=s.fit_transform(X_train), columns=X_pf.columns)\n",
    "    X_test = pd.DataFrame(data=s.transform(X_test), columns=X_pf.columns)\n",
    "    \n",
    "    # KNN\n",
    "    grid = {'n_neighbors': range(2, 20),\n",
    "            'weights': ['uniform', 'distance'],\n",
    "            'algorithm': ['auto', 'ball_tree', 'kd_tree', 'brute'],\n",
    "            'leaf_size': [int(x) for x in np.linspace(10, 50, num = 5)],\n",
    "            'p': [1, 2]}\n",
    "    knn=KNeighborsRegressor()\n",
    "    knn_cv=RandomizedSearchCV(estimator=knn, param_distributions=grid, scoring='neg_mean_squared_error', \n",
    "                              n_iter=100, cv=3, random_state=21, n_jobs=-1)\n",
    "    knn_cv.fit(X_train, y_train)\n",
    "    y_pred=knn_cv.predict(X_test)\n",
    "    preds.append(pd.Series(y_pred, name='preds').reset_index(drop=True))\n",
    "    rmse=np.sqrt(mean_squared_error(y_test, y_pred)).round(2)\n",
    "    r2=r2_score(y_test, y_pred)\n",
    "    adj_r2 = 1 - (1-r2)*(len(y_test)-1)/(len(y_test)-X_test.shape[1]-1)\n",
    "    rmses.append(rmse)\n",
    "    r2_scores.append(r2)\n",
    "    adj_r2_scores.append(adj_r2)\n",
    "    \n",
    "    print(\"Test Error (RMSE) = {:,}\".format(rmse))\n",
    "    print(\"R-Squared = {:.2f}%, Adjusted R-Squared = {:.2f}%\".format(r2*100, adj_r2*100))\n",
    "    if i != 'Northeast':\n",
    "        print(\"__________________________\")\n",
    "\n",
    "    \n",
    "# Plot results\n",
    "for i in range(0,4):\n",
    "    actuals[i].loc[:,'index']=regions[i]\n",
    "actual = pd.concat([actuals[i] for i in range(4)], axis = 0)\n",
    "pred = pd.concat([preds[i] for i in range(4)], axis = 0)\n",
    "df = pd.concat([actual, pred], axis=1).reset_index(drop=True)\n",
    "\n",
    "fig = px.scatter(df, x=\"actuals\", y=\"preds\", color=\"index\", trendline=\"lowess\", height=700,\n",
    "                 title=\"Actual vs Predicted Insurance Costs by Region,<br>K-Nearest Neighbors\",\n",
    "                 color_discrete_sequence=col, opacity=0.7, facet_col='index', facet_col_wrap=2)\n",
    "\n",
    "fig.for_each_annotation(lambda a: a.update(text=a.text.split(\"=\")[-1]))\n",
    "fig.add_annotation(text=\"Adj. R-Squared = {:.1f}%<br>RMSE = {:,.0f}\".format(adj_r2_scores[0]*100,rmses[0]),\n",
    "                   x=51e3,y=15e3, row=2,col=1, showarrow=False)\n",
    "fig.add_annotation(text=\"Adj. R-Squared = {:.1f}%<br>RMSE = {:,.0f}\".format(adj_r2_scores[1]*100,rmses[1]),\n",
    "                   x=51e3,y=15e3, row=2,col=2, showarrow=False)\n",
    "fig.add_annotation(text=\"Adj. R-Squared = {:.1f}%<br>RMSE = {:,.0f}\".format(adj_r2_scores[2]*100,rmses[2]),\n",
    "                   x=51e3,y=15e3, row=1,col=1, showarrow=False)\n",
    "fig.add_annotation(text=\"Adj. R-Squared = {:.1f}%<br>RMSE = {:,.0f}\".format(adj_r2_scores[3]*100,rmses[3]),\n",
    "                   x=51e3,y=15e3, row=1,col=2, showarrow=False)\n",
    "\n",
    "fig.update_traces(hovertemplate=\"Actual Cost: %{x:$,.2f}<br>Predicted Cost: %{y:$,.2f}\",\n",
    "                  marker=dict(size=10,line=dict(width=1,color=\"#F7F7F7\")),\n",
    "                  selector=dict(mode=\"markers\"), showlegend=False)\n",
    "fig.update_xaxes(title=\"Actual Cost, $\", row=1)\n",
    "fig.update_xaxes(showgrid=True, gridwidth=1, gridcolor='#EAEAEA',\n",
    "                 zeroline=True, zerolinewidth=2, zerolinecolor='#5E5E5E')\n",
    "fig.update_yaxes(title=\"Predicted Cost, $\", col=1)\n",
    "fig.update_yaxes(showgrid=True, gridwidth=1, gridcolor='#E3E3E3',\n",
    "                 zeroline=True, zerolinewidth=2, zerolinecolor='#5E5E5E')\n",
    "fig.update_layout(font_color=\"#303030\", paper_bgcolor=\"white\", plot_bgcolor=\"white\")\n",
    "fig.show()"
   ]
  },
  {
   "cell_type": "markdown",
   "metadata": {},
   "source": [
    "## <b><span style='color:#5477A5'>6.1</span> | Model Summary</b>"
   ]
  },
  {
   "cell_type": "code",
   "execution_count": 14,
   "metadata": {
    "_kg_hide-input": true,
    "execution": {
     "iopub.execute_input": "2022-01-25T00:26:32.986244Z",
     "iopub.status.busy": "2022-01-25T00:26:32.98603Z",
     "iopub.status.idle": "2022-01-25T00:26:32.99897Z",
     "shell.execute_reply": "2022-01-25T00:26:32.998053Z",
     "shell.execute_reply.started": "2022-01-25T00:26:32.986218Z"
    }
   },
   "outputs": [
    {
     "data": {
      "text/html": [
       "<div>\n",
       "<style scoped>\n",
       "    .dataframe tbody tr th:only-of-type {\n",
       "        vertical-align: middle;\n",
       "    }\n",
       "\n",
       "    .dataframe tbody tr th {\n",
       "        vertical-align: top;\n",
       "    }\n",
       "\n",
       "    .dataframe thead th {\n",
       "        text-align: right;\n",
       "    }\n",
       "</style>\n",
       "<table border=\"1\" class=\"dataframe\">\n",
       "  <thead>\n",
       "    <tr style=\"text-align: right;\">\n",
       "      <th></th>\n",
       "      <th>Average RMSE</th>\n",
       "      <th>Avg. Adjusted R2</th>\n",
       "    </tr>\n",
       "  </thead>\n",
       "  <tbody>\n",
       "    <tr>\n",
       "      <th>KNN</th>\n",
       "      <td>5370.0125</td>\n",
       "      <td>0.699643</td>\n",
       "    </tr>\n",
       "    <tr>\n",
       "      <th>Linear Regression</th>\n",
       "      <td>5646.52</td>\n",
       "      <td>0.741028</td>\n",
       "    </tr>\n",
       "  </tbody>\n",
       "</table>\n",
       "</div>"
      ],
      "text/plain": [
       "                  Average RMSE Avg. Adjusted R2\n",
       "KNN                  5370.0125         0.699643\n",
       "Linear Regression      5646.52         0.741028"
      ]
     },
     "metadata": {},
     "output_type": "display_data"
    }
   ],
   "source": [
    "mod_res.iloc[1,0]=pd.Series(rmses).mean()\n",
    "mod_res.iloc[1,1]=pd.Series(adj_r2_scores).mean()\n",
    "display(mod_res.iloc[:2,].sort_values(\"Average RMSE\"))"
   ]
  },
  {
   "cell_type": "markdown",
   "metadata": {},
   "source": [
    "The KNN models produce a better test error overall than linear regression, but explains less of the observed variation in insurance costs across all four regions."
   ]
  },
  {
   "cell_type": "markdown",
   "metadata": {},
   "source": [
    "# <div style=\"color:white;display:fill;border-radius:5px;background-color:#84A3C3;overflow:hidden\"><p style=\"padding:20px;color:white;overflow:hidden;font-size:100%;margin:0\"><b>7 |</b> Support Vector Regression</p></div>"
   ]
  },
  {
   "cell_type": "code",
   "execution_count": 15,
   "metadata": {
    "_kg_hide-input": true,
    "execution": {
     "iopub.execute_input": "2022-01-25T00:26:33.002393Z",
     "iopub.status.busy": "2022-01-25T00:26:33.002128Z",
     "iopub.status.idle": "2022-01-25T00:33:41.137475Z",
     "shell.execute_reply": "2022-01-25T00:33:41.136885Z",
     "shell.execute_reply.started": "2022-01-25T00:26:33.002363Z"
    }
   },
   "outputs": [
    {
     "name": "stdout",
     "output_type": "stream",
     "text": [
      "\n",
      "Region: Southwest\n",
      "\n",
      "Best SVM Parameters:\n",
      " {'kernel': 'poly', 'gamma': 10.0, 'C': 0.021544346900318832}\n",
      "\n",
      "Test Error (RMSE) = 5,119.96\n",
      "R-Squared = 80.90%, Adjusted R-Squared = 72.21%\n",
      "__________________________\n",
      "\n",
      "Region: Southeast\n",
      "\n",
      "Best SVM Parameters:\n",
      " {'kernel': 'poly', 'gamma': 10.0, 'C': 0.021544346900318832}\n",
      "\n",
      "Test Error (RMSE) = 4,276.06\n",
      "R-Squared = 91.98%, Adjusted R-Squared = 88.90%\n",
      "__________________________\n",
      "\n",
      "Region: Northwest\n",
      "\n",
      "Best SVM Parameters:\n",
      " {'kernel': 'poly', 'gamma': 10.0, 'C': 0.021544346900318832}\n",
      "\n",
      "Test Error (RMSE) = 6,092.5\n",
      "R-Squared = 76.13%, Adjusted R-Squared = 65.28%\n",
      "__________________________\n",
      "\n",
      "Region: Northeast\n",
      "\n",
      "Best SVM Parameters:\n",
      " {'kernel': 'poly', 'gamma': 10.0, 'C': 0.021544346900318832}\n",
      "\n",
      "Test Error (RMSE) = 4,688.98\n",
      "R-Squared = 79.21%, Adjusted R-Squared = 69.75%\n"
     ]
    },
    {
     "data": {
      "application/vnd.plotly.v1+json": {
       "config": {
        "plotlyServerURL": "https://plot.ly"
       },
       "data": [
        {
         "hovertemplate": "Actual Cost: %{x:$,.2f}<br>Predicted Cost: %{y:$,.2f}",
         "legendgroup": "Southwest",
         "marker": {
          "color": "#B14B51",
          "line": {
           "color": "#F7F7F7",
           "width": 1
          },
          "opacity": 0.7,
          "size": 10,
          "symbol": "circle"
         },
         "mode": "markers",
         "name": "Southwest",
         "orientation": "v",
         "showlegend": false,
         "type": "scatter",
         "x": [
          3761.292,
          11674.13,
          6311.952,
          14319.031,
          11552.904,
          5080.096,
          8269.044,
          3693.428,
          36837.467,
          13224.693,
          23306.547,
          35160.13457,
          12347.172,
          10065.413,
          5488.262,
          38711,
          7196.867,
          6571.544,
          5979.731,
          34828.654,
          6600.361,
          39836.519,
          1256.299,
          1242.26,
          4762.329,
          9264.797,
          13470.86,
          1759.338,
          1241.565,
          48173.361,
          16232.847,
          25309.489,
          10791.96,
          4751.07,
          8556.907,
          42856.838,
          8277.523,
          11576.13,
          7623.518,
          12146.971,
          20630.28351,
          4646.759,
          26140.3603,
          2007.945,
          8444.474,
          17081.08,
          13822.803,
          8825.086,
          37079.372,
          10096.97,
          11411.685,
          14988.432,
          11362.755,
          6875.961,
          10795.93733,
          18259.216,
          1261.859,
          17942.106,
          11150.78,
          38415.474,
          8522.003,
          8703.456,
          3987.926,
          1964.78,
          1743.214
         ],
         "xaxis": "x3",
         "y": [
          3761.776658758847,
          11676.403683410434,
          6310.41973697066,
          14315.307811311402,
          11995.95555305033,
          5050.0477640793615,
          8269.337107424531,
          3675.8585473975627,
          38328.667167364576,
          13234.605159292194,
          14054.509039721619,
          11290.925047103923,
          12358.10056111834,
          10053.255568665794,
          5488.821612994084,
          39682.70202443967,
          7199.612777302541,
          6573.354274379628,
          5979.6048618622335,
          35051.54110729098,
          6601.230336469494,
          35055.096463131165,
          1256.2544098613398,
          1242.2696154900086,
          4763.189932845735,
          9266.55072421796,
          13468.834097577626,
          1755.6508469645023,
          1241.41558000011,
          49359.10780448218,
          16013.380378744732,
          40480.038773041975,
          10777.354674719327,
          4751.690259575591,
          8556.570116929568,
          40982.92586931737,
          8277.399336290298,
          11569.07874089675,
          7623.542399965267,
          12146.637852664491,
          10224.876196563775,
          4647.026029968908,
          9190.44235889031,
          2007.9642215293816,
          8445.239959146411,
          24199.216009322427,
          13823.34549786023,
          8822.942427015074,
          39876.01900079149,
          10143.202122794675,
          11233.61469736883,
          15007.11207895022,
          11362.778748785804,
          6876.160135630026,
          2315.058891104067,
          14623.042285533274,
          1261.9795251243395,
          2356.1154278348204,
          11150.33076423569,
          36175.63904233713,
          8513.94871855434,
          8701.701344513174,
          3991.4077656458944,
          1964.3755294882412,
          1743.0834607234683
         ],
         "yaxis": "y3"
        },
        {
         "hovertemplate": "<b>LOWESS trendline</b><br><br>index=Southwest<br>actuals=%{x}<br>preds=%{y} <b>(trend)</b><extra></extra>",
         "legendgroup": "Southwest",
         "marker": {
          "color": "#B14B51",
          "symbol": "circle"
         },
         "mode": "lines",
         "name": "Southwest",
         "showlegend": false,
         "type": "scatter",
         "x": [
          1241.565,
          1242.26,
          1256.299,
          1261.859,
          1743.214,
          1759.338,
          1964.78,
          2007.945,
          3693.428,
          3761.292,
          3987.926,
          4646.759,
          4751.07,
          4762.329,
          5080.096,
          5488.262,
          5979.731,
          6311.952,
          6571.544,
          6600.361,
          6875.961,
          7196.867,
          7623.518,
          8269.044,
          8277.523,
          8444.474,
          8522.003,
          8556.907,
          8703.456,
          8825.086,
          9264.797,
          10065.413,
          10096.97,
          10791.96,
          10795.93733,
          11150.78,
          11362.755,
          11411.685,
          11552.904,
          11576.13,
          11674.13,
          12146.971,
          12347.172,
          13224.693,
          13470.86,
          13822.803,
          14319.031,
          14988.432,
          16232.847,
          17081.08,
          17942.106,
          18259.216,
          20630.28351,
          23306.547,
          25309.489,
          26140.3603,
          34828.654,
          35160.13457,
          36837.467,
          37079.372,
          38415.474,
          38711,
          39836.519,
          42856.838,
          48173.361
         ],
         "xaxis": "x3",
         "y": [
          1241.4159489568272,
          1242.1109855840475,
          1256.1507231938015,
          1261.7110141225467,
          1743.0884322636643,
          1759.2130813178096,
          1964.6627298161204,
          2007.8291901056978,
          3693.3310336121585,
          3761.194393040405,
          3987.825681451359,
          4646.647618208945,
          4750.956743655602,
          4762.215544879439,
          5079.977559032412,
          5488.1412615500085,
          5979.623343115281,
          6311.868510172011,
          6571.47157547905,
          6600.287388355776,
          6875.813728333419,
          7196.573902697898,
          7623.102159798967,
          8268.526460051184,
          8277.00550093016,
          8443.956474102386,
          8521.486650657633,
          8556.39111190306,
          8702.941190682568,
          8824.570714326352,
          9264.256748374146,
          10064.81786172626,
          10096.370860628396,
          10791.290029916754,
          10795.267081195623,
          11150.096614666236,
          11362.065385447957,
          11410.994082174357,
          11552.209697793582,
          11575.435200704113,
          11673.433313196347,
          12146.271200996887,
          12346.485797282261,
          13224.055030069094,
          13470.242862943152,
          13822.272412804377,
          14318.626041373653,
          14988.137344826819,
          16232.775888146714,
          17081.137243463592,
          17942.28640415929,
          18259.439939685944,
          20631.11397596506,
          23307.242246692927,
          25309.087549470558,
          26139.77685296434,
          34822.80118464815,
          35154.13513934109,
          36830.72047664442,
          37072.5170706346,
          38408.01764500262,
          38703.41004536352,
          39828.418493565536,
          42847.35561529916,
          48161.41432170303
         ],
         "yaxis": "y3"
        },
        {
         "hovertemplate": "Actual Cost: %{x:$,.2f}<br>Predicted Cost: %{y:$,.2f}",
         "legendgroup": "Southeast",
         "marker": {
          "color": "#D0A99C",
          "line": {
           "color": "#F7F7F7",
           "width": 1
          },
          "opacity": 0.7,
          "size": 10,
          "symbol": "circle"
         },
         "mode": "markers",
         "name": "Southeast",
         "orientation": "v",
         "showlegend": false,
         "type": "scatter",
         "x": [
          44202.6536,
          6781.3542,
          5478.0368,
          32548.3405,
          1815.8759,
          11093.6229,
          11090.7178,
          13470.8044,
          47269.854,
          10107.2206,
          38282.7495,
          19350.3689,
          1615.7667,
          40974.1649,
          1824.2854,
          7243.8136,
          36950.2567,
          41999.52,
          6184.2994,
          20462.99766,
          7152.6714,
          2219.4451,
          8232.6388,
          4266.1658,
          19521.9682,
          27808.7251,
          16586.49771,
          5966.8874,
          4504.6624,
          3500.6123,
          4340.4409,
          5974.3847,
          3227.1211,
          11363.2832,
          12592.5345,
          6313.759,
          5920.1041,
          12142.5786,
          3561.8889,
          4673.3922,
          46599.1084,
          2566.4707,
          41676.0811,
          8978.1851,
          48970.2476,
          24667.419,
          8596.8278,
          38709.176,
          1136.3994,
          18806.14547,
          1981.5819,
          1131.5066,
          6500.2359,
          1146.7966,
          8547.6913,
          39611.7577,
          11881.9696,
          48675.5177,
          44400.4064,
          18223.4512,
          28287.89766,
          9855.1314,
          10702.6424,
          5245.2269,
          1664.9996,
          2464.6188,
          9377.9047,
          10226.2842,
          36124.5737,
          4779.6023,
          6338.0756,
          42112.2356,
          1633.9618
         ],
         "xaxis": "x4",
         "y": [
          45761.31817395494,
          6780.188998361617,
          5470.763415157617,
          23395.893768767637,
          1807.2564009209427,
          11233.407880561468,
          11177.506201809334,
          13534.013855786223,
          47883.35648979531,
          10157.545419091257,
          36942.92857750146,
          25709.695180558894,
          1591.75409278989,
          35380.26216732712,
          1822.3776725868265,
          3412.3555047149757,
          34586.385397411745,
          37883.99462087235,
          4946.145742281345,
          12932.692499925648,
          7159.393495798333,
          2228.336626559504,
          8281.99020657922,
          4291.04916868281,
          19840.810025236522,
          31559.64657311862,
          1521.4849569295266,
          5969.942824135681,
          4896.955533455975,
          3689.9444016640527,
          4279.257474204108,
          5976.8783087357315,
          3212.4463729880345,
          11368.58725913805,
          2477.4727554747124,
          6335.726201015304,
          5939.26112028882,
          12142.687420099526,
          3740.256030219025,
          4660.268111178239,
          46935.70123402913,
          2539.014906379547,
          41444.839832294594,
          8980.475113251026,
          48860.03186862619,
          28300.216484601537,
          -1808.5116346343666,
          37121.485194881025,
          1135.710938583059,
          7444.391698857202,
          1979.26012992909,
          1125.7498042290035,
          6497.9596005659505,
          1148.6498477426112,
          8574.977322345567,
          40111.24503068712,
          11730.180582825418,
          48263.45679688188,
          48437.08663165595,
          32063.55116357886,
          12802.48459307279,
          10277.454133114072,
          13686.1191088761,
          5232.3509327501515,
          1656.177895073878,
          2466.6487976926464,
          9366.1333061667,
          10228.304255315416,
          32626.579621491182,
          4789.583238760141,
          6320.518880536746,
          45699.914589321445,
          1632.9294320799563
         ],
         "yaxis": "y4"
        },
        {
         "hovertemplate": "<b>LOWESS trendline</b><br><br>index=Southeast<br>actuals=%{x}<br>preds=%{y} <b>(trend)</b><extra></extra>",
         "legendgroup": "Southeast",
         "marker": {
          "color": "#D0A99C",
          "symbol": "circle"
         },
         "mode": "lines",
         "name": "Southeast",
         "showlegend": false,
         "type": "scatter",
         "x": [
          1131.5066,
          1136.3994,
          1146.7966,
          1615.7667,
          1633.9618,
          1664.9996,
          1815.8759,
          1824.2854,
          1981.5819,
          2219.4451,
          2464.6188,
          2566.4707,
          3227.1211,
          3500.6123,
          3561.8889,
          4266.1658,
          4340.4409,
          4504.6624,
          4673.3922,
          4779.6023,
          5245.2269,
          5478.0368,
          5920.1041,
          5966.8874,
          5974.3847,
          6184.2994,
          6313.759,
          6338.0756,
          6500.2359,
          6781.3542,
          7152.6714,
          7243.8136,
          8232.6388,
          8547.6913,
          8596.8278,
          8978.1851,
          9377.9047,
          9855.1314,
          10107.2206,
          10226.2842,
          10702.6424,
          11090.7178,
          11093.6229,
          11363.2832,
          11881.9696,
          12142.5786,
          12592.5345,
          13470.8044,
          16586.49771,
          18223.4512,
          18806.14547,
          19350.3689,
          19521.9682,
          20462.99766,
          24667.419,
          27808.7251,
          28287.89766,
          32548.3405,
          36124.5737,
          36950.2567,
          38282.7495,
          38709.176,
          39611.7577,
          40974.1649,
          41676.0811,
          41999.52,
          42112.2356,
          44202.6536,
          44400.4064,
          46599.1084,
          47269.854,
          48675.5177,
          48970.2476
         ],
         "xaxis": "x4",
         "y": [
          1131.5161564987102,
          1136.419529082603,
          1146.8391907917612,
          1616.8159454870051,
          1635.0498734107114,
          1666.1538741080744,
          1817.3514708448204,
          1825.7788588374654,
          1983.4097146437591,
          2221.778550240781,
          2467.4752826085955,
          2569.545525308576,
          3231.6427599146823,
          3505.758094641073,
          3567.1773975248816,
          4273.174381107778,
          4347.6387890835385,
          4512.283352402289,
          4681.4537283556665,
          4787.943847645345,
          5254.813384337044,
          5488.249774248775,
          5931.490978186833,
          5978.395824710437,
          5985.912532641343,
          6196.361028489016,
          6326.138149610215,
          6350.513143284584,
          6513.050617481959,
          6794.756372060501,
          7166.658839575729,
          7257.9076839037925,
          8248.843151096089,
          8564.713974242197,
          8613.985144663602,
          8996.440566892623,
          9397.3966332764,
          9876.187253072934,
          10129.223504224306,
          10248.805064712362,
          10727.030004182812,
          11117.922029501406,
          11120.846319796558,
          11393.949762864591,
          11923.589247743661,
          12190.81925162263,
          12652.687823393035,
          13553.541915068408,
          16743.243759372122,
          18421.65651471197,
          19018.878453165606,
          19578.56131083637,
          19754.64776227603,
          20733.272231180912,
          24943.04710575079,
          27820.32692420627,
          28283.860945735316,
          32478.229894449803,
          36018.656858783106,
          36835.8617559857,
          38154.42304138663,
          38576.326418004726,
          39469.23436325196,
          40816.79616303978,
          41510.95825970716,
          41830.801732182226,
          41942.261250317126,
          44009.14528548818,
          44204.652839161776,
          46378.25705233161,
          47041.31590229844,
          48430.85968827382,
          48722.21080787391
         ],
         "yaxis": "y4"
        },
        {
         "hovertemplate": "Actual Cost: %{x:$,.2f}<br>Predicted Cost: %{y:$,.2f}",
         "legendgroup": "Northwest",
         "marker": {
          "color": "#5D8370",
          "line": {
           "color": "#F7F7F7",
           "width": 1
          },
          "opacity": 0.7,
          "size": 10,
          "symbol": "circle"
         },
         "mode": "markers",
         "name": "Northwest",
         "orientation": "v",
         "showlegend": false,
         "type": "scatter",
         "x": [
          9174.13565,
          4433.3877,
          21774.32215,
          7731.85785,
          33471.97189,
          4618.0799,
          3594.17085,
          12235.8392,
          6203.90175,
          11840.77505,
          4466.6214,
          8162.71625,
          6393.60345,
          1906.35825,
          23967.38305,
          2775.19215,
          3537.703,
          32787.45859,
          6112.35295,
          9301.89355,
          11945.1327,
          6389.37785,
          23807.2406,
          10264.4421,
          4243.59005,
          16455.70785,
          8413.46305,
          26018.95052,
          60021.39897,
          3579.8287,
          12479.70895,
          5855.9025,
          7153.5539,
          1635.73365,
          6986.697,
          43921.1837,
          15019.76005,
          29330.98315,
          5630.45785,
          8827.2099,
          8059.6791,
          5729.0053,
          14382.70905,
          29141.3603,
          38746.3551,
          3877.30425,
          42760.5022,
          6373.55735,
          28950.4692,
          16420.49455,
          10600.5483,
          18033.9679,
          39983.42595,
          6940.90985,
          4239.89265,
          6360.9936,
          8116.26885,
          6796.86325,
          2136.88225,
          33307.5508,
          13415.0381,
          10976.24575,
          3353.4703,
          5261.46945,
          5989.52365
         ],
         "xaxis": "x",
         "y": [
          9173.727833119778,
          4438.011599701369,
          22235.975476404856,
          7731.869712493416,
          11207.359080658338,
          6405.957828524527,
          3554.236230847977,
          12235.44374090556,
          6202.432095283284,
          11840.835532935742,
          7011.341465402738,
          7883.049528511671,
          6394.694085019359,
          1905.3409551386358,
          21554.79503702885,
          2721.4389324931763,
          3617.368178669116,
          25018.495064202274,
          6095.827710588251,
          9333.947495858707,
          11948.280808961325,
          6389.147861480079,
          22299.162875107373,
          10248.303086467797,
          4243.533972463411,
          16187.650137744757,
          8442.868697858104,
          4489.861472427756,
          61037.4535205493,
          4510.805496724604,
          12473.063175482985,
          5860.827371338313,
          7177.661876219941,
          1633.981672793183,
          6996.212843627368,
          21502.81685420788,
          14775.284316158555,
          44686.61733060081,
          5594.478757257519,
          8828.752461975651,
          7992.585254218444,
          5681.583613374723,
          14269.51137875831,
          45284.35871698623,
          41706.93705577977,
          3922.6447424213356,
          37711.90335706044,
          6328.853407777284,
          42915.06909015881,
          22963.19744063271,
          10591.354542471758,
          25115.562939865988,
          33729.909367243104,
          6940.404201453587,
          4238.176400541108,
          6444.616639646847,
          8149.790297190037,
          6763.845494953604,
          2136.4800011089,
          29745.57885556175,
          13415.538354746954,
          10976.350992469952,
          3353.6115706190694,
          5259.387825680271,
          5917.612397515877
         ],
         "yaxis": "y"
        },
        {
         "hovertemplate": "<b>LOWESS trendline</b><br><br>index=Northwest<br>actuals=%{x}<br>preds=%{y} <b>(trend)</b><extra></extra>",
         "legendgroup": "Northwest",
         "marker": {
          "color": "#5D8370",
          "symbol": "circle"
         },
         "mode": "lines",
         "name": "Northwest",
         "showlegend": false,
         "type": "scatter",
         "x": [
          1635.73365,
          1906.35825,
          2136.88225,
          2775.19215,
          3353.4703,
          3537.703,
          3579.8287,
          3594.17085,
          3877.30425,
          4239.89265,
          4243.59005,
          4433.3877,
          4466.6214,
          4618.0799,
          5261.46945,
          5630.45785,
          5729.0053,
          5855.9025,
          5989.52365,
          6112.35295,
          6203.90175,
          6360.9936,
          6373.55735,
          6389.37785,
          6393.60345,
          6796.86325,
          6940.90985,
          6986.697,
          7153.5539,
          7731.85785,
          8059.6791,
          8116.26885,
          8162.71625,
          8413.46305,
          8827.2099,
          9174.13565,
          9301.89355,
          10264.4421,
          10600.5483,
          10976.24575,
          11840.77505,
          11945.1327,
          12235.8392,
          12479.70895,
          13415.0381,
          14382.70905,
          15019.76005,
          16420.49455,
          16455.70785,
          18033.9679,
          21774.32215,
          23807.2406,
          23967.38305,
          26018.95052,
          28950.4692,
          29141.3603,
          29330.98315,
          32787.45859,
          33307.5508,
          33471.97189,
          38746.3551,
          39983.42595,
          42760.5022,
          43921.1837,
          60021.39897
         ],
         "xaxis": "x",
         "y": [
          1631.9577300287217,
          1902.489318531704,
          2132.940446521113,
          2771.0834974690893,
          3349.267451270652,
          3533.487914554277,
          3575.6123422532523,
          3589.9541939627884,
          3873.0962725903523,
          4235.738494778889,
          4239.436689866225,
          4429.281604970671,
          4462.524854313201,
          4614.031440907147,
          5257.693739111526,
          5626.865479563769,
          5725.4611799056465,
          5852.418428051752,
          5986.099336020139,
          6108.979601809917,
          6200.563743279271,
          6357.711321286059,
          6370.279294358692,
          6386.105069752181,
          6390.332071039307,
          6793.721783977768,
          6937.827302401617,
          6983.654555424793,
          7150.6237094987755,
          7729.310634151445,
          8057.304766013693,
          8113.921563922166,
          8160.391719552209,
          8411.351062763311,
          8825.377949887492,
          9172.695909786427,
          9300.294078085066,
          10257.607049574557,
          10589.093519398668,
          10957.99723741466,
          11804.707237842322,
          11906.92683009922,
          12191.759946602373,
          12430.797315665432,
          13347.335214040422,
          14290.87598137722,
          14888.306309033049,
          16136.799821717626,
          16167.86121003235,
          17536.66329494765,
          20628.223035935473,
          22206.665467414372,
          22335.146037277857,
          23952.58584419826,
          26292.64407488274,
          26449.229553953704,
          26604.998414262693,
          29462.989052491983,
          29894.28463324488,
          30030.635637588086,
          34404.79672084283,
          35430.27054565115,
          37731.52520920485,
          38693.04249394054,
          52023.23060391014
         ],
         "yaxis": "y"
        },
        {
         "hovertemplate": "Actual Cost: %{x:$,.2f}<br>Predicted Cost: %{y:$,.2f}",
         "legendgroup": "Northeast",
         "marker": {
          "color": "#6C839B",
          "line": {
           "color": "#F7F7F7",
           "width": 1
          },
          "opacity": 0.7,
          "size": 10,
          "symbol": "circle"
         },
         "mode": "markers",
         "name": "Northeast",
         "orientation": "v",
         "showlegend": false,
         "type": "scatter",
         "x": [
          58571.07448,
          41034.2214,
          13129.60345,
          17128.42608,
          13224.05705,
          42303.69215,
          8627.5411,
          11512.405,
          13228.84695,
          12730.9996,
          3558.62025,
          14590.63205,
          13019.16105,
          6113.23105,
          4846.92015,
          14451.83515,
          9282.4806,
          5594.8455,
          2203.73595,
          6640.54485,
          12323.936,
          7935.29115,
          3857.75925,
          1712.227,
          2727.3951,
          7639.41745,
          3044.2133,
          25517.11363,
          11938.25595,
          3393.35635,
          14449.8544,
          33475.81715,
          20709.02034,
          8334.45755,
          2217.6012,
          11879.10405,
          11394.06555,
          10072.05505,
          2396.0959,
          7729.64575,
          2211.13075,
          3385.39915,
          24106.91255,
          2205.9808,
          9722.7695,
          13616.3586,
          11658.37915,
          6067.12675,
          19594.80965,
          2217.46915,
          22395.74424,
          12029.2867,
          9866.30485,
          16115.3045,
          7050.0213,
          5428.7277,
          13430.265,
          2196.4732,
          7985.815,
          13725.47184,
          3481.868,
          13143.86485,
          23241.47453,
          7133.9025,
          8606.2174
         ],
         "xaxis": "x2",
         "y": [
          44922.778537414015,
          44739.959134817465,
          13129.965096402422,
          9871.793601127749,
          13231.0212353932,
          34126.59721741886,
          8536.605182526517,
          11620.608140617058,
          13228.832358489966,
          12730.878571859688,
          3558.7736495407744,
          12727.224509767504,
          13237.952826207715,
          5841.9313373928935,
          6567.199551084807,
          14450.22644729526,
          9252.216739299669,
          5759.32518910676,
          2203.870122812551,
          6926.372545513027,
          12324.145560138075,
          7937.673583170087,
          3858.3320690358705,
          1713.4948820902318,
          2727.341540365642,
          7672.591396235674,
          3044.3323811679847,
          10999.071883162029,
          11938.191265575566,
          3217.81496336071,
          14448.008557412835,
          28517.924861592335,
          11565.249419263311,
          8326.612426567332,
          2218.3582375521155,
          12012.746499234281,
          11424.391807487453,
          10072.544721687927,
          2396.0862563250985,
          7708.3314859044485,
          2211.1769484912156,
          3385.535369572616,
          24159.607582301076,
          2206.1056508787415,
          9724.20706068927,
          13616.485794047916,
          11658.351582532327,
          6016.570086768529,
          17494.20207360529,
          2218.1806311308474,
          3977.151243184563,
          12031.011600058944,
          9866.858792308027,
          17309.27482901796,
          7051.351272301411,
          10150.014902721246,
          12076.445713506371,
          2196.261026248344,
          8034.689427262821,
          7266.844800726973,
          4042.4029478652674,
          13143.715001519824,
          3937.422521453521,
          7110.1030369955815,
          8676.4570285519
         ],
         "yaxis": "y2"
        },
        {
         "hovertemplate": "<b>LOWESS trendline</b><br><br>index=Northeast<br>actuals=%{x}<br>preds=%{y} <b>(trend)</b><extra></extra>",
         "legendgroup": "Northeast",
         "marker": {
          "color": "#6C839B",
          "symbol": "circle"
         },
         "mode": "lines",
         "name": "Northeast",
         "showlegend": false,
         "type": "scatter",
         "x": [
          1712.227,
          2196.4732,
          2203.73595,
          2205.9808,
          2211.13075,
          2217.46915,
          2217.6012,
          2396.0959,
          2727.3951,
          3044.2133,
          3385.39915,
          3393.35635,
          3481.868,
          3558.62025,
          3857.75925,
          4846.92015,
          5428.7277,
          5594.8455,
          6067.12675,
          6113.23105,
          6640.54485,
          7050.0213,
          7133.9025,
          7639.41745,
          7729.64575,
          7935.29115,
          7985.815,
          8334.45755,
          8606.2174,
          8627.5411,
          9282.4806,
          9722.7695,
          9866.30485,
          10072.05505,
          11394.06555,
          11512.405,
          11658.37915,
          11879.10405,
          11938.25595,
          12029.2867,
          12323.936,
          12730.9996,
          13019.16105,
          13129.60345,
          13143.86485,
          13224.05705,
          13228.84695,
          13430.265,
          13616.3586,
          13725.47184,
          14449.8544,
          14451.83515,
          14590.63205,
          16115.3045,
          17128.42608,
          19594.80965,
          20709.02034,
          22395.74424,
          23241.47453,
          24106.91255,
          25517.11363,
          33475.81715,
          41034.2214,
          42303.69215,
          58571.07448
         ],
         "xaxis": "x2",
         "y": [
          1707.647975840527,
          2192.6196321071184,
          2199.8932364612415,
          2202.1414412244185,
          2207.299087050034,
          2213.646958067549,
          2213.7792053712856,
          2392.540170096507,
          2724.3297856350678,
          3041.6090945929805,
          3383.278071735314,
          3391.246328339185,
          3479.8802441401735,
          3556.7374574890673,
          3856.2765717842763,
          4846.682120039616,
          5429.208367182937,
          5595.539088972929,
          6068.466165454051,
          6114.637214470234,
          6642.790931724069,
          7053.1500008737885,
          7137.271938436015,
          7644.791569040213,
          7735.313473393957,
          7941.580479398657,
          7992.269700662993,
          8341.959981844675,
          8614.37247275778,
          8635.730852625009,
          9291.604002160006,
          9732.378404775694,
          9876.022109145104,
          10081.908789586785,
          11404.755805468423,
          11523.190121851443,
          11669.296253189026,
          11890.220486926952,
          11949.427698031093,
          12040.544824707105,
          12335.549440756928,
          12743.026857505041,
          13031.470525678804,
          13142.018727488456,
          13156.301470288432,
          13236.610328217073,
          13241.406976851576,
          13443.072936084523,
          13629.293527294678,
          13738.46449308905,
          14462.52675810916,
          14464.50671936222,
          14603.241024834835,
          16123.746294803579,
          17133.974478300443,
          19591.5447731428,
          20700.47748854156,
          22379.73599288258,
          23221.57892129496,
          24067.82452198176,
          23119.13796811964,
          27773.488198296,
          33223.39528608014,
          34138.70947277525,
          45864.52386705208
         ],
         "yaxis": "y2"
        }
       ],
       "layout": {
        "annotations": [
         {
          "showarrow": false,
          "text": "Northwest",
          "x": 0.245,
          "xanchor": "center",
          "xref": "paper",
          "y": 0.46499999999999997,
          "yanchor": "bottom",
          "yref": "paper"
         },
         {
          "showarrow": false,
          "text": "Northeast",
          "x": 0.755,
          "xanchor": "center",
          "xref": "paper",
          "y": 0.46499999999999997,
          "yanchor": "bottom",
          "yref": "paper"
         },
         {
          "showarrow": false,
          "text": "Southwest",
          "x": 0.245,
          "xanchor": "center",
          "xref": "paper",
          "y": 0.9999999999999999,
          "yanchor": "bottom",
          "yref": "paper"
         },
         {
          "showarrow": false,
          "text": "Southeast",
          "x": 0.755,
          "xanchor": "center",
          "xref": "paper",
          "y": 0.9999999999999999,
          "yanchor": "bottom",
          "yref": "paper"
         },
         {
          "showarrow": false,
          "text": "Adj. R-Squared = 72.2%<br>RMSE = 5,120",
          "x": 51000,
          "xref": "x3",
          "y": 15000,
          "yref": "y3"
         },
         {
          "showarrow": false,
          "text": "Adj. R-Squared = 88.9%<br>RMSE = 4,276",
          "x": 51000,
          "xref": "x4",
          "y": 15000,
          "yref": "y4"
         },
         {
          "showarrow": false,
          "text": "Adj. R-Squared = 65.3%<br>RMSE = 6,092",
          "x": 51000,
          "xref": "x",
          "y": 15000,
          "yref": "y"
         },
         {
          "showarrow": false,
          "text": "Adj. R-Squared = 69.8%<br>RMSE = 4,689",
          "x": 51000,
          "xref": "x2",
          "y": 15000,
          "yref": "y2"
         }
        ],
        "font": {
         "color": "#303030"
        },
        "height": 700,
        "legend": {
         "title": {
          "text": "index"
         },
         "tracegroupgap": 0
        },
        "paper_bgcolor": "white",
        "plot_bgcolor": "white",
        "template": {
         "data": {
          "bar": [
           {
            "error_x": {
             "color": "#2a3f5f"
            },
            "error_y": {
             "color": "#2a3f5f"
            },
            "marker": {
             "line": {
              "color": "white",
              "width": 0.5
             },
             "pattern": {
              "fillmode": "overlay",
              "size": 10,
              "solidity": 0.2
             }
            },
            "type": "bar"
           }
          ],
          "barpolar": [
           {
            "marker": {
             "line": {
              "color": "white",
              "width": 0.5
             },
             "pattern": {
              "fillmode": "overlay",
              "size": 10,
              "solidity": 0.2
             }
            },
            "type": "barpolar"
           }
          ],
          "carpet": [
           {
            "aaxis": {
             "endlinecolor": "#2a3f5f",
             "gridcolor": "#C8D4E3",
             "linecolor": "#C8D4E3",
             "minorgridcolor": "#C8D4E3",
             "startlinecolor": "#2a3f5f"
            },
            "baxis": {
             "endlinecolor": "#2a3f5f",
             "gridcolor": "#C8D4E3",
             "linecolor": "#C8D4E3",
             "minorgridcolor": "#C8D4E3",
             "startlinecolor": "#2a3f5f"
            },
            "type": "carpet"
           }
          ],
          "choropleth": [
           {
            "colorbar": {
             "outlinewidth": 0,
             "ticks": ""
            },
            "type": "choropleth"
           }
          ],
          "contour": [
           {
            "colorbar": {
             "outlinewidth": 0,
             "ticks": ""
            },
            "colorscale": [
             [
              0,
              "#0d0887"
             ],
             [
              0.1111111111111111,
              "#46039f"
             ],
             [
              0.2222222222222222,
              "#7201a8"
             ],
             [
              0.3333333333333333,
              "#9c179e"
             ],
             [
              0.4444444444444444,
              "#bd3786"
             ],
             [
              0.5555555555555556,
              "#d8576b"
             ],
             [
              0.6666666666666666,
              "#ed7953"
             ],
             [
              0.7777777777777778,
              "#fb9f3a"
             ],
             [
              0.8888888888888888,
              "#fdca26"
             ],
             [
              1,
              "#f0f921"
             ]
            ],
            "type": "contour"
           }
          ],
          "contourcarpet": [
           {
            "colorbar": {
             "outlinewidth": 0,
             "ticks": ""
            },
            "type": "contourcarpet"
           }
          ],
          "heatmap": [
           {
            "colorbar": {
             "outlinewidth": 0,
             "ticks": ""
            },
            "colorscale": [
             [
              0,
              "#0d0887"
             ],
             [
              0.1111111111111111,
              "#46039f"
             ],
             [
              0.2222222222222222,
              "#7201a8"
             ],
             [
              0.3333333333333333,
              "#9c179e"
             ],
             [
              0.4444444444444444,
              "#bd3786"
             ],
             [
              0.5555555555555556,
              "#d8576b"
             ],
             [
              0.6666666666666666,
              "#ed7953"
             ],
             [
              0.7777777777777778,
              "#fb9f3a"
             ],
             [
              0.8888888888888888,
              "#fdca26"
             ],
             [
              1,
              "#f0f921"
             ]
            ],
            "type": "heatmap"
           }
          ],
          "heatmapgl": [
           {
            "colorbar": {
             "outlinewidth": 0,
             "ticks": ""
            },
            "colorscale": [
             [
              0,
              "#0d0887"
             ],
             [
              0.1111111111111111,
              "#46039f"
             ],
             [
              0.2222222222222222,
              "#7201a8"
             ],
             [
              0.3333333333333333,
              "#9c179e"
             ],
             [
              0.4444444444444444,
              "#bd3786"
             ],
             [
              0.5555555555555556,
              "#d8576b"
             ],
             [
              0.6666666666666666,
              "#ed7953"
             ],
             [
              0.7777777777777778,
              "#fb9f3a"
             ],
             [
              0.8888888888888888,
              "#fdca26"
             ],
             [
              1,
              "#f0f921"
             ]
            ],
            "type": "heatmapgl"
           }
          ],
          "histogram": [
           {
            "marker": {
             "pattern": {
              "fillmode": "overlay",
              "size": 10,
              "solidity": 0.2
             }
            },
            "type": "histogram"
           }
          ],
          "histogram2d": [
           {
            "colorbar": {
             "outlinewidth": 0,
             "ticks": ""
            },
            "colorscale": [
             [
              0,
              "#0d0887"
             ],
             [
              0.1111111111111111,
              "#46039f"
             ],
             [
              0.2222222222222222,
              "#7201a8"
             ],
             [
              0.3333333333333333,
              "#9c179e"
             ],
             [
              0.4444444444444444,
              "#bd3786"
             ],
             [
              0.5555555555555556,
              "#d8576b"
             ],
             [
              0.6666666666666666,
              "#ed7953"
             ],
             [
              0.7777777777777778,
              "#fb9f3a"
             ],
             [
              0.8888888888888888,
              "#fdca26"
             ],
             [
              1,
              "#f0f921"
             ]
            ],
            "type": "histogram2d"
           }
          ],
          "histogram2dcontour": [
           {
            "colorbar": {
             "outlinewidth": 0,
             "ticks": ""
            },
            "colorscale": [
             [
              0,
              "#0d0887"
             ],
             [
              0.1111111111111111,
              "#46039f"
             ],
             [
              0.2222222222222222,
              "#7201a8"
             ],
             [
              0.3333333333333333,
              "#9c179e"
             ],
             [
              0.4444444444444444,
              "#bd3786"
             ],
             [
              0.5555555555555556,
              "#d8576b"
             ],
             [
              0.6666666666666666,
              "#ed7953"
             ],
             [
              0.7777777777777778,
              "#fb9f3a"
             ],
             [
              0.8888888888888888,
              "#fdca26"
             ],
             [
              1,
              "#f0f921"
             ]
            ],
            "type": "histogram2dcontour"
           }
          ],
          "mesh3d": [
           {
            "colorbar": {
             "outlinewidth": 0,
             "ticks": ""
            },
            "type": "mesh3d"
           }
          ],
          "parcoords": [
           {
            "line": {
             "colorbar": {
              "outlinewidth": 0,
              "ticks": ""
             }
            },
            "type": "parcoords"
           }
          ],
          "pie": [
           {
            "automargin": true,
            "type": "pie"
           }
          ],
          "scatter": [
           {
            "fillpattern": {
             "fillmode": "overlay",
             "size": 10,
             "solidity": 0.2
            },
            "type": "scatter"
           }
          ],
          "scatter3d": [
           {
            "line": {
             "colorbar": {
              "outlinewidth": 0,
              "ticks": ""
             }
            },
            "marker": {
             "colorbar": {
              "outlinewidth": 0,
              "ticks": ""
             }
            },
            "type": "scatter3d"
           }
          ],
          "scattercarpet": [
           {
            "marker": {
             "colorbar": {
              "outlinewidth": 0,
              "ticks": ""
             }
            },
            "type": "scattercarpet"
           }
          ],
          "scattergeo": [
           {
            "marker": {
             "colorbar": {
              "outlinewidth": 0,
              "ticks": ""
             }
            },
            "type": "scattergeo"
           }
          ],
          "scattergl": [
           {
            "marker": {
             "colorbar": {
              "outlinewidth": 0,
              "ticks": ""
             }
            },
            "type": "scattergl"
           }
          ],
          "scattermapbox": [
           {
            "marker": {
             "colorbar": {
              "outlinewidth": 0,
              "ticks": ""
             }
            },
            "type": "scattermapbox"
           }
          ],
          "scatterpolar": [
           {
            "marker": {
             "colorbar": {
              "outlinewidth": 0,
              "ticks": ""
             }
            },
            "type": "scatterpolar"
           }
          ],
          "scatterpolargl": [
           {
            "marker": {
             "colorbar": {
              "outlinewidth": 0,
              "ticks": ""
             }
            },
            "type": "scatterpolargl"
           }
          ],
          "scatterternary": [
           {
            "marker": {
             "colorbar": {
              "outlinewidth": 0,
              "ticks": ""
             }
            },
            "type": "scatterternary"
           }
          ],
          "surface": [
           {
            "colorbar": {
             "outlinewidth": 0,
             "ticks": ""
            },
            "colorscale": [
             [
              0,
              "#0d0887"
             ],
             [
              0.1111111111111111,
              "#46039f"
             ],
             [
              0.2222222222222222,
              "#7201a8"
             ],
             [
              0.3333333333333333,
              "#9c179e"
             ],
             [
              0.4444444444444444,
              "#bd3786"
             ],
             [
              0.5555555555555556,
              "#d8576b"
             ],
             [
              0.6666666666666666,
              "#ed7953"
             ],
             [
              0.7777777777777778,
              "#fb9f3a"
             ],
             [
              0.8888888888888888,
              "#fdca26"
             ],
             [
              1,
              "#f0f921"
             ]
            ],
            "type": "surface"
           }
          ],
          "table": [
           {
            "cells": {
             "fill": {
              "color": "#EBF0F8"
             },
             "line": {
              "color": "white"
             }
            },
            "header": {
             "fill": {
              "color": "#C8D4E3"
             },
             "line": {
              "color": "white"
             }
            },
            "type": "table"
           }
          ]
         },
         "layout": {
          "annotationdefaults": {
           "arrowcolor": "#2a3f5f",
           "arrowhead": 0,
           "arrowwidth": 1
          },
          "autotypenumbers": "strict",
          "coloraxis": {
           "colorbar": {
            "outlinewidth": 0,
            "ticks": ""
           }
          },
          "colorscale": {
           "diverging": [
            [
             0,
             "#8e0152"
            ],
            [
             0.1,
             "#c51b7d"
            ],
            [
             0.2,
             "#de77ae"
            ],
            [
             0.3,
             "#f1b6da"
            ],
            [
             0.4,
             "#fde0ef"
            ],
            [
             0.5,
             "#f7f7f7"
            ],
            [
             0.6,
             "#e6f5d0"
            ],
            [
             0.7,
             "#b8e186"
            ],
            [
             0.8,
             "#7fbc41"
            ],
            [
             0.9,
             "#4d9221"
            ],
            [
             1,
             "#276419"
            ]
           ],
           "sequential": [
            [
             0,
             "#0d0887"
            ],
            [
             0.1111111111111111,
             "#46039f"
            ],
            [
             0.2222222222222222,
             "#7201a8"
            ],
            [
             0.3333333333333333,
             "#9c179e"
            ],
            [
             0.4444444444444444,
             "#bd3786"
            ],
            [
             0.5555555555555556,
             "#d8576b"
            ],
            [
             0.6666666666666666,
             "#ed7953"
            ],
            [
             0.7777777777777778,
             "#fb9f3a"
            ],
            [
             0.8888888888888888,
             "#fdca26"
            ],
            [
             1,
             "#f0f921"
            ]
           ],
           "sequentialminus": [
            [
             0,
             "#0d0887"
            ],
            [
             0.1111111111111111,
             "#46039f"
            ],
            [
             0.2222222222222222,
             "#7201a8"
            ],
            [
             0.3333333333333333,
             "#9c179e"
            ],
            [
             0.4444444444444444,
             "#bd3786"
            ],
            [
             0.5555555555555556,
             "#d8576b"
            ],
            [
             0.6666666666666666,
             "#ed7953"
            ],
            [
             0.7777777777777778,
             "#fb9f3a"
            ],
            [
             0.8888888888888888,
             "#fdca26"
            ],
            [
             1,
             "#f0f921"
            ]
           ]
          },
          "colorway": [
           "#636efa",
           "#EF553B",
           "#00cc96",
           "#ab63fa",
           "#FFA15A",
           "#19d3f3",
           "#FF6692",
           "#B6E880",
           "#FF97FF",
           "#FECB52"
          ],
          "font": {
           "color": "#2a3f5f"
          },
          "geo": {
           "bgcolor": "white",
           "lakecolor": "white",
           "landcolor": "white",
           "showlakes": true,
           "showland": true,
           "subunitcolor": "#C8D4E3"
          },
          "hoverlabel": {
           "align": "left"
          },
          "hovermode": "closest",
          "mapbox": {
           "style": "light"
          },
          "paper_bgcolor": "white",
          "plot_bgcolor": "white",
          "polar": {
           "angularaxis": {
            "gridcolor": "#EBF0F8",
            "linecolor": "#EBF0F8",
            "ticks": ""
           },
           "bgcolor": "white",
           "radialaxis": {
            "gridcolor": "#EBF0F8",
            "linecolor": "#EBF0F8",
            "ticks": ""
           }
          },
          "scene": {
           "xaxis": {
            "backgroundcolor": "white",
            "gridcolor": "#DFE8F3",
            "gridwidth": 2,
            "linecolor": "#EBF0F8",
            "showbackground": true,
            "ticks": "",
            "zerolinecolor": "#EBF0F8"
           },
           "yaxis": {
            "backgroundcolor": "white",
            "gridcolor": "#DFE8F3",
            "gridwidth": 2,
            "linecolor": "#EBF0F8",
            "showbackground": true,
            "ticks": "",
            "zerolinecolor": "#EBF0F8"
           },
           "zaxis": {
            "backgroundcolor": "white",
            "gridcolor": "#DFE8F3",
            "gridwidth": 2,
            "linecolor": "#EBF0F8",
            "showbackground": true,
            "ticks": "",
            "zerolinecolor": "#EBF0F8"
           }
          },
          "shapedefaults": {
           "line": {
            "color": "#2a3f5f"
           }
          },
          "ternary": {
           "aaxis": {
            "gridcolor": "#DFE8F3",
            "linecolor": "#A2B1C6",
            "ticks": ""
           },
           "baxis": {
            "gridcolor": "#DFE8F3",
            "linecolor": "#A2B1C6",
            "ticks": ""
           },
           "bgcolor": "white",
           "caxis": {
            "gridcolor": "#DFE8F3",
            "linecolor": "#A2B1C6",
            "ticks": ""
           }
          },
          "title": {
           "x": 0.05
          },
          "xaxis": {
           "automargin": true,
           "gridcolor": "#EBF0F8",
           "linecolor": "#EBF0F8",
           "ticks": "",
           "title": {
            "standoff": 15
           },
           "zerolinecolor": "#EBF0F8",
           "zerolinewidth": 2
          },
          "yaxis": {
           "automargin": true,
           "gridcolor": "#EBF0F8",
           "linecolor": "#EBF0F8",
           "ticks": "",
           "title": {
            "standoff": 15
           },
           "zerolinecolor": "#EBF0F8",
           "zerolinewidth": 2
          }
         }
        },
        "title": {
         "text": "Actual vs Predicted Insurance Costs by Region,<br>Support Vector Regression"
        },
        "xaxis": {
         "anchor": "y",
         "domain": [
          0,
          0.49
         ],
         "gridcolor": "#EAEAEA",
         "gridwidth": 1,
         "showgrid": true,
         "title": {
          "text": "Actual Cost, $"
         },
         "zeroline": true,
         "zerolinecolor": "#5E5E5E",
         "zerolinewidth": 2
        },
        "xaxis2": {
         "anchor": "y2",
         "domain": [
          0.51,
          1
         ],
         "gridcolor": "#EAEAEA",
         "gridwidth": 1,
         "matches": "x",
         "showgrid": true,
         "title": {
          "text": "Actual Cost, $"
         },
         "zeroline": true,
         "zerolinecolor": "#5E5E5E",
         "zerolinewidth": 2
        },
        "xaxis3": {
         "anchor": "y3",
         "domain": [
          0,
          0.49
         ],
         "gridcolor": "#EAEAEA",
         "gridwidth": 1,
         "matches": "x",
         "showgrid": true,
         "showticklabels": false,
         "zeroline": true,
         "zerolinecolor": "#5E5E5E",
         "zerolinewidth": 2
        },
        "xaxis4": {
         "anchor": "y4",
         "domain": [
          0.51,
          1
         ],
         "gridcolor": "#EAEAEA",
         "gridwidth": 1,
         "matches": "x",
         "showgrid": true,
         "showticklabels": false,
         "zeroline": true,
         "zerolinecolor": "#5E5E5E",
         "zerolinewidth": 2
        },
        "yaxis": {
         "anchor": "x",
         "domain": [
          0,
          0.46499999999999997
         ],
         "gridcolor": "#E3E3E3",
         "gridwidth": 1,
         "showgrid": true,
         "title": {
          "text": "Predicted Cost, $"
         },
         "zeroline": true,
         "zerolinecolor": "#5E5E5E",
         "zerolinewidth": 2
        },
        "yaxis2": {
         "anchor": "x2",
         "domain": [
          0,
          0.46499999999999997
         ],
         "gridcolor": "#E3E3E3",
         "gridwidth": 1,
         "matches": "y",
         "showgrid": true,
         "showticklabels": false,
         "zeroline": true,
         "zerolinecolor": "#5E5E5E",
         "zerolinewidth": 2
        },
        "yaxis3": {
         "anchor": "x3",
         "domain": [
          0.5349999999999999,
          0.9999999999999999
         ],
         "gridcolor": "#E3E3E3",
         "gridwidth": 1,
         "matches": "y",
         "showgrid": true,
         "title": {
          "text": "Predicted Cost, $"
         },
         "zeroline": true,
         "zerolinecolor": "#5E5E5E",
         "zerolinewidth": 2
        },
        "yaxis4": {
         "anchor": "x4",
         "domain": [
          0.5349999999999999,
          0.9999999999999999
         ],
         "gridcolor": "#E3E3E3",
         "gridwidth": 1,
         "matches": "y",
         "showgrid": true,
         "showticklabels": false,
         "zeroline": true,
         "zerolinecolor": "#5E5E5E",
         "zerolinewidth": 2
        }
       }
      },
      "text/html": [
       "<div>                            <div id=\"25b4fc7e-2b6c-4ca4-8d61-4564ed2320f5\" class=\"plotly-graph-div\" style=\"height:700px; width:100%;\"></div>            <script type=\"text/javascript\">                require([\"plotly\"], function(Plotly) {                    window.PLOTLYENV=window.PLOTLYENV || {};                                    if (document.getElementById(\"25b4fc7e-2b6c-4ca4-8d61-4564ed2320f5\")) {                    Plotly.newPlot(                        \"25b4fc7e-2b6c-4ca4-8d61-4564ed2320f5\",                        [{\"hovertemplate\":\"Actual Cost: %{x:$,.2f}<br>Predicted Cost: %{y:$,.2f}\",\"legendgroup\":\"Southwest\",\"marker\":{\"color\":\"#B14B51\",\"opacity\":0.7,\"symbol\":\"circle\",\"line\":{\"color\":\"#F7F7F7\",\"width\":1},\"size\":10},\"mode\":\"markers\",\"name\":\"Southwest\",\"orientation\":\"v\",\"showlegend\":false,\"x\":[3761.292,11674.13,6311.952,14319.031,11552.904,5080.096,8269.044,3693.428,36837.467,13224.693,23306.547,35160.13457,12347.172,10065.413,5488.262,38711.0,7196.867,6571.544,5979.731,34828.654,6600.361,39836.519,1256.299,1242.26,4762.329,9264.797,13470.86,1759.338,1241.565,48173.361,16232.847,25309.489,10791.96,4751.07,8556.907,42856.838,8277.523,11576.13,7623.518,12146.971,20630.28351,4646.759,26140.3603,2007.945,8444.474,17081.08,13822.803,8825.086,37079.372,10096.97,11411.685,14988.432,11362.755,6875.961,10795.93733,18259.216,1261.859,17942.106,11150.78,38415.474,8522.003,8703.456,3987.926,1964.78,1743.214],\"xaxis\":\"x3\",\"y\":[3761.776658758847,11676.403683410434,6310.41973697066,14315.307811311402,11995.95555305033,5050.0477640793615,8269.337107424531,3675.8585473975627,38328.667167364576,13234.605159292194,14054.509039721619,11290.925047103923,12358.10056111834,10053.255568665794,5488.821612994084,39682.70202443967,7199.612777302541,6573.354274379628,5979.6048618622335,35051.54110729098,6601.230336469494,35055.096463131165,1256.2544098613398,1242.2696154900086,4763.189932845735,9266.55072421796,13468.834097577626,1755.6508469645023,1241.41558000011,49359.10780448218,16013.380378744732,40480.038773041975,10777.354674719327,4751.690259575591,8556.570116929568,40982.92586931737,8277.399336290298,11569.07874089675,7623.542399965267,12146.637852664491,10224.876196563775,4647.026029968908,9190.44235889031,2007.9642215293816,8445.239959146411,24199.216009322427,13823.34549786023,8822.942427015074,39876.01900079149,10143.202122794675,11233.61469736883,15007.11207895022,11362.778748785804,6876.160135630026,2315.058891104067,14623.042285533274,1261.9795251243395,2356.1154278348204,11150.33076423569,36175.63904233713,8513.94871855434,8701.701344513174,3991.4077656458944,1964.3755294882412,1743.0834607234683],\"yaxis\":\"y3\",\"type\":\"scatter\"},{\"hovertemplate\":\"<b>LOWESS trendline</b><br><br>index=Southwest<br>actuals=%{x}<br>preds=%{y} <b>(trend)</b><extra></extra>\",\"legendgroup\":\"Southwest\",\"marker\":{\"color\":\"#B14B51\",\"symbol\":\"circle\"},\"mode\":\"lines\",\"name\":\"Southwest\",\"showlegend\":false,\"x\":[1241.565,1242.26,1256.299,1261.859,1743.214,1759.338,1964.78,2007.945,3693.428,3761.292,3987.926,4646.759,4751.07,4762.329,5080.096,5488.262,5979.731,6311.952,6571.544,6600.361,6875.961,7196.867,7623.518,8269.044,8277.523,8444.474,8522.003,8556.907,8703.456,8825.086,9264.797,10065.413,10096.97,10791.96,10795.93733,11150.78,11362.755,11411.685,11552.904,11576.13,11674.13,12146.971,12347.172,13224.693,13470.86,13822.803,14319.031,14988.432,16232.847,17081.08,17942.106,18259.216,20630.28351,23306.547,25309.489,26140.3603,34828.654,35160.13457,36837.467,37079.372,38415.474,38711.0,39836.519,42856.838,48173.361],\"xaxis\":\"x3\",\"y\":[1241.4159489568272,1242.1109855840475,1256.1507231938015,1261.7110141225467,1743.0884322636643,1759.2130813178096,1964.6627298161204,2007.8291901056978,3693.3310336121585,3761.194393040405,3987.825681451359,4646.647618208945,4750.956743655602,4762.215544879439,5079.977559032412,5488.1412615500085,5979.623343115281,6311.868510172011,6571.47157547905,6600.287388355776,6875.813728333419,7196.573902697898,7623.102159798967,8268.526460051184,8277.00550093016,8443.956474102386,8521.486650657633,8556.39111190306,8702.941190682568,8824.570714326352,9264.256748374146,10064.81786172626,10096.370860628396,10791.290029916754,10795.267081195623,11150.096614666236,11362.065385447957,11410.994082174357,11552.209697793582,11575.435200704113,11673.433313196347,12146.271200996887,12346.485797282261,13224.055030069094,13470.242862943152,13822.272412804377,14318.626041373653,14988.137344826819,16232.775888146714,17081.137243463592,17942.28640415929,18259.439939685944,20631.11397596506,23307.242246692927,25309.087549470558,26139.77685296434,34822.80118464815,35154.13513934109,36830.72047664442,37072.5170706346,38408.01764500262,38703.41004536352,39828.418493565536,42847.35561529916,48161.41432170303],\"yaxis\":\"y3\",\"type\":\"scatter\"},{\"hovertemplate\":\"Actual Cost: %{x:$,.2f}<br>Predicted Cost: %{y:$,.2f}\",\"legendgroup\":\"Southeast\",\"marker\":{\"color\":\"#D0A99C\",\"opacity\":0.7,\"symbol\":\"circle\",\"line\":{\"color\":\"#F7F7F7\",\"width\":1},\"size\":10},\"mode\":\"markers\",\"name\":\"Southeast\",\"orientation\":\"v\",\"showlegend\":false,\"x\":[44202.6536,6781.3542,5478.0368,32548.3405,1815.8759,11093.6229,11090.7178,13470.8044,47269.854,10107.2206,38282.7495,19350.3689,1615.7667,40974.1649,1824.2854,7243.8136,36950.2567,41999.52,6184.2994,20462.99766,7152.6714,2219.4451,8232.6388,4266.1658,19521.9682,27808.7251,16586.49771,5966.8874,4504.6624,3500.6123,4340.4409,5974.3847,3227.1211,11363.2832,12592.5345,6313.759,5920.1041,12142.5786,3561.8889,4673.3922,46599.1084,2566.4707,41676.0811,8978.1851,48970.2476,24667.419,8596.8278,38709.176,1136.3994,18806.14547,1981.5819,1131.5066,6500.2359,1146.7966,8547.6913,39611.7577,11881.9696,48675.5177,44400.4064,18223.4512,28287.89766,9855.1314,10702.6424,5245.2269,1664.9996,2464.6188,9377.9047,10226.2842,36124.5737,4779.6023,6338.0756,42112.2356,1633.9618],\"xaxis\":\"x4\",\"y\":[45761.31817395494,6780.188998361617,5470.763415157617,23395.893768767637,1807.2564009209427,11233.407880561468,11177.506201809334,13534.013855786223,47883.35648979531,10157.545419091257,36942.92857750146,25709.695180558894,1591.75409278989,35380.26216732712,1822.3776725868265,3412.3555047149757,34586.385397411745,37883.99462087235,4946.145742281345,12932.692499925648,7159.393495798333,2228.336626559504,8281.99020657922,4291.04916868281,19840.810025236522,31559.64657311862,1521.4849569295266,5969.942824135681,4896.955533455975,3689.9444016640527,4279.257474204108,5976.8783087357315,3212.4463729880345,11368.58725913805,2477.4727554747124,6335.726201015304,5939.26112028882,12142.687420099526,3740.256030219025,4660.268111178239,46935.70123402913,2539.014906379547,41444.839832294594,8980.475113251026,48860.03186862619,28300.216484601537,-1808.5116346343666,37121.485194881025,1135.710938583059,7444.391698857202,1979.26012992909,1125.7498042290035,6497.9596005659505,1148.6498477426112,8574.977322345567,40111.24503068712,11730.180582825418,48263.45679688188,48437.08663165595,32063.55116357886,12802.48459307279,10277.454133114072,13686.1191088761,5232.3509327501515,1656.177895073878,2466.6487976926464,9366.1333061667,10228.304255315416,32626.579621491182,4789.583238760141,6320.518880536746,45699.914589321445,1632.9294320799563],\"yaxis\":\"y4\",\"type\":\"scatter\"},{\"hovertemplate\":\"<b>LOWESS trendline</b><br><br>index=Southeast<br>actuals=%{x}<br>preds=%{y} <b>(trend)</b><extra></extra>\",\"legendgroup\":\"Southeast\",\"marker\":{\"color\":\"#D0A99C\",\"symbol\":\"circle\"},\"mode\":\"lines\",\"name\":\"Southeast\",\"showlegend\":false,\"x\":[1131.5066,1136.3994,1146.7966,1615.7667,1633.9618,1664.9996,1815.8759,1824.2854,1981.5819,2219.4451,2464.6188,2566.4707,3227.1211,3500.6123,3561.8889,4266.1658,4340.4409,4504.6624,4673.3922,4779.6023,5245.2269,5478.0368,5920.1041,5966.8874,5974.3847,6184.2994,6313.759,6338.0756,6500.2359,6781.3542,7152.6714,7243.8136,8232.6388,8547.6913,8596.8278,8978.1851,9377.9047,9855.1314,10107.2206,10226.2842,10702.6424,11090.7178,11093.6229,11363.2832,11881.9696,12142.5786,12592.5345,13470.8044,16586.49771,18223.4512,18806.14547,19350.3689,19521.9682,20462.99766,24667.419,27808.7251,28287.89766,32548.3405,36124.5737,36950.2567,38282.7495,38709.176,39611.7577,40974.1649,41676.0811,41999.52,42112.2356,44202.6536,44400.4064,46599.1084,47269.854,48675.5177,48970.2476],\"xaxis\":\"x4\",\"y\":[1131.5161564987102,1136.419529082603,1146.8391907917612,1616.8159454870051,1635.0498734107114,1666.1538741080744,1817.3514708448204,1825.7788588374654,1983.4097146437591,2221.778550240781,2467.4752826085955,2569.545525308576,3231.6427599146823,3505.758094641073,3567.1773975248816,4273.174381107778,4347.6387890835385,4512.283352402289,4681.4537283556665,4787.943847645345,5254.813384337044,5488.249774248775,5931.490978186833,5978.395824710437,5985.912532641343,6196.361028489016,6326.138149610215,6350.513143284584,6513.050617481959,6794.756372060501,7166.658839575729,7257.9076839037925,8248.843151096089,8564.713974242197,8613.985144663602,8996.440566892623,9397.3966332764,9876.187253072934,10129.223504224306,10248.805064712362,10727.030004182812,11117.922029501406,11120.846319796558,11393.949762864591,11923.589247743661,12190.81925162263,12652.687823393035,13553.541915068408,16743.243759372122,18421.65651471197,19018.878453165606,19578.56131083637,19754.64776227603,20733.272231180912,24943.04710575079,27820.32692420627,28283.860945735316,32478.229894449803,36018.656858783106,36835.8617559857,38154.42304138663,38576.326418004726,39469.23436325196,40816.79616303978,41510.95825970716,41830.801732182226,41942.261250317126,44009.14528548818,44204.652839161776,46378.25705233161,47041.31590229844,48430.85968827382,48722.21080787391],\"yaxis\":\"y4\",\"type\":\"scatter\"},{\"hovertemplate\":\"Actual Cost: %{x:$,.2f}<br>Predicted Cost: %{y:$,.2f}\",\"legendgroup\":\"Northwest\",\"marker\":{\"color\":\"#5D8370\",\"opacity\":0.7,\"symbol\":\"circle\",\"line\":{\"color\":\"#F7F7F7\",\"width\":1},\"size\":10},\"mode\":\"markers\",\"name\":\"Northwest\",\"orientation\":\"v\",\"showlegend\":false,\"x\":[9174.13565,4433.3877,21774.32215,7731.85785,33471.97189,4618.0799,3594.17085,12235.8392,6203.90175,11840.77505,4466.6214,8162.71625,6393.60345,1906.35825,23967.38305,2775.19215,3537.703,32787.45859,6112.35295,9301.89355,11945.1327,6389.37785,23807.2406,10264.4421,4243.59005,16455.70785,8413.46305,26018.95052,60021.39897,3579.8287,12479.70895,5855.9025,7153.5539,1635.73365,6986.697,43921.1837,15019.76005,29330.98315,5630.45785,8827.2099,8059.6791,5729.0053,14382.70905,29141.3603,38746.3551,3877.30425,42760.5022,6373.55735,28950.4692,16420.49455,10600.5483,18033.9679,39983.42595,6940.90985,4239.89265,6360.9936,8116.26885,6796.86325,2136.88225,33307.5508,13415.0381,10976.24575,3353.4703,5261.46945,5989.52365],\"xaxis\":\"x\",\"y\":[9173.727833119778,4438.011599701369,22235.975476404856,7731.869712493416,11207.359080658338,6405.957828524527,3554.236230847977,12235.44374090556,6202.432095283284,11840.835532935742,7011.341465402738,7883.049528511671,6394.694085019359,1905.3409551386358,21554.79503702885,2721.4389324931763,3617.368178669116,25018.495064202274,6095.827710588251,9333.947495858707,11948.280808961325,6389.147861480079,22299.162875107373,10248.303086467797,4243.533972463411,16187.650137744757,8442.868697858104,4489.861472427756,61037.4535205493,4510.805496724604,12473.063175482985,5860.827371338313,7177.661876219941,1633.981672793183,6996.212843627368,21502.81685420788,14775.284316158555,44686.61733060081,5594.478757257519,8828.752461975651,7992.585254218444,5681.583613374723,14269.51137875831,45284.35871698623,41706.93705577977,3922.6447424213356,37711.90335706044,6328.853407777284,42915.06909015881,22963.19744063271,10591.354542471758,25115.562939865988,33729.909367243104,6940.404201453587,4238.176400541108,6444.616639646847,8149.790297190037,6763.845494953604,2136.4800011089,29745.57885556175,13415.538354746954,10976.350992469952,3353.6115706190694,5259.387825680271,5917.612397515877],\"yaxis\":\"y\",\"type\":\"scatter\"},{\"hovertemplate\":\"<b>LOWESS trendline</b><br><br>index=Northwest<br>actuals=%{x}<br>preds=%{y} <b>(trend)</b><extra></extra>\",\"legendgroup\":\"Northwest\",\"marker\":{\"color\":\"#5D8370\",\"symbol\":\"circle\"},\"mode\":\"lines\",\"name\":\"Northwest\",\"showlegend\":false,\"x\":[1635.73365,1906.35825,2136.88225,2775.19215,3353.4703,3537.703,3579.8287,3594.17085,3877.30425,4239.89265,4243.59005,4433.3877,4466.6214,4618.0799,5261.46945,5630.45785,5729.0053,5855.9025,5989.52365,6112.35295,6203.90175,6360.9936,6373.55735,6389.37785,6393.60345,6796.86325,6940.90985,6986.697,7153.5539,7731.85785,8059.6791,8116.26885,8162.71625,8413.46305,8827.2099,9174.13565,9301.89355,10264.4421,10600.5483,10976.24575,11840.77505,11945.1327,12235.8392,12479.70895,13415.0381,14382.70905,15019.76005,16420.49455,16455.70785,18033.9679,21774.32215,23807.2406,23967.38305,26018.95052,28950.4692,29141.3603,29330.98315,32787.45859,33307.5508,33471.97189,38746.3551,39983.42595,42760.5022,43921.1837,60021.39897],\"xaxis\":\"x\",\"y\":[1631.9577300287217,1902.489318531704,2132.940446521113,2771.0834974690893,3349.267451270652,3533.487914554277,3575.6123422532523,3589.9541939627884,3873.0962725903523,4235.738494778889,4239.436689866225,4429.281604970671,4462.524854313201,4614.031440907147,5257.693739111526,5626.865479563769,5725.4611799056465,5852.418428051752,5986.099336020139,6108.979601809917,6200.563743279271,6357.711321286059,6370.279294358692,6386.105069752181,6390.332071039307,6793.721783977768,6937.827302401617,6983.654555424793,7150.6237094987755,7729.310634151445,8057.304766013693,8113.921563922166,8160.391719552209,8411.351062763311,8825.377949887492,9172.695909786427,9300.294078085066,10257.607049574557,10589.093519398668,10957.99723741466,11804.707237842322,11906.92683009922,12191.759946602373,12430.797315665432,13347.335214040422,14290.87598137722,14888.306309033049,16136.799821717626,16167.86121003235,17536.66329494765,20628.223035935473,22206.665467414372,22335.146037277857,23952.58584419826,26292.64407488274,26449.229553953704,26604.998414262693,29462.989052491983,29894.28463324488,30030.635637588086,34404.79672084283,35430.27054565115,37731.52520920485,38693.04249394054,52023.23060391014],\"yaxis\":\"y\",\"type\":\"scatter\"},{\"hovertemplate\":\"Actual Cost: %{x:$,.2f}<br>Predicted Cost: %{y:$,.2f}\",\"legendgroup\":\"Northeast\",\"marker\":{\"color\":\"#6C839B\",\"opacity\":0.7,\"symbol\":\"circle\",\"line\":{\"color\":\"#F7F7F7\",\"width\":1},\"size\":10},\"mode\":\"markers\",\"name\":\"Northeast\",\"orientation\":\"v\",\"showlegend\":false,\"x\":[58571.07448,41034.2214,13129.60345,17128.42608,13224.05705,42303.69215,8627.5411,11512.405,13228.84695,12730.9996,3558.62025,14590.63205,13019.16105,6113.23105,4846.92015,14451.83515,9282.4806,5594.8455,2203.73595,6640.54485,12323.936,7935.29115,3857.75925,1712.227,2727.3951,7639.41745,3044.2133,25517.11363,11938.25595,3393.35635,14449.8544,33475.81715,20709.02034,8334.45755,2217.6012,11879.10405,11394.06555,10072.05505,2396.0959,7729.64575,2211.13075,3385.39915,24106.91255,2205.9808,9722.7695,13616.3586,11658.37915,6067.12675,19594.80965,2217.46915,22395.74424,12029.2867,9866.30485,16115.3045,7050.0213,5428.7277,13430.265,2196.4732,7985.815,13725.47184,3481.868,13143.86485,23241.47453,7133.9025,8606.2174],\"xaxis\":\"x2\",\"y\":[44922.778537414015,44739.959134817465,13129.965096402422,9871.793601127749,13231.0212353932,34126.59721741886,8536.605182526517,11620.608140617058,13228.832358489966,12730.878571859688,3558.7736495407744,12727.224509767504,13237.952826207715,5841.9313373928935,6567.199551084807,14450.22644729526,9252.216739299669,5759.32518910676,2203.870122812551,6926.372545513027,12324.145560138075,7937.673583170087,3858.3320690358705,1713.4948820902318,2727.341540365642,7672.591396235674,3044.3323811679847,10999.071883162029,11938.191265575566,3217.81496336071,14448.008557412835,28517.924861592335,11565.249419263311,8326.612426567332,2218.3582375521155,12012.746499234281,11424.391807487453,10072.544721687927,2396.0862563250985,7708.3314859044485,2211.1769484912156,3385.535369572616,24159.607582301076,2206.1056508787415,9724.20706068927,13616.485794047916,11658.351582532327,6016.570086768529,17494.20207360529,2218.1806311308474,3977.151243184563,12031.011600058944,9866.858792308027,17309.27482901796,7051.351272301411,10150.014902721246,12076.445713506371,2196.261026248344,8034.689427262821,7266.844800726973,4042.4029478652674,13143.715001519824,3937.422521453521,7110.1030369955815,8676.4570285519],\"yaxis\":\"y2\",\"type\":\"scatter\"},{\"hovertemplate\":\"<b>LOWESS trendline</b><br><br>index=Northeast<br>actuals=%{x}<br>preds=%{y} <b>(trend)</b><extra></extra>\",\"legendgroup\":\"Northeast\",\"marker\":{\"color\":\"#6C839B\",\"symbol\":\"circle\"},\"mode\":\"lines\",\"name\":\"Northeast\",\"showlegend\":false,\"x\":[1712.227,2196.4732,2203.73595,2205.9808,2211.13075,2217.46915,2217.6012,2396.0959,2727.3951,3044.2133,3385.39915,3393.35635,3481.868,3558.62025,3857.75925,4846.92015,5428.7277,5594.8455,6067.12675,6113.23105,6640.54485,7050.0213,7133.9025,7639.41745,7729.64575,7935.29115,7985.815,8334.45755,8606.2174,8627.5411,9282.4806,9722.7695,9866.30485,10072.05505,11394.06555,11512.405,11658.37915,11879.10405,11938.25595,12029.2867,12323.936,12730.9996,13019.16105,13129.60345,13143.86485,13224.05705,13228.84695,13430.265,13616.3586,13725.47184,14449.8544,14451.83515,14590.63205,16115.3045,17128.42608,19594.80965,20709.02034,22395.74424,23241.47453,24106.91255,25517.11363,33475.81715,41034.2214,42303.69215,58571.07448],\"xaxis\":\"x2\",\"y\":[1707.647975840527,2192.6196321071184,2199.8932364612415,2202.1414412244185,2207.299087050034,2213.646958067549,2213.7792053712856,2392.540170096507,2724.3297856350678,3041.6090945929805,3383.278071735314,3391.246328339185,3479.8802441401735,3556.7374574890673,3856.2765717842763,4846.682120039616,5429.208367182937,5595.539088972929,6068.466165454051,6114.637214470234,6642.790931724069,7053.1500008737885,7137.271938436015,7644.791569040213,7735.313473393957,7941.580479398657,7992.269700662993,8341.959981844675,8614.37247275778,8635.730852625009,9291.604002160006,9732.378404775694,9876.022109145104,10081.908789586785,11404.755805468423,11523.190121851443,11669.296253189026,11890.220486926952,11949.427698031093,12040.544824707105,12335.549440756928,12743.026857505041,13031.470525678804,13142.018727488456,13156.301470288432,13236.610328217073,13241.406976851576,13443.072936084523,13629.293527294678,13738.46449308905,14462.52675810916,14464.50671936222,14603.241024834835,16123.746294803579,17133.974478300443,19591.5447731428,20700.47748854156,22379.73599288258,23221.57892129496,24067.82452198176,23119.13796811964,27773.488198296,33223.39528608014,34138.70947277525,45864.52386705208],\"yaxis\":\"y2\",\"type\":\"scatter\"}],                        {\"template\":{\"data\":{\"barpolar\":[{\"marker\":{\"line\":{\"color\":\"white\",\"width\":0.5},\"pattern\":{\"fillmode\":\"overlay\",\"size\":10,\"solidity\":0.2}},\"type\":\"barpolar\"}],\"bar\":[{\"error_x\":{\"color\":\"#2a3f5f\"},\"error_y\":{\"color\":\"#2a3f5f\"},\"marker\":{\"line\":{\"color\":\"white\",\"width\":0.5},\"pattern\":{\"fillmode\":\"overlay\",\"size\":10,\"solidity\":0.2}},\"type\":\"bar\"}],\"carpet\":[{\"aaxis\":{\"endlinecolor\":\"#2a3f5f\",\"gridcolor\":\"#C8D4E3\",\"linecolor\":\"#C8D4E3\",\"minorgridcolor\":\"#C8D4E3\",\"startlinecolor\":\"#2a3f5f\"},\"baxis\":{\"endlinecolor\":\"#2a3f5f\",\"gridcolor\":\"#C8D4E3\",\"linecolor\":\"#C8D4E3\",\"minorgridcolor\":\"#C8D4E3\",\"startlinecolor\":\"#2a3f5f\"},\"type\":\"carpet\"}],\"choropleth\":[{\"colorbar\":{\"outlinewidth\":0,\"ticks\":\"\"},\"type\":\"choropleth\"}],\"contourcarpet\":[{\"colorbar\":{\"outlinewidth\":0,\"ticks\":\"\"},\"type\":\"contourcarpet\"}],\"contour\":[{\"colorbar\":{\"outlinewidth\":0,\"ticks\":\"\"},\"colorscale\":[[0.0,\"#0d0887\"],[0.1111111111111111,\"#46039f\"],[0.2222222222222222,\"#7201a8\"],[0.3333333333333333,\"#9c179e\"],[0.4444444444444444,\"#bd3786\"],[0.5555555555555556,\"#d8576b\"],[0.6666666666666666,\"#ed7953\"],[0.7777777777777778,\"#fb9f3a\"],[0.8888888888888888,\"#fdca26\"],[1.0,\"#f0f921\"]],\"type\":\"contour\"}],\"heatmapgl\":[{\"colorbar\":{\"outlinewidth\":0,\"ticks\":\"\"},\"colorscale\":[[0.0,\"#0d0887\"],[0.1111111111111111,\"#46039f\"],[0.2222222222222222,\"#7201a8\"],[0.3333333333333333,\"#9c179e\"],[0.4444444444444444,\"#bd3786\"],[0.5555555555555556,\"#d8576b\"],[0.6666666666666666,\"#ed7953\"],[0.7777777777777778,\"#fb9f3a\"],[0.8888888888888888,\"#fdca26\"],[1.0,\"#f0f921\"]],\"type\":\"heatmapgl\"}],\"heatmap\":[{\"colorbar\":{\"outlinewidth\":0,\"ticks\":\"\"},\"colorscale\":[[0.0,\"#0d0887\"],[0.1111111111111111,\"#46039f\"],[0.2222222222222222,\"#7201a8\"],[0.3333333333333333,\"#9c179e\"],[0.4444444444444444,\"#bd3786\"],[0.5555555555555556,\"#d8576b\"],[0.6666666666666666,\"#ed7953\"],[0.7777777777777778,\"#fb9f3a\"],[0.8888888888888888,\"#fdca26\"],[1.0,\"#f0f921\"]],\"type\":\"heatmap\"}],\"histogram2dcontour\":[{\"colorbar\":{\"outlinewidth\":0,\"ticks\":\"\"},\"colorscale\":[[0.0,\"#0d0887\"],[0.1111111111111111,\"#46039f\"],[0.2222222222222222,\"#7201a8\"],[0.3333333333333333,\"#9c179e\"],[0.4444444444444444,\"#bd3786\"],[0.5555555555555556,\"#d8576b\"],[0.6666666666666666,\"#ed7953\"],[0.7777777777777778,\"#fb9f3a\"],[0.8888888888888888,\"#fdca26\"],[1.0,\"#f0f921\"]],\"type\":\"histogram2dcontour\"}],\"histogram2d\":[{\"colorbar\":{\"outlinewidth\":0,\"ticks\":\"\"},\"colorscale\":[[0.0,\"#0d0887\"],[0.1111111111111111,\"#46039f\"],[0.2222222222222222,\"#7201a8\"],[0.3333333333333333,\"#9c179e\"],[0.4444444444444444,\"#bd3786\"],[0.5555555555555556,\"#d8576b\"],[0.6666666666666666,\"#ed7953\"],[0.7777777777777778,\"#fb9f3a\"],[0.8888888888888888,\"#fdca26\"],[1.0,\"#f0f921\"]],\"type\":\"histogram2d\"}],\"histogram\":[{\"marker\":{\"pattern\":{\"fillmode\":\"overlay\",\"size\":10,\"solidity\":0.2}},\"type\":\"histogram\"}],\"mesh3d\":[{\"colorbar\":{\"outlinewidth\":0,\"ticks\":\"\"},\"type\":\"mesh3d\"}],\"parcoords\":[{\"line\":{\"colorbar\":{\"outlinewidth\":0,\"ticks\":\"\"}},\"type\":\"parcoords\"}],\"pie\":[{\"automargin\":true,\"type\":\"pie\"}],\"scatter3d\":[{\"line\":{\"colorbar\":{\"outlinewidth\":0,\"ticks\":\"\"}},\"marker\":{\"colorbar\":{\"outlinewidth\":0,\"ticks\":\"\"}},\"type\":\"scatter3d\"}],\"scattercarpet\":[{\"marker\":{\"colorbar\":{\"outlinewidth\":0,\"ticks\":\"\"}},\"type\":\"scattercarpet\"}],\"scattergeo\":[{\"marker\":{\"colorbar\":{\"outlinewidth\":0,\"ticks\":\"\"}},\"type\":\"scattergeo\"}],\"scattergl\":[{\"marker\":{\"colorbar\":{\"outlinewidth\":0,\"ticks\":\"\"}},\"type\":\"scattergl\"}],\"scattermapbox\":[{\"marker\":{\"colorbar\":{\"outlinewidth\":0,\"ticks\":\"\"}},\"type\":\"scattermapbox\"}],\"scatterpolargl\":[{\"marker\":{\"colorbar\":{\"outlinewidth\":0,\"ticks\":\"\"}},\"type\":\"scatterpolargl\"}],\"scatterpolar\":[{\"marker\":{\"colorbar\":{\"outlinewidth\":0,\"ticks\":\"\"}},\"type\":\"scatterpolar\"}],\"scatter\":[{\"fillpattern\":{\"fillmode\":\"overlay\",\"size\":10,\"solidity\":0.2},\"type\":\"scatter\"}],\"scatterternary\":[{\"marker\":{\"colorbar\":{\"outlinewidth\":0,\"ticks\":\"\"}},\"type\":\"scatterternary\"}],\"surface\":[{\"colorbar\":{\"outlinewidth\":0,\"ticks\":\"\"},\"colorscale\":[[0.0,\"#0d0887\"],[0.1111111111111111,\"#46039f\"],[0.2222222222222222,\"#7201a8\"],[0.3333333333333333,\"#9c179e\"],[0.4444444444444444,\"#bd3786\"],[0.5555555555555556,\"#d8576b\"],[0.6666666666666666,\"#ed7953\"],[0.7777777777777778,\"#fb9f3a\"],[0.8888888888888888,\"#fdca26\"],[1.0,\"#f0f921\"]],\"type\":\"surface\"}],\"table\":[{\"cells\":{\"fill\":{\"color\":\"#EBF0F8\"},\"line\":{\"color\":\"white\"}},\"header\":{\"fill\":{\"color\":\"#C8D4E3\"},\"line\":{\"color\":\"white\"}},\"type\":\"table\"}]},\"layout\":{\"annotationdefaults\":{\"arrowcolor\":\"#2a3f5f\",\"arrowhead\":0,\"arrowwidth\":1},\"autotypenumbers\":\"strict\",\"coloraxis\":{\"colorbar\":{\"outlinewidth\":0,\"ticks\":\"\"}},\"colorscale\":{\"diverging\":[[0,\"#8e0152\"],[0.1,\"#c51b7d\"],[0.2,\"#de77ae\"],[0.3,\"#f1b6da\"],[0.4,\"#fde0ef\"],[0.5,\"#f7f7f7\"],[0.6,\"#e6f5d0\"],[0.7,\"#b8e186\"],[0.8,\"#7fbc41\"],[0.9,\"#4d9221\"],[1,\"#276419\"]],\"sequential\":[[0.0,\"#0d0887\"],[0.1111111111111111,\"#46039f\"],[0.2222222222222222,\"#7201a8\"],[0.3333333333333333,\"#9c179e\"],[0.4444444444444444,\"#bd3786\"],[0.5555555555555556,\"#d8576b\"],[0.6666666666666666,\"#ed7953\"],[0.7777777777777778,\"#fb9f3a\"],[0.8888888888888888,\"#fdca26\"],[1.0,\"#f0f921\"]],\"sequentialminus\":[[0.0,\"#0d0887\"],[0.1111111111111111,\"#46039f\"],[0.2222222222222222,\"#7201a8\"],[0.3333333333333333,\"#9c179e\"],[0.4444444444444444,\"#bd3786\"],[0.5555555555555556,\"#d8576b\"],[0.6666666666666666,\"#ed7953\"],[0.7777777777777778,\"#fb9f3a\"],[0.8888888888888888,\"#fdca26\"],[1.0,\"#f0f921\"]]},\"colorway\":[\"#636efa\",\"#EF553B\",\"#00cc96\",\"#ab63fa\",\"#FFA15A\",\"#19d3f3\",\"#FF6692\",\"#B6E880\",\"#FF97FF\",\"#FECB52\"],\"font\":{\"color\":\"#2a3f5f\"},\"geo\":{\"bgcolor\":\"white\",\"lakecolor\":\"white\",\"landcolor\":\"white\",\"showlakes\":true,\"showland\":true,\"subunitcolor\":\"#C8D4E3\"},\"hoverlabel\":{\"align\":\"left\"},\"hovermode\":\"closest\",\"mapbox\":{\"style\":\"light\"},\"paper_bgcolor\":\"white\",\"plot_bgcolor\":\"white\",\"polar\":{\"angularaxis\":{\"gridcolor\":\"#EBF0F8\",\"linecolor\":\"#EBF0F8\",\"ticks\":\"\"},\"bgcolor\":\"white\",\"radialaxis\":{\"gridcolor\":\"#EBF0F8\",\"linecolor\":\"#EBF0F8\",\"ticks\":\"\"}},\"scene\":{\"xaxis\":{\"backgroundcolor\":\"white\",\"gridcolor\":\"#DFE8F3\",\"gridwidth\":2,\"linecolor\":\"#EBF0F8\",\"showbackground\":true,\"ticks\":\"\",\"zerolinecolor\":\"#EBF0F8\"},\"yaxis\":{\"backgroundcolor\":\"white\",\"gridcolor\":\"#DFE8F3\",\"gridwidth\":2,\"linecolor\":\"#EBF0F8\",\"showbackground\":true,\"ticks\":\"\",\"zerolinecolor\":\"#EBF0F8\"},\"zaxis\":{\"backgroundcolor\":\"white\",\"gridcolor\":\"#DFE8F3\",\"gridwidth\":2,\"linecolor\":\"#EBF0F8\",\"showbackground\":true,\"ticks\":\"\",\"zerolinecolor\":\"#EBF0F8\"}},\"shapedefaults\":{\"line\":{\"color\":\"#2a3f5f\"}},\"ternary\":{\"aaxis\":{\"gridcolor\":\"#DFE8F3\",\"linecolor\":\"#A2B1C6\",\"ticks\":\"\"},\"baxis\":{\"gridcolor\":\"#DFE8F3\",\"linecolor\":\"#A2B1C6\",\"ticks\":\"\"},\"bgcolor\":\"white\",\"caxis\":{\"gridcolor\":\"#DFE8F3\",\"linecolor\":\"#A2B1C6\",\"ticks\":\"\"}},\"title\":{\"x\":0.05},\"xaxis\":{\"automargin\":true,\"gridcolor\":\"#EBF0F8\",\"linecolor\":\"#EBF0F8\",\"ticks\":\"\",\"title\":{\"standoff\":15},\"zerolinecolor\":\"#EBF0F8\",\"zerolinewidth\":2},\"yaxis\":{\"automargin\":true,\"gridcolor\":\"#EBF0F8\",\"linecolor\":\"#EBF0F8\",\"ticks\":\"\",\"title\":{\"standoff\":15},\"zerolinecolor\":\"#EBF0F8\",\"zerolinewidth\":2}}},\"xaxis\":{\"anchor\":\"y\",\"domain\":[0.0,0.49],\"title\":{\"text\":\"Actual Cost, $\"},\"showgrid\":true,\"gridwidth\":1,\"gridcolor\":\"#EAEAEA\",\"zeroline\":true,\"zerolinewidth\":2,\"zerolinecolor\":\"#5E5E5E\"},\"yaxis\":{\"anchor\":\"x\",\"domain\":[0.0,0.46499999999999997],\"title\":{\"text\":\"Predicted Cost, $\"},\"showgrid\":true,\"gridwidth\":1,\"gridcolor\":\"#E3E3E3\",\"zeroline\":true,\"zerolinewidth\":2,\"zerolinecolor\":\"#5E5E5E\"},\"xaxis2\":{\"anchor\":\"y2\",\"domain\":[0.51,1.0],\"matches\":\"x\",\"title\":{\"text\":\"Actual Cost, $\"},\"showgrid\":true,\"gridwidth\":1,\"gridcolor\":\"#EAEAEA\",\"zeroline\":true,\"zerolinewidth\":2,\"zerolinecolor\":\"#5E5E5E\"},\"yaxis2\":{\"anchor\":\"x2\",\"domain\":[0.0,0.46499999999999997],\"matches\":\"y\",\"showticklabels\":false,\"showgrid\":true,\"gridwidth\":1,\"gridcolor\":\"#E3E3E3\",\"zeroline\":true,\"zerolinewidth\":2,\"zerolinecolor\":\"#5E5E5E\"},\"xaxis3\":{\"anchor\":\"y3\",\"domain\":[0.0,0.49],\"matches\":\"x\",\"showticklabels\":false,\"showgrid\":true,\"gridwidth\":1,\"gridcolor\":\"#EAEAEA\",\"zeroline\":true,\"zerolinewidth\":2,\"zerolinecolor\":\"#5E5E5E\"},\"yaxis3\":{\"anchor\":\"x3\",\"domain\":[0.5349999999999999,0.9999999999999999],\"matches\":\"y\",\"title\":{\"text\":\"Predicted Cost, $\"},\"showgrid\":true,\"gridwidth\":1,\"gridcolor\":\"#E3E3E3\",\"zeroline\":true,\"zerolinewidth\":2,\"zerolinecolor\":\"#5E5E5E\"},\"xaxis4\":{\"anchor\":\"y4\",\"domain\":[0.51,1.0],\"matches\":\"x\",\"showticklabels\":false,\"showgrid\":true,\"gridwidth\":1,\"gridcolor\":\"#EAEAEA\",\"zeroline\":true,\"zerolinewidth\":2,\"zerolinecolor\":\"#5E5E5E\"},\"yaxis4\":{\"anchor\":\"x4\",\"domain\":[0.5349999999999999,0.9999999999999999],\"matches\":\"y\",\"showticklabels\":false,\"showgrid\":true,\"gridwidth\":1,\"gridcolor\":\"#E3E3E3\",\"zeroline\":true,\"zerolinewidth\":2,\"zerolinecolor\":\"#5E5E5E\"},\"annotations\":[{\"showarrow\":false,\"text\":\"Northwest\",\"x\":0.245,\"xanchor\":\"center\",\"xref\":\"paper\",\"y\":0.46499999999999997,\"yanchor\":\"bottom\",\"yref\":\"paper\"},{\"showarrow\":false,\"text\":\"Northeast\",\"x\":0.755,\"xanchor\":\"center\",\"xref\":\"paper\",\"y\":0.46499999999999997,\"yanchor\":\"bottom\",\"yref\":\"paper\"},{\"showarrow\":false,\"text\":\"Southwest\",\"x\":0.245,\"xanchor\":\"center\",\"xref\":\"paper\",\"y\":0.9999999999999999,\"yanchor\":\"bottom\",\"yref\":\"paper\"},{\"showarrow\":false,\"text\":\"Southeast\",\"x\":0.755,\"xanchor\":\"center\",\"xref\":\"paper\",\"y\":0.9999999999999999,\"yanchor\":\"bottom\",\"yref\":\"paper\"},{\"showarrow\":false,\"text\":\"Adj. R-Squared = 72.2%<br>RMSE = 5,120\",\"x\":51000.0,\"xref\":\"x3\",\"y\":15000.0,\"yref\":\"y3\"},{\"showarrow\":false,\"text\":\"Adj. R-Squared = 88.9%<br>RMSE = 4,276\",\"x\":51000.0,\"xref\":\"x4\",\"y\":15000.0,\"yref\":\"y4\"},{\"showarrow\":false,\"text\":\"Adj. R-Squared = 65.3%<br>RMSE = 6,092\",\"x\":51000.0,\"xref\":\"x\",\"y\":15000.0,\"yref\":\"y\"},{\"showarrow\":false,\"text\":\"Adj. R-Squared = 69.8%<br>RMSE = 4,689\",\"x\":51000.0,\"xref\":\"x2\",\"y\":15000.0,\"yref\":\"y2\"}],\"legend\":{\"title\":{\"text\":\"index\"},\"tracegroupgap\":0},\"title\":{\"text\":\"Actual vs Predicted Insurance Costs by Region,<br>Support Vector Regression\"},\"height\":700,\"font\":{\"color\":\"#303030\"},\"paper_bgcolor\":\"white\",\"plot_bgcolor\":\"white\"},                        {\"responsive\": true}                    ).then(function(){\n",
       "                            \n",
       "var gd = document.getElementById('25b4fc7e-2b6c-4ca4-8d61-4564ed2320f5');\n",
       "var x = new MutationObserver(function (mutations, observer) {{\n",
       "        var display = window.getComputedStyle(gd).display;\n",
       "        if (!display || display === 'none') {{\n",
       "            console.log([gd, 'removed!']);\n",
       "            Plotly.purge(gd);\n",
       "            observer.disconnect();\n",
       "        }}\n",
       "}});\n",
       "\n",
       "// Listen for the removal of the full notebook cells\n",
       "var notebookContainer = gd.closest('#notebook-container');\n",
       "if (notebookContainer) {{\n",
       "    x.observe(notebookContainer, {childList: true});\n",
       "}}\n",
       "\n",
       "// Listen for the clearing of the current output cell\n",
       "var outputEl = gd.closest('.output');\n",
       "if (outputEl) {{\n",
       "    x.observe(outputEl, {childList: true});\n",
       "}}\n",
       "\n",
       "                        })                };                });            </script>        </div>"
      ]
     },
     "metadata": {},
     "output_type": "display_data"
    }
   ],
   "source": [
    "actuals=[]\n",
    "preds=[]\n",
    "rmses=[]\n",
    "r2_scores=[]\n",
    "adj_r2_scores=[]\n",
    "feat_importance=pd.DataFrame()\n",
    "\n",
    "for i in regions:\n",
    "    \n",
    "    print(\"\\nRegion: {}\\n\".format(i))\n",
    "    \n",
    "    # Filter data by region\n",
    "    ins_df = ins[ins.region==i]\n",
    "    X=ins_df.drop(['charges', 'region'], axis=1)\n",
    "    y=ins_df.charges\n",
    "    \n",
    "    # Add polynomial features\n",
    "    pf = PolynomialFeatures(degree=2, include_bias=False)\n",
    "    X_pf = pd.DataFrame(data=pf.fit_transform(X), columns=pf.get_feature_names(X.columns))\n",
    "    \n",
    "    # Create training and test sets\n",
    "    X_train, X_test, y_train, y_test = train_test_split(X_pf, y, test_size=0.2, random_state=1)\n",
    "    X_train = pd.DataFrame(X_train, columns = X_pf.columns)\n",
    "    X_test = pd.DataFrame(X_test, columns = X_pf.columns)\n",
    "    actuals.append(pd.Series(y_test, name='actuals').reset_index())\n",
    "    \n",
    "    # Scale features\n",
    "    X_train = pd.DataFrame(data=s.fit_transform(X_train), columns=X_pf.columns)\n",
    "    X_test = pd.DataFrame(data=s.transform(X_test), columns=X_pf.columns)\n",
    "    \n",
    "    # Tuning SVM\n",
    "    grid = {'kernel':['linear','rbf','poly','sigmoid'],\n",
    "            'C': np.logspace(-3, 3, 10),\n",
    "            'gamma':np.logspace(-3, 3, 10)}\n",
    "    svm = SVR()\n",
    "    svm_cv=RandomizedSearchCV(estimator=svm, param_distributions=grid, scoring='neg_mean_squared_error', \n",
    "                              n_iter=10, cv=3, random_state=21, n_jobs=-1)\n",
    "    svm_cv.fit(X_train, y_train)\n",
    "    print(\"Best SVM Parameters:\\n\",svm_cv.best_params_)\n",
    "    y_pred=svm_cv.predict(X_test)\n",
    "    preds.append(pd.Series(y_pred, name='preds').reset_index(drop=True))\n",
    "    rmse=np.sqrt(mean_squared_error(y_test, y_pred)).round(2)\n",
    "    r2=r2_score(y_test, y_pred)\n",
    "    adj_r2 = 1 - (1-r2)*(len(y_test)-1)/(len(y_test)-X_test.shape[1]-1)\n",
    "    rmses.append(rmse)\n",
    "    r2_scores.append(r2)\n",
    "    adj_r2_scores.append(adj_r2)\n",
    "    \n",
    "    print(\"\\nTest Error (RMSE) = {:,}\".format(rmse))\n",
    "    print(\"R-Squared = {:.2f}%, Adjusted R-Squared = {:.2f}%\".format(r2*100, adj_r2*100))\n",
    "    if i != 'Northeast':\n",
    "        print(\"__________________________\")\n",
    "\n",
    "    \n",
    "# Plot results\n",
    "for i in range(0,4):\n",
    "    actuals[i].loc[:,'index']=regions[i]\n",
    "actual = pd.concat([actuals[i] for i in range(4)], axis = 0)\n",
    "pred = pd.concat([preds[i] for i in range(4)], axis = 0)\n",
    "df = pd.concat([actual, pred], axis=1).reset_index(drop=True)\n",
    "\n",
    "fig = px.scatter(df, x=\"actuals\", y=\"preds\", color=\"index\", trendline=\"lowess\", height=700,\n",
    "                 title=\"Actual vs Predicted Insurance Costs by Region,<br>Support Vector Regression\",\n",
    "                 color_discrete_sequence=col, opacity=0.7, facet_col='index', facet_col_wrap=2)\n",
    "\n",
    "fig.for_each_annotation(lambda a: a.update(text=a.text.split(\"=\")[-1]))\n",
    "fig.add_annotation(text=\"Adj. R-Squared = {:.1f}%<br>RMSE = {:,.0f}\".format(adj_r2_scores[0]*100,rmses[0]),\n",
    "                   x=51e3,y=15e3, row=2,col=1, showarrow=False)\n",
    "fig.add_annotation(text=\"Adj. R-Squared = {:.1f}%<br>RMSE = {:,.0f}\".format(adj_r2_scores[1]*100,rmses[1]),\n",
    "                   x=51e3,y=15e3, row=2,col=2, showarrow=False)\n",
    "fig.add_annotation(text=\"Adj. R-Squared = {:.1f}%<br>RMSE = {:,.0f}\".format(adj_r2_scores[2]*100,rmses[2]),\n",
    "                   x=51e3,y=15e3, row=1,col=1, showarrow=False)\n",
    "fig.add_annotation(text=\"Adj. R-Squared = {:.1f}%<br>RMSE = {:,.0f}\".format(adj_r2_scores[3]*100,rmses[3]),\n",
    "                   x=51e3,y=15e3, row=1,col=2, showarrow=False)\n",
    "\n",
    "fig.update_traces(hovertemplate=\"Actual Cost: %{x:$,.2f}<br>Predicted Cost: %{y:$,.2f}\",\n",
    "                  marker=dict(size=10,line=dict(width=1,color=\"#F7F7F7\")),\n",
    "                  selector=dict(mode=\"markers\"), showlegend=False)\n",
    "fig.update_xaxes(title=\"Actual Cost, $\", row=1)\n",
    "fig.update_xaxes(showgrid=True, gridwidth=1, gridcolor='#EAEAEA',\n",
    "                 zeroline=True, zerolinewidth=2, zerolinecolor='#5E5E5E')\n",
    "fig.update_yaxes(title=\"Predicted Cost, $\", col=1)\n",
    "fig.update_yaxes(showgrid=True, gridwidth=1, gridcolor='#E3E3E3',\n",
    "                 zeroline=True, zerolinewidth=2, zerolinecolor='#5E5E5E')\n",
    "fig.update_layout(font_color=\"#303030\", paper_bgcolor=\"white\", plot_bgcolor=\"white\")\n",
    "fig.show()"
   ]
  },
  {
   "cell_type": "markdown",
   "metadata": {},
   "source": [
    "## <b><span style='color:#5477A5'>7.1</span> | Model Summary</b>"
   ]
  },
  {
   "cell_type": "code",
   "execution_count": 16,
   "metadata": {
    "_kg_hide-input": true,
    "execution": {
     "iopub.execute_input": "2022-01-25T00:33:41.139014Z",
     "iopub.status.busy": "2022-01-25T00:33:41.138669Z",
     "iopub.status.idle": "2022-01-25T00:33:41.149535Z",
     "shell.execute_reply": "2022-01-25T00:33:41.148957Z",
     "shell.execute_reply.started": "2022-01-25T00:33:41.138986Z"
    }
   },
   "outputs": [
    {
     "data": {
      "text/html": [
       "<div>\n",
       "<style scoped>\n",
       "    .dataframe tbody tr th:only-of-type {\n",
       "        vertical-align: middle;\n",
       "    }\n",
       "\n",
       "    .dataframe tbody tr th {\n",
       "        vertical-align: top;\n",
       "    }\n",
       "\n",
       "    .dataframe thead th {\n",
       "        text-align: right;\n",
       "    }\n",
       "</style>\n",
       "<table border=\"1\" class=\"dataframe\">\n",
       "  <thead>\n",
       "    <tr style=\"text-align: right;\">\n",
       "      <th></th>\n",
       "      <th>Average RMSE</th>\n",
       "      <th>Avg. Adjusted R2</th>\n",
       "    </tr>\n",
       "  </thead>\n",
       "  <tbody>\n",
       "    <tr>\n",
       "      <th>SVM</th>\n",
       "      <td>5044.375</td>\n",
       "      <td>0.740378</td>\n",
       "    </tr>\n",
       "    <tr>\n",
       "      <th>KNN</th>\n",
       "      <td>5370.0125</td>\n",
       "      <td>0.699643</td>\n",
       "    </tr>\n",
       "    <tr>\n",
       "      <th>Linear Regression</th>\n",
       "      <td>5646.52</td>\n",
       "      <td>0.741028</td>\n",
       "    </tr>\n",
       "  </tbody>\n",
       "</table>\n",
       "</div>"
      ],
      "text/plain": [
       "                  Average RMSE Avg. Adjusted R2\n",
       "SVM                   5044.375         0.740378\n",
       "KNN                  5370.0125         0.699643\n",
       "Linear Regression      5646.52         0.741028"
      ]
     },
     "metadata": {},
     "output_type": "display_data"
    }
   ],
   "source": [
    "mod_res.iloc[2,0]=pd.Series(rmses).mean()\n",
    "mod_res.iloc[2,1]=pd.Series(adj_r2_scores).mean()\n",
    "display(mod_res.iloc[:3,].sort_values(\"Average RMSE\"))"
   ]
  },
  {
   "cell_type": "markdown",
   "metadata": {},
   "source": [
    "Support Vector Regression produces the lowest average test error out of the three models with an adjusted $R^2$ score of 74%. Using a polynomial kernel, the SVM models produce a lower test error across all four regions. The Northeast model made the biggest improvement with a nearly 1,000 decrease in RMSE from the KNN model. "
   ]
  },
  {
   "cell_type": "markdown",
   "metadata": {},
   "source": [
    "# <div style=\"color:white;display:fill;border-radius:5px;background-color:#84A3C3;overflow:hidden\"><p style=\"padding:20px;color:white;overflow:hidden;font-size:100%;margin:0\"><b>8 |</b> Gradient Boosting</p></div>"
   ]
  },
  {
   "cell_type": "code",
   "execution_count": 17,
   "metadata": {
    "_kg_hide-input": true,
    "execution": {
     "iopub.execute_input": "2022-01-25T00:33:41.15131Z",
     "iopub.status.busy": "2022-01-25T00:33:41.151098Z",
     "iopub.status.idle": "2022-01-25T00:37:07.851178Z",
     "shell.execute_reply": "2022-01-25T00:37:07.850344Z",
     "shell.execute_reply.started": "2022-01-25T00:33:41.151283Z"
    }
   },
   "outputs": [
    {
     "name": "stdout",
     "output_type": "stream",
     "text": [
      "\n",
      "Region: Southwest\n",
      "\n",
      "Train Shape:(260, 20) (260,)  Test Shape:(65, 20) (65,)\n",
      "Test Error (RMSE) = 4,117.69\n",
      "R-Squared = 87.64%, Adjusted R-Squared = 82.03%\n",
      "__________________________\n",
      "\n",
      "Region: Southeast\n",
      "\n",
      "Train Shape:(291, 20) (291,)  Test Shape:(73, 20) (73,)\n",
      "Test Error (RMSE) = 3,212.02\n",
      "R-Squared = 95.48%, Adjusted R-Squared = 93.74%\n",
      "__________________________\n",
      "\n",
      "Region: Northwest\n",
      "\n",
      "Train Shape:(260, 20) (260,)  Test Shape:(65, 20) (65,)\n",
      "Test Error (RMSE) = 4,559.91\n",
      "R-Squared = 86.63%, Adjusted R-Squared = 80.55%\n",
      "__________________________\n",
      "\n",
      "Region: Northeast\n",
      "\n",
      "Train Shape:(259, 20) (259,)  Test Shape:(65, 20) (65,)\n",
      "Test Error (RMSE) = 5,275.79\n",
      "R-Squared = 73.68%, Adjusted R-Squared = 61.71%\n"
     ]
    },
    {
     "data": {
      "application/vnd.plotly.v1+json": {
       "config": {
        "plotlyServerURL": "https://plot.ly"
       },
       "data": [
        {
         "hovertemplate": "Actual Cost: %{x:$,.2f}<br>Predicted Cost: %{y:$,.2f}",
         "legendgroup": "Southwest",
         "marker": {
          "color": "#B14B51",
          "line": {
           "color": "#F7F7F7",
           "width": 1
          },
          "opacity": 0.7,
          "size": 10,
          "symbol": "circle"
         },
         "mode": "markers",
         "name": "Southwest",
         "orientation": "v",
         "showlegend": false,
         "type": "scatter",
         "x": [
          3761.292,
          11674.13,
          6311.952,
          14319.031,
          11552.904,
          5080.096,
          8269.044,
          3693.428,
          36837.467,
          13224.693,
          23306.547,
          35160.13457,
          12347.172,
          10065.413,
          5488.262,
          38711,
          7196.867,
          6571.544,
          5979.731,
          34828.654,
          6600.361,
          39836.519,
          1256.299,
          1242.26,
          4762.329,
          9264.797,
          13470.86,
          1759.338,
          1241.565,
          48173.361,
          16232.847,
          25309.489,
          10791.96,
          4751.07,
          8556.907,
          42856.838,
          8277.523,
          11576.13,
          7623.518,
          12146.971,
          20630.28351,
          4646.759,
          26140.3603,
          2007.945,
          8444.474,
          17081.08,
          13822.803,
          8825.086,
          37079.372,
          10096.97,
          11411.685,
          14988.432,
          11362.755,
          6875.961,
          10795.93733,
          18259.216,
          1261.859,
          17942.106,
          11150.78,
          38415.474,
          8522.003,
          8703.456,
          3987.926,
          1964.78,
          1743.214
         ],
         "xaxis": "x3",
         "y": [
          5194.615631427988,
          11013.738254346084,
          7474.145374430177,
          14190.526380820265,
          11936.72367688087,
          4474.477805446251,
          9996.837837499339,
          5844.749674047692,
          38292.18998438621,
          14793.550480661328,
          24717.3538098108,
          10801.690224946107,
          16161.71746845606,
          10336.85862976391,
          7090.024800190971,
          41206.3323871548,
          8631.131154185767,
          8069.584970575805,
          7640.239691793349,
          32894.36666000996,
          7836.83613549636,
          41004.64535092994,
          2864.165501005381,
          2501.909521128163,
          6119.776746658974,
          9514.334098330419,
          14131.461400086424,
          3058.7713791969645,
          2501.909521128163,
          48081.2857387927,
          15768.450033611434,
          30837.714489584992,
          10450.207148355803,
          5421.303336450241,
          9624.146496355535,
          43111.554438201376,
          10553.520648647442,
          10821.99198125225,
          7344.781737358411,
          13468.597412455707,
          11565.413152670433,
          7572.223290869513,
          10766.145445292914,
          2685.0139914156784,
          10365.405663545738,
          17997.12165631137,
          15396.083235766306,
          9694.94964116612,
          37056.988809499555,
          11254.266281319044,
          13221.447548142425,
          14934.970659238417,
          12300.734929952723,
          7584.674747460682,
          3929.7689239109086,
          19002.88262370815,
          3831.0258564867986,
          16916.125456792677,
          11505.204142645047,
          39355.19765305582,
          9083.95649362571,
          10013.323415350142,
          5234.690171246745,
          2415.6000826039376,
          3053.6470272554348
         ],
         "yaxis": "y3"
        },
        {
         "hovertemplate": "<b>LOWESS trendline</b><br><br>index=Southwest<br>actuals=%{x}<br>preds=%{y} <b>(trend)</b><extra></extra>",
         "legendgroup": "Southwest",
         "marker": {
          "color": "#B14B51",
          "symbol": "circle"
         },
         "mode": "lines",
         "name": "Southwest",
         "showlegend": false,
         "type": "scatter",
         "x": [
          1241.565,
          1242.26,
          1256.299,
          1261.859,
          1743.214,
          1759.338,
          1964.78,
          2007.945,
          3693.428,
          3761.292,
          3987.926,
          4646.759,
          4751.07,
          4762.329,
          5080.096,
          5488.262,
          5979.731,
          6311.952,
          6571.544,
          6600.361,
          6875.961,
          7196.867,
          7623.518,
          8269.044,
          8277.523,
          8444.474,
          8522.003,
          8556.907,
          8703.456,
          8825.086,
          9264.797,
          10065.413,
          10096.97,
          10791.96,
          10795.93733,
          11150.78,
          11362.755,
          11411.685,
          11552.904,
          11576.13,
          11674.13,
          12146.971,
          12347.172,
          13224.693,
          13470.86,
          13822.803,
          14319.031,
          14988.432,
          16232.847,
          17081.08,
          17942.106,
          18259.216,
          20630.28351,
          23306.547,
          25309.489,
          26140.3603,
          34828.654,
          35160.13457,
          36837.467,
          37079.372,
          38415.474,
          38711,
          39836.519,
          42856.838,
          48173.361
         ],
         "xaxis": "x3",
         "y": [
          2653.957686544016,
          2654.6279915684227,
          2668.1679627584813,
          2673.5302273187162,
          3137.4834560541663,
          3153.0123689108054,
          3350.7832064796503,
          3392.3138399542727,
          5008.343776638421,
          5073.241067972392,
          5289.922627703597,
          5919.622292192766,
          6019.334322795406,
          6030.097765962682,
          6333.978765460519,
          6724.908415368251,
          7198.230364295012,
          7521.254841320249,
          7773.946646114557,
          7801.764839811475,
          8056.450660872672,
          8331.326133177625,
          8698.806789083246,
          9269.85380257002,
          9277.478415089294,
          9428.203634760373,
          9498.659679028102,
          9530.435875180401,
          9664.09993364686,
          9775.18630263395,
          10174.962184009955,
          10897.189288268257,
          10925.532046891496,
          11548.928057300165,
          11552.483889492594,
          11868.635440562532,
          12057.418738334829,
          12101.068832233517,
          12227.242102422235,
          12248.021128019634,
          12335.779440961713,
          12760.876998793186,
          12940.285934251671,
          13735.552631409519,
          13959.382394770457,
          14279.170712123401,
          14734.445835239625,
          15375.190045109237,
          16624.78047404244,
          17485.469185573344,
          18354.30652779451,
          18672.92640463999,
          21077.740528606537,
          23722.91263375432,
          25842.13114081242,
          26711.8789539612,
          35432.72898023668,
          35762.57017392833,
          37432.41101783588,
          37673.35575141508,
          39004.67621263075,
          39299.258212296336,
          40421.46859367814,
          43432.914055855894,
          48720.42628469442
         ],
         "yaxis": "y3"
        },
        {
         "hovertemplate": "Actual Cost: %{x:$,.2f}<br>Predicted Cost: %{y:$,.2f}",
         "legendgroup": "Southeast",
         "marker": {
          "color": "#D0A99C",
          "line": {
           "color": "#F7F7F7",
           "width": 1
          },
          "opacity": 0.7,
          "size": 10,
          "symbol": "circle"
         },
         "mode": "markers",
         "name": "Southeast",
         "orientation": "v",
         "showlegend": false,
         "type": "scatter",
         "x": [
          44202.6536,
          6781.3542,
          5478.0368,
          32548.3405,
          1815.8759,
          11093.6229,
          11090.7178,
          13470.8044,
          47269.854,
          10107.2206,
          38282.7495,
          19350.3689,
          1615.7667,
          40974.1649,
          1824.2854,
          7243.8136,
          36950.2567,
          41999.52,
          6184.2994,
          20462.99766,
          7152.6714,
          2219.4451,
          8232.6388,
          4266.1658,
          19521.9682,
          27808.7251,
          16586.49771,
          5966.8874,
          4504.6624,
          3500.6123,
          4340.4409,
          5974.3847,
          3227.1211,
          11363.2832,
          12592.5345,
          6313.759,
          5920.1041,
          12142.5786,
          3561.8889,
          4673.3922,
          46599.1084,
          2566.4707,
          41676.0811,
          8978.1851,
          48970.2476,
          24667.419,
          8596.8278,
          38709.176,
          1136.3994,
          18806.14547,
          1981.5819,
          1131.5066,
          6500.2359,
          1146.7966,
          8547.6913,
          39611.7577,
          11881.9696,
          48675.5177,
          44400.4064,
          18223.4512,
          28287.89766,
          9855.1314,
          10702.6424,
          5245.2269,
          1664.9996,
          2464.6188,
          9377.9047,
          10226.2842,
          36124.5737,
          4779.6023,
          6338.0756,
          42112.2356,
          1633.9618
         ],
         "xaxis": "x4",
         "y": [
          44560.969440330264,
          7643.249301299456,
          4941.410399760841,
          31568.904154435586,
          3731.093417626308,
          14307.849260379659,
          12855.38866869515,
          15969.930921964751,
          46964.99582461899,
          11422.58933404289,
          37110.58370162507,
          23040.19207847872,
          3340.1244647849135,
          44044.30824302048,
          4091.426871947585,
          8158.809513940939,
          35955.689068815984,
          43745.613706669385,
          6297.899917288916,
          16821.577947213464,
          8669.91241210659,
          3670.703498028214,
          8366.180995718621,
          6262.078145330169,
          19826.783244144455,
          30279.806960172155,
          3608.115096702893,
          7042.806165461979,
          6859.719430658683,
          4400.4838738081235,
          5100.341734704636,
          5835.448176139753,
          5227.950412079155,
          12150.794674184415,
          19174.84383304879,
          6396.084175347679,
          7273.9653444291425,
          13358.98301154723,
          5417.244735868891,
          5725.1166474405145,
          46980.53187498954,
          4916.95120390531,
          44311.834537872724,
          8729.454379838533,
          47302.92210824306,
          27363.067702283864,
          12352.12755028851,
          37722.005026774845,
          2702.3746624373207,
          8807.491265288376,
          4405.79201360275,
          3274.7958584055673,
          6878.375020186041,
          3214.264180453648,
          9518.502346537998,
          38046.03985109837,
          13688.807999774217,
          47703.770757891216,
          46779.94971106279,
          20757.906820010237,
          13335.47187637889,
          10062.279528125377,
          13845.089397533427,
          6109.792764562036,
          3287.401544240322,
          3900.4621613911513,
          10069.182845318885,
          12046.99046646884,
          36095.46420221343,
          4708.351237342133,
          7330.840850299176,
          39518.58648387046,
          3349.507741025428
         ],
         "yaxis": "y4"
        },
        {
         "hovertemplate": "<b>LOWESS trendline</b><br><br>index=Southeast<br>actuals=%{x}<br>preds=%{y} <b>(trend)</b><extra></extra>",
         "legendgroup": "Southeast",
         "marker": {
          "color": "#D0A99C",
          "symbol": "circle"
         },
         "mode": "lines",
         "name": "Southeast",
         "showlegend": false,
         "type": "scatter",
         "x": [
          1131.5066,
          1136.3994,
          1146.7966,
          1615.7667,
          1633.9618,
          1664.9996,
          1815.8759,
          1824.2854,
          1981.5819,
          2219.4451,
          2464.6188,
          2566.4707,
          3227.1211,
          3500.6123,
          3561.8889,
          4266.1658,
          4340.4409,
          4504.6624,
          4673.3922,
          4779.6023,
          5245.2269,
          5478.0368,
          5920.1041,
          5966.8874,
          5974.3847,
          6184.2994,
          6313.759,
          6338.0756,
          6500.2359,
          6781.3542,
          7152.6714,
          7243.8136,
          8232.6388,
          8547.6913,
          8596.8278,
          8978.1851,
          9377.9047,
          9855.1314,
          10107.2206,
          10226.2842,
          10702.6424,
          11090.7178,
          11093.6229,
          11363.2832,
          11881.9696,
          12142.5786,
          12592.5345,
          13470.8044,
          16586.49771,
          18223.4512,
          18806.14547,
          19350.3689,
          19521.9682,
          20462.99766,
          24667.419,
          27808.7251,
          28287.89766,
          32548.3405,
          36124.5737,
          36950.2567,
          38282.7495,
          38709.176,
          39611.7577,
          40974.1649,
          41676.0811,
          41999.52,
          42112.2356,
          44202.6536,
          44400.4064,
          46599.1084,
          47269.854,
          48675.5177,
          48970.2476
         ],
         "xaxis": "x4",
         "y": [
          2970.5444293869946,
          2974.558878597978,
          2983.0904424366495,
          3369.18914795189,
          3384.222096254704,
          3409.8754443931766,
          3534.754778470521,
          3541.7240918131456,
          3672.259382828242,
          3870.311202178817,
          4075.3092472445583,
          4160.736512758538,
          4718.8263427099455,
          4951.953635991014,
          5004.358977109011,
          5611.267964763019,
          5675.767656900337,
          5818.705205585498,
          5966.031342550013,
          6059.002324795889,
          6468.574349980188,
          6674.45039205751,
          7066.920622024341,
          7108.54601590453,
          7115.217939204229,
          7302.135634722801,
          7417.497276311312,
          7439.171927231838,
          7583.775192021214,
          7835.078891636342,
          8172.635614193745,
          8257.936307148018,
          9363.75774468302,
          9721.293307559617,
          9777.1323273789,
          10211.089544619592,
          10667.31892629531,
          11213.939872698593,
          11509.082866309389,
          11651.295863866057,
          12208.219660250112,
          12656.000601582155,
          12659.57897633727,
          12964.743684382123,
          13523.604548976273,
          13800.499661404408,
          14278.44154677671,
          15218.642829053098,
          18571.18110636455,
          20288.02402197458,
          20836.345619090065,
          21325.32756367602,
          21473.711199045334,
          22304.3551501028,
          25637.48544207885,
          28552.16737502059,
          29006.12750995795,
          33005.351864042525,
          36313.951097108875,
          37075.19527945736,
          38302.741632918434,
          38695.4587674586,
          39526.70370743273,
          40782.0411348324,
          41429.359418786196,
          41727.809497482056,
          41831.843851535625,
          43764.09956383419,
          43947.19434844292,
          45986.656153438715,
          46610.153965249854,
          47918.64282855097,
          48193.28773239007
         ],
         "yaxis": "y4"
        },
        {
         "hovertemplate": "Actual Cost: %{x:$,.2f}<br>Predicted Cost: %{y:$,.2f}",
         "legendgroup": "Northwest",
         "marker": {
          "color": "#5D8370",
          "line": {
           "color": "#F7F7F7",
           "width": 1
          },
          "opacity": 0.7,
          "size": 10,
          "symbol": "circle"
         },
         "mode": "markers",
         "name": "Northwest",
         "orientation": "v",
         "showlegend": false,
         "type": "scatter",
         "x": [
          9174.13565,
          4433.3877,
          21774.32215,
          7731.85785,
          33471.97189,
          4618.0799,
          3594.17085,
          12235.8392,
          6203.90175,
          11840.77505,
          4466.6214,
          8162.71625,
          6393.60345,
          1906.35825,
          23967.38305,
          2775.19215,
          3537.703,
          32787.45859,
          6112.35295,
          9301.89355,
          11945.1327,
          6389.37785,
          23807.2406,
          10264.4421,
          4243.59005,
          16455.70785,
          8413.46305,
          26018.95052,
          60021.39897,
          3579.8287,
          12479.70895,
          5855.9025,
          7153.5539,
          1635.73365,
          6986.697,
          43921.1837,
          15019.76005,
          29330.98315,
          5630.45785,
          8827.2099,
          8059.6791,
          5729.0053,
          14382.70905,
          29141.3603,
          38746.3551,
          3877.30425,
          42760.5022,
          6373.55735,
          28950.4692,
          16420.49455,
          10600.5483,
          18033.9679,
          39983.42595,
          6940.90985,
          4239.89265,
          6360.9936,
          8116.26885,
          6796.86325,
          2136.88225,
          33307.5508,
          13415.0381,
          10976.24575,
          3353.4703,
          5261.46945,
          5989.52365
         ],
         "xaxis": "x",
         "y": [
          11126.270351162459,
          8221.75784895452,
          21663.471362494605,
          10025.806890647375,
          14358.887732490291,
          7606.033099136951,
          4464.475340554435,
          12627.864585210296,
          8283.433946247724,
          11901.08347480634,
          6931.081570947542,
          9653.35980348435,
          8071.466988129577,
          3462.894339950391,
          25973.655767342174,
          5700.128584993465,
          8560.781516697554,
          24567.573558674154,
          7251.477356079721,
          10811.236976127158,
          13881.085946476456,
          7297.756413624634,
          25393.374291458553,
          12049.097328882017,
          5529.755770027403,
          16640.947935003413,
          11496.309953597749,
          7035.772847519125,
          44521.85157973165,
          7359.91171327527,
          13283.318498153481,
          6458.439825141441,
          7595.956375931327,
          4519.703883140422,
          9299.820207032391,
          42054.112204070334,
          16056.31317391771,
          28346.85947180195,
          7612.725636529631,
          10492.715850349545,
          8247.612737003605,
          8499.581755791285,
          14980.725576751554,
          28613.567306571556,
          38615.91817999026,
          7997.333860043743,
          43665.48717732414,
          10590.356793055611,
          28311.28703480437,
          22657.03203077406,
          13466.042582675474,
          17824.735808212172,
          42689.00588359781,
          7293.047561692712,
          5394.708844714091,
          11186.236254828571,
          9699.498406433726,
          7908.04938728265,
          3861.512384329114,
          33772.46172202779,
          14270.20282384113,
          12491.648246780858,
          4403.7175331399485,
          8523.588390855883,
          10162.336563593835
         ],
         "yaxis": "y"
        },
        {
         "hovertemplate": "<b>LOWESS trendline</b><br><br>index=Northwest<br>actuals=%{x}<br>preds=%{y} <b>(trend)</b><extra></extra>",
         "legendgroup": "Northwest",
         "marker": {
          "color": "#5D8370",
          "symbol": "circle"
         },
         "mode": "lines",
         "name": "Northwest",
         "showlegend": false,
         "type": "scatter",
         "x": [
          1635.73365,
          1906.35825,
          2136.88225,
          2775.19215,
          3353.4703,
          3537.703,
          3579.8287,
          3594.17085,
          3877.30425,
          4239.89265,
          4243.59005,
          4433.3877,
          4466.6214,
          4618.0799,
          5261.46945,
          5630.45785,
          5729.0053,
          5855.9025,
          5989.52365,
          6112.35295,
          6203.90175,
          6360.9936,
          6373.55735,
          6389.37785,
          6393.60345,
          6796.86325,
          6940.90985,
          6986.697,
          7153.5539,
          7731.85785,
          8059.6791,
          8116.26885,
          8162.71625,
          8413.46305,
          8827.2099,
          9174.13565,
          9301.89355,
          10264.4421,
          10600.5483,
          10976.24575,
          11840.77505,
          11945.1327,
          12235.8392,
          12479.70895,
          13415.0381,
          14382.70905,
          15019.76005,
          16420.49455,
          16455.70785,
          18033.9679,
          21774.32215,
          23807.2406,
          23967.38305,
          26018.95052,
          28950.4692,
          29141.3603,
          29330.98315,
          32787.45859,
          33307.5508,
          33471.97189,
          38746.3551,
          39983.42595,
          42760.5022,
          43921.1837,
          60021.39897
         ],
         "xaxis": "x",
         "y": [
          4323.869999616355,
          4562.576717451614,
          4765.256979263108,
          5323.67373138568,
          5827.157912541166,
          5987.3096930957845,
          6023.923810938516,
          6036.389350139349,
          6282.492573555547,
          6597.8458214681295,
          6601.06303669638,
          6766.263377668661,
          6795.202622090951,
          6927.145422415249,
          7488.609652180733,
          7810.874316095087,
          7896.838801204885,
          8007.3831447730445,
          8123.514938544599,
          8229.926023749887,
          8308.95562191788,
          8443.838109413678,
          8454.579255256804,
          8468.093885775903,
          8471.701514662682,
          8811.173652741229,
          8930.358405051147,
          8970.87353963544,
          9112.745701928037,
          9607.842292835288,
          9878.671430738255,
          9924.84516618627,
          9962.658496484326,
          10167.909155393507,
          10504.648495862091,
          10790.159445919999,
          10893.538726060166,
          11690.330211775174,
          11973.856712246363,
          12291.341362388685,
          13011.519719149452,
          13097.464840933942,
          13336.292670861838,
          13536.172603745299,
          14305.486863869097,
          15119.964621215224,
          15743.006252976002,
          17209.299899575584,
          17246.012659516426,
          18812.578006033393,
          22183.96607488987,
          24096.26276734052,
          24251.747361613172,
          26297.27166368704,
          29205.52126547075,
          29391.423576961126,
          29575.854774427717,
          32918.22469509026,
          33420.19381965283,
          33578.89791099592,
          38681.23760704287,
          39882.347843714095,
          42584.70249611057,
          43715.71901725034,
          59403.97662169252
         ],
         "yaxis": "y"
        },
        {
         "hovertemplate": "Actual Cost: %{x:$,.2f}<br>Predicted Cost: %{y:$,.2f}",
         "legendgroup": "Northeast",
         "marker": {
          "color": "#6C839B",
          "line": {
           "color": "#F7F7F7",
           "width": 1
          },
          "opacity": 0.7,
          "size": 10,
          "symbol": "circle"
         },
         "mode": "markers",
         "name": "Northeast",
         "orientation": "v",
         "showlegend": false,
         "type": "scatter",
         "x": [
          58571.07448,
          41034.2214,
          13129.60345,
          17128.42608,
          13224.05705,
          42303.69215,
          8627.5411,
          11512.405,
          13228.84695,
          12730.9996,
          3558.62025,
          14590.63205,
          13019.16105,
          6113.23105,
          4846.92015,
          14451.83515,
          9282.4806,
          5594.8455,
          2203.73595,
          6640.54485,
          12323.936,
          7935.29115,
          3857.75925,
          1712.227,
          2727.3951,
          7639.41745,
          3044.2133,
          25517.11363,
          11938.25595,
          3393.35635,
          14449.8544,
          33475.81715,
          20709.02034,
          8334.45755,
          2217.6012,
          11879.10405,
          11394.06555,
          10072.05505,
          2396.0959,
          7729.64575,
          2211.13075,
          3385.39915,
          24106.91255,
          2205.9808,
          9722.7695,
          13616.3586,
          11658.37915,
          6067.12675,
          19594.80965,
          2217.46915,
          22395.74424,
          12029.2867,
          9866.30485,
          16115.3045,
          7050.0213,
          5428.7277,
          13430.265,
          2196.4732,
          7985.815,
          13725.47184,
          3481.868,
          13143.86485,
          23241.47453,
          7133.9025,
          8606.2174
         ],
         "xaxis": "x2",
         "y": [
          39566.781175661825,
          39523.00387506937,
          13397.603670455273,
          9147.495150840887,
          14967.963453374035,
          40157.84711089808,
          8206.814587162187,
          14495.710935492494,
          16481.816885026932,
          14893.613797657015,
          5640.829947119103,
          15027.633036309651,
          14907.684399826718,
          8193.309784735062,
          8148.473069157815,
          14424.4697670317,
          9259.352761382032,
          9175.427718366078,
          5864.8177357134955,
          6891.8495980867865,
          11455.71719582803,
          12137.571599236815,
          6695.328861152391,
          4207.500043222989,
          5952.61645677217,
          10843.032653574877,
          3517.8797543729156,
          10996.794185474848,
          12128.26367898042,
          8573.41415478046,
          14423.131942896276,
          29250.909577895676,
          11312.555914581751,
          10552.33444569631,
          6545.944992133522,
          14408.667220116604,
          12185.640602460302,
          12229.887204429393,
          3191.6194286792042,
          8143.488212118998,
          6735.938721001885,
          6299.010950908208,
          24962.144414152233,
          5799.106179092046,
          12460.172427416057,
          14045.325109167816,
          12870.99387563455,
          7027.727597672263,
          21129.243630233355,
          6506.681638386528,
          4282.8515143026025,
          11243.100562277452,
          14138.872191107906,
          16910.379366331494,
          10430.418456237838,
          8553.517516325515,
          14355.746412479815,
          3351.13411141057,
          7730.730631287824,
          7117.629598139993,
          5369.55043663145,
          14073.047768209446,
          3908.001082695969,
          7810.881307098831,
          8809.136680817908
         ],
         "yaxis": "y2"
        },
        {
         "hovertemplate": "<b>LOWESS trendline</b><br><br>index=Northeast<br>actuals=%{x}<br>preds=%{y} <b>(trend)</b><extra></extra>",
         "legendgroup": "Northeast",
         "marker": {
          "color": "#6C839B",
          "symbol": "circle"
         },
         "mode": "lines",
         "name": "Northeast",
         "showlegend": false,
         "type": "scatter",
         "x": [
          1712.227,
          2196.4732,
          2203.73595,
          2205.9808,
          2211.13075,
          2217.46915,
          2217.6012,
          2396.0959,
          2727.3951,
          3044.2133,
          3385.39915,
          3393.35635,
          3481.868,
          3558.62025,
          3857.75925,
          4846.92015,
          5428.7277,
          5594.8455,
          6067.12675,
          6113.23105,
          6640.54485,
          7050.0213,
          7133.9025,
          7639.41745,
          7729.64575,
          7935.29115,
          7985.815,
          8334.45755,
          8606.2174,
          8627.5411,
          9282.4806,
          9722.7695,
          9866.30485,
          10072.05505,
          11394.06555,
          11512.405,
          11658.37915,
          11879.10405,
          11938.25595,
          12029.2867,
          12323.936,
          12730.9996,
          13019.16105,
          13129.60345,
          13143.86485,
          13224.05705,
          13228.84695,
          13430.265,
          13616.3586,
          13725.47184,
          14449.8544,
          14451.83515,
          14590.63205,
          16115.3045,
          17128.42608,
          19594.80965,
          20709.02034,
          22395.74424,
          23241.47453,
          24106.91255,
          25517.11363,
          33475.81715,
          41034.2214,
          42303.69215,
          58571.07448
         ],
         "xaxis": "x2",
         "y": [
          4915.401789607645,
          5281.274332308554,
          5286.764223215139,
          5288.4611188813415,
          5292.354033926574,
          5297.145384880264,
          5297.245205527067,
          5432.202391086628,
          5682.808248632555,
          5922.598482482207,
          6181.011341547758,
          6187.041354893473,
          6254.128466438133,
          6312.321465547028,
          6539.320217524187,
          7293.408015197591,
          7740.933170932192,
          7869.440281548251,
          8236.63919551994,
          8272.614279261745,
          8685.037535224983,
          9005.076463868943,
          9070.481894626251,
          9469.882034470753,
          9544.346710632726,
          9717.733023392548,
          9759.609440618437,
          10051.1845809817,
          10268.805836342854,
          10285.307691306607,
          10824.658635718215,
          11195.232771750447,
          11315.415954432707,
          11487.857194373135,
          12566.878931022506,
          12658.213690216195,
          12771.967782880785,
          12938.912035150086,
          12983.32692140028,
          13051.459233742835,
          13278.549051609945,
          13566.77072269834,
          13749.859696195019,
          13815.26748028137,
          13825.451797748274,
          13882.220674553932,
          13885.58304714822,
          14023.520195330488,
          14143.545924757464,
          14195.428728004,
          14493.777292432564,
          14494.325268701148,
          14531.314701212794,
          14887.618716148256,
          15430.919257483827,
          16898.634509214346,
          17703.076881371366,
          19608.990810660092,
          20424.663627921836,
          21151.744191957514,
          22502.20054284689,
          30751.255359454637,
          37712.87695263049,
          38894.20168720203,
          54400.27728591014
         ],
         "yaxis": "y2"
        }
       ],
       "layout": {
        "annotations": [
         {
          "showarrow": false,
          "text": "Northwest",
          "x": 0.245,
          "xanchor": "center",
          "xref": "paper",
          "y": 0.46499999999999997,
          "yanchor": "bottom",
          "yref": "paper"
         },
         {
          "showarrow": false,
          "text": "Northeast",
          "x": 0.755,
          "xanchor": "center",
          "xref": "paper",
          "y": 0.46499999999999997,
          "yanchor": "bottom",
          "yref": "paper"
         },
         {
          "showarrow": false,
          "text": "Southwest",
          "x": 0.245,
          "xanchor": "center",
          "xref": "paper",
          "y": 0.9999999999999999,
          "yanchor": "bottom",
          "yref": "paper"
         },
         {
          "showarrow": false,
          "text": "Southeast",
          "x": 0.755,
          "xanchor": "center",
          "xref": "paper",
          "y": 0.9999999999999999,
          "yanchor": "bottom",
          "yref": "paper"
         },
         {
          "showarrow": false,
          "text": "Adj. R-Squared = 82.0%<br>RMSE = 4,118",
          "x": 51000,
          "xref": "x3",
          "y": 15000,
          "yref": "y3"
         },
         {
          "showarrow": false,
          "text": "Adj. R-Squared = 93.7%<br>RMSE = 3,212",
          "x": 51000,
          "xref": "x4",
          "y": 15000,
          "yref": "y4"
         },
         {
          "showarrow": false,
          "text": "Adj. R-Squared = 80.6%<br>RMSE = 4,560",
          "x": 51000,
          "xref": "x",
          "y": 15000,
          "yref": "y"
         },
         {
          "showarrow": false,
          "text": "Adj. R-Squared = 61.7%<br>RMSE = 5,276",
          "x": 51000,
          "xref": "x2",
          "y": 15000,
          "yref": "y2"
         }
        ],
        "font": {
         "color": "#303030"
        },
        "height": 700,
        "legend": {
         "title": {
          "text": "index"
         },
         "tracegroupgap": 0
        },
        "paper_bgcolor": "white",
        "plot_bgcolor": "white",
        "template": {
         "data": {
          "bar": [
           {
            "error_x": {
             "color": "#2a3f5f"
            },
            "error_y": {
             "color": "#2a3f5f"
            },
            "marker": {
             "line": {
              "color": "white",
              "width": 0.5
             },
             "pattern": {
              "fillmode": "overlay",
              "size": 10,
              "solidity": 0.2
             }
            },
            "type": "bar"
           }
          ],
          "barpolar": [
           {
            "marker": {
             "line": {
              "color": "white",
              "width": 0.5
             },
             "pattern": {
              "fillmode": "overlay",
              "size": 10,
              "solidity": 0.2
             }
            },
            "type": "barpolar"
           }
          ],
          "carpet": [
           {
            "aaxis": {
             "endlinecolor": "#2a3f5f",
             "gridcolor": "#C8D4E3",
             "linecolor": "#C8D4E3",
             "minorgridcolor": "#C8D4E3",
             "startlinecolor": "#2a3f5f"
            },
            "baxis": {
             "endlinecolor": "#2a3f5f",
             "gridcolor": "#C8D4E3",
             "linecolor": "#C8D4E3",
             "minorgridcolor": "#C8D4E3",
             "startlinecolor": "#2a3f5f"
            },
            "type": "carpet"
           }
          ],
          "choropleth": [
           {
            "colorbar": {
             "outlinewidth": 0,
             "ticks": ""
            },
            "type": "choropleth"
           }
          ],
          "contour": [
           {
            "colorbar": {
             "outlinewidth": 0,
             "ticks": ""
            },
            "colorscale": [
             [
              0,
              "#0d0887"
             ],
             [
              0.1111111111111111,
              "#46039f"
             ],
             [
              0.2222222222222222,
              "#7201a8"
             ],
             [
              0.3333333333333333,
              "#9c179e"
             ],
             [
              0.4444444444444444,
              "#bd3786"
             ],
             [
              0.5555555555555556,
              "#d8576b"
             ],
             [
              0.6666666666666666,
              "#ed7953"
             ],
             [
              0.7777777777777778,
              "#fb9f3a"
             ],
             [
              0.8888888888888888,
              "#fdca26"
             ],
             [
              1,
              "#f0f921"
             ]
            ],
            "type": "contour"
           }
          ],
          "contourcarpet": [
           {
            "colorbar": {
             "outlinewidth": 0,
             "ticks": ""
            },
            "type": "contourcarpet"
           }
          ],
          "heatmap": [
           {
            "colorbar": {
             "outlinewidth": 0,
             "ticks": ""
            },
            "colorscale": [
             [
              0,
              "#0d0887"
             ],
             [
              0.1111111111111111,
              "#46039f"
             ],
             [
              0.2222222222222222,
              "#7201a8"
             ],
             [
              0.3333333333333333,
              "#9c179e"
             ],
             [
              0.4444444444444444,
              "#bd3786"
             ],
             [
              0.5555555555555556,
              "#d8576b"
             ],
             [
              0.6666666666666666,
              "#ed7953"
             ],
             [
              0.7777777777777778,
              "#fb9f3a"
             ],
             [
              0.8888888888888888,
              "#fdca26"
             ],
             [
              1,
              "#f0f921"
             ]
            ],
            "type": "heatmap"
           }
          ],
          "heatmapgl": [
           {
            "colorbar": {
             "outlinewidth": 0,
             "ticks": ""
            },
            "colorscale": [
             [
              0,
              "#0d0887"
             ],
             [
              0.1111111111111111,
              "#46039f"
             ],
             [
              0.2222222222222222,
              "#7201a8"
             ],
             [
              0.3333333333333333,
              "#9c179e"
             ],
             [
              0.4444444444444444,
              "#bd3786"
             ],
             [
              0.5555555555555556,
              "#d8576b"
             ],
             [
              0.6666666666666666,
              "#ed7953"
             ],
             [
              0.7777777777777778,
              "#fb9f3a"
             ],
             [
              0.8888888888888888,
              "#fdca26"
             ],
             [
              1,
              "#f0f921"
             ]
            ],
            "type": "heatmapgl"
           }
          ],
          "histogram": [
           {
            "marker": {
             "pattern": {
              "fillmode": "overlay",
              "size": 10,
              "solidity": 0.2
             }
            },
            "type": "histogram"
           }
          ],
          "histogram2d": [
           {
            "colorbar": {
             "outlinewidth": 0,
             "ticks": ""
            },
            "colorscale": [
             [
              0,
              "#0d0887"
             ],
             [
              0.1111111111111111,
              "#46039f"
             ],
             [
              0.2222222222222222,
              "#7201a8"
             ],
             [
              0.3333333333333333,
              "#9c179e"
             ],
             [
              0.4444444444444444,
              "#bd3786"
             ],
             [
              0.5555555555555556,
              "#d8576b"
             ],
             [
              0.6666666666666666,
              "#ed7953"
             ],
             [
              0.7777777777777778,
              "#fb9f3a"
             ],
             [
              0.8888888888888888,
              "#fdca26"
             ],
             [
              1,
              "#f0f921"
             ]
            ],
            "type": "histogram2d"
           }
          ],
          "histogram2dcontour": [
           {
            "colorbar": {
             "outlinewidth": 0,
             "ticks": ""
            },
            "colorscale": [
             [
              0,
              "#0d0887"
             ],
             [
              0.1111111111111111,
              "#46039f"
             ],
             [
              0.2222222222222222,
              "#7201a8"
             ],
             [
              0.3333333333333333,
              "#9c179e"
             ],
             [
              0.4444444444444444,
              "#bd3786"
             ],
             [
              0.5555555555555556,
              "#d8576b"
             ],
             [
              0.6666666666666666,
              "#ed7953"
             ],
             [
              0.7777777777777778,
              "#fb9f3a"
             ],
             [
              0.8888888888888888,
              "#fdca26"
             ],
             [
              1,
              "#f0f921"
             ]
            ],
            "type": "histogram2dcontour"
           }
          ],
          "mesh3d": [
           {
            "colorbar": {
             "outlinewidth": 0,
             "ticks": ""
            },
            "type": "mesh3d"
           }
          ],
          "parcoords": [
           {
            "line": {
             "colorbar": {
              "outlinewidth": 0,
              "ticks": ""
             }
            },
            "type": "parcoords"
           }
          ],
          "pie": [
           {
            "automargin": true,
            "type": "pie"
           }
          ],
          "scatter": [
           {
            "fillpattern": {
             "fillmode": "overlay",
             "size": 10,
             "solidity": 0.2
            },
            "type": "scatter"
           }
          ],
          "scatter3d": [
           {
            "line": {
             "colorbar": {
              "outlinewidth": 0,
              "ticks": ""
             }
            },
            "marker": {
             "colorbar": {
              "outlinewidth": 0,
              "ticks": ""
             }
            },
            "type": "scatter3d"
           }
          ],
          "scattercarpet": [
           {
            "marker": {
             "colorbar": {
              "outlinewidth": 0,
              "ticks": ""
             }
            },
            "type": "scattercarpet"
           }
          ],
          "scattergeo": [
           {
            "marker": {
             "colorbar": {
              "outlinewidth": 0,
              "ticks": ""
             }
            },
            "type": "scattergeo"
           }
          ],
          "scattergl": [
           {
            "marker": {
             "colorbar": {
              "outlinewidth": 0,
              "ticks": ""
             }
            },
            "type": "scattergl"
           }
          ],
          "scattermapbox": [
           {
            "marker": {
             "colorbar": {
              "outlinewidth": 0,
              "ticks": ""
             }
            },
            "type": "scattermapbox"
           }
          ],
          "scatterpolar": [
           {
            "marker": {
             "colorbar": {
              "outlinewidth": 0,
              "ticks": ""
             }
            },
            "type": "scatterpolar"
           }
          ],
          "scatterpolargl": [
           {
            "marker": {
             "colorbar": {
              "outlinewidth": 0,
              "ticks": ""
             }
            },
            "type": "scatterpolargl"
           }
          ],
          "scatterternary": [
           {
            "marker": {
             "colorbar": {
              "outlinewidth": 0,
              "ticks": ""
             }
            },
            "type": "scatterternary"
           }
          ],
          "surface": [
           {
            "colorbar": {
             "outlinewidth": 0,
             "ticks": ""
            },
            "colorscale": [
             [
              0,
              "#0d0887"
             ],
             [
              0.1111111111111111,
              "#46039f"
             ],
             [
              0.2222222222222222,
              "#7201a8"
             ],
             [
              0.3333333333333333,
              "#9c179e"
             ],
             [
              0.4444444444444444,
              "#bd3786"
             ],
             [
              0.5555555555555556,
              "#d8576b"
             ],
             [
              0.6666666666666666,
              "#ed7953"
             ],
             [
              0.7777777777777778,
              "#fb9f3a"
             ],
             [
              0.8888888888888888,
              "#fdca26"
             ],
             [
              1,
              "#f0f921"
             ]
            ],
            "type": "surface"
           }
          ],
          "table": [
           {
            "cells": {
             "fill": {
              "color": "#EBF0F8"
             },
             "line": {
              "color": "white"
             }
            },
            "header": {
             "fill": {
              "color": "#C8D4E3"
             },
             "line": {
              "color": "white"
             }
            },
            "type": "table"
           }
          ]
         },
         "layout": {
          "annotationdefaults": {
           "arrowcolor": "#2a3f5f",
           "arrowhead": 0,
           "arrowwidth": 1
          },
          "autotypenumbers": "strict",
          "coloraxis": {
           "colorbar": {
            "outlinewidth": 0,
            "ticks": ""
           }
          },
          "colorscale": {
           "diverging": [
            [
             0,
             "#8e0152"
            ],
            [
             0.1,
             "#c51b7d"
            ],
            [
             0.2,
             "#de77ae"
            ],
            [
             0.3,
             "#f1b6da"
            ],
            [
             0.4,
             "#fde0ef"
            ],
            [
             0.5,
             "#f7f7f7"
            ],
            [
             0.6,
             "#e6f5d0"
            ],
            [
             0.7,
             "#b8e186"
            ],
            [
             0.8,
             "#7fbc41"
            ],
            [
             0.9,
             "#4d9221"
            ],
            [
             1,
             "#276419"
            ]
           ],
           "sequential": [
            [
             0,
             "#0d0887"
            ],
            [
             0.1111111111111111,
             "#46039f"
            ],
            [
             0.2222222222222222,
             "#7201a8"
            ],
            [
             0.3333333333333333,
             "#9c179e"
            ],
            [
             0.4444444444444444,
             "#bd3786"
            ],
            [
             0.5555555555555556,
             "#d8576b"
            ],
            [
             0.6666666666666666,
             "#ed7953"
            ],
            [
             0.7777777777777778,
             "#fb9f3a"
            ],
            [
             0.8888888888888888,
             "#fdca26"
            ],
            [
             1,
             "#f0f921"
            ]
           ],
           "sequentialminus": [
            [
             0,
             "#0d0887"
            ],
            [
             0.1111111111111111,
             "#46039f"
            ],
            [
             0.2222222222222222,
             "#7201a8"
            ],
            [
             0.3333333333333333,
             "#9c179e"
            ],
            [
             0.4444444444444444,
             "#bd3786"
            ],
            [
             0.5555555555555556,
             "#d8576b"
            ],
            [
             0.6666666666666666,
             "#ed7953"
            ],
            [
             0.7777777777777778,
             "#fb9f3a"
            ],
            [
             0.8888888888888888,
             "#fdca26"
            ],
            [
             1,
             "#f0f921"
            ]
           ]
          },
          "colorway": [
           "#636efa",
           "#EF553B",
           "#00cc96",
           "#ab63fa",
           "#FFA15A",
           "#19d3f3",
           "#FF6692",
           "#B6E880",
           "#FF97FF",
           "#FECB52"
          ],
          "font": {
           "color": "#2a3f5f"
          },
          "geo": {
           "bgcolor": "white",
           "lakecolor": "white",
           "landcolor": "white",
           "showlakes": true,
           "showland": true,
           "subunitcolor": "#C8D4E3"
          },
          "hoverlabel": {
           "align": "left"
          },
          "hovermode": "closest",
          "mapbox": {
           "style": "light"
          },
          "paper_bgcolor": "white",
          "plot_bgcolor": "white",
          "polar": {
           "angularaxis": {
            "gridcolor": "#EBF0F8",
            "linecolor": "#EBF0F8",
            "ticks": ""
           },
           "bgcolor": "white",
           "radialaxis": {
            "gridcolor": "#EBF0F8",
            "linecolor": "#EBF0F8",
            "ticks": ""
           }
          },
          "scene": {
           "xaxis": {
            "backgroundcolor": "white",
            "gridcolor": "#DFE8F3",
            "gridwidth": 2,
            "linecolor": "#EBF0F8",
            "showbackground": true,
            "ticks": "",
            "zerolinecolor": "#EBF0F8"
           },
           "yaxis": {
            "backgroundcolor": "white",
            "gridcolor": "#DFE8F3",
            "gridwidth": 2,
            "linecolor": "#EBF0F8",
            "showbackground": true,
            "ticks": "",
            "zerolinecolor": "#EBF0F8"
           },
           "zaxis": {
            "backgroundcolor": "white",
            "gridcolor": "#DFE8F3",
            "gridwidth": 2,
            "linecolor": "#EBF0F8",
            "showbackground": true,
            "ticks": "",
            "zerolinecolor": "#EBF0F8"
           }
          },
          "shapedefaults": {
           "line": {
            "color": "#2a3f5f"
           }
          },
          "ternary": {
           "aaxis": {
            "gridcolor": "#DFE8F3",
            "linecolor": "#A2B1C6",
            "ticks": ""
           },
           "baxis": {
            "gridcolor": "#DFE8F3",
            "linecolor": "#A2B1C6",
            "ticks": ""
           },
           "bgcolor": "white",
           "caxis": {
            "gridcolor": "#DFE8F3",
            "linecolor": "#A2B1C6",
            "ticks": ""
           }
          },
          "title": {
           "x": 0.05
          },
          "xaxis": {
           "automargin": true,
           "gridcolor": "#EBF0F8",
           "linecolor": "#EBF0F8",
           "ticks": "",
           "title": {
            "standoff": 15
           },
           "zerolinecolor": "#EBF0F8",
           "zerolinewidth": 2
          },
          "yaxis": {
           "automargin": true,
           "gridcolor": "#EBF0F8",
           "linecolor": "#EBF0F8",
           "ticks": "",
           "title": {
            "standoff": 15
           },
           "zerolinecolor": "#EBF0F8",
           "zerolinewidth": 2
          }
         }
        },
        "title": {
         "text": "Actual vs Predicted Insurance Costs by Region,<br>Gradient Boosting"
        },
        "xaxis": {
         "anchor": "y",
         "domain": [
          0,
          0.49
         ],
         "gridcolor": "#EAEAEA",
         "gridwidth": 1,
         "showgrid": true,
         "title": {
          "text": "Actual Cost, $"
         },
         "zeroline": true,
         "zerolinecolor": "#5E5E5E",
         "zerolinewidth": 2
        },
        "xaxis2": {
         "anchor": "y2",
         "domain": [
          0.51,
          1
         ],
         "gridcolor": "#EAEAEA",
         "gridwidth": 1,
         "matches": "x",
         "showgrid": true,
         "title": {
          "text": "Actual Cost, $"
         },
         "zeroline": true,
         "zerolinecolor": "#5E5E5E",
         "zerolinewidth": 2
        },
        "xaxis3": {
         "anchor": "y3",
         "domain": [
          0,
          0.49
         ],
         "gridcolor": "#EAEAEA",
         "gridwidth": 1,
         "matches": "x",
         "showgrid": true,
         "showticklabels": false,
         "zeroline": true,
         "zerolinecolor": "#5E5E5E",
         "zerolinewidth": 2
        },
        "xaxis4": {
         "anchor": "y4",
         "domain": [
          0.51,
          1
         ],
         "gridcolor": "#EAEAEA",
         "gridwidth": 1,
         "matches": "x",
         "showgrid": true,
         "showticklabels": false,
         "zeroline": true,
         "zerolinecolor": "#5E5E5E",
         "zerolinewidth": 2
        },
        "yaxis": {
         "anchor": "x",
         "domain": [
          0,
          0.46499999999999997
         ],
         "gridcolor": "#E3E3E3",
         "gridwidth": 1,
         "showgrid": true,
         "title": {
          "text": "Predicted Cost, $"
         },
         "zeroline": true,
         "zerolinecolor": "#5E5E5E",
         "zerolinewidth": 2
        },
        "yaxis2": {
         "anchor": "x2",
         "domain": [
          0,
          0.46499999999999997
         ],
         "gridcolor": "#E3E3E3",
         "gridwidth": 1,
         "matches": "y",
         "showgrid": true,
         "showticklabels": false,
         "zeroline": true,
         "zerolinecolor": "#5E5E5E",
         "zerolinewidth": 2
        },
        "yaxis3": {
         "anchor": "x3",
         "domain": [
          0.5349999999999999,
          0.9999999999999999
         ],
         "gridcolor": "#E3E3E3",
         "gridwidth": 1,
         "matches": "y",
         "showgrid": true,
         "title": {
          "text": "Predicted Cost, $"
         },
         "zeroline": true,
         "zerolinecolor": "#5E5E5E",
         "zerolinewidth": 2
        },
        "yaxis4": {
         "anchor": "x4",
         "domain": [
          0.5349999999999999,
          0.9999999999999999
         ],
         "gridcolor": "#E3E3E3",
         "gridwidth": 1,
         "matches": "y",
         "showgrid": true,
         "showticklabels": false,
         "zeroline": true,
         "zerolinecolor": "#5E5E5E",
         "zerolinewidth": 2
        }
       }
      },
      "text/html": [
       "<div>                            <div id=\"f4cd91c2-f5b9-41a4-95bd-4344770d523f\" class=\"plotly-graph-div\" style=\"height:700px; width:100%;\"></div>            <script type=\"text/javascript\">                require([\"plotly\"], function(Plotly) {                    window.PLOTLYENV=window.PLOTLYENV || {};                                    if (document.getElementById(\"f4cd91c2-f5b9-41a4-95bd-4344770d523f\")) {                    Plotly.newPlot(                        \"f4cd91c2-f5b9-41a4-95bd-4344770d523f\",                        [{\"hovertemplate\":\"Actual Cost: %{x:$,.2f}<br>Predicted Cost: %{y:$,.2f}\",\"legendgroup\":\"Southwest\",\"marker\":{\"color\":\"#B14B51\",\"opacity\":0.7,\"symbol\":\"circle\",\"line\":{\"color\":\"#F7F7F7\",\"width\":1},\"size\":10},\"mode\":\"markers\",\"name\":\"Southwest\",\"orientation\":\"v\",\"showlegend\":false,\"x\":[3761.292,11674.13,6311.952,14319.031,11552.904,5080.096,8269.044,3693.428,36837.467,13224.693,23306.547,35160.13457,12347.172,10065.413,5488.262,38711.0,7196.867,6571.544,5979.731,34828.654,6600.361,39836.519,1256.299,1242.26,4762.329,9264.797,13470.86,1759.338,1241.565,48173.361,16232.847,25309.489,10791.96,4751.07,8556.907,42856.838,8277.523,11576.13,7623.518,12146.971,20630.28351,4646.759,26140.3603,2007.945,8444.474,17081.08,13822.803,8825.086,37079.372,10096.97,11411.685,14988.432,11362.755,6875.961,10795.93733,18259.216,1261.859,17942.106,11150.78,38415.474,8522.003,8703.456,3987.926,1964.78,1743.214],\"xaxis\":\"x3\",\"y\":[5194.615631427988,11013.738254346084,7474.145374430177,14190.526380820265,11936.72367688087,4474.477805446251,9996.837837499339,5844.749674047692,38292.18998438621,14793.550480661328,24717.3538098108,10801.690224946107,16161.71746845606,10336.85862976391,7090.024800190971,41206.3323871548,8631.131154185767,8069.584970575805,7640.239691793349,32894.36666000996,7836.83613549636,41004.64535092994,2864.165501005381,2501.909521128163,6119.776746658974,9514.334098330419,14131.461400086424,3058.7713791969645,2501.909521128163,48081.2857387927,15768.450033611434,30837.714489584992,10450.207148355803,5421.303336450241,9624.146496355535,43111.554438201376,10553.520648647442,10821.99198125225,7344.781737358411,13468.597412455707,11565.413152670433,7572.223290869513,10766.145445292914,2685.0139914156784,10365.405663545738,17997.12165631137,15396.083235766306,9694.94964116612,37056.988809499555,11254.266281319044,13221.447548142425,14934.970659238417,12300.734929952723,7584.674747460682,3929.7689239109086,19002.88262370815,3831.0258564867986,16916.125456792677,11505.204142645047,39355.19765305582,9083.95649362571,10013.323415350142,5234.690171246745,2415.6000826039376,3053.6470272554348],\"yaxis\":\"y3\",\"type\":\"scatter\"},{\"hovertemplate\":\"<b>LOWESS trendline</b><br><br>index=Southwest<br>actuals=%{x}<br>preds=%{y} <b>(trend)</b><extra></extra>\",\"legendgroup\":\"Southwest\",\"marker\":{\"color\":\"#B14B51\",\"symbol\":\"circle\"},\"mode\":\"lines\",\"name\":\"Southwest\",\"showlegend\":false,\"x\":[1241.565,1242.26,1256.299,1261.859,1743.214,1759.338,1964.78,2007.945,3693.428,3761.292,3987.926,4646.759,4751.07,4762.329,5080.096,5488.262,5979.731,6311.952,6571.544,6600.361,6875.961,7196.867,7623.518,8269.044,8277.523,8444.474,8522.003,8556.907,8703.456,8825.086,9264.797,10065.413,10096.97,10791.96,10795.93733,11150.78,11362.755,11411.685,11552.904,11576.13,11674.13,12146.971,12347.172,13224.693,13470.86,13822.803,14319.031,14988.432,16232.847,17081.08,17942.106,18259.216,20630.28351,23306.547,25309.489,26140.3603,34828.654,35160.13457,36837.467,37079.372,38415.474,38711.0,39836.519,42856.838,48173.361],\"xaxis\":\"x3\",\"y\":[2653.957686544016,2654.6279915684227,2668.1679627584813,2673.5302273187162,3137.4834560541663,3153.0123689108054,3350.7832064796503,3392.3138399542727,5008.343776638421,5073.241067972392,5289.922627703597,5919.622292192766,6019.334322795406,6030.097765962682,6333.978765460519,6724.908415368251,7198.230364295012,7521.254841320249,7773.946646114557,7801.764839811475,8056.450660872672,8331.326133177625,8698.806789083246,9269.85380257002,9277.478415089294,9428.203634760373,9498.659679028102,9530.435875180401,9664.09993364686,9775.18630263395,10174.962184009955,10897.189288268257,10925.532046891496,11548.928057300165,11552.483889492594,11868.635440562532,12057.418738334829,12101.068832233517,12227.242102422235,12248.021128019634,12335.779440961713,12760.876998793186,12940.285934251671,13735.552631409519,13959.382394770457,14279.170712123401,14734.445835239625,15375.190045109237,16624.78047404244,17485.469185573344,18354.30652779451,18672.92640463999,21077.740528606537,23722.91263375432,25842.13114081242,26711.8789539612,35432.72898023668,35762.57017392833,37432.41101783588,37673.35575141508,39004.67621263075,39299.258212296336,40421.46859367814,43432.914055855894,48720.42628469442],\"yaxis\":\"y3\",\"type\":\"scatter\"},{\"hovertemplate\":\"Actual Cost: %{x:$,.2f}<br>Predicted Cost: %{y:$,.2f}\",\"legendgroup\":\"Southeast\",\"marker\":{\"color\":\"#D0A99C\",\"opacity\":0.7,\"symbol\":\"circle\",\"line\":{\"color\":\"#F7F7F7\",\"width\":1},\"size\":10},\"mode\":\"markers\",\"name\":\"Southeast\",\"orientation\":\"v\",\"showlegend\":false,\"x\":[44202.6536,6781.3542,5478.0368,32548.3405,1815.8759,11093.6229,11090.7178,13470.8044,47269.854,10107.2206,38282.7495,19350.3689,1615.7667,40974.1649,1824.2854,7243.8136,36950.2567,41999.52,6184.2994,20462.99766,7152.6714,2219.4451,8232.6388,4266.1658,19521.9682,27808.7251,16586.49771,5966.8874,4504.6624,3500.6123,4340.4409,5974.3847,3227.1211,11363.2832,12592.5345,6313.759,5920.1041,12142.5786,3561.8889,4673.3922,46599.1084,2566.4707,41676.0811,8978.1851,48970.2476,24667.419,8596.8278,38709.176,1136.3994,18806.14547,1981.5819,1131.5066,6500.2359,1146.7966,8547.6913,39611.7577,11881.9696,48675.5177,44400.4064,18223.4512,28287.89766,9855.1314,10702.6424,5245.2269,1664.9996,2464.6188,9377.9047,10226.2842,36124.5737,4779.6023,6338.0756,42112.2356,1633.9618],\"xaxis\":\"x4\",\"y\":[44560.969440330264,7643.249301299456,4941.410399760841,31568.904154435586,3731.093417626308,14307.849260379659,12855.38866869515,15969.930921964751,46964.99582461899,11422.58933404289,37110.58370162507,23040.19207847872,3340.1244647849135,44044.30824302048,4091.426871947585,8158.809513940939,35955.689068815984,43745.613706669385,6297.899917288916,16821.577947213464,8669.91241210659,3670.703498028214,8366.180995718621,6262.078145330169,19826.783244144455,30279.806960172155,3608.115096702893,7042.806165461979,6859.719430658683,4400.4838738081235,5100.341734704636,5835.448176139753,5227.950412079155,12150.794674184415,19174.84383304879,6396.084175347679,7273.9653444291425,13358.98301154723,5417.244735868891,5725.1166474405145,46980.53187498954,4916.95120390531,44311.834537872724,8729.454379838533,47302.92210824306,27363.067702283864,12352.12755028851,37722.005026774845,2702.3746624373207,8807.491265288376,4405.79201360275,3274.7958584055673,6878.375020186041,3214.264180453648,9518.502346537998,38046.03985109837,13688.807999774217,47703.770757891216,46779.94971106279,20757.906820010237,13335.47187637889,10062.279528125377,13845.089397533427,6109.792764562036,3287.401544240322,3900.4621613911513,10069.182845318885,12046.99046646884,36095.46420221343,4708.351237342133,7330.840850299176,39518.58648387046,3349.507741025428],\"yaxis\":\"y4\",\"type\":\"scatter\"},{\"hovertemplate\":\"<b>LOWESS trendline</b><br><br>index=Southeast<br>actuals=%{x}<br>preds=%{y} <b>(trend)</b><extra></extra>\",\"legendgroup\":\"Southeast\",\"marker\":{\"color\":\"#D0A99C\",\"symbol\":\"circle\"},\"mode\":\"lines\",\"name\":\"Southeast\",\"showlegend\":false,\"x\":[1131.5066,1136.3994,1146.7966,1615.7667,1633.9618,1664.9996,1815.8759,1824.2854,1981.5819,2219.4451,2464.6188,2566.4707,3227.1211,3500.6123,3561.8889,4266.1658,4340.4409,4504.6624,4673.3922,4779.6023,5245.2269,5478.0368,5920.1041,5966.8874,5974.3847,6184.2994,6313.759,6338.0756,6500.2359,6781.3542,7152.6714,7243.8136,8232.6388,8547.6913,8596.8278,8978.1851,9377.9047,9855.1314,10107.2206,10226.2842,10702.6424,11090.7178,11093.6229,11363.2832,11881.9696,12142.5786,12592.5345,13470.8044,16586.49771,18223.4512,18806.14547,19350.3689,19521.9682,20462.99766,24667.419,27808.7251,28287.89766,32548.3405,36124.5737,36950.2567,38282.7495,38709.176,39611.7577,40974.1649,41676.0811,41999.52,42112.2356,44202.6536,44400.4064,46599.1084,47269.854,48675.5177,48970.2476],\"xaxis\":\"x4\",\"y\":[2970.5444293869946,2974.558878597978,2983.0904424366495,3369.18914795189,3384.222096254704,3409.8754443931766,3534.754778470521,3541.7240918131456,3672.259382828242,3870.311202178817,4075.3092472445583,4160.736512758538,4718.8263427099455,4951.953635991014,5004.358977109011,5611.267964763019,5675.767656900337,5818.705205585498,5966.031342550013,6059.002324795889,6468.574349980188,6674.45039205751,7066.920622024341,7108.54601590453,7115.217939204229,7302.135634722801,7417.497276311312,7439.171927231838,7583.775192021214,7835.078891636342,8172.635614193745,8257.936307148018,9363.75774468302,9721.293307559617,9777.1323273789,10211.089544619592,10667.31892629531,11213.939872698593,11509.082866309389,11651.295863866057,12208.219660250112,12656.000601582155,12659.57897633727,12964.743684382123,13523.604548976273,13800.499661404408,14278.44154677671,15218.642829053098,18571.18110636455,20288.02402197458,20836.345619090065,21325.32756367602,21473.711199045334,22304.3551501028,25637.48544207885,28552.16737502059,29006.12750995795,33005.351864042525,36313.951097108875,37075.19527945736,38302.741632918434,38695.4587674586,39526.70370743273,40782.0411348324,41429.359418786196,41727.809497482056,41831.843851535625,43764.09956383419,43947.19434844292,45986.656153438715,46610.153965249854,47918.64282855097,48193.28773239007],\"yaxis\":\"y4\",\"type\":\"scatter\"},{\"hovertemplate\":\"Actual Cost: %{x:$,.2f}<br>Predicted Cost: %{y:$,.2f}\",\"legendgroup\":\"Northwest\",\"marker\":{\"color\":\"#5D8370\",\"opacity\":0.7,\"symbol\":\"circle\",\"line\":{\"color\":\"#F7F7F7\",\"width\":1},\"size\":10},\"mode\":\"markers\",\"name\":\"Northwest\",\"orientation\":\"v\",\"showlegend\":false,\"x\":[9174.13565,4433.3877,21774.32215,7731.85785,33471.97189,4618.0799,3594.17085,12235.8392,6203.90175,11840.77505,4466.6214,8162.71625,6393.60345,1906.35825,23967.38305,2775.19215,3537.703,32787.45859,6112.35295,9301.89355,11945.1327,6389.37785,23807.2406,10264.4421,4243.59005,16455.70785,8413.46305,26018.95052,60021.39897,3579.8287,12479.70895,5855.9025,7153.5539,1635.73365,6986.697,43921.1837,15019.76005,29330.98315,5630.45785,8827.2099,8059.6791,5729.0053,14382.70905,29141.3603,38746.3551,3877.30425,42760.5022,6373.55735,28950.4692,16420.49455,10600.5483,18033.9679,39983.42595,6940.90985,4239.89265,6360.9936,8116.26885,6796.86325,2136.88225,33307.5508,13415.0381,10976.24575,3353.4703,5261.46945,5989.52365],\"xaxis\":\"x\",\"y\":[11126.270351162459,8221.75784895452,21663.471362494605,10025.806890647375,14358.887732490291,7606.033099136951,4464.475340554435,12627.864585210296,8283.433946247724,11901.08347480634,6931.081570947542,9653.35980348435,8071.466988129577,3462.894339950391,25973.655767342174,5700.128584993465,8560.781516697554,24567.573558674154,7251.477356079721,10811.236976127158,13881.085946476456,7297.756413624634,25393.374291458553,12049.097328882017,5529.755770027403,16640.947935003413,11496.309953597749,7035.772847519125,44521.85157973165,7359.91171327527,13283.318498153481,6458.439825141441,7595.956375931327,4519.703883140422,9299.820207032391,42054.112204070334,16056.31317391771,28346.85947180195,7612.725636529631,10492.715850349545,8247.612737003605,8499.581755791285,14980.725576751554,28613.567306571556,38615.91817999026,7997.333860043743,43665.48717732414,10590.356793055611,28311.28703480437,22657.03203077406,13466.042582675474,17824.735808212172,42689.00588359781,7293.047561692712,5394.708844714091,11186.236254828571,9699.498406433726,7908.04938728265,3861.512384329114,33772.46172202779,14270.20282384113,12491.648246780858,4403.7175331399485,8523.588390855883,10162.336563593835],\"yaxis\":\"y\",\"type\":\"scatter\"},{\"hovertemplate\":\"<b>LOWESS trendline</b><br><br>index=Northwest<br>actuals=%{x}<br>preds=%{y} <b>(trend)</b><extra></extra>\",\"legendgroup\":\"Northwest\",\"marker\":{\"color\":\"#5D8370\",\"symbol\":\"circle\"},\"mode\":\"lines\",\"name\":\"Northwest\",\"showlegend\":false,\"x\":[1635.73365,1906.35825,2136.88225,2775.19215,3353.4703,3537.703,3579.8287,3594.17085,3877.30425,4239.89265,4243.59005,4433.3877,4466.6214,4618.0799,5261.46945,5630.45785,5729.0053,5855.9025,5989.52365,6112.35295,6203.90175,6360.9936,6373.55735,6389.37785,6393.60345,6796.86325,6940.90985,6986.697,7153.5539,7731.85785,8059.6791,8116.26885,8162.71625,8413.46305,8827.2099,9174.13565,9301.89355,10264.4421,10600.5483,10976.24575,11840.77505,11945.1327,12235.8392,12479.70895,13415.0381,14382.70905,15019.76005,16420.49455,16455.70785,18033.9679,21774.32215,23807.2406,23967.38305,26018.95052,28950.4692,29141.3603,29330.98315,32787.45859,33307.5508,33471.97189,38746.3551,39983.42595,42760.5022,43921.1837,60021.39897],\"xaxis\":\"x\",\"y\":[4323.869999616355,4562.576717451614,4765.256979263108,5323.67373138568,5827.157912541166,5987.3096930957845,6023.923810938516,6036.389350139349,6282.492573555547,6597.8458214681295,6601.06303669638,6766.263377668661,6795.202622090951,6927.145422415249,7488.609652180733,7810.874316095087,7896.838801204885,8007.3831447730445,8123.514938544599,8229.926023749887,8308.95562191788,8443.838109413678,8454.579255256804,8468.093885775903,8471.701514662682,8811.173652741229,8930.358405051147,8970.87353963544,9112.745701928037,9607.842292835288,9878.671430738255,9924.84516618627,9962.658496484326,10167.909155393507,10504.648495862091,10790.159445919999,10893.538726060166,11690.330211775174,11973.856712246363,12291.341362388685,13011.519719149452,13097.464840933942,13336.292670861838,13536.172603745299,14305.486863869097,15119.964621215224,15743.006252976002,17209.299899575584,17246.012659516426,18812.578006033393,22183.96607488987,24096.26276734052,24251.747361613172,26297.27166368704,29205.52126547075,29391.423576961126,29575.854774427717,32918.22469509026,33420.19381965283,33578.89791099592,38681.23760704287,39882.347843714095,42584.70249611057,43715.71901725034,59403.97662169252],\"yaxis\":\"y\",\"type\":\"scatter\"},{\"hovertemplate\":\"Actual Cost: %{x:$,.2f}<br>Predicted Cost: %{y:$,.2f}\",\"legendgroup\":\"Northeast\",\"marker\":{\"color\":\"#6C839B\",\"opacity\":0.7,\"symbol\":\"circle\",\"line\":{\"color\":\"#F7F7F7\",\"width\":1},\"size\":10},\"mode\":\"markers\",\"name\":\"Northeast\",\"orientation\":\"v\",\"showlegend\":false,\"x\":[58571.07448,41034.2214,13129.60345,17128.42608,13224.05705,42303.69215,8627.5411,11512.405,13228.84695,12730.9996,3558.62025,14590.63205,13019.16105,6113.23105,4846.92015,14451.83515,9282.4806,5594.8455,2203.73595,6640.54485,12323.936,7935.29115,3857.75925,1712.227,2727.3951,7639.41745,3044.2133,25517.11363,11938.25595,3393.35635,14449.8544,33475.81715,20709.02034,8334.45755,2217.6012,11879.10405,11394.06555,10072.05505,2396.0959,7729.64575,2211.13075,3385.39915,24106.91255,2205.9808,9722.7695,13616.3586,11658.37915,6067.12675,19594.80965,2217.46915,22395.74424,12029.2867,9866.30485,16115.3045,7050.0213,5428.7277,13430.265,2196.4732,7985.815,13725.47184,3481.868,13143.86485,23241.47453,7133.9025,8606.2174],\"xaxis\":\"x2\",\"y\":[39566.781175661825,39523.00387506937,13397.603670455273,9147.495150840887,14967.963453374035,40157.84711089808,8206.814587162187,14495.710935492494,16481.816885026932,14893.613797657015,5640.829947119103,15027.633036309651,14907.684399826718,8193.309784735062,8148.473069157815,14424.4697670317,9259.352761382032,9175.427718366078,5864.8177357134955,6891.8495980867865,11455.71719582803,12137.571599236815,6695.328861152391,4207.500043222989,5952.61645677217,10843.032653574877,3517.8797543729156,10996.794185474848,12128.26367898042,8573.41415478046,14423.131942896276,29250.909577895676,11312.555914581751,10552.33444569631,6545.944992133522,14408.667220116604,12185.640602460302,12229.887204429393,3191.6194286792042,8143.488212118998,6735.938721001885,6299.010950908208,24962.144414152233,5799.106179092046,12460.172427416057,14045.325109167816,12870.99387563455,7027.727597672263,21129.243630233355,6506.681638386528,4282.8515143026025,11243.100562277452,14138.872191107906,16910.379366331494,10430.418456237838,8553.517516325515,14355.746412479815,3351.13411141057,7730.730631287824,7117.629598139993,5369.55043663145,14073.047768209446,3908.001082695969,7810.881307098831,8809.136680817908],\"yaxis\":\"y2\",\"type\":\"scatter\"},{\"hovertemplate\":\"<b>LOWESS trendline</b><br><br>index=Northeast<br>actuals=%{x}<br>preds=%{y} <b>(trend)</b><extra></extra>\",\"legendgroup\":\"Northeast\",\"marker\":{\"color\":\"#6C839B\",\"symbol\":\"circle\"},\"mode\":\"lines\",\"name\":\"Northeast\",\"showlegend\":false,\"x\":[1712.227,2196.4732,2203.73595,2205.9808,2211.13075,2217.46915,2217.6012,2396.0959,2727.3951,3044.2133,3385.39915,3393.35635,3481.868,3558.62025,3857.75925,4846.92015,5428.7277,5594.8455,6067.12675,6113.23105,6640.54485,7050.0213,7133.9025,7639.41745,7729.64575,7935.29115,7985.815,8334.45755,8606.2174,8627.5411,9282.4806,9722.7695,9866.30485,10072.05505,11394.06555,11512.405,11658.37915,11879.10405,11938.25595,12029.2867,12323.936,12730.9996,13019.16105,13129.60345,13143.86485,13224.05705,13228.84695,13430.265,13616.3586,13725.47184,14449.8544,14451.83515,14590.63205,16115.3045,17128.42608,19594.80965,20709.02034,22395.74424,23241.47453,24106.91255,25517.11363,33475.81715,41034.2214,42303.69215,58571.07448],\"xaxis\":\"x2\",\"y\":[4915.401789607645,5281.274332308554,5286.764223215139,5288.4611188813415,5292.354033926574,5297.145384880264,5297.245205527067,5432.202391086628,5682.808248632555,5922.598482482207,6181.011341547758,6187.041354893473,6254.128466438133,6312.321465547028,6539.320217524187,7293.408015197591,7740.933170932192,7869.440281548251,8236.63919551994,8272.614279261745,8685.037535224983,9005.076463868943,9070.481894626251,9469.882034470753,9544.346710632726,9717.733023392548,9759.609440618437,10051.1845809817,10268.805836342854,10285.307691306607,10824.658635718215,11195.232771750447,11315.415954432707,11487.857194373135,12566.878931022506,12658.213690216195,12771.967782880785,12938.912035150086,12983.32692140028,13051.459233742835,13278.549051609945,13566.77072269834,13749.859696195019,13815.26748028137,13825.451797748274,13882.220674553932,13885.58304714822,14023.520195330488,14143.545924757464,14195.428728004,14493.777292432564,14494.325268701148,14531.314701212794,14887.618716148256,15430.919257483827,16898.634509214346,17703.076881371366,19608.990810660092,20424.663627921836,21151.744191957514,22502.20054284689,30751.255359454637,37712.87695263049,38894.20168720203,54400.27728591014],\"yaxis\":\"y2\",\"type\":\"scatter\"}],                        {\"template\":{\"data\":{\"barpolar\":[{\"marker\":{\"line\":{\"color\":\"white\",\"width\":0.5},\"pattern\":{\"fillmode\":\"overlay\",\"size\":10,\"solidity\":0.2}},\"type\":\"barpolar\"}],\"bar\":[{\"error_x\":{\"color\":\"#2a3f5f\"},\"error_y\":{\"color\":\"#2a3f5f\"},\"marker\":{\"line\":{\"color\":\"white\",\"width\":0.5},\"pattern\":{\"fillmode\":\"overlay\",\"size\":10,\"solidity\":0.2}},\"type\":\"bar\"}],\"carpet\":[{\"aaxis\":{\"endlinecolor\":\"#2a3f5f\",\"gridcolor\":\"#C8D4E3\",\"linecolor\":\"#C8D4E3\",\"minorgridcolor\":\"#C8D4E3\",\"startlinecolor\":\"#2a3f5f\"},\"baxis\":{\"endlinecolor\":\"#2a3f5f\",\"gridcolor\":\"#C8D4E3\",\"linecolor\":\"#C8D4E3\",\"minorgridcolor\":\"#C8D4E3\",\"startlinecolor\":\"#2a3f5f\"},\"type\":\"carpet\"}],\"choropleth\":[{\"colorbar\":{\"outlinewidth\":0,\"ticks\":\"\"},\"type\":\"choropleth\"}],\"contourcarpet\":[{\"colorbar\":{\"outlinewidth\":0,\"ticks\":\"\"},\"type\":\"contourcarpet\"}],\"contour\":[{\"colorbar\":{\"outlinewidth\":0,\"ticks\":\"\"},\"colorscale\":[[0.0,\"#0d0887\"],[0.1111111111111111,\"#46039f\"],[0.2222222222222222,\"#7201a8\"],[0.3333333333333333,\"#9c179e\"],[0.4444444444444444,\"#bd3786\"],[0.5555555555555556,\"#d8576b\"],[0.6666666666666666,\"#ed7953\"],[0.7777777777777778,\"#fb9f3a\"],[0.8888888888888888,\"#fdca26\"],[1.0,\"#f0f921\"]],\"type\":\"contour\"}],\"heatmapgl\":[{\"colorbar\":{\"outlinewidth\":0,\"ticks\":\"\"},\"colorscale\":[[0.0,\"#0d0887\"],[0.1111111111111111,\"#46039f\"],[0.2222222222222222,\"#7201a8\"],[0.3333333333333333,\"#9c179e\"],[0.4444444444444444,\"#bd3786\"],[0.5555555555555556,\"#d8576b\"],[0.6666666666666666,\"#ed7953\"],[0.7777777777777778,\"#fb9f3a\"],[0.8888888888888888,\"#fdca26\"],[1.0,\"#f0f921\"]],\"type\":\"heatmapgl\"}],\"heatmap\":[{\"colorbar\":{\"outlinewidth\":0,\"ticks\":\"\"},\"colorscale\":[[0.0,\"#0d0887\"],[0.1111111111111111,\"#46039f\"],[0.2222222222222222,\"#7201a8\"],[0.3333333333333333,\"#9c179e\"],[0.4444444444444444,\"#bd3786\"],[0.5555555555555556,\"#d8576b\"],[0.6666666666666666,\"#ed7953\"],[0.7777777777777778,\"#fb9f3a\"],[0.8888888888888888,\"#fdca26\"],[1.0,\"#f0f921\"]],\"type\":\"heatmap\"}],\"histogram2dcontour\":[{\"colorbar\":{\"outlinewidth\":0,\"ticks\":\"\"},\"colorscale\":[[0.0,\"#0d0887\"],[0.1111111111111111,\"#46039f\"],[0.2222222222222222,\"#7201a8\"],[0.3333333333333333,\"#9c179e\"],[0.4444444444444444,\"#bd3786\"],[0.5555555555555556,\"#d8576b\"],[0.6666666666666666,\"#ed7953\"],[0.7777777777777778,\"#fb9f3a\"],[0.8888888888888888,\"#fdca26\"],[1.0,\"#f0f921\"]],\"type\":\"histogram2dcontour\"}],\"histogram2d\":[{\"colorbar\":{\"outlinewidth\":0,\"ticks\":\"\"},\"colorscale\":[[0.0,\"#0d0887\"],[0.1111111111111111,\"#46039f\"],[0.2222222222222222,\"#7201a8\"],[0.3333333333333333,\"#9c179e\"],[0.4444444444444444,\"#bd3786\"],[0.5555555555555556,\"#d8576b\"],[0.6666666666666666,\"#ed7953\"],[0.7777777777777778,\"#fb9f3a\"],[0.8888888888888888,\"#fdca26\"],[1.0,\"#f0f921\"]],\"type\":\"histogram2d\"}],\"histogram\":[{\"marker\":{\"pattern\":{\"fillmode\":\"overlay\",\"size\":10,\"solidity\":0.2}},\"type\":\"histogram\"}],\"mesh3d\":[{\"colorbar\":{\"outlinewidth\":0,\"ticks\":\"\"},\"type\":\"mesh3d\"}],\"parcoords\":[{\"line\":{\"colorbar\":{\"outlinewidth\":0,\"ticks\":\"\"}},\"type\":\"parcoords\"}],\"pie\":[{\"automargin\":true,\"type\":\"pie\"}],\"scatter3d\":[{\"line\":{\"colorbar\":{\"outlinewidth\":0,\"ticks\":\"\"}},\"marker\":{\"colorbar\":{\"outlinewidth\":0,\"ticks\":\"\"}},\"type\":\"scatter3d\"}],\"scattercarpet\":[{\"marker\":{\"colorbar\":{\"outlinewidth\":0,\"ticks\":\"\"}},\"type\":\"scattercarpet\"}],\"scattergeo\":[{\"marker\":{\"colorbar\":{\"outlinewidth\":0,\"ticks\":\"\"}},\"type\":\"scattergeo\"}],\"scattergl\":[{\"marker\":{\"colorbar\":{\"outlinewidth\":0,\"ticks\":\"\"}},\"type\":\"scattergl\"}],\"scattermapbox\":[{\"marker\":{\"colorbar\":{\"outlinewidth\":0,\"ticks\":\"\"}},\"type\":\"scattermapbox\"}],\"scatterpolargl\":[{\"marker\":{\"colorbar\":{\"outlinewidth\":0,\"ticks\":\"\"}},\"type\":\"scatterpolargl\"}],\"scatterpolar\":[{\"marker\":{\"colorbar\":{\"outlinewidth\":0,\"ticks\":\"\"}},\"type\":\"scatterpolar\"}],\"scatter\":[{\"fillpattern\":{\"fillmode\":\"overlay\",\"size\":10,\"solidity\":0.2},\"type\":\"scatter\"}],\"scatterternary\":[{\"marker\":{\"colorbar\":{\"outlinewidth\":0,\"ticks\":\"\"}},\"type\":\"scatterternary\"}],\"surface\":[{\"colorbar\":{\"outlinewidth\":0,\"ticks\":\"\"},\"colorscale\":[[0.0,\"#0d0887\"],[0.1111111111111111,\"#46039f\"],[0.2222222222222222,\"#7201a8\"],[0.3333333333333333,\"#9c179e\"],[0.4444444444444444,\"#bd3786\"],[0.5555555555555556,\"#d8576b\"],[0.6666666666666666,\"#ed7953\"],[0.7777777777777778,\"#fb9f3a\"],[0.8888888888888888,\"#fdca26\"],[1.0,\"#f0f921\"]],\"type\":\"surface\"}],\"table\":[{\"cells\":{\"fill\":{\"color\":\"#EBF0F8\"},\"line\":{\"color\":\"white\"}},\"header\":{\"fill\":{\"color\":\"#C8D4E3\"},\"line\":{\"color\":\"white\"}},\"type\":\"table\"}]},\"layout\":{\"annotationdefaults\":{\"arrowcolor\":\"#2a3f5f\",\"arrowhead\":0,\"arrowwidth\":1},\"autotypenumbers\":\"strict\",\"coloraxis\":{\"colorbar\":{\"outlinewidth\":0,\"ticks\":\"\"}},\"colorscale\":{\"diverging\":[[0,\"#8e0152\"],[0.1,\"#c51b7d\"],[0.2,\"#de77ae\"],[0.3,\"#f1b6da\"],[0.4,\"#fde0ef\"],[0.5,\"#f7f7f7\"],[0.6,\"#e6f5d0\"],[0.7,\"#b8e186\"],[0.8,\"#7fbc41\"],[0.9,\"#4d9221\"],[1,\"#276419\"]],\"sequential\":[[0.0,\"#0d0887\"],[0.1111111111111111,\"#46039f\"],[0.2222222222222222,\"#7201a8\"],[0.3333333333333333,\"#9c179e\"],[0.4444444444444444,\"#bd3786\"],[0.5555555555555556,\"#d8576b\"],[0.6666666666666666,\"#ed7953\"],[0.7777777777777778,\"#fb9f3a\"],[0.8888888888888888,\"#fdca26\"],[1.0,\"#f0f921\"]],\"sequentialminus\":[[0.0,\"#0d0887\"],[0.1111111111111111,\"#46039f\"],[0.2222222222222222,\"#7201a8\"],[0.3333333333333333,\"#9c179e\"],[0.4444444444444444,\"#bd3786\"],[0.5555555555555556,\"#d8576b\"],[0.6666666666666666,\"#ed7953\"],[0.7777777777777778,\"#fb9f3a\"],[0.8888888888888888,\"#fdca26\"],[1.0,\"#f0f921\"]]},\"colorway\":[\"#636efa\",\"#EF553B\",\"#00cc96\",\"#ab63fa\",\"#FFA15A\",\"#19d3f3\",\"#FF6692\",\"#B6E880\",\"#FF97FF\",\"#FECB52\"],\"font\":{\"color\":\"#2a3f5f\"},\"geo\":{\"bgcolor\":\"white\",\"lakecolor\":\"white\",\"landcolor\":\"white\",\"showlakes\":true,\"showland\":true,\"subunitcolor\":\"#C8D4E3\"},\"hoverlabel\":{\"align\":\"left\"},\"hovermode\":\"closest\",\"mapbox\":{\"style\":\"light\"},\"paper_bgcolor\":\"white\",\"plot_bgcolor\":\"white\",\"polar\":{\"angularaxis\":{\"gridcolor\":\"#EBF0F8\",\"linecolor\":\"#EBF0F8\",\"ticks\":\"\"},\"bgcolor\":\"white\",\"radialaxis\":{\"gridcolor\":\"#EBF0F8\",\"linecolor\":\"#EBF0F8\",\"ticks\":\"\"}},\"scene\":{\"xaxis\":{\"backgroundcolor\":\"white\",\"gridcolor\":\"#DFE8F3\",\"gridwidth\":2,\"linecolor\":\"#EBF0F8\",\"showbackground\":true,\"ticks\":\"\",\"zerolinecolor\":\"#EBF0F8\"},\"yaxis\":{\"backgroundcolor\":\"white\",\"gridcolor\":\"#DFE8F3\",\"gridwidth\":2,\"linecolor\":\"#EBF0F8\",\"showbackground\":true,\"ticks\":\"\",\"zerolinecolor\":\"#EBF0F8\"},\"zaxis\":{\"backgroundcolor\":\"white\",\"gridcolor\":\"#DFE8F3\",\"gridwidth\":2,\"linecolor\":\"#EBF0F8\",\"showbackground\":true,\"ticks\":\"\",\"zerolinecolor\":\"#EBF0F8\"}},\"shapedefaults\":{\"line\":{\"color\":\"#2a3f5f\"}},\"ternary\":{\"aaxis\":{\"gridcolor\":\"#DFE8F3\",\"linecolor\":\"#A2B1C6\",\"ticks\":\"\"},\"baxis\":{\"gridcolor\":\"#DFE8F3\",\"linecolor\":\"#A2B1C6\",\"ticks\":\"\"},\"bgcolor\":\"white\",\"caxis\":{\"gridcolor\":\"#DFE8F3\",\"linecolor\":\"#A2B1C6\",\"ticks\":\"\"}},\"title\":{\"x\":0.05},\"xaxis\":{\"automargin\":true,\"gridcolor\":\"#EBF0F8\",\"linecolor\":\"#EBF0F8\",\"ticks\":\"\",\"title\":{\"standoff\":15},\"zerolinecolor\":\"#EBF0F8\",\"zerolinewidth\":2},\"yaxis\":{\"automargin\":true,\"gridcolor\":\"#EBF0F8\",\"linecolor\":\"#EBF0F8\",\"ticks\":\"\",\"title\":{\"standoff\":15},\"zerolinecolor\":\"#EBF0F8\",\"zerolinewidth\":2}}},\"xaxis\":{\"anchor\":\"y\",\"domain\":[0.0,0.49],\"title\":{\"text\":\"Actual Cost, $\"},\"showgrid\":true,\"gridwidth\":1,\"gridcolor\":\"#EAEAEA\",\"zeroline\":true,\"zerolinewidth\":2,\"zerolinecolor\":\"#5E5E5E\"},\"yaxis\":{\"anchor\":\"x\",\"domain\":[0.0,0.46499999999999997],\"title\":{\"text\":\"Predicted Cost, $\"},\"showgrid\":true,\"gridwidth\":1,\"gridcolor\":\"#E3E3E3\",\"zeroline\":true,\"zerolinewidth\":2,\"zerolinecolor\":\"#5E5E5E\"},\"xaxis2\":{\"anchor\":\"y2\",\"domain\":[0.51,1.0],\"matches\":\"x\",\"title\":{\"text\":\"Actual Cost, $\"},\"showgrid\":true,\"gridwidth\":1,\"gridcolor\":\"#EAEAEA\",\"zeroline\":true,\"zerolinewidth\":2,\"zerolinecolor\":\"#5E5E5E\"},\"yaxis2\":{\"anchor\":\"x2\",\"domain\":[0.0,0.46499999999999997],\"matches\":\"y\",\"showticklabels\":false,\"showgrid\":true,\"gridwidth\":1,\"gridcolor\":\"#E3E3E3\",\"zeroline\":true,\"zerolinewidth\":2,\"zerolinecolor\":\"#5E5E5E\"},\"xaxis3\":{\"anchor\":\"y3\",\"domain\":[0.0,0.49],\"matches\":\"x\",\"showticklabels\":false,\"showgrid\":true,\"gridwidth\":1,\"gridcolor\":\"#EAEAEA\",\"zeroline\":true,\"zerolinewidth\":2,\"zerolinecolor\":\"#5E5E5E\"},\"yaxis3\":{\"anchor\":\"x3\",\"domain\":[0.5349999999999999,0.9999999999999999],\"matches\":\"y\",\"title\":{\"text\":\"Predicted Cost, $\"},\"showgrid\":true,\"gridwidth\":1,\"gridcolor\":\"#E3E3E3\",\"zeroline\":true,\"zerolinewidth\":2,\"zerolinecolor\":\"#5E5E5E\"},\"xaxis4\":{\"anchor\":\"y4\",\"domain\":[0.51,1.0],\"matches\":\"x\",\"showticklabels\":false,\"showgrid\":true,\"gridwidth\":1,\"gridcolor\":\"#EAEAEA\",\"zeroline\":true,\"zerolinewidth\":2,\"zerolinecolor\":\"#5E5E5E\"},\"yaxis4\":{\"anchor\":\"x4\",\"domain\":[0.5349999999999999,0.9999999999999999],\"matches\":\"y\",\"showticklabels\":false,\"showgrid\":true,\"gridwidth\":1,\"gridcolor\":\"#E3E3E3\",\"zeroline\":true,\"zerolinewidth\":2,\"zerolinecolor\":\"#5E5E5E\"},\"annotations\":[{\"showarrow\":false,\"text\":\"Northwest\",\"x\":0.245,\"xanchor\":\"center\",\"xref\":\"paper\",\"y\":0.46499999999999997,\"yanchor\":\"bottom\",\"yref\":\"paper\"},{\"showarrow\":false,\"text\":\"Northeast\",\"x\":0.755,\"xanchor\":\"center\",\"xref\":\"paper\",\"y\":0.46499999999999997,\"yanchor\":\"bottom\",\"yref\":\"paper\"},{\"showarrow\":false,\"text\":\"Southwest\",\"x\":0.245,\"xanchor\":\"center\",\"xref\":\"paper\",\"y\":0.9999999999999999,\"yanchor\":\"bottom\",\"yref\":\"paper\"},{\"showarrow\":false,\"text\":\"Southeast\",\"x\":0.755,\"xanchor\":\"center\",\"xref\":\"paper\",\"y\":0.9999999999999999,\"yanchor\":\"bottom\",\"yref\":\"paper\"},{\"showarrow\":false,\"text\":\"Adj. R-Squared = 82.0%<br>RMSE = 4,118\",\"x\":51000.0,\"xref\":\"x3\",\"y\":15000.0,\"yref\":\"y3\"},{\"showarrow\":false,\"text\":\"Adj. R-Squared = 93.7%<br>RMSE = 3,212\",\"x\":51000.0,\"xref\":\"x4\",\"y\":15000.0,\"yref\":\"y4\"},{\"showarrow\":false,\"text\":\"Adj. R-Squared = 80.6%<br>RMSE = 4,560\",\"x\":51000.0,\"xref\":\"x\",\"y\":15000.0,\"yref\":\"y\"},{\"showarrow\":false,\"text\":\"Adj. R-Squared = 61.7%<br>RMSE = 5,276\",\"x\":51000.0,\"xref\":\"x2\",\"y\":15000.0,\"yref\":\"y2\"}],\"legend\":{\"title\":{\"text\":\"index\"},\"tracegroupgap\":0},\"title\":{\"text\":\"Actual vs Predicted Insurance Costs by Region,<br>Gradient Boosting\"},\"height\":700,\"font\":{\"color\":\"#303030\"},\"paper_bgcolor\":\"white\",\"plot_bgcolor\":\"white\"},                        {\"responsive\": true}                    ).then(function(){\n",
       "                            \n",
       "var gd = document.getElementById('f4cd91c2-f5b9-41a4-95bd-4344770d523f');\n",
       "var x = new MutationObserver(function (mutations, observer) {{\n",
       "        var display = window.getComputedStyle(gd).display;\n",
       "        if (!display || display === 'none') {{\n",
       "            console.log([gd, 'removed!']);\n",
       "            Plotly.purge(gd);\n",
       "            observer.disconnect();\n",
       "        }}\n",
       "}});\n",
       "\n",
       "// Listen for the removal of the full notebook cells\n",
       "var notebookContainer = gd.closest('#notebook-container');\n",
       "if (notebookContainer) {{\n",
       "    x.observe(notebookContainer, {childList: true});\n",
       "}}\n",
       "\n",
       "// Listen for the clearing of the current output cell\n",
       "var outputEl = gd.closest('.output');\n",
       "if (outputEl) {{\n",
       "    x.observe(outputEl, {childList: true});\n",
       "}}\n",
       "\n",
       "                        })                };                });            </script>        </div>"
      ]
     },
     "metadata": {},
     "output_type": "display_data"
    }
   ],
   "source": [
    "actuals=[]\n",
    "preds=[]\n",
    "rmses=[]\n",
    "r2_scores=[]\n",
    "adj_r2_scores=[]\n",
    "feat_importance=pd.DataFrame()\n",
    "\n",
    "for i in regions:\n",
    "    \n",
    "    # Filter data by region\n",
    "    ins_df = ins[ins.region==i]\n",
    "    X=ins_df.drop(['charges', 'region'], axis=1)\n",
    "    y=ins_df.charges\n",
    "    \n",
    "    # Add polynomial features\n",
    "    pf = PolynomialFeatures(degree=2, include_bias=False)\n",
    "    X_pf = pd.DataFrame(data=pf.fit_transform(X), columns=pf.get_feature_names(X.columns))\n",
    "    \n",
    "    # Create training and test sets\n",
    "    X_train, X_test, y_train, y_test = train_test_split(X_pf, y, test_size=0.2, random_state=1)\n",
    "    X_train = pd.DataFrame(X_train, columns = X_pf.columns)\n",
    "    X_test = pd.DataFrame(X_test, columns = X_pf.columns)\n",
    "    actuals.append(pd.Series(y_test, name='actuals').reset_index())\n",
    "    print(\"\\nRegion: {}\\n\".format(i))\n",
    "    print(\"Train Shape:{} {}  Test Shape:{} {}\".format(X_train.shape, y_train.shape, X_test.shape, y_test.shape))\n",
    "    \n",
    "    # Scale features\n",
    "    X_train = pd.DataFrame(data=s.fit_transform(X_train), columns=X_pf.columns)\n",
    "    X_test = pd.DataFrame(data=s.transform(X_test), columns=X_pf.columns)\n",
    "    \n",
    "    # Tuning \n",
    "    grid = {'learning_rate': [0.0001, 0.001, 0.01, 0.1, 0.25, 0.5],\n",
    "            'n_estimators': [int(x) for x in np.linspace(start = 200, stop = 1000, num = 5)],\n",
    "            'subsample': [0.5, 0.8, 1],\n",
    "            'min_samples_split': [2, 5, 10],\n",
    "            'min_samples_leaf': [1, 2, 4],\n",
    "            'max_depth': [int(x) for x in np.linspace(2, 10, num = 5)],\n",
    "            'max_features': [None, 'sqrt']}\n",
    "    xgb=GradientBoostingRegressor(random_state=21)\n",
    "    xgb_cv=RandomizedSearchCV(estimator=xgb, param_distributions=grid, scoring='neg_mean_squared_error', \n",
    "                              n_iter=100, cv=3, random_state=21, n_jobs=-1)\n",
    "    xgb_cv.fit(X_train, y_train)\n",
    "    y_pred=xgb_cv.predict(X_test)\n",
    "    preds.append(pd.Series(y_pred, name='preds').reset_index(drop=True))\n",
    "    rmse=np.sqrt(mean_squared_error(y_test, y_pred)).round(2)\n",
    "    r2=r2_score(y_test, y_pred)\n",
    "    adj_r2 = 1 - (1-r2)*(len(y_test)-1)/(len(y_test)-X_test.shape[1]-1)\n",
    "    rmses.append(rmse)\n",
    "    r2_scores.append(r2)\n",
    "    adj_r2_scores.append(adj_r2)\n",
    "    \n",
    "    # Save feature importance\n",
    "    feat_importance[\"Importance_\"+str(i)]=xgb_cv.best_estimator_.feature_importances_\n",
    "    \n",
    "    print(\"Test Error (RMSE) = {:,}\".format(rmse))\n",
    "    print(\"R-Squared = {:.2f}%, Adjusted R-Squared = {:.2f}%\".format(r2*100, adj_r2*100))\n",
    "    if i != 'Northeast':\n",
    "        print(\"__________________________\")\n",
    "\n",
    "# Plot results\n",
    "for i in range(0,4):\n",
    "    actuals[i].loc[:,'index']=regions[i]\n",
    "actual = pd.concat([actuals[i] for i in range(4)], axis = 0)\n",
    "pred = pd.concat([preds[i] for i in range(4)], axis = 0)\n",
    "df = pd.concat([actual, pred], axis=1).reset_index(drop=True)\n",
    "\n",
    "fig = px.scatter(df, x=\"actuals\", y=\"preds\", color=\"index\", trendline=\"lowess\", height=700,\n",
    "                 title=\"Actual vs Predicted Insurance Costs by Region,<br>Gradient Boosting\",\n",
    "                 color_discrete_sequence=col, opacity=0.7, facet_col='index', facet_col_wrap=2)\n",
    "\n",
    "fig.for_each_annotation(lambda a: a.update(text=a.text.split(\"=\")[-1]))\n",
    "fig.add_annotation(text=\"Adj. R-Squared = {:.1f}%<br>RMSE = {:,.0f}\".format(adj_r2_scores[0]*100,rmses[0]),\n",
    "                   x=51e3,y=15e3, row=2,col=1, showarrow=False)\n",
    "fig.add_annotation(text=\"Adj. R-Squared = {:.1f}%<br>RMSE = {:,.0f}\".format(adj_r2_scores[1]*100,rmses[1]),\n",
    "                   x=51e3,y=15e3, row=2,col=2, showarrow=False)\n",
    "fig.add_annotation(text=\"Adj. R-Squared = {:.1f}%<br>RMSE = {:,.0f}\".format(adj_r2_scores[2]*100,rmses[2]),\n",
    "                   x=51e3,y=15e3, row=1,col=1, showarrow=False)\n",
    "fig.add_annotation(text=\"Adj. R-Squared = {:.1f}%<br>RMSE = {:,.0f}\".format(adj_r2_scores[3]*100,rmses[3]),\n",
    "                   x=51e3,y=15e3, row=1,col=2, showarrow=False)\n",
    "\n",
    "fig.update_traces(hovertemplate=\"Actual Cost: %{x:$,.2f}<br>Predicted Cost: %{y:$,.2f}\",\n",
    "                  marker=dict(size=10,line=dict(width=1,color=\"#F7F7F7\")),\n",
    "                  selector=dict(mode=\"markers\"), showlegend=False)\n",
    "fig.update_xaxes(title=\"Actual Cost, $\", row=1)\n",
    "fig.update_xaxes(showgrid=True, gridwidth=1, gridcolor='#EAEAEA',\n",
    "                 zeroline=True, zerolinewidth=2, zerolinecolor='#5E5E5E')\n",
    "fig.update_yaxes(title=\"Predicted Cost, $\", col=1)\n",
    "fig.update_yaxes(showgrid=True, gridwidth=1, gridcolor='#E3E3E3',\n",
    "                 zeroline=True, zerolinewidth=2, zerolinecolor='#5E5E5E')\n",
    "fig.update_layout(font_color=\"#303030\", paper_bgcolor=\"white\", plot_bgcolor=\"white\")\n",
    "fig.show()"
   ]
  },
  {
   "cell_type": "markdown",
   "metadata": {},
   "source": [
    "## <b><span style='color:#5477A5'>8.1</span> | Overall Model Results</b>"
   ]
  },
  {
   "cell_type": "code",
   "execution_count": 18,
   "metadata": {
    "_kg_hide-input": true,
    "execution": {
     "iopub.execute_input": "2022-01-25T00:37:07.853299Z",
     "iopub.status.busy": "2022-01-25T00:37:07.85254Z",
     "iopub.status.idle": "2022-01-25T00:37:07.866351Z",
     "shell.execute_reply": "2022-01-25T00:37:07.865379Z",
     "shell.execute_reply.started": "2022-01-25T00:37:07.853255Z"
    }
   },
   "outputs": [
    {
     "data": {
      "text/html": [
       "<div>\n",
       "<style scoped>\n",
       "    .dataframe tbody tr th:only-of-type {\n",
       "        vertical-align: middle;\n",
       "    }\n",
       "\n",
       "    .dataframe tbody tr th {\n",
       "        vertical-align: top;\n",
       "    }\n",
       "\n",
       "    .dataframe thead th {\n",
       "        text-align: right;\n",
       "    }\n",
       "</style>\n",
       "<table border=\"1\" class=\"dataframe\">\n",
       "  <thead>\n",
       "    <tr style=\"text-align: right;\">\n",
       "      <th></th>\n",
       "      <th>Average RMSE</th>\n",
       "      <th>Avg. Adjusted R2</th>\n",
       "    </tr>\n",
       "  </thead>\n",
       "  <tbody>\n",
       "    <tr>\n",
       "      <th>Gradient Boosting</th>\n",
       "      <td>4,291.35</td>\n",
       "      <td>79.51%</td>\n",
       "    </tr>\n",
       "    <tr>\n",
       "      <th>SVM</th>\n",
       "      <td>5,044.38</td>\n",
       "      <td>74.04%</td>\n",
       "    </tr>\n",
       "    <tr>\n",
       "      <th>KNN</th>\n",
       "      <td>5,370.01</td>\n",
       "      <td>69.96%</td>\n",
       "    </tr>\n",
       "    <tr>\n",
       "      <th>Linear Regression</th>\n",
       "      <td>5,646.52</td>\n",
       "      <td>74.10%</td>\n",
       "    </tr>\n",
       "  </tbody>\n",
       "</table>\n",
       "</div>"
      ],
      "text/plain": [
       "                  Average RMSE Avg. Adjusted R2\n",
       "Gradient Boosting     4,291.35           79.51%\n",
       "SVM                   5,044.38           74.04%\n",
       "KNN                   5,370.01           69.96%\n",
       "Linear Regression     5,646.52           74.10%"
      ]
     },
     "metadata": {},
     "output_type": "display_data"
    }
   ],
   "source": [
    "mod_res.iloc[3,0]=pd.Series(rmses).mean()\n",
    "mod_res.iloc[3,1]=pd.Series(adj_r2_scores).mean()\n",
    "mod_res[\"Average RMSE\"]=mod_res[\"Average RMSE\"].map('{:,.2f}'.format)\n",
    "mod_res[\"Avg. Adjusted R2\"]=mod_res[\"Avg. Adjusted R2\"].mul(100).map('{:.2f}%'.format)\n",
    "display(mod_res.sort_values(\"Average RMSE\"))"
   ]
  },
  {
   "cell_type": "markdown",
   "metadata": {},
   "source": [
    "Gradient Boosting was able to reduce the test error of the models even further to 4,291 overall and increase the average adjusted $R^2$ to nearly 80%. Gradient boosting outperforms the SVR models for each region except the Northeast. Support Vector Regression provides the lowest test error in the Northeast region."
   ]
  },
  {
   "cell_type": "markdown",
   "metadata": {},
   "source": [
    "# <div style=\"color:white;display:fill;border-radius:5px;background-color:#84A3C3;overflow:hidden\"><p style=\"padding:20px;color:white;overflow:hidden;font-size:100%;margin:0\"><b>9 |</b> Feature Importance</p></div>"
   ]
  },
  {
   "cell_type": "code",
   "execution_count": 19,
   "metadata": {
    "_kg_hide-input": true,
    "execution": {
     "iopub.execute_input": "2022-01-25T00:37:07.868551Z",
     "iopub.status.busy": "2022-01-25T00:37:07.867766Z",
     "iopub.status.idle": "2022-01-25T00:37:08.101336Z",
     "shell.execute_reply": "2022-01-25T00:37:08.100344Z",
     "shell.execute_reply.started": "2022-01-25T00:37:07.868516Z"
    }
   },
   "outputs": [
    {
     "data": {
      "application/vnd.plotly.v1+json": {
       "config": {
        "plotlyServerURL": "https://plot.ly"
       },
       "data": [
        {
         "alignmentgroup": "True",
         "hovertemplate": "Importance = <b>%{x:.2}</b>",
         "legendgroup": "bmi smoker_yes",
         "marker": {
          "color": "#fde7a9",
          "line": {
           "color": "#3F3B3A",
           "width": 1
          },
          "opacity": 0.8,
          "pattern": {
           "shape": ""
          }
         },
         "name": "bmi smoker_yes",
         "offsetgroup": "bmi smoker_yes",
         "orientation": "h",
         "showlegend": false,
         "text": [
          0.23780277460107246
         ],
         "textposition": "outside",
         "texttemplate": "%{text:.2f}",
         "type": "bar",
         "x": [
          0.23780277460107246
         ],
         "xaxis": "x",
         "y": [
          "bmi smoker_yes"
         ],
         "yaxis": "y"
        },
        {
         "alignmentgroup": "True",
         "hovertemplate": "Importance = <b>%{x:.2}</b>",
         "legendgroup": "age smoker_yes",
         "marker": {
          "color": "#fed194",
          "line": {
           "color": "#3F3B3A",
           "width": 1
          },
          "opacity": 0.8,
          "pattern": {
           "shape": ""
          }
         },
         "name": "age smoker_yes",
         "offsetgroup": "age smoker_yes",
         "orientation": "h",
         "showlegend": false,
         "text": [
          0.15622935142145974
         ],
         "textposition": "outside",
         "texttemplate": "%{text:.2f}",
         "type": "bar",
         "x": [
          0.15622935142145974
         ],
         "xaxis": "x",
         "y": [
          "age smoker_yes"
         ],
         "yaxis": "y"
        },
        {
         "alignmentgroup": "True",
         "hovertemplate": "Importance = <b>%{x:.2}</b>",
         "legendgroup": "smoker_yes^2",
         "marker": {
          "color": "#febb81",
          "line": {
           "color": "#3F3B3A",
           "width": 1
          },
          "opacity": 0.8,
          "pattern": {
           "shape": ""
          }
         },
         "name": "smoker_yes^2",
         "offsetgroup": "smoker_yes^2",
         "orientation": "h",
         "showlegend": false,
         "text": [
          0.14135532387278563
         ],
         "textposition": "outside",
         "texttemplate": "%{text:.2f}",
         "type": "bar",
         "x": [
          0.14135532387278563
         ],
         "xaxis": "x",
         "y": [
          "smoker_yes^2"
         ],
         "yaxis": "y"
        },
        {
         "alignmentgroup": "True",
         "hovertemplate": "Importance = <b>%{x:.2}</b>",
         "legendgroup": "smoker_yes",
         "marker": {
          "color": "#fea571",
          "line": {
           "color": "#3F3B3A",
           "width": 1
          },
          "opacity": 0.8,
          "pattern": {
           "shape": ""
          }
         },
         "name": "smoker_yes",
         "offsetgroup": "smoker_yes",
         "orientation": "h",
         "showlegend": false,
         "text": [
          0.13460793266628426
         ],
         "textposition": "outside",
         "texttemplate": "%{text:.2f}",
         "type": "bar",
         "x": [
          0.13460793266628426
         ],
         "xaxis": "x",
         "y": [
          "smoker_yes"
         ],
         "yaxis": "y"
        },
        {
         "alignmentgroup": "True",
         "hovertemplate": "Importance = <b>%{x:.2}</b>",
         "legendgroup": "age bmi",
         "marker": {
          "color": "#fc8e64",
          "line": {
           "color": "#3F3B3A",
           "width": 1
          },
          "opacity": 0.8,
          "pattern": {
           "shape": ""
          }
         },
         "name": "age bmi",
         "offsetgroup": "age bmi",
         "orientation": "h",
         "showlegend": false,
         "text": [
          0.05560692682936757
         ],
         "textposition": "outside",
         "texttemplate": "%{text:.2f}",
         "type": "bar",
         "x": [
          0.05560692682936757
         ],
         "xaxis": "x",
         "y": [
          "age bmi"
         ],
         "yaxis": "y"
        },
        {
         "alignmentgroup": "True",
         "hovertemplate": "Importance = <b>%{x:.2}</b>",
         "legendgroup": "age",
         "marker": {
          "color": "#f8765c",
          "line": {
           "color": "#3F3B3A",
           "width": 1
          },
          "opacity": 0.8,
          "pattern": {
           "shape": ""
          }
         },
         "name": "age",
         "offsetgroup": "age",
         "orientation": "h",
         "showlegend": false,
         "text": [
          0.04886528661937072
         ],
         "textposition": "outside",
         "texttemplate": "%{text:.2f}",
         "type": "bar",
         "x": [
          0.04886528661937072
         ],
         "xaxis": "x",
         "y": [
          "age"
         ],
         "yaxis": "y"
        },
        {
         "alignmentgroup": "True",
         "hovertemplate": "Importance = <b>%{x:.2}</b>",
         "legendgroup": "age^2",
         "marker": {
          "color": "#f1605d",
          "line": {
           "color": "#3F3B3A",
           "width": 1
          },
          "opacity": 0.8,
          "pattern": {
           "shape": ""
          }
         },
         "name": "age^2",
         "offsetgroup": "age^2",
         "orientation": "h",
         "showlegend": false,
         "text": [
          0.04388461875584225
         ],
         "textposition": "outside",
         "texttemplate": "%{text:.2f}",
         "type": "bar",
         "x": [
          0.04388461875584225
         ],
         "xaxis": "x",
         "y": [
          "age^2"
         ],
         "yaxis": "y"
        },
        {
         "alignmentgroup": "True",
         "hovertemplate": "Importance = <b>%{x:.2}</b>",
         "legendgroup": "bmi^2",
         "marker": {
          "color": "#e44f64",
          "line": {
           "color": "#3F3B3A",
           "width": 1
          },
          "opacity": 0.8,
          "pattern": {
           "shape": ""
          }
         },
         "name": "bmi^2",
         "offsetgroup": "bmi^2",
         "orientation": "h",
         "showlegend": false,
         "text": [
          0.03594414805835943
         ],
         "textposition": "outside",
         "texttemplate": "%{text:.2f}",
         "type": "bar",
         "x": [
          0.03594414805835943
         ],
         "xaxis": "x",
         "y": [
          "bmi^2"
         ],
         "yaxis": "y"
        },
        {
         "alignmentgroup": "True",
         "hovertemplate": "Importance = <b>%{x:.2}</b>",
         "legendgroup": "bmi",
         "marker": {
          "color": "#d3436e",
          "line": {
           "color": "#3F3B3A",
           "width": 1
          },
          "opacity": 0.8,
          "pattern": {
           "shape": ""
          }
         },
         "name": "bmi",
         "offsetgroup": "bmi",
         "orientation": "h",
         "showlegend": false,
         "text": [
          0.035095248211926486
         ],
         "textposition": "outside",
         "texttemplate": "%{text:.2f}",
         "type": "bar",
         "x": [
          0.035095248211926486
         ],
         "xaxis": "x",
         "y": [
          "bmi"
         ],
         "yaxis": "y"
        },
        {
         "alignmentgroup": "True",
         "hovertemplate": "Importance = <b>%{x:.2}</b>",
         "legendgroup": "children smoker_yes",
         "marker": {
          "color": "#c03a76",
          "line": {
           "color": "#3F3B3A",
           "width": 1
          },
          "opacity": 0.8,
          "pattern": {
           "shape": ""
          }
         },
         "name": "children smoker_yes",
         "offsetgroup": "children smoker_yes",
         "orientation": "h",
         "showlegend": false,
         "text": [
          0.0333595894309977
         ],
         "textposition": "outside",
         "texttemplate": "%{text:.2f}",
         "type": "bar",
         "x": [
          0.0333595894309977
         ],
         "xaxis": "x",
         "y": [
          "children smoker_yes"
         ],
         "yaxis": "y"
        },
        {
         "alignmentgroup": "True",
         "hovertemplate": "Importance = <b>%{x:.2}</b>",
         "legendgroup": "female smoker_yes",
         "marker": {
          "color": "#ab337c",
          "line": {
           "color": "#3F3B3A",
           "width": 1
          },
          "opacity": 0.8,
          "pattern": {
           "shape": ""
          }
         },
         "name": "female smoker_yes",
         "offsetgroup": "female smoker_yes",
         "orientation": "h",
         "showlegend": false,
         "text": [
          0.014830848344711402
         ],
         "textposition": "outside",
         "texttemplate": "%{text:.2f}",
         "type": "bar",
         "x": [
          0.014830848344711402
         ],
         "xaxis": "x",
         "y": [
          "female smoker_yes"
         ],
         "yaxis": "y"
        },
        {
         "alignmentgroup": "True",
         "hovertemplate": "Importance = <b>%{x:.2}</b>",
         "legendgroup": "age children",
         "marker": {
          "color": "#982d80",
          "line": {
           "color": "#3F3B3A",
           "width": 1
          },
          "opacity": 0.8,
          "pattern": {
           "shape": ""
          }
         },
         "name": "age children",
         "offsetgroup": "age children",
         "orientation": "h",
         "showlegend": false,
         "text": [
          0.014751633001448598
         ],
         "textposition": "outside",
         "texttemplate": "%{text:.2f}",
         "type": "bar",
         "x": [
          0.014751633001448598
         ],
         "xaxis": "x",
         "y": [
          "age children"
         ],
         "yaxis": "y"
        },
        {
         "alignmentgroup": "True",
         "hovertemplate": "Importance = <b>%{x:.2}</b>",
         "legendgroup": "bmi children",
         "marker": {
          "color": "#842681",
          "line": {
           "color": "#3F3B3A",
           "width": 1
          },
          "opacity": 0.8,
          "pattern": {
           "shape": ""
          }
         },
         "name": "bmi children",
         "offsetgroup": "bmi children",
         "orientation": "h",
         "showlegend": false,
         "text": [
          0.01260531070469836
         ],
         "textposition": "outside",
         "texttemplate": "%{text:.2f}",
         "type": "bar",
         "x": [
          0.01260531070469836
         ],
         "xaxis": "x",
         "y": [
          "bmi children"
         ],
         "yaxis": "y"
        },
        {
         "alignmentgroup": "True",
         "hovertemplate": "Importance = <b>%{x:.2}</b>",
         "legendgroup": "age female",
         "marker": {
          "color": "#721f81",
          "line": {
           "color": "#3F3B3A",
           "width": 1
          },
          "opacity": 0.8,
          "pattern": {
           "shape": ""
          }
         },
         "name": "age female",
         "offsetgroup": "age female",
         "orientation": "h",
         "showlegend": false,
         "text": [
          0.01156888401990276
         ],
         "textposition": "outside",
         "texttemplate": "%{text:.2f}",
         "type": "bar",
         "x": [
          0.01156888401990276
         ],
         "xaxis": "x",
         "y": [
          "age female"
         ],
         "yaxis": "y"
        },
        {
         "alignmentgroup": "True",
         "hovertemplate": "Importance = <b>%{x:.2}</b>",
         "legendgroup": "bmi female",
         "marker": {
          "color": "#5f187f",
          "line": {
           "color": "#3F3B3A",
           "width": 1
          },
          "opacity": 0.8,
          "pattern": {
           "shape": ""
          }
         },
         "name": "bmi female",
         "offsetgroup": "bmi female",
         "orientation": "h",
         "showlegend": false,
         "text": [
          0.011532925415229829
         ],
         "textposition": "outside",
         "texttemplate": "%{text:.2f}",
         "type": "bar",
         "x": [
          0.011532925415229829
         ],
         "xaxis": "x",
         "y": [
          "bmi female"
         ],
         "yaxis": "y"
        },
        {
         "alignmentgroup": "True",
         "hovertemplate": "Importance = <b>%{x:.2}</b>",
         "legendgroup": "children^2",
         "marker": {
          "color": "#4a1079",
          "line": {
           "color": "#3F3B3A",
           "width": 1
          },
          "opacity": 0.8,
          "pattern": {
           "shape": ""
          }
         },
         "name": "children^2",
         "offsetgroup": "children^2",
         "orientation": "h",
         "showlegend": false,
         "text": [
          0.0034313296994771146
         ],
         "textposition": "outside",
         "texttemplate": "%{text:.2f}",
         "type": "bar",
         "x": [
          0.0034313296994771146
         ],
         "xaxis": "x",
         "y": [
          "children^2"
         ],
         "yaxis": "y"
        },
        {
         "alignmentgroup": "True",
         "hovertemplate": "Importance = <b>%{x:.2}</b>",
         "legendgroup": "children",
         "marker": {
          "color": "#36106b",
          "line": {
           "color": "#3F3B3A",
           "width": 1
          },
          "opacity": 0.8,
          "pattern": {
           "shape": ""
          }
         },
         "name": "children",
         "offsetgroup": "children",
         "orientation": "h",
         "showlegend": false,
         "text": [
          0.0034176230208931638
         ],
         "textposition": "outside",
         "texttemplate": "%{text:.2f}",
         "type": "bar",
         "x": [
          0.0034176230208931638
         ],
         "xaxis": "x",
         "y": [
          "children"
         ],
         "yaxis": "y"
        },
        {
         "alignmentgroup": "True",
         "hovertemplate": "Importance = <b>%{x:.2}</b>",
         "legendgroup": "children female",
         "marker": {
          "color": "#221150",
          "line": {
           "color": "#3F3B3A",
           "width": 1
          },
          "opacity": 0.8,
          "pattern": {
           "shape": ""
          }
         },
         "name": "children female",
         "offsetgroup": "children female",
         "orientation": "h",
         "showlegend": false,
         "text": [
          0.003312430017832467
         ],
         "textposition": "outside",
         "texttemplate": "%{text:.2f}",
         "type": "bar",
         "x": [
          0.003312430017832467
         ],
         "xaxis": "x",
         "y": [
          "children female"
         ],
         "yaxis": "y"
        },
        {
         "alignmentgroup": "True",
         "hovertemplate": "Importance = <b>%{x:.2}</b>",
         "legendgroup": "female^2",
         "marker": {
          "color": "#130d34",
          "line": {
           "color": "#3F3B3A",
           "width": 1
          },
          "opacity": 0.8,
          "pattern": {
           "shape": ""
          }
         },
         "name": "female^2",
         "offsetgroup": "female^2",
         "orientation": "h",
         "showlegend": false,
         "text": [
          0.0009208507927611657
         ],
         "textposition": "outside",
         "texttemplate": "%{text:.2f}",
         "type": "bar",
         "x": [
          0.0009208507927611657
         ],
         "xaxis": "x",
         "y": [
          "female^2"
         ],
         "yaxis": "y"
        },
        {
         "alignmentgroup": "True",
         "hovertemplate": "Importance = <b>%{x:.2}</b>",
         "legendgroup": "female",
         "marker": {
          "color": "#06051a",
          "line": {
           "color": "#3F3B3A",
           "width": 1
          },
          "opacity": 0.8,
          "pattern": {
           "shape": ""
          }
         },
         "name": "female",
         "offsetgroup": "female",
         "orientation": "h",
         "showlegend": false,
         "text": [
          0.0008769645155789132
         ],
         "textposition": "outside",
         "texttemplate": "%{text:.2f}",
         "type": "bar",
         "x": [
          0.0008769645155789132
         ],
         "xaxis": "x",
         "y": [
          "female"
         ],
         "yaxis": "y"
        }
       ],
       "layout": {
        "barmode": "relative",
        "coloraxis": {
         "showscale": false
        },
        "font": {
         "color": "#303030"
        },
        "height": 700,
        "legend": {
         "title": {
          "text": "index"
         },
         "tracegroupgap": 0
        },
        "margin": {
         "t": 60
        },
        "template": {
         "data": {
          "bar": [
           {
            "error_x": {
             "color": "#2a3f5f"
            },
            "error_y": {
             "color": "#2a3f5f"
            },
            "marker": {
             "line": {
              "color": "white",
              "width": 0.5
             },
             "pattern": {
              "fillmode": "overlay",
              "size": 10,
              "solidity": 0.2
             }
            },
            "type": "bar"
           }
          ],
          "barpolar": [
           {
            "marker": {
             "line": {
              "color": "white",
              "width": 0.5
             },
             "pattern": {
              "fillmode": "overlay",
              "size": 10,
              "solidity": 0.2
             }
            },
            "type": "barpolar"
           }
          ],
          "carpet": [
           {
            "aaxis": {
             "endlinecolor": "#2a3f5f",
             "gridcolor": "#C8D4E3",
             "linecolor": "#C8D4E3",
             "minorgridcolor": "#C8D4E3",
             "startlinecolor": "#2a3f5f"
            },
            "baxis": {
             "endlinecolor": "#2a3f5f",
             "gridcolor": "#C8D4E3",
             "linecolor": "#C8D4E3",
             "minorgridcolor": "#C8D4E3",
             "startlinecolor": "#2a3f5f"
            },
            "type": "carpet"
           }
          ],
          "choropleth": [
           {
            "colorbar": {
             "outlinewidth": 0,
             "ticks": ""
            },
            "type": "choropleth"
           }
          ],
          "contour": [
           {
            "colorbar": {
             "outlinewidth": 0,
             "ticks": ""
            },
            "colorscale": [
             [
              0,
              "#0d0887"
             ],
             [
              0.1111111111111111,
              "#46039f"
             ],
             [
              0.2222222222222222,
              "#7201a8"
             ],
             [
              0.3333333333333333,
              "#9c179e"
             ],
             [
              0.4444444444444444,
              "#bd3786"
             ],
             [
              0.5555555555555556,
              "#d8576b"
             ],
             [
              0.6666666666666666,
              "#ed7953"
             ],
             [
              0.7777777777777778,
              "#fb9f3a"
             ],
             [
              0.8888888888888888,
              "#fdca26"
             ],
             [
              1,
              "#f0f921"
             ]
            ],
            "type": "contour"
           }
          ],
          "contourcarpet": [
           {
            "colorbar": {
             "outlinewidth": 0,
             "ticks": ""
            },
            "type": "contourcarpet"
           }
          ],
          "heatmap": [
           {
            "colorbar": {
             "outlinewidth": 0,
             "ticks": ""
            },
            "colorscale": [
             [
              0,
              "#0d0887"
             ],
             [
              0.1111111111111111,
              "#46039f"
             ],
             [
              0.2222222222222222,
              "#7201a8"
             ],
             [
              0.3333333333333333,
              "#9c179e"
             ],
             [
              0.4444444444444444,
              "#bd3786"
             ],
             [
              0.5555555555555556,
              "#d8576b"
             ],
             [
              0.6666666666666666,
              "#ed7953"
             ],
             [
              0.7777777777777778,
              "#fb9f3a"
             ],
             [
              0.8888888888888888,
              "#fdca26"
             ],
             [
              1,
              "#f0f921"
             ]
            ],
            "type": "heatmap"
           }
          ],
          "heatmapgl": [
           {
            "colorbar": {
             "outlinewidth": 0,
             "ticks": ""
            },
            "colorscale": [
             [
              0,
              "#0d0887"
             ],
             [
              0.1111111111111111,
              "#46039f"
             ],
             [
              0.2222222222222222,
              "#7201a8"
             ],
             [
              0.3333333333333333,
              "#9c179e"
             ],
             [
              0.4444444444444444,
              "#bd3786"
             ],
             [
              0.5555555555555556,
              "#d8576b"
             ],
             [
              0.6666666666666666,
              "#ed7953"
             ],
             [
              0.7777777777777778,
              "#fb9f3a"
             ],
             [
              0.8888888888888888,
              "#fdca26"
             ],
             [
              1,
              "#f0f921"
             ]
            ],
            "type": "heatmapgl"
           }
          ],
          "histogram": [
           {
            "marker": {
             "pattern": {
              "fillmode": "overlay",
              "size": 10,
              "solidity": 0.2
             }
            },
            "type": "histogram"
           }
          ],
          "histogram2d": [
           {
            "colorbar": {
             "outlinewidth": 0,
             "ticks": ""
            },
            "colorscale": [
             [
              0,
              "#0d0887"
             ],
             [
              0.1111111111111111,
              "#46039f"
             ],
             [
              0.2222222222222222,
              "#7201a8"
             ],
             [
              0.3333333333333333,
              "#9c179e"
             ],
             [
              0.4444444444444444,
              "#bd3786"
             ],
             [
              0.5555555555555556,
              "#d8576b"
             ],
             [
              0.6666666666666666,
              "#ed7953"
             ],
             [
              0.7777777777777778,
              "#fb9f3a"
             ],
             [
              0.8888888888888888,
              "#fdca26"
             ],
             [
              1,
              "#f0f921"
             ]
            ],
            "type": "histogram2d"
           }
          ],
          "histogram2dcontour": [
           {
            "colorbar": {
             "outlinewidth": 0,
             "ticks": ""
            },
            "colorscale": [
             [
              0,
              "#0d0887"
             ],
             [
              0.1111111111111111,
              "#46039f"
             ],
             [
              0.2222222222222222,
              "#7201a8"
             ],
             [
              0.3333333333333333,
              "#9c179e"
             ],
             [
              0.4444444444444444,
              "#bd3786"
             ],
             [
              0.5555555555555556,
              "#d8576b"
             ],
             [
              0.6666666666666666,
              "#ed7953"
             ],
             [
              0.7777777777777778,
              "#fb9f3a"
             ],
             [
              0.8888888888888888,
              "#fdca26"
             ],
             [
              1,
              "#f0f921"
             ]
            ],
            "type": "histogram2dcontour"
           }
          ],
          "mesh3d": [
           {
            "colorbar": {
             "outlinewidth": 0,
             "ticks": ""
            },
            "type": "mesh3d"
           }
          ],
          "parcoords": [
           {
            "line": {
             "colorbar": {
              "outlinewidth": 0,
              "ticks": ""
             }
            },
            "type": "parcoords"
           }
          ],
          "pie": [
           {
            "automargin": true,
            "type": "pie"
           }
          ],
          "scatter": [
           {
            "fillpattern": {
             "fillmode": "overlay",
             "size": 10,
             "solidity": 0.2
            },
            "type": "scatter"
           }
          ],
          "scatter3d": [
           {
            "line": {
             "colorbar": {
              "outlinewidth": 0,
              "ticks": ""
             }
            },
            "marker": {
             "colorbar": {
              "outlinewidth": 0,
              "ticks": ""
             }
            },
            "type": "scatter3d"
           }
          ],
          "scattercarpet": [
           {
            "marker": {
             "colorbar": {
              "outlinewidth": 0,
              "ticks": ""
             }
            },
            "type": "scattercarpet"
           }
          ],
          "scattergeo": [
           {
            "marker": {
             "colorbar": {
              "outlinewidth": 0,
              "ticks": ""
             }
            },
            "type": "scattergeo"
           }
          ],
          "scattergl": [
           {
            "marker": {
             "colorbar": {
              "outlinewidth": 0,
              "ticks": ""
             }
            },
            "type": "scattergl"
           }
          ],
          "scattermapbox": [
           {
            "marker": {
             "colorbar": {
              "outlinewidth": 0,
              "ticks": ""
             }
            },
            "type": "scattermapbox"
           }
          ],
          "scatterpolar": [
           {
            "marker": {
             "colorbar": {
              "outlinewidth": 0,
              "ticks": ""
             }
            },
            "type": "scatterpolar"
           }
          ],
          "scatterpolargl": [
           {
            "marker": {
             "colorbar": {
              "outlinewidth": 0,
              "ticks": ""
             }
            },
            "type": "scatterpolargl"
           }
          ],
          "scatterternary": [
           {
            "marker": {
             "colorbar": {
              "outlinewidth": 0,
              "ticks": ""
             }
            },
            "type": "scatterternary"
           }
          ],
          "surface": [
           {
            "colorbar": {
             "outlinewidth": 0,
             "ticks": ""
            },
            "colorscale": [
             [
              0,
              "#0d0887"
             ],
             [
              0.1111111111111111,
              "#46039f"
             ],
             [
              0.2222222222222222,
              "#7201a8"
             ],
             [
              0.3333333333333333,
              "#9c179e"
             ],
             [
              0.4444444444444444,
              "#bd3786"
             ],
             [
              0.5555555555555556,
              "#d8576b"
             ],
             [
              0.6666666666666666,
              "#ed7953"
             ],
             [
              0.7777777777777778,
              "#fb9f3a"
             ],
             [
              0.8888888888888888,
              "#fdca26"
             ],
             [
              1,
              "#f0f921"
             ]
            ],
            "type": "surface"
           }
          ],
          "table": [
           {
            "cells": {
             "fill": {
              "color": "#EBF0F8"
             },
             "line": {
              "color": "white"
             }
            },
            "header": {
             "fill": {
              "color": "#C8D4E3"
             },
             "line": {
              "color": "white"
             }
            },
            "type": "table"
           }
          ]
         },
         "layout": {
          "annotationdefaults": {
           "arrowcolor": "#2a3f5f",
           "arrowhead": 0,
           "arrowwidth": 1
          },
          "autotypenumbers": "strict",
          "coloraxis": {
           "colorbar": {
            "outlinewidth": 0,
            "ticks": ""
           }
          },
          "colorscale": {
           "diverging": [
            [
             0,
             "#8e0152"
            ],
            [
             0.1,
             "#c51b7d"
            ],
            [
             0.2,
             "#de77ae"
            ],
            [
             0.3,
             "#f1b6da"
            ],
            [
             0.4,
             "#fde0ef"
            ],
            [
             0.5,
             "#f7f7f7"
            ],
            [
             0.6,
             "#e6f5d0"
            ],
            [
             0.7,
             "#b8e186"
            ],
            [
             0.8,
             "#7fbc41"
            ],
            [
             0.9,
             "#4d9221"
            ],
            [
             1,
             "#276419"
            ]
           ],
           "sequential": [
            [
             0,
             "#0d0887"
            ],
            [
             0.1111111111111111,
             "#46039f"
            ],
            [
             0.2222222222222222,
             "#7201a8"
            ],
            [
             0.3333333333333333,
             "#9c179e"
            ],
            [
             0.4444444444444444,
             "#bd3786"
            ],
            [
             0.5555555555555556,
             "#d8576b"
            ],
            [
             0.6666666666666666,
             "#ed7953"
            ],
            [
             0.7777777777777778,
             "#fb9f3a"
            ],
            [
             0.8888888888888888,
             "#fdca26"
            ],
            [
             1,
             "#f0f921"
            ]
           ],
           "sequentialminus": [
            [
             0,
             "#0d0887"
            ],
            [
             0.1111111111111111,
             "#46039f"
            ],
            [
             0.2222222222222222,
             "#7201a8"
            ],
            [
             0.3333333333333333,
             "#9c179e"
            ],
            [
             0.4444444444444444,
             "#bd3786"
            ],
            [
             0.5555555555555556,
             "#d8576b"
            ],
            [
             0.6666666666666666,
             "#ed7953"
            ],
            [
             0.7777777777777778,
             "#fb9f3a"
            ],
            [
             0.8888888888888888,
             "#fdca26"
            ],
            [
             1,
             "#f0f921"
            ]
           ]
          },
          "colorway": [
           "#636efa",
           "#EF553B",
           "#00cc96",
           "#ab63fa",
           "#FFA15A",
           "#19d3f3",
           "#FF6692",
           "#B6E880",
           "#FF97FF",
           "#FECB52"
          ],
          "font": {
           "color": "#2a3f5f"
          },
          "geo": {
           "bgcolor": "white",
           "lakecolor": "white",
           "landcolor": "white",
           "showlakes": true,
           "showland": true,
           "subunitcolor": "#C8D4E3"
          },
          "hoverlabel": {
           "align": "left"
          },
          "hovermode": "closest",
          "mapbox": {
           "style": "light"
          },
          "paper_bgcolor": "white",
          "plot_bgcolor": "white",
          "polar": {
           "angularaxis": {
            "gridcolor": "#EBF0F8",
            "linecolor": "#EBF0F8",
            "ticks": ""
           },
           "bgcolor": "white",
           "radialaxis": {
            "gridcolor": "#EBF0F8",
            "linecolor": "#EBF0F8",
            "ticks": ""
           }
          },
          "scene": {
           "xaxis": {
            "backgroundcolor": "white",
            "gridcolor": "#DFE8F3",
            "gridwidth": 2,
            "linecolor": "#EBF0F8",
            "showbackground": true,
            "ticks": "",
            "zerolinecolor": "#EBF0F8"
           },
           "yaxis": {
            "backgroundcolor": "white",
            "gridcolor": "#DFE8F3",
            "gridwidth": 2,
            "linecolor": "#EBF0F8",
            "showbackground": true,
            "ticks": "",
            "zerolinecolor": "#EBF0F8"
           },
           "zaxis": {
            "backgroundcolor": "white",
            "gridcolor": "#DFE8F3",
            "gridwidth": 2,
            "linecolor": "#EBF0F8",
            "showbackground": true,
            "ticks": "",
            "zerolinecolor": "#EBF0F8"
           }
          },
          "shapedefaults": {
           "line": {
            "color": "#2a3f5f"
           }
          },
          "ternary": {
           "aaxis": {
            "gridcolor": "#DFE8F3",
            "linecolor": "#A2B1C6",
            "ticks": ""
           },
           "baxis": {
            "gridcolor": "#DFE8F3",
            "linecolor": "#A2B1C6",
            "ticks": ""
           },
           "bgcolor": "white",
           "caxis": {
            "gridcolor": "#DFE8F3",
            "linecolor": "#A2B1C6",
            "ticks": ""
           }
          },
          "title": {
           "x": 0.05
          },
          "xaxis": {
           "automargin": true,
           "gridcolor": "#EBF0F8",
           "linecolor": "#EBF0F8",
           "ticks": "",
           "title": {
            "standoff": 15
           },
           "zerolinecolor": "#EBF0F8",
           "zerolinewidth": 2
          },
          "yaxis": {
           "automargin": true,
           "gridcolor": "#EBF0F8",
           "linecolor": "#EBF0F8",
           "ticks": "",
           "title": {
            "standoff": 15
           },
           "zerolinecolor": "#EBF0F8",
           "zerolinewidth": 2
          }
         }
        },
        "title": {
         "text": "Feature Importance in Predicting Health Insurance Costs"
        },
        "width": 700,
        "xaxis": {
         "anchor": "y",
         "domain": [
          0,
          1
         ],
         "gridcolor": "#F5F5F5",
         "linecolor": "#9A9A9A",
         "showgrid": true,
         "showline": true,
         "title": {
          "text": "Average Feature Importance"
         }
        },
        "yaxis": {
         "anchor": "x",
         "categoryarray": [
          "female",
          "female^2",
          "children female",
          "children",
          "children^2",
          "bmi female",
          "age female",
          "bmi children",
          "age children",
          "female smoker_yes",
          "children smoker_yes",
          "bmi",
          "bmi^2",
          "age^2",
          "age",
          "age bmi",
          "smoker_yes",
          "smoker_yes^2",
          "age smoker_yes",
          "bmi smoker_yes"
         ],
         "categoryorder": "array",
         "domain": [
          0,
          1
         ],
         "linecolor": "#D8D8D8",
         "title": {
          "text": ""
         }
        }
       }
      },
      "text/html": [
       "<div>                            <div id=\"086ebb1d-9f46-4c75-ad14-4c75eba36bda\" class=\"plotly-graph-div\" style=\"height:700px; width:700px;\"></div>            <script type=\"text/javascript\">                require([\"plotly\"], function(Plotly) {                    window.PLOTLYENV=window.PLOTLYENV || {};                                    if (document.getElementById(\"086ebb1d-9f46-4c75-ad14-4c75eba36bda\")) {                    Plotly.newPlot(                        \"086ebb1d-9f46-4c75-ad14-4c75eba36bda\",                        [{\"alignmentgroup\":\"True\",\"hovertemplate\":\"Importance = <b>%{x:.2}</b>\",\"legendgroup\":\"bmi smoker_yes\",\"marker\":{\"color\":\"#fde7a9\",\"opacity\":0.8,\"pattern\":{\"shape\":\"\"},\"line\":{\"color\":\"#3F3B3A\",\"width\":1}},\"name\":\"bmi smoker_yes\",\"offsetgroup\":\"bmi smoker_yes\",\"orientation\":\"h\",\"showlegend\":false,\"text\":[0.23780277460107246],\"textposition\":\"outside\",\"x\":[0.23780277460107246],\"xaxis\":\"x\",\"y\":[\"bmi smoker_yes\"],\"yaxis\":\"y\",\"type\":\"bar\",\"texttemplate\":\"%{text:.2f}\"},{\"alignmentgroup\":\"True\",\"hovertemplate\":\"Importance = <b>%{x:.2}</b>\",\"legendgroup\":\"age smoker_yes\",\"marker\":{\"color\":\"#fed194\",\"opacity\":0.8,\"pattern\":{\"shape\":\"\"},\"line\":{\"color\":\"#3F3B3A\",\"width\":1}},\"name\":\"age smoker_yes\",\"offsetgroup\":\"age smoker_yes\",\"orientation\":\"h\",\"showlegend\":false,\"text\":[0.15622935142145974],\"textposition\":\"outside\",\"x\":[0.15622935142145974],\"xaxis\":\"x\",\"y\":[\"age smoker_yes\"],\"yaxis\":\"y\",\"type\":\"bar\",\"texttemplate\":\"%{text:.2f}\"},{\"alignmentgroup\":\"True\",\"hovertemplate\":\"Importance = <b>%{x:.2}</b>\",\"legendgroup\":\"smoker_yes^2\",\"marker\":{\"color\":\"#febb81\",\"opacity\":0.8,\"pattern\":{\"shape\":\"\"},\"line\":{\"color\":\"#3F3B3A\",\"width\":1}},\"name\":\"smoker_yes^2\",\"offsetgroup\":\"smoker_yes^2\",\"orientation\":\"h\",\"showlegend\":false,\"text\":[0.14135532387278563],\"textposition\":\"outside\",\"x\":[0.14135532387278563],\"xaxis\":\"x\",\"y\":[\"smoker_yes^2\"],\"yaxis\":\"y\",\"type\":\"bar\",\"texttemplate\":\"%{text:.2f}\"},{\"alignmentgroup\":\"True\",\"hovertemplate\":\"Importance = <b>%{x:.2}</b>\",\"legendgroup\":\"smoker_yes\",\"marker\":{\"color\":\"#fea571\",\"opacity\":0.8,\"pattern\":{\"shape\":\"\"},\"line\":{\"color\":\"#3F3B3A\",\"width\":1}},\"name\":\"smoker_yes\",\"offsetgroup\":\"smoker_yes\",\"orientation\":\"h\",\"showlegend\":false,\"text\":[0.13460793266628426],\"textposition\":\"outside\",\"x\":[0.13460793266628426],\"xaxis\":\"x\",\"y\":[\"smoker_yes\"],\"yaxis\":\"y\",\"type\":\"bar\",\"texttemplate\":\"%{text:.2f}\"},{\"alignmentgroup\":\"True\",\"hovertemplate\":\"Importance = <b>%{x:.2}</b>\",\"legendgroup\":\"age bmi\",\"marker\":{\"color\":\"#fc8e64\",\"opacity\":0.8,\"pattern\":{\"shape\":\"\"},\"line\":{\"color\":\"#3F3B3A\",\"width\":1}},\"name\":\"age bmi\",\"offsetgroup\":\"age bmi\",\"orientation\":\"h\",\"showlegend\":false,\"text\":[0.05560692682936757],\"textposition\":\"outside\",\"x\":[0.05560692682936757],\"xaxis\":\"x\",\"y\":[\"age bmi\"],\"yaxis\":\"y\",\"type\":\"bar\",\"texttemplate\":\"%{text:.2f}\"},{\"alignmentgroup\":\"True\",\"hovertemplate\":\"Importance = <b>%{x:.2}</b>\",\"legendgroup\":\"age\",\"marker\":{\"color\":\"#f8765c\",\"opacity\":0.8,\"pattern\":{\"shape\":\"\"},\"line\":{\"color\":\"#3F3B3A\",\"width\":1}},\"name\":\"age\",\"offsetgroup\":\"age\",\"orientation\":\"h\",\"showlegend\":false,\"text\":[0.04886528661937072],\"textposition\":\"outside\",\"x\":[0.04886528661937072],\"xaxis\":\"x\",\"y\":[\"age\"],\"yaxis\":\"y\",\"type\":\"bar\",\"texttemplate\":\"%{text:.2f}\"},{\"alignmentgroup\":\"True\",\"hovertemplate\":\"Importance = <b>%{x:.2}</b>\",\"legendgroup\":\"age^2\",\"marker\":{\"color\":\"#f1605d\",\"opacity\":0.8,\"pattern\":{\"shape\":\"\"},\"line\":{\"color\":\"#3F3B3A\",\"width\":1}},\"name\":\"age^2\",\"offsetgroup\":\"age^2\",\"orientation\":\"h\",\"showlegend\":false,\"text\":[0.04388461875584225],\"textposition\":\"outside\",\"x\":[0.04388461875584225],\"xaxis\":\"x\",\"y\":[\"age^2\"],\"yaxis\":\"y\",\"type\":\"bar\",\"texttemplate\":\"%{text:.2f}\"},{\"alignmentgroup\":\"True\",\"hovertemplate\":\"Importance = <b>%{x:.2}</b>\",\"legendgroup\":\"bmi^2\",\"marker\":{\"color\":\"#e44f64\",\"opacity\":0.8,\"pattern\":{\"shape\":\"\"},\"line\":{\"color\":\"#3F3B3A\",\"width\":1}},\"name\":\"bmi^2\",\"offsetgroup\":\"bmi^2\",\"orientation\":\"h\",\"showlegend\":false,\"text\":[0.03594414805835943],\"textposition\":\"outside\",\"x\":[0.03594414805835943],\"xaxis\":\"x\",\"y\":[\"bmi^2\"],\"yaxis\":\"y\",\"type\":\"bar\",\"texttemplate\":\"%{text:.2f}\"},{\"alignmentgroup\":\"True\",\"hovertemplate\":\"Importance = <b>%{x:.2}</b>\",\"legendgroup\":\"bmi\",\"marker\":{\"color\":\"#d3436e\",\"opacity\":0.8,\"pattern\":{\"shape\":\"\"},\"line\":{\"color\":\"#3F3B3A\",\"width\":1}},\"name\":\"bmi\",\"offsetgroup\":\"bmi\",\"orientation\":\"h\",\"showlegend\":false,\"text\":[0.035095248211926486],\"textposition\":\"outside\",\"x\":[0.035095248211926486],\"xaxis\":\"x\",\"y\":[\"bmi\"],\"yaxis\":\"y\",\"type\":\"bar\",\"texttemplate\":\"%{text:.2f}\"},{\"alignmentgroup\":\"True\",\"hovertemplate\":\"Importance = <b>%{x:.2}</b>\",\"legendgroup\":\"children smoker_yes\",\"marker\":{\"color\":\"#c03a76\",\"opacity\":0.8,\"pattern\":{\"shape\":\"\"},\"line\":{\"color\":\"#3F3B3A\",\"width\":1}},\"name\":\"children smoker_yes\",\"offsetgroup\":\"children smoker_yes\",\"orientation\":\"h\",\"showlegend\":false,\"text\":[0.0333595894309977],\"textposition\":\"outside\",\"x\":[0.0333595894309977],\"xaxis\":\"x\",\"y\":[\"children smoker_yes\"],\"yaxis\":\"y\",\"type\":\"bar\",\"texttemplate\":\"%{text:.2f}\"},{\"alignmentgroup\":\"True\",\"hovertemplate\":\"Importance = <b>%{x:.2}</b>\",\"legendgroup\":\"female smoker_yes\",\"marker\":{\"color\":\"#ab337c\",\"opacity\":0.8,\"pattern\":{\"shape\":\"\"},\"line\":{\"color\":\"#3F3B3A\",\"width\":1}},\"name\":\"female smoker_yes\",\"offsetgroup\":\"female smoker_yes\",\"orientation\":\"h\",\"showlegend\":false,\"text\":[0.014830848344711402],\"textposition\":\"outside\",\"x\":[0.014830848344711402],\"xaxis\":\"x\",\"y\":[\"female smoker_yes\"],\"yaxis\":\"y\",\"type\":\"bar\",\"texttemplate\":\"%{text:.2f}\"},{\"alignmentgroup\":\"True\",\"hovertemplate\":\"Importance = <b>%{x:.2}</b>\",\"legendgroup\":\"age children\",\"marker\":{\"color\":\"#982d80\",\"opacity\":0.8,\"pattern\":{\"shape\":\"\"},\"line\":{\"color\":\"#3F3B3A\",\"width\":1}},\"name\":\"age children\",\"offsetgroup\":\"age children\",\"orientation\":\"h\",\"showlegend\":false,\"text\":[0.014751633001448598],\"textposition\":\"outside\",\"x\":[0.014751633001448598],\"xaxis\":\"x\",\"y\":[\"age children\"],\"yaxis\":\"y\",\"type\":\"bar\",\"texttemplate\":\"%{text:.2f}\"},{\"alignmentgroup\":\"True\",\"hovertemplate\":\"Importance = <b>%{x:.2}</b>\",\"legendgroup\":\"bmi children\",\"marker\":{\"color\":\"#842681\",\"opacity\":0.8,\"pattern\":{\"shape\":\"\"},\"line\":{\"color\":\"#3F3B3A\",\"width\":1}},\"name\":\"bmi children\",\"offsetgroup\":\"bmi children\",\"orientation\":\"h\",\"showlegend\":false,\"text\":[0.01260531070469836],\"textposition\":\"outside\",\"x\":[0.01260531070469836],\"xaxis\":\"x\",\"y\":[\"bmi children\"],\"yaxis\":\"y\",\"type\":\"bar\",\"texttemplate\":\"%{text:.2f}\"},{\"alignmentgroup\":\"True\",\"hovertemplate\":\"Importance = <b>%{x:.2}</b>\",\"legendgroup\":\"age female\",\"marker\":{\"color\":\"#721f81\",\"opacity\":0.8,\"pattern\":{\"shape\":\"\"},\"line\":{\"color\":\"#3F3B3A\",\"width\":1}},\"name\":\"age female\",\"offsetgroup\":\"age female\",\"orientation\":\"h\",\"showlegend\":false,\"text\":[0.01156888401990276],\"textposition\":\"outside\",\"x\":[0.01156888401990276],\"xaxis\":\"x\",\"y\":[\"age female\"],\"yaxis\":\"y\",\"type\":\"bar\",\"texttemplate\":\"%{text:.2f}\"},{\"alignmentgroup\":\"True\",\"hovertemplate\":\"Importance = <b>%{x:.2}</b>\",\"legendgroup\":\"bmi female\",\"marker\":{\"color\":\"#5f187f\",\"opacity\":0.8,\"pattern\":{\"shape\":\"\"},\"line\":{\"color\":\"#3F3B3A\",\"width\":1}},\"name\":\"bmi female\",\"offsetgroup\":\"bmi female\",\"orientation\":\"h\",\"showlegend\":false,\"text\":[0.011532925415229829],\"textposition\":\"outside\",\"x\":[0.011532925415229829],\"xaxis\":\"x\",\"y\":[\"bmi female\"],\"yaxis\":\"y\",\"type\":\"bar\",\"texttemplate\":\"%{text:.2f}\"},{\"alignmentgroup\":\"True\",\"hovertemplate\":\"Importance = <b>%{x:.2}</b>\",\"legendgroup\":\"children^2\",\"marker\":{\"color\":\"#4a1079\",\"opacity\":0.8,\"pattern\":{\"shape\":\"\"},\"line\":{\"color\":\"#3F3B3A\",\"width\":1}},\"name\":\"children^2\",\"offsetgroup\":\"children^2\",\"orientation\":\"h\",\"showlegend\":false,\"text\":[0.0034313296994771146],\"textposition\":\"outside\",\"x\":[0.0034313296994771146],\"xaxis\":\"x\",\"y\":[\"children^2\"],\"yaxis\":\"y\",\"type\":\"bar\",\"texttemplate\":\"%{text:.2f}\"},{\"alignmentgroup\":\"True\",\"hovertemplate\":\"Importance = <b>%{x:.2}</b>\",\"legendgroup\":\"children\",\"marker\":{\"color\":\"#36106b\",\"opacity\":0.8,\"pattern\":{\"shape\":\"\"},\"line\":{\"color\":\"#3F3B3A\",\"width\":1}},\"name\":\"children\",\"offsetgroup\":\"children\",\"orientation\":\"h\",\"showlegend\":false,\"text\":[0.0034176230208931638],\"textposition\":\"outside\",\"x\":[0.0034176230208931638],\"xaxis\":\"x\",\"y\":[\"children\"],\"yaxis\":\"y\",\"type\":\"bar\",\"texttemplate\":\"%{text:.2f}\"},{\"alignmentgroup\":\"True\",\"hovertemplate\":\"Importance = <b>%{x:.2}</b>\",\"legendgroup\":\"children female\",\"marker\":{\"color\":\"#221150\",\"opacity\":0.8,\"pattern\":{\"shape\":\"\"},\"line\":{\"color\":\"#3F3B3A\",\"width\":1}},\"name\":\"children female\",\"offsetgroup\":\"children female\",\"orientation\":\"h\",\"showlegend\":false,\"text\":[0.003312430017832467],\"textposition\":\"outside\",\"x\":[0.003312430017832467],\"xaxis\":\"x\",\"y\":[\"children female\"],\"yaxis\":\"y\",\"type\":\"bar\",\"texttemplate\":\"%{text:.2f}\"},{\"alignmentgroup\":\"True\",\"hovertemplate\":\"Importance = <b>%{x:.2}</b>\",\"legendgroup\":\"female^2\",\"marker\":{\"color\":\"#130d34\",\"opacity\":0.8,\"pattern\":{\"shape\":\"\"},\"line\":{\"color\":\"#3F3B3A\",\"width\":1}},\"name\":\"female^2\",\"offsetgroup\":\"female^2\",\"orientation\":\"h\",\"showlegend\":false,\"text\":[0.0009208507927611657],\"textposition\":\"outside\",\"x\":[0.0009208507927611657],\"xaxis\":\"x\",\"y\":[\"female^2\"],\"yaxis\":\"y\",\"type\":\"bar\",\"texttemplate\":\"%{text:.2f}\"},{\"alignmentgroup\":\"True\",\"hovertemplate\":\"Importance = <b>%{x:.2}</b>\",\"legendgroup\":\"female\",\"marker\":{\"color\":\"#06051a\",\"opacity\":0.8,\"pattern\":{\"shape\":\"\"},\"line\":{\"color\":\"#3F3B3A\",\"width\":1}},\"name\":\"female\",\"offsetgroup\":\"female\",\"orientation\":\"h\",\"showlegend\":false,\"text\":[0.0008769645155789132],\"textposition\":\"outside\",\"x\":[0.0008769645155789132],\"xaxis\":\"x\",\"y\":[\"female\"],\"yaxis\":\"y\",\"type\":\"bar\",\"texttemplate\":\"%{text:.2f}\"}],                        {\"template\":{\"data\":{\"barpolar\":[{\"marker\":{\"line\":{\"color\":\"white\",\"width\":0.5},\"pattern\":{\"fillmode\":\"overlay\",\"size\":10,\"solidity\":0.2}},\"type\":\"barpolar\"}],\"bar\":[{\"error_x\":{\"color\":\"#2a3f5f\"},\"error_y\":{\"color\":\"#2a3f5f\"},\"marker\":{\"line\":{\"color\":\"white\",\"width\":0.5},\"pattern\":{\"fillmode\":\"overlay\",\"size\":10,\"solidity\":0.2}},\"type\":\"bar\"}],\"carpet\":[{\"aaxis\":{\"endlinecolor\":\"#2a3f5f\",\"gridcolor\":\"#C8D4E3\",\"linecolor\":\"#C8D4E3\",\"minorgridcolor\":\"#C8D4E3\",\"startlinecolor\":\"#2a3f5f\"},\"baxis\":{\"endlinecolor\":\"#2a3f5f\",\"gridcolor\":\"#C8D4E3\",\"linecolor\":\"#C8D4E3\",\"minorgridcolor\":\"#C8D4E3\",\"startlinecolor\":\"#2a3f5f\"},\"type\":\"carpet\"}],\"choropleth\":[{\"colorbar\":{\"outlinewidth\":0,\"ticks\":\"\"},\"type\":\"choropleth\"}],\"contourcarpet\":[{\"colorbar\":{\"outlinewidth\":0,\"ticks\":\"\"},\"type\":\"contourcarpet\"}],\"contour\":[{\"colorbar\":{\"outlinewidth\":0,\"ticks\":\"\"},\"colorscale\":[[0.0,\"#0d0887\"],[0.1111111111111111,\"#46039f\"],[0.2222222222222222,\"#7201a8\"],[0.3333333333333333,\"#9c179e\"],[0.4444444444444444,\"#bd3786\"],[0.5555555555555556,\"#d8576b\"],[0.6666666666666666,\"#ed7953\"],[0.7777777777777778,\"#fb9f3a\"],[0.8888888888888888,\"#fdca26\"],[1.0,\"#f0f921\"]],\"type\":\"contour\"}],\"heatmapgl\":[{\"colorbar\":{\"outlinewidth\":0,\"ticks\":\"\"},\"colorscale\":[[0.0,\"#0d0887\"],[0.1111111111111111,\"#46039f\"],[0.2222222222222222,\"#7201a8\"],[0.3333333333333333,\"#9c179e\"],[0.4444444444444444,\"#bd3786\"],[0.5555555555555556,\"#d8576b\"],[0.6666666666666666,\"#ed7953\"],[0.7777777777777778,\"#fb9f3a\"],[0.8888888888888888,\"#fdca26\"],[1.0,\"#f0f921\"]],\"type\":\"heatmapgl\"}],\"heatmap\":[{\"colorbar\":{\"outlinewidth\":0,\"ticks\":\"\"},\"colorscale\":[[0.0,\"#0d0887\"],[0.1111111111111111,\"#46039f\"],[0.2222222222222222,\"#7201a8\"],[0.3333333333333333,\"#9c179e\"],[0.4444444444444444,\"#bd3786\"],[0.5555555555555556,\"#d8576b\"],[0.6666666666666666,\"#ed7953\"],[0.7777777777777778,\"#fb9f3a\"],[0.8888888888888888,\"#fdca26\"],[1.0,\"#f0f921\"]],\"type\":\"heatmap\"}],\"histogram2dcontour\":[{\"colorbar\":{\"outlinewidth\":0,\"ticks\":\"\"},\"colorscale\":[[0.0,\"#0d0887\"],[0.1111111111111111,\"#46039f\"],[0.2222222222222222,\"#7201a8\"],[0.3333333333333333,\"#9c179e\"],[0.4444444444444444,\"#bd3786\"],[0.5555555555555556,\"#d8576b\"],[0.6666666666666666,\"#ed7953\"],[0.7777777777777778,\"#fb9f3a\"],[0.8888888888888888,\"#fdca26\"],[1.0,\"#f0f921\"]],\"type\":\"histogram2dcontour\"}],\"histogram2d\":[{\"colorbar\":{\"outlinewidth\":0,\"ticks\":\"\"},\"colorscale\":[[0.0,\"#0d0887\"],[0.1111111111111111,\"#46039f\"],[0.2222222222222222,\"#7201a8\"],[0.3333333333333333,\"#9c179e\"],[0.4444444444444444,\"#bd3786\"],[0.5555555555555556,\"#d8576b\"],[0.6666666666666666,\"#ed7953\"],[0.7777777777777778,\"#fb9f3a\"],[0.8888888888888888,\"#fdca26\"],[1.0,\"#f0f921\"]],\"type\":\"histogram2d\"}],\"histogram\":[{\"marker\":{\"pattern\":{\"fillmode\":\"overlay\",\"size\":10,\"solidity\":0.2}},\"type\":\"histogram\"}],\"mesh3d\":[{\"colorbar\":{\"outlinewidth\":0,\"ticks\":\"\"},\"type\":\"mesh3d\"}],\"parcoords\":[{\"line\":{\"colorbar\":{\"outlinewidth\":0,\"ticks\":\"\"}},\"type\":\"parcoords\"}],\"pie\":[{\"automargin\":true,\"type\":\"pie\"}],\"scatter3d\":[{\"line\":{\"colorbar\":{\"outlinewidth\":0,\"ticks\":\"\"}},\"marker\":{\"colorbar\":{\"outlinewidth\":0,\"ticks\":\"\"}},\"type\":\"scatter3d\"}],\"scattercarpet\":[{\"marker\":{\"colorbar\":{\"outlinewidth\":0,\"ticks\":\"\"}},\"type\":\"scattercarpet\"}],\"scattergeo\":[{\"marker\":{\"colorbar\":{\"outlinewidth\":0,\"ticks\":\"\"}},\"type\":\"scattergeo\"}],\"scattergl\":[{\"marker\":{\"colorbar\":{\"outlinewidth\":0,\"ticks\":\"\"}},\"type\":\"scattergl\"}],\"scattermapbox\":[{\"marker\":{\"colorbar\":{\"outlinewidth\":0,\"ticks\":\"\"}},\"type\":\"scattermapbox\"}],\"scatterpolargl\":[{\"marker\":{\"colorbar\":{\"outlinewidth\":0,\"ticks\":\"\"}},\"type\":\"scatterpolargl\"}],\"scatterpolar\":[{\"marker\":{\"colorbar\":{\"outlinewidth\":0,\"ticks\":\"\"}},\"type\":\"scatterpolar\"}],\"scatter\":[{\"fillpattern\":{\"fillmode\":\"overlay\",\"size\":10,\"solidity\":0.2},\"type\":\"scatter\"}],\"scatterternary\":[{\"marker\":{\"colorbar\":{\"outlinewidth\":0,\"ticks\":\"\"}},\"type\":\"scatterternary\"}],\"surface\":[{\"colorbar\":{\"outlinewidth\":0,\"ticks\":\"\"},\"colorscale\":[[0.0,\"#0d0887\"],[0.1111111111111111,\"#46039f\"],[0.2222222222222222,\"#7201a8\"],[0.3333333333333333,\"#9c179e\"],[0.4444444444444444,\"#bd3786\"],[0.5555555555555556,\"#d8576b\"],[0.6666666666666666,\"#ed7953\"],[0.7777777777777778,\"#fb9f3a\"],[0.8888888888888888,\"#fdca26\"],[1.0,\"#f0f921\"]],\"type\":\"surface\"}],\"table\":[{\"cells\":{\"fill\":{\"color\":\"#EBF0F8\"},\"line\":{\"color\":\"white\"}},\"header\":{\"fill\":{\"color\":\"#C8D4E3\"},\"line\":{\"color\":\"white\"}},\"type\":\"table\"}]},\"layout\":{\"annotationdefaults\":{\"arrowcolor\":\"#2a3f5f\",\"arrowhead\":0,\"arrowwidth\":1},\"autotypenumbers\":\"strict\",\"coloraxis\":{\"colorbar\":{\"outlinewidth\":0,\"ticks\":\"\"}},\"colorscale\":{\"diverging\":[[0,\"#8e0152\"],[0.1,\"#c51b7d\"],[0.2,\"#de77ae\"],[0.3,\"#f1b6da\"],[0.4,\"#fde0ef\"],[0.5,\"#f7f7f7\"],[0.6,\"#e6f5d0\"],[0.7,\"#b8e186\"],[0.8,\"#7fbc41\"],[0.9,\"#4d9221\"],[1,\"#276419\"]],\"sequential\":[[0.0,\"#0d0887\"],[0.1111111111111111,\"#46039f\"],[0.2222222222222222,\"#7201a8\"],[0.3333333333333333,\"#9c179e\"],[0.4444444444444444,\"#bd3786\"],[0.5555555555555556,\"#d8576b\"],[0.6666666666666666,\"#ed7953\"],[0.7777777777777778,\"#fb9f3a\"],[0.8888888888888888,\"#fdca26\"],[1.0,\"#f0f921\"]],\"sequentialminus\":[[0.0,\"#0d0887\"],[0.1111111111111111,\"#46039f\"],[0.2222222222222222,\"#7201a8\"],[0.3333333333333333,\"#9c179e\"],[0.4444444444444444,\"#bd3786\"],[0.5555555555555556,\"#d8576b\"],[0.6666666666666666,\"#ed7953\"],[0.7777777777777778,\"#fb9f3a\"],[0.8888888888888888,\"#fdca26\"],[1.0,\"#f0f921\"]]},\"colorway\":[\"#636efa\",\"#EF553B\",\"#00cc96\",\"#ab63fa\",\"#FFA15A\",\"#19d3f3\",\"#FF6692\",\"#B6E880\",\"#FF97FF\",\"#FECB52\"],\"font\":{\"color\":\"#2a3f5f\"},\"geo\":{\"bgcolor\":\"white\",\"lakecolor\":\"white\",\"landcolor\":\"white\",\"showlakes\":true,\"showland\":true,\"subunitcolor\":\"#C8D4E3\"},\"hoverlabel\":{\"align\":\"left\"},\"hovermode\":\"closest\",\"mapbox\":{\"style\":\"light\"},\"paper_bgcolor\":\"white\",\"plot_bgcolor\":\"white\",\"polar\":{\"angularaxis\":{\"gridcolor\":\"#EBF0F8\",\"linecolor\":\"#EBF0F8\",\"ticks\":\"\"},\"bgcolor\":\"white\",\"radialaxis\":{\"gridcolor\":\"#EBF0F8\",\"linecolor\":\"#EBF0F8\",\"ticks\":\"\"}},\"scene\":{\"xaxis\":{\"backgroundcolor\":\"white\",\"gridcolor\":\"#DFE8F3\",\"gridwidth\":2,\"linecolor\":\"#EBF0F8\",\"showbackground\":true,\"ticks\":\"\",\"zerolinecolor\":\"#EBF0F8\"},\"yaxis\":{\"backgroundcolor\":\"white\",\"gridcolor\":\"#DFE8F3\",\"gridwidth\":2,\"linecolor\":\"#EBF0F8\",\"showbackground\":true,\"ticks\":\"\",\"zerolinecolor\":\"#EBF0F8\"},\"zaxis\":{\"backgroundcolor\":\"white\",\"gridcolor\":\"#DFE8F3\",\"gridwidth\":2,\"linecolor\":\"#EBF0F8\",\"showbackground\":true,\"ticks\":\"\",\"zerolinecolor\":\"#EBF0F8\"}},\"shapedefaults\":{\"line\":{\"color\":\"#2a3f5f\"}},\"ternary\":{\"aaxis\":{\"gridcolor\":\"#DFE8F3\",\"linecolor\":\"#A2B1C6\",\"ticks\":\"\"},\"baxis\":{\"gridcolor\":\"#DFE8F3\",\"linecolor\":\"#A2B1C6\",\"ticks\":\"\"},\"bgcolor\":\"white\",\"caxis\":{\"gridcolor\":\"#DFE8F3\",\"linecolor\":\"#A2B1C6\",\"ticks\":\"\"}},\"title\":{\"x\":0.05},\"xaxis\":{\"automargin\":true,\"gridcolor\":\"#EBF0F8\",\"linecolor\":\"#EBF0F8\",\"ticks\":\"\",\"title\":{\"standoff\":15},\"zerolinecolor\":\"#EBF0F8\",\"zerolinewidth\":2},\"yaxis\":{\"automargin\":true,\"gridcolor\":\"#EBF0F8\",\"linecolor\":\"#EBF0F8\",\"ticks\":\"\",\"title\":{\"standoff\":15},\"zerolinecolor\":\"#EBF0F8\",\"zerolinewidth\":2}}},\"xaxis\":{\"anchor\":\"y\",\"domain\":[0.0,1.0],\"title\":{\"text\":\"Average Feature Importance\"},\"showgrid\":true,\"showline\":true,\"linecolor\":\"#9A9A9A\",\"gridcolor\":\"#F5F5F5\"},\"yaxis\":{\"anchor\":\"x\",\"domain\":[0.0,1.0],\"title\":{\"text\":\"\"},\"categoryorder\":\"array\",\"categoryarray\":[\"female\",\"female^2\",\"children female\",\"children\",\"children^2\",\"bmi female\",\"age female\",\"bmi children\",\"age children\",\"female smoker_yes\",\"children smoker_yes\",\"bmi\",\"bmi^2\",\"age^2\",\"age\",\"age bmi\",\"smoker_yes\",\"smoker_yes^2\",\"age smoker_yes\",\"bmi smoker_yes\"],\"linecolor\":\"#D8D8D8\"},\"legend\":{\"title\":{\"text\":\"index\"},\"tracegroupgap\":0},\"margin\":{\"t\":60},\"barmode\":\"relative\",\"height\":700,\"width\":700,\"title\":{\"text\":\"Feature Importance in Predicting Health Insurance Costs\"},\"coloraxis\":{\"showscale\":false},\"font\":{\"color\":\"#303030\"}},                        {\"responsive\": true}                    ).then(function(){\n",
       "                            \n",
       "var gd = document.getElementById('086ebb1d-9f46-4c75-ad14-4c75eba36bda');\n",
       "var x = new MutationObserver(function (mutations, observer) {{\n",
       "        var display = window.getComputedStyle(gd).display;\n",
       "        if (!display || display === 'none') {{\n",
       "            console.log([gd, 'removed!']);\n",
       "            Plotly.purge(gd);\n",
       "            observer.disconnect();\n",
       "        }}\n",
       "}});\n",
       "\n",
       "// Listen for the removal of the full notebook cells\n",
       "var notebookContainer = gd.closest('#notebook-container');\n",
       "if (notebookContainer) {{\n",
       "    x.observe(notebookContainer, {childList: true});\n",
       "}}\n",
       "\n",
       "// Listen for the clearing of the current output cell\n",
       "var outputEl = gd.closest('.output');\n",
       "if (outputEl) {{\n",
       "    x.observe(outputEl, {childList: true});\n",
       "}}\n",
       "\n",
       "                        })                };                });            </script>        </div>"
      ]
     },
     "metadata": {},
     "output_type": "display_data"
    }
   ],
   "source": [
    "col=sns.color_palette(\"magma\", 20).as_hex()[::-1]\n",
    "feat_importance.set_index(X_train.columns, inplace=True)\n",
    "ft=pd.DataFrame({\"Average Importance\":feat_importance.mean(axis=1)})\n",
    "plot_df=ft.nlargest(20, columns=\"Average Importance\").sort_values(by=\"Average Importance\",ascending=False)\n",
    "fig = px.bar(plot_df, x=\"Average Importance\", y=plot_df.index, text=\"Average Importance\", height=700,\n",
    "             color=plot_df.index,width=700,opacity=.8,color_discrete_sequence=col)\n",
    "fig.update_traces(texttemplate='%{text:.2f}', textposition='outside',\n",
    "                  marker_line=dict(width=1, color='#3F3B3A'), showlegend=False, \n",
    "                  hovertemplate='Importance = <b>%{x:.2}</b>')\n",
    "fig.update_layout(title_text='Feature Importance in Predicting Health Insurance Costs', \n",
    "                  coloraxis_showscale=False, yaxis_title=\"\", font_color=\"#303030\", yaxis_linecolor=\"#D8D8D8\", \n",
    "                  xaxis=dict(title=\"Average Feature Importance\", showgrid=True, showline=True, \n",
    "                             linecolor=\"#9A9A9A\", gridcolor=\"#F5F5F5\"))"
   ]
  },
  {
   "cell_type": "markdown",
   "metadata": {},
   "source": [
    "Using the average feature importance's from the Gradient Boosting models, the interaction effect of a patient's BMI and their smoking status is the most important predictor of healthcare costs. Smoking status produces the highest average importance across the models with interactions between age and BMI among the top 5 predictors. The polynomial features of Age and BMI are also within the top 10, while gender and children are among the lowest."
   ]
  },
  {
   "cell_type": "markdown",
   "metadata": {},
   "source": [
    "# <div style=\"color:white;display:fill;border-radius:5px;background-color:#84A3C3;overflow:hidden\"><p style=\"padding:20px;color:white;overflow:hidden;font-size:100%;margin:0\"><b>10 |</b> Conclusion</p></div>\n",
    "In predicting insurance costs, Gradient Boosting provides the best results in the Southwest, Southeast, and Northwest regions, while the Support Vector model produces the lowest test error in the Northeast region. The models can explain over 93% of the observed variation in insurance costs in the Southeast region to almost 70% in the Northeast with the SVM model. \n",
    "\n",
    "The polynomial features and interaction effects that were added to the models were among some of the most important predictors of health insurance costs, particularly between a patient's smoking status and their BMI. We also saw that healthcare costs increase with age and are notably higher in smokers. Gender and number of children had the least amount of influence in the models overall.  \n",
    "\n",
    "The Gradient Boosting model in the Northeast could potentially be improved with additional hyperparameter tuning or the company could implement a hybrid modeling approach that uses both boosted trees and support vector regression to predict insurance claims by region."
   ]
  }
 ],
 "metadata": {
  "kernelspec": {
   "display_name": "Python 3",
   "language": "python",
   "name": "python3"
  },
  "language_info": {
   "codemirror_mode": {
    "name": "ipython",
    "version": 3
   },
   "file_extension": ".py",
   "mimetype": "text/x-python",
   "name": "python",
   "nbconvert_exporter": "python",
   "pygments_lexer": "ipython3",
   "version": "3.8.8"
  }
 },
 "nbformat": 4,
 "nbformat_minor": 4
}
