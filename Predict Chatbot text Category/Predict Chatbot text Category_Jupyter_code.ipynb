{
 "cells": [
  {
   "cell_type": "markdown",
   "id": "addd264b",
   "metadata": {},
   "source": [
    "#### Assignment: 9.3 Exercise: Neural Network Classifiers\n",
    "#### Name: Prashant Raghuwanshi \n",
    "#### Date: 10/29/2021\n",
    "#### Course: DSC550-T301 Data Mining (2221-1)"
   ]
  },
  {
   "cell_type": "markdown",
   "id": "710dce35",
   "metadata": {},
   "source": [
    "Neural Network Classifier with Scikit"
   ]
  },
  {
   "cell_type": "markdown",
   "id": "7069eb7c",
   "metadata": {},
   "source": [
    "###### Using the multi-label classifier dataset (categorized-comments.jsonl), fit a neural network classifier using scikit-learn to predict the comment category. Use the code found in chapter 12 of the Applied Text Analysis with Python book as a guide, but you will need to modify the code for this dataset. Report the accuracy, precision, recall, F1-score, and confusion matrix."
   ]
  },
  {
   "cell_type": "code",
   "execution_count": 1,
   "id": "a5365008",
   "metadata": {},
   "outputs": [],
   "source": [
    "import pandas as pd\n",
    "import numpy as np\n",
    "import jsonlines\n",
    "import time\n",
    "from textblob import TextBlob\n",
    "import json"
   ]
  },
  {
   "cell_type": "code",
   "execution_count": 2,
   "id": "b61a93f3",
   "metadata": {},
   "outputs": [],
   "source": [
    "# 1.Load the data from the “categorized-comments.jsonl” file into a DataFrame.\n",
    "addr1 = \"C:/Users/dell/Documents/Machine_learning_assigments/week-9/categorized-comments.jsonl\""
   ]
  },
  {
   "cell_type": "code",
   "execution_count": 3,
   "id": "66d2e42e",
   "metadata": {},
   "outputs": [
    {
     "data": {
      "text/html": [
       "<div>\n",
       "<style scoped>\n",
       "    .dataframe tbody tr th:only-of-type {\n",
       "        vertical-align: middle;\n",
       "    }\n",
       "\n",
       "    .dataframe tbody tr th {\n",
       "        vertical-align: top;\n",
       "    }\n",
       "\n",
       "    .dataframe thead th {\n",
       "        text-align: right;\n",
       "    }\n",
       "</style>\n",
       "<table border=\"1\" class=\"dataframe\">\n",
       "  <thead>\n",
       "    <tr style=\"text-align: right;\">\n",
       "      <th></th>\n",
       "      <th>cat</th>\n",
       "      <th>txt</th>\n",
       "    </tr>\n",
       "  </thead>\n",
       "  <tbody>\n",
       "    <tr>\n",
       "      <th>0</th>\n",
       "      <td>sports</td>\n",
       "      <td>Barely better than Gabbert? He was significant...</td>\n",
       "    </tr>\n",
       "    <tr>\n",
       "      <th>1</th>\n",
       "      <td>sports</td>\n",
       "      <td>Fuck the ducks and the Angels! But welcome to ...</td>\n",
       "    </tr>\n",
       "    <tr>\n",
       "      <th>2</th>\n",
       "      <td>sports</td>\n",
       "      <td>Should have drafted more WRs.\\n\\n- Matt Millen...</td>\n",
       "    </tr>\n",
       "    <tr>\n",
       "      <th>3</th>\n",
       "      <td>sports</td>\n",
       "      <td>[Done](https://i.imgur.com/2YZ90pm.jpg)</td>\n",
       "    </tr>\n",
       "    <tr>\n",
       "      <th>4</th>\n",
       "      <td>sports</td>\n",
       "      <td>No!! NOO!!!!!</td>\n",
       "    </tr>\n",
       "  </tbody>\n",
       "</table>\n",
       "</div>"
      ],
      "text/plain": [
       "      cat                                                txt\n",
       "0  sports  Barely better than Gabbert? He was significant...\n",
       "1  sports  Fuck the ducks and the Angels! But welcome to ...\n",
       "2  sports  Should have drafted more WRs.\\n\\n- Matt Millen...\n",
       "3  sports            [Done](https://i.imgur.com/2YZ90pm.jpg)\n",
       "4  sports                                      No!! NOO!!!!!"
      ]
     },
     "execution_count": 3,
     "metadata": {},
     "output_type": "execute_result"
    }
   ],
   "source": [
    "# Reading the JSON line file into a dataframe\n",
    "newlist = []\n",
    "with jsonlines.open(addr1) as f:\n",
    "    for obj in f.iter(type=dict, skip_invalid=True):\n",
    "        newlist.append(obj)\n",
    "ccjsonsrc = pd.DataFrame(newlist)\n",
    "ccjsonsrc.head(5)"
   ]
  },
  {
   "cell_type": "code",
   "execution_count": 4,
   "id": "e6c75ecd",
   "metadata": {},
   "outputs": [
    {
     "data": {
      "text/html": [
       "<div>\n",
       "<style scoped>\n",
       "    .dataframe tbody tr th:only-of-type {\n",
       "        vertical-align: middle;\n",
       "    }\n",
       "\n",
       "    .dataframe tbody tr th {\n",
       "        vertical-align: top;\n",
       "    }\n",
       "\n",
       "    .dataframe thead th {\n",
       "        text-align: right;\n",
       "    }\n",
       "</style>\n",
       "<table border=\"1\" class=\"dataframe\">\n",
       "  <thead>\n",
       "    <tr style=\"text-align: right;\">\n",
       "      <th></th>\n",
       "      <th>cat</th>\n",
       "      <th>txt</th>\n",
       "    </tr>\n",
       "  </thead>\n",
       "  <tbody>\n",
       "    <tr>\n",
       "      <th>0</th>\n",
       "      <td>sports</td>\n",
       "      <td>barely better than gabbert? he was significant...</td>\n",
       "    </tr>\n",
       "    <tr>\n",
       "      <th>1</th>\n",
       "      <td>sports</td>\n",
       "      <td>fuck the ducks and the angels! but welcome to ...</td>\n",
       "    </tr>\n",
       "    <tr>\n",
       "      <th>2</th>\n",
       "      <td>sports</td>\n",
       "      <td>should have drafted more wrs.\\n\\n- matt millen...</td>\n",
       "    </tr>\n",
       "    <tr>\n",
       "      <th>3</th>\n",
       "      <td>sports</td>\n",
       "      <td>[done](https://i.imgur.com/2yz90pm.jpg)</td>\n",
       "    </tr>\n",
       "    <tr>\n",
       "      <th>4</th>\n",
       "      <td>sports</td>\n",
       "      <td>no!! noo!!!!!</td>\n",
       "    </tr>\n",
       "  </tbody>\n",
       "</table>\n",
       "</div>"
      ],
      "text/plain": [
       "      cat                                                txt\n",
       "0  sports  barely better than gabbert? he was significant...\n",
       "1  sports  fuck the ducks and the angels! but welcome to ...\n",
       "2  sports  should have drafted more wrs.\\n\\n- matt millen...\n",
       "3  sports            [done](https://i.imgur.com/2yz90pm.jpg)\n",
       "4  sports                                      no!! noo!!!!!"
      ]
     },
     "execution_count": 4,
     "metadata": {},
     "output_type": "execute_result"
    }
   ],
   "source": [
    "# using lambda function and convert the string to lower case\n",
    "ccjsonlower = ccjsonsrc.apply(lambda x: x.astype(str).str.lower())\n",
    "# limitting the records in dataframe\n",
    "sampledf = ccjsonlower.head(80000)\n",
    "sampledf.head()"
   ]
  },
  {
   "cell_type": "code",
   "execution_count": 5,
   "id": "ca74dc7b",
   "metadata": {},
   "outputs": [],
   "source": [
    "#Remove all punctuation from the text.\n",
    "# Create the punctuation dictionary by using unicodedata\n",
    "import sys\n",
    "import unicodedata\n",
    "punctuation = dict.fromkeys(i for i in range(sys.maxunicode)\n",
    "                  if unicodedata.category(chr(i)).startswith('P'))"
   ]
  },
  {
   "cell_type": "code",
   "execution_count": 6,
   "id": "6f2ff222",
   "metadata": {},
   "outputs": [
    {
     "name": "stderr",
     "output_type": "stream",
     "text": [
      "C:\\ProgramData\\Anaconda3\\lib\\site-packages\\pandas\\core\\indexing.py:1637: SettingWithCopyWarning: \n",
      "A value is trying to be set on a copy of a slice from a DataFrame\n",
      "\n",
      "See the caveats in the documentation: https://pandas.pydata.org/pandas-docs/stable/user_guide/indexing.html#returning-a-view-versus-a-copy\n",
      "  self._setitem_single_block(indexer, value, name)\n",
      "C:\\ProgramData\\Anaconda3\\lib\\site-packages\\pandas\\core\\indexing.py:692: SettingWithCopyWarning: \n",
      "A value is trying to be set on a copy of a slice from a DataFrame\n",
      "\n",
      "See the caveats in the documentation: https://pandas.pydata.org/pandas-docs/stable/user_guide/indexing.html#returning-a-view-versus-a-copy\n",
      "  iloc._setitem_with_indexer(indexer, value, self.name)\n"
     ]
    },
    {
     "data": {
      "text/html": [
       "<div>\n",
       "<style scoped>\n",
       "    .dataframe tbody tr th:only-of-type {\n",
       "        vertical-align: middle;\n",
       "    }\n",
       "\n",
       "    .dataframe tbody tr th {\n",
       "        vertical-align: top;\n",
       "    }\n",
       "\n",
       "    .dataframe thead th {\n",
       "        text-align: right;\n",
       "    }\n",
       "</style>\n",
       "<table border=\"1\" class=\"dataframe\">\n",
       "  <thead>\n",
       "    <tr style=\"text-align: right;\">\n",
       "      <th></th>\n",
       "      <th>cat</th>\n",
       "      <th>txt</th>\n",
       "    </tr>\n",
       "  </thead>\n",
       "  <tbody>\n",
       "    <tr>\n",
       "      <th>0</th>\n",
       "      <td>sports</td>\n",
       "      <td>barely better than gabbert he was significantl...</td>\n",
       "    </tr>\n",
       "    <tr>\n",
       "      <th>1</th>\n",
       "      <td>sports</td>\n",
       "      <td>fuck the ducks and the angels but welcome to a...</td>\n",
       "    </tr>\n",
       "    <tr>\n",
       "      <th>2</th>\n",
       "      <td>sports</td>\n",
       "      <td>should have drafted more wrs\\n\\n matt millen p...</td>\n",
       "    </tr>\n",
       "    <tr>\n",
       "      <th>3</th>\n",
       "      <td>sports</td>\n",
       "      <td>donehttpsiimgurcom2yz90pmjpg</td>\n",
       "    </tr>\n",
       "    <tr>\n",
       "      <th>4</th>\n",
       "      <td>sports</td>\n",
       "      <td>no noo</td>\n",
       "    </tr>\n",
       "  </tbody>\n",
       "</table>\n",
       "</div>"
      ],
      "text/plain": [
       "      cat                                                txt\n",
       "0  sports  barely better than gabbert he was significantl...\n",
       "1  sports  fuck the ducks and the angels but welcome to a...\n",
       "2  sports  should have drafted more wrs\\n\\n matt millen p...\n",
       "3  sports                       donehttpsiimgurcom2yz90pmjpg\n",
       "4  sports                                             no noo"
      ]
     },
     "execution_count": 6,
     "metadata": {},
     "output_type": "execute_result"
    }
   ],
   "source": [
    "# removing punctuation from each row of dataframe's txt column\n",
    "for i in range(len(sampledf)) :\n",
    "    test = [string.translate(punctuation) for string in (sampledf.loc[i, \"txt\"])]\n",
    "    # coverting list to string\n",
    "    test1 = \"\".join(str(x) for x in test)\n",
    "    # updating the row values\n",
    "    sampledf.loc[i, [\"txt\"]] = test1\n",
    "# print dataframe after removing punctuations from txt column\n",
    "sampledf.head()"
   ]
  },
  {
   "cell_type": "code",
   "execution_count": 7,
   "id": "620a2d9e",
   "metadata": {},
   "outputs": [],
   "source": [
    "# Remove stop words.\n",
    "# load library\n",
    "import nltk\n",
    "from nltk.corpus import stopwords\n",
    "from nltk.tokenize import word_tokenize\n",
    "# load stop words\n",
    "stop_words = stopwords.words('english')"
   ]
  },
  {
   "cell_type": "code",
   "execution_count": 8,
   "id": "a1d53b5f",
   "metadata": {},
   "outputs": [
    {
     "name": "stderr",
     "output_type": "stream",
     "text": [
      "C:\\ProgramData\\Anaconda3\\lib\\site-packages\\pandas\\core\\indexing.py:1637: SettingWithCopyWarning: \n",
      "A value is trying to be set on a copy of a slice from a DataFrame\n",
      "\n",
      "See the caveats in the documentation: https://pandas.pydata.org/pandas-docs/stable/user_guide/indexing.html#returning-a-view-versus-a-copy\n",
      "  self._setitem_single_block(indexer, value, name)\n",
      "C:\\ProgramData\\Anaconda3\\lib\\site-packages\\pandas\\core\\indexing.py:692: SettingWithCopyWarning: \n",
      "A value is trying to be set on a copy of a slice from a DataFrame\n",
      "\n",
      "See the caveats in the documentation: https://pandas.pydata.org/pandas-docs/stable/user_guide/indexing.html#returning-a-view-versus-a-copy\n",
      "  iloc._setitem_with_indexer(indexer, value, self.name)\n"
     ]
    },
    {
     "name": "stdout",
     "output_type": "stream",
     "text": [
      "['love', 'latest', 'deck', 'video']\n"
     ]
    }
   ],
   "source": [
    "# remove stop words from each row of dataframe's txt column\n",
    "for i in range(len(sampledf)) :\n",
    "    # tokenized each row of dataframe's txt column\n",
    "    test_token = word_tokenize(sampledf.loc[i, \"txt\"])\n",
    "    # remove stop words\n",
    "    rem_words = [word for word in test_token if word not in stop_words]\n",
    "    # coverting list to string\n",
    "    rem_words1 = \" \".join(str(x) for x in rem_words)\n",
    "    # writting back processed removed stop words to dataframe\n",
    "    # updating the row values for txt column\n",
    "    sampledf.loc[i, [\"txt\"]] = rem_words1\n",
    "# printing last rows of dataframe showing removed stop words\n",
    "print(rem_words)"
   ]
  },
  {
   "cell_type": "code",
   "execution_count": 9,
   "id": "b31558cf",
   "metadata": {},
   "outputs": [
    {
     "data": {
      "text/html": [
       "<div>\n",
       "<style scoped>\n",
       "    .dataframe tbody tr th:only-of-type {\n",
       "        vertical-align: middle;\n",
       "    }\n",
       "\n",
       "    .dataframe tbody tr th {\n",
       "        vertical-align: top;\n",
       "    }\n",
       "\n",
       "    .dataframe thead th {\n",
       "        text-align: right;\n",
       "    }\n",
       "</style>\n",
       "<table border=\"1\" class=\"dataframe\">\n",
       "  <thead>\n",
       "    <tr style=\"text-align: right;\">\n",
       "      <th></th>\n",
       "      <th>cat</th>\n",
       "      <th>txt</th>\n",
       "    </tr>\n",
       "  </thead>\n",
       "  <tbody>\n",
       "    <tr>\n",
       "      <th>0</th>\n",
       "      <td>sports</td>\n",
       "      <td>barely better gabbert significantly better yea...</td>\n",
       "    </tr>\n",
       "    <tr>\n",
       "      <th>1</th>\n",
       "      <td>sports</td>\n",
       "      <td>fuck ducks angels welcome new niners fans</td>\n",
       "    </tr>\n",
       "    <tr>\n",
       "      <th>2</th>\n",
       "      <td>sports</td>\n",
       "      <td>drafted wrs matt millen probably</td>\n",
       "    </tr>\n",
       "    <tr>\n",
       "      <th>3</th>\n",
       "      <td>sports</td>\n",
       "      <td>donehttpsiimgurcom2yz90pmjpg</td>\n",
       "    </tr>\n",
       "    <tr>\n",
       "      <th>4</th>\n",
       "      <td>sports</td>\n",
       "      <td>noo</td>\n",
       "    </tr>\n",
       "  </tbody>\n",
       "</table>\n",
       "</div>"
      ],
      "text/plain": [
       "      cat                                                txt\n",
       "0  sports  barely better gabbert significantly better yea...\n",
       "1  sports          fuck ducks angels welcome new niners fans\n",
       "2  sports                   drafted wrs matt millen probably\n",
       "3  sports                       donehttpsiimgurcom2yz90pmjpg\n",
       "4  sports                                                noo"
      ]
     },
     "execution_count": 9,
     "metadata": {},
     "output_type": "execute_result"
    }
   ],
   "source": [
    "#print dataframe after updating the removed stop words to txt column\n",
    "sampledf.head()"
   ]
  },
  {
   "cell_type": "code",
   "execution_count": 10,
   "id": "8f36e078",
   "metadata": {},
   "outputs": [
    {
     "name": "stderr",
     "output_type": "stream",
     "text": [
      "C:\\ProgramData\\Anaconda3\\lib\\site-packages\\pandas\\core\\indexing.py:1637: SettingWithCopyWarning: \n",
      "A value is trying to be set on a copy of a slice from a DataFrame\n",
      "\n",
      "See the caveats in the documentation: https://pandas.pydata.org/pandas-docs/stable/user_guide/indexing.html#returning-a-view-versus-a-copy\n",
      "  self._setitem_single_block(indexer, value, name)\n",
      "C:\\ProgramData\\Anaconda3\\lib\\site-packages\\pandas\\core\\indexing.py:692: SettingWithCopyWarning: \n",
      "A value is trying to be set on a copy of a slice from a DataFrame\n",
      "\n",
      "See the caveats in the documentation: https://pandas.pydata.org/pandas-docs/stable/user_guide/indexing.html#returning-a-view-versus-a-copy\n",
      "  iloc._setitem_with_indexer(indexer, value, self.name)\n"
     ]
    },
    {
     "name": "stdout",
     "output_type": "stream",
     "text": [
      "['love', 'latest', 'deck', 'video']\n"
     ]
    }
   ],
   "source": [
    "# load library\n",
    "from nltk.stem.porter import PorterStemmer\n",
    "# create stemmer\n",
    "porter = PorterStemmer()\n",
    "# apply stemmer to each row of dataframe's txt column\n",
    "for i in range(len(sampledf)) :\n",
    "    # tokenized each row of dataframe's txt column\n",
    "    test_token1 = word_tokenize(sampledf.loc[i, \"txt\"])\n",
    "    # apply stemmer\n",
    "    porter_words = [porter.stem(word) for word in test_token1]\n",
    "    # coverting list to string\n",
    "    porter_words1 = \" \".join(str(x) for x in porter_words)\n",
    "    # writting back processed removed stop words to dataframe\n",
    "    # updating the row values for txt column\n",
    "    sampledf.loc[i, [\"txt\"]] = porter_words1\n",
    "# printing last rows of dataframe showing removed stop words\n",
    "print(porter_words)"
   ]
  },
  {
   "cell_type": "code",
   "execution_count": 11,
   "id": "a4fa2aa5",
   "metadata": {},
   "outputs": [
    {
     "data": {
      "text/html": [
       "<div>\n",
       "<style scoped>\n",
       "    .dataframe tbody tr th:only-of-type {\n",
       "        vertical-align: middle;\n",
       "    }\n",
       "\n",
       "    .dataframe tbody tr th {\n",
       "        vertical-align: top;\n",
       "    }\n",
       "\n",
       "    .dataframe thead th {\n",
       "        text-align: right;\n",
       "    }\n",
       "</style>\n",
       "<table border=\"1\" class=\"dataframe\">\n",
       "  <thead>\n",
       "    <tr style=\"text-align: right;\">\n",
       "      <th></th>\n",
       "      <th>cat</th>\n",
       "      <th>txt</th>\n",
       "    </tr>\n",
       "  </thead>\n",
       "  <tbody>\n",
       "    <tr>\n",
       "      <th>0</th>\n",
       "      <td>sports</td>\n",
       "      <td>bare better gabbert significantli better year ...</td>\n",
       "    </tr>\n",
       "    <tr>\n",
       "      <th>1</th>\n",
       "      <td>sports</td>\n",
       "      <td>fuck duck angel welcom new niner fan</td>\n",
       "    </tr>\n",
       "    <tr>\n",
       "      <th>2</th>\n",
       "      <td>sports</td>\n",
       "      <td>draft wr matt millen probabl</td>\n",
       "    </tr>\n",
       "    <tr>\n",
       "      <th>3</th>\n",
       "      <td>sports</td>\n",
       "      <td>donehttpsiimgurcom2yz90pmjpg</td>\n",
       "    </tr>\n",
       "    <tr>\n",
       "      <th>4</th>\n",
       "      <td>sports</td>\n",
       "      <td>noo</td>\n",
       "    </tr>\n",
       "  </tbody>\n",
       "</table>\n",
       "</div>"
      ],
      "text/plain": [
       "      cat                                                txt\n",
       "0  sports  bare better gabbert significantli better year ...\n",
       "1  sports               fuck duck angel welcom new niner fan\n",
       "2  sports                       draft wr matt millen probabl\n",
       "3  sports                       donehttpsiimgurcom2yz90pmjpg\n",
       "4  sports                                                noo"
      ]
     },
     "execution_count": 11,
     "metadata": {},
     "output_type": "execute_result"
    }
   ],
   "source": [
    "# print dataframe after updating the applied stemmer to each row of dataframe's txt column\n",
    "sampledf.head()"
   ]
  },
  {
   "cell_type": "code",
   "execution_count": 12,
   "id": "73039993",
   "metadata": {},
   "outputs": [],
   "source": [
    "sampledf3 = sampledf"
   ]
  },
  {
   "cell_type": "code",
   "execution_count": 13,
   "id": "262a4da9",
   "metadata": {},
   "outputs": [
    {
     "name": "stderr",
     "output_type": "stream",
     "text": [
      "<ipython-input-13-8e3e7fec068a>:2: SettingWithCopyWarning: \n",
      "A value is trying to be set on a copy of a slice from a DataFrame.\n",
      "Try using .loc[row_indexer,col_indexer] = value instead\n",
      "\n",
      "See the caveats in the documentation: https://pandas.pydata.org/pandas-docs/stable/user_guide/indexing.html#returning-a-view-versus-a-copy\n",
      "  sampledf3['category_id'] = sampledf3['cat'].factorize()[0]\n"
     ]
    },
    {
     "data": {
      "text/html": [
       "<div>\n",
       "<style scoped>\n",
       "    .dataframe tbody tr th:only-of-type {\n",
       "        vertical-align: middle;\n",
       "    }\n",
       "\n",
       "    .dataframe tbody tr th {\n",
       "        vertical-align: top;\n",
       "    }\n",
       "\n",
       "    .dataframe thead th {\n",
       "        text-align: right;\n",
       "    }\n",
       "</style>\n",
       "<table border=\"1\" class=\"dataframe\">\n",
       "  <thead>\n",
       "    <tr style=\"text-align: right;\">\n",
       "      <th></th>\n",
       "      <th>cat</th>\n",
       "      <th>txt</th>\n",
       "      <th>category_id</th>\n",
       "    </tr>\n",
       "  </thead>\n",
       "  <tbody>\n",
       "    <tr>\n",
       "      <th>0</th>\n",
       "      <td>sports</td>\n",
       "      <td>bare better gabbert significantli better year ...</td>\n",
       "      <td>0</td>\n",
       "    </tr>\n",
       "    <tr>\n",
       "      <th>1</th>\n",
       "      <td>sports</td>\n",
       "      <td>fuck duck angel welcom new niner fan</td>\n",
       "      <td>0</td>\n",
       "    </tr>\n",
       "    <tr>\n",
       "      <th>2</th>\n",
       "      <td>sports</td>\n",
       "      <td>draft wr matt millen probabl</td>\n",
       "      <td>0</td>\n",
       "    </tr>\n",
       "    <tr>\n",
       "      <th>3</th>\n",
       "      <td>sports</td>\n",
       "      <td>donehttpsiimgurcom2yz90pmjpg</td>\n",
       "      <td>0</td>\n",
       "    </tr>\n",
       "    <tr>\n",
       "      <th>4</th>\n",
       "      <td>sports</td>\n",
       "      <td>noo</td>\n",
       "      <td>0</td>\n",
       "    </tr>\n",
       "  </tbody>\n",
       "</table>\n",
       "</div>"
      ],
      "text/plain": [
       "      cat                                                txt  category_id\n",
       "0  sports  bare better gabbert significantli better year ...            0\n",
       "1  sports               fuck duck angel welcom new niner fan            0\n",
       "2  sports                       draft wr matt millen probabl            0\n",
       "3  sports                       donehttpsiimgurcom2yz90pmjpg            0\n",
       "4  sports                                                noo            0"
      ]
     },
     "execution_count": 13,
     "metadata": {},
     "output_type": "execute_result"
    }
   ],
   "source": [
    "from io import StringIO\n",
    "sampledf3['category_id'] = sampledf3['cat'].factorize()[0]\n",
    "category_id_df = sampledf3[['cat', 'category_id']].drop_duplicates().sort_values('category_id')\n",
    "category_to_id = dict(category_id_df.values)\n",
    "id_to_category = dict(category_id_df[['category_id', 'cat']].values)\n",
    "sampledf3.head()"
   ]
  },
  {
   "cell_type": "code",
   "execution_count": 14,
   "id": "1d61b432",
   "metadata": {},
   "outputs": [
    {
     "data": {
      "image/png": "[encoded data removed]",
      "text/plain": [
       "<Figure size 576x432 with 1 Axes>"
      ]
     },
     "metadata": {
      "needs_background": "light"
     },
     "output_type": "display_data"
    }
   ],
   "source": [
    "# verifying Imbalanced Classes\n",
    "import matplotlib.pyplot as plt\n",
    "fig = plt.figure(figsize=(8,6))\n",
    "sampledf3.groupby('cat').txt.count().plot.bar(ylim=0)\n",
    "plt.show()"
   ]
  },
  {
   "cell_type": "code",
   "execution_count": 15,
   "id": "4f6e09ef",
   "metadata": {},
   "outputs": [
    {
     "name": "stdout",
     "output_type": "stream",
     "text": [
      "Index(['cat', 'txt', 'category_id'], dtype='object')\n"
     ]
    }
   ],
   "source": [
    "print(sampledf3.columns)"
   ]
  },
  {
   "cell_type": "code",
   "execution_count": 16,
   "id": "7326ee22",
   "metadata": {},
   "outputs": [],
   "source": [
    "sampledf4 = sampledf3.head(40000)\n",
    "sampledf5 = sampledf4"
   ]
  },
  {
   "cell_type": "code",
   "execution_count": 17,
   "id": "ca980754",
   "metadata": {},
   "outputs": [],
   "source": [
    "# Convert each entry into a term frequency-inverse document frequency (tfidf) vector\n",
    "#### Weighted Word Importance\n",
    "#### here we are comparing the frequence of words in a document (a tweet, moview review speech transcripyt) \n",
    "#### with the frequency of words in all other documents using term frequency-inverse document frequency\n",
    "# import libraries\n",
    "from sklearn.feature_extraction.text import TfidfVectorizer\n",
    "ftidf = TfidfVectorizer()"
   ]
  },
  {
   "cell_type": "code",
   "execution_count": 18,
   "id": "79a8bc4f",
   "metadata": {},
   "outputs": [
    {
     "data": {
      "text/plain": [
       "(40000, 15229)"
      ]
     },
     "execution_count": 18,
     "metadata": {},
     "output_type": "execute_result"
    }
   ],
   "source": [
    "from sklearn.feature_extraction.text import TfidfVectorizer\n",
    "tfidf = TfidfVectorizer(sublinear_tf=True, min_df=5, norm='l2', encoding='latin-1', ngram_range=(1, 2), stop_words='english')\n",
    "features = tfidf.fit_transform(sampledf4.txt).toarray()\n",
    "labels = sampledf4.category_id\n",
    "features.shape"
   ]
  },
  {
   "cell_type": "code",
   "execution_count": 19,
   "id": "6b390fb7",
   "metadata": {},
   "outputs": [],
   "source": [
    "from sklearn.model_selection import train_test_split\n",
    "from sklearn.feature_extraction.text import CountVectorizer\n",
    "from sklearn.feature_extraction.text import TfidfTransformer\n",
    "from sklearn.naive_bayes import MultinomialNB\n",
    "X_train, X_test, y_train, y_test = train_test_split(sampledf4['txt'], sampledf4['category_id'], random_state = 0)\n",
    "count_vect = CountVectorizer()\n",
    "X_train_counts = count_vect.fit_transform(X_train)\n",
    "tfidf_transformer = TfidfTransformer()\n",
    "X_train_tfidf = tfidf_transformer.fit_transform(X_train_counts).toarray()\n",
    "#clf = MultinomialNB().fit(X_train_tfidf, y_train)"
   ]
  },
  {
   "cell_type": "code",
   "execution_count": 20,
   "id": "c9958834",
   "metadata": {},
   "outputs": [
    {
     "name": "stdout",
     "output_type": "stream",
     "text": [
      "(30000,)\n",
      "(10000,)\n",
      "(30000,)\n",
      "(10000,)\n",
      "(30000, 24587)\n"
     ]
    }
   ],
   "source": [
    "print(X_train.shape); print(X_test.shape); print(y_train.shape); print(y_test.shape);print(X_train_tfidf.shape)"
   ]
  },
  {
   "cell_type": "code",
   "execution_count": 21,
   "id": "1287d177",
   "metadata": {},
   "outputs": [
    {
     "name": "stderr",
     "output_type": "stream",
     "text": [
      "C:\\ProgramData\\Anaconda3\\lib\\site-packages\\sklearn\\neural_network\\_multilayer_perceptron.py:582: ConvergenceWarning: Stochastic Optimizer: Maximum iterations (5) reached and the optimization hasn't converged yet.\n",
      "  warnings.warn(\n"
     ]
    },
    {
     "data": {
      "text/plain": [
       "MLPClassifier(hidden_layer_sizes=(500, 500, 500), max_iter=5)"
      ]
     },
     "execution_count": 21,
     "metadata": {},
     "output_type": "execute_result"
    }
   ],
   "source": [
    "from sklearn.neural_network import MLPClassifier\n",
    "\n",
    "mlp = MLPClassifier(hidden_layer_sizes=(500,500,500), activation='relu', solver='adam', max_iter=5)\n",
    "#mlp = MLPClassifier(hidden_layer_sizes=(500, 150))\n",
    "#mlp.fit(X_train,y_train)\n",
    "mlp.fit(X_train_tfidf, y_train)"
   ]
  },
  {
   "cell_type": "code",
   "execution_count": 22,
   "id": "d15301ed",
   "metadata": {},
   "outputs": [],
   "source": [
    "predict_train = mlp.predict(X_train_tfidf)"
   ]
  },
  {
   "cell_type": "code",
   "execution_count": 23,
   "id": "7bd34c54",
   "metadata": {},
   "outputs": [
    {
     "name": "stdout",
     "output_type": "stream",
     "text": [
      "[[10433   739]\n",
      " [   51 18777]]\n",
      "              precision    recall  f1-score   support\n",
      "\n",
      "           0       1.00      0.93      0.96     11172\n",
      "           1       0.96      1.00      0.98     18828\n",
      "\n",
      "    accuracy                           0.97     30000\n",
      "   macro avg       0.98      0.97      0.97     30000\n",
      "weighted avg       0.97      0.97      0.97     30000\n",
      "\n"
     ]
    }
   ],
   "source": [
    "## we can evaluate the performance of the model. Being a classification algorithm, \n",
    "# we will first import the required modules, which is done in the first line of code below. \n",
    "# The second and third lines of code print the confusion matrix and the confusion report results on the training data.\n",
    "from sklearn.metrics import classification_report,confusion_matrix\n",
    "print(confusion_matrix(y_train,predict_train))\n",
    "print(classification_report(y_train,predict_train))\n",
    "#print(classification_report(y_train,predict_train))\n",
    "#print(confusion_matrix(y_train.argmax(axis=1),predict_train.argmax(axis=1)))"
   ]
  },
  {
   "cell_type": "code",
   "execution_count": 24,
   "id": "4a50f50f",
   "metadata": {},
   "outputs": [],
   "source": [
    "## The above output shows the performance of the model on training data. The accuracy and the F1 score is around 0.98 and 0.99 "
   ]
  },
  {
   "cell_type": "code",
   "execution_count": 25,
   "id": "0b44aadb",
   "metadata": {},
   "outputs": [],
   "source": [
    "X_test_counts = count_vect.fit_transform(X_test)\n",
    "tfidf_transformer = TfidfTransformer()\n",
    "X_test_tfidf = tfidf_transformer.fit_transform(X_test_counts).toarray()"
   ]
  },
  {
   "cell_type": "code",
   "execution_count": 26,
   "id": "a24382bd",
   "metadata": {},
   "outputs": [
    {
     "data": {
      "text/plain": [
       "(10000, 13354)"
      ]
     },
     "execution_count": 26,
     "metadata": {},
     "output_type": "execute_result"
    }
   ],
   "source": [
    "X_test_tfidf.shape"
   ]
  },
  {
   "cell_type": "code",
   "execution_count": 27,
   "id": "d60f9533",
   "metadata": {},
   "outputs": [],
   "source": [
    "X_test1_tfidf = np.resize(X_test_tfidf, (10000, 24587))"
   ]
  },
  {
   "cell_type": "code",
   "execution_count": 28,
   "id": "03b1a741",
   "metadata": {},
   "outputs": [
    {
     "data": {
      "text/plain": [
       "(10000, 24587)"
      ]
     },
     "execution_count": 28,
     "metadata": {},
     "output_type": "execute_result"
    }
   ],
   "source": [
    "X_test1_tfidf.shape"
   ]
  },
  {
   "cell_type": "code",
   "execution_count": 29,
   "id": "92dc75b6",
   "metadata": {},
   "outputs": [],
   "source": [
    "predict_test = mlp.predict(X_test1_tfidf)"
   ]
  },
  {
   "cell_type": "code",
   "execution_count": 30,
   "id": "79b49083",
   "metadata": {},
   "outputs": [
    {
     "name": "stdout",
     "output_type": "stream",
     "text": [
      "[[1688 2029]\n",
      " [2858 3425]]\n",
      "              precision    recall  f1-score   support\n",
      "\n",
      "           0       0.37      0.45      0.41      3717\n",
      "           1       0.63      0.55      0.58      6283\n",
      "\n",
      "    accuracy                           0.51     10000\n",
      "   macro avg       0.50      0.50      0.50     10000\n",
      "weighted avg       0.53      0.51      0.52     10000\n",
      "\n"
     ]
    }
   ],
   "source": [
    "print(confusion_matrix(y_test,predict_test))\n",
    "print(classification_report(y_test,predict_test))"
   ]
  },
  {
   "cell_type": "code",
   "execution_count": 31,
   "id": "8419fdc4",
   "metadata": {},
   "outputs": [],
   "source": [
    "## The above output shows the performance of the model on test data. The accuracy and the F1 score is around 0.54 and 0.53 "
   ]
  },
  {
   "cell_type": "markdown",
   "id": "6a378b56",
   "metadata": {},
   "source": [
    "### Neural Network Classifier with Keras"
   ]
  },
  {
   "cell_type": "code",
   "execution_count": 32,
   "id": "ba5fa3f0",
   "metadata": {},
   "outputs": [],
   "source": [
    "# Keras specific\n",
    "import keras\n",
    "from keras.models import Sequential\n",
    "from keras.layers import Dense\n",
    "from tensorflow.keras.utils import to_categorical"
   ]
  },
  {
   "cell_type": "code",
   "execution_count": 33,
   "id": "6b04d83c",
   "metadata": {},
   "outputs": [
    {
     "name": "stdout",
     "output_type": "stream",
     "text": [
      "2\n"
     ]
    }
   ],
   "source": [
    "# Since our target variable represents a binary category which has been coded as numbers 0 and 1, we will have to encode it. \n",
    "# We can easily achieve that using the \"to_categorical\" function from the Keras utilities package. \n",
    "# The two lines of code below accomplishes that in both training and test datasets.\n",
    "# one hot encode outputs\n",
    "y_train2 = to_categorical(y_train)\n",
    "y_test2 = to_categorical(y_test)\n",
    "\n",
    "count_classes = y_test2.shape[1]\n",
    "print(count_classes)"
   ]
  },
  {
   "cell_type": "code",
   "execution_count": 34,
   "id": "ad50d4a0",
   "metadata": {},
   "outputs": [
    {
     "name": "stdout",
     "output_type": "stream",
     "text": [
      "(30000, 24587) (30000, 2)\n"
     ]
    }
   ],
   "source": [
    "print(X_train_tfidf.shape, y_train2.shape)"
   ]
  },
  {
   "cell_type": "code",
   "execution_count": 47,
   "id": "8378cea5",
   "metadata": {},
   "outputs": [],
   "source": [
    "# downsizeing the records due to memorry issue\\n\",\n",
    "X_train5 = X_train.head(100)"
   ]
  },
  {
   "cell_type": "code",
   "execution_count": 41,
   "id": "c5a81e91",
   "metadata": {},
   "outputs": [],
   "source": [
    "# converting words to numbers\n",
    "count = CountVectorizer()\n",
    "bag_of_words = count.fit_transform(X_train5.to_numpy())\n",
    "X_train4 = bag_of_words.toarray()"
   ]
  },
  {
   "cell_type": "code",
   "execution_count": 43,
   "id": "92716012",
   "metadata": {},
   "outputs": [
    {
     "name": "stdout",
     "output_type": "stream",
     "text": [
      "(100, 747) (30000, 2)\n"
     ]
    }
   ],
   "source": [
    "print(X_train4.shape, y_train2.shape)"
   ]
  },
  {
   "cell_type": "code",
   "execution_count": 59,
   "id": "b5cc7f99",
   "metadata": {},
   "outputs": [],
   "source": [
    "y_train4 = np.resize(y_train2, (100, 2))"
   ]
  },
  {
   "cell_type": "code",
   "execution_count": 60,
   "id": "8c80c314",
   "metadata": {},
   "outputs": [
    {
     "data": {
      "text/plain": [
       "(100, 2)"
      ]
     },
     "execution_count": 60,
     "metadata": {},
     "output_type": "execute_result"
    }
   ],
   "source": [
    "y_train4.shape"
   ]
  },
  {
   "cell_type": "code",
   "execution_count": 53,
   "id": "d1db5a0b",
   "metadata": {},
   "outputs": [],
   "source": [
    "model = Sequential()\n",
    "model.add(Dense(500, activation='relu', input_dim=747))\n",
    "model.add(Dense(100, activation='relu'))\n",
    "model.add(Dense(50, activation='relu'))\n",
    "model.add(Dense(2, activation='softmax'))\n",
    "\n",
    "# Compile the model\n",
    "model.compile(loss='categorical_crossentropy', optimizer='adam', metrics=['accuracy'])"
   ]
  },
  {
   "cell_type": "code",
   "execution_count": 61,
   "id": "47a65f89",
   "metadata": {},
   "outputs": [
    {
     "name": "stdout",
     "output_type": "stream",
     "text": [
      "Epoch 1/20\n",
      "4/4 [==============================] - 1s 43ms/step - loss: 0.6917 - accuracy: 0.5200\n",
      "Epoch 2/20\n",
      "4/4 [==============================] - 0s 31ms/step - loss: 0.5592 - accuracy: 0.7200\n",
      "Epoch 3/20\n",
      "4/4 [==============================] - 0s 39ms/step - loss: 0.4653 - accuracy: 0.7900\n",
      "Epoch 4/20\n",
      "4/4 [==============================] - 0s 42ms/step - loss: 0.3845 - accuracy: 0.9200\n",
      "Epoch 5/20\n",
      "4/4 [==============================] - 0s 37ms/step - loss: 0.3066 - accuracy: 0.9700\n",
      "Epoch 6/20\n",
      "4/4 [==============================] - 0s 31ms/step - loss: 0.2354 - accuracy: 0.9800\n",
      "Epoch 7/20\n",
      "4/4 [==============================] - 0s 28ms/step - loss: 0.1711 - accuracy: 0.9900\n",
      "Epoch 8/20\n",
      "4/4 [==============================] - 0s 29ms/step - loss: 0.1218 - accuracy: 0.9900\n",
      "Epoch 9/20\n",
      "4/4 [==============================] - 0s 31ms/step - loss: 0.0862 - accuracy: 0.9900\n",
      "Epoch 10/20\n",
      "4/4 [==============================] - 0s 31ms/step - loss: 0.0614 - accuracy: 0.9900\n",
      "Epoch 11/20\n",
      "4/4 [==============================] - 0s 33ms/step - loss: 0.0454 - accuracy: 0.9900\n",
      "Epoch 12/20\n",
      "4/4 [==============================] - 0s 40ms/step - loss: 0.0360 - accuracy: 0.9900\n",
      "Epoch 13/20\n",
      "4/4 [==============================] - 0s 40ms/step - loss: 0.0315 - accuracy: 0.9900\n",
      "Epoch 14/20\n",
      "4/4 [==============================] - 0s 33ms/step - loss: 0.0251 - accuracy: 0.9900\n",
      "Epoch 15/20\n",
      "4/4 [==============================] - 0s 33ms/step - loss: 0.0316 - accuracy: 0.9800\n",
      "Epoch 16/20\n",
      "4/4 [==============================] - ETA: 0s - loss: 0.0330 - accuracy: 0.98 - 0s 48ms/step - loss: 0.0330 - accuracy: 0.9800\n",
      "Epoch 17/20\n",
      "4/4 [==============================] - 0s 34ms/step - loss: 0.0311 - accuracy: 0.9800\n",
      "Epoch 18/20\n",
      "4/4 [==============================] - 0s 29ms/step - loss: 0.0285 - accuracy: 0.9800\n",
      "Epoch 19/20\n",
      "4/4 [==============================] - 0s 46ms/step - loss: 0.0248 - accuracy: 0.9700\n",
      "Epoch 20/20\n",
      "4/4 [==============================] - 0s 35ms/step - loss: 0.0217 - accuracy: 0.9900\n"
     ]
    },
    {
     "data": {
      "text/plain": [
       "<keras.callbacks.History at 0x17cf23997f0>"
      ]
     },
     "execution_count": 61,
     "metadata": {},
     "output_type": "execute_result"
    }
   ],
   "source": [
    "import tensorflow as tf\n",
    "# build the model\n",
    "tf.config.run_functions_eagerly(True)\n",
    "#model.fit(X_train, y_train, epochs=20)\n",
    "model.fit(X_train4, y_train4, epochs=20)"
   ]
  },
  {
   "cell_type": "code",
   "execution_count": 62,
   "id": "eb8b38d7",
   "metadata": {},
   "outputs": [],
   "source": [
    "from sklearn.metrics import f1_score, precision_score, recall_score, confusion_matrix\n",
    "y_pred1 = model.predict(X_train4)\n",
    "y_pred = np.argmax(y_pred1, axis=1)"
   ]
  },
  {
   "cell_type": "code",
   "execution_count": 63,
   "id": "c9cf8f3d",
   "metadata": {},
   "outputs": [],
   "source": [
    "y_train6 = np.resize(y_train2, (100))"
   ]
  },
  {
   "cell_type": "code",
   "execution_count": 64,
   "id": "2f6a8ca7",
   "metadata": {},
   "outputs": [
    {
     "name": "stdout",
     "output_type": "stream",
     "text": [
      "[[16 34]\n",
      " [19 31]]\n",
      "              precision    recall  f1-score   support\n",
      "\n",
      "         0.0       0.46      0.32      0.38        50\n",
      "         1.0       0.48      0.62      0.54        50\n",
      "\n",
      "    accuracy                           0.47       100\n",
      "   macro avg       0.47      0.47      0.46       100\n",
      "weighted avg       0.47      0.47      0.46       100\n",
      "\n"
     ]
    }
   ],
   "source": [
    "from sklearn.metrics import classification_report,confusion_matrix\n",
    "print(confusion_matrix(y_train6,y_pred))\n",
    "print(classification_report(y_train6,y_pred))"
   ]
  },
  {
   "cell_type": "code",
   "execution_count": null,
   "id": "a2469fac",
   "metadata": {},
   "outputs": [],
   "source": [
    "## The above output shows the performance of the model on train data. The accuracy and the F1 score is around 0.47 and 0.46"
   ]
  },
  {
   "cell_type": "code",
   "execution_count": 65,
   "id": "de139fa7",
   "metadata": {},
   "outputs": [
    {
     "data": {
      "text/plain": [
       "(10000,)"
      ]
     },
     "execution_count": 65,
     "metadata": {},
     "output_type": "execute_result"
    }
   ],
   "source": [
    "X_test.shape"
   ]
  },
  {
   "cell_type": "code",
   "execution_count": 66,
   "id": "f7e7fa9f",
   "metadata": {},
   "outputs": [],
   "source": [
    "#downsizing the test records, due to memory issue\n",
    "X_test3 = X_test.head(100)"
   ]
  },
  {
   "cell_type": "code",
   "execution_count": 67,
   "id": "779b3d97",
   "metadata": {},
   "outputs": [],
   "source": [
    "# converting words to numbers\n",
    "bag_of_words1 = count.fit_transform(X_test3.to_numpy())\n",
    "X_test4 = bag_of_words1.toarray()"
   ]
  },
  {
   "cell_type": "code",
   "execution_count": 68,
   "id": "89cbe0a1",
   "metadata": {},
   "outputs": [
    {
     "data": {
      "text/plain": [
       "(100, 811)"
      ]
     },
     "execution_count": 68,
     "metadata": {},
     "output_type": "execute_result"
    }
   ],
   "source": [
    "X_test4.shape"
   ]
  },
  {
   "cell_type": "code",
   "execution_count": 69,
   "id": "3fea1468",
   "metadata": {},
   "outputs": [],
   "source": [
    "# resizing the array, due to difference in feature of trained model dataset and test model data set\n",
    "X_test6 = np.resize(X_test4, (100, 747))"
   ]
  },
  {
   "cell_type": "code",
   "execution_count": 70,
   "id": "16395d5f",
   "metadata": {},
   "outputs": [],
   "source": [
    "# evaluating the model with test data\n",
    "y_test_pred1 = model.predict(X_test6)\n",
    "y_test_pred = np.argmax(y_pred1, axis=1)"
   ]
  },
  {
   "cell_type": "code",
   "execution_count": 71,
   "id": "c316b6e9",
   "metadata": {},
   "outputs": [],
   "source": [
    "# resizing the array, due to difference in counts of test model dataset and test model data set\n",
    "y_test3 = np.resize(y_test, (100))"
   ]
  },
  {
   "cell_type": "code",
   "execution_count": 72,
   "id": "697f734f",
   "metadata": {},
   "outputs": [
    {
     "name": "stdout",
     "output_type": "stream",
     "text": [
      "[[12 27]\n",
      " [23 38]]\n",
      "              precision    recall  f1-score   support\n",
      "\n",
      "           0       0.34      0.31      0.32        39\n",
      "           1       0.58      0.62      0.60        61\n",
      "\n",
      "    accuracy                           0.50       100\n",
      "   macro avg       0.46      0.47      0.46       100\n",
      "weighted avg       0.49      0.50      0.49       100\n",
      "\n"
     ]
    }
   ],
   "source": [
    "print(confusion_matrix(y_test3,y_test_pred))\n",
    "print(classification_report(y_test3,y_test_pred))"
   ]
  },
  {
   "cell_type": "code",
   "execution_count": 74,
   "id": "1f82a717",
   "metadata": {},
   "outputs": [],
   "source": [
    "## The above output shows the performance of the model on test data. The accuracy and the F1 score is around 0.49 and 0.49 "
   ]
  },
  {
   "cell_type": "markdown",
   "id": "83cbb37f",
   "metadata": {},
   "source": [
    "#### Classifying Images"
   ]
  },
  {
   "cell_type": "code",
   "execution_count": 75,
   "id": "669d267b",
   "metadata": {},
   "outputs": [],
   "source": [
    "from keras.datasets import mnist\n",
    "from keras.models import sequential\n",
    "from keras.layers import Dense, Dropout, Flatten\n",
    "from keras.layers.convolutional import Conv2D, MaxPooling2D\n",
    "from keras.utils import np_utils\n",
    "from keras import backend as k"
   ]
  },
  {
   "cell_type": "code",
   "execution_count": 76,
   "id": "10ace0c6",
   "metadata": {},
   "outputs": [],
   "source": [
    "# ste that the color channel value will be first\n",
    "k.set_image_data_format(\"channels_last\")"
   ]
  },
  {
   "cell_type": "code",
   "execution_count": 77,
   "id": "8b5c2101",
   "metadata": {},
   "outputs": [],
   "source": [
    "#set seed\n",
    "np.random.seed(0)"
   ]
  },
  {
   "cell_type": "code",
   "execution_count": 78,
   "id": "ea1bfeaf",
   "metadata": {},
   "outputs": [],
   "source": [
    "# set image information\n",
    "channels = 1\n",
    "height = 28\n",
    "width =28"
   ]
  },
  {
   "cell_type": "code",
   "execution_count": 79,
   "id": "f1e231db",
   "metadata": {},
   "outputs": [],
   "source": [
    "# load data and target from MNIST data\n",
    "(data_train, target_train), (data_test, target_test) = mnist.load_data()"
   ]
  },
  {
   "cell_type": "code",
   "execution_count": 80,
   "id": "e8c835bb",
   "metadata": {},
   "outputs": [],
   "source": [
    "# reshape training image data into features\n",
    "data_train = data_train.reshape(data_train.shape[0], height, width, channels)"
   ]
  },
  {
   "cell_type": "code",
   "execution_count": 81,
   "id": "4c2ca473",
   "metadata": {},
   "outputs": [],
   "source": [
    "# reshape test image data into features\n",
    "data_test = data_test.reshape(data_test.shape[0], height, width, channels)"
   ]
  },
  {
   "cell_type": "code",
   "execution_count": 83,
   "id": "4fd1da76",
   "metadata": {},
   "outputs": [],
   "source": [
    "# rescsle pixel intensity to between 0 and 1\n",
    "features_train = data_train/255\n",
    "features_test = data_test/255"
   ]
  },
  {
   "cell_type": "code",
   "execution_count": 84,
   "id": "33013da2",
   "metadata": {},
   "outputs": [],
   "source": [
    "# one hot encoding target\n",
    "target_train = np_utils.to_categorical(target_train)\n",
    "target_test = np_utils.to_categorical(target_test)\n",
    "number_of_classes = target_test.shape[1]"
   ]
  },
  {
   "cell_type": "code",
   "execution_count": 85,
   "id": "e232a7b3",
   "metadata": {},
   "outputs": [],
   "source": [
    "# start neural network\n",
    "network = Sequential()"
   ]
  },
  {
   "cell_type": "code",
   "execution_count": 86,
   "id": "5767161b",
   "metadata": {},
   "outputs": [],
   "source": [
    "# add convolutional layer with 64 filters \n",
    "network.add(Conv2D(filters = 64, kernel_size=(5, 5), input_shape=(height, width, channels), activation='relu'))\n",
    "\n",
    "#network.add(Conv2D(filters = 64, kernel_size=(5, 5), input_shape= tf.reshape(2, (1, 2, 1)), activation='relu'))"
   ]
  },
  {
   "cell_type": "code",
   "execution_count": 87,
   "id": "784ebcb0",
   "metadata": {},
   "outputs": [],
   "source": [
    "# add max pooling layer\n",
    "network.add(MaxPooling2D(pool_size=(2,2), data_format='channels_last'))"
   ]
  },
  {
   "cell_type": "code",
   "execution_count": 88,
   "id": "5626be8e",
   "metadata": {},
   "outputs": [],
   "source": [
    "# add dropout layer\n",
    "network.add(Dropout(0.5))"
   ]
  },
  {
   "cell_type": "code",
   "execution_count": 89,
   "id": "8b909cbf",
   "metadata": {},
   "outputs": [],
   "source": [
    "network.add(Flatten())"
   ]
  },
  {
   "cell_type": "code",
   "execution_count": 90,
   "id": "f9c92300",
   "metadata": {},
   "outputs": [],
   "source": [
    "network.add(Dense(128, activation=\"relu\"))"
   ]
  },
  {
   "cell_type": "code",
   "execution_count": 91,
   "id": "f6286ad9",
   "metadata": {},
   "outputs": [],
   "source": [
    "#add dropout layer\n",
    "network.add(Dropout(0.5))"
   ]
  },
  {
   "cell_type": "code",
   "execution_count": 92,
   "id": "d1cd7ef6",
   "metadata": {},
   "outputs": [],
   "source": [
    "# Add dropout layer\n",
    "network.add(Dense(number_of_classes, activation=\"softmax\"))"
   ]
  },
  {
   "cell_type": "code",
   "execution_count": 93,
   "id": "2fde3778",
   "metadata": {},
   "outputs": [],
   "source": [
    "# compile neural network\\\n",
    "network.compile(loss=\"categorical_crossentropy\", optimizer = \"rmsprop\", metrics=[\"accuracy\"])"
   ]
  },
  {
   "cell_type": "code",
   "execution_count": 94,
   "id": "01ae899c",
   "metadata": {},
   "outputs": [
    {
     "name": "stdout",
     "output_type": "stream",
     "text": [
      "(60000, 28, 28, 1)\n",
      "(60000, 10)\n",
      "(10000, 28, 28, 1)\n",
      "(10000, 10)\n"
     ]
    },
    {
     "data": {
      "text/plain": [
       "(None, None)"
      ]
     },
     "execution_count": 94,
     "metadata": {},
     "output_type": "execute_result"
    }
   ],
   "source": [
    "print(features_train.shape); print(target_train.shape); print(features_test.shape), print(target_test.shape)"
   ]
  },
  {
   "cell_type": "code",
   "execution_count": 95,
   "id": "a56a8078",
   "metadata": {},
   "outputs": [
    {
     "data": {
      "text/plain": [
       "<keras.callbacks.History at 0x17cf1fab5e0>"
      ]
     },
     "execution_count": 95,
     "metadata": {},
     "output_type": "execute_result"
    }
   ],
   "source": [
    "# train neural network\n",
    "network.fit(features_train, target_train, epochs=2, verbose=0, batch_size=1000, validation_data=(features_test, target_test))"
   ]
  },
  {
   "cell_type": "code",
   "execution_count": null,
   "id": "b2108410",
   "metadata": {},
   "outputs": [],
   "source": []
  }
 ],
 "metadata": {
  "kernelspec": {
   "display_name": "Python 3",
   "language": "python",
   "name": "python3"
  },
  "language_info": {
   "codemirror_mode": {
    "name": "ipython",
    "version": 3
   },
   "file_extension": ".py",
   "mimetype": "text/x-python",
   "name": "python",
   "nbconvert_exporter": "python",
   "pygments_lexer": "ipython3",
   "version": "3.8.8"
  }
 },
 "nbformat": 4,
 "nbformat_minor": 5
}
